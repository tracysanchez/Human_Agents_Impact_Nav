{
 "cells": [
  {
   "cell_type": "code",
   "execution_count": 1,
   "id": "8b59f4a6",
   "metadata": {},
   "outputs": [],
   "source": [
    "import pandas as pd\n",
    "import os\n",
    "import glob\n",
    "import re "
   ]
  },
  {
   "cell_type": "code",
   "execution_count": 2,
   "id": "8ddc64eb",
   "metadata": {},
   "outputs": [],
   "source": [
    "# Since the collider names are too detailed, here we create a dictionary with patterns to classify them into our categories of interest\n",
    "\n",
    "patterns = {'\\d{2}_Sa':'Passive_Agent', '\\d{2}_Cma':'Active_Agent', 'Building_\\d+': 'Building'}\n",
    "patterns.update(dict.fromkeys(['Castle-TaskBuilding_56', 'Crane_59','HighSilo-TaskBuilding_49', 'Windmill-TaskBuilding_10_1', 'Church-TaskBuilding_16'], 'Global_Landmark'))\n",
    "patterns.update(dict.fromkeys(['^TaskBuilding_2$','^TaskBuilding_3$', '^TaskBuilding_5$', '^TaskBuilding_8$', '^TaskBuilding_9$', '^TaskBuilding_11$', '^TaskBuilding_13$', '^TaskBuilding_14$', '^TaskBuilding_20$', \n",
    "                               '^TaskBuilding_21$', '^TaskBuilding_23$','^TaskBuilding_27$', '^TaskBuilding_29$', '^TaskBuilding_32$', '^TaskBuilding_34$',  '^TaskBuilding_38$', '^TaskBuilding_41$', '^TaskBuilding_42$', \n",
    "                               '^TaskBuilding_44$', '^TaskBuilding_45$', '^TaskBuilding_47$', '^TaskBuilding_50$', '^TaskBuilding_51$', '^TaskBuilding_52$', 'BasketballCourt_58', 'Construction_57', \n",
    "                               '^Graffity_02$', '^Graffity_03$', '^Graffity_05$', '^Graffity_08$', '^Graffity_09$', '^Graffity_11$', '^Graffity_13$', '^Graffity_14$', '^Graffity_20$', \n",
    "                               '^Graffity_21$', '^Graffity_23$', '^Graffity_27$', '^Graffity_29$', '^Graffity_32$', '^Graffity_34$', '^Graffity_38$', '^Graffity_41$', '^Graffity_42$', \n",
    "                               '^Graffity_44$', '^Graffity_45$', '^Graffity_47$',  '^Graffity_50$', '^Graffity_51$', '^Graffity_52$'], 'TaskBuilding_Public'))\n",
    "\n",
    "patterns.update(dict.fromkeys(['^TaskBuilding_1$','^TaskBuilding_4$', '^TaskBuilding_6$', '^TaskBuilding_7$', '^TaskBuilding_12$', '^TaskBuilding_15$', '^TaskBuilding_17$', '^TaskBuilding_18$', '^TaskBuilding_19$', \n",
    "                               '^TaskBuilding_22$', '^TaskBuilding_24$','^TaskBuilding_25$', '^TaskBuilding_26$', '^TaskBuilding_28$', '^TaskBuilding_30$',  '^TaskBuilding_31$', '^TaskBuilding_33$', '^TaskBuilding_35$', \n",
    "                               '^TaskBuilding_36$', '^TaskBuilding_37$', '^TaskBuilding_39$', '^TaskBuilding_40$', '^TaskBuilding_43$', '^TaskBuilding_48$', '^TaskBuilding_54$','^TaskBuilding_55$',\n",
    "                               '^Graffity_01$','^Graffity_04$', '^Graffity_06$', '^Graffity_07$', '^Graffity_12$', '^Graffity_15$', '^Graffity_17$', '^Graffity_18$', '^Graffity_19$', '^Graffity_22$', \n",
    "                               '^Graffity_24$','^Graffity_25$', '^Graffity_26$', '^Graffity_28$', '^Graffity_30$',  '^Graffity_31$', '^Graffity_33$', '^Graffity_35$', '^Graffity_36$', '^Graffity_37$', '^Graffity_39$', \n",
    "                               '^Graffity_40$', '^Graffity_43$', '^Graffity_48$', '^Graffity_54$', '^Graffity_55$' ], 'TaskBuilding_Residential'))\n",
    "default_val = 'Background'"
   ]
  },
  {
   "cell_type": "code",
   "execution_count": 3,
   "id": "79f9771f",
   "metadata": {},
   "outputs": [
    {
     "name": "stdout",
     "output_type": "stream",
     "text": [
      "General entropy log saved to /Volumes/TwoTeras/0_Experiment_1/Entropy_Results/entropy_log_Window_reduced.csv\n"
     ]
    }
   ],
   "source": [
    "# Define the directory where individual entropy results are saved\n",
    "output_entropy_dir = \"/Volumes/TwoTeras/0_Experiment_1/Entropy_Results/Window/entropy_results/Chao_Shen/\"\n",
    "entropy_log_path = \"/Volumes/TwoTeras/0_Experiment_1/Entropy_Results/entropy_log_Window_reduced.csv\"\n",
    "\n",
    "# Get list of all entropy result CSV files\n",
    "entropy_files = glob.glob(os.path.join(output_entropy_dir, \"*.csv\"))\n",
    "\n",
    "# Initialize a list to collect DataFrames\n",
    "dfs = []\n",
    "\n",
    "# Loop through each file and append its DataFrame with additional columns\n",
    "for file in entropy_files:\n",
    "    try:\n",
    "        # Extract Participant_ID and Session from the file name (assuming format participantID_Session.csv)\n",
    "        filename = os.path.basename(file)\n",
    "        participant_id, session = filename.split(\"_\")[2], filename.split(\"_\")[3].split(\".\")[0]\n",
    "        \n",
    "        # Read the file\n",
    "        df = pd.read_csv(file)\n",
    "\n",
    "        # Add Participant_ID and Session columns\n",
    "        df['Participant_ID'] = participant_id\n",
    "        df['Session'] = session\n",
    "\n",
    "        # Append to the list of DataFrames\n",
    "        dfs.append(df)\n",
    "    except Exception as e:\n",
    "        print(f\"Error reading file {file}: {e}\")\n",
    "\n",
    "# Concatenate all DataFrames into one\n",
    "if dfs:\n",
    "    general_entropy_df = pd.concat(dfs, ignore_index=True)\n",
    "\n",
    "    # Create the new column Agent_ID\n",
    "    general_entropy_df['Agent_ID'] = general_entropy_df['Collider_Name'].str[:2]\n",
    "    # Apply the patterns to classify Collider_CategoricalN\n",
    "    #general_entropy_df['Category'] = general_entropy_df['Collider_Name'].apply( lambda x: next((val for key, val in patterns.items() if re.match(key, x)), default_val))\n",
    "    \n",
    "    # Create the new column Agent_Type\n",
    "    general_entropy_df['Agent_Type'] = general_entropy_df['Agent_ID'].astype(int).apply(lambda x: 'Active' if x < 28 else 'Passive')\n",
    "    general_entropy_df['Experiment'] = 1\n",
    "\n",
    "    # Save the concatenated DataFrame\n",
    "    general_entropy_df.to_csv(entropy_log_path, index=False)\n",
    "    print(f\"General entropy log saved to {entropy_log_path}\")\n",
    "else:\n",
    "    print(\"No entropy result files found or unable to concatenate.\")\n"
   ]
  },
  {
   "cell_type": "code",
   "execution_count": 4,
   "id": "af2f77b5",
   "metadata": {},
   "outputs": [
    {
     "data": {
      "text/plain": [
       "8"
      ]
     },
     "execution_count": 4,
     "metadata": {},
     "output_type": "execute_result"
    }
   ],
   "source": [
    "len(general_entropy_df[general_entropy_df.Chao_Shen_Overall_Transition_Entropy  > 1])"
   ]
  },
  {
   "cell_type": "code",
   "execution_count": 5,
   "id": "d5e23875",
   "metadata": {},
   "outputs": [
    {
     "data": {
      "text/plain": [
       "4923"
      ]
     },
     "execution_count": 5,
     "metadata": {},
     "output_type": "execute_result"
    }
   ],
   "source": [
    "len(general_entropy_df)"
   ]
  },
  {
   "cell_type": "code",
   "execution_count": 6,
   "id": "adcfb9ce",
   "metadata": {},
   "outputs": [
    {
     "name": "stdout",
     "output_type": "stream",
     "text": [
      "<class 'pandas.core.frame.DataFrame'>\n",
      "RangeIndex: 4923 entries, 0 to 4922\n",
      "Data columns (total 17 columns):\n",
      " #   Column                                        Non-Null Count  Dtype  \n",
      "---  ------                                        --------------  -----  \n",
      " 0   Trial_ID                                      4923 non-null   object \n",
      " 1   Collider_Name                                 4923 non-null   object \n",
      " 2   Occurrence_Order                              4923 non-null   int64  \n",
      " 3   Gaze_Sequence_Length                          4923 non-null   int64  \n",
      " 4   Chao_Shen_Overall_Transition_Entropy          4923 non-null   float64\n",
      " 5   Window_Start                                  4923 non-null   object \n",
      " 6   Window_End                                    4923 non-null   object \n",
      " 7   Chao_Shen_Transition_Entropy_Agent            4923 non-null   float64\n",
      " 8   Chao_Shen_Transition_Entropy_Task_Building    4753 non-null   float64\n",
      " 9   Chao_Shen_Transition_Entropy_Background       4907 non-null   float64\n",
      " 10  Chao_Shen_Transition_Entropy_Building         4835 non-null   float64\n",
      " 11  Chao_Shen_Transition_Entropy_Global_Landmark  1217 non-null   float64\n",
      " 12  Participant_ID                                4923 non-null   object \n",
      " 13  Session                                       4923 non-null   object \n",
      " 14  Agent_ID                                      4923 non-null   object \n",
      " 15  Agent_Type                                    4923 non-null   object \n",
      " 16  Experiment                                    4923 non-null   int64  \n",
      "dtypes: float64(6), int64(3), object(8)\n",
      "memory usage: 654.0+ KB\n"
     ]
    }
   ],
   "source": [
    "general_entropy_df.info()"
   ]
  },
  {
   "cell_type": "code",
   "execution_count": 7,
   "id": "0c5a68bf",
   "metadata": {},
   "outputs": [],
   "source": [
    "# Create the new column Agent_ID\n",
    "general_entropy_df['Agent_ID'] = general_entropy_df['Collider_Name'].str[:2]"
   ]
  },
  {
   "cell_type": "code",
   "execution_count": 8,
   "id": "d0af6ca1",
   "metadata": {},
   "outputs": [
    {
     "name": "stdout",
     "output_type": "stream",
     "text": [
      "<class 'pandas.core.frame.DataFrame'>\n",
      "RangeIndex: 4923 entries, 0 to 4922\n",
      "Data columns (total 17 columns):\n",
      " #   Column                                        Non-Null Count  Dtype  \n",
      "---  ------                                        --------------  -----  \n",
      " 0   Trial_ID                                      4923 non-null   object \n",
      " 1   Collider_Name                                 4923 non-null   object \n",
      " 2   Occurrence_Order                              4923 non-null   int64  \n",
      " 3   Gaze_Sequence_Length                          4923 non-null   int64  \n",
      " 4   Chao_Shen_Overall_Transition_Entropy          4923 non-null   float64\n",
      " 5   Window_Start                                  4923 non-null   object \n",
      " 6   Window_End                                    4923 non-null   object \n",
      " 7   Chao_Shen_Transition_Entropy_Agent            4923 non-null   float64\n",
      " 8   Chao_Shen_Transition_Entropy_Task_Building    4753 non-null   float64\n",
      " 9   Chao_Shen_Transition_Entropy_Background       4907 non-null   float64\n",
      " 10  Chao_Shen_Transition_Entropy_Building         4835 non-null   float64\n",
      " 11  Chao_Shen_Transition_Entropy_Global_Landmark  1217 non-null   float64\n",
      " 12  Participant_ID                                4923 non-null   object \n",
      " 13  Session                                       4923 non-null   object \n",
      " 14  Agent_ID                                      4923 non-null   object \n",
      " 15  Agent_Type                                    4923 non-null   object \n",
      " 16  Experiment                                    4923 non-null   int64  \n",
      "dtypes: float64(6), int64(3), object(8)\n",
      "memory usage: 654.0+ KB\n"
     ]
    }
   ],
   "source": [
    "general_entropy_df.info()"
   ]
  },
  {
   "cell_type": "code",
   "execution_count": null,
   "id": "e3251211",
   "metadata": {},
   "outputs": [],
   "source": []
  }
 ],
 "metadata": {
  "kernelspec": {
   "display_name": "Python [conda env:base] *",
   "language": "python",
   "name": "conda-base-py"
  },
  "language_info": {
   "codemirror_mode": {
    "name": "ipython",
    "version": 3
   },
   "file_extension": ".py",
   "mimetype": "text/x-python",
   "name": "python",
   "nbconvert_exporter": "python",
   "pygments_lexer": "ipython3",
   "version": "3.12.2"
  }
 },
 "nbformat": 4,
 "nbformat_minor": 5
}
