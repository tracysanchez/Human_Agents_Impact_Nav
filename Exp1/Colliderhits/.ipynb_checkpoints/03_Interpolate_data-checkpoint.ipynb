{
 "cells": [
  {
   "cell_type": "code",
   "execution_count": 1,
   "id": "3d91113f-7a7a-48f4-b342-92e564160582",
   "metadata": {},
   "outputs": [],
   "source": [
    "import pandas as pd \n",
    "import numpy as np\n",
    "import glob\n",
    "import re"
   ]
  },
  {
   "cell_type": "code",
   "execution_count": 2,
   "id": "6f50de05-9776-48af-b1c3-65197d8f9434",
   "metadata": {},
   "outputs": [],
   "source": [
    "def bitmask_flag_change(Data_Frame, colname):\n",
    "    \"\"\" Creates a list of values that flag the change in validity of the Eyetracking data, \n",
    "    diferentiates between the beggining and enf of an invalid event. \n",
    "    \n",
    "Parameters\n",
    "-------------\n",
    "     \n",
    "     :dataframe(DataFrame): your data frame,\n",
    "     :colname(str): Name of the column that containts the validity mask \n",
    "returns \n",
    "----------\n",
    "\n",
    "    List of len DataFrame with values that mark changes on the validity column\n",
    "     \"\"\"\n",
    "    change_flag = [\"No_change\"] # initialize flag \n",
    "    for i in range(1, len(Data_Frame)):\n",
    "        if Data_Frame[colname][i] == Data_Frame[colname][i-1]: # compare each value with the previous value\n",
    "          change_flag.append(\"No_change\") \n",
    "        elif Data_Frame[colname][i] != Data_Frame[colname][i-1]:\n",
    "            if Data_Frame[colname][i] == 3:\n",
    "                  change_flag.append(\"Invalid_Section_Ends\")\n",
    "            elif Data_Frame[colname][i] == 0:\n",
    "                change_flag.append(\"Invalid_Section_Starts\")\n",
    "            else:\n",
    "                change_flag.append(\"ERROR\")\n",
    "    return change_flag"
   ]
  },
  {
   "cell_type": "code",
   "execution_count": 3,
   "id": "c34516f9-7d0a-4695-a4a4-ead583b9fa1a",
   "metadata": {},
   "outputs": [],
   "source": [
    "def median_correction(x):\n",
    "    \"\"\"\n",
    "    Perform 5-point median correction on input signal x.\n",
    "    \"\"\"\n",
    "    y = np.zeros_like(x)\n",
    "    length = len(x)\n",
    "    for i in range(2, length-2):\n",
    "        y[i] = np.nanmedian(x[i-2:i+3])\n",
    "    y[0:2] = np.nanmedian(x[0:5])        \n",
    "    y[length-2:length] = np.nanmedian(x[length-5:length])\n",
    "    return y"
   ]
  },
  {
   "cell_type": "code",
   "execution_count": 4,
   "id": "a6e9c72a-d1f7-4b76-b0d4-b8567af4d825",
   "metadata": {},
   "outputs": [],
   "source": [
    "# Since the collider names are too detailed, here we create a dictionary with patterns to classify them into our categories of interest\n",
    "\n",
    "patterns = {'\\d{2}_Sa':'Passive_Agent', '\\d{2}_Cma':'Active_Agent', 'Building_\\d+': 'Building'}\n",
    "patterns.update(dict.fromkeys(['Castle-TaskBuilding_56', 'Crane_59','HighSilo-TaskBuilding_49', 'Windmill-TaskBuilding_10_1', 'Church-TaskBuilding_16'], 'Global_Landmark'))\n",
    "patterns.update(dict.fromkeys(['^TaskBuilding_2$','^TaskBuilding_3$', '^TaskBuilding_5$', '^TaskBuilding_8$', '^TaskBuilding_9$', '^TaskBuilding_11$', '^TaskBuilding_13$', '^TaskBuilding_14$', '^TaskBuilding_20$', \n",
    "                               '^TaskBuilding_21$', '^TaskBuilding_23$','^TaskBuilding_27$', '^TaskBuilding_29$', '^TaskBuilding_32$', '^TaskBuilding_34$',  '^TaskBuilding_38$', '^TaskBuilding_41$', '^TaskBuilding_42$', \n",
    "                               '^TaskBuilding_44$', '^TaskBuilding_45$', '^TaskBuilding_47$', '^TaskBuilding_50$', '^TaskBuilding_51$', '^TaskBuilding_52$', 'BasketballCourt_58', 'Construction_57', \n",
    "                               '^Graffity_02$', '^Graffity_03$', '^Graffity_05$', '^Graffity_08$', '^Graffity_09$', '^Graffity_11$', '^Graffity_13$', '^Graffity_14$', '^Graffity_20$', \n",
    "                               '^Graffity_21$', '^Graffity_23$', '^Graffity_27$', '^Graffity_29$', '^Graffity_32$', '^Graffity_34$', '^Graffity_38$', '^Graffity_41$', '^Graffity_42$', \n",
    "                               '^Graffity_44$', '^Graffity_45$', '^Graffity_47$',  '^Graffity_50$', '^Graffity_51$', '^Graffity_52$'], 'TaskBuilding_Public'))\n",
    "\n",
    "patterns.update(dict.fromkeys(['^TaskBuilding_1$','^TaskBuilding_4$', '^TaskBuilding_6$', '^TaskBuilding_7$', '^TaskBuilding_12$', '^TaskBuilding_15$', '^TaskBuilding_17$', '^TaskBuilding_18$', '^TaskBuilding_19$', \n",
    "                               '^TaskBuilding_22$', '^TaskBuilding_24$','^TaskBuilding_25$', '^TaskBuilding_26$', '^TaskBuilding_28$', '^TaskBuilding_30$',  '^TaskBuilding_31$', '^TaskBuilding_33$', '^TaskBuilding_35$', \n",
    "                               '^TaskBuilding_36$', '^TaskBuilding_37$', '^TaskBuilding_39$', '^TaskBuilding_40$', '^TaskBuilding_43$', '^TaskBuilding_48$', '^TaskBuilding_54$','^TaskBuilding_55$',\n",
    "                               '^Graffity_01$','^Graffity_04$', '^Graffity_06$', '^Graffity_07$', '^Graffity_12$', '^Graffity_15$', '^Graffity_17$', '^Graffity_18$', '^Graffity_19$', '^Graffity_22$', \n",
    "                               '^Graffity_24$','^Graffity_25$', '^Graffity_26$', '^Graffity_28$', '^Graffity_30$',  '^Graffity_31$', '^Graffity_33$', '^Graffity_35$', '^Graffity_36$', '^Graffity_37$', '^Graffity_39$', \n",
    "                               '^Graffity_40$', '^Graffity_43$', '^Graffity_48$', '^Graffity_54$', '^Graffity_55$' ], 'TaskBuilding_Residential'))\n",
    "default_val = 'Background'"
   ]
  },
  {
   "cell_type": "code",
   "execution_count": 5,
   "id": "6ccb28e0-a29b-4e47-aa74-0ace31892663",
   "metadata": {},
   "outputs": [
    {
     "name": "stderr",
     "output_type": "stream",
     "text": [
      "/Users/tracysanchezpacheco/opt/anaconda3/lib/python3.8/site-packages/numpy/lib/nanfunctions.py:1113: RuntimeWarning: All-NaN slice encountered\n",
      "  r, k = function_base._ureduce(a, func=_nanmedian, axis=axis, out=out,\n"
     ]
    },
    {
     "name": "stdout",
     "output_type": "stream",
     "text": [
      "0365_1\n"
     ]
    },
    {
     "name": "stderr",
     "output_type": "stream",
     "text": [
      "/Users/tracysanchezpacheco/opt/anaconda3/lib/python3.8/site-packages/numpy/lib/nanfunctions.py:1113: RuntimeWarning: All-NaN slice encountered\n",
      "  r, k = function_base._ureduce(a, func=_nanmedian, axis=axis, out=out,\n"
     ]
    },
    {
     "name": "stdout",
     "output_type": "stream",
     "text": [
      "0365_2\n"
     ]
    },
    {
     "name": "stderr",
     "output_type": "stream",
     "text": [
      "/Users/tracysanchezpacheco/opt/anaconda3/lib/python3.8/site-packages/numpy/lib/nanfunctions.py:1113: RuntimeWarning: All-NaN slice encountered\n",
      "  r, k = function_base._ureduce(a, func=_nanmedian, axis=axis, out=out,\n"
     ]
    },
    {
     "name": "stdout",
     "output_type": "stream",
     "text": [
      "0365_3\n"
     ]
    },
    {
     "name": "stderr",
     "output_type": "stream",
     "text": [
      "/Users/tracysanchezpacheco/opt/anaconda3/lib/python3.8/site-packages/numpy/lib/nanfunctions.py:1113: RuntimeWarning: All-NaN slice encountered\n",
      "  r, k = function_base._ureduce(a, func=_nanmedian, axis=axis, out=out,\n"
     ]
    },
    {
     "name": "stdout",
     "output_type": "stream",
     "text": [
      "0365_4\n"
     ]
    },
    {
     "name": "stderr",
     "output_type": "stream",
     "text": [
      "/Users/tracysanchezpacheco/opt/anaconda3/lib/python3.8/site-packages/numpy/lib/nanfunctions.py:1113: RuntimeWarning: All-NaN slice encountered\n",
      "  r, k = function_base._ureduce(a, func=_nanmedian, axis=axis, out=out,\n"
     ]
    },
    {
     "name": "stdout",
     "output_type": "stream",
     "text": [
      "1754_1\n"
     ]
    },
    {
     "name": "stderr",
     "output_type": "stream",
     "text": [
      "/Users/tracysanchezpacheco/opt/anaconda3/lib/python3.8/site-packages/numpy/lib/nanfunctions.py:1113: RuntimeWarning: All-NaN slice encountered\n",
      "  r, k = function_base._ureduce(a, func=_nanmedian, axis=axis, out=out,\n"
     ]
    },
    {
     "name": "stdout",
     "output_type": "stream",
     "text": [
      "1754_2\n"
     ]
    },
    {
     "name": "stderr",
     "output_type": "stream",
     "text": [
      "/Users/tracysanchezpacheco/opt/anaconda3/lib/python3.8/site-packages/numpy/lib/nanfunctions.py:1113: RuntimeWarning: All-NaN slice encountered\n",
      "  r, k = function_base._ureduce(a, func=_nanmedian, axis=axis, out=out,\n"
     ]
    },
    {
     "name": "stdout",
     "output_type": "stream",
     "text": [
      "1754_3\n"
     ]
    },
    {
     "name": "stderr",
     "output_type": "stream",
     "text": [
      "/Users/tracysanchezpacheco/opt/anaconda3/lib/python3.8/site-packages/numpy/lib/nanfunctions.py:1113: RuntimeWarning: All-NaN slice encountered\n",
      "  r, k = function_base._ureduce(a, func=_nanmedian, axis=axis, out=out,\n"
     ]
    },
    {
     "name": "stdout",
     "output_type": "stream",
     "text": [
      "1754_4\n"
     ]
    },
    {
     "name": "stderr",
     "output_type": "stream",
     "text": [
      "/Users/tracysanchezpacheco/opt/anaconda3/lib/python3.8/site-packages/numpy/lib/nanfunctions.py:1113: RuntimeWarning: All-NaN slice encountered\n",
      "  r, k = function_base._ureduce(a, func=_nanmedian, axis=axis, out=out,\n"
     ]
    },
    {
     "name": "stdout",
     "output_type": "stream",
     "text": [
      "1754_5\n"
     ]
    },
    {
     "name": "stderr",
     "output_type": "stream",
     "text": [
      "/Users/tracysanchezpacheco/opt/anaconda3/lib/python3.8/site-packages/numpy/lib/nanfunctions.py:1113: RuntimeWarning: All-NaN slice encountered\n",
      "  r, k = function_base._ureduce(a, func=_nanmedian, axis=axis, out=out,\n"
     ]
    },
    {
     "name": "stdout",
     "output_type": "stream",
     "text": [
      "2258_1\n"
     ]
    },
    {
     "name": "stderr",
     "output_type": "stream",
     "text": [
      "/Users/tracysanchezpacheco/opt/anaconda3/lib/python3.8/site-packages/numpy/lib/nanfunctions.py:1113: RuntimeWarning: All-NaN slice encountered\n",
      "  r, k = function_base._ureduce(a, func=_nanmedian, axis=axis, out=out,\n"
     ]
    },
    {
     "name": "stdout",
     "output_type": "stream",
     "text": [
      "2258_2\n"
     ]
    },
    {
     "name": "stderr",
     "output_type": "stream",
     "text": [
      "/Users/tracysanchezpacheco/opt/anaconda3/lib/python3.8/site-packages/numpy/lib/nanfunctions.py:1113: RuntimeWarning: All-NaN slice encountered\n",
      "  r, k = function_base._ureduce(a, func=_nanmedian, axis=axis, out=out,\n"
     ]
    },
    {
     "name": "stdout",
     "output_type": "stream",
     "text": [
      "2258_3\n"
     ]
    },
    {
     "name": "stderr",
     "output_type": "stream",
     "text": [
      "/Users/tracysanchezpacheco/opt/anaconda3/lib/python3.8/site-packages/numpy/lib/nanfunctions.py:1113: RuntimeWarning: All-NaN slice encountered\n",
      "  r, k = function_base._ureduce(a, func=_nanmedian, axis=axis, out=out,\n"
     ]
    },
    {
     "name": "stdout",
     "output_type": "stream",
     "text": [
      "2258_4\n"
     ]
    },
    {
     "name": "stderr",
     "output_type": "stream",
     "text": [
      "/Users/tracysanchezpacheco/opt/anaconda3/lib/python3.8/site-packages/numpy/lib/nanfunctions.py:1113: RuntimeWarning: All-NaN slice encountered\n",
      "  r, k = function_base._ureduce(a, func=_nanmedian, axis=axis, out=out,\n"
     ]
    },
    {
     "name": "stdout",
     "output_type": "stream",
     "text": [
      "2258_5\n"
     ]
    },
    {
     "name": "stderr",
     "output_type": "stream",
     "text": [
      "/Users/tracysanchezpacheco/opt/anaconda3/lib/python3.8/site-packages/numpy/lib/nanfunctions.py:1113: RuntimeWarning: All-NaN slice encountered\n",
      "  r, k = function_base._ureduce(a, func=_nanmedian, axis=axis, out=out,\n"
     ]
    },
    {
     "name": "stdout",
     "output_type": "stream",
     "text": [
      "2361_2\n"
     ]
    },
    {
     "name": "stderr",
     "output_type": "stream",
     "text": [
      "/Users/tracysanchezpacheco/opt/anaconda3/lib/python3.8/site-packages/numpy/lib/nanfunctions.py:1113: RuntimeWarning: All-NaN slice encountered\n",
      "  r, k = function_base._ureduce(a, func=_nanmedian, axis=axis, out=out,\n"
     ]
    },
    {
     "name": "stdout",
     "output_type": "stream",
     "text": [
      "2361_3\n"
     ]
    },
    {
     "name": "stderr",
     "output_type": "stream",
     "text": [
      "/Users/tracysanchezpacheco/opt/anaconda3/lib/python3.8/site-packages/numpy/lib/nanfunctions.py:1113: RuntimeWarning: All-NaN slice encountered\n",
      "  r, k = function_base._ureduce(a, func=_nanmedian, axis=axis, out=out,\n"
     ]
    },
    {
     "name": "stdout",
     "output_type": "stream",
     "text": [
      "2361_4\n"
     ]
    },
    {
     "name": "stderr",
     "output_type": "stream",
     "text": [
      "/Users/tracysanchezpacheco/opt/anaconda3/lib/python3.8/site-packages/numpy/lib/nanfunctions.py:1113: RuntimeWarning: All-NaN slice encountered\n",
      "  r, k = function_base._ureduce(a, func=_nanmedian, axis=axis, out=out,\n"
     ]
    },
    {
     "name": "stdout",
     "output_type": "stream",
     "text": [
      "2361_5\n"
     ]
    },
    {
     "name": "stderr",
     "output_type": "stream",
     "text": [
      "/Users/tracysanchezpacheco/opt/anaconda3/lib/python3.8/site-packages/numpy/lib/nanfunctions.py:1113: RuntimeWarning: All-NaN slice encountered\n",
      "  r, k = function_base._ureduce(a, func=_nanmedian, axis=axis, out=out,\n"
     ]
    },
    {
     "name": "stdout",
     "output_type": "stream",
     "text": [
      "2693_1\n"
     ]
    },
    {
     "name": "stderr",
     "output_type": "stream",
     "text": [
      "/Users/tracysanchezpacheco/opt/anaconda3/lib/python3.8/site-packages/numpy/lib/nanfunctions.py:1113: RuntimeWarning: All-NaN slice encountered\n",
      "  r, k = function_base._ureduce(a, func=_nanmedian, axis=axis, out=out,\n"
     ]
    },
    {
     "name": "stdout",
     "output_type": "stream",
     "text": [
      "2693_2\n"
     ]
    },
    {
     "name": "stderr",
     "output_type": "stream",
     "text": [
      "/Users/tracysanchezpacheco/opt/anaconda3/lib/python3.8/site-packages/numpy/lib/nanfunctions.py:1113: RuntimeWarning: All-NaN slice encountered\n",
      "  r, k = function_base._ureduce(a, func=_nanmedian, axis=axis, out=out,\n"
     ]
    },
    {
     "name": "stdout",
     "output_type": "stream",
     "text": [
      "2693_3\n"
     ]
    },
    {
     "name": "stderr",
     "output_type": "stream",
     "text": [
      "/Users/tracysanchezpacheco/opt/anaconda3/lib/python3.8/site-packages/numpy/lib/nanfunctions.py:1113: RuntimeWarning: All-NaN slice encountered\n",
      "  r, k = function_base._ureduce(a, func=_nanmedian, axis=axis, out=out,\n"
     ]
    },
    {
     "name": "stdout",
     "output_type": "stream",
     "text": [
      "2693_4\n"
     ]
    },
    {
     "name": "stderr",
     "output_type": "stream",
     "text": [
      "/Users/tracysanchezpacheco/opt/anaconda3/lib/python3.8/site-packages/numpy/lib/nanfunctions.py:1113: RuntimeWarning: All-NaN slice encountered\n",
      "  r, k = function_base._ureduce(a, func=_nanmedian, axis=axis, out=out,\n"
     ]
    },
    {
     "name": "stdout",
     "output_type": "stream",
     "text": [
      "2693_5\n"
     ]
    },
    {
     "name": "stderr",
     "output_type": "stream",
     "text": [
      "/Users/tracysanchezpacheco/opt/anaconda3/lib/python3.8/site-packages/numpy/lib/nanfunctions.py:1113: RuntimeWarning: All-NaN slice encountered\n",
      "  r, k = function_base._ureduce(a, func=_nanmedian, axis=axis, out=out,\n"
     ]
    },
    {
     "name": "stdout",
     "output_type": "stream",
     "text": [
      "3246_1\n"
     ]
    },
    {
     "name": "stderr",
     "output_type": "stream",
     "text": [
      "/Users/tracysanchezpacheco/opt/anaconda3/lib/python3.8/site-packages/numpy/lib/nanfunctions.py:1113: RuntimeWarning: All-NaN slice encountered\n",
      "  r, k = function_base._ureduce(a, func=_nanmedian, axis=axis, out=out,\n"
     ]
    },
    {
     "name": "stdout",
     "output_type": "stream",
     "text": [
      "3246_2\n"
     ]
    },
    {
     "name": "stderr",
     "output_type": "stream",
     "text": [
      "/Users/tracysanchezpacheco/opt/anaconda3/lib/python3.8/site-packages/numpy/lib/nanfunctions.py:1113: RuntimeWarning: All-NaN slice encountered\n",
      "  r, k = function_base._ureduce(a, func=_nanmedian, axis=axis, out=out,\n"
     ]
    },
    {
     "name": "stdout",
     "output_type": "stream",
     "text": [
      "3246_3\n"
     ]
    },
    {
     "name": "stderr",
     "output_type": "stream",
     "text": [
      "/Users/tracysanchezpacheco/opt/anaconda3/lib/python3.8/site-packages/numpy/lib/nanfunctions.py:1113: RuntimeWarning: All-NaN slice encountered\n",
      "  r, k = function_base._ureduce(a, func=_nanmedian, axis=axis, out=out,\n"
     ]
    },
    {
     "name": "stdout",
     "output_type": "stream",
     "text": [
      "3246_5\n"
     ]
    },
    {
     "name": "stderr",
     "output_type": "stream",
     "text": [
      "/Users/tracysanchezpacheco/opt/anaconda3/lib/python3.8/site-packages/numpy/lib/nanfunctions.py:1113: RuntimeWarning: All-NaN slice encountered\n",
      "  r, k = function_base._ureduce(a, func=_nanmedian, axis=axis, out=out,\n"
     ]
    },
    {
     "name": "stdout",
     "output_type": "stream",
     "text": [
      "3310_1\n"
     ]
    },
    {
     "name": "stderr",
     "output_type": "stream",
     "text": [
      "/Users/tracysanchezpacheco/opt/anaconda3/lib/python3.8/site-packages/numpy/lib/nanfunctions.py:1113: RuntimeWarning: All-NaN slice encountered\n",
      "  r, k = function_base._ureduce(a, func=_nanmedian, axis=axis, out=out,\n"
     ]
    },
    {
     "name": "stdout",
     "output_type": "stream",
     "text": [
      "3310_2\n"
     ]
    },
    {
     "name": "stderr",
     "output_type": "stream",
     "text": [
      "/Users/tracysanchezpacheco/opt/anaconda3/lib/python3.8/site-packages/numpy/lib/nanfunctions.py:1113: RuntimeWarning: All-NaN slice encountered\n",
      "  r, k = function_base._ureduce(a, func=_nanmedian, axis=axis, out=out,\n"
     ]
    },
    {
     "name": "stdout",
     "output_type": "stream",
     "text": [
      "3310_3\n"
     ]
    },
    {
     "name": "stderr",
     "output_type": "stream",
     "text": [
      "/Users/tracysanchezpacheco/opt/anaconda3/lib/python3.8/site-packages/numpy/lib/nanfunctions.py:1113: RuntimeWarning: All-NaN slice encountered\n",
      "  r, k = function_base._ureduce(a, func=_nanmedian, axis=axis, out=out,\n"
     ]
    },
    {
     "name": "stdout",
     "output_type": "stream",
     "text": [
      "3310_4\n"
     ]
    },
    {
     "name": "stderr",
     "output_type": "stream",
     "text": [
      "/Users/tracysanchezpacheco/opt/anaconda3/lib/python3.8/site-packages/numpy/lib/nanfunctions.py:1113: RuntimeWarning: All-NaN slice encountered\n",
      "  r, k = function_base._ureduce(a, func=_nanmedian, axis=axis, out=out,\n"
     ]
    },
    {
     "name": "stdout",
     "output_type": "stream",
     "text": [
      "3310_5\n"
     ]
    },
    {
     "name": "stderr",
     "output_type": "stream",
     "text": [
      "/Users/tracysanchezpacheco/opt/anaconda3/lib/python3.8/site-packages/numpy/lib/nanfunctions.py:1113: RuntimeWarning: All-NaN slice encountered\n",
      "  r, k = function_base._ureduce(a, func=_nanmedian, axis=axis, out=out,\n"
     ]
    },
    {
     "name": "stdout",
     "output_type": "stream",
     "text": [
      "3572_1\n"
     ]
    },
    {
     "name": "stderr",
     "output_type": "stream",
     "text": [
      "/Users/tracysanchezpacheco/opt/anaconda3/lib/python3.8/site-packages/numpy/lib/nanfunctions.py:1113: RuntimeWarning: All-NaN slice encountered\n",
      "  r, k = function_base._ureduce(a, func=_nanmedian, axis=axis, out=out,\n"
     ]
    },
    {
     "name": "stdout",
     "output_type": "stream",
     "text": [
      "3572_2\n"
     ]
    },
    {
     "name": "stderr",
     "output_type": "stream",
     "text": [
      "/Users/tracysanchezpacheco/opt/anaconda3/lib/python3.8/site-packages/numpy/lib/nanfunctions.py:1113: RuntimeWarning: All-NaN slice encountered\n",
      "  r, k = function_base._ureduce(a, func=_nanmedian, axis=axis, out=out,\n"
     ]
    },
    {
     "name": "stdout",
     "output_type": "stream",
     "text": [
      "3572_3\n"
     ]
    },
    {
     "name": "stderr",
     "output_type": "stream",
     "text": [
      "/Users/tracysanchezpacheco/opt/anaconda3/lib/python3.8/site-packages/numpy/lib/nanfunctions.py:1113: RuntimeWarning: All-NaN slice encountered\n",
      "  r, k = function_base._ureduce(a, func=_nanmedian, axis=axis, out=out,\n"
     ]
    },
    {
     "name": "stdout",
     "output_type": "stream",
     "text": [
      "3572_4\n"
     ]
    },
    {
     "name": "stderr",
     "output_type": "stream",
     "text": [
      "/Users/tracysanchezpacheco/opt/anaconda3/lib/python3.8/site-packages/numpy/lib/nanfunctions.py:1113: RuntimeWarning: All-NaN slice encountered\n",
      "  r, k = function_base._ureduce(a, func=_nanmedian, axis=axis, out=out,\n"
     ]
    },
    {
     "name": "stdout",
     "output_type": "stream",
     "text": [
      "3976_1\n"
     ]
    },
    {
     "name": "stderr",
     "output_type": "stream",
     "text": [
      "/Users/tracysanchezpacheco/opt/anaconda3/lib/python3.8/site-packages/numpy/lib/nanfunctions.py:1113: RuntimeWarning: All-NaN slice encountered\n",
      "  r, k = function_base._ureduce(a, func=_nanmedian, axis=axis, out=out,\n"
     ]
    },
    {
     "name": "stdout",
     "output_type": "stream",
     "text": [
      "3976_2\n"
     ]
    },
    {
     "name": "stderr",
     "output_type": "stream",
     "text": [
      "/Users/tracysanchezpacheco/opt/anaconda3/lib/python3.8/site-packages/numpy/lib/nanfunctions.py:1113: RuntimeWarning: All-NaN slice encountered\n",
      "  r, k = function_base._ureduce(a, func=_nanmedian, axis=axis, out=out,\n"
     ]
    },
    {
     "name": "stdout",
     "output_type": "stream",
     "text": [
      "3976_3\n"
     ]
    },
    {
     "name": "stderr",
     "output_type": "stream",
     "text": [
      "/Users/tracysanchezpacheco/opt/anaconda3/lib/python3.8/site-packages/numpy/lib/nanfunctions.py:1113: RuntimeWarning: All-NaN slice encountered\n",
      "  r, k = function_base._ureduce(a, func=_nanmedian, axis=axis, out=out,\n"
     ]
    },
    {
     "name": "stdout",
     "output_type": "stream",
     "text": [
      "3976_4\n"
     ]
    },
    {
     "name": "stderr",
     "output_type": "stream",
     "text": [
      "/Users/tracysanchezpacheco/opt/anaconda3/lib/python3.8/site-packages/numpy/lib/nanfunctions.py:1113: RuntimeWarning: All-NaN slice encountered\n",
      "  r, k = function_base._ureduce(a, func=_nanmedian, axis=axis, out=out,\n"
     ]
    },
    {
     "name": "stdout",
     "output_type": "stream",
     "text": [
      "3976_5\n"
     ]
    },
    {
     "name": "stderr",
     "output_type": "stream",
     "text": [
      "/Users/tracysanchezpacheco/opt/anaconda3/lib/python3.8/site-packages/numpy/lib/nanfunctions.py:1113: RuntimeWarning: All-NaN slice encountered\n",
      "  r, k = function_base._ureduce(a, func=_nanmedian, axis=axis, out=out,\n"
     ]
    },
    {
     "name": "stdout",
     "output_type": "stream",
     "text": [
      "4176_1\n"
     ]
    },
    {
     "name": "stderr",
     "output_type": "stream",
     "text": [
      "/Users/tracysanchezpacheco/opt/anaconda3/lib/python3.8/site-packages/numpy/lib/nanfunctions.py:1113: RuntimeWarning: All-NaN slice encountered\n",
      "  r, k = function_base._ureduce(a, func=_nanmedian, axis=axis, out=out,\n"
     ]
    },
    {
     "name": "stdout",
     "output_type": "stream",
     "text": [
      "4176_2\n"
     ]
    },
    {
     "name": "stderr",
     "output_type": "stream",
     "text": [
      "/Users/tracysanchezpacheco/opt/anaconda3/lib/python3.8/site-packages/numpy/lib/nanfunctions.py:1113: RuntimeWarning: All-NaN slice encountered\n",
      "  r, k = function_base._ureduce(a, func=_nanmedian, axis=axis, out=out,\n"
     ]
    },
    {
     "name": "stdout",
     "output_type": "stream",
     "text": [
      "4176_3\n"
     ]
    },
    {
     "name": "stderr",
     "output_type": "stream",
     "text": [
      "/Users/tracysanchezpacheco/opt/anaconda3/lib/python3.8/site-packages/numpy/lib/nanfunctions.py:1113: RuntimeWarning: All-NaN slice encountered\n",
      "  r, k = function_base._ureduce(a, func=_nanmedian, axis=axis, out=out,\n"
     ]
    },
    {
     "name": "stdout",
     "output_type": "stream",
     "text": [
      "4176_4\n"
     ]
    },
    {
     "name": "stderr",
     "output_type": "stream",
     "text": [
      "/Users/tracysanchezpacheco/opt/anaconda3/lib/python3.8/site-packages/numpy/lib/nanfunctions.py:1113: RuntimeWarning: All-NaN slice encountered\n",
      "  r, k = function_base._ureduce(a, func=_nanmedian, axis=axis, out=out,\n"
     ]
    },
    {
     "name": "stdout",
     "output_type": "stream",
     "text": [
      "4176_5\n"
     ]
    },
    {
     "name": "stderr",
     "output_type": "stream",
     "text": [
      "/Users/tracysanchezpacheco/opt/anaconda3/lib/python3.8/site-packages/numpy/lib/nanfunctions.py:1113: RuntimeWarning: All-NaN slice encountered\n",
      "  r, k = function_base._ureduce(a, func=_nanmedian, axis=axis, out=out,\n"
     ]
    },
    {
     "name": "stdout",
     "output_type": "stream",
     "text": [
      "4796_1\n"
     ]
    },
    {
     "name": "stderr",
     "output_type": "stream",
     "text": [
      "/Users/tracysanchezpacheco/opt/anaconda3/lib/python3.8/site-packages/numpy/lib/nanfunctions.py:1113: RuntimeWarning: All-NaN slice encountered\n",
      "  r, k = function_base._ureduce(a, func=_nanmedian, axis=axis, out=out,\n"
     ]
    },
    {
     "name": "stdout",
     "output_type": "stream",
     "text": [
      "4796_2\n"
     ]
    },
    {
     "name": "stderr",
     "output_type": "stream",
     "text": [
      "/Users/tracysanchezpacheco/opt/anaconda3/lib/python3.8/site-packages/numpy/lib/nanfunctions.py:1113: RuntimeWarning: All-NaN slice encountered\n",
      "  r, k = function_base._ureduce(a, func=_nanmedian, axis=axis, out=out,\n"
     ]
    },
    {
     "name": "stdout",
     "output_type": "stream",
     "text": [
      "4796_3\n"
     ]
    },
    {
     "name": "stderr",
     "output_type": "stream",
     "text": [
      "/Users/tracysanchezpacheco/opt/anaconda3/lib/python3.8/site-packages/numpy/lib/nanfunctions.py:1113: RuntimeWarning: All-NaN slice encountered\n",
      "  r, k = function_base._ureduce(a, func=_nanmedian, axis=axis, out=out,\n"
     ]
    },
    {
     "name": "stdout",
     "output_type": "stream",
     "text": [
      "4796_4\n"
     ]
    },
    {
     "name": "stderr",
     "output_type": "stream",
     "text": [
      "/Users/tracysanchezpacheco/opt/anaconda3/lib/python3.8/site-packages/numpy/lib/nanfunctions.py:1113: RuntimeWarning: All-NaN slice encountered\n",
      "  r, k = function_base._ureduce(a, func=_nanmedian, axis=axis, out=out,\n"
     ]
    },
    {
     "name": "stdout",
     "output_type": "stream",
     "text": [
      "4796_5\n"
     ]
    },
    {
     "name": "stderr",
     "output_type": "stream",
     "text": [
      "/Users/tracysanchezpacheco/opt/anaconda3/lib/python3.8/site-packages/numpy/lib/nanfunctions.py:1113: RuntimeWarning: All-NaN slice encountered\n",
      "  r, k = function_base._ureduce(a, func=_nanmedian, axis=axis, out=out,\n"
     ]
    },
    {
     "name": "stdout",
     "output_type": "stream",
     "text": [
      "4917_1\n"
     ]
    },
    {
     "name": "stderr",
     "output_type": "stream",
     "text": [
      "/Users/tracysanchezpacheco/opt/anaconda3/lib/python3.8/site-packages/numpy/lib/nanfunctions.py:1113: RuntimeWarning: All-NaN slice encountered\n",
      "  r, k = function_base._ureduce(a, func=_nanmedian, axis=axis, out=out,\n"
     ]
    },
    {
     "name": "stdout",
     "output_type": "stream",
     "text": [
      "4917_2\n"
     ]
    },
    {
     "name": "stderr",
     "output_type": "stream",
     "text": [
      "/Users/tracysanchezpacheco/opt/anaconda3/lib/python3.8/site-packages/numpy/lib/nanfunctions.py:1113: RuntimeWarning: All-NaN slice encountered\n",
      "  r, k = function_base._ureduce(a, func=_nanmedian, axis=axis, out=out,\n"
     ]
    },
    {
     "name": "stdout",
     "output_type": "stream",
     "text": [
      "4917_3\n"
     ]
    },
    {
     "name": "stderr",
     "output_type": "stream",
     "text": [
      "/Users/tracysanchezpacheco/opt/anaconda3/lib/python3.8/site-packages/numpy/lib/nanfunctions.py:1113: RuntimeWarning: All-NaN slice encountered\n",
      "  r, k = function_base._ureduce(a, func=_nanmedian, axis=axis, out=out,\n"
     ]
    },
    {
     "name": "stdout",
     "output_type": "stream",
     "text": [
      "4917_4\n"
     ]
    },
    {
     "name": "stderr",
     "output_type": "stream",
     "text": [
      "/Users/tracysanchezpacheco/opt/anaconda3/lib/python3.8/site-packages/numpy/lib/nanfunctions.py:1113: RuntimeWarning: All-NaN slice encountered\n",
      "  r, k = function_base._ureduce(a, func=_nanmedian, axis=axis, out=out,\n"
     ]
    },
    {
     "name": "stdout",
     "output_type": "stream",
     "text": [
      "4917_5\n"
     ]
    },
    {
     "name": "stderr",
     "output_type": "stream",
     "text": [
      "/Users/tracysanchezpacheco/opt/anaconda3/lib/python3.8/site-packages/numpy/lib/nanfunctions.py:1113: RuntimeWarning: All-NaN slice encountered\n",
      "  r, k = function_base._ureduce(a, func=_nanmedian, axis=axis, out=out,\n"
     ]
    },
    {
     "name": "stdout",
     "output_type": "stream",
     "text": [
      "0365_5\n"
     ]
    },
    {
     "name": "stderr",
     "output_type": "stream",
     "text": [
      "/Users/tracysanchezpacheco/opt/anaconda3/lib/python3.8/site-packages/numpy/lib/nanfunctions.py:1113: RuntimeWarning: All-NaN slice encountered\n",
      "  r, k = function_base._ureduce(a, func=_nanmedian, axis=axis, out=out,\n"
     ]
    },
    {
     "name": "stdout",
     "output_type": "stream",
     "text": [
      "0479_1\n"
     ]
    },
    {
     "name": "stderr",
     "output_type": "stream",
     "text": [
      "/Users/tracysanchezpacheco/opt/anaconda3/lib/python3.8/site-packages/numpy/lib/nanfunctions.py:1113: RuntimeWarning: All-NaN slice encountered\n",
      "  r, k = function_base._ureduce(a, func=_nanmedian, axis=axis, out=out,\n"
     ]
    },
    {
     "name": "stdout",
     "output_type": "stream",
     "text": [
      "0479_2\n"
     ]
    },
    {
     "name": "stderr",
     "output_type": "stream",
     "text": [
      "/Users/tracysanchezpacheco/opt/anaconda3/lib/python3.8/site-packages/numpy/lib/nanfunctions.py:1113: RuntimeWarning: All-NaN slice encountered\n",
      "  r, k = function_base._ureduce(a, func=_nanmedian, axis=axis, out=out,\n"
     ]
    },
    {
     "name": "stdout",
     "output_type": "stream",
     "text": [
      "0479_3\n"
     ]
    },
    {
     "name": "stderr",
     "output_type": "stream",
     "text": [
      "/Users/tracysanchezpacheco/opt/anaconda3/lib/python3.8/site-packages/numpy/lib/nanfunctions.py:1113: RuntimeWarning: All-NaN slice encountered\n",
      "  r, k = function_base._ureduce(a, func=_nanmedian, axis=axis, out=out,\n"
     ]
    },
    {
     "name": "stdout",
     "output_type": "stream",
     "text": [
      "5531_1\n"
     ]
    },
    {
     "name": "stderr",
     "output_type": "stream",
     "text": [
      "/Users/tracysanchezpacheco/opt/anaconda3/lib/python3.8/site-packages/numpy/lib/nanfunctions.py:1113: RuntimeWarning: All-NaN slice encountered\n",
      "  r, k = function_base._ureduce(a, func=_nanmedian, axis=axis, out=out,\n"
     ]
    },
    {
     "name": "stdout",
     "output_type": "stream",
     "text": [
      "5531_3\n"
     ]
    },
    {
     "name": "stderr",
     "output_type": "stream",
     "text": [
      "/Users/tracysanchezpacheco/opt/anaconda3/lib/python3.8/site-packages/numpy/lib/nanfunctions.py:1113: RuntimeWarning: All-NaN slice encountered\n",
      "  r, k = function_base._ureduce(a, func=_nanmedian, axis=axis, out=out,\n"
     ]
    },
    {
     "name": "stdout",
     "output_type": "stream",
     "text": [
      "5531_4\n"
     ]
    },
    {
     "name": "stderr",
     "output_type": "stream",
     "text": [
      "/Users/tracysanchezpacheco/opt/anaconda3/lib/python3.8/site-packages/numpy/lib/nanfunctions.py:1113: RuntimeWarning: All-NaN slice encountered\n",
      "  r, k = function_base._ureduce(a, func=_nanmedian, axis=axis, out=out,\n"
     ]
    },
    {
     "name": "stdout",
     "output_type": "stream",
     "text": [
      "5531_5\n"
     ]
    },
    {
     "name": "stderr",
     "output_type": "stream",
     "text": [
      "/Users/tracysanchezpacheco/opt/anaconda3/lib/python3.8/site-packages/numpy/lib/nanfunctions.py:1113: RuntimeWarning: All-NaN slice encountered\n",
      "  r, k = function_base._ureduce(a, func=_nanmedian, axis=axis, out=out,\n"
     ]
    },
    {
     "name": "stdout",
     "output_type": "stream",
     "text": [
      "5741_1\n"
     ]
    },
    {
     "name": "stderr",
     "output_type": "stream",
     "text": [
      "/Users/tracysanchezpacheco/opt/anaconda3/lib/python3.8/site-packages/numpy/lib/nanfunctions.py:1113: RuntimeWarning: All-NaN slice encountered\n",
      "  r, k = function_base._ureduce(a, func=_nanmedian, axis=axis, out=out,\n"
     ]
    },
    {
     "name": "stdout",
     "output_type": "stream",
     "text": [
      "5741_2\n"
     ]
    },
    {
     "name": "stderr",
     "output_type": "stream",
     "text": [
      "/Users/tracysanchezpacheco/opt/anaconda3/lib/python3.8/site-packages/numpy/lib/nanfunctions.py:1113: RuntimeWarning: All-NaN slice encountered\n",
      "  r, k = function_base._ureduce(a, func=_nanmedian, axis=axis, out=out,\n"
     ]
    },
    {
     "name": "stdout",
     "output_type": "stream",
     "text": [
      "5741_3\n"
     ]
    },
    {
     "name": "stderr",
     "output_type": "stream",
     "text": [
      "/Users/tracysanchezpacheco/opt/anaconda3/lib/python3.8/site-packages/numpy/lib/nanfunctions.py:1113: RuntimeWarning: All-NaN slice encountered\n",
      "  r, k = function_base._ureduce(a, func=_nanmedian, axis=axis, out=out,\n"
     ]
    },
    {
     "name": "stdout",
     "output_type": "stream",
     "text": [
      "5741_4\n"
     ]
    },
    {
     "name": "stderr",
     "output_type": "stream",
     "text": [
      "/Users/tracysanchezpacheco/opt/anaconda3/lib/python3.8/site-packages/numpy/lib/nanfunctions.py:1113: RuntimeWarning: All-NaN slice encountered\n",
      "  r, k = function_base._ureduce(a, func=_nanmedian, axis=axis, out=out,\n"
     ]
    },
    {
     "name": "stdout",
     "output_type": "stream",
     "text": [
      "5741_5\n"
     ]
    },
    {
     "name": "stderr",
     "output_type": "stream",
     "text": [
      "/Users/tracysanchezpacheco/opt/anaconda3/lib/python3.8/site-packages/numpy/lib/nanfunctions.py:1113: RuntimeWarning: All-NaN slice encountered\n",
      "  r, k = function_base._ureduce(a, func=_nanmedian, axis=axis, out=out,\n"
     ]
    },
    {
     "name": "stdout",
     "output_type": "stream",
     "text": [
      "6642_1\n"
     ]
    },
    {
     "name": "stderr",
     "output_type": "stream",
     "text": [
      "/Users/tracysanchezpacheco/opt/anaconda3/lib/python3.8/site-packages/numpy/lib/nanfunctions.py:1113: RuntimeWarning: All-NaN slice encountered\n",
      "  r, k = function_base._ureduce(a, func=_nanmedian, axis=axis, out=out,\n"
     ]
    },
    {
     "name": "stdout",
     "output_type": "stream",
     "text": [
      "6642_2\n"
     ]
    },
    {
     "name": "stderr",
     "output_type": "stream",
     "text": [
      "/Users/tracysanchezpacheco/opt/anaconda3/lib/python3.8/site-packages/numpy/lib/nanfunctions.py:1113: RuntimeWarning: All-NaN slice encountered\n",
      "  r, k = function_base._ureduce(a, func=_nanmedian, axis=axis, out=out,\n"
     ]
    },
    {
     "name": "stdout",
     "output_type": "stream",
     "text": [
      "6642_3\n"
     ]
    },
    {
     "name": "stderr",
     "output_type": "stream",
     "text": [
      "/Users/tracysanchezpacheco/opt/anaconda3/lib/python3.8/site-packages/numpy/lib/nanfunctions.py:1113: RuntimeWarning: All-NaN slice encountered\n",
      "  r, k = function_base._ureduce(a, func=_nanmedian, axis=axis, out=out,\n"
     ]
    },
    {
     "name": "stdout",
     "output_type": "stream",
     "text": [
      "6642_4\n"
     ]
    },
    {
     "name": "stderr",
     "output_type": "stream",
     "text": [
      "/Users/tracysanchezpacheco/opt/anaconda3/lib/python3.8/site-packages/numpy/lib/nanfunctions.py:1113: RuntimeWarning: All-NaN slice encountered\n",
      "  r, k = function_base._ureduce(a, func=_nanmedian, axis=axis, out=out,\n"
     ]
    },
    {
     "name": "stdout",
     "output_type": "stream",
     "text": [
      "6642_5\n"
     ]
    },
    {
     "name": "stderr",
     "output_type": "stream",
     "text": [
      "/Users/tracysanchezpacheco/opt/anaconda3/lib/python3.8/site-packages/numpy/lib/nanfunctions.py:1113: RuntimeWarning: All-NaN slice encountered\n",
      "  r, k = function_base._ureduce(a, func=_nanmedian, axis=axis, out=out,\n"
     ]
    },
    {
     "name": "stdout",
     "output_type": "stream",
     "text": [
      "7093_1\n"
     ]
    },
    {
     "name": "stderr",
     "output_type": "stream",
     "text": [
      "/Users/tracysanchezpacheco/opt/anaconda3/lib/python3.8/site-packages/numpy/lib/nanfunctions.py:1113: RuntimeWarning: All-NaN slice encountered\n",
      "  r, k = function_base._ureduce(a, func=_nanmedian, axis=axis, out=out,\n"
     ]
    },
    {
     "name": "stdout",
     "output_type": "stream",
     "text": [
      "7093_2\n"
     ]
    },
    {
     "name": "stderr",
     "output_type": "stream",
     "text": [
      "/Users/tracysanchezpacheco/opt/anaconda3/lib/python3.8/site-packages/numpy/lib/nanfunctions.py:1113: RuntimeWarning: All-NaN slice encountered\n",
      "  r, k = function_base._ureduce(a, func=_nanmedian, axis=axis, out=out,\n"
     ]
    },
    {
     "name": "stdout",
     "output_type": "stream",
     "text": [
      "7093_3\n"
     ]
    },
    {
     "name": "stderr",
     "output_type": "stream",
     "text": [
      "/Users/tracysanchezpacheco/opt/anaconda3/lib/python3.8/site-packages/numpy/lib/nanfunctions.py:1113: RuntimeWarning: All-NaN slice encountered\n",
      "  r, k = function_base._ureduce(a, func=_nanmedian, axis=axis, out=out,\n"
     ]
    },
    {
     "name": "stdout",
     "output_type": "stream",
     "text": [
      "7093_4\n"
     ]
    },
    {
     "name": "stderr",
     "output_type": "stream",
     "text": [
      "/Users/tracysanchezpacheco/opt/anaconda3/lib/python3.8/site-packages/numpy/lib/nanfunctions.py:1113: RuntimeWarning: All-NaN slice encountered\n",
      "  r, k = function_base._ureduce(a, func=_nanmedian, axis=axis, out=out,\n"
     ]
    },
    {
     "name": "stdout",
     "output_type": "stream",
     "text": [
      "7093_5\n"
     ]
    },
    {
     "name": "stderr",
     "output_type": "stream",
     "text": [
      "/Users/tracysanchezpacheco/opt/anaconda3/lib/python3.8/site-packages/numpy/lib/nanfunctions.py:1113: RuntimeWarning: All-NaN slice encountered\n",
      "  r, k = function_base._ureduce(a, func=_nanmedian, axis=axis, out=out,\n"
     ]
    },
    {
     "name": "stdout",
     "output_type": "stream",
     "text": [
      "7264_1\n"
     ]
    },
    {
     "name": "stderr",
     "output_type": "stream",
     "text": [
      "/Users/tracysanchezpacheco/opt/anaconda3/lib/python3.8/site-packages/numpy/lib/nanfunctions.py:1113: RuntimeWarning: All-NaN slice encountered\n",
      "  r, k = function_base._ureduce(a, func=_nanmedian, axis=axis, out=out,\n"
     ]
    },
    {
     "name": "stdout",
     "output_type": "stream",
     "text": [
      "7264_2\n"
     ]
    },
    {
     "name": "stderr",
     "output_type": "stream",
     "text": [
      "/Users/tracysanchezpacheco/opt/anaconda3/lib/python3.8/site-packages/numpy/lib/nanfunctions.py:1113: RuntimeWarning: All-NaN slice encountered\n",
      "  r, k = function_base._ureduce(a, func=_nanmedian, axis=axis, out=out,\n"
     ]
    },
    {
     "name": "stdout",
     "output_type": "stream",
     "text": [
      "7264_3\n"
     ]
    },
    {
     "name": "stderr",
     "output_type": "stream",
     "text": [
      "/Users/tracysanchezpacheco/opt/anaconda3/lib/python3.8/site-packages/numpy/lib/nanfunctions.py:1113: RuntimeWarning: All-NaN slice encountered\n",
      "  r, k = function_base._ureduce(a, func=_nanmedian, axis=axis, out=out,\n"
     ]
    },
    {
     "name": "stdout",
     "output_type": "stream",
     "text": [
      "7264_4\n"
     ]
    },
    {
     "name": "stderr",
     "output_type": "stream",
     "text": [
      "/Users/tracysanchezpacheco/opt/anaconda3/lib/python3.8/site-packages/numpy/lib/nanfunctions.py:1113: RuntimeWarning: All-NaN slice encountered\n",
      "  r, k = function_base._ureduce(a, func=_nanmedian, axis=axis, out=out,\n"
     ]
    },
    {
     "name": "stdout",
     "output_type": "stream",
     "text": [
      "7264_5\n"
     ]
    },
    {
     "name": "stderr",
     "output_type": "stream",
     "text": [
      "/Users/tracysanchezpacheco/opt/anaconda3/lib/python3.8/site-packages/numpy/lib/nanfunctions.py:1113: RuntimeWarning: All-NaN slice encountered\n",
      "  r, k = function_base._ureduce(a, func=_nanmedian, axis=axis, out=out,\n"
     ]
    },
    {
     "name": "stdout",
     "output_type": "stream",
     "text": [
      "7412_1\n"
     ]
    },
    {
     "name": "stderr",
     "output_type": "stream",
     "text": [
      "/Users/tracysanchezpacheco/opt/anaconda3/lib/python3.8/site-packages/numpy/lib/nanfunctions.py:1113: RuntimeWarning: All-NaN slice encountered\n",
      "  r, k = function_base._ureduce(a, func=_nanmedian, axis=axis, out=out,\n"
     ]
    },
    {
     "name": "stdout",
     "output_type": "stream",
     "text": [
      "7412_2\n"
     ]
    },
    {
     "name": "stderr",
     "output_type": "stream",
     "text": [
      "/Users/tracysanchezpacheco/opt/anaconda3/lib/python3.8/site-packages/numpy/lib/nanfunctions.py:1113: RuntimeWarning: All-NaN slice encountered\n",
      "  r, k = function_base._ureduce(a, func=_nanmedian, axis=axis, out=out,\n"
     ]
    },
    {
     "name": "stdout",
     "output_type": "stream",
     "text": [
      "7412_3\n"
     ]
    },
    {
     "name": "stderr",
     "output_type": "stream",
     "text": [
      "/Users/tracysanchezpacheco/opt/anaconda3/lib/python3.8/site-packages/numpy/lib/nanfunctions.py:1113: RuntimeWarning: All-NaN slice encountered\n",
      "  r, k = function_base._ureduce(a, func=_nanmedian, axis=axis, out=out,\n"
     ]
    },
    {
     "name": "stdout",
     "output_type": "stream",
     "text": [
      "7412_4\n"
     ]
    },
    {
     "name": "stderr",
     "output_type": "stream",
     "text": [
      "/Users/tracysanchezpacheco/opt/anaconda3/lib/python3.8/site-packages/numpy/lib/nanfunctions.py:1113: RuntimeWarning: All-NaN slice encountered\n",
      "  r, k = function_base._ureduce(a, func=_nanmedian, axis=axis, out=out,\n"
     ]
    },
    {
     "name": "stdout",
     "output_type": "stream",
     "text": [
      "7412_5\n"
     ]
    },
    {
     "name": "stderr",
     "output_type": "stream",
     "text": [
      "/Users/tracysanchezpacheco/opt/anaconda3/lib/python3.8/site-packages/numpy/lib/nanfunctions.py:1113: RuntimeWarning: All-NaN slice encountered\n",
      "  r, k = function_base._ureduce(a, func=_nanmedian, axis=axis, out=out,\n"
     ]
    },
    {
     "name": "stdout",
     "output_type": "stream",
     "text": [
      "7842_1\n"
     ]
    },
    {
     "name": "stderr",
     "output_type": "stream",
     "text": [
      "/Users/tracysanchezpacheco/opt/anaconda3/lib/python3.8/site-packages/numpy/lib/nanfunctions.py:1113: RuntimeWarning: All-NaN slice encountered\n",
      "  r, k = function_base._ureduce(a, func=_nanmedian, axis=axis, out=out,\n"
     ]
    },
    {
     "name": "stdout",
     "output_type": "stream",
     "text": [
      "7842_2\n"
     ]
    },
    {
     "name": "stderr",
     "output_type": "stream",
     "text": [
      "/Users/tracysanchezpacheco/opt/anaconda3/lib/python3.8/site-packages/numpy/lib/nanfunctions.py:1113: RuntimeWarning: All-NaN slice encountered\n",
      "  r, k = function_base._ureduce(a, func=_nanmedian, axis=axis, out=out,\n"
     ]
    },
    {
     "name": "stdout",
     "output_type": "stream",
     "text": [
      "7842_3\n"
     ]
    },
    {
     "name": "stderr",
     "output_type": "stream",
     "text": [
      "/Users/tracysanchezpacheco/opt/anaconda3/lib/python3.8/site-packages/numpy/lib/nanfunctions.py:1113: RuntimeWarning: All-NaN slice encountered\n",
      "  r, k = function_base._ureduce(a, func=_nanmedian, axis=axis, out=out,\n"
     ]
    },
    {
     "name": "stdout",
     "output_type": "stream",
     "text": [
      "7842_4\n"
     ]
    },
    {
     "name": "stderr",
     "output_type": "stream",
     "text": [
      "/Users/tracysanchezpacheco/opt/anaconda3/lib/python3.8/site-packages/numpy/lib/nanfunctions.py:1113: RuntimeWarning: All-NaN slice encountered\n",
      "  r, k = function_base._ureduce(a, func=_nanmedian, axis=axis, out=out,\n"
     ]
    },
    {
     "name": "stdout",
     "output_type": "stream",
     "text": [
      "7842_5\n"
     ]
    },
    {
     "name": "stderr",
     "output_type": "stream",
     "text": [
      "/Users/tracysanchezpacheco/opt/anaconda3/lib/python3.8/site-packages/numpy/lib/nanfunctions.py:1113: RuntimeWarning: All-NaN slice encountered\n",
      "  r, k = function_base._ureduce(a, func=_nanmedian, axis=axis, out=out,\n"
     ]
    },
    {
     "name": "stdout",
     "output_type": "stream",
     "text": [
      "8007_1\n"
     ]
    },
    {
     "name": "stderr",
     "output_type": "stream",
     "text": [
      "/Users/tracysanchezpacheco/opt/anaconda3/lib/python3.8/site-packages/numpy/lib/nanfunctions.py:1113: RuntimeWarning: All-NaN slice encountered\n",
      "  r, k = function_base._ureduce(a, func=_nanmedian, axis=axis, out=out,\n"
     ]
    },
    {
     "name": "stdout",
     "output_type": "stream",
     "text": [
      "8007_2\n"
     ]
    },
    {
     "name": "stderr",
     "output_type": "stream",
     "text": [
      "/Users/tracysanchezpacheco/opt/anaconda3/lib/python3.8/site-packages/numpy/lib/nanfunctions.py:1113: RuntimeWarning: All-NaN slice encountered\n",
      "  r, k = function_base._ureduce(a, func=_nanmedian, axis=axis, out=out,\n"
     ]
    },
    {
     "name": "stdout",
     "output_type": "stream",
     "text": [
      "8007_3\n"
     ]
    },
    {
     "name": "stderr",
     "output_type": "stream",
     "text": [
      "/Users/tracysanchezpacheco/opt/anaconda3/lib/python3.8/site-packages/numpy/lib/nanfunctions.py:1113: RuntimeWarning: All-NaN slice encountered\n",
      "  r, k = function_base._ureduce(a, func=_nanmedian, axis=axis, out=out,\n"
     ]
    },
    {
     "name": "stdout",
     "output_type": "stream",
     "text": [
      "8007_4\n"
     ]
    },
    {
     "name": "stderr",
     "output_type": "stream",
     "text": [
      "/Users/tracysanchezpacheco/opt/anaconda3/lib/python3.8/site-packages/numpy/lib/nanfunctions.py:1113: RuntimeWarning: All-NaN slice encountered\n",
      "  r, k = function_base._ureduce(a, func=_nanmedian, axis=axis, out=out,\n"
     ]
    },
    {
     "name": "stdout",
     "output_type": "stream",
     "text": [
      "8007_5\n"
     ]
    },
    {
     "name": "stderr",
     "output_type": "stream",
     "text": [
      "/Users/tracysanchezpacheco/opt/anaconda3/lib/python3.8/site-packages/numpy/lib/nanfunctions.py:1113: RuntimeWarning: All-NaN slice encountered\n",
      "  r, k = function_base._ureduce(a, func=_nanmedian, axis=axis, out=out,\n"
     ]
    },
    {
     "name": "stdout",
     "output_type": "stream",
     "text": [
      "8469_1\n"
     ]
    },
    {
     "name": "stderr",
     "output_type": "stream",
     "text": [
      "/Users/tracysanchezpacheco/opt/anaconda3/lib/python3.8/site-packages/numpy/lib/nanfunctions.py:1113: RuntimeWarning: All-NaN slice encountered\n",
      "  r, k = function_base._ureduce(a, func=_nanmedian, axis=axis, out=out,\n"
     ]
    },
    {
     "name": "stdout",
     "output_type": "stream",
     "text": [
      "8469_2\n"
     ]
    },
    {
     "name": "stderr",
     "output_type": "stream",
     "text": [
      "/Users/tracysanchezpacheco/opt/anaconda3/lib/python3.8/site-packages/numpy/lib/nanfunctions.py:1113: RuntimeWarning: All-NaN slice encountered\n",
      "  r, k = function_base._ureduce(a, func=_nanmedian, axis=axis, out=out,\n"
     ]
    },
    {
     "name": "stdout",
     "output_type": "stream",
     "text": [
      "8469_3\n"
     ]
    },
    {
     "name": "stderr",
     "output_type": "stream",
     "text": [
      "/Users/tracysanchezpacheco/opt/anaconda3/lib/python3.8/site-packages/numpy/lib/nanfunctions.py:1113: RuntimeWarning: All-NaN slice encountered\n",
      "  r, k = function_base._ureduce(a, func=_nanmedian, axis=axis, out=out,\n"
     ]
    },
    {
     "name": "stdout",
     "output_type": "stream",
     "text": [
      "8469_4\n"
     ]
    },
    {
     "name": "stderr",
     "output_type": "stream",
     "text": [
      "/Users/tracysanchezpacheco/opt/anaconda3/lib/python3.8/site-packages/numpy/lib/nanfunctions.py:1113: RuntimeWarning: All-NaN slice encountered\n",
      "  r, k = function_base._ureduce(a, func=_nanmedian, axis=axis, out=out,\n"
     ]
    },
    {
     "name": "stdout",
     "output_type": "stream",
     "text": [
      "8469_5\n"
     ]
    },
    {
     "name": "stderr",
     "output_type": "stream",
     "text": [
      "/Users/tracysanchezpacheco/opt/anaconda3/lib/python3.8/site-packages/numpy/lib/nanfunctions.py:1113: RuntimeWarning: All-NaN slice encountered\n",
      "  r, k = function_base._ureduce(a, func=_nanmedian, axis=axis, out=out,\n"
     ]
    },
    {
     "name": "stdout",
     "output_type": "stream",
     "text": [
      "8673_1\n"
     ]
    },
    {
     "name": "stderr",
     "output_type": "stream",
     "text": [
      "/Users/tracysanchezpacheco/opt/anaconda3/lib/python3.8/site-packages/numpy/lib/nanfunctions.py:1113: RuntimeWarning: All-NaN slice encountered\n",
      "  r, k = function_base._ureduce(a, func=_nanmedian, axis=axis, out=out,\n"
     ]
    },
    {
     "name": "stdout",
     "output_type": "stream",
     "text": [
      "8673_2\n"
     ]
    },
    {
     "name": "stderr",
     "output_type": "stream",
     "text": [
      "/Users/tracysanchezpacheco/opt/anaconda3/lib/python3.8/site-packages/numpy/lib/nanfunctions.py:1113: RuntimeWarning: All-NaN slice encountered\n",
      "  r, k = function_base._ureduce(a, func=_nanmedian, axis=axis, out=out,\n"
     ]
    },
    {
     "name": "stdout",
     "output_type": "stream",
     "text": [
      "8673_3\n"
     ]
    },
    {
     "name": "stderr",
     "output_type": "stream",
     "text": [
      "/Users/tracysanchezpacheco/opt/anaconda3/lib/python3.8/site-packages/numpy/lib/nanfunctions.py:1113: RuntimeWarning: All-NaN slice encountered\n",
      "  r, k = function_base._ureduce(a, func=_nanmedian, axis=axis, out=out,\n"
     ]
    },
    {
     "name": "stdout",
     "output_type": "stream",
     "text": [
      "8673_4\n"
     ]
    },
    {
     "name": "stderr",
     "output_type": "stream",
     "text": [
      "/Users/tracysanchezpacheco/opt/anaconda3/lib/python3.8/site-packages/numpy/lib/nanfunctions.py:1113: RuntimeWarning: All-NaN slice encountered\n",
      "  r, k = function_base._ureduce(a, func=_nanmedian, axis=axis, out=out,\n"
     ]
    },
    {
     "name": "stdout",
     "output_type": "stream",
     "text": [
      "8673_5\n"
     ]
    },
    {
     "name": "stderr",
     "output_type": "stream",
     "text": [
      "/Users/tracysanchezpacheco/opt/anaconda3/lib/python3.8/site-packages/numpy/lib/nanfunctions.py:1113: RuntimeWarning: All-NaN slice encountered\n",
      "  r, k = function_base._ureduce(a, func=_nanmedian, axis=axis, out=out,\n"
     ]
    },
    {
     "name": "stdout",
     "output_type": "stream",
     "text": [
      "0479_4\n"
     ]
    },
    {
     "name": "stderr",
     "output_type": "stream",
     "text": [
      "/Users/tracysanchezpacheco/opt/anaconda3/lib/python3.8/site-packages/numpy/lib/nanfunctions.py:1113: RuntimeWarning: All-NaN slice encountered\n",
      "  r, k = function_base._ureduce(a, func=_nanmedian, axis=axis, out=out,\n"
     ]
    },
    {
     "name": "stdout",
     "output_type": "stream",
     "text": [
      "0479_5\n"
     ]
    },
    {
     "name": "stderr",
     "output_type": "stream",
     "text": [
      "/Users/tracysanchezpacheco/opt/anaconda3/lib/python3.8/site-packages/numpy/lib/nanfunctions.py:1113: RuntimeWarning: All-NaN slice encountered\n",
      "  r, k = function_base._ureduce(a, func=_nanmedian, axis=axis, out=out,\n"
     ]
    },
    {
     "name": "stdout",
     "output_type": "stream",
     "text": [
      "9472_1\n"
     ]
    },
    {
     "name": "stderr",
     "output_type": "stream",
     "text": [
      "/Users/tracysanchezpacheco/opt/anaconda3/lib/python3.8/site-packages/numpy/lib/nanfunctions.py:1113: RuntimeWarning: All-NaN slice encountered\n",
      "  r, k = function_base._ureduce(a, func=_nanmedian, axis=axis, out=out,\n"
     ]
    },
    {
     "name": "stdout",
     "output_type": "stream",
     "text": [
      "9472_2\n"
     ]
    },
    {
     "name": "stderr",
     "output_type": "stream",
     "text": [
      "/Users/tracysanchezpacheco/opt/anaconda3/lib/python3.8/site-packages/numpy/lib/nanfunctions.py:1113: RuntimeWarning: All-NaN slice encountered\n",
      "  r, k = function_base._ureduce(a, func=_nanmedian, axis=axis, out=out,\n"
     ]
    },
    {
     "name": "stdout",
     "output_type": "stream",
     "text": [
      "9472_3\n"
     ]
    },
    {
     "name": "stderr",
     "output_type": "stream",
     "text": [
      "/Users/tracysanchezpacheco/opt/anaconda3/lib/python3.8/site-packages/numpy/lib/nanfunctions.py:1113: RuntimeWarning: All-NaN slice encountered\n",
      "  r, k = function_base._ureduce(a, func=_nanmedian, axis=axis, out=out,\n"
     ]
    },
    {
     "name": "stdout",
     "output_type": "stream",
     "text": [
      "9472_4\n"
     ]
    },
    {
     "name": "stderr",
     "output_type": "stream",
     "text": [
      "/Users/tracysanchezpacheco/opt/anaconda3/lib/python3.8/site-packages/numpy/lib/nanfunctions.py:1113: RuntimeWarning: All-NaN slice encountered\n",
      "  r, k = function_base._ureduce(a, func=_nanmedian, axis=axis, out=out,\n"
     ]
    },
    {
     "name": "stdout",
     "output_type": "stream",
     "text": [
      "9472_5\n"
     ]
    },
    {
     "name": "stderr",
     "output_type": "stream",
     "text": [
      "/Users/tracysanchezpacheco/opt/anaconda3/lib/python3.8/site-packages/numpy/lib/nanfunctions.py:1113: RuntimeWarning: All-NaN slice encountered\n",
      "  r, k = function_base._ureduce(a, func=_nanmedian, axis=axis, out=out,\n"
     ]
    },
    {
     "name": "stdout",
     "output_type": "stream",
     "text": [
      "9502_1\n"
     ]
    },
    {
     "name": "stderr",
     "output_type": "stream",
     "text": [
      "/Users/tracysanchezpacheco/opt/anaconda3/lib/python3.8/site-packages/numpy/lib/nanfunctions.py:1113: RuntimeWarning: All-NaN slice encountered\n",
      "  r, k = function_base._ureduce(a, func=_nanmedian, axis=axis, out=out,\n"
     ]
    },
    {
     "name": "stdout",
     "output_type": "stream",
     "text": [
      "9502_2\n"
     ]
    },
    {
     "name": "stderr",
     "output_type": "stream",
     "text": [
      "/Users/tracysanchezpacheco/opt/anaconda3/lib/python3.8/site-packages/numpy/lib/nanfunctions.py:1113: RuntimeWarning: All-NaN slice encountered\n",
      "  r, k = function_base._ureduce(a, func=_nanmedian, axis=axis, out=out,\n"
     ]
    },
    {
     "name": "stdout",
     "output_type": "stream",
     "text": [
      "9502_3\n"
     ]
    },
    {
     "name": "stderr",
     "output_type": "stream",
     "text": [
      "/Users/tracysanchezpacheco/opt/anaconda3/lib/python3.8/site-packages/numpy/lib/nanfunctions.py:1113: RuntimeWarning: All-NaN slice encountered\n",
      "  r, k = function_base._ureduce(a, func=_nanmedian, axis=axis, out=out,\n"
     ]
    },
    {
     "name": "stdout",
     "output_type": "stream",
     "text": [
      "9502_5\n"
     ]
    },
    {
     "name": "stderr",
     "output_type": "stream",
     "text": [
      "/Users/tracysanchezpacheco/opt/anaconda3/lib/python3.8/site-packages/numpy/lib/nanfunctions.py:1113: RuntimeWarning: All-NaN slice encountered\n",
      "  r, k = function_base._ureduce(a, func=_nanmedian, axis=axis, out=out,\n"
     ]
    },
    {
     "name": "stdout",
     "output_type": "stream",
     "text": [
      "9601_1\n"
     ]
    },
    {
     "name": "stderr",
     "output_type": "stream",
     "text": [
      "/Users/tracysanchezpacheco/opt/anaconda3/lib/python3.8/site-packages/numpy/lib/nanfunctions.py:1113: RuntimeWarning: All-NaN slice encountered\n",
      "  r, k = function_base._ureduce(a, func=_nanmedian, axis=axis, out=out,\n"
     ]
    },
    {
     "name": "stdout",
     "output_type": "stream",
     "text": [
      "9601_2\n"
     ]
    },
    {
     "name": "stderr",
     "output_type": "stream",
     "text": [
      "/Users/tracysanchezpacheco/opt/anaconda3/lib/python3.8/site-packages/numpy/lib/nanfunctions.py:1113: RuntimeWarning: All-NaN slice encountered\n",
      "  r, k = function_base._ureduce(a, func=_nanmedian, axis=axis, out=out,\n"
     ]
    },
    {
     "name": "stdout",
     "output_type": "stream",
     "text": [
      "9601_3\n"
     ]
    },
    {
     "name": "stderr",
     "output_type": "stream",
     "text": [
      "/Users/tracysanchezpacheco/opt/anaconda3/lib/python3.8/site-packages/numpy/lib/nanfunctions.py:1113: RuntimeWarning: All-NaN slice encountered\n",
      "  r, k = function_base._ureduce(a, func=_nanmedian, axis=axis, out=out,\n"
     ]
    },
    {
     "name": "stdout",
     "output_type": "stream",
     "text": [
      "9601_4\n"
     ]
    },
    {
     "name": "stderr",
     "output_type": "stream",
     "text": [
      "/Users/tracysanchezpacheco/opt/anaconda3/lib/python3.8/site-packages/numpy/lib/nanfunctions.py:1113: RuntimeWarning: All-NaN slice encountered\n",
      "  r, k = function_base._ureduce(a, func=_nanmedian, axis=axis, out=out,\n"
     ]
    },
    {
     "name": "stdout",
     "output_type": "stream",
     "text": [
      "9601_5\n"
     ]
    },
    {
     "name": "stderr",
     "output_type": "stream",
     "text": [
      "/Users/tracysanchezpacheco/opt/anaconda3/lib/python3.8/site-packages/numpy/lib/nanfunctions.py:1113: RuntimeWarning: All-NaN slice encountered\n",
      "  r, k = function_base._ureduce(a, func=_nanmedian, axis=axis, out=out,\n"
     ]
    },
    {
     "name": "stdout",
     "output_type": "stream",
     "text": [
      "7_1_II\n"
     ]
    },
    {
     "name": "stderr",
     "output_type": "stream",
     "text": [
      "/Users/tracysanchezpacheco/opt/anaconda3/lib/python3.8/site-packages/numpy/lib/nanfunctions.py:1113: RuntimeWarning: All-NaN slice encountered\n",
      "  r, k = function_base._ureduce(a, func=_nanmedian, axis=axis, out=out,\n"
     ]
    },
    {
     "name": "stdout",
     "output_type": "stream",
     "text": [
      "2361_1\n"
     ]
    },
    {
     "name": "stderr",
     "output_type": "stream",
     "text": [
      "/Users/tracysanchezpacheco/opt/anaconda3/lib/python3.8/site-packages/numpy/lib/nanfunctions.py:1113: RuntimeWarning: All-NaN slice encountered\n",
      "  r, k = function_base._ureduce(a, func=_nanmedian, axis=axis, out=out,\n"
     ]
    },
    {
     "name": "stdout",
     "output_type": "stream",
     "text": [
      "3246_4\n"
     ]
    },
    {
     "name": "stderr",
     "output_type": "stream",
     "text": [
      "/Users/tracysanchezpacheco/opt/anaconda3/lib/python3.8/site-packages/numpy/lib/nanfunctions.py:1113: RuntimeWarning: All-NaN slice encountered\n",
      "  r, k = function_base._ureduce(a, func=_nanmedian, axis=axis, out=out,\n"
     ]
    },
    {
     "name": "stdout",
     "output_type": "stream",
     "text": [
      "4597_2\n"
     ]
    },
    {
     "name": "stderr",
     "output_type": "stream",
     "text": [
      "/Users/tracysanchezpacheco/opt/anaconda3/lib/python3.8/site-packages/numpy/lib/nanfunctions.py:1113: RuntimeWarning: All-NaN slice encountered\n",
      "  r, k = function_base._ureduce(a, func=_nanmedian, axis=axis, out=out,\n"
     ]
    },
    {
     "name": "stdout",
     "output_type": "stream",
     "text": [
      "4597_3\n"
     ]
    },
    {
     "name": "stderr",
     "output_type": "stream",
     "text": [
      "/Users/tracysanchezpacheco/opt/anaconda3/lib/python3.8/site-packages/numpy/lib/nanfunctions.py:1113: RuntimeWarning: All-NaN slice encountered\n",
      "  r, k = function_base._ureduce(a, func=_nanmedian, axis=axis, out=out,\n"
     ]
    },
    {
     "name": "stdout",
     "output_type": "stream",
     "text": [
      "4597_4\n"
     ]
    },
    {
     "name": "stderr",
     "output_type": "stream",
     "text": [
      "/Users/tracysanchezpacheco/opt/anaconda3/lib/python3.8/site-packages/numpy/lib/nanfunctions.py:1113: RuntimeWarning: All-NaN slice encountered\n",
      "  r, k = function_base._ureduce(a, func=_nanmedian, axis=axis, out=out,\n"
     ]
    },
    {
     "name": "stdout",
     "output_type": "stream",
     "text": [
      "4597_5\n"
     ]
    },
    {
     "name": "stderr",
     "output_type": "stream",
     "text": [
      "/Users/tracysanchezpacheco/opt/anaconda3/lib/python3.8/site-packages/numpy/lib/nanfunctions.py:1113: RuntimeWarning: All-NaN slice encountered\n",
      "  r, k = function_base._ureduce(a, func=_nanmedian, axis=axis, out=out,\n"
     ]
    },
    {
     "name": "stdout",
     "output_type": "stream",
     "text": [
      "9502_4\n"
     ]
    },
    {
     "name": "stderr",
     "output_type": "stream",
     "text": [
      "/Users/tracysanchezpacheco/opt/anaconda3/lib/python3.8/site-packages/numpy/lib/nanfunctions.py:1113: RuntimeWarning: All-NaN slice encountered\n",
      "  r, k = function_base._ureduce(a, func=_nanmedian, axis=axis, out=out,\n"
     ]
    },
    {
     "name": "stdout",
     "output_type": "stream",
     "text": [
      "9586_1\n"
     ]
    },
    {
     "name": "stderr",
     "output_type": "stream",
     "text": [
      "/Users/tracysanchezpacheco/opt/anaconda3/lib/python3.8/site-packages/numpy/lib/nanfunctions.py:1113: RuntimeWarning: All-NaN slice encountered\n",
      "  r, k = function_base._ureduce(a, func=_nanmedian, axis=axis, out=out,\n"
     ]
    },
    {
     "name": "stdout",
     "output_type": "stream",
     "text": [
      "9586_2\n"
     ]
    },
    {
     "name": "stderr",
     "output_type": "stream",
     "text": [
      "/Users/tracysanchezpacheco/opt/anaconda3/lib/python3.8/site-packages/numpy/lib/nanfunctions.py:1113: RuntimeWarning: All-NaN slice encountered\n",
      "  r, k = function_base._ureduce(a, func=_nanmedian, axis=axis, out=out,\n"
     ]
    },
    {
     "name": "stdout",
     "output_type": "stream",
     "text": [
      "9586_3\n"
     ]
    },
    {
     "name": "stderr",
     "output_type": "stream",
     "text": [
      "/Users/tracysanchezpacheco/opt/anaconda3/lib/python3.8/site-packages/numpy/lib/nanfunctions.py:1113: RuntimeWarning: All-NaN slice encountered\n",
      "  r, k = function_base._ureduce(a, func=_nanmedian, axis=axis, out=out,\n"
     ]
    },
    {
     "name": "stdout",
     "output_type": "stream",
     "text": [
      "9586_4\n"
     ]
    },
    {
     "name": "stderr",
     "output_type": "stream",
     "text": [
      "/Users/tracysanchezpacheco/opt/anaconda3/lib/python3.8/site-packages/numpy/lib/nanfunctions.py:1113: RuntimeWarning: All-NaN slice encountered\n",
      "  r, k = function_base._ureduce(a, func=_nanmedian, axis=axis, out=out,\n"
     ]
    },
    {
     "name": "stdout",
     "output_type": "stream",
     "text": [
      "9586_5\n"
     ]
    },
    {
     "name": "stderr",
     "output_type": "stream",
     "text": [
      "/Users/tracysanchezpacheco/opt/anaconda3/lib/python3.8/site-packages/numpy/lib/nanfunctions.py:1113: RuntimeWarning: All-NaN slice encountered\n",
      "  r, k = function_base._ureduce(a, func=_nanmedian, axis=axis, out=out,\n"
     ]
    },
    {
     "name": "stdout",
     "output_type": "stream",
     "text": [
      "4597_1\n"
     ]
    }
   ],
   "source": [
    "path = \"/Volumes/TwoTeras/0_Experiment_1/Eye_Tracking/Pre_processed/03_Individuals_IndividualSessions/\" \n",
    "\n",
    "  \n",
    "# csv files in the path\n",
    "files = glob.glob(path + \"/*.csv\")\n",
    "  \n",
    "# defining an empty list to store \n",
    "# content\n",
    "data_frame = pd.DataFrame()\n",
    "content = []\n",
    "  \n",
    "# checking all the csv files in the \n",
    "# specified path\n",
    "for filename in files:\n",
    "    \n",
    "    # reading content of csv file\n",
    "    # content.append(filename)\n",
    "    One_participant = pd.read_csv(filename)\n",
    "    One_participant.drop(['Unnamed: 0'],axis=1, inplace=True)\n",
    "    #Apply function that marks beggining and end of invalid sections\n",
    "    One_participant[\"Bitmask_flag\"] = bitmask_flag_change(One_participant, \"combinedGazeValidityBitmask\")\n",
    "    One_participant.reset_index(inplace=True)\n",
    "    # Get index of begging and end of invalid events\n",
    "    indexLastValid = One_participant[One_participant[\"Bitmask_flag\"] == \"Invalid_Section_Starts\"].index\n",
    "    indexLastInValid = One_participant[One_participant[\"Bitmask_flag\"] == \"Invalid_Section_Ends\"].index\n",
    "    # Get 20 rows prior to the beggining of the invalid event \n",
    "    indexLower = indexLastValid - 20\n",
    "    indexUpper = indexLastValid\n",
    "    # Since it's possible that the invalid event occured less than 20 rows from the beggining of the file\n",
    "    # we need to correct so that the highest possible index is the firs value in the file\n",
    "    indexLower_r = [0 if i < 0 else i for i in indexLower]\n",
    "    #Create a list with the most common element 200ms before the invalid section started\n",
    "    Elements_to_replace = [One_participant.iloc[down:up,20].mode().iloc[0] for down, up in zip(indexLower_r, indexUpper)]\n",
    "    #Create new column for interpolated events\n",
    "    One_participant[\"Interpolated_collider\"] = One_participant[\"hitObjectColliderName\"]\n",
    "    #Concat the row indexes that need replacement\n",
    "    ranges = list(zip(indexLastValid, indexLastInValid))\n",
    "    #Replace the invalid event with the mode of 20 events prior\n",
    "    for i, (lower, upper) in enumerate(ranges):\n",
    "        One_participant.iloc[lower:upper,-2]  = Elements_to_replace[i]\n",
    "    # Here we look for the patterns contained in the dictionary and create the more general/informative variable Collider_Categorical\n",
    "    One_participant['Collider_Categorical'] = One_participant['Interpolated_collider'].apply(lambda x: next((val for key, val in patterns.items() if re.match(key, x)), default_val))\n",
    "    # Replace coordinates and eucledian distances with Nans\n",
    "    One_participant.loc[One_participant['combinedGazeValidityBitmask'] == 0, ['hitPointOnObject_x', 'hitPointOnObject_y', 'hitPointOnObject_z',' eyePositionCombinedWorld.x', 'eyePositionCombinedWorld.y', 'eyePositionCombinedWorld.z', 'Eucledian_distance']] =  np.nan\n",
    "    indexLastValid = []\n",
    "    indexLastInValid = []\n",
    "    indexLower = []\n",
    "    indexUpper = []\n",
    "    \n",
    "    # 5 point median filter\n",
    "    One_participant[\"hitPointOnObject_x\"] = median_correction(One_participant.hitPointOnObject_x)\n",
    "    One_participant[\"hitPointOnObject_y\"] = median_correction(One_participant.hitPointOnObject_y)\n",
    "    One_participant[\"hitPointOnObject_z\"] = median_correction(One_participant.hitPointOnObject_z)\n",
    "    One_participant[\"eyePositionCombinedWorld.x\"] = median_correction( One_participant[\"eyePositionCombinedWorld.x\"])\n",
    "    One_participant[\"eyePositionCombinedWorld.y\"] = median_correction( One_participant[\"eyePositionCombinedWorld.y\"])\n",
    "    One_participant[\"eyePositionCombinedWorld.z\"] = median_correction( One_participant[\"eyePositionCombinedWorld.z\"])\n",
    "     #Saves an individual file per session per subject with out duplicates\n",
    "    One_participant.to_csv(f\"/Volumes/TwoTeras/0_Experiment_1/Eye_Tracking/Pre_processed/04_Interpolated/{filename[-10:-4]}.csv\", index=True)\n",
    "    print(filename[-10:-4])\n",
    "    content.append(One_participant)\n",
    "\n",
    "# converting content to data frame\n",
    "data_frame = pd.concat(content)"
   ]
  },
  {
   "cell_type": "code",
   "execution_count": 6,
   "id": "3fa1964c-5746-46fc-9f30-d76e69006277",
   "metadata": {},
   "outputs": [
    {
     "data": {
      "text/html": [
       "<div>\n",
       "<style scoped>\n",
       "    .dataframe tbody tr th:only-of-type {\n",
       "        vertical-align: middle;\n",
       "    }\n",
       "\n",
       "    .dataframe tbody tr th {\n",
       "        vertical-align: top;\n",
       "    }\n",
       "\n",
       "    .dataframe thead th {\n",
       "        text-align: right;\n",
       "    }\n",
       "</style>\n",
       "<table border=\"1\" class=\"dataframe\">\n",
       "  <thead>\n",
       "    <tr style=\"text-align: right;\">\n",
       "      <th></th>\n",
       "      <th>index</th>\n",
       "      <th>SubjectID</th>\n",
       "      <th>Session</th>\n",
       "      <th>SessionSubsection</th>\n",
       "      <th>timeStampDataPointEnd</th>\n",
       "      <th>combinedGazeValidityBitmask</th>\n",
       "      <th>eyePositionCombinedWorld.x</th>\n",
       "      <th>eyePositionCombinedWorld.y</th>\n",
       "      <th>eyePositionCombinedWorld.z</th>\n",
       "      <th>eyeDirectionCombinedWorld.y</th>\n",
       "      <th>...</th>\n",
       "      <th>hitPointOnObject_z</th>\n",
       "      <th>Eucledian_distance</th>\n",
       "      <th>Collider_Categorical</th>\n",
       "      <th>Face_Hits</th>\n",
       "      <th>Time_Shift</th>\n",
       "      <th>Continuous_Time</th>\n",
       "      <th>Bitmask_flag</th>\n",
       "      <th>Interpolated_collider</th>\n",
       "      <th>eyePositionCombinedWorld.x</th>\n",
       "      <th>Unnamed: 0.1</th>\n",
       "    </tr>\n",
       "  </thead>\n",
       "  <tbody>\n",
       "    <tr>\n",
       "      <th>115157</th>\n",
       "      <td>115157</td>\n",
       "      <td>4597</td>\n",
       "      <td>1</td>\n",
       "      <td>3</td>\n",
       "      <td>1.633679e+09</td>\n",
       "      <td>3</td>\n",
       "      <td>112.422913</td>\n",
       "      <td>1.519306</td>\n",
       "      <td>44.976521</td>\n",
       "      <td>0.014594</td>\n",
       "      <td>...</td>\n",
       "      <td>537.484436</td>\n",
       "      <td>795.363904</td>\n",
       "      <td>Background</td>\n",
       "      <td>Not_Agent</td>\n",
       "      <td>0.021824</td>\n",
       "      <td>30.837</td>\n",
       "      <td>No_change</td>\n",
       "      <td>terrain_G.001</td>\n",
       "      <td>NaN</td>\n",
       "      <td>NaN</td>\n",
       "    </tr>\n",
       "    <tr>\n",
       "      <th>115158</th>\n",
       "      <td>115158</td>\n",
       "      <td>4597</td>\n",
       "      <td>1</td>\n",
       "      <td>3</td>\n",
       "      <td>1.633679e+09</td>\n",
       "      <td>3</td>\n",
       "      <td>112.532890</td>\n",
       "      <td>1.523187</td>\n",
       "      <td>45.097050</td>\n",
       "      <td>0.018045</td>\n",
       "      <td>...</td>\n",
       "      <td>537.484436</td>\n",
       "      <td>162.050261</td>\n",
       "      <td>Background</td>\n",
       "      <td>Not_Agent</td>\n",
       "      <td>0.033232</td>\n",
       "      <td>30.838</td>\n",
       "      <td>No_change</td>\n",
       "      <td>CollisionObject1</td>\n",
       "      <td>NaN</td>\n",
       "      <td>NaN</td>\n",
       "    </tr>\n",
       "    <tr>\n",
       "      <th>115159</th>\n",
       "      <td>115159</td>\n",
       "      <td>4597</td>\n",
       "      <td>1</td>\n",
       "      <td>3</td>\n",
       "      <td>1.633679e+09</td>\n",
       "      <td>3</td>\n",
       "      <td>112.564781</td>\n",
       "      <td>1.524750</td>\n",
       "      <td>45.137657</td>\n",
       "      <td>-0.000079</td>\n",
       "      <td>...</td>\n",
       "      <td>148.101135</td>\n",
       "      <td>761.063148</td>\n",
       "      <td>Background</td>\n",
       "      <td>Not_Agent</td>\n",
       "      <td>0.011409</td>\n",
       "      <td>30.838</td>\n",
       "      <td>No_change</td>\n",
       "      <td>terrain_G.001</td>\n",
       "      <td>NaN</td>\n",
       "      <td>NaN</td>\n",
       "    </tr>\n",
       "    <tr>\n",
       "      <th>115160</th>\n",
       "      <td>115160</td>\n",
       "      <td>4597</td>\n",
       "      <td>1</td>\n",
       "      <td>3</td>\n",
       "      <td>1.633679e+09</td>\n",
       "      <td>3</td>\n",
       "      <td>112.634048</td>\n",
       "      <td>1.527093</td>\n",
       "      <td>45.217213</td>\n",
       "      <td>0.001534</td>\n",
       "      <td>...</td>\n",
       "      <td>143.630264</td>\n",
       "      <td>160.303109</td>\n",
       "      <td>Background</td>\n",
       "      <td>Not_Agent</td>\n",
       "      <td>0.021822</td>\n",
       "      <td>30.838</td>\n",
       "      <td>No_change</td>\n",
       "      <td>CollisionObject1</td>\n",
       "      <td>NaN</td>\n",
       "      <td>NaN</td>\n",
       "    </tr>\n",
       "    <tr>\n",
       "      <th>115161</th>\n",
       "      <td>115161</td>\n",
       "      <td>4597</td>\n",
       "      <td>1</td>\n",
       "      <td>3</td>\n",
       "      <td>1.633679e+09</td>\n",
       "      <td>3</td>\n",
       "      <td>112.773247</td>\n",
       "      <td>1.527426</td>\n",
       "      <td>45.294914</td>\n",
       "      <td>-0.017458</td>\n",
       "      <td>...</td>\n",
       "      <td>84.401093</td>\n",
       "      <td>67.652878</td>\n",
       "      <td>Background</td>\n",
       "      <td>Not_Agent</td>\n",
       "      <td>0.022322</td>\n",
       "      <td>30.838</td>\n",
       "      <td>No_change</td>\n",
       "      <td>Wall</td>\n",
       "      <td>NaN</td>\n",
       "      <td>NaN</td>\n",
       "    </tr>\n",
       "    <tr>\n",
       "      <th>115162</th>\n",
       "      <td>115162</td>\n",
       "      <td>4597</td>\n",
       "      <td>1</td>\n",
       "      <td>3</td>\n",
       "      <td>1.633679e+09</td>\n",
       "      <td>3</td>\n",
       "      <td>112.812645</td>\n",
       "      <td>1.528314</td>\n",
       "      <td>45.335560</td>\n",
       "      <td>-0.014570</td>\n",
       "      <td>...</td>\n",
       "      <td>81.469818</td>\n",
       "      <td>79.928968</td>\n",
       "      <td>Background</td>\n",
       "      <td>Not_Agent</td>\n",
       "      <td>0.011406</td>\n",
       "      <td>30.839</td>\n",
       "      <td>No_change</td>\n",
       "      <td>Wall_1</td>\n",
       "      <td>NaN</td>\n",
       "      <td>NaN</td>\n",
       "    </tr>\n",
       "    <tr>\n",
       "      <th>115163</th>\n",
       "      <td>115163</td>\n",
       "      <td>4597</td>\n",
       "      <td>1</td>\n",
       "      <td>3</td>\n",
       "      <td>1.633679e+09</td>\n",
       "      <td>3</td>\n",
       "      <td>112.890190</td>\n",
       "      <td>1.530462</td>\n",
       "      <td>45.415375</td>\n",
       "      <td>-0.026581</td>\n",
       "      <td>...</td>\n",
       "      <td>73.374046</td>\n",
       "      <td>59.073958</td>\n",
       "      <td>Background</td>\n",
       "      <td>Not_Agent</td>\n",
       "      <td>0.021825</td>\n",
       "      <td>30.839</td>\n",
       "      <td>No_change</td>\n",
       "      <td>Wall</td>\n",
       "      <td>NaN</td>\n",
       "      <td>NaN</td>\n",
       "    </tr>\n",
       "    <tr>\n",
       "      <th>115164</th>\n",
       "      <td>115164</td>\n",
       "      <td>4597</td>\n",
       "      <td>1</td>\n",
       "      <td>3</td>\n",
       "      <td>1.633679e+09</td>\n",
       "      <td>3</td>\n",
       "      <td>112.966751</td>\n",
       "      <td>1.530462</td>\n",
       "      <td>45.494057</td>\n",
       "      <td>-0.024647</td>\n",
       "      <td>...</td>\n",
       "      <td>73.310822</td>\n",
       "      <td>59.012143</td>\n",
       "      <td>Background</td>\n",
       "      <td>Not_Agent</td>\n",
       "      <td>0.022319</td>\n",
       "      <td>30.839</td>\n",
       "      <td>No_change</td>\n",
       "      <td>Wall</td>\n",
       "      <td>NaN</td>\n",
       "      <td>NaN</td>\n",
       "    </tr>\n",
       "    <tr>\n",
       "      <th>115165</th>\n",
       "      <td>115165</td>\n",
       "      <td>4597</td>\n",
       "      <td>1</td>\n",
       "      <td>3</td>\n",
       "      <td>1.633679e+09</td>\n",
       "      <td>3</td>\n",
       "      <td>113.005096</td>\n",
       "      <td>1.530462</td>\n",
       "      <td>45.533314</td>\n",
       "      <td>-0.029218</td>\n",
       "      <td>...</td>\n",
       "      <td>72.145668</td>\n",
       "      <td>58.917992</td>\n",
       "      <td>Background</td>\n",
       "      <td>Not_Agent</td>\n",
       "      <td>0.010912</td>\n",
       "      <td>30.840</td>\n",
       "      <td>No_change</td>\n",
       "      <td>Wall</td>\n",
       "      <td>NaN</td>\n",
       "      <td>NaN</td>\n",
       "    </tr>\n",
       "    <tr>\n",
       "      <th>115166</th>\n",
       "      <td>115166</td>\n",
       "      <td>4597</td>\n",
       "      <td>1</td>\n",
       "      <td>3</td>\n",
       "      <td>1.633679e+09</td>\n",
       "      <td>3</td>\n",
       "      <td>113.044258</td>\n",
       "      <td>1.530329</td>\n",
       "      <td>45.573292</td>\n",
       "      <td>-0.046722</td>\n",
       "      <td>...</td>\n",
       "      <td>72.145668</td>\n",
       "      <td>40.726035</td>\n",
       "      <td>Background</td>\n",
       "      <td>Not_Agent</td>\n",
       "      <td>0.011408</td>\n",
       "      <td>30.840</td>\n",
       "      <td>No_change</td>\n",
       "      <td>pavement_I.003</td>\n",
       "      <td>NaN</td>\n",
       "      <td>NaN</td>\n",
       "    </tr>\n",
       "    <tr>\n",
       "      <th>115167</th>\n",
       "      <td>115167</td>\n",
       "      <td>4597</td>\n",
       "      <td>1</td>\n",
       "      <td>3</td>\n",
       "      <td>1.633679e+09</td>\n",
       "      <td>3</td>\n",
       "      <td>113.121643</td>\n",
       "      <td>1.530083</td>\n",
       "      <td>45.653057</td>\n",
       "      <td>-0.037883</td>\n",
       "      <td>...</td>\n",
       "      <td>71.292236</td>\n",
       "      <td>53.364139</td>\n",
       "      <td>Background</td>\n",
       "      <td>Not_Agent</td>\n",
       "      <td>0.022319</td>\n",
       "      <td>30.840</td>\n",
       "      <td>No_change</td>\n",
       "      <td>road_base_network.004</td>\n",
       "      <td>NaN</td>\n",
       "      <td>NaN</td>\n",
       "    </tr>\n",
       "    <tr>\n",
       "      <th>115168</th>\n",
       "      <td>115168</td>\n",
       "      <td>4597</td>\n",
       "      <td>1</td>\n",
       "      <td>3</td>\n",
       "      <td>1.633679e+09</td>\n",
       "      <td>3</td>\n",
       "      <td>113.199051</td>\n",
       "      <td>1.530083</td>\n",
       "      <td>45.732368</td>\n",
       "      <td>-0.029300</td>\n",
       "      <td>...</td>\n",
       "      <td>70.862350</td>\n",
       "      <td>58.649696</td>\n",
       "      <td>Background</td>\n",
       "      <td>Not_Agent</td>\n",
       "      <td>0.022320</td>\n",
       "      <td>30.841</td>\n",
       "      <td>No_change</td>\n",
       "      <td>Wall</td>\n",
       "      <td>NaN</td>\n",
       "      <td>NaN</td>\n",
       "    </tr>\n",
       "    <tr>\n",
       "      <th>115169</th>\n",
       "      <td>115169</td>\n",
       "      <td>4597</td>\n",
       "      <td>1</td>\n",
       "      <td>3</td>\n",
       "      <td>1.633679e+09</td>\n",
       "      <td>3</td>\n",
       "      <td>113.276237</td>\n",
       "      <td>1.530083</td>\n",
       "      <td>45.811687</td>\n",
       "      <td>-0.034754</td>\n",
       "      <td>...</td>\n",
       "      <td>70.862350</td>\n",
       "      <td>53.736634</td>\n",
       "      <td>Background</td>\n",
       "      <td>Not_Agent</td>\n",
       "      <td>0.021824</td>\n",
       "      <td>30.841</td>\n",
       "      <td>No_change</td>\n",
       "      <td>pavement_Ha.002</td>\n",
       "      <td>NaN</td>\n",
       "      <td>NaN</td>\n",
       "    </tr>\n",
       "    <tr>\n",
       "      <th>115170</th>\n",
       "      <td>115170</td>\n",
       "      <td>4597</td>\n",
       "      <td>1</td>\n",
       "      <td>3</td>\n",
       "      <td>1.633679e+09</td>\n",
       "      <td>3</td>\n",
       "      <td>113.308029</td>\n",
       "      <td>1.530499</td>\n",
       "      <td>45.852825</td>\n",
       "      <td>-0.039594</td>\n",
       "      <td>...</td>\n",
       "      <td>71.292236</td>\n",
       "      <td>52.563295</td>\n",
       "      <td>Background</td>\n",
       "      <td>Not_Agent</td>\n",
       "      <td>0.011407</td>\n",
       "      <td>30.841</td>\n",
       "      <td>No_change</td>\n",
       "      <td>road_base_network.004</td>\n",
       "      <td>NaN</td>\n",
       "      <td>NaN</td>\n",
       "    </tr>\n",
       "    <tr>\n",
       "      <th>115171</th>\n",
       "      <td>115171</td>\n",
       "      <td>4597</td>\n",
       "      <td>1</td>\n",
       "      <td>3</td>\n",
       "      <td>1.633679e+09</td>\n",
       "      <td>3</td>\n",
       "      <td>113.354340</td>\n",
       "      <td>1.532069</td>\n",
       "      <td>45.933762</td>\n",
       "      <td>-0.037877</td>\n",
       "      <td>...</td>\n",
       "      <td>71.292236</td>\n",
       "      <td>53.060832</td>\n",
       "      <td>Background</td>\n",
       "      <td>Not_Agent</td>\n",
       "      <td>0.021825</td>\n",
       "      <td>30.841</td>\n",
       "      <td>No_change</td>\n",
       "      <td>road_base_network.004</td>\n",
       "      <td>NaN</td>\n",
       "      <td>NaN</td>\n",
       "    </tr>\n",
       "    <tr>\n",
       "      <th>115172</th>\n",
       "      <td>115172</td>\n",
       "      <td>4597</td>\n",
       "      <td>1</td>\n",
       "      <td>3</td>\n",
       "      <td>1.633679e+09</td>\n",
       "      <td>3</td>\n",
       "      <td>113.392166</td>\n",
       "      <td>1.532113</td>\n",
       "      <td>45.973965</td>\n",
       "      <td>-0.031158</td>\n",
       "      <td>...</td>\n",
       "      <td>72.558891</td>\n",
       "      <td>58.361814</td>\n",
       "      <td>Background</td>\n",
       "      <td>Not_Agent</td>\n",
       "      <td>0.011408</td>\n",
       "      <td>30.842</td>\n",
       "      <td>No_change</td>\n",
       "      <td>Wall</td>\n",
       "      <td>NaN</td>\n",
       "      <td>NaN</td>\n",
       "    </tr>\n",
       "    <tr>\n",
       "      <th>115173</th>\n",
       "      <td>115173</td>\n",
       "      <td>4597</td>\n",
       "      <td>1</td>\n",
       "      <td>3</td>\n",
       "      <td>1.633679e+09</td>\n",
       "      <td>3</td>\n",
       "      <td>113.468208</td>\n",
       "      <td>1.532113</td>\n",
       "      <td>46.053692</td>\n",
       "      <td>-0.026614</td>\n",
       "      <td>...</td>\n",
       "      <td>72.558891</td>\n",
       "      <td>58.242326</td>\n",
       "      <td>Background</td>\n",
       "      <td>Not_Agent</td>\n",
       "      <td>0.021824</td>\n",
       "      <td>30.842</td>\n",
       "      <td>No_change</td>\n",
       "      <td>Wall</td>\n",
       "      <td>NaN</td>\n",
       "      <td>NaN</td>\n",
       "    </tr>\n",
       "    <tr>\n",
       "      <th>115174</th>\n",
       "      <td>115174</td>\n",
       "      <td>4597</td>\n",
       "      <td>1</td>\n",
       "      <td>3</td>\n",
       "      <td>1.633679e+09</td>\n",
       "      <td>3</td>\n",
       "      <td>113.506805</td>\n",
       "      <td>1.532113</td>\n",
       "      <td>46.093540</td>\n",
       "      <td>-0.026848</td>\n",
       "      <td>...</td>\n",
       "      <td>72.558891</td>\n",
       "      <td>58.189362</td>\n",
       "      <td>Background</td>\n",
       "      <td>Not_Agent</td>\n",
       "      <td>0.011408</td>\n",
       "      <td>30.842</td>\n",
       "      <td>No_change</td>\n",
       "      <td>Wall</td>\n",
       "      <td>NaN</td>\n",
       "      <td>NaN</td>\n",
       "    </tr>\n",
       "    <tr>\n",
       "      <th>115175</th>\n",
       "      <td>115175</td>\n",
       "      <td>4597</td>\n",
       "      <td>1</td>\n",
       "      <td>3</td>\n",
       "      <td>1.633679e+09</td>\n",
       "      <td>3</td>\n",
       "      <td>113.583427</td>\n",
       "      <td>1.531890</td>\n",
       "      <td>46.173443</td>\n",
       "      <td>-0.035992</td>\n",
       "      <td>...</td>\n",
       "      <td>70.561462</td>\n",
       "      <td>52.884077</td>\n",
       "      <td>Background</td>\n",
       "      <td>Not_Agent</td>\n",
       "      <td>0.022320</td>\n",
       "      <td>30.843</td>\n",
       "      <td>No_change</td>\n",
       "      <td>road_base_network.004</td>\n",
       "      <td>NaN</td>\n",
       "      <td>NaN</td>\n",
       "    </tr>\n",
       "    <tr>\n",
       "      <th>115176</th>\n",
       "      <td>115176</td>\n",
       "      <td>4597</td>\n",
       "      <td>1</td>\n",
       "      <td>3</td>\n",
       "      <td>1.633679e+09</td>\n",
       "      <td>3</td>\n",
       "      <td>113.622299</td>\n",
       "      <td>1.531792</td>\n",
       "      <td>46.213772</td>\n",
       "      <td>-0.036455</td>\n",
       "      <td>...</td>\n",
       "      <td>70.561462</td>\n",
       "      <td>52.801685</td>\n",
       "      <td>Background</td>\n",
       "      <td>Not_Agent</td>\n",
       "      <td>0.010914</td>\n",
       "      <td>30.843</td>\n",
       "      <td>No_change</td>\n",
       "      <td>road_base_network.004</td>\n",
       "      <td>NaN</td>\n",
       "      <td>NaN</td>\n",
       "    </tr>\n",
       "    <tr>\n",
       "      <th>115177</th>\n",
       "      <td>115177</td>\n",
       "      <td>4597</td>\n",
       "      <td>1</td>\n",
       "      <td>3</td>\n",
       "      <td>1.633679e+09</td>\n",
       "      <td>3</td>\n",
       "      <td>113.662018</td>\n",
       "      <td>1.531667</td>\n",
       "      <td>46.255020</td>\n",
       "      <td>-0.038873</td>\n",
       "      <td>...</td>\n",
       "      <td>70.561462</td>\n",
       "      <td>52.594785</td>\n",
       "      <td>Background</td>\n",
       "      <td>Not_Agent</td>\n",
       "      <td>0.010911</td>\n",
       "      <td>30.843</td>\n",
       "      <td>No_change</td>\n",
       "      <td>road_base_network.004</td>\n",
       "      <td>NaN</td>\n",
       "      <td>NaN</td>\n",
       "    </tr>\n",
       "    <tr>\n",
       "      <th>115178</th>\n",
       "      <td>115178</td>\n",
       "      <td>4597</td>\n",
       "      <td>1</td>\n",
       "      <td>3</td>\n",
       "      <td>1.633679e+09</td>\n",
       "      <td>3</td>\n",
       "      <td>113.700264</td>\n",
       "      <td>1.531558</td>\n",
       "      <td>46.294067</td>\n",
       "      <td>-0.031375</td>\n",
       "      <td>...</td>\n",
       "      <td>72.903061</td>\n",
       "      <td>57.926207</td>\n",
       "      <td>Background</td>\n",
       "      <td>Not_Agent</td>\n",
       "      <td>0.010913</td>\n",
       "      <td>30.843</td>\n",
       "      <td>No_change</td>\n",
       "      <td>Wall</td>\n",
       "      <td>NaN</td>\n",
       "      <td>NaN</td>\n",
       "    </tr>\n",
       "    <tr>\n",
       "      <th>115179</th>\n",
       "      <td>115179</td>\n",
       "      <td>4597</td>\n",
       "      <td>1</td>\n",
       "      <td>3</td>\n",
       "      <td>1.633679e+09</td>\n",
       "      <td>3</td>\n",
       "      <td>113.738930</td>\n",
       "      <td>1.531429</td>\n",
       "      <td>46.333786</td>\n",
       "      <td>-0.032269</td>\n",
       "      <td>...</td>\n",
       "      <td>72.999107</td>\n",
       "      <td>57.875275</td>\n",
       "      <td>Background</td>\n",
       "      <td>Not_Agent</td>\n",
       "      <td>0.011903</td>\n",
       "      <td>30.843</td>\n",
       "      <td>No_change</td>\n",
       "      <td>Wall</td>\n",
       "      <td>NaN</td>\n",
       "      <td>NaN</td>\n",
       "    </tr>\n",
       "    <tr>\n",
       "      <th>115180</th>\n",
       "      <td>115180</td>\n",
       "      <td>4597</td>\n",
       "      <td>1</td>\n",
       "      <td>3</td>\n",
       "      <td>1.633679e+09</td>\n",
       "      <td>3</td>\n",
       "      <td>113.815468</td>\n",
       "      <td>1.531273</td>\n",
       "      <td>46.413834</td>\n",
       "      <td>-0.029660</td>\n",
       "      <td>...</td>\n",
       "      <td>73.144577</td>\n",
       "      <td>57.761880</td>\n",
       "      <td>Background</td>\n",
       "      <td>Not_Agent</td>\n",
       "      <td>0.021824</td>\n",
       "      <td>30.844</td>\n",
       "      <td>No_change</td>\n",
       "      <td>Wall</td>\n",
       "      <td>NaN</td>\n",
       "      <td>NaN</td>\n",
       "    </tr>\n",
       "    <tr>\n",
       "      <th>115181</th>\n",
       "      <td>115181</td>\n",
       "      <td>4597</td>\n",
       "      <td>1</td>\n",
       "      <td>3</td>\n",
       "      <td>1.633679e+09</td>\n",
       "      <td>3</td>\n",
       "      <td>113.853333</td>\n",
       "      <td>1.531228</td>\n",
       "      <td>46.453625</td>\n",
       "      <td>-0.029906</td>\n",
       "      <td>...</td>\n",
       "      <td>73.208282</td>\n",
       "      <td>57.710171</td>\n",
       "      <td>Background</td>\n",
       "      <td>Not_Agent</td>\n",
       "      <td>0.011408</td>\n",
       "      <td>30.844</td>\n",
       "      <td>No_change</td>\n",
       "      <td>Wall</td>\n",
       "      <td>NaN</td>\n",
       "      <td>NaN</td>\n",
       "    </tr>\n",
       "    <tr>\n",
       "      <th>115182</th>\n",
       "      <td>115182</td>\n",
       "      <td>4597</td>\n",
       "      <td>1</td>\n",
       "      <td>3</td>\n",
       "      <td>1.633679e+09</td>\n",
       "      <td>3</td>\n",
       "      <td>113.930939</td>\n",
       "      <td>1.531101</td>\n",
       "      <td>46.534008</td>\n",
       "      <td>-0.033229</td>\n",
       "      <td>...</td>\n",
       "      <td>73.229622</td>\n",
       "      <td>57.456647</td>\n",
       "      <td>Background</td>\n",
       "      <td>Not_Agent</td>\n",
       "      <td>0.053568</td>\n",
       "      <td>30.845</td>\n",
       "      <td>No_change</td>\n",
       "      <td>Wall</td>\n",
       "      <td>NaN</td>\n",
       "      <td>NaN</td>\n",
       "    </tr>\n",
       "    <tr>\n",
       "      <th>115183</th>\n",
       "      <td>115183</td>\n",
       "      <td>4597</td>\n",
       "      <td>1</td>\n",
       "      <td>3</td>\n",
       "      <td>1.633679e+09</td>\n",
       "      <td>3</td>\n",
       "      <td>114.112061</td>\n",
       "      <td>1.530602</td>\n",
       "      <td>46.716492</td>\n",
       "      <td>-0.028952</td>\n",
       "      <td>...</td>\n",
       "      <td>76.365318</td>\n",
       "      <td>58.479701</td>\n",
       "      <td>Background</td>\n",
       "      <td>Not_Agent</td>\n",
       "      <td>0.017362</td>\n",
       "      <td>30.845</td>\n",
       "      <td>No_change</td>\n",
       "      <td>Wall</td>\n",
       "      <td>NaN</td>\n",
       "      <td>NaN</td>\n",
       "    </tr>\n",
       "    <tr>\n",
       "      <th>115184</th>\n",
       "      <td>115184</td>\n",
       "      <td>4597</td>\n",
       "      <td>1</td>\n",
       "      <td>3</td>\n",
       "      <td>1.633679e+09</td>\n",
       "      <td>3</td>\n",
       "      <td>114.189964</td>\n",
       "      <td>1.530602</td>\n",
       "      <td>46.784332</td>\n",
       "      <td>-0.035935</td>\n",
       "      <td>...</td>\n",
       "      <td>81.367432</td>\n",
       "      <td>56.885766</td>\n",
       "      <td>Background</td>\n",
       "      <td>Not_Agent</td>\n",
       "      <td>0.017855</td>\n",
       "      <td>30.845</td>\n",
       "      <td>No_change</td>\n",
       "      <td>road_base_network.004</td>\n",
       "      <td>NaN</td>\n",
       "      <td>NaN</td>\n",
       "    </tr>\n",
       "    <tr>\n",
       "      <th>115185</th>\n",
       "      <td>115185</td>\n",
       "      <td>4597</td>\n",
       "      <td>1</td>\n",
       "      <td>3</td>\n",
       "      <td>1.633679e+09</td>\n",
       "      <td>3</td>\n",
       "      <td>114.261269</td>\n",
       "      <td>1.530602</td>\n",
       "      <td>46.855068</td>\n",
       "      <td>-0.025646</td>\n",
       "      <td>...</td>\n",
       "      <td>100.529579</td>\n",
       "      <td>89.252115</td>\n",
       "      <td>Background</td>\n",
       "      <td>Not_Agent</td>\n",
       "      <td>0.021824</td>\n",
       "      <td>30.846</td>\n",
       "      <td>No_change</td>\n",
       "      <td>road_base_network.004</td>\n",
       "      <td>NaN</td>\n",
       "      <td>NaN</td>\n",
       "    </tr>\n",
       "    <tr>\n",
       "      <th>115186</th>\n",
       "      <td>115186</td>\n",
       "      <td>4597</td>\n",
       "      <td>1</td>\n",
       "      <td>3</td>\n",
       "      <td>1.633679e+09</td>\n",
       "      <td>3</td>\n",
       "      <td>114.266571</td>\n",
       "      <td>1.530900</td>\n",
       "      <td>46.896004</td>\n",
       "      <td>-0.025976</td>\n",
       "      <td>...</td>\n",
       "      <td>100.655365</td>\n",
       "      <td>87.970184</td>\n",
       "      <td>Background</td>\n",
       "      <td>Not_Agent</td>\n",
       "      <td>0.010912</td>\n",
       "      <td>30.846</td>\n",
       "      <td>No_change</td>\n",
       "      <td>road_base_network.004</td>\n",
       "      <td>NaN</td>\n",
       "      <td>NaN</td>\n",
       "    </tr>\n",
       "    <tr>\n",
       "      <th>115187</th>\n",
       "      <td>115187</td>\n",
       "      <td>4597</td>\n",
       "      <td>1</td>\n",
       "      <td>3</td>\n",
       "      <td>1.633679e+09</td>\n",
       "      <td>3</td>\n",
       "      <td>114.305046</td>\n",
       "      <td>1.530973</td>\n",
       "      <td>46.936256</td>\n",
       "      <td>-0.025953</td>\n",
       "      <td>...</td>\n",
       "      <td>101.903847</td>\n",
       "      <td>88.123226</td>\n",
       "      <td>Background</td>\n",
       "      <td>Not_Agent</td>\n",
       "      <td>0.011407</td>\n",
       "      <td>30.846</td>\n",
       "      <td>No_change</td>\n",
       "      <td>road_base_network.004</td>\n",
       "      <td>NaN</td>\n",
       "      <td>NaN</td>\n",
       "    </tr>\n",
       "    <tr>\n",
       "      <th>115188</th>\n",
       "      <td>115188</td>\n",
       "      <td>4597</td>\n",
       "      <td>1</td>\n",
       "      <td>3</td>\n",
       "      <td>1.633679e+09</td>\n",
       "      <td>3</td>\n",
       "      <td>114.329063</td>\n",
       "      <td>1.531190</td>\n",
       "      <td>46.976353</td>\n",
       "      <td>-0.022991</td>\n",
       "      <td>...</td>\n",
       "      <td>112.108185</td>\n",
       "      <td>106.061808</td>\n",
       "      <td>Background</td>\n",
       "      <td>Not_Agent</td>\n",
       "      <td>0.010912</td>\n",
       "      <td>30.846</td>\n",
       "      <td>No_change</td>\n",
       "      <td>road_base_network.004</td>\n",
       "      <td>NaN</td>\n",
       "      <td>NaN</td>\n",
       "    </tr>\n",
       "    <tr>\n",
       "      <th>115189</th>\n",
       "      <td>115189</td>\n",
       "      <td>4597</td>\n",
       "      <td>1</td>\n",
       "      <td>3</td>\n",
       "      <td>1.633679e+09</td>\n",
       "      <td>3</td>\n",
       "      <td>114.367149</td>\n",
       "      <td>1.531190</td>\n",
       "      <td>47.016785</td>\n",
       "      <td>-0.019987</td>\n",
       "      <td>...</td>\n",
       "      <td>145.669174</td>\n",
       "      <td>163.931033</td>\n",
       "      <td>Background</td>\n",
       "      <td>Not_Agent</td>\n",
       "      <td>0.011408</td>\n",
       "      <td>30.846</td>\n",
       "      <td>No_change</td>\n",
       "      <td>pavement_G.005</td>\n",
       "      <td>NaN</td>\n",
       "      <td>NaN</td>\n",
       "    </tr>\n",
       "    <tr>\n",
       "      <th>115190</th>\n",
       "      <td>115190</td>\n",
       "      <td>4597</td>\n",
       "      <td>1</td>\n",
       "      <td>3</td>\n",
       "      <td>1.633679e+09</td>\n",
       "      <td>3</td>\n",
       "      <td>114.407303</td>\n",
       "      <td>1.531190</td>\n",
       "      <td>47.057247</td>\n",
       "      <td>-0.017478</td>\n",
       "      <td>...</td>\n",
       "      <td>145.669174</td>\n",
       "      <td>160.194312</td>\n",
       "      <td>Background</td>\n",
       "      <td>Not_Agent</td>\n",
       "      <td>0.010912</td>\n",
       "      <td>30.847</td>\n",
       "      <td>No_change</td>\n",
       "      <td>CollisionObject0</td>\n",
       "      <td>NaN</td>\n",
       "      <td>NaN</td>\n",
       "    </tr>\n",
       "    <tr>\n",
       "      <th>115191</th>\n",
       "      <td>115191</td>\n",
       "      <td>4597</td>\n",
       "      <td>1</td>\n",
       "      <td>3</td>\n",
       "      <td>1.633679e+09</td>\n",
       "      <td>3</td>\n",
       "      <td>114.445755</td>\n",
       "      <td>1.531115</td>\n",
       "      <td>47.097607</td>\n",
       "      <td>-0.017733</td>\n",
       "      <td>...</td>\n",
       "      <td>145.669174</td>\n",
       "      <td>160.066904</td>\n",
       "      <td>Background</td>\n",
       "      <td>Not_Agent</td>\n",
       "      <td>0.010912</td>\n",
       "      <td>30.847</td>\n",
       "      <td>No_change</td>\n",
       "      <td>CollisionObject0</td>\n",
       "      <td>NaN</td>\n",
       "      <td>NaN</td>\n",
       "    </tr>\n",
       "    <tr>\n",
       "      <th>115192</th>\n",
       "      <td>115192</td>\n",
       "      <td>4597</td>\n",
       "      <td>1</td>\n",
       "      <td>3</td>\n",
       "      <td>1.633679e+09</td>\n",
       "      <td>3</td>\n",
       "      <td>114.483200</td>\n",
       "      <td>1.531042</td>\n",
       "      <td>47.136948</td>\n",
       "      <td>-0.017907</td>\n",
       "      <td>...</td>\n",
       "      <td>145.523224</td>\n",
       "      <td>159.809800</td>\n",
       "      <td>Background</td>\n",
       "      <td>Not_Agent</td>\n",
       "      <td>0.011408</td>\n",
       "      <td>30.847</td>\n",
       "      <td>No_change</td>\n",
       "      <td>CollisionObject0</td>\n",
       "      <td>NaN</td>\n",
       "      <td>NaN</td>\n",
       "    </tr>\n",
       "    <tr>\n",
       "      <th>115193</th>\n",
       "      <td>115193</td>\n",
       "      <td>4597</td>\n",
       "      <td>1</td>\n",
       "      <td>3</td>\n",
       "      <td>1.633679e+09</td>\n",
       "      <td>3</td>\n",
       "      <td>114.521835</td>\n",
       "      <td>1.530957</td>\n",
       "      <td>47.177731</td>\n",
       "      <td>-0.019148</td>\n",
       "      <td>...</td>\n",
       "      <td>145.512390</td>\n",
       "      <td>159.859774</td>\n",
       "      <td>Background</td>\n",
       "      <td>Not_Agent</td>\n",
       "      <td>0.010913</td>\n",
       "      <td>30.847</td>\n",
       "      <td>No_change</td>\n",
       "      <td>CollisionObject0</td>\n",
       "      <td>NaN</td>\n",
       "      <td>NaN</td>\n",
       "    </tr>\n",
       "    <tr>\n",
       "      <th>115194</th>\n",
       "      <td>115194</td>\n",
       "      <td>4597</td>\n",
       "      <td>1</td>\n",
       "      <td>3</td>\n",
       "      <td>1.633679e+09</td>\n",
       "      <td>3</td>\n",
       "      <td>114.560539</td>\n",
       "      <td>1.530907</td>\n",
       "      <td>47.218082</td>\n",
       "      <td>-0.019395</td>\n",
       "      <td>...</td>\n",
       "      <td>145.215515</td>\n",
       "      <td>159.812098</td>\n",
       "      <td>Background</td>\n",
       "      <td>Not_Agent</td>\n",
       "      <td>0.011408</td>\n",
       "      <td>30.847</td>\n",
       "      <td>No_change</td>\n",
       "      <td>CollisionObject0</td>\n",
       "      <td>NaN</td>\n",
       "      <td>NaN</td>\n",
       "    </tr>\n",
       "    <tr>\n",
       "      <th>115195</th>\n",
       "      <td>115195</td>\n",
       "      <td>4597</td>\n",
       "      <td>1</td>\n",
       "      <td>3</td>\n",
       "      <td>1.633679e+09</td>\n",
       "      <td>3</td>\n",
       "      <td>114.659271</td>\n",
       "      <td>1.529771</td>\n",
       "      <td>47.296749</td>\n",
       "      <td>-0.027988</td>\n",
       "      <td>...</td>\n",
       "      <td>97.797729</td>\n",
       "      <td>78.426587</td>\n",
       "      <td>Background</td>\n",
       "      <td>Not_Agent</td>\n",
       "      <td>0.021823</td>\n",
       "      <td>30.848</td>\n",
       "      <td>No_change</td>\n",
       "      <td>road_base_network.004</td>\n",
       "      <td>NaN</td>\n",
       "      <td>NaN</td>\n",
       "    </tr>\n",
       "    <tr>\n",
       "      <th>115196</th>\n",
       "      <td>115196</td>\n",
       "      <td>4597</td>\n",
       "      <td>1</td>\n",
       "      <td>3</td>\n",
       "      <td>1.633679e+09</td>\n",
       "      <td>3</td>\n",
       "      <td>114.734253</td>\n",
       "      <td>1.529610</td>\n",
       "      <td>47.375771</td>\n",
       "      <td>-0.027804</td>\n",
       "      <td>...</td>\n",
       "      <td>97.797729</td>\n",
       "      <td>79.211084</td>\n",
       "      <td>Background</td>\n",
       "      <td>Not_Agent</td>\n",
       "      <td>0.022320</td>\n",
       "      <td>30.848</td>\n",
       "      <td>No_change</td>\n",
       "      <td>road_base_network.004</td>\n",
       "      <td>NaN</td>\n",
       "      <td>NaN</td>\n",
       "    </tr>\n",
       "    <tr>\n",
       "      <th>115197</th>\n",
       "      <td>115197</td>\n",
       "      <td>4597</td>\n",
       "      <td>1</td>\n",
       "      <td>3</td>\n",
       "      <td>1.633679e+09</td>\n",
       "      <td>3</td>\n",
       "      <td>114.771744</td>\n",
       "      <td>1.529589</td>\n",
       "      <td>47.416737</td>\n",
       "      <td>-0.027135</td>\n",
       "      <td>...</td>\n",
       "      <td>97.797729</td>\n",
       "      <td>82.111434</td>\n",
       "      <td>Background</td>\n",
       "      <td>Not_Agent</td>\n",
       "      <td>0.011407</td>\n",
       "      <td>30.848</td>\n",
       "      <td>No_change</td>\n",
       "      <td>road_base_network.004</td>\n",
       "      <td>NaN</td>\n",
       "      <td>NaN</td>\n",
       "    </tr>\n",
       "    <tr>\n",
       "      <th>115198</th>\n",
       "      <td>115198</td>\n",
       "      <td>4597</td>\n",
       "      <td>1</td>\n",
       "      <td>3</td>\n",
       "      <td>1.633679e+09</td>\n",
       "      <td>3</td>\n",
       "      <td>114.847054</td>\n",
       "      <td>1.529451</td>\n",
       "      <td>47.496723</td>\n",
       "      <td>-0.026561</td>\n",
       "      <td>...</td>\n",
       "      <td>98.583305</td>\n",
       "      <td>84.915890</td>\n",
       "      <td>Background</td>\n",
       "      <td>Not_Agent</td>\n",
       "      <td>0.021825</td>\n",
       "      <td>30.849</td>\n",
       "      <td>No_change</td>\n",
       "      <td>road_base_network.004</td>\n",
       "      <td>NaN</td>\n",
       "      <td>NaN</td>\n",
       "    </tr>\n",
       "    <tr>\n",
       "      <th>115199</th>\n",
       "      <td>115199</td>\n",
       "      <td>4597</td>\n",
       "      <td>1</td>\n",
       "      <td>3</td>\n",
       "      <td>1.633679e+09</td>\n",
       "      <td>3</td>\n",
       "      <td>114.925667</td>\n",
       "      <td>1.529327</td>\n",
       "      <td>47.577206</td>\n",
       "      <td>-0.026944</td>\n",
       "      <td>...</td>\n",
       "      <td>99.676758</td>\n",
       "      <td>83.112258</td>\n",
       "      <td>Background</td>\n",
       "      <td>Not_Agent</td>\n",
       "      <td>0.022320</td>\n",
       "      <td>30.849</td>\n",
       "      <td>No_change</td>\n",
       "      <td>road_base_network.004</td>\n",
       "      <td>NaN</td>\n",
       "      <td>NaN</td>\n",
       "    </tr>\n",
       "    <tr>\n",
       "      <th>115200</th>\n",
       "      <td>115200</td>\n",
       "      <td>4597</td>\n",
       "      <td>1</td>\n",
       "      <td>3</td>\n",
       "      <td>1.633679e+09</td>\n",
       "      <td>3</td>\n",
       "      <td>114.965172</td>\n",
       "      <td>1.529327</td>\n",
       "      <td>47.617157</td>\n",
       "      <td>-0.026584</td>\n",
       "      <td>...</td>\n",
       "      <td>99.765488</td>\n",
       "      <td>84.867569</td>\n",
       "      <td>Background</td>\n",
       "      <td>Not_Agent</td>\n",
       "      <td>0.011409</td>\n",
       "      <td>30.849</td>\n",
       "      <td>No_change</td>\n",
       "      <td>road_base_network.004</td>\n",
       "      <td>NaN</td>\n",
       "      <td>NaN</td>\n",
       "    </tr>\n",
       "    <tr>\n",
       "      <th>115201</th>\n",
       "      <td>115201</td>\n",
       "      <td>4597</td>\n",
       "      <td>1</td>\n",
       "      <td>3</td>\n",
       "      <td>1.633679e+09</td>\n",
       "      <td>3</td>\n",
       "      <td>115.042862</td>\n",
       "      <td>1.529327</td>\n",
       "      <td>47.698677</td>\n",
       "      <td>-0.026566</td>\n",
       "      <td>...</td>\n",
       "      <td>99.951653</td>\n",
       "      <td>85.022374</td>\n",
       "      <td>Background</td>\n",
       "      <td>Not_Agent</td>\n",
       "      <td>0.021823</td>\n",
       "      <td>30.850</td>\n",
       "      <td>No_change</td>\n",
       "      <td>road_base_network.004</td>\n",
       "      <td>NaN</td>\n",
       "      <td>NaN</td>\n",
       "    </tr>\n",
       "    <tr>\n",
       "      <th>115202</th>\n",
       "      <td>115202</td>\n",
       "      <td>4597</td>\n",
       "      <td>1</td>\n",
       "      <td>3</td>\n",
       "      <td>1.633679e+09</td>\n",
       "      <td>3</td>\n",
       "      <td>115.080727</td>\n",
       "      <td>1.529412</td>\n",
       "      <td>47.737946</td>\n",
       "      <td>-0.025654</td>\n",
       "      <td>...</td>\n",
       "      <td>103.050903</td>\n",
       "      <td>90.010477</td>\n",
       "      <td>Background</td>\n",
       "      <td>Not_Agent</td>\n",
       "      <td>0.010913</td>\n",
       "      <td>30.850</td>\n",
       "      <td>No_change</td>\n",
       "      <td>road_base_network.004</td>\n",
       "      <td>NaN</td>\n",
       "      <td>NaN</td>\n",
       "    </tr>\n",
       "    <tr>\n",
       "      <th>115203</th>\n",
       "      <td>115203</td>\n",
       "      <td>4597</td>\n",
       "      <td>1</td>\n",
       "      <td>3</td>\n",
       "      <td>1.633679e+09</td>\n",
       "      <td>3</td>\n",
       "      <td>115.117798</td>\n",
       "      <td>1.529602</td>\n",
       "      <td>47.778381</td>\n",
       "      <td>-0.024808</td>\n",
       "      <td>...</td>\n",
       "      <td>106.545914</td>\n",
       "      <td>95.642285</td>\n",
       "      <td>Background</td>\n",
       "      <td>Not_Agent</td>\n",
       "      <td>0.011408</td>\n",
       "      <td>30.850</td>\n",
       "      <td>No_change</td>\n",
       "      <td>road_base_network.004</td>\n",
       "      <td>NaN</td>\n",
       "      <td>NaN</td>\n",
       "    </tr>\n",
       "    <tr>\n",
       "      <th>115204</th>\n",
       "      <td>115204</td>\n",
       "      <td>4597</td>\n",
       "      <td>1</td>\n",
       "      <td>3</td>\n",
       "      <td>1.633679e+09</td>\n",
       "      <td>3</td>\n",
       "      <td>115.191544</td>\n",
       "      <td>1.530078</td>\n",
       "      <td>47.859039</td>\n",
       "      <td>-0.007507</td>\n",
       "      <td>...</td>\n",
       "      <td>143.352814</td>\n",
       "      <td>159.032108</td>\n",
       "      <td>Background</td>\n",
       "      <td>Not_Agent</td>\n",
       "      <td>0.022321</td>\n",
       "      <td>30.850</td>\n",
       "      <td>No_change</td>\n",
       "      <td>CollisionObject0</td>\n",
       "      <td>NaN</td>\n",
       "      <td>NaN</td>\n",
       "    </tr>\n",
       "    <tr>\n",
       "      <th>115205</th>\n",
       "      <td>115205</td>\n",
       "      <td>4597</td>\n",
       "      <td>1</td>\n",
       "      <td>3</td>\n",
       "      <td>1.633679e+09</td>\n",
       "      <td>3</td>\n",
       "      <td>115.191544</td>\n",
       "      <td>1.530078</td>\n",
       "      <td>47.859039</td>\n",
       "      <td>0.028521</td>\n",
       "      <td>...</td>\n",
       "      <td>143.352814</td>\n",
       "      <td>155.493320</td>\n",
       "      <td>Background</td>\n",
       "      <td>Not_Agent</td>\n",
       "      <td>0.011407</td>\n",
       "      <td>30.851</td>\n",
       "      <td>No_change</td>\n",
       "      <td>CollisionObject1</td>\n",
       "      <td>NaN</td>\n",
       "      <td>NaN</td>\n",
       "    </tr>\n",
       "    <tr>\n",
       "      <th>115206</th>\n",
       "      <td>115206</td>\n",
       "      <td>4597</td>\n",
       "      <td>1</td>\n",
       "      <td>3</td>\n",
       "      <td>1.633679e+09</td>\n",
       "      <td>3</td>\n",
       "      <td>115.191544</td>\n",
       "      <td>1.530078</td>\n",
       "      <td>47.859039</td>\n",
       "      <td>0.054506</td>\n",
       "      <td>...</td>\n",
       "      <td>143.352814</td>\n",
       "      <td>157.307978</td>\n",
       "      <td>Background</td>\n",
       "      <td>Not_Agent</td>\n",
       "      <td>0.056048</td>\n",
       "      <td>30.851</td>\n",
       "      <td>No_change</td>\n",
       "      <td>CollisionObject2</td>\n",
       "      <td>NaN</td>\n",
       "      <td>NaN</td>\n",
       "    </tr>\n",
       "  </tbody>\n",
       "</table>\n",
       "<p>50 rows × 32 columns</p>\n",
       "</div>"
      ],
      "text/plain": [
       "         index  SubjectID  Session  SessionSubsection  timeStampDataPointEnd  \\\n",
       "115157  115157       4597        1                  3           1.633679e+09   \n",
       "115158  115158       4597        1                  3           1.633679e+09   \n",
       "115159  115159       4597        1                  3           1.633679e+09   \n",
       "115160  115160       4597        1                  3           1.633679e+09   \n",
       "115161  115161       4597        1                  3           1.633679e+09   \n",
       "115162  115162       4597        1                  3           1.633679e+09   \n",
       "115163  115163       4597        1                  3           1.633679e+09   \n",
       "115164  115164       4597        1                  3           1.633679e+09   \n",
       "115165  115165       4597        1                  3           1.633679e+09   \n",
       "115166  115166       4597        1                  3           1.633679e+09   \n",
       "115167  115167       4597        1                  3           1.633679e+09   \n",
       "115168  115168       4597        1                  3           1.633679e+09   \n",
       "115169  115169       4597        1                  3           1.633679e+09   \n",
       "115170  115170       4597        1                  3           1.633679e+09   \n",
       "115171  115171       4597        1                  3           1.633679e+09   \n",
       "115172  115172       4597        1                  3           1.633679e+09   \n",
       "115173  115173       4597        1                  3           1.633679e+09   \n",
       "115174  115174       4597        1                  3           1.633679e+09   \n",
       "115175  115175       4597        1                  3           1.633679e+09   \n",
       "115176  115176       4597        1                  3           1.633679e+09   \n",
       "115177  115177       4597        1                  3           1.633679e+09   \n",
       "115178  115178       4597        1                  3           1.633679e+09   \n",
       "115179  115179       4597        1                  3           1.633679e+09   \n",
       "115180  115180       4597        1                  3           1.633679e+09   \n",
       "115181  115181       4597        1                  3           1.633679e+09   \n",
       "115182  115182       4597        1                  3           1.633679e+09   \n",
       "115183  115183       4597        1                  3           1.633679e+09   \n",
       "115184  115184       4597        1                  3           1.633679e+09   \n",
       "115185  115185       4597        1                  3           1.633679e+09   \n",
       "115186  115186       4597        1                  3           1.633679e+09   \n",
       "115187  115187       4597        1                  3           1.633679e+09   \n",
       "115188  115188       4597        1                  3           1.633679e+09   \n",
       "115189  115189       4597        1                  3           1.633679e+09   \n",
       "115190  115190       4597        1                  3           1.633679e+09   \n",
       "115191  115191       4597        1                  3           1.633679e+09   \n",
       "115192  115192       4597        1                  3           1.633679e+09   \n",
       "115193  115193       4597        1                  3           1.633679e+09   \n",
       "115194  115194       4597        1                  3           1.633679e+09   \n",
       "115195  115195       4597        1                  3           1.633679e+09   \n",
       "115196  115196       4597        1                  3           1.633679e+09   \n",
       "115197  115197       4597        1                  3           1.633679e+09   \n",
       "115198  115198       4597        1                  3           1.633679e+09   \n",
       "115199  115199       4597        1                  3           1.633679e+09   \n",
       "115200  115200       4597        1                  3           1.633679e+09   \n",
       "115201  115201       4597        1                  3           1.633679e+09   \n",
       "115202  115202       4597        1                  3           1.633679e+09   \n",
       "115203  115203       4597        1                  3           1.633679e+09   \n",
       "115204  115204       4597        1                  3           1.633679e+09   \n",
       "115205  115205       4597        1                  3           1.633679e+09   \n",
       "115206  115206       4597        1                  3           1.633679e+09   \n",
       "\n",
       "        combinedGazeValidityBitmask  eyePositionCombinedWorld.x  \\\n",
       "115157                            3                  112.422913   \n",
       "115158                            3                  112.532890   \n",
       "115159                            3                  112.564781   \n",
       "115160                            3                  112.634048   \n",
       "115161                            3                  112.773247   \n",
       "115162                            3                  112.812645   \n",
       "115163                            3                  112.890190   \n",
       "115164                            3                  112.966751   \n",
       "115165                            3                  113.005096   \n",
       "115166                            3                  113.044258   \n",
       "115167                            3                  113.121643   \n",
       "115168                            3                  113.199051   \n",
       "115169                            3                  113.276237   \n",
       "115170                            3                  113.308029   \n",
       "115171                            3                  113.354340   \n",
       "115172                            3                  113.392166   \n",
       "115173                            3                  113.468208   \n",
       "115174                            3                  113.506805   \n",
       "115175                            3                  113.583427   \n",
       "115176                            3                  113.622299   \n",
       "115177                            3                  113.662018   \n",
       "115178                            3                  113.700264   \n",
       "115179                            3                  113.738930   \n",
       "115180                            3                  113.815468   \n",
       "115181                            3                  113.853333   \n",
       "115182                            3                  113.930939   \n",
       "115183                            3                  114.112061   \n",
       "115184                            3                  114.189964   \n",
       "115185                            3                  114.261269   \n",
       "115186                            3                  114.266571   \n",
       "115187                            3                  114.305046   \n",
       "115188                            3                  114.329063   \n",
       "115189                            3                  114.367149   \n",
       "115190                            3                  114.407303   \n",
       "115191                            3                  114.445755   \n",
       "115192                            3                  114.483200   \n",
       "115193                            3                  114.521835   \n",
       "115194                            3                  114.560539   \n",
       "115195                            3                  114.659271   \n",
       "115196                            3                  114.734253   \n",
       "115197                            3                  114.771744   \n",
       "115198                            3                  114.847054   \n",
       "115199                            3                  114.925667   \n",
       "115200                            3                  114.965172   \n",
       "115201                            3                  115.042862   \n",
       "115202                            3                  115.080727   \n",
       "115203                            3                  115.117798   \n",
       "115204                            3                  115.191544   \n",
       "115205                            3                  115.191544   \n",
       "115206                            3                  115.191544   \n",
       "\n",
       "        eyePositionCombinedWorld.y  eyePositionCombinedWorld.z  \\\n",
       "115157                    1.519306                   44.976521   \n",
       "115158                    1.523187                   45.097050   \n",
       "115159                    1.524750                   45.137657   \n",
       "115160                    1.527093                   45.217213   \n",
       "115161                    1.527426                   45.294914   \n",
       "115162                    1.528314                   45.335560   \n",
       "115163                    1.530462                   45.415375   \n",
       "115164                    1.530462                   45.494057   \n",
       "115165                    1.530462                   45.533314   \n",
       "115166                    1.530329                   45.573292   \n",
       "115167                    1.530083                   45.653057   \n",
       "115168                    1.530083                   45.732368   \n",
       "115169                    1.530083                   45.811687   \n",
       "115170                    1.530499                   45.852825   \n",
       "115171                    1.532069                   45.933762   \n",
       "115172                    1.532113                   45.973965   \n",
       "115173                    1.532113                   46.053692   \n",
       "115174                    1.532113                   46.093540   \n",
       "115175                    1.531890                   46.173443   \n",
       "115176                    1.531792                   46.213772   \n",
       "115177                    1.531667                   46.255020   \n",
       "115178                    1.531558                   46.294067   \n",
       "115179                    1.531429                   46.333786   \n",
       "115180                    1.531273                   46.413834   \n",
       "115181                    1.531228                   46.453625   \n",
       "115182                    1.531101                   46.534008   \n",
       "115183                    1.530602                   46.716492   \n",
       "115184                    1.530602                   46.784332   \n",
       "115185                    1.530602                   46.855068   \n",
       "115186                    1.530900                   46.896004   \n",
       "115187                    1.530973                   46.936256   \n",
       "115188                    1.531190                   46.976353   \n",
       "115189                    1.531190                   47.016785   \n",
       "115190                    1.531190                   47.057247   \n",
       "115191                    1.531115                   47.097607   \n",
       "115192                    1.531042                   47.136948   \n",
       "115193                    1.530957                   47.177731   \n",
       "115194                    1.530907                   47.218082   \n",
       "115195                    1.529771                   47.296749   \n",
       "115196                    1.529610                   47.375771   \n",
       "115197                    1.529589                   47.416737   \n",
       "115198                    1.529451                   47.496723   \n",
       "115199                    1.529327                   47.577206   \n",
       "115200                    1.529327                   47.617157   \n",
       "115201                    1.529327                   47.698677   \n",
       "115202                    1.529412                   47.737946   \n",
       "115203                    1.529602                   47.778381   \n",
       "115204                    1.530078                   47.859039   \n",
       "115205                    1.530078                   47.859039   \n",
       "115206                    1.530078                   47.859039   \n",
       "\n",
       "        eyeDirectionCombinedWorld.y  ...  hitPointOnObject_z  \\\n",
       "115157                     0.014594  ...          537.484436   \n",
       "115158                     0.018045  ...          537.484436   \n",
       "115159                    -0.000079  ...          148.101135   \n",
       "115160                     0.001534  ...          143.630264   \n",
       "115161                    -0.017458  ...           84.401093   \n",
       "115162                    -0.014570  ...           81.469818   \n",
       "115163                    -0.026581  ...           73.374046   \n",
       "115164                    -0.024647  ...           73.310822   \n",
       "115165                    -0.029218  ...           72.145668   \n",
       "115166                    -0.046722  ...           72.145668   \n",
       "115167                    -0.037883  ...           71.292236   \n",
       "115168                    -0.029300  ...           70.862350   \n",
       "115169                    -0.034754  ...           70.862350   \n",
       "115170                    -0.039594  ...           71.292236   \n",
       "115171                    -0.037877  ...           71.292236   \n",
       "115172                    -0.031158  ...           72.558891   \n",
       "115173                    -0.026614  ...           72.558891   \n",
       "115174                    -0.026848  ...           72.558891   \n",
       "115175                    -0.035992  ...           70.561462   \n",
       "115176                    -0.036455  ...           70.561462   \n",
       "115177                    -0.038873  ...           70.561462   \n",
       "115178                    -0.031375  ...           72.903061   \n",
       "115179                    -0.032269  ...           72.999107   \n",
       "115180                    -0.029660  ...           73.144577   \n",
       "115181                    -0.029906  ...           73.208282   \n",
       "115182                    -0.033229  ...           73.229622   \n",
       "115183                    -0.028952  ...           76.365318   \n",
       "115184                    -0.035935  ...           81.367432   \n",
       "115185                    -0.025646  ...          100.529579   \n",
       "115186                    -0.025976  ...          100.655365   \n",
       "115187                    -0.025953  ...          101.903847   \n",
       "115188                    -0.022991  ...          112.108185   \n",
       "115189                    -0.019987  ...          145.669174   \n",
       "115190                    -0.017478  ...          145.669174   \n",
       "115191                    -0.017733  ...          145.669174   \n",
       "115192                    -0.017907  ...          145.523224   \n",
       "115193                    -0.019148  ...          145.512390   \n",
       "115194                    -0.019395  ...          145.215515   \n",
       "115195                    -0.027988  ...           97.797729   \n",
       "115196                    -0.027804  ...           97.797729   \n",
       "115197                    -0.027135  ...           97.797729   \n",
       "115198                    -0.026561  ...           98.583305   \n",
       "115199                    -0.026944  ...           99.676758   \n",
       "115200                    -0.026584  ...           99.765488   \n",
       "115201                    -0.026566  ...           99.951653   \n",
       "115202                    -0.025654  ...          103.050903   \n",
       "115203                    -0.024808  ...          106.545914   \n",
       "115204                    -0.007507  ...          143.352814   \n",
       "115205                     0.028521  ...          143.352814   \n",
       "115206                     0.054506  ...          143.352814   \n",
       "\n",
       "        Eucledian_distance  Collider_Categorical  Face_Hits  Time_Shift  \\\n",
       "115157          795.363904            Background  Not_Agent    0.021824   \n",
       "115158          162.050261            Background  Not_Agent    0.033232   \n",
       "115159          761.063148            Background  Not_Agent    0.011409   \n",
       "115160          160.303109            Background  Not_Agent    0.021822   \n",
       "115161           67.652878            Background  Not_Agent    0.022322   \n",
       "115162           79.928968            Background  Not_Agent    0.011406   \n",
       "115163           59.073958            Background  Not_Agent    0.021825   \n",
       "115164           59.012143            Background  Not_Agent    0.022319   \n",
       "115165           58.917992            Background  Not_Agent    0.010912   \n",
       "115166           40.726035            Background  Not_Agent    0.011408   \n",
       "115167           53.364139            Background  Not_Agent    0.022319   \n",
       "115168           58.649696            Background  Not_Agent    0.022320   \n",
       "115169           53.736634            Background  Not_Agent    0.021824   \n",
       "115170           52.563295            Background  Not_Agent    0.011407   \n",
       "115171           53.060832            Background  Not_Agent    0.021825   \n",
       "115172           58.361814            Background  Not_Agent    0.011408   \n",
       "115173           58.242326            Background  Not_Agent    0.021824   \n",
       "115174           58.189362            Background  Not_Agent    0.011408   \n",
       "115175           52.884077            Background  Not_Agent    0.022320   \n",
       "115176           52.801685            Background  Not_Agent    0.010914   \n",
       "115177           52.594785            Background  Not_Agent    0.010911   \n",
       "115178           57.926207            Background  Not_Agent    0.010913   \n",
       "115179           57.875275            Background  Not_Agent    0.011903   \n",
       "115180           57.761880            Background  Not_Agent    0.021824   \n",
       "115181           57.710171            Background  Not_Agent    0.011408   \n",
       "115182           57.456647            Background  Not_Agent    0.053568   \n",
       "115183           58.479701            Background  Not_Agent    0.017362   \n",
       "115184           56.885766            Background  Not_Agent    0.017855   \n",
       "115185           89.252115            Background  Not_Agent    0.021824   \n",
       "115186           87.970184            Background  Not_Agent    0.010912   \n",
       "115187           88.123226            Background  Not_Agent    0.011407   \n",
       "115188          106.061808            Background  Not_Agent    0.010912   \n",
       "115189          163.931033            Background  Not_Agent    0.011408   \n",
       "115190          160.194312            Background  Not_Agent    0.010912   \n",
       "115191          160.066904            Background  Not_Agent    0.010912   \n",
       "115192          159.809800            Background  Not_Agent    0.011408   \n",
       "115193          159.859774            Background  Not_Agent    0.010913   \n",
       "115194          159.812098            Background  Not_Agent    0.011408   \n",
       "115195           78.426587            Background  Not_Agent    0.021823   \n",
       "115196           79.211084            Background  Not_Agent    0.022320   \n",
       "115197           82.111434            Background  Not_Agent    0.011407   \n",
       "115198           84.915890            Background  Not_Agent    0.021825   \n",
       "115199           83.112258            Background  Not_Agent    0.022320   \n",
       "115200           84.867569            Background  Not_Agent    0.011409   \n",
       "115201           85.022374            Background  Not_Agent    0.021823   \n",
       "115202           90.010477            Background  Not_Agent    0.010913   \n",
       "115203           95.642285            Background  Not_Agent    0.011408   \n",
       "115204          159.032108            Background  Not_Agent    0.022321   \n",
       "115205          155.493320            Background  Not_Agent    0.011407   \n",
       "115206          157.307978            Background  Not_Agent    0.056048   \n",
       "\n",
       "        Continuous_Time  Bitmask_flag  Interpolated_collider  \\\n",
       "115157           30.837     No_change          terrain_G.001   \n",
       "115158           30.838     No_change       CollisionObject1   \n",
       "115159           30.838     No_change          terrain_G.001   \n",
       "115160           30.838     No_change       CollisionObject1   \n",
       "115161           30.838     No_change                   Wall   \n",
       "115162           30.839     No_change                 Wall_1   \n",
       "115163           30.839     No_change                   Wall   \n",
       "115164           30.839     No_change                   Wall   \n",
       "115165           30.840     No_change                   Wall   \n",
       "115166           30.840     No_change         pavement_I.003   \n",
       "115167           30.840     No_change  road_base_network.004   \n",
       "115168           30.841     No_change                   Wall   \n",
       "115169           30.841     No_change        pavement_Ha.002   \n",
       "115170           30.841     No_change  road_base_network.004   \n",
       "115171           30.841     No_change  road_base_network.004   \n",
       "115172           30.842     No_change                   Wall   \n",
       "115173           30.842     No_change                   Wall   \n",
       "115174           30.842     No_change                   Wall   \n",
       "115175           30.843     No_change  road_base_network.004   \n",
       "115176           30.843     No_change  road_base_network.004   \n",
       "115177           30.843     No_change  road_base_network.004   \n",
       "115178           30.843     No_change                   Wall   \n",
       "115179           30.843     No_change                   Wall   \n",
       "115180           30.844     No_change                   Wall   \n",
       "115181           30.844     No_change                   Wall   \n",
       "115182           30.845     No_change                   Wall   \n",
       "115183           30.845     No_change                   Wall   \n",
       "115184           30.845     No_change  road_base_network.004   \n",
       "115185           30.846     No_change  road_base_network.004   \n",
       "115186           30.846     No_change  road_base_network.004   \n",
       "115187           30.846     No_change  road_base_network.004   \n",
       "115188           30.846     No_change  road_base_network.004   \n",
       "115189           30.846     No_change         pavement_G.005   \n",
       "115190           30.847     No_change       CollisionObject0   \n",
       "115191           30.847     No_change       CollisionObject0   \n",
       "115192           30.847     No_change       CollisionObject0   \n",
       "115193           30.847     No_change       CollisionObject0   \n",
       "115194           30.847     No_change       CollisionObject0   \n",
       "115195           30.848     No_change  road_base_network.004   \n",
       "115196           30.848     No_change  road_base_network.004   \n",
       "115197           30.848     No_change  road_base_network.004   \n",
       "115198           30.849     No_change  road_base_network.004   \n",
       "115199           30.849     No_change  road_base_network.004   \n",
       "115200           30.849     No_change  road_base_network.004   \n",
       "115201           30.850     No_change  road_base_network.004   \n",
       "115202           30.850     No_change  road_base_network.004   \n",
       "115203           30.850     No_change  road_base_network.004   \n",
       "115204           30.850     No_change       CollisionObject0   \n",
       "115205           30.851     No_change       CollisionObject1   \n",
       "115206           30.851     No_change       CollisionObject2   \n",
       "\n",
       "        eyePositionCombinedWorld.x  Unnamed: 0.1  \n",
       "115157                         NaN           NaN  \n",
       "115158                         NaN           NaN  \n",
       "115159                         NaN           NaN  \n",
       "115160                         NaN           NaN  \n",
       "115161                         NaN           NaN  \n",
       "115162                         NaN           NaN  \n",
       "115163                         NaN           NaN  \n",
       "115164                         NaN           NaN  \n",
       "115165                         NaN           NaN  \n",
       "115166                         NaN           NaN  \n",
       "115167                         NaN           NaN  \n",
       "115168                         NaN           NaN  \n",
       "115169                         NaN           NaN  \n",
       "115170                         NaN           NaN  \n",
       "115171                         NaN           NaN  \n",
       "115172                         NaN           NaN  \n",
       "115173                         NaN           NaN  \n",
       "115174                         NaN           NaN  \n",
       "115175                         NaN           NaN  \n",
       "115176                         NaN           NaN  \n",
       "115177                         NaN           NaN  \n",
       "115178                         NaN           NaN  \n",
       "115179                         NaN           NaN  \n",
       "115180                         NaN           NaN  \n",
       "115181                         NaN           NaN  \n",
       "115182                         NaN           NaN  \n",
       "115183                         NaN           NaN  \n",
       "115184                         NaN           NaN  \n",
       "115185                         NaN           NaN  \n",
       "115186                         NaN           NaN  \n",
       "115187                         NaN           NaN  \n",
       "115188                         NaN           NaN  \n",
       "115189                         NaN           NaN  \n",
       "115190                         NaN           NaN  \n",
       "115191                         NaN           NaN  \n",
       "115192                         NaN           NaN  \n",
       "115193                         NaN           NaN  \n",
       "115194                         NaN           NaN  \n",
       "115195                         NaN           NaN  \n",
       "115196                         NaN           NaN  \n",
       "115197                         NaN           NaN  \n",
       "115198                         NaN           NaN  \n",
       "115199                         NaN           NaN  \n",
       "115200                         NaN           NaN  \n",
       "115201                         NaN           NaN  \n",
       "115202                         NaN           NaN  \n",
       "115203                         NaN           NaN  \n",
       "115204                         NaN           NaN  \n",
       "115205                         NaN           NaN  \n",
       "115206                         NaN           NaN  \n",
       "\n",
       "[50 rows x 32 columns]"
      ]
     },
     "execution_count": 6,
     "metadata": {},
     "output_type": "execute_result"
    }
   ],
   "source": [
    "data_frame.tail(50)"
   ]
  }
 ],
 "metadata": {
  "kernelspec": {
   "display_name": "Python 3",
   "language": "python",
   "name": "python3"
  },
  "language_info": {
   "codemirror_mode": {
    "name": "ipython",
    "version": 3
   },
   "file_extension": ".py",
   "mimetype": "text/x-python",
   "name": "python",
   "nbconvert_exporter": "python",
   "pygments_lexer": "ipython3",
   "version": "3.8.8"
  }
 },
 "nbformat": 4,
 "nbformat_minor": 5
}
