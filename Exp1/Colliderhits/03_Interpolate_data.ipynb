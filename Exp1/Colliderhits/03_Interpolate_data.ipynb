{
 "cells": [
  {
   "cell_type": "code",
   "execution_count": 1,
   "id": "3d91113f-7a7a-48f4-b342-92e564160582",
   "metadata": {},
   "outputs": [],
   "source": [
    "import pandas as pd \n",
    "import numpy as np\n",
    "import glob\n",
    "import re"
   ]
  },
  {
   "cell_type": "code",
   "execution_count": 2,
   "id": "6f50de05-9776-48af-b1c3-65197d8f9434",
   "metadata": {},
   "outputs": [],
   "source": [
    "def bitmask_flag_change(Data_Frame, colname):\n",
    "    \"\"\" Creates a list of values that flag the change in validity of the Eyetracking data, \n",
    "    diferentiates between the beggining and enf of an invalid event. \n",
    "    \n",
    "Parameters\n",
    "-------------\n",
    "     \n",
    "     :dataframe(DataFrame): your data frame,\n",
    "     :colname(str): Name of the column that containts the validity mask \n",
    "returns \n",
    "----------\n",
    "\n",
    "    List of len DataFrame with values that mark changes on the validity column\n",
    "     \"\"\"\n",
    "    change_flag = [\"No_change\"] # initialize flag \n",
    "    for i in range(1, len(Data_Frame)):\n",
    "        if Data_Frame[colname][i] == Data_Frame[colname][i-1]: # compare each value with the previous value\n",
    "          change_flag.append(\"No_change\") \n",
    "        elif Data_Frame[colname][i] != Data_Frame[colname][i-1]:\n",
    "            if Data_Frame[colname][i] == 3:\n",
    "                  change_flag.append(\"Invalid_Section_Ends\")\n",
    "            elif Data_Frame[colname][i] == 0:\n",
    "                change_flag.append(\"Invalid_Section_Starts\")\n",
    "            else:\n",
    "                change_flag.append(\"ERROR\")\n",
    "    return change_flag"
   ]
  },
  {
   "cell_type": "code",
   "execution_count": 3,
   "id": "c34516f9-7d0a-4695-a4a4-ead583b9fa1a",
   "metadata": {},
   "outputs": [],
   "source": [
    "def median_correction(x):\n",
    "    \"\"\"\n",
    "    Perform 5-point median correction on input signal x.\n",
    "    \"\"\"\n",
    "    y = np.zeros_like(x)\n",
    "    length = len(x)\n",
    "    for i in range(2, length-2):\n",
    "        y[i] = np.nanmedian(x[i-2:i+3])\n",
    "    y[0:2] = np.nanmedian(x[0:5])        \n",
    "    y[length-2:length] = np.nanmedian(x[length-5:length])\n",
    "    return y"
   ]
  },
  {
   "cell_type": "code",
   "execution_count": 6,
   "id": "a6e9c72a-d1f7-4b76-b0d4-b8567af4d825",
   "metadata": {},
   "outputs": [],
   "source": [
    "# Since the collider names are too detailed, here we create a dictionary with patterns to classify them into our categories of interest\n",
    "\n",
    "patterns = {\n",
    "    r'\\d{2}_Sa': 'Passive_Agent',\n",
    "    r'\\d{2}_Cma': 'Active_Agent',\n",
    "    r'Building_\\d+': 'Building'\n",
    "}\n",
    "\n",
    "patterns.update(dict.fromkeys([\n",
    "    'Castle-TaskBuilding_56', 'Crane_59', 'HighSilo-TaskBuilding_49',\n",
    "    'Windmill-TaskBuilding_10_1', 'Church-TaskBuilding_16'\n",
    "], 'Global_Landmark'))\n",
    "\n",
    "patterns.update(dict.fromkeys([\n",
    "    r'^TaskBuilding_2$', r'^TaskBuilding_3$', r'^TaskBuilding_5$', r'^TaskBuilding_8$', r'^TaskBuilding_9$', \n",
    "    r'^TaskBuilding_11$', r'^TaskBuilding_13$', r'^TaskBuilding_14$', r'^TaskBuilding_20$', r'^TaskBuilding_21$', \n",
    "    r'^TaskBuilding_23$', r'^TaskBuilding_27$', r'^TaskBuilding_29$', r'^TaskBuilding_32$', r'^TaskBuilding_34$',  \n",
    "    r'^TaskBuilding_38$', r'^TaskBuilding_41$', r'^TaskBuilding_42$', r'^TaskBuilding_44$', r'^TaskBuilding_45$', \n",
    "    r'^TaskBuilding_47$', r'^TaskBuilding_50$', r'^TaskBuilding_51$', r'^TaskBuilding_52$', \n",
    "    'BasketballCourt_58', 'Construction_57', \n",
    "    r'^Graffity_02$', r'^Graffity_03$', r'^Graffity_05$', r'^Graffity_08$', r'^Graffity_09$', r'^Graffity_11$', \n",
    "    r'^Graffity_13$', r'^Graffity_14$', r'^Graffity_20$', r'^Graffity_21$', r'^Graffity_23$', r'^Graffity_27$', \n",
    "    r'^Graffity_29$', r'^Graffity_32$', r'^Graffity_34$', r'^Graffity_38$', r'^Graffity_41$', r'^Graffity_42$', \n",
    "    r'^Graffity_44$', r'^Graffity_45$', r'^Graffity_47$', r'^Graffity_50$', r'^Graffity_51$', r'^Graffity_52$'\n",
    "], 'TaskBuilding_Public'))\n",
    "\n",
    "patterns.update(dict.fromkeys([\n",
    "    r'^TaskBuilding_1$', r'^TaskBuilding_4$', r'^TaskBuilding_6$', r'^TaskBuilding_7$', r'^TaskBuilding_12$', \n",
    "    r'^TaskBuilding_15$', r'^TaskBuilding_17$', r'^TaskBuilding_18$', r'^TaskBuilding_19$', r'^TaskBuilding_22$', \n",
    "    r'^TaskBuilding_24$', r'^TaskBuilding_25$', r'^TaskBuilding_26$', r'^TaskBuilding_28$', r'^TaskBuilding_30$',  \n",
    "    r'^TaskBuilding_31$', r'^TaskBuilding_33$', r'^TaskBuilding_35$', r'^TaskBuilding_36$', r'^TaskBuilding_37$', \n",
    "    r'^TaskBuilding_39$', r'^TaskBuilding_40$', r'^TaskBuilding_43$', r'^TaskBuilding_48$', r'^TaskBuilding_54$', \n",
    "    r'^TaskBuilding_55$', r'^Graffity_01$', r'^Graffity_04$', r'^Graffity_06$', r'^Graffity_07$', r'^Graffity_12$', \n",
    "    r'^Graffity_15$', r'^Graffity_17$', r'^Graffity_18$', r'^Graffity_19$', r'^Graffity_22$', r'^Graffity_24$', \n",
    "    r'^Graffity_25$', r'^Graffity_26$', r'^Graffity_28$', r'^Graffity_30$', r'^Graffity_31$', r'^Graffity_33$', \n",
    "    r'^Graffity_35$', r'^Graffity_36$', r'^Graffity_37$', r'^Graffity_39$', r'^Graffity_40$', r'^Graffity_43$', \n",
    "    r'^Graffity_48$', r'^Graffity_54$', r'^Graffity_55$'\n",
    "], 'TaskBuilding_Residential'))\n",
    "default_val = 'Background'"
   ]
  },
  {
   "cell_type": "code",
   "execution_count": 7,
   "id": "6ccb28e0-a29b-4e47-aa74-0ace31892663",
   "metadata": {},
   "outputs": [
    {
     "name": "stderr",
     "output_type": "stream",
     "text": [
      "/var/folders/wj/11sgsjxd7x75l9tkc6r2l1p80000gn/T/ipykernel_23482/1439925471.py:8: RuntimeWarning: All-NaN slice encountered\n",
      "  y[i] = np.nanmedian(x[i-2:i+3])\n"
     ]
    },
    {
     "name": "stdout",
     "output_type": "stream",
     "text": [
      "0365_1\n"
     ]
    },
    {
     "name": "stderr",
     "output_type": "stream",
     "text": [
      "/var/folders/wj/11sgsjxd7x75l9tkc6r2l1p80000gn/T/ipykernel_23482/1439925471.py:8: RuntimeWarning: All-NaN slice encountered\n",
      "  y[i] = np.nanmedian(x[i-2:i+3])\n"
     ]
    },
    {
     "name": "stdout",
     "output_type": "stream",
     "text": [
      "0365_2\n"
     ]
    },
    {
     "name": "stderr",
     "output_type": "stream",
     "text": [
      "/var/folders/wj/11sgsjxd7x75l9tkc6r2l1p80000gn/T/ipykernel_23482/1439925471.py:8: RuntimeWarning: All-NaN slice encountered\n",
      "  y[i] = np.nanmedian(x[i-2:i+3])\n"
     ]
    },
    {
     "name": "stdout",
     "output_type": "stream",
     "text": [
      "0365_3\n"
     ]
    },
    {
     "name": "stderr",
     "output_type": "stream",
     "text": [
      "/var/folders/wj/11sgsjxd7x75l9tkc6r2l1p80000gn/T/ipykernel_23482/1439925471.py:8: RuntimeWarning: All-NaN slice encountered\n",
      "  y[i] = np.nanmedian(x[i-2:i+3])\n"
     ]
    },
    {
     "name": "stdout",
     "output_type": "stream",
     "text": [
      "0365_4\n"
     ]
    },
    {
     "name": "stderr",
     "output_type": "stream",
     "text": [
      "/var/folders/wj/11sgsjxd7x75l9tkc6r2l1p80000gn/T/ipykernel_23482/1439925471.py:8: RuntimeWarning: All-NaN slice encountered\n",
      "  y[i] = np.nanmedian(x[i-2:i+3])\n",
      "/var/folders/wj/11sgsjxd7x75l9tkc6r2l1p80000gn/T/ipykernel_23482/1439925471.py:10: RuntimeWarning: All-NaN slice encountered\n",
      "  y[length-2:length] = np.nanmedian(x[length-5:length])\n"
     ]
    },
    {
     "name": "stdout",
     "output_type": "stream",
     "text": [
      "1754_1\n"
     ]
    },
    {
     "name": "stderr",
     "output_type": "stream",
     "text": [
      "/var/folders/wj/11sgsjxd7x75l9tkc6r2l1p80000gn/T/ipykernel_23482/1439925471.py:8: RuntimeWarning: All-NaN slice encountered\n",
      "  y[i] = np.nanmedian(x[i-2:i+3])\n"
     ]
    },
    {
     "name": "stdout",
     "output_type": "stream",
     "text": [
      "1754_2\n"
     ]
    },
    {
     "name": "stderr",
     "output_type": "stream",
     "text": [
      "/var/folders/wj/11sgsjxd7x75l9tkc6r2l1p80000gn/T/ipykernel_23482/1439925471.py:8: RuntimeWarning: All-NaN slice encountered\n",
      "  y[i] = np.nanmedian(x[i-2:i+3])\n",
      "/var/folders/wj/11sgsjxd7x75l9tkc6r2l1p80000gn/T/ipykernel_23482/1439925471.py:10: RuntimeWarning: All-NaN slice encountered\n",
      "  y[length-2:length] = np.nanmedian(x[length-5:length])\n"
     ]
    },
    {
     "name": "stdout",
     "output_type": "stream",
     "text": [
      "1754_3\n"
     ]
    },
    {
     "name": "stderr",
     "output_type": "stream",
     "text": [
      "/var/folders/wj/11sgsjxd7x75l9tkc6r2l1p80000gn/T/ipykernel_23482/1439925471.py:8: RuntimeWarning: All-NaN slice encountered\n",
      "  y[i] = np.nanmedian(x[i-2:i+3])\n"
     ]
    },
    {
     "name": "stdout",
     "output_type": "stream",
     "text": [
      "1754_4\n"
     ]
    },
    {
     "name": "stderr",
     "output_type": "stream",
     "text": [
      "/var/folders/wj/11sgsjxd7x75l9tkc6r2l1p80000gn/T/ipykernel_23482/1439925471.py:8: RuntimeWarning: All-NaN slice encountered\n",
      "  y[i] = np.nanmedian(x[i-2:i+3])\n"
     ]
    },
    {
     "name": "stdout",
     "output_type": "stream",
     "text": [
      "1754_5\n"
     ]
    },
    {
     "name": "stderr",
     "output_type": "stream",
     "text": [
      "/var/folders/wj/11sgsjxd7x75l9tkc6r2l1p80000gn/T/ipykernel_23482/1439925471.py:8: RuntimeWarning: All-NaN slice encountered\n",
      "  y[i] = np.nanmedian(x[i-2:i+3])\n"
     ]
    },
    {
     "name": "stdout",
     "output_type": "stream",
     "text": [
      "2258_1\n"
     ]
    },
    {
     "name": "stderr",
     "output_type": "stream",
     "text": [
      "/var/folders/wj/11sgsjxd7x75l9tkc6r2l1p80000gn/T/ipykernel_23482/1439925471.py:8: RuntimeWarning: All-NaN slice encountered\n",
      "  y[i] = np.nanmedian(x[i-2:i+3])\n"
     ]
    },
    {
     "name": "stdout",
     "output_type": "stream",
     "text": [
      "2258_2\n"
     ]
    },
    {
     "name": "stderr",
     "output_type": "stream",
     "text": [
      "/var/folders/wj/11sgsjxd7x75l9tkc6r2l1p80000gn/T/ipykernel_23482/1439925471.py:8: RuntimeWarning: All-NaN slice encountered\n",
      "  y[i] = np.nanmedian(x[i-2:i+3])\n"
     ]
    },
    {
     "name": "stdout",
     "output_type": "stream",
     "text": [
      "2258_3\n"
     ]
    },
    {
     "name": "stderr",
     "output_type": "stream",
     "text": [
      "/var/folders/wj/11sgsjxd7x75l9tkc6r2l1p80000gn/T/ipykernel_23482/1439925471.py:8: RuntimeWarning: All-NaN slice encountered\n",
      "  y[i] = np.nanmedian(x[i-2:i+3])\n"
     ]
    },
    {
     "name": "stdout",
     "output_type": "stream",
     "text": [
      "2258_4\n"
     ]
    },
    {
     "name": "stderr",
     "output_type": "stream",
     "text": [
      "/var/folders/wj/11sgsjxd7x75l9tkc6r2l1p80000gn/T/ipykernel_23482/1439925471.py:8: RuntimeWarning: All-NaN slice encountered\n",
      "  y[i] = np.nanmedian(x[i-2:i+3])\n"
     ]
    },
    {
     "name": "stdout",
     "output_type": "stream",
     "text": [
      "2258_5\n"
     ]
    },
    {
     "name": "stderr",
     "output_type": "stream",
     "text": [
      "/var/folders/wj/11sgsjxd7x75l9tkc6r2l1p80000gn/T/ipykernel_23482/1439925471.py:8: RuntimeWarning: All-NaN slice encountered\n",
      "  y[i] = np.nanmedian(x[i-2:i+3])\n"
     ]
    },
    {
     "name": "stdout",
     "output_type": "stream",
     "text": [
      "2361_2\n"
     ]
    },
    {
     "name": "stderr",
     "output_type": "stream",
     "text": [
      "/var/folders/wj/11sgsjxd7x75l9tkc6r2l1p80000gn/T/ipykernel_23482/1439925471.py:8: RuntimeWarning: All-NaN slice encountered\n",
      "  y[i] = np.nanmedian(x[i-2:i+3])\n"
     ]
    },
    {
     "name": "stdout",
     "output_type": "stream",
     "text": [
      "2361_3\n"
     ]
    },
    {
     "name": "stderr",
     "output_type": "stream",
     "text": [
      "/var/folders/wj/11sgsjxd7x75l9tkc6r2l1p80000gn/T/ipykernel_23482/1439925471.py:8: RuntimeWarning: All-NaN slice encountered\n",
      "  y[i] = np.nanmedian(x[i-2:i+3])\n"
     ]
    },
    {
     "name": "stdout",
     "output_type": "stream",
     "text": [
      "2361_4\n"
     ]
    },
    {
     "name": "stderr",
     "output_type": "stream",
     "text": [
      "/var/folders/wj/11sgsjxd7x75l9tkc6r2l1p80000gn/T/ipykernel_23482/1439925471.py:8: RuntimeWarning: All-NaN slice encountered\n",
      "  y[i] = np.nanmedian(x[i-2:i+3])\n"
     ]
    },
    {
     "name": "stdout",
     "output_type": "stream",
     "text": [
      "2361_5\n"
     ]
    },
    {
     "name": "stderr",
     "output_type": "stream",
     "text": [
      "/var/folders/wj/11sgsjxd7x75l9tkc6r2l1p80000gn/T/ipykernel_23482/1439925471.py:8: RuntimeWarning: All-NaN slice encountered\n",
      "  y[i] = np.nanmedian(x[i-2:i+3])\n"
     ]
    },
    {
     "name": "stdout",
     "output_type": "stream",
     "text": [
      "2693_1\n"
     ]
    },
    {
     "name": "stderr",
     "output_type": "stream",
     "text": [
      "/var/folders/wj/11sgsjxd7x75l9tkc6r2l1p80000gn/T/ipykernel_23482/1439925471.py:8: RuntimeWarning: All-NaN slice encountered\n",
      "  y[i] = np.nanmedian(x[i-2:i+3])\n"
     ]
    },
    {
     "name": "stdout",
     "output_type": "stream",
     "text": [
      "2693_2\n"
     ]
    },
    {
     "name": "stderr",
     "output_type": "stream",
     "text": [
      "/var/folders/wj/11sgsjxd7x75l9tkc6r2l1p80000gn/T/ipykernel_23482/1439925471.py:8: RuntimeWarning: All-NaN slice encountered\n",
      "  y[i] = np.nanmedian(x[i-2:i+3])\n",
      "/var/folders/wj/11sgsjxd7x75l9tkc6r2l1p80000gn/T/ipykernel_23482/1439925471.py:9: RuntimeWarning: All-NaN slice encountered\n",
      "  y[0:2] = np.nanmedian(x[0:5])\n"
     ]
    },
    {
     "name": "stdout",
     "output_type": "stream",
     "text": [
      "2693_3\n"
     ]
    },
    {
     "name": "stderr",
     "output_type": "stream",
     "text": [
      "/var/folders/wj/11sgsjxd7x75l9tkc6r2l1p80000gn/T/ipykernel_23482/1439925471.py:8: RuntimeWarning: All-NaN slice encountered\n",
      "  y[i] = np.nanmedian(x[i-2:i+3])\n"
     ]
    },
    {
     "name": "stdout",
     "output_type": "stream",
     "text": [
      "2693_4\n"
     ]
    },
    {
     "name": "stderr",
     "output_type": "stream",
     "text": [
      "/var/folders/wj/11sgsjxd7x75l9tkc6r2l1p80000gn/T/ipykernel_23482/1439925471.py:8: RuntimeWarning: All-NaN slice encountered\n",
      "  y[i] = np.nanmedian(x[i-2:i+3])\n"
     ]
    },
    {
     "name": "stdout",
     "output_type": "stream",
     "text": [
      "2693_5\n"
     ]
    },
    {
     "name": "stderr",
     "output_type": "stream",
     "text": [
      "/var/folders/wj/11sgsjxd7x75l9tkc6r2l1p80000gn/T/ipykernel_23482/1439925471.py:8: RuntimeWarning: All-NaN slice encountered\n",
      "  y[i] = np.nanmedian(x[i-2:i+3])\n"
     ]
    },
    {
     "name": "stdout",
     "output_type": "stream",
     "text": [
      "3246_1\n"
     ]
    },
    {
     "name": "stderr",
     "output_type": "stream",
     "text": [
      "/var/folders/wj/11sgsjxd7x75l9tkc6r2l1p80000gn/T/ipykernel_23482/1439925471.py:8: RuntimeWarning: All-NaN slice encountered\n",
      "  y[i] = np.nanmedian(x[i-2:i+3])\n"
     ]
    },
    {
     "name": "stdout",
     "output_type": "stream",
     "text": [
      "3246_2\n"
     ]
    },
    {
     "name": "stderr",
     "output_type": "stream",
     "text": [
      "/var/folders/wj/11sgsjxd7x75l9tkc6r2l1p80000gn/T/ipykernel_23482/1439925471.py:8: RuntimeWarning: All-NaN slice encountered\n",
      "  y[i] = np.nanmedian(x[i-2:i+3])\n"
     ]
    },
    {
     "name": "stdout",
     "output_type": "stream",
     "text": [
      "3246_3\n"
     ]
    },
    {
     "name": "stderr",
     "output_type": "stream",
     "text": [
      "/var/folders/wj/11sgsjxd7x75l9tkc6r2l1p80000gn/T/ipykernel_23482/1439925471.py:8: RuntimeWarning: All-NaN slice encountered\n",
      "  y[i] = np.nanmedian(x[i-2:i+3])\n"
     ]
    },
    {
     "name": "stdout",
     "output_type": "stream",
     "text": [
      "3246_5\n"
     ]
    },
    {
     "name": "stderr",
     "output_type": "stream",
     "text": [
      "/var/folders/wj/11sgsjxd7x75l9tkc6r2l1p80000gn/T/ipykernel_23482/1439925471.py:8: RuntimeWarning: All-NaN slice encountered\n",
      "  y[i] = np.nanmedian(x[i-2:i+3])\n"
     ]
    },
    {
     "name": "stdout",
     "output_type": "stream",
     "text": [
      "3310_1\n"
     ]
    },
    {
     "name": "stderr",
     "output_type": "stream",
     "text": [
      "/var/folders/wj/11sgsjxd7x75l9tkc6r2l1p80000gn/T/ipykernel_23482/1439925471.py:8: RuntimeWarning: All-NaN slice encountered\n",
      "  y[i] = np.nanmedian(x[i-2:i+3])\n"
     ]
    },
    {
     "name": "stdout",
     "output_type": "stream",
     "text": [
      "3310_2\n"
     ]
    },
    {
     "name": "stderr",
     "output_type": "stream",
     "text": [
      "/var/folders/wj/11sgsjxd7x75l9tkc6r2l1p80000gn/T/ipykernel_23482/1439925471.py:8: RuntimeWarning: All-NaN slice encountered\n",
      "  y[i] = np.nanmedian(x[i-2:i+3])\n"
     ]
    },
    {
     "name": "stdout",
     "output_type": "stream",
     "text": [
      "3310_3\n"
     ]
    },
    {
     "name": "stderr",
     "output_type": "stream",
     "text": [
      "/var/folders/wj/11sgsjxd7x75l9tkc6r2l1p80000gn/T/ipykernel_23482/1439925471.py:8: RuntimeWarning: All-NaN slice encountered\n",
      "  y[i] = np.nanmedian(x[i-2:i+3])\n"
     ]
    },
    {
     "name": "stdout",
     "output_type": "stream",
     "text": [
      "3310_4\n"
     ]
    },
    {
     "name": "stderr",
     "output_type": "stream",
     "text": [
      "/var/folders/wj/11sgsjxd7x75l9tkc6r2l1p80000gn/T/ipykernel_23482/1439925471.py:8: RuntimeWarning: All-NaN slice encountered\n",
      "  y[i] = np.nanmedian(x[i-2:i+3])\n"
     ]
    },
    {
     "name": "stdout",
     "output_type": "stream",
     "text": [
      "3310_5\n"
     ]
    },
    {
     "name": "stderr",
     "output_type": "stream",
     "text": [
      "/var/folders/wj/11sgsjxd7x75l9tkc6r2l1p80000gn/T/ipykernel_23482/1439925471.py:8: RuntimeWarning: All-NaN slice encountered\n",
      "  y[i] = np.nanmedian(x[i-2:i+3])\n"
     ]
    },
    {
     "name": "stdout",
     "output_type": "stream",
     "text": [
      "3572_1\n"
     ]
    },
    {
     "name": "stderr",
     "output_type": "stream",
     "text": [
      "/var/folders/wj/11sgsjxd7x75l9tkc6r2l1p80000gn/T/ipykernel_23482/1439925471.py:8: RuntimeWarning: All-NaN slice encountered\n",
      "  y[i] = np.nanmedian(x[i-2:i+3])\n"
     ]
    },
    {
     "name": "stdout",
     "output_type": "stream",
     "text": [
      "3572_2\n"
     ]
    },
    {
     "name": "stderr",
     "output_type": "stream",
     "text": [
      "/var/folders/wj/11sgsjxd7x75l9tkc6r2l1p80000gn/T/ipykernel_23482/1439925471.py:8: RuntimeWarning: All-NaN slice encountered\n",
      "  y[i] = np.nanmedian(x[i-2:i+3])\n"
     ]
    },
    {
     "name": "stdout",
     "output_type": "stream",
     "text": [
      "3572_3\n"
     ]
    },
    {
     "name": "stderr",
     "output_type": "stream",
     "text": [
      "/var/folders/wj/11sgsjxd7x75l9tkc6r2l1p80000gn/T/ipykernel_23482/1439925471.py:8: RuntimeWarning: All-NaN slice encountered\n",
      "  y[i] = np.nanmedian(x[i-2:i+3])\n",
      "/var/folders/wj/11sgsjxd7x75l9tkc6r2l1p80000gn/T/ipykernel_23482/1439925471.py:10: RuntimeWarning: All-NaN slice encountered\n",
      "  y[length-2:length] = np.nanmedian(x[length-5:length])\n"
     ]
    },
    {
     "name": "stdout",
     "output_type": "stream",
     "text": [
      "3572_4\n"
     ]
    },
    {
     "name": "stderr",
     "output_type": "stream",
     "text": [
      "/var/folders/wj/11sgsjxd7x75l9tkc6r2l1p80000gn/T/ipykernel_23482/1439925471.py:8: RuntimeWarning: All-NaN slice encountered\n",
      "  y[i] = np.nanmedian(x[i-2:i+3])\n"
     ]
    },
    {
     "name": "stdout",
     "output_type": "stream",
     "text": [
      "3976_1\n"
     ]
    },
    {
     "name": "stderr",
     "output_type": "stream",
     "text": [
      "/var/folders/wj/11sgsjxd7x75l9tkc6r2l1p80000gn/T/ipykernel_23482/1439925471.py:8: RuntimeWarning: All-NaN slice encountered\n",
      "  y[i] = np.nanmedian(x[i-2:i+3])\n"
     ]
    },
    {
     "name": "stdout",
     "output_type": "stream",
     "text": [
      "3976_2\n"
     ]
    },
    {
     "name": "stderr",
     "output_type": "stream",
     "text": [
      "/var/folders/wj/11sgsjxd7x75l9tkc6r2l1p80000gn/T/ipykernel_23482/1439925471.py:8: RuntimeWarning: All-NaN slice encountered\n",
      "  y[i] = np.nanmedian(x[i-2:i+3])\n"
     ]
    },
    {
     "name": "stdout",
     "output_type": "stream",
     "text": [
      "3976_3\n"
     ]
    },
    {
     "name": "stderr",
     "output_type": "stream",
     "text": [
      "/var/folders/wj/11sgsjxd7x75l9tkc6r2l1p80000gn/T/ipykernel_23482/1439925471.py:8: RuntimeWarning: All-NaN slice encountered\n",
      "  y[i] = np.nanmedian(x[i-2:i+3])\n"
     ]
    },
    {
     "name": "stdout",
     "output_type": "stream",
     "text": [
      "3976_4\n"
     ]
    },
    {
     "name": "stderr",
     "output_type": "stream",
     "text": [
      "/var/folders/wj/11sgsjxd7x75l9tkc6r2l1p80000gn/T/ipykernel_23482/1439925471.py:8: RuntimeWarning: All-NaN slice encountered\n",
      "  y[i] = np.nanmedian(x[i-2:i+3])\n"
     ]
    },
    {
     "name": "stdout",
     "output_type": "stream",
     "text": [
      "3976_5\n"
     ]
    },
    {
     "name": "stderr",
     "output_type": "stream",
     "text": [
      "/var/folders/wj/11sgsjxd7x75l9tkc6r2l1p80000gn/T/ipykernel_23482/1439925471.py:8: RuntimeWarning: All-NaN slice encountered\n",
      "  y[i] = np.nanmedian(x[i-2:i+3])\n"
     ]
    },
    {
     "name": "stdout",
     "output_type": "stream",
     "text": [
      "4176_1\n"
     ]
    },
    {
     "name": "stderr",
     "output_type": "stream",
     "text": [
      "/var/folders/wj/11sgsjxd7x75l9tkc6r2l1p80000gn/T/ipykernel_23482/1439925471.py:8: RuntimeWarning: All-NaN slice encountered\n",
      "  y[i] = np.nanmedian(x[i-2:i+3])\n"
     ]
    },
    {
     "name": "stdout",
     "output_type": "stream",
     "text": [
      "4176_2\n"
     ]
    },
    {
     "name": "stderr",
     "output_type": "stream",
     "text": [
      "/var/folders/wj/11sgsjxd7x75l9tkc6r2l1p80000gn/T/ipykernel_23482/1439925471.py:8: RuntimeWarning: All-NaN slice encountered\n",
      "  y[i] = np.nanmedian(x[i-2:i+3])\n"
     ]
    },
    {
     "name": "stdout",
     "output_type": "stream",
     "text": [
      "4176_3\n"
     ]
    },
    {
     "name": "stderr",
     "output_type": "stream",
     "text": [
      "/var/folders/wj/11sgsjxd7x75l9tkc6r2l1p80000gn/T/ipykernel_23482/1439925471.py:8: RuntimeWarning: All-NaN slice encountered\n",
      "  y[i] = np.nanmedian(x[i-2:i+3])\n"
     ]
    },
    {
     "name": "stdout",
     "output_type": "stream",
     "text": [
      "4176_4\n"
     ]
    },
    {
     "name": "stderr",
     "output_type": "stream",
     "text": [
      "/var/folders/wj/11sgsjxd7x75l9tkc6r2l1p80000gn/T/ipykernel_23482/1439925471.py:8: RuntimeWarning: All-NaN slice encountered\n",
      "  y[i] = np.nanmedian(x[i-2:i+3])\n"
     ]
    },
    {
     "name": "stdout",
     "output_type": "stream",
     "text": [
      "4176_5\n"
     ]
    },
    {
     "name": "stderr",
     "output_type": "stream",
     "text": [
      "/var/folders/wj/11sgsjxd7x75l9tkc6r2l1p80000gn/T/ipykernel_23482/1439925471.py:8: RuntimeWarning: All-NaN slice encountered\n",
      "  y[i] = np.nanmedian(x[i-2:i+3])\n"
     ]
    },
    {
     "name": "stdout",
     "output_type": "stream",
     "text": [
      "4796_1\n"
     ]
    },
    {
     "name": "stderr",
     "output_type": "stream",
     "text": [
      "/var/folders/wj/11sgsjxd7x75l9tkc6r2l1p80000gn/T/ipykernel_23482/1439925471.py:8: RuntimeWarning: All-NaN slice encountered\n",
      "  y[i] = np.nanmedian(x[i-2:i+3])\n"
     ]
    },
    {
     "name": "stdout",
     "output_type": "stream",
     "text": [
      "4796_2\n"
     ]
    },
    {
     "name": "stderr",
     "output_type": "stream",
     "text": [
      "/var/folders/wj/11sgsjxd7x75l9tkc6r2l1p80000gn/T/ipykernel_23482/1439925471.py:8: RuntimeWarning: All-NaN slice encountered\n",
      "  y[i] = np.nanmedian(x[i-2:i+3])\n",
      "/var/folders/wj/11sgsjxd7x75l9tkc6r2l1p80000gn/T/ipykernel_23482/1439925471.py:9: RuntimeWarning: All-NaN slice encountered\n",
      "  y[0:2] = np.nanmedian(x[0:5])\n"
     ]
    },
    {
     "name": "stdout",
     "output_type": "stream",
     "text": [
      "4796_3\n"
     ]
    },
    {
     "name": "stderr",
     "output_type": "stream",
     "text": [
      "/var/folders/wj/11sgsjxd7x75l9tkc6r2l1p80000gn/T/ipykernel_23482/1439925471.py:8: RuntimeWarning: All-NaN slice encountered\n",
      "  y[i] = np.nanmedian(x[i-2:i+3])\n"
     ]
    },
    {
     "name": "stdout",
     "output_type": "stream",
     "text": [
      "4796_4\n"
     ]
    },
    {
     "name": "stderr",
     "output_type": "stream",
     "text": [
      "/var/folders/wj/11sgsjxd7x75l9tkc6r2l1p80000gn/T/ipykernel_23482/1439925471.py:8: RuntimeWarning: All-NaN slice encountered\n",
      "  y[i] = np.nanmedian(x[i-2:i+3])\n"
     ]
    },
    {
     "name": "stdout",
     "output_type": "stream",
     "text": [
      "4796_5\n"
     ]
    },
    {
     "name": "stderr",
     "output_type": "stream",
     "text": [
      "/var/folders/wj/11sgsjxd7x75l9tkc6r2l1p80000gn/T/ipykernel_23482/1439925471.py:8: RuntimeWarning: All-NaN slice encountered\n",
      "  y[i] = np.nanmedian(x[i-2:i+3])\n"
     ]
    },
    {
     "name": "stdout",
     "output_type": "stream",
     "text": [
      "4917_1\n"
     ]
    },
    {
     "name": "stderr",
     "output_type": "stream",
     "text": [
      "/var/folders/wj/11sgsjxd7x75l9tkc6r2l1p80000gn/T/ipykernel_23482/1439925471.py:8: RuntimeWarning: All-NaN slice encountered\n",
      "  y[i] = np.nanmedian(x[i-2:i+3])\n"
     ]
    },
    {
     "name": "stdout",
     "output_type": "stream",
     "text": [
      "4917_2\n"
     ]
    },
    {
     "name": "stderr",
     "output_type": "stream",
     "text": [
      "/var/folders/wj/11sgsjxd7x75l9tkc6r2l1p80000gn/T/ipykernel_23482/1439925471.py:8: RuntimeWarning: All-NaN slice encountered\n",
      "  y[i] = np.nanmedian(x[i-2:i+3])\n"
     ]
    },
    {
     "name": "stdout",
     "output_type": "stream",
     "text": [
      "4917_3\n"
     ]
    },
    {
     "name": "stderr",
     "output_type": "stream",
     "text": [
      "/var/folders/wj/11sgsjxd7x75l9tkc6r2l1p80000gn/T/ipykernel_23482/1439925471.py:8: RuntimeWarning: All-NaN slice encountered\n",
      "  y[i] = np.nanmedian(x[i-2:i+3])\n"
     ]
    },
    {
     "name": "stdout",
     "output_type": "stream",
     "text": [
      "4917_4\n"
     ]
    },
    {
     "name": "stderr",
     "output_type": "stream",
     "text": [
      "/var/folders/wj/11sgsjxd7x75l9tkc6r2l1p80000gn/T/ipykernel_23482/1439925471.py:8: RuntimeWarning: All-NaN slice encountered\n",
      "  y[i] = np.nanmedian(x[i-2:i+3])\n"
     ]
    },
    {
     "name": "stdout",
     "output_type": "stream",
     "text": [
      "4917_5\n"
     ]
    },
    {
     "name": "stderr",
     "output_type": "stream",
     "text": [
      "/var/folders/wj/11sgsjxd7x75l9tkc6r2l1p80000gn/T/ipykernel_23482/1439925471.py:8: RuntimeWarning: All-NaN slice encountered\n",
      "  y[i] = np.nanmedian(x[i-2:i+3])\n"
     ]
    },
    {
     "name": "stdout",
     "output_type": "stream",
     "text": [
      "0365_5\n"
     ]
    },
    {
     "name": "stderr",
     "output_type": "stream",
     "text": [
      "/var/folders/wj/11sgsjxd7x75l9tkc6r2l1p80000gn/T/ipykernel_23482/1439925471.py:8: RuntimeWarning: All-NaN slice encountered\n",
      "  y[i] = np.nanmedian(x[i-2:i+3])\n"
     ]
    },
    {
     "name": "stdout",
     "output_type": "stream",
     "text": [
      "0479_1\n"
     ]
    },
    {
     "name": "stderr",
     "output_type": "stream",
     "text": [
      "/var/folders/wj/11sgsjxd7x75l9tkc6r2l1p80000gn/T/ipykernel_23482/1439925471.py:8: RuntimeWarning: All-NaN slice encountered\n",
      "  y[i] = np.nanmedian(x[i-2:i+3])\n"
     ]
    },
    {
     "name": "stdout",
     "output_type": "stream",
     "text": [
      "0479_2\n"
     ]
    },
    {
     "name": "stderr",
     "output_type": "stream",
     "text": [
      "/var/folders/wj/11sgsjxd7x75l9tkc6r2l1p80000gn/T/ipykernel_23482/1439925471.py:8: RuntimeWarning: All-NaN slice encountered\n",
      "  y[i] = np.nanmedian(x[i-2:i+3])\n"
     ]
    },
    {
     "name": "stdout",
     "output_type": "stream",
     "text": [
      "0479_3\n"
     ]
    },
    {
     "name": "stderr",
     "output_type": "stream",
     "text": [
      "/var/folders/wj/11sgsjxd7x75l9tkc6r2l1p80000gn/T/ipykernel_23482/1439925471.py:8: RuntimeWarning: All-NaN slice encountered\n",
      "  y[i] = np.nanmedian(x[i-2:i+3])\n"
     ]
    },
    {
     "name": "stdout",
     "output_type": "stream",
     "text": [
      "5531_1\n"
     ]
    },
    {
     "name": "stderr",
     "output_type": "stream",
     "text": [
      "/var/folders/wj/11sgsjxd7x75l9tkc6r2l1p80000gn/T/ipykernel_23482/1439925471.py:8: RuntimeWarning: All-NaN slice encountered\n",
      "  y[i] = np.nanmedian(x[i-2:i+3])\n"
     ]
    },
    {
     "name": "stdout",
     "output_type": "stream",
     "text": [
      "5531_3\n"
     ]
    },
    {
     "name": "stderr",
     "output_type": "stream",
     "text": [
      "/var/folders/wj/11sgsjxd7x75l9tkc6r2l1p80000gn/T/ipykernel_23482/1439925471.py:8: RuntimeWarning: All-NaN slice encountered\n",
      "  y[i] = np.nanmedian(x[i-2:i+3])\n"
     ]
    },
    {
     "name": "stdout",
     "output_type": "stream",
     "text": [
      "5531_4\n"
     ]
    },
    {
     "name": "stderr",
     "output_type": "stream",
     "text": [
      "/var/folders/wj/11sgsjxd7x75l9tkc6r2l1p80000gn/T/ipykernel_23482/1439925471.py:8: RuntimeWarning: All-NaN slice encountered\n",
      "  y[i] = np.nanmedian(x[i-2:i+3])\n"
     ]
    },
    {
     "name": "stdout",
     "output_type": "stream",
     "text": [
      "5531_5\n"
     ]
    },
    {
     "name": "stderr",
     "output_type": "stream",
     "text": [
      "/var/folders/wj/11sgsjxd7x75l9tkc6r2l1p80000gn/T/ipykernel_23482/1439925471.py:8: RuntimeWarning: All-NaN slice encountered\n",
      "  y[i] = np.nanmedian(x[i-2:i+3])\n"
     ]
    },
    {
     "name": "stdout",
     "output_type": "stream",
     "text": [
      "5741_1\n"
     ]
    },
    {
     "name": "stderr",
     "output_type": "stream",
     "text": [
      "/var/folders/wj/11sgsjxd7x75l9tkc6r2l1p80000gn/T/ipykernel_23482/1439925471.py:8: RuntimeWarning: All-NaN slice encountered\n",
      "  y[i] = np.nanmedian(x[i-2:i+3])\n"
     ]
    },
    {
     "name": "stdout",
     "output_type": "stream",
     "text": [
      "5741_2\n"
     ]
    },
    {
     "name": "stderr",
     "output_type": "stream",
     "text": [
      "/var/folders/wj/11sgsjxd7x75l9tkc6r2l1p80000gn/T/ipykernel_23482/1439925471.py:8: RuntimeWarning: All-NaN slice encountered\n",
      "  y[i] = np.nanmedian(x[i-2:i+3])\n"
     ]
    },
    {
     "name": "stdout",
     "output_type": "stream",
     "text": [
      "5741_3\n"
     ]
    },
    {
     "name": "stderr",
     "output_type": "stream",
     "text": [
      "/var/folders/wj/11sgsjxd7x75l9tkc6r2l1p80000gn/T/ipykernel_23482/1439925471.py:8: RuntimeWarning: All-NaN slice encountered\n",
      "  y[i] = np.nanmedian(x[i-2:i+3])\n"
     ]
    },
    {
     "name": "stdout",
     "output_type": "stream",
     "text": [
      "5741_4\n"
     ]
    },
    {
     "name": "stderr",
     "output_type": "stream",
     "text": [
      "/var/folders/wj/11sgsjxd7x75l9tkc6r2l1p80000gn/T/ipykernel_23482/1439925471.py:8: RuntimeWarning: All-NaN slice encountered\n",
      "  y[i] = np.nanmedian(x[i-2:i+3])\n"
     ]
    },
    {
     "name": "stdout",
     "output_type": "stream",
     "text": [
      "5741_5\n"
     ]
    },
    {
     "name": "stderr",
     "output_type": "stream",
     "text": [
      "/var/folders/wj/11sgsjxd7x75l9tkc6r2l1p80000gn/T/ipykernel_23482/1439925471.py:8: RuntimeWarning: All-NaN slice encountered\n",
      "  y[i] = np.nanmedian(x[i-2:i+3])\n"
     ]
    },
    {
     "name": "stdout",
     "output_type": "stream",
     "text": [
      "6642_1\n"
     ]
    },
    {
     "name": "stderr",
     "output_type": "stream",
     "text": [
      "/var/folders/wj/11sgsjxd7x75l9tkc6r2l1p80000gn/T/ipykernel_23482/1439925471.py:8: RuntimeWarning: All-NaN slice encountered\n",
      "  y[i] = np.nanmedian(x[i-2:i+3])\n"
     ]
    },
    {
     "name": "stdout",
     "output_type": "stream",
     "text": [
      "6642_2\n"
     ]
    },
    {
     "name": "stderr",
     "output_type": "stream",
     "text": [
      "/var/folders/wj/11sgsjxd7x75l9tkc6r2l1p80000gn/T/ipykernel_23482/1439925471.py:8: RuntimeWarning: All-NaN slice encountered\n",
      "  y[i] = np.nanmedian(x[i-2:i+3])\n"
     ]
    },
    {
     "name": "stdout",
     "output_type": "stream",
     "text": [
      "6642_3\n"
     ]
    },
    {
     "name": "stderr",
     "output_type": "stream",
     "text": [
      "/var/folders/wj/11sgsjxd7x75l9tkc6r2l1p80000gn/T/ipykernel_23482/1439925471.py:8: RuntimeWarning: All-NaN slice encountered\n",
      "  y[i] = np.nanmedian(x[i-2:i+3])\n"
     ]
    },
    {
     "name": "stdout",
     "output_type": "stream",
     "text": [
      "6642_4\n"
     ]
    },
    {
     "name": "stderr",
     "output_type": "stream",
     "text": [
      "/var/folders/wj/11sgsjxd7x75l9tkc6r2l1p80000gn/T/ipykernel_23482/1439925471.py:8: RuntimeWarning: All-NaN slice encountered\n",
      "  y[i] = np.nanmedian(x[i-2:i+3])\n"
     ]
    },
    {
     "name": "stdout",
     "output_type": "stream",
     "text": [
      "6642_5\n"
     ]
    },
    {
     "name": "stderr",
     "output_type": "stream",
     "text": [
      "/var/folders/wj/11sgsjxd7x75l9tkc6r2l1p80000gn/T/ipykernel_23482/1439925471.py:8: RuntimeWarning: All-NaN slice encountered\n",
      "  y[i] = np.nanmedian(x[i-2:i+3])\n"
     ]
    },
    {
     "name": "stdout",
     "output_type": "stream",
     "text": [
      "7093_1\n"
     ]
    },
    {
     "name": "stderr",
     "output_type": "stream",
     "text": [
      "/var/folders/wj/11sgsjxd7x75l9tkc6r2l1p80000gn/T/ipykernel_23482/1439925471.py:8: RuntimeWarning: All-NaN slice encountered\n",
      "  y[i] = np.nanmedian(x[i-2:i+3])\n"
     ]
    },
    {
     "name": "stdout",
     "output_type": "stream",
     "text": [
      "7093_2\n"
     ]
    },
    {
     "name": "stderr",
     "output_type": "stream",
     "text": [
      "/var/folders/wj/11sgsjxd7x75l9tkc6r2l1p80000gn/T/ipykernel_23482/1439925471.py:8: RuntimeWarning: All-NaN slice encountered\n",
      "  y[i] = np.nanmedian(x[i-2:i+3])\n",
      "/var/folders/wj/11sgsjxd7x75l9tkc6r2l1p80000gn/T/ipykernel_23482/1439925471.py:10: RuntimeWarning: All-NaN slice encountered\n",
      "  y[length-2:length] = np.nanmedian(x[length-5:length])\n"
     ]
    },
    {
     "name": "stdout",
     "output_type": "stream",
     "text": [
      "7093_3\n"
     ]
    },
    {
     "name": "stderr",
     "output_type": "stream",
     "text": [
      "/var/folders/wj/11sgsjxd7x75l9tkc6r2l1p80000gn/T/ipykernel_23482/1439925471.py:8: RuntimeWarning: All-NaN slice encountered\n",
      "  y[i] = np.nanmedian(x[i-2:i+3])\n"
     ]
    },
    {
     "name": "stdout",
     "output_type": "stream",
     "text": [
      "7093_4\n"
     ]
    },
    {
     "name": "stderr",
     "output_type": "stream",
     "text": [
      "/var/folders/wj/11sgsjxd7x75l9tkc6r2l1p80000gn/T/ipykernel_23482/1439925471.py:8: RuntimeWarning: All-NaN slice encountered\n",
      "  y[i] = np.nanmedian(x[i-2:i+3])\n"
     ]
    },
    {
     "name": "stdout",
     "output_type": "stream",
     "text": [
      "7093_5\n"
     ]
    },
    {
     "name": "stderr",
     "output_type": "stream",
     "text": [
      "/var/folders/wj/11sgsjxd7x75l9tkc6r2l1p80000gn/T/ipykernel_23482/1439925471.py:8: RuntimeWarning: All-NaN slice encountered\n",
      "  y[i] = np.nanmedian(x[i-2:i+3])\n"
     ]
    },
    {
     "name": "stdout",
     "output_type": "stream",
     "text": [
      "7264_1\n"
     ]
    },
    {
     "name": "stderr",
     "output_type": "stream",
     "text": [
      "/var/folders/wj/11sgsjxd7x75l9tkc6r2l1p80000gn/T/ipykernel_23482/1439925471.py:8: RuntimeWarning: All-NaN slice encountered\n",
      "  y[i] = np.nanmedian(x[i-2:i+3])\n"
     ]
    },
    {
     "name": "stdout",
     "output_type": "stream",
     "text": [
      "7264_2\n"
     ]
    },
    {
     "name": "stderr",
     "output_type": "stream",
     "text": [
      "/var/folders/wj/11sgsjxd7x75l9tkc6r2l1p80000gn/T/ipykernel_23482/1439925471.py:8: RuntimeWarning: All-NaN slice encountered\n",
      "  y[i] = np.nanmedian(x[i-2:i+3])\n"
     ]
    },
    {
     "name": "stdout",
     "output_type": "stream",
     "text": [
      "7264_3\n"
     ]
    },
    {
     "name": "stderr",
     "output_type": "stream",
     "text": [
      "/var/folders/wj/11sgsjxd7x75l9tkc6r2l1p80000gn/T/ipykernel_23482/1439925471.py:8: RuntimeWarning: All-NaN slice encountered\n",
      "  y[i] = np.nanmedian(x[i-2:i+3])\n"
     ]
    },
    {
     "name": "stdout",
     "output_type": "stream",
     "text": [
      "7264_4\n"
     ]
    },
    {
     "name": "stderr",
     "output_type": "stream",
     "text": [
      "/var/folders/wj/11sgsjxd7x75l9tkc6r2l1p80000gn/T/ipykernel_23482/1439925471.py:8: RuntimeWarning: All-NaN slice encountered\n",
      "  y[i] = np.nanmedian(x[i-2:i+3])\n"
     ]
    },
    {
     "name": "stdout",
     "output_type": "stream",
     "text": [
      "7264_5\n"
     ]
    },
    {
     "name": "stderr",
     "output_type": "stream",
     "text": [
      "/var/folders/wj/11sgsjxd7x75l9tkc6r2l1p80000gn/T/ipykernel_23482/1439925471.py:8: RuntimeWarning: All-NaN slice encountered\n",
      "  y[i] = np.nanmedian(x[i-2:i+3])\n"
     ]
    },
    {
     "name": "stdout",
     "output_type": "stream",
     "text": [
      "7412_1\n"
     ]
    },
    {
     "name": "stderr",
     "output_type": "stream",
     "text": [
      "/var/folders/wj/11sgsjxd7x75l9tkc6r2l1p80000gn/T/ipykernel_23482/1439925471.py:8: RuntimeWarning: All-NaN slice encountered\n",
      "  y[i] = np.nanmedian(x[i-2:i+3])\n"
     ]
    },
    {
     "name": "stdout",
     "output_type": "stream",
     "text": [
      "7412_2\n"
     ]
    },
    {
     "name": "stderr",
     "output_type": "stream",
     "text": [
      "/var/folders/wj/11sgsjxd7x75l9tkc6r2l1p80000gn/T/ipykernel_23482/1439925471.py:8: RuntimeWarning: All-NaN slice encountered\n",
      "  y[i] = np.nanmedian(x[i-2:i+3])\n"
     ]
    },
    {
     "name": "stdout",
     "output_type": "stream",
     "text": [
      "7412_3\n"
     ]
    },
    {
     "name": "stderr",
     "output_type": "stream",
     "text": [
      "/var/folders/wj/11sgsjxd7x75l9tkc6r2l1p80000gn/T/ipykernel_23482/1439925471.py:8: RuntimeWarning: All-NaN slice encountered\n",
      "  y[i] = np.nanmedian(x[i-2:i+3])\n"
     ]
    },
    {
     "name": "stdout",
     "output_type": "stream",
     "text": [
      "7412_4\n"
     ]
    },
    {
     "name": "stderr",
     "output_type": "stream",
     "text": [
      "/var/folders/wj/11sgsjxd7x75l9tkc6r2l1p80000gn/T/ipykernel_23482/1439925471.py:8: RuntimeWarning: All-NaN slice encountered\n",
      "  y[i] = np.nanmedian(x[i-2:i+3])\n"
     ]
    },
    {
     "name": "stdout",
     "output_type": "stream",
     "text": [
      "7412_5\n"
     ]
    },
    {
     "name": "stderr",
     "output_type": "stream",
     "text": [
      "/var/folders/wj/11sgsjxd7x75l9tkc6r2l1p80000gn/T/ipykernel_23482/1439925471.py:8: RuntimeWarning: All-NaN slice encountered\n",
      "  y[i] = np.nanmedian(x[i-2:i+3])\n"
     ]
    },
    {
     "name": "stdout",
     "output_type": "stream",
     "text": [
      "7842_1\n"
     ]
    },
    {
     "name": "stderr",
     "output_type": "stream",
     "text": [
      "/var/folders/wj/11sgsjxd7x75l9tkc6r2l1p80000gn/T/ipykernel_23482/1439925471.py:8: RuntimeWarning: All-NaN slice encountered\n",
      "  y[i] = np.nanmedian(x[i-2:i+3])\n"
     ]
    },
    {
     "name": "stdout",
     "output_type": "stream",
     "text": [
      "7842_2\n"
     ]
    },
    {
     "name": "stderr",
     "output_type": "stream",
     "text": [
      "/var/folders/wj/11sgsjxd7x75l9tkc6r2l1p80000gn/T/ipykernel_23482/1439925471.py:8: RuntimeWarning: All-NaN slice encountered\n",
      "  y[i] = np.nanmedian(x[i-2:i+3])\n",
      "/var/folders/wj/11sgsjxd7x75l9tkc6r2l1p80000gn/T/ipykernel_23482/1439925471.py:10: RuntimeWarning: All-NaN slice encountered\n",
      "  y[length-2:length] = np.nanmedian(x[length-5:length])\n"
     ]
    },
    {
     "name": "stdout",
     "output_type": "stream",
     "text": [
      "7842_3\n"
     ]
    },
    {
     "name": "stderr",
     "output_type": "stream",
     "text": [
      "/var/folders/wj/11sgsjxd7x75l9tkc6r2l1p80000gn/T/ipykernel_23482/1439925471.py:8: RuntimeWarning: All-NaN slice encountered\n",
      "  y[i] = np.nanmedian(x[i-2:i+3])\n"
     ]
    },
    {
     "name": "stdout",
     "output_type": "stream",
     "text": [
      "7842_4\n"
     ]
    },
    {
     "name": "stderr",
     "output_type": "stream",
     "text": [
      "/var/folders/wj/11sgsjxd7x75l9tkc6r2l1p80000gn/T/ipykernel_23482/1439925471.py:8: RuntimeWarning: All-NaN slice encountered\n",
      "  y[i] = np.nanmedian(x[i-2:i+3])\n"
     ]
    },
    {
     "name": "stdout",
     "output_type": "stream",
     "text": [
      "7842_5\n"
     ]
    },
    {
     "name": "stderr",
     "output_type": "stream",
     "text": [
      "/var/folders/wj/11sgsjxd7x75l9tkc6r2l1p80000gn/T/ipykernel_23482/1439925471.py:8: RuntimeWarning: All-NaN slice encountered\n",
      "  y[i] = np.nanmedian(x[i-2:i+3])\n"
     ]
    },
    {
     "name": "stdout",
     "output_type": "stream",
     "text": [
      "8007_1\n"
     ]
    },
    {
     "name": "stderr",
     "output_type": "stream",
     "text": [
      "/var/folders/wj/11sgsjxd7x75l9tkc6r2l1p80000gn/T/ipykernel_23482/1439925471.py:8: RuntimeWarning: All-NaN slice encountered\n",
      "  y[i] = np.nanmedian(x[i-2:i+3])\n"
     ]
    },
    {
     "name": "stdout",
     "output_type": "stream",
     "text": [
      "8007_2\n"
     ]
    },
    {
     "name": "stderr",
     "output_type": "stream",
     "text": [
      "/var/folders/wj/11sgsjxd7x75l9tkc6r2l1p80000gn/T/ipykernel_23482/1439925471.py:8: RuntimeWarning: All-NaN slice encountered\n",
      "  y[i] = np.nanmedian(x[i-2:i+3])\n"
     ]
    },
    {
     "name": "stdout",
     "output_type": "stream",
     "text": [
      "8007_3\n"
     ]
    },
    {
     "name": "stderr",
     "output_type": "stream",
     "text": [
      "/var/folders/wj/11sgsjxd7x75l9tkc6r2l1p80000gn/T/ipykernel_23482/1439925471.py:8: RuntimeWarning: All-NaN slice encountered\n",
      "  y[i] = np.nanmedian(x[i-2:i+3])\n"
     ]
    },
    {
     "name": "stdout",
     "output_type": "stream",
     "text": [
      "8007_4\n"
     ]
    },
    {
     "name": "stderr",
     "output_type": "stream",
     "text": [
      "/var/folders/wj/11sgsjxd7x75l9tkc6r2l1p80000gn/T/ipykernel_23482/1439925471.py:8: RuntimeWarning: All-NaN slice encountered\n",
      "  y[i] = np.nanmedian(x[i-2:i+3])\n"
     ]
    },
    {
     "name": "stdout",
     "output_type": "stream",
     "text": [
      "8007_5\n"
     ]
    },
    {
     "name": "stderr",
     "output_type": "stream",
     "text": [
      "/var/folders/wj/11sgsjxd7x75l9tkc6r2l1p80000gn/T/ipykernel_23482/1439925471.py:8: RuntimeWarning: All-NaN slice encountered\n",
      "  y[i] = np.nanmedian(x[i-2:i+3])\n"
     ]
    },
    {
     "name": "stdout",
     "output_type": "stream",
     "text": [
      "8469_1\n"
     ]
    },
    {
     "name": "stderr",
     "output_type": "stream",
     "text": [
      "/var/folders/wj/11sgsjxd7x75l9tkc6r2l1p80000gn/T/ipykernel_23482/1439925471.py:8: RuntimeWarning: All-NaN slice encountered\n",
      "  y[i] = np.nanmedian(x[i-2:i+3])\n"
     ]
    },
    {
     "name": "stdout",
     "output_type": "stream",
     "text": [
      "8469_2\n"
     ]
    },
    {
     "name": "stderr",
     "output_type": "stream",
     "text": [
      "/var/folders/wj/11sgsjxd7x75l9tkc6r2l1p80000gn/T/ipykernel_23482/1439925471.py:8: RuntimeWarning: All-NaN slice encountered\n",
      "  y[i] = np.nanmedian(x[i-2:i+3])\n"
     ]
    },
    {
     "name": "stdout",
     "output_type": "stream",
     "text": [
      "8469_3\n"
     ]
    },
    {
     "name": "stderr",
     "output_type": "stream",
     "text": [
      "/var/folders/wj/11sgsjxd7x75l9tkc6r2l1p80000gn/T/ipykernel_23482/1439925471.py:8: RuntimeWarning: All-NaN slice encountered\n",
      "  y[i] = np.nanmedian(x[i-2:i+3])\n"
     ]
    },
    {
     "name": "stdout",
     "output_type": "stream",
     "text": [
      "8469_4\n"
     ]
    },
    {
     "name": "stderr",
     "output_type": "stream",
     "text": [
      "/var/folders/wj/11sgsjxd7x75l9tkc6r2l1p80000gn/T/ipykernel_23482/1439925471.py:8: RuntimeWarning: All-NaN slice encountered\n",
      "  y[i] = np.nanmedian(x[i-2:i+3])\n"
     ]
    },
    {
     "name": "stdout",
     "output_type": "stream",
     "text": [
      "8469_5\n"
     ]
    },
    {
     "name": "stderr",
     "output_type": "stream",
     "text": [
      "/var/folders/wj/11sgsjxd7x75l9tkc6r2l1p80000gn/T/ipykernel_23482/1439925471.py:8: RuntimeWarning: All-NaN slice encountered\n",
      "  y[i] = np.nanmedian(x[i-2:i+3])\n"
     ]
    },
    {
     "name": "stdout",
     "output_type": "stream",
     "text": [
      "8673_1\n"
     ]
    },
    {
     "name": "stderr",
     "output_type": "stream",
     "text": [
      "/var/folders/wj/11sgsjxd7x75l9tkc6r2l1p80000gn/T/ipykernel_23482/1439925471.py:8: RuntimeWarning: All-NaN slice encountered\n",
      "  y[i] = np.nanmedian(x[i-2:i+3])\n"
     ]
    },
    {
     "name": "stdout",
     "output_type": "stream",
     "text": [
      "8673_2\n"
     ]
    },
    {
     "name": "stderr",
     "output_type": "stream",
     "text": [
      "/var/folders/wj/11sgsjxd7x75l9tkc6r2l1p80000gn/T/ipykernel_23482/1439925471.py:8: RuntimeWarning: All-NaN slice encountered\n",
      "  y[i] = np.nanmedian(x[i-2:i+3])\n"
     ]
    },
    {
     "name": "stdout",
     "output_type": "stream",
     "text": [
      "8673_3\n"
     ]
    },
    {
     "name": "stderr",
     "output_type": "stream",
     "text": [
      "/var/folders/wj/11sgsjxd7x75l9tkc6r2l1p80000gn/T/ipykernel_23482/1439925471.py:8: RuntimeWarning: All-NaN slice encountered\n",
      "  y[i] = np.nanmedian(x[i-2:i+3])\n"
     ]
    },
    {
     "name": "stdout",
     "output_type": "stream",
     "text": [
      "8673_4\n"
     ]
    },
    {
     "name": "stderr",
     "output_type": "stream",
     "text": [
      "/var/folders/wj/11sgsjxd7x75l9tkc6r2l1p80000gn/T/ipykernel_23482/1439925471.py:8: RuntimeWarning: All-NaN slice encountered\n",
      "  y[i] = np.nanmedian(x[i-2:i+3])\n"
     ]
    },
    {
     "name": "stdout",
     "output_type": "stream",
     "text": [
      "8673_5\n"
     ]
    },
    {
     "name": "stderr",
     "output_type": "stream",
     "text": [
      "/var/folders/wj/11sgsjxd7x75l9tkc6r2l1p80000gn/T/ipykernel_23482/1439925471.py:8: RuntimeWarning: All-NaN slice encountered\n",
      "  y[i] = np.nanmedian(x[i-2:i+3])\n"
     ]
    },
    {
     "name": "stdout",
     "output_type": "stream",
     "text": [
      "0479_4\n"
     ]
    },
    {
     "name": "stderr",
     "output_type": "stream",
     "text": [
      "/var/folders/wj/11sgsjxd7x75l9tkc6r2l1p80000gn/T/ipykernel_23482/1439925471.py:8: RuntimeWarning: All-NaN slice encountered\n",
      "  y[i] = np.nanmedian(x[i-2:i+3])\n"
     ]
    },
    {
     "name": "stdout",
     "output_type": "stream",
     "text": [
      "0479_5\n"
     ]
    },
    {
     "name": "stderr",
     "output_type": "stream",
     "text": [
      "/var/folders/wj/11sgsjxd7x75l9tkc6r2l1p80000gn/T/ipykernel_23482/1439925471.py:8: RuntimeWarning: All-NaN slice encountered\n",
      "  y[i] = np.nanmedian(x[i-2:i+3])\n"
     ]
    },
    {
     "name": "stdout",
     "output_type": "stream",
     "text": [
      "/365_1\n"
     ]
    },
    {
     "name": "stderr",
     "output_type": "stream",
     "text": [
      "/var/folders/wj/11sgsjxd7x75l9tkc6r2l1p80000gn/T/ipykernel_23482/1439925471.py:8: RuntimeWarning: All-NaN slice encountered\n",
      "  y[i] = np.nanmedian(x[i-2:i+3])\n"
     ]
    },
    {
     "name": "stdout",
     "output_type": "stream",
     "text": [
      "/365_2\n"
     ]
    },
    {
     "name": "stderr",
     "output_type": "stream",
     "text": [
      "/var/folders/wj/11sgsjxd7x75l9tkc6r2l1p80000gn/T/ipykernel_23482/1439925471.py:8: RuntimeWarning: All-NaN slice encountered\n",
      "  y[i] = np.nanmedian(x[i-2:i+3])\n"
     ]
    },
    {
     "name": "stdout",
     "output_type": "stream",
     "text": [
      "9472_1\n"
     ]
    },
    {
     "name": "stderr",
     "output_type": "stream",
     "text": [
      "/var/folders/wj/11sgsjxd7x75l9tkc6r2l1p80000gn/T/ipykernel_23482/1439925471.py:8: RuntimeWarning: All-NaN slice encountered\n",
      "  y[i] = np.nanmedian(x[i-2:i+3])\n"
     ]
    },
    {
     "name": "stdout",
     "output_type": "stream",
     "text": [
      "9472_2\n"
     ]
    },
    {
     "name": "stderr",
     "output_type": "stream",
     "text": [
      "/var/folders/wj/11sgsjxd7x75l9tkc6r2l1p80000gn/T/ipykernel_23482/1439925471.py:8: RuntimeWarning: All-NaN slice encountered\n",
      "  y[i] = np.nanmedian(x[i-2:i+3])\n"
     ]
    },
    {
     "name": "stdout",
     "output_type": "stream",
     "text": [
      "9472_3\n"
     ]
    },
    {
     "name": "stderr",
     "output_type": "stream",
     "text": [
      "/var/folders/wj/11sgsjxd7x75l9tkc6r2l1p80000gn/T/ipykernel_23482/1439925471.py:8: RuntimeWarning: All-NaN slice encountered\n",
      "  y[i] = np.nanmedian(x[i-2:i+3])\n"
     ]
    },
    {
     "name": "stdout",
     "output_type": "stream",
     "text": [
      "9472_4\n"
     ]
    },
    {
     "name": "stderr",
     "output_type": "stream",
     "text": [
      "/var/folders/wj/11sgsjxd7x75l9tkc6r2l1p80000gn/T/ipykernel_23482/1439925471.py:8: RuntimeWarning: All-NaN slice encountered\n",
      "  y[i] = np.nanmedian(x[i-2:i+3])\n"
     ]
    },
    {
     "name": "stdout",
     "output_type": "stream",
     "text": [
      "9472_5\n"
     ]
    },
    {
     "name": "stderr",
     "output_type": "stream",
     "text": [
      "/var/folders/wj/11sgsjxd7x75l9tkc6r2l1p80000gn/T/ipykernel_23482/1439925471.py:8: RuntimeWarning: All-NaN slice encountered\n",
      "  y[i] = np.nanmedian(x[i-2:i+3])\n"
     ]
    },
    {
     "name": "stdout",
     "output_type": "stream",
     "text": [
      "9502_1\n"
     ]
    },
    {
     "name": "stderr",
     "output_type": "stream",
     "text": [
      "/var/folders/wj/11sgsjxd7x75l9tkc6r2l1p80000gn/T/ipykernel_23482/1439925471.py:8: RuntimeWarning: All-NaN slice encountered\n",
      "  y[i] = np.nanmedian(x[i-2:i+3])\n"
     ]
    },
    {
     "name": "stdout",
     "output_type": "stream",
     "text": [
      "9502_2\n"
     ]
    },
    {
     "name": "stderr",
     "output_type": "stream",
     "text": [
      "/var/folders/wj/11sgsjxd7x75l9tkc6r2l1p80000gn/T/ipykernel_23482/1439925471.py:8: RuntimeWarning: All-NaN slice encountered\n",
      "  y[i] = np.nanmedian(x[i-2:i+3])\n"
     ]
    },
    {
     "name": "stdout",
     "output_type": "stream",
     "text": [
      "9502_3\n"
     ]
    },
    {
     "name": "stderr",
     "output_type": "stream",
     "text": [
      "/var/folders/wj/11sgsjxd7x75l9tkc6r2l1p80000gn/T/ipykernel_23482/1439925471.py:8: RuntimeWarning: All-NaN slice encountered\n",
      "  y[i] = np.nanmedian(x[i-2:i+3])\n",
      "/var/folders/wj/11sgsjxd7x75l9tkc6r2l1p80000gn/T/ipykernel_23482/1439925471.py:10: RuntimeWarning: All-NaN slice encountered\n",
      "  y[length-2:length] = np.nanmedian(x[length-5:length])\n"
     ]
    },
    {
     "name": "stdout",
     "output_type": "stream",
     "text": [
      "9502_5\n"
     ]
    },
    {
     "name": "stderr",
     "output_type": "stream",
     "text": [
      "/var/folders/wj/11sgsjxd7x75l9tkc6r2l1p80000gn/T/ipykernel_23482/1439925471.py:8: RuntimeWarning: All-NaN slice encountered\n",
      "  y[i] = np.nanmedian(x[i-2:i+3])\n"
     ]
    },
    {
     "name": "stdout",
     "output_type": "stream",
     "text": [
      "9601_1\n"
     ]
    },
    {
     "name": "stderr",
     "output_type": "stream",
     "text": [
      "/var/folders/wj/11sgsjxd7x75l9tkc6r2l1p80000gn/T/ipykernel_23482/1439925471.py:8: RuntimeWarning: All-NaN slice encountered\n",
      "  y[i] = np.nanmedian(x[i-2:i+3])\n"
     ]
    },
    {
     "name": "stdout",
     "output_type": "stream",
     "text": [
      "9601_2\n"
     ]
    },
    {
     "name": "stderr",
     "output_type": "stream",
     "text": [
      "/var/folders/wj/11sgsjxd7x75l9tkc6r2l1p80000gn/T/ipykernel_23482/1439925471.py:8: RuntimeWarning: All-NaN slice encountered\n",
      "  y[i] = np.nanmedian(x[i-2:i+3])\n"
     ]
    },
    {
     "name": "stdout",
     "output_type": "stream",
     "text": [
      "9601_3\n"
     ]
    },
    {
     "name": "stderr",
     "output_type": "stream",
     "text": [
      "/var/folders/wj/11sgsjxd7x75l9tkc6r2l1p80000gn/T/ipykernel_23482/1439925471.py:8: RuntimeWarning: All-NaN slice encountered\n",
      "  y[i] = np.nanmedian(x[i-2:i+3])\n"
     ]
    },
    {
     "name": "stdout",
     "output_type": "stream",
     "text": [
      "9601_4\n"
     ]
    },
    {
     "name": "stderr",
     "output_type": "stream",
     "text": [
      "/var/folders/wj/11sgsjxd7x75l9tkc6r2l1p80000gn/T/ipykernel_23482/1439925471.py:8: RuntimeWarning: All-NaN slice encountered\n",
      "  y[i] = np.nanmedian(x[i-2:i+3])\n"
     ]
    },
    {
     "name": "stdout",
     "output_type": "stream",
     "text": [
      "9601_5\n"
     ]
    },
    {
     "name": "stderr",
     "output_type": "stream",
     "text": [
      "/var/folders/wj/11sgsjxd7x75l9tkc6r2l1p80000gn/T/ipykernel_23482/1439925471.py:8: RuntimeWarning: All-NaN slice encountered\n",
      "  y[i] = np.nanmedian(x[i-2:i+3])\n"
     ]
    },
    {
     "name": "stdout",
     "output_type": "stream",
     "text": [
      "/365_3\n"
     ]
    },
    {
     "name": "stderr",
     "output_type": "stream",
     "text": [
      "/var/folders/wj/11sgsjxd7x75l9tkc6r2l1p80000gn/T/ipykernel_23482/1439925471.py:8: RuntimeWarning: All-NaN slice encountered\n",
      "  y[i] = np.nanmedian(x[i-2:i+3])\n"
     ]
    },
    {
     "name": "stdout",
     "output_type": "stream",
     "text": [
      "/365_4\n"
     ]
    },
    {
     "name": "stderr",
     "output_type": "stream",
     "text": [
      "/var/folders/wj/11sgsjxd7x75l9tkc6r2l1p80000gn/T/ipykernel_23482/1439925471.py:8: RuntimeWarning: All-NaN slice encountered\n",
      "  y[i] = np.nanmedian(x[i-2:i+3])\n"
     ]
    },
    {
     "name": "stdout",
     "output_type": "stream",
     "text": [
      "/365_5\n"
     ]
    },
    {
     "name": "stderr",
     "output_type": "stream",
     "text": [
      "/var/folders/wj/11sgsjxd7x75l9tkc6r2l1p80000gn/T/ipykernel_23482/1439925471.py:8: RuntimeWarning: All-NaN slice encountered\n",
      "  y[i] = np.nanmedian(x[i-2:i+3])\n"
     ]
    },
    {
     "name": "stdout",
     "output_type": "stream",
     "text": [
      "/479_1\n"
     ]
    },
    {
     "name": "stderr",
     "output_type": "stream",
     "text": [
      "/var/folders/wj/11sgsjxd7x75l9tkc6r2l1p80000gn/T/ipykernel_23482/1439925471.py:8: RuntimeWarning: All-NaN slice encountered\n",
      "  y[i] = np.nanmedian(x[i-2:i+3])\n"
     ]
    },
    {
     "name": "stdout",
     "output_type": "stream",
     "text": [
      "/479_2\n"
     ]
    },
    {
     "name": "stderr",
     "output_type": "stream",
     "text": [
      "/var/folders/wj/11sgsjxd7x75l9tkc6r2l1p80000gn/T/ipykernel_23482/1439925471.py:8: RuntimeWarning: All-NaN slice encountered\n",
      "  y[i] = np.nanmedian(x[i-2:i+3])\n"
     ]
    },
    {
     "name": "stdout",
     "output_type": "stream",
     "text": [
      "/479_3\n"
     ]
    },
    {
     "name": "stderr",
     "output_type": "stream",
     "text": [
      "/var/folders/wj/11sgsjxd7x75l9tkc6r2l1p80000gn/T/ipykernel_23482/1439925471.py:8: RuntimeWarning: All-NaN slice encountered\n",
      "  y[i] = np.nanmedian(x[i-2:i+3])\n"
     ]
    },
    {
     "name": "stdout",
     "output_type": "stream",
     "text": [
      "7_1_II\n"
     ]
    },
    {
     "name": "stderr",
     "output_type": "stream",
     "text": [
      "/var/folders/wj/11sgsjxd7x75l9tkc6r2l1p80000gn/T/ipykernel_23482/1439925471.py:8: RuntimeWarning: All-NaN slice encountered\n",
      "  y[i] = np.nanmedian(x[i-2:i+3])\n"
     ]
    },
    {
     "name": "stdout",
     "output_type": "stream",
     "text": [
      "2361_1\n"
     ]
    },
    {
     "name": "stderr",
     "output_type": "stream",
     "text": [
      "/var/folders/wj/11sgsjxd7x75l9tkc6r2l1p80000gn/T/ipykernel_23482/1439925471.py:8: RuntimeWarning: All-NaN slice encountered\n",
      "  y[i] = np.nanmedian(x[i-2:i+3])\n"
     ]
    },
    {
     "name": "stdout",
     "output_type": "stream",
     "text": [
      "3246_4\n"
     ]
    },
    {
     "name": "stderr",
     "output_type": "stream",
     "text": [
      "/var/folders/wj/11sgsjxd7x75l9tkc6r2l1p80000gn/T/ipykernel_23482/1439925471.py:8: RuntimeWarning: All-NaN slice encountered\n",
      "  y[i] = np.nanmedian(x[i-2:i+3])\n"
     ]
    },
    {
     "name": "stdout",
     "output_type": "stream",
     "text": [
      "4597_2\n"
     ]
    },
    {
     "name": "stderr",
     "output_type": "stream",
     "text": [
      "/var/folders/wj/11sgsjxd7x75l9tkc6r2l1p80000gn/T/ipykernel_23482/1439925471.py:8: RuntimeWarning: All-NaN slice encountered\n",
      "  y[i] = np.nanmedian(x[i-2:i+3])\n"
     ]
    },
    {
     "name": "stdout",
     "output_type": "stream",
     "text": [
      "4597_3\n"
     ]
    },
    {
     "name": "stderr",
     "output_type": "stream",
     "text": [
      "/var/folders/wj/11sgsjxd7x75l9tkc6r2l1p80000gn/T/ipykernel_23482/1439925471.py:8: RuntimeWarning: All-NaN slice encountered\n",
      "  y[i] = np.nanmedian(x[i-2:i+3])\n"
     ]
    },
    {
     "name": "stdout",
     "output_type": "stream",
     "text": [
      "4597_4\n"
     ]
    },
    {
     "name": "stderr",
     "output_type": "stream",
     "text": [
      "/var/folders/wj/11sgsjxd7x75l9tkc6r2l1p80000gn/T/ipykernel_23482/1439925471.py:8: RuntimeWarning: All-NaN slice encountered\n",
      "  y[i] = np.nanmedian(x[i-2:i+3])\n"
     ]
    },
    {
     "name": "stdout",
     "output_type": "stream",
     "text": [
      "4597_5\n"
     ]
    },
    {
     "name": "stderr",
     "output_type": "stream",
     "text": [
      "/var/folders/wj/11sgsjxd7x75l9tkc6r2l1p80000gn/T/ipykernel_23482/1439925471.py:8: RuntimeWarning: All-NaN slice encountered\n",
      "  y[i] = np.nanmedian(x[i-2:i+3])\n"
     ]
    },
    {
     "name": "stdout",
     "output_type": "stream",
     "text": [
      "9502_4\n"
     ]
    },
    {
     "name": "stderr",
     "output_type": "stream",
     "text": [
      "/var/folders/wj/11sgsjxd7x75l9tkc6r2l1p80000gn/T/ipykernel_23482/1439925471.py:8: RuntimeWarning: All-NaN slice encountered\n",
      "  y[i] = np.nanmedian(x[i-2:i+3])\n"
     ]
    },
    {
     "name": "stdout",
     "output_type": "stream",
     "text": [
      "9586_1\n"
     ]
    },
    {
     "name": "stderr",
     "output_type": "stream",
     "text": [
      "/var/folders/wj/11sgsjxd7x75l9tkc6r2l1p80000gn/T/ipykernel_23482/1439925471.py:8: RuntimeWarning: All-NaN slice encountered\n",
      "  y[i] = np.nanmedian(x[i-2:i+3])\n"
     ]
    },
    {
     "name": "stdout",
     "output_type": "stream",
     "text": [
      "9586_2\n"
     ]
    },
    {
     "name": "stderr",
     "output_type": "stream",
     "text": [
      "/var/folders/wj/11sgsjxd7x75l9tkc6r2l1p80000gn/T/ipykernel_23482/1439925471.py:8: RuntimeWarning: All-NaN slice encountered\n",
      "  y[i] = np.nanmedian(x[i-2:i+3])\n"
     ]
    },
    {
     "name": "stdout",
     "output_type": "stream",
     "text": [
      "9586_3\n"
     ]
    },
    {
     "name": "stderr",
     "output_type": "stream",
     "text": [
      "/var/folders/wj/11sgsjxd7x75l9tkc6r2l1p80000gn/T/ipykernel_23482/1439925471.py:8: RuntimeWarning: All-NaN slice encountered\n",
      "  y[i] = np.nanmedian(x[i-2:i+3])\n"
     ]
    },
    {
     "name": "stdout",
     "output_type": "stream",
     "text": [
      "9586_4\n"
     ]
    },
    {
     "name": "stderr",
     "output_type": "stream",
     "text": [
      "/var/folders/wj/11sgsjxd7x75l9tkc6r2l1p80000gn/T/ipykernel_23482/1439925471.py:8: RuntimeWarning: All-NaN slice encountered\n",
      "  y[i] = np.nanmedian(x[i-2:i+3])\n"
     ]
    },
    {
     "name": "stdout",
     "output_type": "stream",
     "text": [
      "9586_5\n"
     ]
    },
    {
     "name": "stderr",
     "output_type": "stream",
     "text": [
      "/var/folders/wj/11sgsjxd7x75l9tkc6r2l1p80000gn/T/ipykernel_23482/1439925471.py:8: RuntimeWarning: All-NaN slice encountered\n",
      "  y[i] = np.nanmedian(x[i-2:i+3])\n"
     ]
    },
    {
     "name": "stdout",
     "output_type": "stream",
     "text": [
      "/479_4\n"
     ]
    },
    {
     "name": "stderr",
     "output_type": "stream",
     "text": [
      "/var/folders/wj/11sgsjxd7x75l9tkc6r2l1p80000gn/T/ipykernel_23482/1439925471.py:8: RuntimeWarning: All-NaN slice encountered\n",
      "  y[i] = np.nanmedian(x[i-2:i+3])\n"
     ]
    },
    {
     "name": "stdout",
     "output_type": "stream",
     "text": [
      "/479_5\n"
     ]
    },
    {
     "name": "stderr",
     "output_type": "stream",
     "text": [
      "/var/folders/wj/11sgsjxd7x75l9tkc6r2l1p80000gn/T/ipykernel_23482/1439925471.py:8: RuntimeWarning: All-NaN slice encountered\n",
      "  y[i] = np.nanmedian(x[i-2:i+3])\n"
     ]
    },
    {
     "name": "stdout",
     "output_type": "stream",
     "text": [
      "5238_1\n"
     ]
    },
    {
     "name": "stderr",
     "output_type": "stream",
     "text": [
      "/var/folders/wj/11sgsjxd7x75l9tkc6r2l1p80000gn/T/ipykernel_23482/1439925471.py:8: RuntimeWarning: All-NaN slice encountered\n",
      "  y[i] = np.nanmedian(x[i-2:i+3])\n"
     ]
    },
    {
     "name": "stdout",
     "output_type": "stream",
     "text": [
      "5238_2\n"
     ]
    },
    {
     "name": "stderr",
     "output_type": "stream",
     "text": [
      "/var/folders/wj/11sgsjxd7x75l9tkc6r2l1p80000gn/T/ipykernel_23482/1439925471.py:8: RuntimeWarning: All-NaN slice encountered\n",
      "  y[i] = np.nanmedian(x[i-2:i+3])\n"
     ]
    },
    {
     "name": "stdout",
     "output_type": "stream",
     "text": [
      "5238_3\n"
     ]
    },
    {
     "name": "stderr",
     "output_type": "stream",
     "text": [
      "/var/folders/wj/11sgsjxd7x75l9tkc6r2l1p80000gn/T/ipykernel_23482/1439925471.py:8: RuntimeWarning: All-NaN slice encountered\n",
      "  y[i] = np.nanmedian(x[i-2:i+3])\n"
     ]
    },
    {
     "name": "stdout",
     "output_type": "stream",
     "text": [
      "5238_4\n"
     ]
    },
    {
     "name": "stderr",
     "output_type": "stream",
     "text": [
      "/var/folders/wj/11sgsjxd7x75l9tkc6r2l1p80000gn/T/ipykernel_23482/1439925471.py:8: RuntimeWarning: All-NaN slice encountered\n",
      "  y[i] = np.nanmedian(x[i-2:i+3])\n"
     ]
    },
    {
     "name": "stdout",
     "output_type": "stream",
     "text": [
      "8695_2\n"
     ]
    },
    {
     "name": "stderr",
     "output_type": "stream",
     "text": [
      "/var/folders/wj/11sgsjxd7x75l9tkc6r2l1p80000gn/T/ipykernel_23482/1439925471.py:8: RuntimeWarning: All-NaN slice encountered\n",
      "  y[i] = np.nanmedian(x[i-2:i+3])\n"
     ]
    },
    {
     "name": "stdout",
     "output_type": "stream",
     "text": [
      "8695_3\n"
     ]
    },
    {
     "name": "stderr",
     "output_type": "stream",
     "text": [
      "/var/folders/wj/11sgsjxd7x75l9tkc6r2l1p80000gn/T/ipykernel_23482/1439925471.py:8: RuntimeWarning: All-NaN slice encountered\n",
      "  y[i] = np.nanmedian(x[i-2:i+3])\n"
     ]
    },
    {
     "name": "stdout",
     "output_type": "stream",
     "text": [
      "8695_4\n"
     ]
    },
    {
     "name": "stderr",
     "output_type": "stream",
     "text": [
      "/var/folders/wj/11sgsjxd7x75l9tkc6r2l1p80000gn/T/ipykernel_23482/1439925471.py:8: RuntimeWarning: All-NaN slice encountered\n",
      "  y[i] = np.nanmedian(x[i-2:i+3])\n"
     ]
    },
    {
     "name": "stdout",
     "output_type": "stream",
     "text": [
      "4597_1\n"
     ]
    },
    {
     "name": "stderr",
     "output_type": "stream",
     "text": [
      "/var/folders/wj/11sgsjxd7x75l9tkc6r2l1p80000gn/T/ipykernel_23482/1439925471.py:8: RuntimeWarning: All-NaN slice encountered\n",
      "  y[i] = np.nanmedian(x[i-2:i+3])\n"
     ]
    },
    {
     "name": "stdout",
     "output_type": "stream",
     "text": [
      "8695_5\n"
     ]
    }
   ],
   "source": [
    "path = \"/Volumes/TwoTeras/0_Experiment_1/Eye_Tracking/Pre_processed/03_Individuals_IndividualSessions/\" \n",
    "\n",
    "  \n",
    "# csv files in the path\n",
    "files = glob.glob(path + \"/*.csv\")\n",
    "  \n",
    "# defining an empty list to store \n",
    "# content\n",
    "data_frame = pd.DataFrame()\n",
    "content = []\n",
    "  \n",
    "# checking all the csv files in the \n",
    "# specified path\n",
    "for filename in files:\n",
    "    \n",
    "    # reading content of csv file\n",
    "    # content.append(filename)\n",
    "    One_participant = pd.read_csv(filename)\n",
    "    One_participant.drop(['Unnamed: 0'],axis=1, inplace=True)\n",
    "    #Apply function that marks beggining and end of invalid sections\n",
    "    One_participant[\"Bitmask_flag\"] = bitmask_flag_change(One_participant, \"combinedGazeValidityBitmask\")\n",
    "    One_participant.reset_index(inplace=True)\n",
    "    # Get index of begging and end of invalid events\n",
    "    indexLastValid = One_participant[One_participant[\"Bitmask_flag\"] == \"Invalid_Section_Starts\"].index\n",
    "    indexLastInValid = One_participant[One_participant[\"Bitmask_flag\"] == \"Invalid_Section_Ends\"].index\n",
    "    # Get 20 rows prior to the beggining of the invalid event \n",
    "    indexLower = indexLastValid - 20\n",
    "    indexUpper = indexLastValid\n",
    "    # Since it's possible that the invalid event occured less than 20 rows from the beggining of the file\n",
    "    # we need to correct so that the highest possible index is the firs value in the file\n",
    "    indexLower_r = [0 if i < 0 else i for i in indexLower]\n",
    "    #Create a list with the most common element 200ms before the invalid section started\n",
    "    Elements_to_replace = [One_participant.iloc[down:up,20].mode().iloc[0] for down, up in zip(indexLower_r, indexUpper)]\n",
    "    #Create new column for interpolated events\n",
    "    One_participant[\"Interpolated_collider\"] = One_participant[\"hitObjectColliderName\"]\n",
    "    #Concat the row indexes that need replacement\n",
    "    ranges = list(zip(indexLastValid, indexLastInValid))\n",
    "    #Replace the invalid event with the mode of 20 events prior\n",
    "    for i, (lower, upper) in enumerate(ranges):\n",
    "        One_participant.iloc[lower:upper,-2]  = Elements_to_replace[i]\n",
    "    # Here we look for the patterns contained in the dictionary and create the more general/informative variable Collider_Categorical\n",
    "    One_participant['Collider_Categorical'] = One_participant['Interpolated_collider'].apply(lambda x: next((val for key, val in patterns.items() if re.match(key, x)), default_val))\n",
    "    # Replace coordinates and eucledian distances with Nans\n",
    "    One_participant.loc[One_participant['combinedGazeValidityBitmask'] == 0, ['hitPointOnObject_x', 'hitPointOnObject_y', 'hitPointOnObject_z',' eyePositionCombinedWorld.x', 'eyePositionCombinedWorld.y', 'eyePositionCombinedWorld.z', 'Eucledian_distance']] =  np.nan\n",
    "    indexLastValid = []\n",
    "    indexLastInValid = []\n",
    "    indexLower = []\n",
    "    indexUpper = []\n",
    "    \n",
    "    # 5 point median filter\n",
    "    One_participant[\"hitPointOnObject_x\"] = median_correction(One_participant.hitPointOnObject_x)\n",
    "    One_participant[\"hitPointOnObject_y\"] = median_correction(One_participant.hitPointOnObject_y)\n",
    "    One_participant[\"hitPointOnObject_z\"] = median_correction(One_participant.hitPointOnObject_z)\n",
    "    One_participant[\"eyePositionCombinedWorld.x\"] = median_correction( One_participant[\"eyePositionCombinedWorld.x\"])\n",
    "    One_participant[\"eyePositionCombinedWorld.y\"] = median_correction( One_participant[\"eyePositionCombinedWorld.y\"])\n",
    "    One_participant[\"eyePositionCombinedWorld.z\"] = median_correction( One_participant[\"eyePositionCombinedWorld.z\"])\n",
    "     #Saves an individual file per session per subject with out duplicates\n",
    "    One_participant.to_csv(f\"/Volumes/TwoTeras/0_Experiment_1/Eye_Tracking/Pre_processed/04_Interpolated/{filename[-10:-4]}.csv\", index=True)\n",
    "    print(filename[-10:-4])\n",
    "    content.append(One_participant)\n",
    "\n",
    "# converting content to data frame\n",
    "data_frame = pd.concat(content)"
   ]
  },
  {
   "cell_type": "code",
   "execution_count": null,
   "id": "3fa1964c-5746-46fc-9f30-d76e69006277",
   "metadata": {},
   "outputs": [],
   "source": [
    "data_frame.tail(50)"
   ]
  }
 ],
 "metadata": {
  "kernelspec": {
   "display_name": "Python 3 (ipykernel)",
   "language": "python",
   "name": "python3"
  },
  "language_info": {
   "codemirror_mode": {
    "name": "ipython",
    "version": 3
   },
   "file_extension": ".py",
   "mimetype": "text/x-python",
   "name": "python",
   "nbconvert_exporter": "python",
   "pygments_lexer": "ipython3",
   "version": "3.12.7"
  }
 },
 "nbformat": 4,
 "nbformat_minor": 5
}
