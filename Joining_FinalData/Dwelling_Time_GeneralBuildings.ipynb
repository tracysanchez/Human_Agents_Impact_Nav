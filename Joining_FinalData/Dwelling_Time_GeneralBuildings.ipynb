{
 "cells": [
  {
   "cell_type": "code",
   "execution_count": 1,
   "id": "67d07dd0",
   "metadata": {},
   "outputs": [],
   "source": [
    "import pandas as pd \n",
    "import numpy as np"
   ]
  },
  {
   "cell_type": "code",
   "execution_count": 12,
   "id": "b27b08ac",
   "metadata": {},
   "outputs": [],
   "source": [
    "Experiment_1 = pd.read_csv(\"/Volumes/TwoTeras/0_Experiment_1/Eye_Tracking/Pre_processed/Data_Sets/Dwelling_Buildings_Exp1.cvs\")\n",
    "Experiment_2 = pd.read_csv(\"/Volumes/TwoTeras/1_Experiment_2/Eye_Tracking/Pre_processed/Data_Sets/Dwelling_Buildings_Exp2.cvs\")"
   ]
  },
  {
   "cell_type": "code",
   "execution_count": 13,
   "id": "5c019b45",
   "metadata": {},
   "outputs": [
    {
     "name": "stdout",
     "output_type": "stream",
     "text": [
      "Experiment_1 columns: Index(['SubjectID', 'recoded', 'Collider_CategoricalN', 'Dwelling_Time',\n",
      "       'Fixation_Count'],\n",
      "      dtype='object')\n",
      "Experiment_2 columns: Index(['SubjectID', 'recoded', 'Collider_CategoricalN', 'Dwelling_Time',\n",
      "       'Fixation_Count'],\n",
      "      dtype='object')\n"
     ]
    }
   ],
   "source": [
    "# Drop columns that have \"Unnamed\" in their name from Experiment_1\n",
    "Experiment_1 = Experiment_1.loc[:, ~Experiment_1.columns.str.contains('^Unnamed')]\n",
    "\n",
    "# Drop columns that have \"Unnamed\" in their name from Experiment_2\n",
    "Experiment_2 = Experiment_2.loc[:, ~Experiment_2.columns.str.contains('^Unnamed')]\n",
    "\n",
    "# Display the remaining columns for both dataframes\n",
    "print(\"Experiment_1 columns:\", Experiment_1.columns)\n",
    "print(\"Experiment_2 columns:\", Experiment_2.columns)"
   ]
  },
  {
   "cell_type": "code",
   "execution_count": 19,
   "id": "05331649",
   "metadata": {},
   "outputs": [
    {
     "data": {
      "text/plain": [
       "(7855, 5)"
      ]
     },
     "metadata": {},
     "output_type": "display_data"
    },
    {
     "data": {
      "text/plain": [
       "(8298, 5)"
      ]
     },
     "metadata": {},
     "output_type": "display_data"
    }
   ],
   "source": [
    "display(Experiment_1.shape)\n",
    "display(Experiment_2.shape)"
   ]
  },
  {
   "cell_type": "code",
   "execution_count": 18,
   "id": "d2b637af",
   "metadata": {},
   "outputs": [
    {
     "data": {
      "text/plain": [
       "(16153, 5)"
      ]
     },
     "execution_count": 18,
     "metadata": {},
     "output_type": "execute_result"
    }
   ],
   "source": [
    "# Concatenate the two DataFrames\n",
    "combined_data = pd.concat([Experiment_1, Experiment_2], ignore_index=True)\n",
    "combined_data.shape"
   ]
  },
  {
   "cell_type": "code",
   "execution_count": 20,
   "id": "28337eab",
   "metadata": {},
   "outputs": [
    {
     "data": {
      "text/html": [
       "<div>\n",
       "<style scoped>\n",
       "    .dataframe tbody tr th:only-of-type {\n",
       "        vertical-align: middle;\n",
       "    }\n",
       "\n",
       "    .dataframe tbody tr th {\n",
       "        vertical-align: top;\n",
       "    }\n",
       "\n",
       "    .dataframe thead th {\n",
       "        text-align: right;\n",
       "    }\n",
       "</style>\n",
       "<table border=\"1\" class=\"dataframe\">\n",
       "  <thead>\n",
       "    <tr style=\"text-align: right;\">\n",
       "      <th></th>\n",
       "      <th>median</th>\n",
       "      <th>count</th>\n",
       "      <th>mean</th>\n",
       "      <th>std</th>\n",
       "      <th>max</th>\n",
       "      <th>min</th>\n",
       "    </tr>\n",
       "    <tr>\n",
       "      <th>Collider_CategoricalN</th>\n",
       "      <th></th>\n",
       "      <th></th>\n",
       "      <th></th>\n",
       "      <th></th>\n",
       "      <th></th>\n",
       "      <th></th>\n",
       "    </tr>\n",
       "  </thead>\n",
       "  <tbody>\n",
       "    <tr>\n",
       "      <th>Active_Agent</th>\n",
       "      <td>2.413019</td>\n",
       "      <td>1485</td>\n",
       "      <td>3.630968</td>\n",
       "      <td>3.737195</td>\n",
       "      <td>24.635303</td>\n",
       "      <td>0.044144</td>\n",
       "    </tr>\n",
       "    <tr>\n",
       "      <th>Building</th>\n",
       "      <td>4.688187</td>\n",
       "      <td>10018</td>\n",
       "      <td>6.677964</td>\n",
       "      <td>6.690153</td>\n",
       "      <td>65.971493</td>\n",
       "      <td>0.033232</td>\n",
       "    </tr>\n",
       "    <tr>\n",
       "      <th>Global_Landmark</th>\n",
       "      <td>13.752491</td>\n",
       "      <td>257</td>\n",
       "      <td>16.272585</td>\n",
       "      <td>10.690618</td>\n",
       "      <td>84.935903</td>\n",
       "      <td>2.249918</td>\n",
       "    </tr>\n",
       "    <tr>\n",
       "      <th>Passive_Agent</th>\n",
       "      <td>1.777920</td>\n",
       "      <td>1440</td>\n",
       "      <td>2.656202</td>\n",
       "      <td>2.778238</td>\n",
       "      <td>20.126391</td>\n",
       "      <td>0.033231</td>\n",
       "    </tr>\n",
       "    <tr>\n",
       "      <th>TaskBuilding_Public</th>\n",
       "      <td>10.422447</td>\n",
       "      <td>1473</td>\n",
       "      <td>11.818989</td>\n",
       "      <td>8.475340</td>\n",
       "      <td>60.043900</td>\n",
       "      <td>0.059024</td>\n",
       "    </tr>\n",
       "    <tr>\n",
       "      <th>TaskBuilding_Residential</th>\n",
       "      <td>9.961912</td>\n",
       "      <td>1480</td>\n",
       "      <td>11.655882</td>\n",
       "      <td>8.294373</td>\n",
       "      <td>83.283593</td>\n",
       "      <td>0.043648</td>\n",
       "    </tr>\n",
       "  </tbody>\n",
       "</table>\n",
       "</div>"
      ],
      "text/plain": [
       "                             median  count       mean        std        max  \\\n",
       "Collider_CategoricalN                                                         \n",
       "Active_Agent               2.413019   1485   3.630968   3.737195  24.635303   \n",
       "Building                   4.688187  10018   6.677964   6.690153  65.971493   \n",
       "Global_Landmark           13.752491    257  16.272585  10.690618  84.935903   \n",
       "Passive_Agent              1.777920   1440   2.656202   2.778238  20.126391   \n",
       "TaskBuilding_Public       10.422447   1473  11.818989   8.475340  60.043900   \n",
       "TaskBuilding_Residential   9.961912   1480  11.655882   8.294373  83.283593   \n",
       "\n",
       "                               min  \n",
       "Collider_CategoricalN               \n",
       "Active_Agent              0.044144  \n",
       "Building                  0.033232  \n",
       "Global_Landmark           2.249918  \n",
       "Passive_Agent             0.033231  \n",
       "TaskBuilding_Public       0.059024  \n",
       "TaskBuilding_Residential  0.043648  "
      ]
     },
     "execution_count": 20,
     "metadata": {},
     "output_type": "execute_result"
    }
   ],
   "source": [
    "combined_data.groupby([ \"Collider_CategoricalN\"])[\"Dwelling_Time\"].agg(['median','count','mean','std','max', 'min'])"
   ]
  },
  {
   "cell_type": "code",
   "execution_count": null,
   "id": "8335e4c4",
   "metadata": {},
   "outputs": [],
   "source": []
  }
 ],
 "metadata": {
  "kernelspec": {
   "display_name": "Python 3 (ipykernel)",
   "language": "python",
   "name": "python3"
  },
  "language_info": {
   "codemirror_mode": {
    "name": "ipython",
    "version": 3
   },
   "file_extension": ".py",
   "mimetype": "text/x-python",
   "name": "python",
   "nbconvert_exporter": "python",
   "pygments_lexer": "ipython3",
   "version": "3.11.5"
  }
 },
 "nbformat": 4,
 "nbformat_minor": 5
}
