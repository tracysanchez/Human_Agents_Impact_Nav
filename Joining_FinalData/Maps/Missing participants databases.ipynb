{
 "cells": [
  {
   "cell_type": "code",
   "execution_count": 1,
   "id": "550468f3-236a-4f83-8bff-e49cc099e22f",
   "metadata": {
    "tags": []
   },
   "outputs": [],
   "source": [
    "import sqlite3\n",
    "from pathlib import Path"
   ]
  },
  {
   "cell_type": "code",
   "execution_count": 9,
   "id": "d31485a7-aa7e-4df9-af58-3a8345643318",
   "metadata": {
    "tags": []
   },
   "outputs": [],
   "source": [
    "db_path_exp1 = Path('/Volumes/TwoTeras/Graph_Stuff/DataBases/HumanA_Exp1.db')\n",
    "db_path_exp2 = Path('/Volumes/TwoTeras/Graph_Stuff/DataBases/HumanA_Exp2.db')\n",
    "\n",
    "connection_exp1 = sqlite3.connect(db_path_exp1)\n",
    "connection_exp2 = sqlite3.connect(db_path_exp2)\n",
    "\n",
    "cr_exp1 = connection_exp1.cursor()\n",
    "cr_exp2 = connection_exp2.cursor()"
   ]
  },
  {
   "cell_type": "code",
   "execution_count": 10,
   "id": "421e61d9-b2d8-40a5-8fbd-1adbc86bfb3f",
   "metadata": {
    "tags": []
   },
   "outputs": [],
   "source": [
    "def getParticipantIDs(cr):\n",
    "    sql_instruction = \"\"\"SELECT DISTINCT participantId FROM trials\"\"\"\n",
    "    cr.execute(sql_instruction)\n",
    "    participantIds = list(did[0] for did in cr.fetchall())\n",
    "    return participantIds"
   ]
  },
  {
   "cell_type": "code",
   "execution_count": 11,
   "id": "e75b564e-b2b4-4a84-94a5-46e62b83221e",
   "metadata": {
    "tags": []
   },
   "outputs": [],
   "source": [
    "participants_exp1 = getParticipantIDs(cr_exp1)\n",
    "participants_exp2 = getParticipantIDs(cr_exp2)\n",
    "participantIDs = participants_exp1 + participants_exp2\n",
    "participants = [ 365,  479, 1031, 1142, 1234, 1268, 1574, 1754, 1843, 2069, 2258,\n",
    "       2361, 2693, 3193, 3246, 3310, 3540, 3572, 3976, 4176, 4580, 4597,\n",
    "       4598, 4796, 4847, 4875, 4917, 5161, 5189, 5191, 5238, 5531, 5741,\n",
    "       5743, 5766, 5851, 5972, 6266, 6406, 6642, 7081, 7093, 7264, 7393,\n",
    "       7412, 7823, 7842, 7935, 8007, 8469, 8629, 8673, 8695, 9297, 9472,\n",
    "       9502, 9586, 9601, 9627]"
   ]
  },
  {
   "cell_type": "code",
   "execution_count": 12,
   "id": "96a4f87e-f58e-43c6-ac9c-5989ac89e433",
   "metadata": {
    "tags": []
   },
   "outputs": [
    {
     "name": "stdout",
     "output_type": "stream",
     "text": [
      "[479, 1754, 2258, 2361, 2693, 3246, 3310, 3572, 3976, 4176, 4796, 4917, 5238, 5531, 5741, 6642, 7093, 7264, 7412, 7842, 8007, 8469, 8673, 8695, 9472, 9502, 9601, 365, 1147, 4597, 4623, 6268, 9312, 9586, 5743, 6406, 5189, 9297, 7081, 5766, 1031, 4598, 4847, 8629, 9627, 5972, 7935, 2069, 4580, 6666, 7393, 4154, 1843, 5851, 3193, 5161, 1268, 1574, 3540, 4875, 6254, 7823, 9535, 1142, 1234]\n"
     ]
    }
   ],
   "source": [
    "print(participantIDs)"
   ]
  },
  {
   "cell_type": "code",
   "execution_count": 6,
   "id": "e0438046-1c21-454e-af23-99fda5f91e6a",
   "metadata": {
    "tags": []
   },
   "outputs": [],
   "source": [
    "difference = [item for item in participants if item not in participantIDs]"
   ]
  },
  {
   "cell_type": "code",
   "execution_count": 13,
   "id": "2f4101ea-91f1-4d1b-b705-ce8e28dc23cd",
   "metadata": {
    "tags": []
   },
   "outputs": [
    {
     "name": "stdout",
     "output_type": "stream",
     "text": [
      "[5191, 6266]\n"
     ]
    }
   ],
   "source": [
    "print(difference)"
   ]
  },
  {
   "cell_type": "code",
   "execution_count": 14,
   "id": "5abb6d99-e19a-41f6-930b-195df2ca1b49",
   "metadata": {
    "tags": []
   },
   "outputs": [],
   "source": [
    "connection_exp1.close()\n",
    "connection_exp2.close()"
   ]
  },
  {
   "cell_type": "code",
   "execution_count": null,
   "id": "44bbede0-b651-4e38-be99-27c27d637182",
   "metadata": {},
   "outputs": [],
   "source": []
  }
 ],
 "metadata": {
  "kernelspec": {
   "display_name": "Python 3 (ipykernel)",
   "language": "python",
   "name": "python3"
  },
  "language_info": {
   "codemirror_mode": {
    "name": "ipython",
    "version": 3
   },
   "file_extension": ".py",
   "mimetype": "text/x-python",
   "name": "python",
   "nbconvert_exporter": "python",
   "pygments_lexer": "ipython3",
   "version": "3.11.5"
  }
 },
 "nbformat": 4,
 "nbformat_minor": 5
}
