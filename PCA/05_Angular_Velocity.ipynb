{
 "cells": [
  {
   "cell_type": "code",
   "execution_count": 1,
   "id": "c5fedceb-e970-4806-8846-6944484bd597",
   "metadata": {},
   "outputs": [],
   "source": [
    "import numpy as np\n",
    "import pandas as pd\n",
    "import matplotlib.pyplot as plt"
   ]
  },
  {
   "cell_type": "code",
   "execution_count": 2,
   "id": "6a233efb-224b-492a-af9a-0e9a41fee61c",
   "metadata": {},
   "outputs": [],
   "source": [
    "df_validData = pd.read_csv(\"/Volumes/TwoTeras/0_Experiment_1/Eye_Tracking/Pre_processed/Data_Sets/Experiment_1_OpenEyes.cvs\")"
   ]
  },
  {
   "cell_type": "code",
   "execution_count": 3,
   "id": "49e0f6a2-10ff-41eb-9ba0-13f04c0c23ae",
   "metadata": {},
   "outputs": [],
   "source": [
    "\n",
    "def compute_angvel_summary(df, id_col='SubjectID', val_col='combined_vel'):\n",
    "    \"\"\"\n",
    "    Compute median, IQR, and Bowley coefficient of angular velocity per subject.\n",
    "    \"\"\"\n",
    "    out = (\n",
    "        df.groupby(id_col)\n",
    "        .agg(\n",
    "            Q25=(val_col, lambda x: np.nanquantile(x, 0.25)),\n",
    "            Median=(val_col, np.nanmedian),\n",
    "            Q75=(val_col, lambda x: np.nanquantile(x, 0.75))\n",
    "        )\n",
    "        .reset_index()\n",
    "    )\n",
    "    # Calculate interquartile range and Bowley skew\n",
    "    out['DistQ1_Q3'] = out['Q75'] - out['Q25']\n",
    "    out['BowleyCoef'] = (out['Q75'] + out['Q25'] - 2 * out['Median']) / out['DistQ1_Q3']\n",
    "    \n",
    "    # Rename columns and drop intermediates\n",
    "    out = out.rename(columns={\n",
    "        'Median': 'Combined_AngVel_med',\n",
    "        'DistQ1_Q3': 'Combined_AngVel_DistQ1_Q3',\n",
    "        'BowleyCoef': 'Combined_AngVel_bowleyCoef'\n",
    "    }).drop(columns=['Q25', 'Q75'])\n",
    "\n",
    "    return out\n"
   ]
  },
  {
   "cell_type": "code",
   "execution_count": 4,
   "id": "2cac68bf-037b-4094-958f-353c079a40a5",
   "metadata": {},
   "outputs": [
    {
     "name": "stderr",
     "output_type": "stream",
     "text": [
      "/var/folders/wj/11sgsjxd7x75l9tkc6r2l1p80000gn/T/ipykernel_4096/3077874864.py:7: FutureWarning: The provided callable <function nanmedian at 0x1067d1120> is currently using SeriesGroupBy.median. In a future version of pandas, the provided callable will be used directly. To keep current behavior pass the string \"median\" instead.\n",
      "  .agg(\n",
      "/var/folders/wj/11sgsjxd7x75l9tkc6r2l1p80000gn/T/ipykernel_4096/3077874864.py:7: FutureWarning: The provided callable <function nanmedian at 0x1067d1120> is currently using SeriesGroupBy.median. In a future version of pandas, the provided callable will be used directly. To keep current behavior pass the string \"median\" instead.\n",
      "  .agg(\n",
      "/var/folders/wj/11sgsjxd7x75l9tkc6r2l1p80000gn/T/ipykernel_4096/3077874864.py:7: FutureWarning: The provided callable <function nanmedian at 0x1067d1120> is currently using SeriesGroupBy.median. In a future version of pandas, the provided callable will be used directly. To keep current behavior pass the string \"median\" instead.\n",
      "  .agg(\n"
     ]
    }
   ],
   "source": [
    "# 1. All events\n",
    "df_AngVel_all = compute_angvel_summary(df_validData)\n",
    "\n",
    "# 2. Saccades only\n",
    "df_AngVel_saccade = compute_angvel_summary(\n",
    "    df_validData[df_validData['events'] == -1.0]\n",
    ")\n",
    "\n",
    "# 3. Fixations only\n",
    "df_AngVel_fixation = compute_angvel_summary(\n",
    "    df_validData[df_validData['events'] == -2.0]\n",
    ")\n",
    "\n"
   ]
  },
  {
   "cell_type": "code",
   "execution_count": 5,
   "id": "8cd8342e-57b2-4b97-bbd4-c7f45c11f38f",
   "metadata": {},
   "outputs": [],
   "source": [
    "# Save all events\n",
    "df_AngVel_all.to_csv(\"/Volumes/TwoTeras/PCA/Data_Sets/Experiment_1/AngularVelocity.csv\", index=False)\n",
    "\n",
    "# Save saccades\n",
    "df_AngVel_saccade.to_csv(\"/Volumes/TwoTeras/PCA/Data_Sets/Experiment_1/AngularVelocity_Saccade.csv\", index=False)\n",
    "\n",
    "# Save fixations\n",
    "df_AngVel_fixation.to_csv(\"/Volumes/TwoTeras/PCA/Data_Sets/Experiment_1/AngularVelocity_Fixation.csv\", index=False)\n"
   ]
  }
 ],
 "metadata": {
  "kernelspec": {
   "display_name": "Python 3 (ipykernel)",
   "language": "python",
   "name": "python3"
  },
  "language_info": {
   "codemirror_mode": {
    "name": "ipython",
    "version": 3
   },
   "file_extension": ".py",
   "mimetype": "text/x-python",
   "name": "python",
   "nbconvert_exporter": "python",
   "pygments_lexer": "ipython3",
   "version": "3.12.7"
  }
 },
 "nbformat": 4,
 "nbformat_minor": 5
}
