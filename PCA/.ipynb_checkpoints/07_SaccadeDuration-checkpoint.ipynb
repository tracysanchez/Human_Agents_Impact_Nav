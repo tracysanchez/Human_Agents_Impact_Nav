{
 "cells": [
  {
   "cell_type": "code",
   "execution_count": 1,
   "id": "62adf2cf-c0e0-4f73-a73c-a6f5df632511",
   "metadata": {},
   "outputs": [],
   "source": [
    "import numpy as np\n",
    "import pandas as pd\n",
    "import math"
   ]
  },
  {
   "cell_type": "code",
   "execution_count": 2,
   "id": "96e38a0a-a5f6-498e-bde7-0286f611f87a",
   "metadata": {},
   "outputs": [],
   "source": [
    "df_validData = pd.read_csv(\"/Volumes/TwoTeras/0_Experiment_1/Eye_Tracking/Pre_processed/Data_Sets/Experiment_1_OpenEyes.cvs\")\n"
   ]
  },
  {
   "cell_type": "code",
   "execution_count": null,
   "id": "defbaeab-9e72-4e22-b5e8-78227f4c3731",
   "metadata": {},
   "outputs": [],
   "source": [
    "SaccadeSta = df_validData[df_validData['events']==1]\n",
    "SaccadeEnd = df_validData[df_validData['events']==-1]\n",
    "SaccadeEnd"
   ]
  },
  {
   "cell_type": "code",
   "execution_count": null,
   "id": "3d8e0c60-24d0-47e7-91d7-9406a92a1edb",
   "metadata": {},
   "outputs": [],
   "source": [
    "SaccadeEnd = SaccadeEnd[SaccadeEnd['length']!=0] # deleting all 0-duration saccades, if any\n",
    "SaccadeEnd = SaccadeEnd[SaccadeEnd['length']!=np.nan] # deleting all NaN saccades, if any\n",
    "print(\"Nr. of SaccadeEnd:\", len(SaccadeEnd.length)) \n",
    "print('Number of SaccadeSta:', len(SaccadeSta.length))\n",
    "print(\"Max:\",max(SaccadeEnd.length))\n",
    "print('Min',min(SaccadeEnd.length))\n",
    "print(\"Mean\",np.mean(SaccadeEnd.length))\n",
    "print('Median',np.nanmedian(SaccadeEnd.length))\n",
    "print('SD:',np.std(SaccadeEnd.length))\n",
    "print('MAD:',stats.median_abs_deviation(SaccadeEnd.length, scale=1, nan_policy='omit'))"
   ]
  },
  {
   "cell_type": "code",
   "execution_count": null,
   "id": "2d2ad919-e971-42ae-af0b-f965c6d70996",
   "metadata": {},
   "outputs": [],
   "source": [
    "SaccadeEnd = SaccadeEnd[SaccadeEnd['length']!=0] # deleting all 0-duration saccades, if any\n",
    "SaccadeEnd = SaccadeEnd[SaccadeEnd['length']!=np.nan] # deleting all NaN saccades, if any\n",
    "print(\"Nr. of SaccadeEnd:\", len(SaccadeEnd.length)) \n",
    "print('Number of SaccadeSta:', len(SaccadeSta.length))\n",
    "print(\"Max:\",max(SaccadeEnd.length))\n",
    "print('Min',min(SaccadeEnd.length))\n",
    "print(\"Mean\",np.mean(SaccadeEnd.length))\n",
    "print('Median',np.nanmedian(SaccadeEnd.length))\n",
    "print('SD:',np.std(SaccadeEnd.length))\n",
    "print('MAD:',stats.median_abs_deviation(SaccadeEnd.length, scale=1, nan_policy='omit'))"
   ]
  },
  {
   "cell_type": "code",
   "execution_count": null,
   "id": "2cb9c466-467d-427a-85d2-a659c5b7204b",
   "metadata": {},
   "outputs": [],
   "source": [
    "SaccadeEnd.loc[:,'length']#.astype('int64')\n",
    "VeryLongSacs = SaccadeEnd[SaccadeEnd.loc[:,'length']>1.5]\n",
    "plt.hist(VeryLongSacs.length, bins=30)\n",
    "print(max(VeryLongSacs.length))\n",
    "plt.title('Count of fixation length above 1.5sec:')\n",
    "plt.show()"
   ]
  },
  {
   "cell_type": "code",
   "execution_count": null,
   "id": "e273dce7-7e05-4b37-9c02-78dfdbaf4c15",
   "metadata": {},
   "outputs": [],
   "source": [
    "# --- Median, quantiles, and skew per subject ---\n",
    "subjects = []\n",
    "meds = []\n",
    "p25s = []\n",
    "p75s = []\n",
    "\n",
    "for subject in SaccadeEnd['SubjectID'].unique():\n",
    "    df_sub = SaccadeEnd[SaccadeEnd['SubjectID'] == subject]\n",
    "    values = df_sub['length'].dropna()\n",
    "    if not values.empty:\n",
    "        med = np.nanmedian(values)\n",
    "        p25 = np.nanquantile(values, 0.25)\n",
    "        p75 = np.nanquantile(values, 0.75)\n",
    "        subjects.append(subject)\n",
    "        meds.append(med)\n",
    "        p25s.append(p25)\n",
    "        p75s.append(p75)\n",
    "\n",
    "# --- Assemble summary table ---\n",
    "df_SacDur = pd.DataFrame({\n",
    "    'SubjectID': subjects,\n",
    "    'Saccade_Duration_25%': p25s,\n",
    "    'Saccade_Duration_med': meds,\n",
    "    'Saccade_Duration_75%': p75s\n",
    "})\n",
    "\n",
    "# --- Bowley coefficient & IQR ---\n",
    "df_SacDur['Saccade_Duration_DistQ1-Q3'] = df_SacDur['Saccade_Duration_75%'] - df_SacDur['Saccade_Duration_25%']\n",
    "df_SacDur['Saccade_Duration_bowleyCoef'] = (\n",
    "    (df_SacDur['Saccade_Duration_75%'] + df_SacDur['Saccade_Duration_25%'] - 2 * df_SacDur['Saccade_Duration_med']) /\n",
    "    df_SacDur['Saccade_Duration_DistQ1-Q3']\n",
    ")\n",
    "\n",
    "# --- Drop unused quartiles if not needed later ---\n",
    "df_SacDur = df_SacDur.drop(columns=['Saccade_Duration_25%', 'Saccade_Duration_75%'])\n",
    "\n",
    "# --- Final DataFrame ---\n",
    "df_SacDur\n"
   ]
  }
 ],
 "metadata": {
  "kernelspec": {
   "display_name": "Python 3 (ipykernel)",
   "language": "python",
   "name": "python3"
  },
  "language_info": {
   "codemirror_mode": {
    "name": "ipython",
    "version": 3
   },
   "file_extension": ".py",
   "mimetype": "text/x-python",
   "name": "python",
   "nbconvert_exporter": "python",
   "pygments_lexer": "ipython3",
   "version": "3.12.7"
  }
 },
 "nbformat": 4,
 "nbformat_minor": 5
}
