{
 "cells": [
  {
   "cell_type": "code",
   "execution_count": null,
   "id": "4ac99901-92c7-44cf-8d51-ebf2dc87b5de",
   "metadata": {},
   "outputs": [],
   "source": [
    "import pandas as pd\n",
    "# glob module for wildcards in paths\n",
    "import glob\n",
    "import os\n",
    "import numpy as np\n",
    "import pandas as pd\n",
    "from tqdm import tqdm\n",
    "import time\n",
    "import math\n",
    "import matplotlib.pyplot as plt\n",
    "from scipy import stats\n",
    "import seaborn as sns"
   ]
  },
  {
   "cell_type": "code",
   "execution_count": null,
   "id": "50de9ce7-271e-48a9-8041-9f87f1b910b7",
   "metadata": {},
   "outputs": [],
   "source": [
    "start = time.time()\n",
    "input_file = r'E:\\WestbrookProject\\SpaRe\\control_group\\pre-processing_2023\\velocity_based\\GazeProcessedMerge_55cols.csv'\n",
    "df = pd.read_csv(input_file, low_memory = False)\n",
    "end = time.time()\n",
    "print(\"Step took:\", end - start)\n",
    "df"
   ]
  },
  {
   "cell_type": "code",
   "execution_count": null,
   "id": "da5dc1c2-8c74-4f10-91a7-f18e5d895725",
   "metadata": {},
   "outputs": [],
   "source": [
    "x_coords = df['eyePositionCombinedWorld_x']\n",
    "y_coords = df['eyePositionCombinedWorld_y']\n",
    "z_coords = df['eyePositionCombinedWorld_z']\n",
    "df['coords'] = list(map(list, zip(x_coords, y_coords, z_coords)))\n",
    "# zipping 3d coordinates together to calculate distances later\n",
    "df['coords']\n",
    "df['index'] = df.index.tolist()\n",
    "df['index']\n",
    "df_1004 = df[df['SID'] == 1004]\n",
    "df_1004"
   ]
  },
  {
   "cell_type": "code",
   "execution_count": null,
   "id": "0bfa25ed-8713-48a8-abd7-fec9d0fef5dc",
   "metadata": {},
   "outputs": [],
   "source": [
    "fixations = df[(df['events']==2) | (df['events']==-2)]\n",
    "fixations"
   ]
  },
  {
   "cell_type": "code",
   "execution_count": null,
   "id": "331a7e6b-1838-4845-9048-8ecef82149fe",
   "metadata": {},
   "outputs": [],
   "source": [
    "cur_row = df_part[df_part['events'] == 2.0].iloc[0]\n",
    "cur_idx = cur_row.index\n",
    "cur_idx"
   ]
  },
  {
   "cell_type": "code",
   "execution_count": null,
   "id": "8cd62273-0fa8-490a-8aee-c60cabceff36",
   "metadata": {},
   "outputs": [],
   "source": [
    "df_1004.index[df_1004['events'] == 2.0][0]"
   ]
  },
  {
   "cell_type": "code",
   "execution_count": null,
   "id": "ae67f7d5-8d4f-404a-bfa0-e253cf8eaf18",
   "metadata": {},
   "outputs": [],
   "source": [
    "booleans = []\n",
    "indices = []\n",
    "events = []\n",
    "\n",
    "\n",
    "for subject in np.unique(fixations.SID):\n",
    "    df_subj = fixations[fixations['SID'] == subject]\n",
    "    print(\"Starting subject:\", subject)\n",
    "    for session in np.unique(df_subj.Session):\n",
    "        df_ses = df_subj[df_subj['Session'] == session]\n",
    "        #print(\"Starting session:\", session)\n",
    "        for part in np.unique(df_ses.ET):\n",
    "            df_part = df_ses[df_ses['ET'] == part]\n",
    "            df_part.reset_index(inplace=True)\n",
    "            start_idx = df_part.index[df_part['events'] == 2.0][0]\n",
    "            for i in range(start_idx, len(df_part)-1):\n",
    "                cur = df_part.loc[i]\n",
    "                nex = df_part.loc[i+1]\n",
    "                event = df_part.loc[i]['events']\n",
    "                boolean = cur['events'] == nex['events'] # true means the next event is equal to the current\n",
    "                index = cur['index']\n",
    "                booleans.append(boolean)\n",
    "                indices.append(index)\n",
    "                events.append(event) # not necessary but gives better overview to understand data"
   ]
  },
  {
   "cell_type": "code",
   "execution_count": null,
   "id": "105b9753-7337-450c-ae28-f12214feabaa",
   "metadata": {},
   "outputs": [],
   "source": [
    "# Filter dataframe for false values (indicating a gaze start following a gaze end, or inverse:\n",
    "bool_df = pd.DataFrame()\n",
    "bool_df['bool'] = booleans\n",
    "bool_df['index'] = indices\n",
    "bool_df['events'] = events\n",
    "bool_df"
   ]
  },
  {
   "cell_type": "code",
   "execution_count": null,
   "id": "945eb172-73e8-466d-84e9-93198c95367a",
   "metadata": {},
   "outputs": [],
   "source": [
    "samplesToRemove = bool_df[bool_df['bool'] == True]\n",
    "samplesToKeep = bool_df[bool_df['bool'] == False]\n",
    "samplesToRemove"
   ]
  },
  {
   "cell_type": "code",
   "execution_count": null,
   "id": "b679a857-7660-4e15-b060-02a55b9d8133",
   "metadata": {},
   "outputs": [],
   "source": [
    "samplesToKeep"
   ]
  },
  {
   "cell_type": "code",
   "execution_count": null,
   "id": "50f8899a-5387-4132-8632-dae6ed6311c1",
   "metadata": {},
   "outputs": [],
   "source": [
    "fixationSta_len = len(samplesToKeep[samplesToKeep['events']==2])\n",
    "fixationEnd_len = len(samplesToKeep[samplesToKeep['events']==-2])\n",
    "print(fixationSta_len,fixationEnd_len)"
   ]
  },
  {
   "cell_type": "code",
   "execution_count": null,
   "id": "4dc6a52e-3718-4873-9cff-83f83a622326",
   "metadata": {},
   "outputs": [],
   "source": [
    "# correct false samples:\n",
    "samplesToRemove['index']"
   ]
  },
  {
   "cell_type": "code",
   "execution_count": null,
   "id": "28a63a8b-bff5-499a-858a-5670e311344e",
   "metadata": {},
   "outputs": [],
   "source": [
    "df.iloc[10290200:10290250]['events']"
   ]
  },
  {
   "cell_type": "code",
   "execution_count": null,
   "id": "52301862-59f2-416c-aacd-a20336b06a01",
   "metadata": {},
   "outputs": [],
   "source": [
    "df.iloc[10290200:10290250]['isFix']"
   ]
  },
  {
   "cell_type": "code",
   "execution_count": null,
   "id": "15d1d8f7-6dfb-4c83-a689-6e59d02ed376",
   "metadata": {},
   "outputs": [],
   "source": [
    "'''\n",
    "# Manual adjustment for missing saccade / gaze: \n",
    "df['events'][10290211] = -1.0\n",
    "df['events'][10290212] = 2.0\n",
    "# should have been gaze end, not saccade end:\n",
    "df['events'][10290281] = -2.0 \n",
    "df.iloc[10290281]['events']\n",
    "'''"
   ]
  },
  {
   "cell_type": "code",
   "execution_count": null,
   "id": "adcc5ae5-fb4c-4873-9321-499801c675be",
   "metadata": {},
   "outputs": [],
   "source": [
    "df['events'][10290211]"
   ]
  },
  {
   "cell_type": "code",
   "execution_count": null,
   "id": "b56e0b4f-3fce-4901-8f92-229f33e6861b",
   "metadata": {},
   "outputs": [],
   "source": [
    "# fixing 'isFix':\n",
    "df['isFix'] = pd.to_numeric(df.isFix, errors='coerce')\n",
    "df['isFix']"
   ]
  },
  {
   "cell_type": "code",
   "execution_count": null,
   "id": "3a9893a7-64a0-484f-a2a8-c9938c89a9a4",
   "metadata": {},
   "outputs": [],
   "source": [
    "df.to_csv(r'E:\\WestbrookProject\\SpaRe\\control_group\\pre-processing_2023\\velocity_based\\GazeProcessedMerge_correctedFixations_15_02_25.csv')\n",
    "df"
   ]
  }
 ],
 "metadata": {
  "kernelspec": {
   "display_name": "Python [conda env:base] *",
   "language": "python",
   "name": "conda-base-py"
  },
  "language_info": {
   "codemirror_mode": {
    "name": "ipython",
    "version": 3
   },
   "file_extension": ".py",
   "mimetype": "text/x-python",
   "name": "python",
   "nbconvert_exporter": "python",
   "pygments_lexer": "ipython3",
   "version": "3.12.7"
  }
 },
 "nbformat": 4,
 "nbformat_minor": 5
}
