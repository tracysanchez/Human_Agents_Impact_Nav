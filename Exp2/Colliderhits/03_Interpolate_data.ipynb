{
 "cells": [
  {
   "cell_type": "code",
   "execution_count": 1,
   "id": "3d91113f-7a7a-48f4-b342-92e564160582",
   "metadata": {},
   "outputs": [],
   "source": [
    "import pandas as pd \n",
    "import numpy as np\n",
    "import glob\n",
    "import re"
   ]
  },
  {
   "cell_type": "code",
   "execution_count": 2,
   "id": "6f50de05-9776-48af-b1c3-65197d8f9434",
   "metadata": {},
   "outputs": [],
   "source": [
    "def bitmask_flag_change(Data_Frame, colname):\n",
    "    \"\"\" Creates a list of values that flag the change in validity of the Eyetracking data, \n",
    "    diferentiates between the beggining and enf of an invalid event. \n",
    "    \n",
    "Parameters\n",
    "-------------\n",
    "     \n",
    "     :dataframe(DataFrame): your data frame,\n",
    "     :colname(str): Name of the column that containts the validity mask \n",
    "returns \n",
    "----------\n",
    "\n",
    "    List of len DataFrame with values that mark changes on the validity column\n",
    "     \"\"\"\n",
    "    change_flag = [\"No_change\"] # initialize flag \n",
    "    for i in range(1, len(Data_Frame)):\n",
    "        if Data_Frame[colname][i] == Data_Frame[colname][i-1]: # compare each value with the previous value\n",
    "          change_flag.append(\"No_change\") \n",
    "        elif Data_Frame[colname][i] != Data_Frame[colname][i-1]:\n",
    "            if Data_Frame[colname][i] == 3:\n",
    "                  change_flag.append(\"Invalid_Section_Ends\")\n",
    "            elif Data_Frame[colname][i] == 0:\n",
    "                change_flag.append(\"Invalid_Section_Starts\")\n",
    "            else:\n",
    "                change_flag.append(\"ERROR\")\n",
    "    return change_flag"
   ]
  },
  {
   "cell_type": "code",
   "execution_count": 3,
   "id": "c34516f9-7d0a-4695-a4a4-ead583b9fa1a",
   "metadata": {},
   "outputs": [],
   "source": [
    "def median_correction(x):\n",
    "    \"\"\"\n",
    "    Perform 5-point median correction on input signal x.\n",
    "    \"\"\"\n",
    "    y = np.zeros_like(x)\n",
    "    length = len(x)\n",
    "    for i in range(2, length-2):\n",
    "        y[i] = np.nanmedian(x[i-2:i+3])\n",
    "    y[0:2] = np.nanmedian(x[0:5])        \n",
    "    y[length-2:length] = np.nanmedian(x[length-5:length])\n",
    "    return y"
   ]
  },
  {
   "cell_type": "code",
   "execution_count": 4,
   "id": "a6e9c72a-d1f7-4b76-b0d4-b8567af4d825",
   "metadata": {},
   "outputs": [],
   "source": [
    "# Since the collider names are too detailed, here we create a dictionary with patterns to classify them into our categories of interest\n",
    "\n",
    "patterns = {\n",
    "    r'\\d{2}_Sa': 'Passive_Agent',\n",
    "    r'\\d{2}_Cma': 'Active_Agent',\n",
    "    r'Building_\\d+': 'Building'\n",
    "}\n",
    "\n",
    "patterns.update(dict.fromkeys([\n",
    "    'Castle-TaskBuilding_56', 'Crane_59', 'HighSilo-TaskBuilding_49',\n",
    "    'Windmill-TaskBuilding_10_1', 'Church-TaskBuilding_16'\n",
    "], 'Global_Landmark'))\n",
    "\n",
    "patterns.update(dict.fromkeys([\n",
    "    r'^TaskBuilding_2$', r'^TaskBuilding_3$', r'^TaskBuilding_5$', r'^TaskBuilding_8$', r'^TaskBuilding_9$', \n",
    "    r'^TaskBuilding_11$', r'^TaskBuilding_13$', r'^TaskBuilding_14$', r'^TaskBuilding_20$', r'^TaskBuilding_21$', \n",
    "    r'^TaskBuilding_23$', r'^TaskBuilding_27$', r'^TaskBuilding_29$', r'^TaskBuilding_32$', r'^TaskBuilding_34$',  \n",
    "    r'^TaskBuilding_38$', r'^TaskBuilding_41$', r'^TaskBuilding_42$', r'^TaskBuilding_44$', r'^TaskBuilding_45$', \n",
    "    r'^TaskBuilding_47$', r'^TaskBuilding_50$', r'^TaskBuilding_51$', r'^TaskBuilding_52$', \n",
    "    'BasketballCourt_58', 'Construction_57', \n",
    "    r'^Graffity_02$', r'^Graffity_03$', r'^Graffity_05$', r'^Graffity_08$', r'^Graffity_09$', r'^Graffity_11$', \n",
    "    r'^Graffity_13$', r'^Graffity_14$', r'^Graffity_20$', r'^Graffity_21$', r'^Graffity_23$', r'^Graffity_27$', \n",
    "    r'^Graffity_29$', r'^Graffity_32$', r'^Graffity_34$', r'^Graffity_38$', r'^Graffity_41$', r'^Graffity_42$', \n",
    "    r'^Graffity_44$', r'^Graffity_45$', r'^Graffity_47$', r'^Graffity_50$', r'^Graffity_51$', r'^Graffity_52$'\n",
    "], 'TaskBuilding_Public'))\n",
    "\n",
    "patterns.update(dict.fromkeys([\n",
    "    r'^TaskBuilding_1$', r'^TaskBuilding_4$', r'^TaskBuilding_6$', r'^TaskBuilding_7$', r'^TaskBuilding_12$', \n",
    "    r'^TaskBuilding_15$', r'^TaskBuilding_17$', r'^TaskBuilding_18$', r'^TaskBuilding_19$', r'^TaskBuilding_22$', \n",
    "    r'^TaskBuilding_24$', r'^TaskBuilding_25$', r'^TaskBuilding_26$', r'^TaskBuilding_28$', r'^TaskBuilding_30$',  \n",
    "    r'^TaskBuilding_31$', r'^TaskBuilding_33$', r'^TaskBuilding_35$', r'^TaskBuilding_36$', r'^TaskBuilding_37$', \n",
    "    r'^TaskBuilding_39$', r'^TaskBuilding_40$', r'^TaskBuilding_43$', r'^TaskBuilding_48$', r'^TaskBuilding_54$', \n",
    "    r'^TaskBuilding_55$', r'^Graffity_01$', r'^Graffity_04$', r'^Graffity_06$', r'^Graffity_07$', r'^Graffity_12$', \n",
    "    r'^Graffity_15$', r'^Graffity_17$', r'^Graffity_18$', r'^Graffity_19$', r'^Graffity_22$', r'^Graffity_24$', \n",
    "    r'^Graffity_25$', r'^Graffity_26$', r'^Graffity_28$', r'^Graffity_30$', r'^Graffity_31$', r'^Graffity_33$', \n",
    "    r'^Graffity_35$', r'^Graffity_36$', r'^Graffity_37$', r'^Graffity_39$', r'^Graffity_40$', r'^Graffity_43$', \n",
    "    r'^Graffity_48$', r'^Graffity_54$', r'^Graffity_55$'\n",
    "], 'TaskBuilding_Residential'))\n",
    "\n",
    "default_val = 'Background'"
   ]
  },
  {
   "cell_type": "code",
   "execution_count": 5,
   "id": "6ccb28e0-a29b-4e47-aa74-0ace31892663",
   "metadata": {},
   "outputs": [
    {
     "name": "stderr",
     "output_type": "stream",
     "text": [
      "/var/folders/wj/11sgsjxd7x75l9tkc6r2l1p80000gn/T/ipykernel_4223/1439925471.py:8: RuntimeWarning: All-NaN slice encountered\n",
      "  y[i] = np.nanmedian(x[i-2:i+3])\n"
     ]
    },
    {
     "name": "stdout",
     "output_type": "stream",
     "text": [
      "1031_1\n"
     ]
    },
    {
     "name": "stderr",
     "output_type": "stream",
     "text": [
      "/var/folders/wj/11sgsjxd7x75l9tkc6r2l1p80000gn/T/ipykernel_4223/1439925471.py:8: RuntimeWarning: All-NaN slice encountered\n",
      "  y[i] = np.nanmedian(x[i-2:i+3])\n"
     ]
    },
    {
     "name": "stdout",
     "output_type": "stream",
     "text": [
      "1031_2\n"
     ]
    },
    {
     "name": "stderr",
     "output_type": "stream",
     "text": [
      "/var/folders/wj/11sgsjxd7x75l9tkc6r2l1p80000gn/T/ipykernel_4223/1439925471.py:8: RuntimeWarning: All-NaN slice encountered\n",
      "  y[i] = np.nanmedian(x[i-2:i+3])\n"
     ]
    },
    {
     "name": "stdout",
     "output_type": "stream",
     "text": [
      "1031_3\n"
     ]
    },
    {
     "name": "stderr",
     "output_type": "stream",
     "text": [
      "/var/folders/wj/11sgsjxd7x75l9tkc6r2l1p80000gn/T/ipykernel_4223/1439925471.py:8: RuntimeWarning: All-NaN slice encountered\n",
      "  y[i] = np.nanmedian(x[i-2:i+3])\n"
     ]
    },
    {
     "name": "stdout",
     "output_type": "stream",
     "text": [
      "1031_4\n"
     ]
    },
    {
     "name": "stderr",
     "output_type": "stream",
     "text": [
      "/var/folders/wj/11sgsjxd7x75l9tkc6r2l1p80000gn/T/ipykernel_4223/1439925471.py:8: RuntimeWarning: All-NaN slice encountered\n",
      "  y[i] = np.nanmedian(x[i-2:i+3])\n"
     ]
    },
    {
     "name": "stdout",
     "output_type": "stream",
     "text": [
      "1031_5\n"
     ]
    },
    {
     "name": "stderr",
     "output_type": "stream",
     "text": [
      "/var/folders/wj/11sgsjxd7x75l9tkc6r2l1p80000gn/T/ipykernel_4223/1439925471.py:8: RuntimeWarning: All-NaN slice encountered\n",
      "  y[i] = np.nanmedian(x[i-2:i+3])\n"
     ]
    },
    {
     "name": "stdout",
     "output_type": "stream",
     "text": [
      "1268_1\n"
     ]
    },
    {
     "name": "stderr",
     "output_type": "stream",
     "text": [
      "/var/folders/wj/11sgsjxd7x75l9tkc6r2l1p80000gn/T/ipykernel_4223/1439925471.py:8: RuntimeWarning: All-NaN slice encountered\n",
      "  y[i] = np.nanmedian(x[i-2:i+3])\n"
     ]
    },
    {
     "name": "stdout",
     "output_type": "stream",
     "text": [
      "1268_2\n"
     ]
    },
    {
     "name": "stderr",
     "output_type": "stream",
     "text": [
      "/var/folders/wj/11sgsjxd7x75l9tkc6r2l1p80000gn/T/ipykernel_4223/1439925471.py:8: RuntimeWarning: All-NaN slice encountered\n",
      "  y[i] = np.nanmedian(x[i-2:i+3])\n"
     ]
    },
    {
     "name": "stdout",
     "output_type": "stream",
     "text": [
      "1268_3\n"
     ]
    },
    {
     "name": "stderr",
     "output_type": "stream",
     "text": [
      "/var/folders/wj/11sgsjxd7x75l9tkc6r2l1p80000gn/T/ipykernel_4223/1439925471.py:8: RuntimeWarning: All-NaN slice encountered\n",
      "  y[i] = np.nanmedian(x[i-2:i+3])\n"
     ]
    },
    {
     "name": "stdout",
     "output_type": "stream",
     "text": [
      "1268_4\n"
     ]
    },
    {
     "name": "stderr",
     "output_type": "stream",
     "text": [
      "/var/folders/wj/11sgsjxd7x75l9tkc6r2l1p80000gn/T/ipykernel_4223/1439925471.py:8: RuntimeWarning: All-NaN slice encountered\n",
      "  y[i] = np.nanmedian(x[i-2:i+3])\n"
     ]
    },
    {
     "name": "stdout",
     "output_type": "stream",
     "text": [
      "1268_5\n"
     ]
    },
    {
     "name": "stderr",
     "output_type": "stream",
     "text": [
      "/var/folders/wj/11sgsjxd7x75l9tkc6r2l1p80000gn/T/ipykernel_4223/1439925471.py:8: RuntimeWarning: All-NaN slice encountered\n",
      "  y[i] = np.nanmedian(x[i-2:i+3])\n"
     ]
    },
    {
     "name": "stdout",
     "output_type": "stream",
     "text": [
      "1574_1\n"
     ]
    },
    {
     "name": "stderr",
     "output_type": "stream",
     "text": [
      "/var/folders/wj/11sgsjxd7x75l9tkc6r2l1p80000gn/T/ipykernel_4223/1439925471.py:8: RuntimeWarning: All-NaN slice encountered\n",
      "  y[i] = np.nanmedian(x[i-2:i+3])\n"
     ]
    },
    {
     "name": "stdout",
     "output_type": "stream",
     "text": [
      "1574_2\n"
     ]
    },
    {
     "name": "stderr",
     "output_type": "stream",
     "text": [
      "/var/folders/wj/11sgsjxd7x75l9tkc6r2l1p80000gn/T/ipykernel_4223/1439925471.py:8: RuntimeWarning: All-NaN slice encountered\n",
      "  y[i] = np.nanmedian(x[i-2:i+3])\n"
     ]
    },
    {
     "name": "stdout",
     "output_type": "stream",
     "text": [
      "1574_3\n"
     ]
    },
    {
     "name": "stderr",
     "output_type": "stream",
     "text": [
      "/var/folders/wj/11sgsjxd7x75l9tkc6r2l1p80000gn/T/ipykernel_4223/1439925471.py:8: RuntimeWarning: All-NaN slice encountered\n",
      "  y[i] = np.nanmedian(x[i-2:i+3])\n"
     ]
    },
    {
     "name": "stdout",
     "output_type": "stream",
     "text": [
      "1574_4\n"
     ]
    },
    {
     "name": "stderr",
     "output_type": "stream",
     "text": [
      "/var/folders/wj/11sgsjxd7x75l9tkc6r2l1p80000gn/T/ipykernel_4223/1439925471.py:8: RuntimeWarning: All-NaN slice encountered\n",
      "  y[i] = np.nanmedian(x[i-2:i+3])\n"
     ]
    },
    {
     "name": "stdout",
     "output_type": "stream",
     "text": [
      "1574_5\n"
     ]
    },
    {
     "name": "stderr",
     "output_type": "stream",
     "text": [
      "/var/folders/wj/11sgsjxd7x75l9tkc6r2l1p80000gn/T/ipykernel_4223/1439925471.py:8: RuntimeWarning: All-NaN slice encountered\n",
      "  y[i] = np.nanmedian(x[i-2:i+3])\n"
     ]
    },
    {
     "name": "stdout",
     "output_type": "stream",
     "text": [
      "1843_1\n"
     ]
    },
    {
     "name": "stderr",
     "output_type": "stream",
     "text": [
      "/var/folders/wj/11sgsjxd7x75l9tkc6r2l1p80000gn/T/ipykernel_4223/1439925471.py:8: RuntimeWarning: All-NaN slice encountered\n",
      "  y[i] = np.nanmedian(x[i-2:i+3])\n"
     ]
    },
    {
     "name": "stdout",
     "output_type": "stream",
     "text": [
      "1843_2\n"
     ]
    },
    {
     "name": "stderr",
     "output_type": "stream",
     "text": [
      "/var/folders/wj/11sgsjxd7x75l9tkc6r2l1p80000gn/T/ipykernel_4223/1439925471.py:8: RuntimeWarning: All-NaN slice encountered\n",
      "  y[i] = np.nanmedian(x[i-2:i+3])\n"
     ]
    },
    {
     "name": "stdout",
     "output_type": "stream",
     "text": [
      "1843_3\n"
     ]
    },
    {
     "name": "stderr",
     "output_type": "stream",
     "text": [
      "/var/folders/wj/11sgsjxd7x75l9tkc6r2l1p80000gn/T/ipykernel_4223/1439925471.py:8: RuntimeWarning: All-NaN slice encountered\n",
      "  y[i] = np.nanmedian(x[i-2:i+3])\n"
     ]
    },
    {
     "name": "stdout",
     "output_type": "stream",
     "text": [
      "1843_4\n"
     ]
    },
    {
     "name": "stderr",
     "output_type": "stream",
     "text": [
      "/var/folders/wj/11sgsjxd7x75l9tkc6r2l1p80000gn/T/ipykernel_4223/1439925471.py:8: RuntimeWarning: All-NaN slice encountered\n",
      "  y[i] = np.nanmedian(x[i-2:i+3])\n"
     ]
    },
    {
     "name": "stdout",
     "output_type": "stream",
     "text": [
      "1843_5\n"
     ]
    },
    {
     "name": "stderr",
     "output_type": "stream",
     "text": [
      "/var/folders/wj/11sgsjxd7x75l9tkc6r2l1p80000gn/T/ipykernel_4223/1439925471.py:8: RuntimeWarning: All-NaN slice encountered\n",
      "  y[i] = np.nanmedian(x[i-2:i+3])\n"
     ]
    },
    {
     "name": "stdout",
     "output_type": "stream",
     "text": [
      "2069_1\n"
     ]
    },
    {
     "name": "stderr",
     "output_type": "stream",
     "text": [
      "/var/folders/wj/11sgsjxd7x75l9tkc6r2l1p80000gn/T/ipykernel_4223/1439925471.py:8: RuntimeWarning: All-NaN slice encountered\n",
      "  y[i] = np.nanmedian(x[i-2:i+3])\n"
     ]
    },
    {
     "name": "stdout",
     "output_type": "stream",
     "text": [
      "2069_2\n"
     ]
    },
    {
     "name": "stderr",
     "output_type": "stream",
     "text": [
      "/var/folders/wj/11sgsjxd7x75l9tkc6r2l1p80000gn/T/ipykernel_4223/1439925471.py:8: RuntimeWarning: All-NaN slice encountered\n",
      "  y[i] = np.nanmedian(x[i-2:i+3])\n"
     ]
    },
    {
     "name": "stdout",
     "output_type": "stream",
     "text": [
      "2069_3\n"
     ]
    },
    {
     "name": "stderr",
     "output_type": "stream",
     "text": [
      "/var/folders/wj/11sgsjxd7x75l9tkc6r2l1p80000gn/T/ipykernel_4223/1439925471.py:8: RuntimeWarning: All-NaN slice encountered\n",
      "  y[i] = np.nanmedian(x[i-2:i+3])\n"
     ]
    },
    {
     "name": "stdout",
     "output_type": "stream",
     "text": [
      "2069_4\n"
     ]
    },
    {
     "name": "stderr",
     "output_type": "stream",
     "text": [
      "/var/folders/wj/11sgsjxd7x75l9tkc6r2l1p80000gn/T/ipykernel_4223/1439925471.py:8: RuntimeWarning: All-NaN slice encountered\n",
      "  y[i] = np.nanmedian(x[i-2:i+3])\n"
     ]
    },
    {
     "name": "stdout",
     "output_type": "stream",
     "text": [
      "2069_5\n"
     ]
    },
    {
     "name": "stderr",
     "output_type": "stream",
     "text": [
      "/var/folders/wj/11sgsjxd7x75l9tkc6r2l1p80000gn/T/ipykernel_4223/1439925471.py:8: RuntimeWarning: All-NaN slice encountered\n",
      "  y[i] = np.nanmedian(x[i-2:i+3])\n"
     ]
    },
    {
     "name": "stdout",
     "output_type": "stream",
     "text": [
      "3193_1\n"
     ]
    },
    {
     "name": "stderr",
     "output_type": "stream",
     "text": [
      "/var/folders/wj/11sgsjxd7x75l9tkc6r2l1p80000gn/T/ipykernel_4223/1439925471.py:8: RuntimeWarning: All-NaN slice encountered\n",
      "  y[i] = np.nanmedian(x[i-2:i+3])\n"
     ]
    },
    {
     "name": "stdout",
     "output_type": "stream",
     "text": [
      "3193_2\n"
     ]
    },
    {
     "name": "stderr",
     "output_type": "stream",
     "text": [
      "/var/folders/wj/11sgsjxd7x75l9tkc6r2l1p80000gn/T/ipykernel_4223/1439925471.py:8: RuntimeWarning: All-NaN slice encountered\n",
      "  y[i] = np.nanmedian(x[i-2:i+3])\n"
     ]
    },
    {
     "name": "stdout",
     "output_type": "stream",
     "text": [
      "3193_3\n"
     ]
    },
    {
     "name": "stderr",
     "output_type": "stream",
     "text": [
      "/var/folders/wj/11sgsjxd7x75l9tkc6r2l1p80000gn/T/ipykernel_4223/1439925471.py:8: RuntimeWarning: All-NaN slice encountered\n",
      "  y[i] = np.nanmedian(x[i-2:i+3])\n"
     ]
    },
    {
     "name": "stdout",
     "output_type": "stream",
     "text": [
      "3193_4\n"
     ]
    },
    {
     "name": "stderr",
     "output_type": "stream",
     "text": [
      "/var/folders/wj/11sgsjxd7x75l9tkc6r2l1p80000gn/T/ipykernel_4223/1439925471.py:8: RuntimeWarning: All-NaN slice encountered\n",
      "  y[i] = np.nanmedian(x[i-2:i+3])\n"
     ]
    },
    {
     "name": "stdout",
     "output_type": "stream",
     "text": [
      "3193_5\n"
     ]
    },
    {
     "name": "stderr",
     "output_type": "stream",
     "text": [
      "/var/folders/wj/11sgsjxd7x75l9tkc6r2l1p80000gn/T/ipykernel_4223/1439925471.py:8: RuntimeWarning: All-NaN slice encountered\n",
      "  y[i] = np.nanmedian(x[i-2:i+3])\n"
     ]
    },
    {
     "name": "stdout",
     "output_type": "stream",
     "text": [
      "3540_1\n"
     ]
    },
    {
     "name": "stderr",
     "output_type": "stream",
     "text": [
      "/var/folders/wj/11sgsjxd7x75l9tkc6r2l1p80000gn/T/ipykernel_4223/1439925471.py:8: RuntimeWarning: All-NaN slice encountered\n",
      "  y[i] = np.nanmedian(x[i-2:i+3])\n"
     ]
    },
    {
     "name": "stdout",
     "output_type": "stream",
     "text": [
      "3540_2\n"
     ]
    },
    {
     "name": "stderr",
     "output_type": "stream",
     "text": [
      "/var/folders/wj/11sgsjxd7x75l9tkc6r2l1p80000gn/T/ipykernel_4223/1439925471.py:8: RuntimeWarning: All-NaN slice encountered\n",
      "  y[i] = np.nanmedian(x[i-2:i+3])\n"
     ]
    },
    {
     "name": "stdout",
     "output_type": "stream",
     "text": [
      "3540_3\n"
     ]
    },
    {
     "name": "stderr",
     "output_type": "stream",
     "text": [
      "/var/folders/wj/11sgsjxd7x75l9tkc6r2l1p80000gn/T/ipykernel_4223/1439925471.py:8: RuntimeWarning: All-NaN slice encountered\n",
      "  y[i] = np.nanmedian(x[i-2:i+3])\n"
     ]
    },
    {
     "name": "stdout",
     "output_type": "stream",
     "text": [
      "3540_4\n"
     ]
    },
    {
     "name": "stderr",
     "output_type": "stream",
     "text": [
      "/var/folders/wj/11sgsjxd7x75l9tkc6r2l1p80000gn/T/ipykernel_4223/1439925471.py:8: RuntimeWarning: All-NaN slice encountered\n",
      "  y[i] = np.nanmedian(x[i-2:i+3])\n"
     ]
    },
    {
     "name": "stdout",
     "output_type": "stream",
     "text": [
      "3540_5\n"
     ]
    },
    {
     "name": "stderr",
     "output_type": "stream",
     "text": [
      "/var/folders/wj/11sgsjxd7x75l9tkc6r2l1p80000gn/T/ipykernel_4223/1439925471.py:8: RuntimeWarning: All-NaN slice encountered\n",
      "  y[i] = np.nanmedian(x[i-2:i+3])\n"
     ]
    },
    {
     "name": "stdout",
     "output_type": "stream",
     "text": [
      "4580_1\n"
     ]
    },
    {
     "name": "stderr",
     "output_type": "stream",
     "text": [
      "/var/folders/wj/11sgsjxd7x75l9tkc6r2l1p80000gn/T/ipykernel_4223/1439925471.py:8: RuntimeWarning: All-NaN slice encountered\n",
      "  y[i] = np.nanmedian(x[i-2:i+3])\n"
     ]
    },
    {
     "name": "stdout",
     "output_type": "stream",
     "text": [
      "4580_2\n"
     ]
    },
    {
     "name": "stderr",
     "output_type": "stream",
     "text": [
      "/var/folders/wj/11sgsjxd7x75l9tkc6r2l1p80000gn/T/ipykernel_4223/1439925471.py:8: RuntimeWarning: All-NaN slice encountered\n",
      "  y[i] = np.nanmedian(x[i-2:i+3])\n"
     ]
    },
    {
     "name": "stdout",
     "output_type": "stream",
     "text": [
      "4580_3\n"
     ]
    },
    {
     "name": "stderr",
     "output_type": "stream",
     "text": [
      "/var/folders/wj/11sgsjxd7x75l9tkc6r2l1p80000gn/T/ipykernel_4223/1439925471.py:8: RuntimeWarning: All-NaN slice encountered\n",
      "  y[i] = np.nanmedian(x[i-2:i+3])\n"
     ]
    },
    {
     "name": "stdout",
     "output_type": "stream",
     "text": [
      "4580_4\n"
     ]
    },
    {
     "name": "stderr",
     "output_type": "stream",
     "text": [
      "/var/folders/wj/11sgsjxd7x75l9tkc6r2l1p80000gn/T/ipykernel_4223/1439925471.py:8: RuntimeWarning: All-NaN slice encountered\n",
      "  y[i] = np.nanmedian(x[i-2:i+3])\n"
     ]
    },
    {
     "name": "stdout",
     "output_type": "stream",
     "text": [
      "4580_5\n"
     ]
    },
    {
     "name": "stderr",
     "output_type": "stream",
     "text": [
      "/var/folders/wj/11sgsjxd7x75l9tkc6r2l1p80000gn/T/ipykernel_4223/1439925471.py:8: RuntimeWarning: All-NaN slice encountered\n",
      "  y[i] = np.nanmedian(x[i-2:i+3])\n"
     ]
    },
    {
     "name": "stdout",
     "output_type": "stream",
     "text": [
      "4598_1\n"
     ]
    },
    {
     "name": "stderr",
     "output_type": "stream",
     "text": [
      "/var/folders/wj/11sgsjxd7x75l9tkc6r2l1p80000gn/T/ipykernel_4223/1439925471.py:8: RuntimeWarning: All-NaN slice encountered\n",
      "  y[i] = np.nanmedian(x[i-2:i+3])\n"
     ]
    },
    {
     "name": "stdout",
     "output_type": "stream",
     "text": [
      "4598_2\n"
     ]
    },
    {
     "name": "stderr",
     "output_type": "stream",
     "text": [
      "/var/folders/wj/11sgsjxd7x75l9tkc6r2l1p80000gn/T/ipykernel_4223/1439925471.py:8: RuntimeWarning: All-NaN slice encountered\n",
      "  y[i] = np.nanmedian(x[i-2:i+3])\n"
     ]
    },
    {
     "name": "stdout",
     "output_type": "stream",
     "text": [
      "4598_3\n"
     ]
    },
    {
     "name": "stderr",
     "output_type": "stream",
     "text": [
      "/var/folders/wj/11sgsjxd7x75l9tkc6r2l1p80000gn/T/ipykernel_4223/1439925471.py:8: RuntimeWarning: All-NaN slice encountered\n",
      "  y[i] = np.nanmedian(x[i-2:i+3])\n"
     ]
    },
    {
     "name": "stdout",
     "output_type": "stream",
     "text": [
      "4598_4\n"
     ]
    },
    {
     "name": "stderr",
     "output_type": "stream",
     "text": [
      "/var/folders/wj/11sgsjxd7x75l9tkc6r2l1p80000gn/T/ipykernel_4223/1439925471.py:8: RuntimeWarning: All-NaN slice encountered\n",
      "  y[i] = np.nanmedian(x[i-2:i+3])\n"
     ]
    },
    {
     "name": "stdout",
     "output_type": "stream",
     "text": [
      "4598_5\n"
     ]
    },
    {
     "name": "stderr",
     "output_type": "stream",
     "text": [
      "/var/folders/wj/11sgsjxd7x75l9tkc6r2l1p80000gn/T/ipykernel_4223/1439925471.py:8: RuntimeWarning: All-NaN slice encountered\n",
      "  y[i] = np.nanmedian(x[i-2:i+3])\n"
     ]
    },
    {
     "name": "stdout",
     "output_type": "stream",
     "text": [
      "4847_1\n"
     ]
    },
    {
     "name": "stderr",
     "output_type": "stream",
     "text": [
      "/var/folders/wj/11sgsjxd7x75l9tkc6r2l1p80000gn/T/ipykernel_4223/1439925471.py:8: RuntimeWarning: All-NaN slice encountered\n",
      "  y[i] = np.nanmedian(x[i-2:i+3])\n",
      "/var/folders/wj/11sgsjxd7x75l9tkc6r2l1p80000gn/T/ipykernel_4223/1439925471.py:10: RuntimeWarning: All-NaN slice encountered\n",
      "  y[length-2:length] = np.nanmedian(x[length-5:length])\n"
     ]
    },
    {
     "name": "stdout",
     "output_type": "stream",
     "text": [
      "4847_2\n"
     ]
    },
    {
     "name": "stderr",
     "output_type": "stream",
     "text": [
      "/var/folders/wj/11sgsjxd7x75l9tkc6r2l1p80000gn/T/ipykernel_4223/1439925471.py:8: RuntimeWarning: All-NaN slice encountered\n",
      "  y[i] = np.nanmedian(x[i-2:i+3])\n",
      "/var/folders/wj/11sgsjxd7x75l9tkc6r2l1p80000gn/T/ipykernel_4223/1439925471.py:9: RuntimeWarning: All-NaN slice encountered\n",
      "  y[0:2] = np.nanmedian(x[0:5])\n"
     ]
    },
    {
     "name": "stdout",
     "output_type": "stream",
     "text": [
      "4847_3\n"
     ]
    },
    {
     "name": "stderr",
     "output_type": "stream",
     "text": [
      "/var/folders/wj/11sgsjxd7x75l9tkc6r2l1p80000gn/T/ipykernel_4223/1439925471.py:8: RuntimeWarning: All-NaN slice encountered\n",
      "  y[i] = np.nanmedian(x[i-2:i+3])\n",
      "/var/folders/wj/11sgsjxd7x75l9tkc6r2l1p80000gn/T/ipykernel_4223/1439925471.py:10: RuntimeWarning: All-NaN slice encountered\n",
      "  y[length-2:length] = np.nanmedian(x[length-5:length])\n"
     ]
    },
    {
     "name": "stdout",
     "output_type": "stream",
     "text": [
      "4847_4\n"
     ]
    },
    {
     "name": "stderr",
     "output_type": "stream",
     "text": [
      "/var/folders/wj/11sgsjxd7x75l9tkc6r2l1p80000gn/T/ipykernel_4223/1439925471.py:8: RuntimeWarning: All-NaN slice encountered\n",
      "  y[i] = np.nanmedian(x[i-2:i+3])\n"
     ]
    },
    {
     "name": "stdout",
     "output_type": "stream",
     "text": [
      "4847_5\n"
     ]
    },
    {
     "name": "stderr",
     "output_type": "stream",
     "text": [
      "/var/folders/wj/11sgsjxd7x75l9tkc6r2l1p80000gn/T/ipykernel_4223/1439925471.py:8: RuntimeWarning: All-NaN slice encountered\n",
      "  y[i] = np.nanmedian(x[i-2:i+3])\n"
     ]
    },
    {
     "name": "stdout",
     "output_type": "stream",
     "text": [
      "4875_1\n"
     ]
    },
    {
     "name": "stderr",
     "output_type": "stream",
     "text": [
      "/var/folders/wj/11sgsjxd7x75l9tkc6r2l1p80000gn/T/ipykernel_4223/1439925471.py:8: RuntimeWarning: All-NaN slice encountered\n",
      "  y[i] = np.nanmedian(x[i-2:i+3])\n"
     ]
    },
    {
     "name": "stdout",
     "output_type": "stream",
     "text": [
      "4875_2\n"
     ]
    },
    {
     "name": "stderr",
     "output_type": "stream",
     "text": [
      "/var/folders/wj/11sgsjxd7x75l9tkc6r2l1p80000gn/T/ipykernel_4223/1439925471.py:8: RuntimeWarning: All-NaN slice encountered\n",
      "  y[i] = np.nanmedian(x[i-2:i+3])\n"
     ]
    },
    {
     "name": "stdout",
     "output_type": "stream",
     "text": [
      "4875_3\n"
     ]
    },
    {
     "name": "stderr",
     "output_type": "stream",
     "text": [
      "/var/folders/wj/11sgsjxd7x75l9tkc6r2l1p80000gn/T/ipykernel_4223/1439925471.py:8: RuntimeWarning: All-NaN slice encountered\n",
      "  y[i] = np.nanmedian(x[i-2:i+3])\n"
     ]
    },
    {
     "name": "stdout",
     "output_type": "stream",
     "text": [
      "4875_4\n"
     ]
    },
    {
     "name": "stderr",
     "output_type": "stream",
     "text": [
      "/var/folders/wj/11sgsjxd7x75l9tkc6r2l1p80000gn/T/ipykernel_4223/1439925471.py:8: RuntimeWarning: All-NaN slice encountered\n",
      "  y[i] = np.nanmedian(x[i-2:i+3])\n"
     ]
    },
    {
     "name": "stdout",
     "output_type": "stream",
     "text": [
      "4875_5\n"
     ]
    },
    {
     "name": "stderr",
     "output_type": "stream",
     "text": [
      "/var/folders/wj/11sgsjxd7x75l9tkc6r2l1p80000gn/T/ipykernel_4223/1439925471.py:8: RuntimeWarning: All-NaN slice encountered\n",
      "  y[i] = np.nanmedian(x[i-2:i+3])\n"
     ]
    },
    {
     "name": "stdout",
     "output_type": "stream",
     "text": [
      "5161_1\n"
     ]
    },
    {
     "name": "stderr",
     "output_type": "stream",
     "text": [
      "/var/folders/wj/11sgsjxd7x75l9tkc6r2l1p80000gn/T/ipykernel_4223/1439925471.py:8: RuntimeWarning: All-NaN slice encountered\n",
      "  y[i] = np.nanmedian(x[i-2:i+3])\n"
     ]
    },
    {
     "name": "stdout",
     "output_type": "stream",
     "text": [
      "5161_2\n"
     ]
    },
    {
     "name": "stderr",
     "output_type": "stream",
     "text": [
      "/var/folders/wj/11sgsjxd7x75l9tkc6r2l1p80000gn/T/ipykernel_4223/1439925471.py:8: RuntimeWarning: All-NaN slice encountered\n",
      "  y[i] = np.nanmedian(x[i-2:i+3])\n"
     ]
    },
    {
     "name": "stdout",
     "output_type": "stream",
     "text": [
      "5161_3\n"
     ]
    },
    {
     "name": "stderr",
     "output_type": "stream",
     "text": [
      "/var/folders/wj/11sgsjxd7x75l9tkc6r2l1p80000gn/T/ipykernel_4223/1439925471.py:8: RuntimeWarning: All-NaN slice encountered\n",
      "  y[i] = np.nanmedian(x[i-2:i+3])\n"
     ]
    },
    {
     "name": "stdout",
     "output_type": "stream",
     "text": [
      "5161_4\n"
     ]
    },
    {
     "name": "stderr",
     "output_type": "stream",
     "text": [
      "/var/folders/wj/11sgsjxd7x75l9tkc6r2l1p80000gn/T/ipykernel_4223/1439925471.py:8: RuntimeWarning: All-NaN slice encountered\n",
      "  y[i] = np.nanmedian(x[i-2:i+3])\n"
     ]
    },
    {
     "name": "stdout",
     "output_type": "stream",
     "text": [
      "5161_5\n"
     ]
    },
    {
     "name": "stderr",
     "output_type": "stream",
     "text": [
      "/var/folders/wj/11sgsjxd7x75l9tkc6r2l1p80000gn/T/ipykernel_4223/1439925471.py:8: RuntimeWarning: All-NaN slice encountered\n",
      "  y[i] = np.nanmedian(x[i-2:i+3])\n"
     ]
    },
    {
     "name": "stdout",
     "output_type": "stream",
     "text": [
      "5189_1\n"
     ]
    },
    {
     "name": "stderr",
     "output_type": "stream",
     "text": [
      "/var/folders/wj/11sgsjxd7x75l9tkc6r2l1p80000gn/T/ipykernel_4223/1439925471.py:8: RuntimeWarning: All-NaN slice encountered\n",
      "  y[i] = np.nanmedian(x[i-2:i+3])\n"
     ]
    },
    {
     "name": "stdout",
     "output_type": "stream",
     "text": [
      "5189_2\n"
     ]
    },
    {
     "name": "stderr",
     "output_type": "stream",
     "text": [
      "/var/folders/wj/11sgsjxd7x75l9tkc6r2l1p80000gn/T/ipykernel_4223/1439925471.py:8: RuntimeWarning: All-NaN slice encountered\n",
      "  y[i] = np.nanmedian(x[i-2:i+3])\n"
     ]
    },
    {
     "name": "stdout",
     "output_type": "stream",
     "text": [
      "5189_3\n"
     ]
    },
    {
     "name": "stderr",
     "output_type": "stream",
     "text": [
      "/var/folders/wj/11sgsjxd7x75l9tkc6r2l1p80000gn/T/ipykernel_4223/1439925471.py:8: RuntimeWarning: All-NaN slice encountered\n",
      "  y[i] = np.nanmedian(x[i-2:i+3])\n"
     ]
    },
    {
     "name": "stdout",
     "output_type": "stream",
     "text": [
      "5189_4\n"
     ]
    },
    {
     "name": "stderr",
     "output_type": "stream",
     "text": [
      "/var/folders/wj/11sgsjxd7x75l9tkc6r2l1p80000gn/T/ipykernel_4223/1439925471.py:8: RuntimeWarning: All-NaN slice encountered\n",
      "  y[i] = np.nanmedian(x[i-2:i+3])\n"
     ]
    },
    {
     "name": "stdout",
     "output_type": "stream",
     "text": [
      "5189_5\n"
     ]
    },
    {
     "name": "stderr",
     "output_type": "stream",
     "text": [
      "/var/folders/wj/11sgsjxd7x75l9tkc6r2l1p80000gn/T/ipykernel_4223/1439925471.py:8: RuntimeWarning: All-NaN slice encountered\n",
      "  y[i] = np.nanmedian(x[i-2:i+3])\n"
     ]
    },
    {
     "name": "stdout",
     "output_type": "stream",
     "text": [
      "5743_1\n"
     ]
    },
    {
     "name": "stderr",
     "output_type": "stream",
     "text": [
      "/var/folders/wj/11sgsjxd7x75l9tkc6r2l1p80000gn/T/ipykernel_4223/1439925471.py:8: RuntimeWarning: All-NaN slice encountered\n",
      "  y[i] = np.nanmedian(x[i-2:i+3])\n",
      "/var/folders/wj/11sgsjxd7x75l9tkc6r2l1p80000gn/T/ipykernel_4223/1439925471.py:9: RuntimeWarning: All-NaN slice encountered\n",
      "  y[0:2] = np.nanmedian(x[0:5])\n"
     ]
    },
    {
     "name": "stdout",
     "output_type": "stream",
     "text": [
      "5743_2\n"
     ]
    },
    {
     "name": "stderr",
     "output_type": "stream",
     "text": [
      "/var/folders/wj/11sgsjxd7x75l9tkc6r2l1p80000gn/T/ipykernel_4223/1439925471.py:8: RuntimeWarning: All-NaN slice encountered\n",
      "  y[i] = np.nanmedian(x[i-2:i+3])\n"
     ]
    },
    {
     "name": "stdout",
     "output_type": "stream",
     "text": [
      "5743_3\n"
     ]
    },
    {
     "name": "stderr",
     "output_type": "stream",
     "text": [
      "/var/folders/wj/11sgsjxd7x75l9tkc6r2l1p80000gn/T/ipykernel_4223/1439925471.py:8: RuntimeWarning: All-NaN slice encountered\n",
      "  y[i] = np.nanmedian(x[i-2:i+3])\n"
     ]
    },
    {
     "name": "stdout",
     "output_type": "stream",
     "text": [
      "5743_4\n"
     ]
    },
    {
     "name": "stderr",
     "output_type": "stream",
     "text": [
      "/var/folders/wj/11sgsjxd7x75l9tkc6r2l1p80000gn/T/ipykernel_4223/1439925471.py:8: RuntimeWarning: All-NaN slice encountered\n",
      "  y[i] = np.nanmedian(x[i-2:i+3])\n"
     ]
    },
    {
     "name": "stdout",
     "output_type": "stream",
     "text": [
      "5743_5\n"
     ]
    },
    {
     "name": "stderr",
     "output_type": "stream",
     "text": [
      "/var/folders/wj/11sgsjxd7x75l9tkc6r2l1p80000gn/T/ipykernel_4223/1439925471.py:8: RuntimeWarning: All-NaN slice encountered\n",
      "  y[i] = np.nanmedian(x[i-2:i+3])\n"
     ]
    },
    {
     "name": "stdout",
     "output_type": "stream",
     "text": [
      "5766_1\n"
     ]
    },
    {
     "name": "stderr",
     "output_type": "stream",
     "text": [
      "/var/folders/wj/11sgsjxd7x75l9tkc6r2l1p80000gn/T/ipykernel_4223/1439925471.py:8: RuntimeWarning: All-NaN slice encountered\n",
      "  y[i] = np.nanmedian(x[i-2:i+3])\n"
     ]
    },
    {
     "name": "stdout",
     "output_type": "stream",
     "text": [
      "5766_2\n"
     ]
    },
    {
     "name": "stderr",
     "output_type": "stream",
     "text": [
      "/var/folders/wj/11sgsjxd7x75l9tkc6r2l1p80000gn/T/ipykernel_4223/1439925471.py:8: RuntimeWarning: All-NaN slice encountered\n",
      "  y[i] = np.nanmedian(x[i-2:i+3])\n"
     ]
    },
    {
     "name": "stdout",
     "output_type": "stream",
     "text": [
      "5766_3\n"
     ]
    },
    {
     "name": "stderr",
     "output_type": "stream",
     "text": [
      "/var/folders/wj/11sgsjxd7x75l9tkc6r2l1p80000gn/T/ipykernel_4223/1439925471.py:8: RuntimeWarning: All-NaN slice encountered\n",
      "  y[i] = np.nanmedian(x[i-2:i+3])\n",
      "/var/folders/wj/11sgsjxd7x75l9tkc6r2l1p80000gn/T/ipykernel_4223/1439925471.py:10: RuntimeWarning: All-NaN slice encountered\n",
      "  y[length-2:length] = np.nanmedian(x[length-5:length])\n"
     ]
    },
    {
     "name": "stdout",
     "output_type": "stream",
     "text": [
      "5766_4\n"
     ]
    },
    {
     "name": "stderr",
     "output_type": "stream",
     "text": [
      "/var/folders/wj/11sgsjxd7x75l9tkc6r2l1p80000gn/T/ipykernel_4223/1439925471.py:8: RuntimeWarning: All-NaN slice encountered\n",
      "  y[i] = np.nanmedian(x[i-2:i+3])\n"
     ]
    },
    {
     "name": "stdout",
     "output_type": "stream",
     "text": [
      "5766_5\n"
     ]
    },
    {
     "name": "stderr",
     "output_type": "stream",
     "text": [
      "/var/folders/wj/11sgsjxd7x75l9tkc6r2l1p80000gn/T/ipykernel_4223/1439925471.py:8: RuntimeWarning: All-NaN slice encountered\n",
      "  y[i] = np.nanmedian(x[i-2:i+3])\n"
     ]
    },
    {
     "name": "stdout",
     "output_type": "stream",
     "text": [
      "5851_1\n"
     ]
    },
    {
     "name": "stderr",
     "output_type": "stream",
     "text": [
      "/var/folders/wj/11sgsjxd7x75l9tkc6r2l1p80000gn/T/ipykernel_4223/1439925471.py:8: RuntimeWarning: All-NaN slice encountered\n",
      "  y[i] = np.nanmedian(x[i-2:i+3])\n"
     ]
    },
    {
     "name": "stdout",
     "output_type": "stream",
     "text": [
      "5851_2\n"
     ]
    },
    {
     "name": "stderr",
     "output_type": "stream",
     "text": [
      "/var/folders/wj/11sgsjxd7x75l9tkc6r2l1p80000gn/T/ipykernel_4223/1439925471.py:8: RuntimeWarning: All-NaN slice encountered\n",
      "  y[i] = np.nanmedian(x[i-2:i+3])\n"
     ]
    },
    {
     "name": "stdout",
     "output_type": "stream",
     "text": [
      "5851_3\n"
     ]
    },
    {
     "name": "stderr",
     "output_type": "stream",
     "text": [
      "/var/folders/wj/11sgsjxd7x75l9tkc6r2l1p80000gn/T/ipykernel_4223/1439925471.py:8: RuntimeWarning: All-NaN slice encountered\n",
      "  y[i] = np.nanmedian(x[i-2:i+3])\n"
     ]
    },
    {
     "name": "stdout",
     "output_type": "stream",
     "text": [
      "5851_4\n"
     ]
    },
    {
     "name": "stderr",
     "output_type": "stream",
     "text": [
      "/var/folders/wj/11sgsjxd7x75l9tkc6r2l1p80000gn/T/ipykernel_4223/1439925471.py:8: RuntimeWarning: All-NaN slice encountered\n",
      "  y[i] = np.nanmedian(x[i-2:i+3])\n"
     ]
    },
    {
     "name": "stdout",
     "output_type": "stream",
     "text": [
      "5851_5\n"
     ]
    },
    {
     "name": "stderr",
     "output_type": "stream",
     "text": [
      "/var/folders/wj/11sgsjxd7x75l9tkc6r2l1p80000gn/T/ipykernel_4223/1439925471.py:8: RuntimeWarning: All-NaN slice encountered\n",
      "  y[i] = np.nanmedian(x[i-2:i+3])\n"
     ]
    },
    {
     "name": "stdout",
     "output_type": "stream",
     "text": [
      "5972_1\n"
     ]
    },
    {
     "name": "stderr",
     "output_type": "stream",
     "text": [
      "/var/folders/wj/11sgsjxd7x75l9tkc6r2l1p80000gn/T/ipykernel_4223/1439925471.py:8: RuntimeWarning: All-NaN slice encountered\n",
      "  y[i] = np.nanmedian(x[i-2:i+3])\n",
      "/var/folders/wj/11sgsjxd7x75l9tkc6r2l1p80000gn/T/ipykernel_4223/1439925471.py:10: RuntimeWarning: All-NaN slice encountered\n",
      "  y[length-2:length] = np.nanmedian(x[length-5:length])\n"
     ]
    },
    {
     "name": "stdout",
     "output_type": "stream",
     "text": [
      "5972_2\n"
     ]
    },
    {
     "name": "stderr",
     "output_type": "stream",
     "text": [
      "/var/folders/wj/11sgsjxd7x75l9tkc6r2l1p80000gn/T/ipykernel_4223/1439925471.py:8: RuntimeWarning: All-NaN slice encountered\n",
      "  y[i] = np.nanmedian(x[i-2:i+3])\n"
     ]
    },
    {
     "name": "stdout",
     "output_type": "stream",
     "text": [
      "5972_3\n"
     ]
    },
    {
     "name": "stderr",
     "output_type": "stream",
     "text": [
      "/var/folders/wj/11sgsjxd7x75l9tkc6r2l1p80000gn/T/ipykernel_4223/1439925471.py:8: RuntimeWarning: All-NaN slice encountered\n",
      "  y[i] = np.nanmedian(x[i-2:i+3])\n",
      "/var/folders/wj/11sgsjxd7x75l9tkc6r2l1p80000gn/T/ipykernel_4223/1439925471.py:10: RuntimeWarning: All-NaN slice encountered\n",
      "  y[length-2:length] = np.nanmedian(x[length-5:length])\n"
     ]
    },
    {
     "name": "stdout",
     "output_type": "stream",
     "text": [
      "5972_4\n"
     ]
    },
    {
     "name": "stderr",
     "output_type": "stream",
     "text": [
      "/var/folders/wj/11sgsjxd7x75l9tkc6r2l1p80000gn/T/ipykernel_4223/1439925471.py:8: RuntimeWarning: All-NaN slice encountered\n",
      "  y[i] = np.nanmedian(x[i-2:i+3])\n"
     ]
    },
    {
     "name": "stdout",
     "output_type": "stream",
     "text": [
      "5972_5\n"
     ]
    },
    {
     "name": "stderr",
     "output_type": "stream",
     "text": [
      "/var/folders/wj/11sgsjxd7x75l9tkc6r2l1p80000gn/T/ipykernel_4223/1439925471.py:8: RuntimeWarning: All-NaN slice encountered\n",
      "  y[i] = np.nanmedian(x[i-2:i+3])\n"
     ]
    },
    {
     "name": "stdout",
     "output_type": "stream",
     "text": [
      "6406_1\n"
     ]
    },
    {
     "name": "stderr",
     "output_type": "stream",
     "text": [
      "/var/folders/wj/11sgsjxd7x75l9tkc6r2l1p80000gn/T/ipykernel_4223/1439925471.py:8: RuntimeWarning: All-NaN slice encountered\n",
      "  y[i] = np.nanmedian(x[i-2:i+3])\n"
     ]
    },
    {
     "name": "stdout",
     "output_type": "stream",
     "text": [
      "6406_2\n"
     ]
    },
    {
     "name": "stderr",
     "output_type": "stream",
     "text": [
      "/var/folders/wj/11sgsjxd7x75l9tkc6r2l1p80000gn/T/ipykernel_4223/1439925471.py:8: RuntimeWarning: All-NaN slice encountered\n",
      "  y[i] = np.nanmedian(x[i-2:i+3])\n"
     ]
    },
    {
     "name": "stdout",
     "output_type": "stream",
     "text": [
      "6406_3\n"
     ]
    },
    {
     "name": "stderr",
     "output_type": "stream",
     "text": [
      "/var/folders/wj/11sgsjxd7x75l9tkc6r2l1p80000gn/T/ipykernel_4223/1439925471.py:8: RuntimeWarning: All-NaN slice encountered\n",
      "  y[i] = np.nanmedian(x[i-2:i+3])\n"
     ]
    },
    {
     "name": "stdout",
     "output_type": "stream",
     "text": [
      "6406_4\n"
     ]
    },
    {
     "name": "stderr",
     "output_type": "stream",
     "text": [
      "/var/folders/wj/11sgsjxd7x75l9tkc6r2l1p80000gn/T/ipykernel_4223/1439925471.py:8: RuntimeWarning: All-NaN slice encountered\n",
      "  y[i] = np.nanmedian(x[i-2:i+3])\n"
     ]
    },
    {
     "name": "stdout",
     "output_type": "stream",
     "text": [
      "6406_5\n"
     ]
    },
    {
     "name": "stderr",
     "output_type": "stream",
     "text": [
      "/var/folders/wj/11sgsjxd7x75l9tkc6r2l1p80000gn/T/ipykernel_4223/1439925471.py:8: RuntimeWarning: All-NaN slice encountered\n",
      "  y[i] = np.nanmedian(x[i-2:i+3])\n"
     ]
    },
    {
     "name": "stdout",
     "output_type": "stream",
     "text": [
      "7081_1\n"
     ]
    },
    {
     "name": "stderr",
     "output_type": "stream",
     "text": [
      "/var/folders/wj/11sgsjxd7x75l9tkc6r2l1p80000gn/T/ipykernel_4223/1439925471.py:8: RuntimeWarning: All-NaN slice encountered\n",
      "  y[i] = np.nanmedian(x[i-2:i+3])\n"
     ]
    },
    {
     "name": "stdout",
     "output_type": "stream",
     "text": [
      "7081_2\n"
     ]
    },
    {
     "name": "stderr",
     "output_type": "stream",
     "text": [
      "/var/folders/wj/11sgsjxd7x75l9tkc6r2l1p80000gn/T/ipykernel_4223/1439925471.py:8: RuntimeWarning: All-NaN slice encountered\n",
      "  y[i] = np.nanmedian(x[i-2:i+3])\n",
      "/var/folders/wj/11sgsjxd7x75l9tkc6r2l1p80000gn/T/ipykernel_4223/1439925471.py:9: RuntimeWarning: All-NaN slice encountered\n",
      "  y[0:2] = np.nanmedian(x[0:5])\n"
     ]
    },
    {
     "name": "stdout",
     "output_type": "stream",
     "text": [
      "7081_3\n"
     ]
    },
    {
     "name": "stderr",
     "output_type": "stream",
     "text": [
      "/var/folders/wj/11sgsjxd7x75l9tkc6r2l1p80000gn/T/ipykernel_4223/1439925471.py:8: RuntimeWarning: All-NaN slice encountered\n",
      "  y[i] = np.nanmedian(x[i-2:i+3])\n"
     ]
    },
    {
     "name": "stdout",
     "output_type": "stream",
     "text": [
      "7081_4\n"
     ]
    },
    {
     "name": "stderr",
     "output_type": "stream",
     "text": [
      "/var/folders/wj/11sgsjxd7x75l9tkc6r2l1p80000gn/T/ipykernel_4223/1439925471.py:8: RuntimeWarning: All-NaN slice encountered\n",
      "  y[i] = np.nanmedian(x[i-2:i+3])\n"
     ]
    },
    {
     "name": "stdout",
     "output_type": "stream",
     "text": [
      "7081_5\n"
     ]
    },
    {
     "name": "stderr",
     "output_type": "stream",
     "text": [
      "/var/folders/wj/11sgsjxd7x75l9tkc6r2l1p80000gn/T/ipykernel_4223/1439925471.py:8: RuntimeWarning: All-NaN slice encountered\n",
      "  y[i] = np.nanmedian(x[i-2:i+3])\n"
     ]
    },
    {
     "name": "stdout",
     "output_type": "stream",
     "text": [
      "7393_1\n"
     ]
    },
    {
     "name": "stderr",
     "output_type": "stream",
     "text": [
      "/var/folders/wj/11sgsjxd7x75l9tkc6r2l1p80000gn/T/ipykernel_4223/1439925471.py:8: RuntimeWarning: All-NaN slice encountered\n",
      "  y[i] = np.nanmedian(x[i-2:i+3])\n"
     ]
    },
    {
     "name": "stdout",
     "output_type": "stream",
     "text": [
      "7393_2\n"
     ]
    },
    {
     "name": "stderr",
     "output_type": "stream",
     "text": [
      "/var/folders/wj/11sgsjxd7x75l9tkc6r2l1p80000gn/T/ipykernel_4223/1439925471.py:8: RuntimeWarning: All-NaN slice encountered\n",
      "  y[i] = np.nanmedian(x[i-2:i+3])\n"
     ]
    },
    {
     "name": "stdout",
     "output_type": "stream",
     "text": [
      "7393_3\n"
     ]
    },
    {
     "name": "stderr",
     "output_type": "stream",
     "text": [
      "/var/folders/wj/11sgsjxd7x75l9tkc6r2l1p80000gn/T/ipykernel_4223/1439925471.py:8: RuntimeWarning: All-NaN slice encountered\n",
      "  y[i] = np.nanmedian(x[i-2:i+3])\n"
     ]
    },
    {
     "name": "stdout",
     "output_type": "stream",
     "text": [
      "7393_4\n"
     ]
    },
    {
     "name": "stderr",
     "output_type": "stream",
     "text": [
      "/var/folders/wj/11sgsjxd7x75l9tkc6r2l1p80000gn/T/ipykernel_4223/1439925471.py:8: RuntimeWarning: All-NaN slice encountered\n",
      "  y[i] = np.nanmedian(x[i-2:i+3])\n"
     ]
    },
    {
     "name": "stdout",
     "output_type": "stream",
     "text": [
      "7393_5\n"
     ]
    },
    {
     "name": "stderr",
     "output_type": "stream",
     "text": [
      "/var/folders/wj/11sgsjxd7x75l9tkc6r2l1p80000gn/T/ipykernel_4223/1439925471.py:8: RuntimeWarning: All-NaN slice encountered\n",
      "  y[i] = np.nanmedian(x[i-2:i+3])\n",
      "/var/folders/wj/11sgsjxd7x75l9tkc6r2l1p80000gn/T/ipykernel_4223/1439925471.py:10: RuntimeWarning: All-NaN slice encountered\n",
      "  y[length-2:length] = np.nanmedian(x[length-5:length])\n"
     ]
    },
    {
     "name": "stdout",
     "output_type": "stream",
     "text": [
      "7823_1\n"
     ]
    },
    {
     "name": "stderr",
     "output_type": "stream",
     "text": [
      "/var/folders/wj/11sgsjxd7x75l9tkc6r2l1p80000gn/T/ipykernel_4223/1439925471.py:8: RuntimeWarning: All-NaN slice encountered\n",
      "  y[i] = np.nanmedian(x[i-2:i+3])\n"
     ]
    },
    {
     "name": "stdout",
     "output_type": "stream",
     "text": [
      "7823_2\n"
     ]
    },
    {
     "name": "stderr",
     "output_type": "stream",
     "text": [
      "/var/folders/wj/11sgsjxd7x75l9tkc6r2l1p80000gn/T/ipykernel_4223/1439925471.py:8: RuntimeWarning: All-NaN slice encountered\n",
      "  y[i] = np.nanmedian(x[i-2:i+3])\n"
     ]
    },
    {
     "name": "stdout",
     "output_type": "stream",
     "text": [
      "7823_3\n"
     ]
    },
    {
     "name": "stderr",
     "output_type": "stream",
     "text": [
      "/var/folders/wj/11sgsjxd7x75l9tkc6r2l1p80000gn/T/ipykernel_4223/1439925471.py:8: RuntimeWarning: All-NaN slice encountered\n",
      "  y[i] = np.nanmedian(x[i-2:i+3])\n"
     ]
    },
    {
     "name": "stdout",
     "output_type": "stream",
     "text": [
      "7823_4\n"
     ]
    },
    {
     "name": "stderr",
     "output_type": "stream",
     "text": [
      "/var/folders/wj/11sgsjxd7x75l9tkc6r2l1p80000gn/T/ipykernel_4223/1439925471.py:8: RuntimeWarning: All-NaN slice encountered\n",
      "  y[i] = np.nanmedian(x[i-2:i+3])\n"
     ]
    },
    {
     "name": "stdout",
     "output_type": "stream",
     "text": [
      "7823_5\n"
     ]
    },
    {
     "name": "stderr",
     "output_type": "stream",
     "text": [
      "/var/folders/wj/11sgsjxd7x75l9tkc6r2l1p80000gn/T/ipykernel_4223/1439925471.py:8: RuntimeWarning: All-NaN slice encountered\n",
      "  y[i] = np.nanmedian(x[i-2:i+3])\n"
     ]
    },
    {
     "name": "stdout",
     "output_type": "stream",
     "text": [
      "7935_1\n"
     ]
    },
    {
     "name": "stderr",
     "output_type": "stream",
     "text": [
      "/var/folders/wj/11sgsjxd7x75l9tkc6r2l1p80000gn/T/ipykernel_4223/1439925471.py:8: RuntimeWarning: All-NaN slice encountered\n",
      "  y[i] = np.nanmedian(x[i-2:i+3])\n",
      "/var/folders/wj/11sgsjxd7x75l9tkc6r2l1p80000gn/T/ipykernel_4223/1439925471.py:10: RuntimeWarning: All-NaN slice encountered\n",
      "  y[length-2:length] = np.nanmedian(x[length-5:length])\n"
     ]
    },
    {
     "name": "stdout",
     "output_type": "stream",
     "text": [
      "7935_2\n"
     ]
    },
    {
     "name": "stderr",
     "output_type": "stream",
     "text": [
      "/var/folders/wj/11sgsjxd7x75l9tkc6r2l1p80000gn/T/ipykernel_4223/1439925471.py:8: RuntimeWarning: All-NaN slice encountered\n",
      "  y[i] = np.nanmedian(x[i-2:i+3])\n"
     ]
    },
    {
     "name": "stdout",
     "output_type": "stream",
     "text": [
      "7935_3\n"
     ]
    },
    {
     "name": "stderr",
     "output_type": "stream",
     "text": [
      "/var/folders/wj/11sgsjxd7x75l9tkc6r2l1p80000gn/T/ipykernel_4223/1439925471.py:8: RuntimeWarning: All-NaN slice encountered\n",
      "  y[i] = np.nanmedian(x[i-2:i+3])\n"
     ]
    },
    {
     "name": "stdout",
     "output_type": "stream",
     "text": [
      "7935_4\n"
     ]
    },
    {
     "name": "stderr",
     "output_type": "stream",
     "text": [
      "/var/folders/wj/11sgsjxd7x75l9tkc6r2l1p80000gn/T/ipykernel_4223/1439925471.py:8: RuntimeWarning: All-NaN slice encountered\n",
      "  y[i] = np.nanmedian(x[i-2:i+3])\n"
     ]
    },
    {
     "name": "stdout",
     "output_type": "stream",
     "text": [
      "7935_5\n"
     ]
    },
    {
     "name": "stderr",
     "output_type": "stream",
     "text": [
      "/var/folders/wj/11sgsjxd7x75l9tkc6r2l1p80000gn/T/ipykernel_4223/1439925471.py:8: RuntimeWarning: All-NaN slice encountered\n",
      "  y[i] = np.nanmedian(x[i-2:i+3])\n"
     ]
    },
    {
     "name": "stdout",
     "output_type": "stream",
     "text": [
      "8629_1\n"
     ]
    },
    {
     "name": "stderr",
     "output_type": "stream",
     "text": [
      "/var/folders/wj/11sgsjxd7x75l9tkc6r2l1p80000gn/T/ipykernel_4223/1439925471.py:8: RuntimeWarning: All-NaN slice encountered\n",
      "  y[i] = np.nanmedian(x[i-2:i+3])\n"
     ]
    },
    {
     "name": "stdout",
     "output_type": "stream",
     "text": [
      "8629_2\n"
     ]
    },
    {
     "name": "stderr",
     "output_type": "stream",
     "text": [
      "/var/folders/wj/11sgsjxd7x75l9tkc6r2l1p80000gn/T/ipykernel_4223/1439925471.py:8: RuntimeWarning: All-NaN slice encountered\n",
      "  y[i] = np.nanmedian(x[i-2:i+3])\n"
     ]
    },
    {
     "name": "stdout",
     "output_type": "stream",
     "text": [
      "8629_3\n"
     ]
    },
    {
     "name": "stderr",
     "output_type": "stream",
     "text": [
      "/var/folders/wj/11sgsjxd7x75l9tkc6r2l1p80000gn/T/ipykernel_4223/1439925471.py:8: RuntimeWarning: All-NaN slice encountered\n",
      "  y[i] = np.nanmedian(x[i-2:i+3])\n"
     ]
    },
    {
     "name": "stdout",
     "output_type": "stream",
     "text": [
      "8629_4\n"
     ]
    },
    {
     "name": "stderr",
     "output_type": "stream",
     "text": [
      "/var/folders/wj/11sgsjxd7x75l9tkc6r2l1p80000gn/T/ipykernel_4223/1439925471.py:8: RuntimeWarning: All-NaN slice encountered\n",
      "  y[i] = np.nanmedian(x[i-2:i+3])\n",
      "/var/folders/wj/11sgsjxd7x75l9tkc6r2l1p80000gn/T/ipykernel_4223/1439925471.py:10: RuntimeWarning: All-NaN slice encountered\n",
      "  y[length-2:length] = np.nanmedian(x[length-5:length])\n"
     ]
    },
    {
     "name": "stdout",
     "output_type": "stream",
     "text": [
      "8629_5\n"
     ]
    },
    {
     "name": "stderr",
     "output_type": "stream",
     "text": [
      "/var/folders/wj/11sgsjxd7x75l9tkc6r2l1p80000gn/T/ipykernel_4223/1439925471.py:8: RuntimeWarning: All-NaN slice encountered\n",
      "  y[i] = np.nanmedian(x[i-2:i+3])\n"
     ]
    },
    {
     "name": "stdout",
     "output_type": "stream",
     "text": [
      "9297_1\n"
     ]
    },
    {
     "name": "stderr",
     "output_type": "stream",
     "text": [
      "/var/folders/wj/11sgsjxd7x75l9tkc6r2l1p80000gn/T/ipykernel_4223/1439925471.py:8: RuntimeWarning: All-NaN slice encountered\n",
      "  y[i] = np.nanmedian(x[i-2:i+3])\n"
     ]
    },
    {
     "name": "stdout",
     "output_type": "stream",
     "text": [
      "9297_2\n"
     ]
    },
    {
     "name": "stderr",
     "output_type": "stream",
     "text": [
      "/var/folders/wj/11sgsjxd7x75l9tkc6r2l1p80000gn/T/ipykernel_4223/1439925471.py:8: RuntimeWarning: All-NaN slice encountered\n",
      "  y[i] = np.nanmedian(x[i-2:i+3])\n"
     ]
    },
    {
     "name": "stdout",
     "output_type": "stream",
     "text": [
      "9297_3\n"
     ]
    },
    {
     "name": "stderr",
     "output_type": "stream",
     "text": [
      "/var/folders/wj/11sgsjxd7x75l9tkc6r2l1p80000gn/T/ipykernel_4223/1439925471.py:8: RuntimeWarning: All-NaN slice encountered\n",
      "  y[i] = np.nanmedian(x[i-2:i+3])\n"
     ]
    },
    {
     "name": "stdout",
     "output_type": "stream",
     "text": [
      "9297_4\n"
     ]
    },
    {
     "name": "stderr",
     "output_type": "stream",
     "text": [
      "/var/folders/wj/11sgsjxd7x75l9tkc6r2l1p80000gn/T/ipykernel_4223/1439925471.py:8: RuntimeWarning: All-NaN slice encountered\n",
      "  y[i] = np.nanmedian(x[i-2:i+3])\n"
     ]
    },
    {
     "name": "stdout",
     "output_type": "stream",
     "text": [
      "9297_5\n"
     ]
    },
    {
     "name": "stderr",
     "output_type": "stream",
     "text": [
      "/var/folders/wj/11sgsjxd7x75l9tkc6r2l1p80000gn/T/ipykernel_4223/1439925471.py:8: RuntimeWarning: All-NaN slice encountered\n",
      "  y[i] = np.nanmedian(x[i-2:i+3])\n"
     ]
    },
    {
     "name": "stdout",
     "output_type": "stream",
     "text": [
      "9627_1\n"
     ]
    },
    {
     "name": "stderr",
     "output_type": "stream",
     "text": [
      "/var/folders/wj/11sgsjxd7x75l9tkc6r2l1p80000gn/T/ipykernel_4223/1439925471.py:8: RuntimeWarning: All-NaN slice encountered\n",
      "  y[i] = np.nanmedian(x[i-2:i+3])\n"
     ]
    },
    {
     "name": "stdout",
     "output_type": "stream",
     "text": [
      "9627_2\n"
     ]
    },
    {
     "name": "stderr",
     "output_type": "stream",
     "text": [
      "/var/folders/wj/11sgsjxd7x75l9tkc6r2l1p80000gn/T/ipykernel_4223/1439925471.py:8: RuntimeWarning: All-NaN slice encountered\n",
      "  y[i] = np.nanmedian(x[i-2:i+3])\n"
     ]
    },
    {
     "name": "stdout",
     "output_type": "stream",
     "text": [
      "9627_3\n"
     ]
    },
    {
     "name": "stderr",
     "output_type": "stream",
     "text": [
      "/var/folders/wj/11sgsjxd7x75l9tkc6r2l1p80000gn/T/ipykernel_4223/1439925471.py:8: RuntimeWarning: All-NaN slice encountered\n",
      "  y[i] = np.nanmedian(x[i-2:i+3])\n"
     ]
    },
    {
     "name": "stdout",
     "output_type": "stream",
     "text": [
      "9627_4\n"
     ]
    },
    {
     "name": "stderr",
     "output_type": "stream",
     "text": [
      "/var/folders/wj/11sgsjxd7x75l9tkc6r2l1p80000gn/T/ipykernel_4223/1439925471.py:8: RuntimeWarning: All-NaN slice encountered\n",
      "  y[i] = np.nanmedian(x[i-2:i+3])\n"
     ]
    },
    {
     "name": "stdout",
     "output_type": "stream",
     "text": [
      "9627_5\n"
     ]
    },
    {
     "name": "stderr",
     "output_type": "stream",
     "text": [
      "/var/folders/wj/11sgsjxd7x75l9tkc6r2l1p80000gn/T/ipykernel_4223/1439925471.py:8: RuntimeWarning: All-NaN slice encountered\n",
      "  y[i] = np.nanmedian(x[i-2:i+3])\n"
     ]
    },
    {
     "name": "stdout",
     "output_type": "stream",
     "text": [
      "5191_1\n"
     ]
    },
    {
     "name": "stderr",
     "output_type": "stream",
     "text": [
      "/var/folders/wj/11sgsjxd7x75l9tkc6r2l1p80000gn/T/ipykernel_4223/1439925471.py:8: RuntimeWarning: All-NaN slice encountered\n",
      "  y[i] = np.nanmedian(x[i-2:i+3])\n"
     ]
    },
    {
     "name": "stdout",
     "output_type": "stream",
     "text": [
      "5191_2\n"
     ]
    },
    {
     "name": "stderr",
     "output_type": "stream",
     "text": [
      "/var/folders/wj/11sgsjxd7x75l9tkc6r2l1p80000gn/T/ipykernel_4223/1439925471.py:8: RuntimeWarning: All-NaN slice encountered\n",
      "  y[i] = np.nanmedian(x[i-2:i+3])\n"
     ]
    },
    {
     "name": "stdout",
     "output_type": "stream",
     "text": [
      "5191_3\n"
     ]
    },
    {
     "name": "stderr",
     "output_type": "stream",
     "text": [
      "/var/folders/wj/11sgsjxd7x75l9tkc6r2l1p80000gn/T/ipykernel_4223/1439925471.py:8: RuntimeWarning: All-NaN slice encountered\n",
      "  y[i] = np.nanmedian(x[i-2:i+3])\n"
     ]
    },
    {
     "name": "stdout",
     "output_type": "stream",
     "text": [
      "5191_4\n"
     ]
    },
    {
     "name": "stderr",
     "output_type": "stream",
     "text": [
      "/var/folders/wj/11sgsjxd7x75l9tkc6r2l1p80000gn/T/ipykernel_4223/1439925471.py:8: RuntimeWarning: All-NaN slice encountered\n",
      "  y[i] = np.nanmedian(x[i-2:i+3])\n"
     ]
    },
    {
     "name": "stdout",
     "output_type": "stream",
     "text": [
      "5191_5\n"
     ]
    },
    {
     "name": "stderr",
     "output_type": "stream",
     "text": [
      "/var/folders/wj/11sgsjxd7x75l9tkc6r2l1p80000gn/T/ipykernel_4223/1439925471.py:8: RuntimeWarning: All-NaN slice encountered\n",
      "  y[i] = np.nanmedian(x[i-2:i+3])\n"
     ]
    },
    {
     "name": "stdout",
     "output_type": "stream",
     "text": [
      "6254_1\n"
     ]
    },
    {
     "name": "stderr",
     "output_type": "stream",
     "text": [
      "/var/folders/wj/11sgsjxd7x75l9tkc6r2l1p80000gn/T/ipykernel_4223/1439925471.py:8: RuntimeWarning: All-NaN slice encountered\n",
      "  y[i] = np.nanmedian(x[i-2:i+3])\n"
     ]
    },
    {
     "name": "stdout",
     "output_type": "stream",
     "text": [
      "6254_2\n"
     ]
    },
    {
     "name": "stderr",
     "output_type": "stream",
     "text": [
      "/var/folders/wj/11sgsjxd7x75l9tkc6r2l1p80000gn/T/ipykernel_4223/1439925471.py:8: RuntimeWarning: All-NaN slice encountered\n",
      "  y[i] = np.nanmedian(x[i-2:i+3])\n"
     ]
    },
    {
     "name": "stdout",
     "output_type": "stream",
     "text": [
      "6254_4\n"
     ]
    },
    {
     "name": "stderr",
     "output_type": "stream",
     "text": [
      "/var/folders/wj/11sgsjxd7x75l9tkc6r2l1p80000gn/T/ipykernel_4223/1439925471.py:8: RuntimeWarning: All-NaN slice encountered\n",
      "  y[i] = np.nanmedian(x[i-2:i+3])\n"
     ]
    },
    {
     "name": "stdout",
     "output_type": "stream",
     "text": [
      "6254_5\n"
     ]
    },
    {
     "name": "stderr",
     "output_type": "stream",
     "text": [
      "/var/folders/wj/11sgsjxd7x75l9tkc6r2l1p80000gn/T/ipykernel_4223/1439925471.py:8: RuntimeWarning: All-NaN slice encountered\n",
      "  y[i] = np.nanmedian(x[i-2:i+3])\n"
     ]
    },
    {
     "name": "stdout",
     "output_type": "stream",
     "text": [
      "9535_1\n"
     ]
    },
    {
     "name": "stderr",
     "output_type": "stream",
     "text": [
      "/var/folders/wj/11sgsjxd7x75l9tkc6r2l1p80000gn/T/ipykernel_4223/1439925471.py:8: RuntimeWarning: All-NaN slice encountered\n",
      "  y[i] = np.nanmedian(x[i-2:i+3])\n"
     ]
    },
    {
     "name": "stdout",
     "output_type": "stream",
     "text": [
      "9535_2\n"
     ]
    },
    {
     "name": "stderr",
     "output_type": "stream",
     "text": [
      "/var/folders/wj/11sgsjxd7x75l9tkc6r2l1p80000gn/T/ipykernel_4223/1439925471.py:8: RuntimeWarning: All-NaN slice encountered\n",
      "  y[i] = np.nanmedian(x[i-2:i+3])\n"
     ]
    },
    {
     "name": "stdout",
     "output_type": "stream",
     "text": [
      "9535_3\n"
     ]
    },
    {
     "name": "stderr",
     "output_type": "stream",
     "text": [
      "/var/folders/wj/11sgsjxd7x75l9tkc6r2l1p80000gn/T/ipykernel_4223/1439925471.py:8: RuntimeWarning: All-NaN slice encountered\n",
      "  y[i] = np.nanmedian(x[i-2:i+3])\n"
     ]
    },
    {
     "name": "stdout",
     "output_type": "stream",
     "text": [
      "9535_4\n"
     ]
    },
    {
     "name": "stderr",
     "output_type": "stream",
     "text": [
      "/var/folders/wj/11sgsjxd7x75l9tkc6r2l1p80000gn/T/ipykernel_4223/1439925471.py:8: RuntimeWarning: All-NaN slice encountered\n",
      "  y[i] = np.nanmedian(x[i-2:i+3])\n"
     ]
    },
    {
     "name": "stdout",
     "output_type": "stream",
     "text": [
      "9535_5\n"
     ]
    },
    {
     "name": "stderr",
     "output_type": "stream",
     "text": [
      "/var/folders/wj/11sgsjxd7x75l9tkc6r2l1p80000gn/T/ipykernel_4223/1439925471.py:8: RuntimeWarning: All-NaN slice encountered\n",
      "  y[i] = np.nanmedian(x[i-2:i+3])\n"
     ]
    },
    {
     "name": "stdout",
     "output_type": "stream",
     "text": [
      "1142_2\n"
     ]
    },
    {
     "name": "stderr",
     "output_type": "stream",
     "text": [
      "/var/folders/wj/11sgsjxd7x75l9tkc6r2l1p80000gn/T/ipykernel_4223/1439925471.py:8: RuntimeWarning: All-NaN slice encountered\n",
      "  y[i] = np.nanmedian(x[i-2:i+3])\n"
     ]
    },
    {
     "name": "stdout",
     "output_type": "stream",
     "text": [
      "1142_3\n"
     ]
    },
    {
     "name": "stderr",
     "output_type": "stream",
     "text": [
      "/var/folders/wj/11sgsjxd7x75l9tkc6r2l1p80000gn/T/ipykernel_4223/1439925471.py:8: RuntimeWarning: All-NaN slice encountered\n",
      "  y[i] = np.nanmedian(x[i-2:i+3])\n"
     ]
    },
    {
     "name": "stdout",
     "output_type": "stream",
     "text": [
      "1142_4\n"
     ]
    },
    {
     "name": "stderr",
     "output_type": "stream",
     "text": [
      "/var/folders/wj/11sgsjxd7x75l9tkc6r2l1p80000gn/T/ipykernel_4223/1439925471.py:8: RuntimeWarning: All-NaN slice encountered\n",
      "  y[i] = np.nanmedian(x[i-2:i+3])\n"
     ]
    },
    {
     "name": "stdout",
     "output_type": "stream",
     "text": [
      "1142_5\n"
     ]
    },
    {
     "name": "stderr",
     "output_type": "stream",
     "text": [
      "/var/folders/wj/11sgsjxd7x75l9tkc6r2l1p80000gn/T/ipykernel_4223/1439925471.py:8: RuntimeWarning: All-NaN slice encountered\n",
      "  y[i] = np.nanmedian(x[i-2:i+3])\n"
     ]
    },
    {
     "name": "stdout",
     "output_type": "stream",
     "text": [
      "1234_1\n"
     ]
    },
    {
     "name": "stderr",
     "output_type": "stream",
     "text": [
      "/var/folders/wj/11sgsjxd7x75l9tkc6r2l1p80000gn/T/ipykernel_4223/1439925471.py:8: RuntimeWarning: All-NaN slice encountered\n",
      "  y[i] = np.nanmedian(x[i-2:i+3])\n"
     ]
    },
    {
     "name": "stdout",
     "output_type": "stream",
     "text": [
      "1234_2\n"
     ]
    },
    {
     "name": "stderr",
     "output_type": "stream",
     "text": [
      "/var/folders/wj/11sgsjxd7x75l9tkc6r2l1p80000gn/T/ipykernel_4223/1439925471.py:8: RuntimeWarning: All-NaN slice encountered\n",
      "  y[i] = np.nanmedian(x[i-2:i+3])\n"
     ]
    },
    {
     "name": "stdout",
     "output_type": "stream",
     "text": [
      "1234_3\n"
     ]
    },
    {
     "name": "stderr",
     "output_type": "stream",
     "text": [
      "/var/folders/wj/11sgsjxd7x75l9tkc6r2l1p80000gn/T/ipykernel_4223/1439925471.py:8: RuntimeWarning: All-NaN slice encountered\n",
      "  y[i] = np.nanmedian(x[i-2:i+3])\n"
     ]
    },
    {
     "name": "stdout",
     "output_type": "stream",
     "text": [
      "1234_4\n"
     ]
    },
    {
     "name": "stderr",
     "output_type": "stream",
     "text": [
      "/var/folders/wj/11sgsjxd7x75l9tkc6r2l1p80000gn/T/ipykernel_4223/1439925471.py:8: RuntimeWarning: All-NaN slice encountered\n",
      "  y[i] = np.nanmedian(x[i-2:i+3])\n"
     ]
    },
    {
     "name": "stdout",
     "output_type": "stream",
     "text": [
      "1234_5\n"
     ]
    },
    {
     "name": "stderr",
     "output_type": "stream",
     "text": [
      "/var/folders/wj/11sgsjxd7x75l9tkc6r2l1p80000gn/T/ipykernel_4223/1439925471.py:8: RuntimeWarning: All-NaN slice encountered\n",
      "  y[i] = np.nanmedian(x[i-2:i+3])\n"
     ]
    },
    {
     "name": "stdout",
     "output_type": "stream",
     "text": [
      "6266_1\n"
     ]
    },
    {
     "name": "stderr",
     "output_type": "stream",
     "text": [
      "/var/folders/wj/11sgsjxd7x75l9tkc6r2l1p80000gn/T/ipykernel_4223/1439925471.py:8: RuntimeWarning: All-NaN slice encountered\n",
      "  y[i] = np.nanmedian(x[i-2:i+3])\n"
     ]
    },
    {
     "name": "stdout",
     "output_type": "stream",
     "text": [
      "6266_2\n"
     ]
    },
    {
     "name": "stderr",
     "output_type": "stream",
     "text": [
      "/var/folders/wj/11sgsjxd7x75l9tkc6r2l1p80000gn/T/ipykernel_4223/1439925471.py:8: RuntimeWarning: All-NaN slice encountered\n",
      "  y[i] = np.nanmedian(x[i-2:i+3])\n"
     ]
    },
    {
     "name": "stdout",
     "output_type": "stream",
     "text": [
      "6266_3\n"
     ]
    },
    {
     "name": "stderr",
     "output_type": "stream",
     "text": [
      "/var/folders/wj/11sgsjxd7x75l9tkc6r2l1p80000gn/T/ipykernel_4223/1439925471.py:8: RuntimeWarning: All-NaN slice encountered\n",
      "  y[i] = np.nanmedian(x[i-2:i+3])\n"
     ]
    },
    {
     "name": "stdout",
     "output_type": "stream",
     "text": [
      "6266_4\n"
     ]
    },
    {
     "name": "stderr",
     "output_type": "stream",
     "text": [
      "/var/folders/wj/11sgsjxd7x75l9tkc6r2l1p80000gn/T/ipykernel_4223/1439925471.py:8: RuntimeWarning: All-NaN slice encountered\n",
      "  y[i] = np.nanmedian(x[i-2:i+3])\n"
     ]
    },
    {
     "name": "stdout",
     "output_type": "stream",
     "text": [
      "6266_5\n"
     ]
    },
    {
     "name": "stderr",
     "output_type": "stream",
     "text": [
      "/var/folders/wj/11sgsjxd7x75l9tkc6r2l1p80000gn/T/ipykernel_4223/1439925471.py:8: RuntimeWarning: All-NaN slice encountered\n",
      "  y[i] = np.nanmedian(x[i-2:i+3])\n"
     ]
    },
    {
     "name": "stdout",
     "output_type": "stream",
     "text": [
      "1142_1\n"
     ]
    }
   ],
   "source": [
    "path = \"/Volumes/TwoTeras/1_Experiment_2/Eye_Tracking/Pre_processed/03_Individuals_IndividualSessions\" \n",
    "\n",
    "  \n",
    "# csv files in the path\n",
    "files = glob.glob(path + \"/*.csv\")\n",
    "  \n",
    "# defining an empty list to store \n",
    "# content\n",
    "data_frame = pd.DataFrame()\n",
    "content = []\n",
    "  \n",
    "# checking all the csv files in the \n",
    "# specified path\n",
    "for filename in files:\n",
    "    \n",
    "    # reading content of csv file\n",
    "    # content.append(filename)\n",
    "    One_participant = pd.read_csv(filename)\n",
    "    One_participant.drop(['Unnamed: 0'],axis=1, inplace=True)\n",
    "    #Apply function that marks beggining and end of invalid sections\n",
    "    One_participant[\"Bitmask_flag\"] = bitmask_flag_change(One_participant, \"combinedGazeValidityBitmask\")\n",
    "    One_participant.reset_index(inplace=True)\n",
    "    # Get index of begging and end of invalid events\n",
    "    indexLastValid = One_participant[One_participant[\"Bitmask_flag\"] == \"Invalid_Section_Starts\"].index\n",
    "    indexLastInValid = One_participant[One_participant[\"Bitmask_flag\"] == \"Invalid_Section_Ends\"].index\n",
    "    # Get 20 rows prior to the beggining of the invalid event \n",
    "    indexLower = indexLastValid - 20\n",
    "    indexUpper = indexLastValid\n",
    "    # Since it's possible that the invalid event occured less than 20 rows from the beggining of the file\n",
    "    # we need to correct so that the highest possible index is the firs value in the file\n",
    "    indexLower_r = [0 if i < 0 else i for i in indexLower]\n",
    "    #Create a list with the most common element 200ms before the invalid section started\n",
    "    Elements_to_replace = [One_participant.iloc[down:up,20].mode().iloc[0] for down, up in zip(indexLower_r, indexUpper)]\n",
    "    #Create new column for interpolated events\n",
    "    One_participant[\"Interpolated_collider\"] = One_participant[\"hitObjectColliderName\"]\n",
    "    #Concat the row indexes that need replacement\n",
    "    ranges = list(zip(indexLastValid, indexLastInValid))\n",
    "    #Replace the invalid event with the mode of 20 events prior\n",
    "    for i, (lower, upper) in enumerate(ranges):\n",
    "        One_participant.iloc[lower:upper,-2]  = Elements_to_replace[i]\n",
    "    # Here we look for the patterns contained in the dictionary and create the more general/informative variable Collider_Categorical\n",
    "    One_participant['Collider_Categorical'] = One_participant['Interpolated_collider'].apply(lambda x: next((val for key, val in patterns.items() if re.match(key, x)), default_val))\n",
    "    # Replace coordinates and eucledian distances with Nans\n",
    "    One_participant.loc[One_participant['combinedGazeValidityBitmask'] == 0, ['hitPointOnObject_x', 'hitPointOnObject_y', 'hitPointOnObject_z',' eyePositionCombinedWorld.x', 'eyePositionCombinedWorld.y', 'eyePositionCombinedWorld.z', 'Eucledian_distance']] =  np.nan\n",
    "    indexLastValid = []\n",
    "    indexLastInValid = []\n",
    "    indexLower = []\n",
    "    indexUpper = []\n",
    "    \n",
    "    # 5 point median filter\n",
    "    One_participant[\"hitPointOnObject_x\"] = median_correction(One_participant.hitPointOnObject_x)\n",
    "    One_participant[\"hitPointOnObject_y\"] = median_correction(One_participant.hitPointOnObject_y)\n",
    "    One_participant[\"hitPointOnObject_z\"] = median_correction(One_participant.hitPointOnObject_z)\n",
    "    One_participant[\"eyePositionCombinedWorld.x\"] = median_correction( One_participant[\"eyePositionCombinedWorld.x\"])\n",
    "    One_participant[\"eyePositionCombinedWorld.y\"] = median_correction( One_participant[\"eyePositionCombinedWorld.y\"])\n",
    "    One_participant[\"eyePositionCombinedWorld.z\"] = median_correction( One_participant[\"eyePositionCombinedWorld.z\"])\n",
    "     #Saves an individual file per session per subject with out duplicates\n",
    "    One_participant.to_csv(f\"/Volumes/TwoTeras/1_Experiment_2/Eye_Tracking/Pre_processed/04_Interpolated/{filename[-10:-4]}.csv\", index=True)\n",
    "    print(filename[-10:-4])\n",
    "    content.append(One_participant)\n",
    "\n",
    "# converting content to data frame\n",
    "data_frame = pd.concat(content)"
   ]
  },
  {
   "cell_type": "code",
   "execution_count": 6,
   "id": "3fa1964c-5746-46fc-9f30-d76e69006277",
   "metadata": {},
   "outputs": [
    {
     "data": {
      "text/html": [
       "<div>\n",
       "<style scoped>\n",
       "    .dataframe tbody tr th:only-of-type {\n",
       "        vertical-align: middle;\n",
       "    }\n",
       "\n",
       "    .dataframe tbody tr th {\n",
       "        vertical-align: top;\n",
       "    }\n",
       "\n",
       "    .dataframe thead th {\n",
       "        text-align: right;\n",
       "    }\n",
       "</style>\n",
       "<table border=\"1\" class=\"dataframe\">\n",
       "  <thead>\n",
       "    <tr style=\"text-align: right;\">\n",
       "      <th></th>\n",
       "      <th>index</th>\n",
       "      <th>SubjectID</th>\n",
       "      <th>Session</th>\n",
       "      <th>SessionSubsection</th>\n",
       "      <th>timeStampDataPointEnd</th>\n",
       "      <th>eyeOpennessLeft</th>\n",
       "      <th>eyeOpennessRight</th>\n",
       "      <th>pupilDiameterMillimetersLeft</th>\n",
       "      <th>pupilDiameterMillimetersRight</th>\n",
       "      <th>leftGazeValidityBitmask</th>\n",
       "      <th>...</th>\n",
       "      <th>hitPointOnObject_y</th>\n",
       "      <th>hitPointOnObject_z</th>\n",
       "      <th>Eucledian_distance</th>\n",
       "      <th>Collider_Categorical</th>\n",
       "      <th>Face_Hits</th>\n",
       "      <th>Time_Shift</th>\n",
       "      <th>Continuous_Time</th>\n",
       "      <th>Bitmask_flag</th>\n",
       "      <th>Interpolated_collider</th>\n",
       "      <th>eyePositionCombinedWorld.x</th>\n",
       "    </tr>\n",
       "  </thead>\n",
       "  <tbody>\n",
       "    <tr>\n",
       "      <th>116045</th>\n",
       "      <td>116045</td>\n",
       "      <td>1142</td>\n",
       "      <td>1</td>\n",
       "      <td>3</td>\n",
       "      <td>1.687343e+09</td>\n",
       "      <td>1.000000</td>\n",
       "      <td>1.000000</td>\n",
       "      <td>4.494644</td>\n",
       "      <td>4.185150</td>\n",
       "      <td>31</td>\n",
       "      <td>...</td>\n",
       "      <td>0.733514</td>\n",
       "      <td>100.771011</td>\n",
       "      <td>4.633499</td>\n",
       "      <td>Background</td>\n",
       "      <td>Not_Agent</td>\n",
       "      <td>0.011407</td>\n",
       "      <td>50.796</td>\n",
       "      <td>No_change</td>\n",
       "      <td>Dumpster_v2_2</td>\n",
       "      <td>NaN</td>\n",
       "    </tr>\n",
       "    <tr>\n",
       "      <th>116046</th>\n",
       "      <td>116046</td>\n",
       "      <td>1142</td>\n",
       "      <td>1</td>\n",
       "      <td>3</td>\n",
       "      <td>1.687343e+09</td>\n",
       "      <td>0.998350</td>\n",
       "      <td>0.937989</td>\n",
       "      <td>4.502533</td>\n",
       "      <td>4.192703</td>\n",
       "      <td>31</td>\n",
       "      <td>...</td>\n",
       "      <td>0.735419</td>\n",
       "      <td>100.766327</td>\n",
       "      <td>4.634478</td>\n",
       "      <td>Background</td>\n",
       "      <td>Not_Agent</td>\n",
       "      <td>0.021329</td>\n",
       "      <td>50.797</td>\n",
       "      <td>No_change</td>\n",
       "      <td>Dumpster_v2_2</td>\n",
       "      <td>NaN</td>\n",
       "    </tr>\n",
       "    <tr>\n",
       "      <th>116047</th>\n",
       "      <td>116047</td>\n",
       "      <td>1142</td>\n",
       "      <td>1</td>\n",
       "      <td>3</td>\n",
       "      <td>1.687343e+09</td>\n",
       "      <td>1.000000</td>\n",
       "      <td>1.000000</td>\n",
       "      <td>4.502594</td>\n",
       "      <td>4.192657</td>\n",
       "      <td>31</td>\n",
       "      <td>...</td>\n",
       "      <td>0.735715</td>\n",
       "      <td>100.766235</td>\n",
       "      <td>4.634451</td>\n",
       "      <td>Background</td>\n",
       "      <td>Not_Agent</td>\n",
       "      <td>0.011904</td>\n",
       "      <td>50.797</td>\n",
       "      <td>No_change</td>\n",
       "      <td>Dumpster_v2_2</td>\n",
       "      <td>NaN</td>\n",
       "    </tr>\n",
       "    <tr>\n",
       "      <th>116048</th>\n",
       "      <td>116048</td>\n",
       "      <td>1142</td>\n",
       "      <td>1</td>\n",
       "      <td>3</td>\n",
       "      <td>1.687343e+09</td>\n",
       "      <td>1.000000</td>\n",
       "      <td>1.000000</td>\n",
       "      <td>4.514389</td>\n",
       "      <td>4.210312</td>\n",
       "      <td>31</td>\n",
       "      <td>...</td>\n",
       "      <td>0.735817</td>\n",
       "      <td>100.765305</td>\n",
       "      <td>4.634650</td>\n",
       "      <td>Background</td>\n",
       "      <td>Not_Agent</td>\n",
       "      <td>0.022321</td>\n",
       "      <td>50.797</td>\n",
       "      <td>No_change</td>\n",
       "      <td>Dumpster_v2_2</td>\n",
       "      <td>NaN</td>\n",
       "    </tr>\n",
       "    <tr>\n",
       "      <th>116049</th>\n",
       "      <td>116049</td>\n",
       "      <td>1142</td>\n",
       "      <td>1</td>\n",
       "      <td>3</td>\n",
       "      <td>1.687343e+09</td>\n",
       "      <td>1.000000</td>\n",
       "      <td>1.000000</td>\n",
       "      <td>4.512970</td>\n",
       "      <td>4.221741</td>\n",
       "      <td>31</td>\n",
       "      <td>...</td>\n",
       "      <td>0.737244</td>\n",
       "      <td>100.764633</td>\n",
       "      <td>4.634825</td>\n",
       "      <td>Background</td>\n",
       "      <td>Not_Agent</td>\n",
       "      <td>0.021823</td>\n",
       "      <td>50.798</td>\n",
       "      <td>No_change</td>\n",
       "      <td>Dumpster_v2_2</td>\n",
       "      <td>NaN</td>\n",
       "    </tr>\n",
       "    <tr>\n",
       "      <th>116050</th>\n",
       "      <td>116050</td>\n",
       "      <td>1142</td>\n",
       "      <td>1</td>\n",
       "      <td>3</td>\n",
       "      <td>1.687343e+09</td>\n",
       "      <td>1.000000</td>\n",
       "      <td>1.000000</td>\n",
       "      <td>4.513290</td>\n",
       "      <td>4.221954</td>\n",
       "      <td>31</td>\n",
       "      <td>...</td>\n",
       "      <td>0.738034</td>\n",
       "      <td>100.764633</td>\n",
       "      <td>4.634898</td>\n",
       "      <td>Background</td>\n",
       "      <td>Not_Agent</td>\n",
       "      <td>0.011408</td>\n",
       "      <td>50.798</td>\n",
       "      <td>No_change</td>\n",
       "      <td>Dumpster_v2_2</td>\n",
       "      <td>NaN</td>\n",
       "    </tr>\n",
       "    <tr>\n",
       "      <th>116051</th>\n",
       "      <td>116051</td>\n",
       "      <td>1142</td>\n",
       "      <td>1</td>\n",
       "      <td>3</td>\n",
       "      <td>1.687343e+09</td>\n",
       "      <td>1.000000</td>\n",
       "      <td>1.000000</td>\n",
       "      <td>4.513290</td>\n",
       "      <td>4.221954</td>\n",
       "      <td>31</td>\n",
       "      <td>...</td>\n",
       "      <td>0.738869</td>\n",
       "      <td>100.764633</td>\n",
       "      <td>4.634883</td>\n",
       "      <td>Background</td>\n",
       "      <td>Not_Agent</td>\n",
       "      <td>0.010911</td>\n",
       "      <td>50.798</td>\n",
       "      <td>No_change</td>\n",
       "      <td>Dumpster_v2_2</td>\n",
       "      <td>NaN</td>\n",
       "    </tr>\n",
       "    <tr>\n",
       "      <th>116052</th>\n",
       "      <td>116052</td>\n",
       "      <td>1142</td>\n",
       "      <td>1</td>\n",
       "      <td>3</td>\n",
       "      <td>1.687343e+09</td>\n",
       "      <td>1.000000</td>\n",
       "      <td>1.000000</td>\n",
       "      <td>4.508698</td>\n",
       "      <td>4.217957</td>\n",
       "      <td>31</td>\n",
       "      <td>...</td>\n",
       "      <td>0.739336</td>\n",
       "      <td>100.767494</td>\n",
       "      <td>4.634378</td>\n",
       "      <td>Background</td>\n",
       "      <td>Not_Agent</td>\n",
       "      <td>0.010417</td>\n",
       "      <td>50.798</td>\n",
       "      <td>No_change</td>\n",
       "      <td>Dumpster_v2_2</td>\n",
       "      <td>NaN</td>\n",
       "    </tr>\n",
       "    <tr>\n",
       "      <th>116053</th>\n",
       "      <td>116053</td>\n",
       "      <td>1142</td>\n",
       "      <td>1</td>\n",
       "      <td>3</td>\n",
       "      <td>1.687343e+09</td>\n",
       "      <td>1.000000</td>\n",
       "      <td>1.000000</td>\n",
       "      <td>4.513000</td>\n",
       "      <td>4.217758</td>\n",
       "      <td>31</td>\n",
       "      <td>...</td>\n",
       "      <td>0.740494</td>\n",
       "      <td>100.768806</td>\n",
       "      <td>4.634201</td>\n",
       "      <td>Background</td>\n",
       "      <td>Not_Agent</td>\n",
       "      <td>0.012399</td>\n",
       "      <td>50.798</td>\n",
       "      <td>No_change</td>\n",
       "      <td>Dumpster_v2_2</td>\n",
       "      <td>NaN</td>\n",
       "    </tr>\n",
       "    <tr>\n",
       "      <th>116054</th>\n",
       "      <td>116054</td>\n",
       "      <td>1142</td>\n",
       "      <td>1</td>\n",
       "      <td>3</td>\n",
       "      <td>1.687343e+09</td>\n",
       "      <td>1.000000</td>\n",
       "      <td>1.000000</td>\n",
       "      <td>4.513901</td>\n",
       "      <td>4.205582</td>\n",
       "      <td>31</td>\n",
       "      <td>...</td>\n",
       "      <td>0.740494</td>\n",
       "      <td>100.769936</td>\n",
       "      <td>4.633972</td>\n",
       "      <td>Background</td>\n",
       "      <td>Not_Agent</td>\n",
       "      <td>0.010912</td>\n",
       "      <td>50.798</td>\n",
       "      <td>No_change</td>\n",
       "      <td>Dumpster_v2_2</td>\n",
       "      <td>NaN</td>\n",
       "    </tr>\n",
       "    <tr>\n",
       "      <th>116055</th>\n",
       "      <td>116055</td>\n",
       "      <td>1142</td>\n",
       "      <td>1</td>\n",
       "      <td>3</td>\n",
       "      <td>1.687343e+09</td>\n",
       "      <td>1.000000</td>\n",
       "      <td>1.000000</td>\n",
       "      <td>4.513901</td>\n",
       "      <td>4.205582</td>\n",
       "      <td>31</td>\n",
       "      <td>...</td>\n",
       "      <td>0.740494</td>\n",
       "      <td>100.770554</td>\n",
       "      <td>4.633872</td>\n",
       "      <td>Background</td>\n",
       "      <td>Not_Agent</td>\n",
       "      <td>0.011408</td>\n",
       "      <td>50.799</td>\n",
       "      <td>No_change</td>\n",
       "      <td>Dumpster_v2_2</td>\n",
       "      <td>NaN</td>\n",
       "    </tr>\n",
       "    <tr>\n",
       "      <th>116056</th>\n",
       "      <td>116056</td>\n",
       "      <td>1142</td>\n",
       "      <td>1</td>\n",
       "      <td>3</td>\n",
       "      <td>1.687343e+09</td>\n",
       "      <td>0.984499</td>\n",
       "      <td>0.917969</td>\n",
       "      <td>4.572449</td>\n",
       "      <td>4.212784</td>\n",
       "      <td>31</td>\n",
       "      <td>...</td>\n",
       "      <td>0.712328</td>\n",
       "      <td>100.853363</td>\n",
       "      <td>4.617780</td>\n",
       "      <td>Background</td>\n",
       "      <td>Not_Agent</td>\n",
       "      <td>0.021824</td>\n",
       "      <td>50.799</td>\n",
       "      <td>No_change</td>\n",
       "      <td>Dumpster_v2_2</td>\n",
       "      <td>NaN</td>\n",
       "    </tr>\n",
       "    <tr>\n",
       "      <th>116057</th>\n",
       "      <td>116057</td>\n",
       "      <td>1142</td>\n",
       "      <td>1</td>\n",
       "      <td>3</td>\n",
       "      <td>1.687343e+09</td>\n",
       "      <td>0.985187</td>\n",
       "      <td>0.930408</td>\n",
       "      <td>4.576370</td>\n",
       "      <td>4.276657</td>\n",
       "      <td>31</td>\n",
       "      <td>...</td>\n",
       "      <td>0.712328</td>\n",
       "      <td>100.857758</td>\n",
       "      <td>4.617824</td>\n",
       "      <td>Background</td>\n",
       "      <td>Not_Agent</td>\n",
       "      <td>0.022321</td>\n",
       "      <td>50.799</td>\n",
       "      <td>No_change</td>\n",
       "      <td>Dumpster_v2_2</td>\n",
       "      <td>NaN</td>\n",
       "    </tr>\n",
       "    <tr>\n",
       "      <th>116058</th>\n",
       "      <td>116058</td>\n",
       "      <td>1142</td>\n",
       "      <td>1</td>\n",
       "      <td>3</td>\n",
       "      <td>1.687343e+09</td>\n",
       "      <td>0.981849</td>\n",
       "      <td>0.947521</td>\n",
       "      <td>4.576370</td>\n",
       "      <td>4.250839</td>\n",
       "      <td>31</td>\n",
       "      <td>...</td>\n",
       "      <td>0.712328</td>\n",
       "      <td>100.871384</td>\n",
       "      <td>4.615727</td>\n",
       "      <td>Background</td>\n",
       "      <td>Not_Agent</td>\n",
       "      <td>0.021824</td>\n",
       "      <td>50.800</td>\n",
       "      <td>No_change</td>\n",
       "      <td>Dumpster_v2_2</td>\n",
       "      <td>NaN</td>\n",
       "    </tr>\n",
       "    <tr>\n",
       "      <th>116059</th>\n",
       "      <td>116059</td>\n",
       "      <td>1142</td>\n",
       "      <td>1</td>\n",
       "      <td>3</td>\n",
       "      <td>1.687343e+09</td>\n",
       "      <td>0.981849</td>\n",
       "      <td>0.947521</td>\n",
       "      <td>4.576370</td>\n",
       "      <td>4.250839</td>\n",
       "      <td>31</td>\n",
       "      <td>...</td>\n",
       "      <td>0.713212</td>\n",
       "      <td>100.871635</td>\n",
       "      <td>4.615680</td>\n",
       "      <td>Background</td>\n",
       "      <td>Not_Agent</td>\n",
       "      <td>0.010912</td>\n",
       "      <td>50.800</td>\n",
       "      <td>No_change</td>\n",
       "      <td>Dumpster_v2_2</td>\n",
       "      <td>NaN</td>\n",
       "    </tr>\n",
       "    <tr>\n",
       "      <th>116060</th>\n",
       "      <td>116060</td>\n",
       "      <td>1142</td>\n",
       "      <td>1</td>\n",
       "      <td>3</td>\n",
       "      <td>1.687343e+09</td>\n",
       "      <td>0.986014</td>\n",
       "      <td>0.924138</td>\n",
       "      <td>4.555618</td>\n",
       "      <td>4.264114</td>\n",
       "      <td>31</td>\n",
       "      <td>...</td>\n",
       "      <td>0.713316</td>\n",
       "      <td>100.871864</td>\n",
       "      <td>4.615715</td>\n",
       "      <td>Background</td>\n",
       "      <td>Not_Agent</td>\n",
       "      <td>0.011408</td>\n",
       "      <td>50.800</td>\n",
       "      <td>No_change</td>\n",
       "      <td>Dumpster_v2_2</td>\n",
       "      <td>NaN</td>\n",
       "    </tr>\n",
       "    <tr>\n",
       "      <th>116061</th>\n",
       "      <td>116061</td>\n",
       "      <td>1142</td>\n",
       "      <td>1</td>\n",
       "      <td>3</td>\n",
       "      <td>1.687343e+09</td>\n",
       "      <td>0.978875</td>\n",
       "      <td>0.939109</td>\n",
       "      <td>4.541977</td>\n",
       "      <td>4.262146</td>\n",
       "      <td>31</td>\n",
       "      <td>...</td>\n",
       "      <td>0.713937</td>\n",
       "      <td>100.898300</td>\n",
       "      <td>4.611579</td>\n",
       "      <td>Background</td>\n",
       "      <td>Not_Agent</td>\n",
       "      <td>0.021824</td>\n",
       "      <td>50.801</td>\n",
       "      <td>No_change</td>\n",
       "      <td>Dumpster_v2_2</td>\n",
       "      <td>NaN</td>\n",
       "    </tr>\n",
       "    <tr>\n",
       "      <th>116062</th>\n",
       "      <td>116062</td>\n",
       "      <td>1142</td>\n",
       "      <td>1</td>\n",
       "      <td>3</td>\n",
       "      <td>1.687343e+09</td>\n",
       "      <td>0.978875</td>\n",
       "      <td>0.939109</td>\n",
       "      <td>4.541977</td>\n",
       "      <td>4.262146</td>\n",
       "      <td>31</td>\n",
       "      <td>...</td>\n",
       "      <td>0.714550</td>\n",
       "      <td>100.898537</td>\n",
       "      <td>4.611555</td>\n",
       "      <td>Background</td>\n",
       "      <td>Not_Agent</td>\n",
       "      <td>0.011408</td>\n",
       "      <td>50.801</td>\n",
       "      <td>No_change</td>\n",
       "      <td>Dumpster_v2_2</td>\n",
       "      <td>NaN</td>\n",
       "    </tr>\n",
       "    <tr>\n",
       "      <th>116063</th>\n",
       "      <td>116063</td>\n",
       "      <td>1142</td>\n",
       "      <td>1</td>\n",
       "      <td>3</td>\n",
       "      <td>1.687343e+09</td>\n",
       "      <td>0.989121</td>\n",
       "      <td>0.917508</td>\n",
       "      <td>4.541809</td>\n",
       "      <td>4.240631</td>\n",
       "      <td>31</td>\n",
       "      <td>...</td>\n",
       "      <td>0.714634</td>\n",
       "      <td>100.898537</td>\n",
       "      <td>4.611564</td>\n",
       "      <td>Background</td>\n",
       "      <td>Not_Agent</td>\n",
       "      <td>0.022320</td>\n",
       "      <td>50.801</td>\n",
       "      <td>No_change</td>\n",
       "      <td>Dumpster_v2_2</td>\n",
       "      <td>NaN</td>\n",
       "    </tr>\n",
       "    <tr>\n",
       "      <th>116064</th>\n",
       "      <td>116064</td>\n",
       "      <td>1142</td>\n",
       "      <td>1</td>\n",
       "      <td>3</td>\n",
       "      <td>1.687343e+09</td>\n",
       "      <td>0.976740</td>\n",
       "      <td>0.930467</td>\n",
       "      <td>4.541809</td>\n",
       "      <td>4.240631</td>\n",
       "      <td>31</td>\n",
       "      <td>...</td>\n",
       "      <td>0.714634</td>\n",
       "      <td>100.898537</td>\n",
       "      <td>4.611418</td>\n",
       "      <td>Background</td>\n",
       "      <td>Not_Agent</td>\n",
       "      <td>0.010913</td>\n",
       "      <td>50.801</td>\n",
       "      <td>No_change</td>\n",
       "      <td>Dumpster_v2_2</td>\n",
       "      <td>NaN</td>\n",
       "    </tr>\n",
       "    <tr>\n",
       "      <th>116065</th>\n",
       "      <td>116065</td>\n",
       "      <td>1142</td>\n",
       "      <td>1</td>\n",
       "      <td>3</td>\n",
       "      <td>1.687343e+09</td>\n",
       "      <td>0.976740</td>\n",
       "      <td>0.930467</td>\n",
       "      <td>4.548981</td>\n",
       "      <td>4.248734</td>\n",
       "      <td>31</td>\n",
       "      <td>...</td>\n",
       "      <td>0.714634</td>\n",
       "      <td>100.897881</td>\n",
       "      <td>4.611684</td>\n",
       "      <td>Background</td>\n",
       "      <td>Not_Agent</td>\n",
       "      <td>0.009920</td>\n",
       "      <td>50.801</td>\n",
       "      <td>No_change</td>\n",
       "      <td>Dumpster_v2_2</td>\n",
       "      <td>NaN</td>\n",
       "    </tr>\n",
       "    <tr>\n",
       "      <th>116066</th>\n",
       "      <td>116066</td>\n",
       "      <td>1142</td>\n",
       "      <td>1</td>\n",
       "      <td>3</td>\n",
       "      <td>1.687343e+09</td>\n",
       "      <td>0.983007</td>\n",
       "      <td>0.928337</td>\n",
       "      <td>4.548401</td>\n",
       "      <td>4.248871</td>\n",
       "      <td>31</td>\n",
       "      <td>...</td>\n",
       "      <td>0.712224</td>\n",
       "      <td>100.897018</td>\n",
       "      <td>4.611752</td>\n",
       "      <td>Background</td>\n",
       "      <td>Not_Agent</td>\n",
       "      <td>0.011904</td>\n",
       "      <td>50.802</td>\n",
       "      <td>No_change</td>\n",
       "      <td>Dumpster_v2_2</td>\n",
       "      <td>NaN</td>\n",
       "    </tr>\n",
       "    <tr>\n",
       "      <th>116067</th>\n",
       "      <td>116067</td>\n",
       "      <td>1142</td>\n",
       "      <td>1</td>\n",
       "      <td>3</td>\n",
       "      <td>1.687343e+09</td>\n",
       "      <td>0.967083</td>\n",
       "      <td>0.927172</td>\n",
       "      <td>4.565399</td>\n",
       "      <td>4.248657</td>\n",
       "      <td>31</td>\n",
       "      <td>...</td>\n",
       "      <td>0.710071</td>\n",
       "      <td>100.896828</td>\n",
       "      <td>4.611800</td>\n",
       "      <td>Background</td>\n",
       "      <td>Not_Agent</td>\n",
       "      <td>0.011904</td>\n",
       "      <td>50.802</td>\n",
       "      <td>No_change</td>\n",
       "      <td>Dumpster_v2_2</td>\n",
       "      <td>NaN</td>\n",
       "    </tr>\n",
       "    <tr>\n",
       "      <th>116068</th>\n",
       "      <td>116068</td>\n",
       "      <td>1142</td>\n",
       "      <td>1</td>\n",
       "      <td>3</td>\n",
       "      <td>1.687343e+09</td>\n",
       "      <td>0.971514</td>\n",
       "      <td>0.920375</td>\n",
       "      <td>4.565094</td>\n",
       "      <td>4.209427</td>\n",
       "      <td>31</td>\n",
       "      <td>...</td>\n",
       "      <td>0.710071</td>\n",
       "      <td>100.896095</td>\n",
       "      <td>4.611661</td>\n",
       "      <td>Background</td>\n",
       "      <td>Not_Agent</td>\n",
       "      <td>0.021824</td>\n",
       "      <td>50.802</td>\n",
       "      <td>No_change</td>\n",
       "      <td>Dumpster_v2_2</td>\n",
       "      <td>NaN</td>\n",
       "    </tr>\n",
       "    <tr>\n",
       "      <th>116069</th>\n",
       "      <td>116069</td>\n",
       "      <td>1142</td>\n",
       "      <td>1</td>\n",
       "      <td>3</td>\n",
       "      <td>1.687343e+09</td>\n",
       "      <td>0.976172</td>\n",
       "      <td>0.918494</td>\n",
       "      <td>4.565247</td>\n",
       "      <td>4.207977</td>\n",
       "      <td>31</td>\n",
       "      <td>...</td>\n",
       "      <td>0.710071</td>\n",
       "      <td>100.895210</td>\n",
       "      <td>4.611904</td>\n",
       "      <td>Background</td>\n",
       "      <td>Not_Agent</td>\n",
       "      <td>0.011409</td>\n",
       "      <td>50.802</td>\n",
       "      <td>No_change</td>\n",
       "      <td>Dumpster_v2_2</td>\n",
       "      <td>NaN</td>\n",
       "    </tr>\n",
       "    <tr>\n",
       "      <th>116070</th>\n",
       "      <td>116070</td>\n",
       "      <td>1142</td>\n",
       "      <td>1</td>\n",
       "      <td>3</td>\n",
       "      <td>1.687343e+09</td>\n",
       "      <td>0.981394</td>\n",
       "      <td>0.914956</td>\n",
       "      <td>4.577438</td>\n",
       "      <td>4.201172</td>\n",
       "      <td>31</td>\n",
       "      <td>...</td>\n",
       "      <td>0.712158</td>\n",
       "      <td>100.889244</td>\n",
       "      <td>4.612922</td>\n",
       "      <td>Background</td>\n",
       "      <td>Not_Agent</td>\n",
       "      <td>0.021822</td>\n",
       "      <td>50.803</td>\n",
       "      <td>No_change</td>\n",
       "      <td>Dumpster_v2_2</td>\n",
       "      <td>NaN</td>\n",
       "    </tr>\n",
       "    <tr>\n",
       "      <th>116071</th>\n",
       "      <td>116071</td>\n",
       "      <td>1142</td>\n",
       "      <td>1</td>\n",
       "      <td>3</td>\n",
       "      <td>1.687343e+09</td>\n",
       "      <td>0.986663</td>\n",
       "      <td>0.922655</td>\n",
       "      <td>4.575500</td>\n",
       "      <td>4.194901</td>\n",
       "      <td>31</td>\n",
       "      <td>...</td>\n",
       "      <td>0.712158</td>\n",
       "      <td>100.886436</td>\n",
       "      <td>4.613380</td>\n",
       "      <td>Background</td>\n",
       "      <td>Not_Agent</td>\n",
       "      <td>0.011408</td>\n",
       "      <td>50.803</td>\n",
       "      <td>No_change</td>\n",
       "      <td>Dumpster_v2_2</td>\n",
       "      <td>NaN</td>\n",
       "    </tr>\n",
       "    <tr>\n",
       "      <th>116072</th>\n",
       "      <td>116072</td>\n",
       "      <td>1142</td>\n",
       "      <td>1</td>\n",
       "      <td>3</td>\n",
       "      <td>1.687343e+09</td>\n",
       "      <td>0.979297</td>\n",
       "      <td>0.926039</td>\n",
       "      <td>4.580185</td>\n",
       "      <td>4.202621</td>\n",
       "      <td>31</td>\n",
       "      <td>...</td>\n",
       "      <td>0.712158</td>\n",
       "      <td>100.886436</td>\n",
       "      <td>4.613965</td>\n",
       "      <td>Background</td>\n",
       "      <td>Not_Agent</td>\n",
       "      <td>0.021825</td>\n",
       "      <td>50.803</td>\n",
       "      <td>No_change</td>\n",
       "      <td>Dumpster_v2_2</td>\n",
       "      <td>NaN</td>\n",
       "    </tr>\n",
       "    <tr>\n",
       "      <th>116073</th>\n",
       "      <td>116073</td>\n",
       "      <td>1142</td>\n",
       "      <td>1</td>\n",
       "      <td>3</td>\n",
       "      <td>1.687343e+09</td>\n",
       "      <td>0.970515</td>\n",
       "      <td>0.916730</td>\n",
       "      <td>4.583054</td>\n",
       "      <td>4.201889</td>\n",
       "      <td>31</td>\n",
       "      <td>...</td>\n",
       "      <td>0.710331</td>\n",
       "      <td>100.883308</td>\n",
       "      <td>4.613788</td>\n",
       "      <td>Background</td>\n",
       "      <td>Not_Agent</td>\n",
       "      <td>0.011408</td>\n",
       "      <td>50.803</td>\n",
       "      <td>No_change</td>\n",
       "      <td>Dumpster_v2_2</td>\n",
       "      <td>NaN</td>\n",
       "    </tr>\n",
       "    <tr>\n",
       "      <th>116074</th>\n",
       "      <td>116074</td>\n",
       "      <td>1142</td>\n",
       "      <td>1</td>\n",
       "      <td>3</td>\n",
       "      <td>1.687343e+09</td>\n",
       "      <td>0.974423</td>\n",
       "      <td>0.919341</td>\n",
       "      <td>4.579895</td>\n",
       "      <td>4.192673</td>\n",
       "      <td>31</td>\n",
       "      <td>...</td>\n",
       "      <td>0.710331</td>\n",
       "      <td>100.882721</td>\n",
       "      <td>4.612770</td>\n",
       "      <td>Background</td>\n",
       "      <td>Not_Agent</td>\n",
       "      <td>0.011407</td>\n",
       "      <td>50.804</td>\n",
       "      <td>No_change</td>\n",
       "      <td>Dumpster_v2_2</td>\n",
       "      <td>NaN</td>\n",
       "    </tr>\n",
       "    <tr>\n",
       "      <th>116075</th>\n",
       "      <td>116075</td>\n",
       "      <td>1142</td>\n",
       "      <td>1</td>\n",
       "      <td>3</td>\n",
       "      <td>1.687343e+09</td>\n",
       "      <td>0.974423</td>\n",
       "      <td>0.919341</td>\n",
       "      <td>4.532043</td>\n",
       "      <td>4.225204</td>\n",
       "      <td>31</td>\n",
       "      <td>...</td>\n",
       "      <td>0.708944</td>\n",
       "      <td>100.866257</td>\n",
       "      <td>4.616237</td>\n",
       "      <td>Background</td>\n",
       "      <td>Not_Agent</td>\n",
       "      <td>0.021328</td>\n",
       "      <td>50.804</td>\n",
       "      <td>No_change</td>\n",
       "      <td>Dumpster_v2_2</td>\n",
       "      <td>NaN</td>\n",
       "    </tr>\n",
       "    <tr>\n",
       "      <th>116076</th>\n",
       "      <td>116076</td>\n",
       "      <td>1142</td>\n",
       "      <td>1</td>\n",
       "      <td>3</td>\n",
       "      <td>1.687343e+09</td>\n",
       "      <td>0.976105</td>\n",
       "      <td>0.921483</td>\n",
       "      <td>4.616394</td>\n",
       "      <td>4.143417</td>\n",
       "      <td>31</td>\n",
       "      <td>...</td>\n",
       "      <td>0.703864</td>\n",
       "      <td>100.851547</td>\n",
       "      <td>4.619177</td>\n",
       "      <td>Background</td>\n",
       "      <td>Not_Agent</td>\n",
       "      <td>0.011408</td>\n",
       "      <td>50.804</td>\n",
       "      <td>No_change</td>\n",
       "      <td>Dumpster_v2_2</td>\n",
       "      <td>NaN</td>\n",
       "    </tr>\n",
       "    <tr>\n",
       "      <th>116077</th>\n",
       "      <td>116077</td>\n",
       "      <td>1142</td>\n",
       "      <td>1</td>\n",
       "      <td>3</td>\n",
       "      <td>1.687343e+09</td>\n",
       "      <td>0.968105</td>\n",
       "      <td>0.909955</td>\n",
       "      <td>4.613678</td>\n",
       "      <td>4.321976</td>\n",
       "      <td>31</td>\n",
       "      <td>...</td>\n",
       "      <td>0.701633</td>\n",
       "      <td>100.842506</td>\n",
       "      <td>4.620170</td>\n",
       "      <td>Background</td>\n",
       "      <td>Not_Agent</td>\n",
       "      <td>0.022319</td>\n",
       "      <td>50.805</td>\n",
       "      <td>No_change</td>\n",
       "      <td>Dumpster_v2_2</td>\n",
       "      <td>NaN</td>\n",
       "    </tr>\n",
       "    <tr>\n",
       "      <th>116078</th>\n",
       "      <td>116078</td>\n",
       "      <td>1142</td>\n",
       "      <td>1</td>\n",
       "      <td>3</td>\n",
       "      <td>1.687343e+09</td>\n",
       "      <td>0.972774</td>\n",
       "      <td>0.912351</td>\n",
       "      <td>4.617905</td>\n",
       "      <td>4.209702</td>\n",
       "      <td>31</td>\n",
       "      <td>...</td>\n",
       "      <td>0.702354</td>\n",
       "      <td>100.840897</td>\n",
       "      <td>4.620373</td>\n",
       "      <td>Background</td>\n",
       "      <td>Not_Agent</td>\n",
       "      <td>0.021824</td>\n",
       "      <td>50.805</td>\n",
       "      <td>No_change</td>\n",
       "      <td>Dumpster_v2_2</td>\n",
       "      <td>NaN</td>\n",
       "    </tr>\n",
       "    <tr>\n",
       "      <th>116079</th>\n",
       "      <td>116079</td>\n",
       "      <td>1142</td>\n",
       "      <td>1</td>\n",
       "      <td>3</td>\n",
       "      <td>1.687343e+09</td>\n",
       "      <td>0.965132</td>\n",
       "      <td>0.911314</td>\n",
       "      <td>4.618256</td>\n",
       "      <td>4.210266</td>\n",
       "      <td>31</td>\n",
       "      <td>...</td>\n",
       "      <td>0.702354</td>\n",
       "      <td>100.840897</td>\n",
       "      <td>4.621507</td>\n",
       "      <td>Background</td>\n",
       "      <td>Not_Agent</td>\n",
       "      <td>0.012400</td>\n",
       "      <td>50.805</td>\n",
       "      <td>No_change</td>\n",
       "      <td>Dumpster_v2_2</td>\n",
       "      <td>NaN</td>\n",
       "    </tr>\n",
       "    <tr>\n",
       "      <th>116080</th>\n",
       "      <td>116080</td>\n",
       "      <td>1142</td>\n",
       "      <td>1</td>\n",
       "      <td>3</td>\n",
       "      <td>1.687343e+09</td>\n",
       "      <td>0.967055</td>\n",
       "      <td>0.906238</td>\n",
       "      <td>4.608154</td>\n",
       "      <td>4.227631</td>\n",
       "      <td>31</td>\n",
       "      <td>...</td>\n",
       "      <td>0.702354</td>\n",
       "      <td>100.840897</td>\n",
       "      <td>4.620393</td>\n",
       "      <td>Background</td>\n",
       "      <td>Not_Agent</td>\n",
       "      <td>0.021328</td>\n",
       "      <td>50.806</td>\n",
       "      <td>No_change</td>\n",
       "      <td>Dumpster_v2_2</td>\n",
       "      <td>NaN</td>\n",
       "    </tr>\n",
       "    <tr>\n",
       "      <th>116081</th>\n",
       "      <td>116081</td>\n",
       "      <td>1142</td>\n",
       "      <td>1</td>\n",
       "      <td>3</td>\n",
       "      <td>1.687343e+09</td>\n",
       "      <td>0.960099</td>\n",
       "      <td>0.914309</td>\n",
       "      <td>4.616455</td>\n",
       "      <td>4.227676</td>\n",
       "      <td>31</td>\n",
       "      <td>...</td>\n",
       "      <td>0.703205</td>\n",
       "      <td>100.844704</td>\n",
       "      <td>4.619793</td>\n",
       "      <td>Background</td>\n",
       "      <td>Not_Agent</td>\n",
       "      <td>0.010912</td>\n",
       "      <td>50.806</td>\n",
       "      <td>No_change</td>\n",
       "      <td>Dumpster_v2_2</td>\n",
       "      <td>NaN</td>\n",
       "    </tr>\n",
       "    <tr>\n",
       "      <th>116082</th>\n",
       "      <td>116082</td>\n",
       "      <td>1142</td>\n",
       "      <td>1</td>\n",
       "      <td>3</td>\n",
       "      <td>1.687343e+09</td>\n",
       "      <td>0.964923</td>\n",
       "      <td>0.915499</td>\n",
       "      <td>4.616348</td>\n",
       "      <td>4.210999</td>\n",
       "      <td>31</td>\n",
       "      <td>...</td>\n",
       "      <td>0.703421</td>\n",
       "      <td>100.845291</td>\n",
       "      <td>4.619690</td>\n",
       "      <td>Background</td>\n",
       "      <td>Not_Agent</td>\n",
       "      <td>0.011409</td>\n",
       "      <td>50.806</td>\n",
       "      <td>No_change</td>\n",
       "      <td>Dumpster_v2_2</td>\n",
       "      <td>NaN</td>\n",
       "    </tr>\n",
       "    <tr>\n",
       "      <th>116083</th>\n",
       "      <td>116083</td>\n",
       "      <td>1142</td>\n",
       "      <td>1</td>\n",
       "      <td>3</td>\n",
       "      <td>1.687343e+09</td>\n",
       "      <td>0.964923</td>\n",
       "      <td>0.915499</td>\n",
       "      <td>4.616348</td>\n",
       "      <td>4.210999</td>\n",
       "      <td>31</td>\n",
       "      <td>...</td>\n",
       "      <td>0.703604</td>\n",
       "      <td>100.845367</td>\n",
       "      <td>4.619689</td>\n",
       "      <td>Background</td>\n",
       "      <td>Not_Agent</td>\n",
       "      <td>0.010911</td>\n",
       "      <td>50.806</td>\n",
       "      <td>No_change</td>\n",
       "      <td>Dumpster_v2_2</td>\n",
       "      <td>NaN</td>\n",
       "    </tr>\n",
       "    <tr>\n",
       "      <th>116084</th>\n",
       "      <td>116084</td>\n",
       "      <td>1142</td>\n",
       "      <td>1</td>\n",
       "      <td>3</td>\n",
       "      <td>1.687343e+09</td>\n",
       "      <td>0.973329</td>\n",
       "      <td>0.901817</td>\n",
       "      <td>4.619949</td>\n",
       "      <td>4.210037</td>\n",
       "      <td>31</td>\n",
       "      <td>...</td>\n",
       "      <td>0.703613</td>\n",
       "      <td>100.851967</td>\n",
       "      <td>4.618631</td>\n",
       "      <td>Background</td>\n",
       "      <td>Not_Agent</td>\n",
       "      <td>0.011905</td>\n",
       "      <td>50.806</td>\n",
       "      <td>No_change</td>\n",
       "      <td>Dumpster_v2_2</td>\n",
       "      <td>NaN</td>\n",
       "    </tr>\n",
       "    <tr>\n",
       "      <th>116085</th>\n",
       "      <td>116085</td>\n",
       "      <td>1142</td>\n",
       "      <td>1</td>\n",
       "      <td>3</td>\n",
       "      <td>1.687343e+09</td>\n",
       "      <td>0.965384</td>\n",
       "      <td>0.903568</td>\n",
       "      <td>4.621613</td>\n",
       "      <td>4.209808</td>\n",
       "      <td>31</td>\n",
       "      <td>...</td>\n",
       "      <td>0.703613</td>\n",
       "      <td>100.851967</td>\n",
       "      <td>4.618602</td>\n",
       "      <td>Background</td>\n",
       "      <td>Not_Agent</td>\n",
       "      <td>0.011904</td>\n",
       "      <td>50.806</td>\n",
       "      <td>No_change</td>\n",
       "      <td>Dumpster_v2_2</td>\n",
       "      <td>NaN</td>\n",
       "    </tr>\n",
       "    <tr>\n",
       "      <th>116086</th>\n",
       "      <td>116086</td>\n",
       "      <td>1142</td>\n",
       "      <td>1</td>\n",
       "      <td>3</td>\n",
       "      <td>1.687343e+09</td>\n",
       "      <td>0.972666</td>\n",
       "      <td>0.903842</td>\n",
       "      <td>4.621674</td>\n",
       "      <td>4.211304</td>\n",
       "      <td>31</td>\n",
       "      <td>...</td>\n",
       "      <td>0.703604</td>\n",
       "      <td>100.851967</td>\n",
       "      <td>4.618502</td>\n",
       "      <td>Background</td>\n",
       "      <td>Not_Agent</td>\n",
       "      <td>0.021327</td>\n",
       "      <td>50.807</td>\n",
       "      <td>No_change</td>\n",
       "      <td>Dumpster_v2_2</td>\n",
       "      <td>NaN</td>\n",
       "    </tr>\n",
       "    <tr>\n",
       "      <th>116087</th>\n",
       "      <td>116087</td>\n",
       "      <td>1142</td>\n",
       "      <td>1</td>\n",
       "      <td>3</td>\n",
       "      <td>1.687343e+09</td>\n",
       "      <td>0.963292</td>\n",
       "      <td>0.913379</td>\n",
       "      <td>4.637604</td>\n",
       "      <td>4.229370</td>\n",
       "      <td>31</td>\n",
       "      <td>...</td>\n",
       "      <td>0.699642</td>\n",
       "      <td>100.839943</td>\n",
       "      <td>4.620493</td>\n",
       "      <td>Background</td>\n",
       "      <td>Not_Agent</td>\n",
       "      <td>0.021825</td>\n",
       "      <td>50.807</td>\n",
       "      <td>No_change</td>\n",
       "      <td>Dumpster_v2_2</td>\n",
       "      <td>NaN</td>\n",
       "    </tr>\n",
       "    <tr>\n",
       "      <th>116088</th>\n",
       "      <td>116088</td>\n",
       "      <td>1142</td>\n",
       "      <td>1</td>\n",
       "      <td>3</td>\n",
       "      <td>1.687343e+09</td>\n",
       "      <td>0.963292</td>\n",
       "      <td>0.913379</td>\n",
       "      <td>4.637604</td>\n",
       "      <td>4.229370</td>\n",
       "      <td>31</td>\n",
       "      <td>...</td>\n",
       "      <td>0.699139</td>\n",
       "      <td>100.839767</td>\n",
       "      <td>4.620475</td>\n",
       "      <td>Background</td>\n",
       "      <td>Not_Agent</td>\n",
       "      <td>0.010912</td>\n",
       "      <td>50.807</td>\n",
       "      <td>No_change</td>\n",
       "      <td>Dumpster_v2_2</td>\n",
       "      <td>NaN</td>\n",
       "    </tr>\n",
       "    <tr>\n",
       "      <th>116089</th>\n",
       "      <td>116089</td>\n",
       "      <td>1142</td>\n",
       "      <td>1</td>\n",
       "      <td>3</td>\n",
       "      <td>1.687343e+09</td>\n",
       "      <td>0.968137</td>\n",
       "      <td>0.911599</td>\n",
       "      <td>4.638306</td>\n",
       "      <td>4.191376</td>\n",
       "      <td>31</td>\n",
       "      <td>...</td>\n",
       "      <td>0.698256</td>\n",
       "      <td>100.839767</td>\n",
       "      <td>4.621514</td>\n",
       "      <td>Background</td>\n",
       "      <td>Not_Agent</td>\n",
       "      <td>0.011408</td>\n",
       "      <td>50.808</td>\n",
       "      <td>No_change</td>\n",
       "      <td>Dumpster_v2_2</td>\n",
       "      <td>NaN</td>\n",
       "    </tr>\n",
       "    <tr>\n",
       "      <th>116090</th>\n",
       "      <td>116090</td>\n",
       "      <td>1142</td>\n",
       "      <td>1</td>\n",
       "      <td>3</td>\n",
       "      <td>1.687343e+09</td>\n",
       "      <td>0.957444</td>\n",
       "      <td>0.909189</td>\n",
       "      <td>4.638153</td>\n",
       "      <td>4.194153</td>\n",
       "      <td>31</td>\n",
       "      <td>...</td>\n",
       "      <td>0.698256</td>\n",
       "      <td>100.839943</td>\n",
       "      <td>4.620671</td>\n",
       "      <td>Background</td>\n",
       "      <td>Not_Agent</td>\n",
       "      <td>0.010912</td>\n",
       "      <td>50.808</td>\n",
       "      <td>No_change</td>\n",
       "      <td>Dumpster_v2_2</td>\n",
       "      <td>NaN</td>\n",
       "    </tr>\n",
       "    <tr>\n",
       "      <th>116091</th>\n",
       "      <td>116091</td>\n",
       "      <td>1142</td>\n",
       "      <td>1</td>\n",
       "      <td>3</td>\n",
       "      <td>1.687343e+09</td>\n",
       "      <td>0.952374</td>\n",
       "      <td>0.899282</td>\n",
       "      <td>4.641830</td>\n",
       "      <td>4.242416</td>\n",
       "      <td>31</td>\n",
       "      <td>...</td>\n",
       "      <td>0.698194</td>\n",
       "      <td>100.848679</td>\n",
       "      <td>4.618973</td>\n",
       "      <td>Background</td>\n",
       "      <td>Not_Agent</td>\n",
       "      <td>0.011407</td>\n",
       "      <td>50.808</td>\n",
       "      <td>No_change</td>\n",
       "      <td>Dumpster_v2_2</td>\n",
       "      <td>NaN</td>\n",
       "    </tr>\n",
       "    <tr>\n",
       "      <th>116092</th>\n",
       "      <td>116092</td>\n",
       "      <td>1142</td>\n",
       "      <td>1</td>\n",
       "      <td>3</td>\n",
       "      <td>1.687343e+09</td>\n",
       "      <td>0.956177</td>\n",
       "      <td>0.903619</td>\n",
       "      <td>4.641510</td>\n",
       "      <td>4.249863</td>\n",
       "      <td>31</td>\n",
       "      <td>...</td>\n",
       "      <td>0.697400</td>\n",
       "      <td>100.848679</td>\n",
       "      <td>4.618248</td>\n",
       "      <td>Background</td>\n",
       "      <td>Not_Agent</td>\n",
       "      <td>0.021824</td>\n",
       "      <td>50.808</td>\n",
       "      <td>No_change</td>\n",
       "      <td>Dumpster_v2_2</td>\n",
       "      <td>NaN</td>\n",
       "    </tr>\n",
       "    <tr>\n",
       "      <th>116093</th>\n",
       "      <td>116093</td>\n",
       "      <td>1142</td>\n",
       "      <td>1</td>\n",
       "      <td>3</td>\n",
       "      <td>1.687343e+09</td>\n",
       "      <td>0.958626</td>\n",
       "      <td>0.903279</td>\n",
       "      <td>4.641342</td>\n",
       "      <td>4.250061</td>\n",
       "      <td>31</td>\n",
       "      <td>...</td>\n",
       "      <td>0.697400</td>\n",
       "      <td>100.848679</td>\n",
       "      <td>4.617822</td>\n",
       "      <td>Background</td>\n",
       "      <td>Not_Agent</td>\n",
       "      <td>0.011905</td>\n",
       "      <td>50.809</td>\n",
       "      <td>No_change</td>\n",
       "      <td>Dumpster_v2_2</td>\n",
       "      <td>NaN</td>\n",
       "    </tr>\n",
       "    <tr>\n",
       "      <th>116094</th>\n",
       "      <td>116094</td>\n",
       "      <td>1142</td>\n",
       "      <td>1</td>\n",
       "      <td>3</td>\n",
       "      <td>1.687343e+09</td>\n",
       "      <td>0.956546</td>\n",
       "      <td>0.900538</td>\n",
       "      <td>4.669220</td>\n",
       "      <td>4.335709</td>\n",
       "      <td>31</td>\n",
       "      <td>...</td>\n",
       "      <td>0.697400</td>\n",
       "      <td>100.848679</td>\n",
       "      <td>4.619514</td>\n",
       "      <td>Background</td>\n",
       "      <td>Not_Agent</td>\n",
       "      <td>0.021824</td>\n",
       "      <td>50.809</td>\n",
       "      <td>No_change</td>\n",
       "      <td>Dumpster_v2_2</td>\n",
       "      <td>NaN</td>\n",
       "    </tr>\n",
       "  </tbody>\n",
       "</table>\n",
       "<p>50 rows × 97 columns</p>\n",
       "</div>"
      ],
      "text/plain": [
       "         index  SubjectID  Session  SessionSubsection  timeStampDataPointEnd  \\\n",
       "116045  116045       1142        1                  3           1.687343e+09   \n",
       "116046  116046       1142        1                  3           1.687343e+09   \n",
       "116047  116047       1142        1                  3           1.687343e+09   \n",
       "116048  116048       1142        1                  3           1.687343e+09   \n",
       "116049  116049       1142        1                  3           1.687343e+09   \n",
       "116050  116050       1142        1                  3           1.687343e+09   \n",
       "116051  116051       1142        1                  3           1.687343e+09   \n",
       "116052  116052       1142        1                  3           1.687343e+09   \n",
       "116053  116053       1142        1                  3           1.687343e+09   \n",
       "116054  116054       1142        1                  3           1.687343e+09   \n",
       "116055  116055       1142        1                  3           1.687343e+09   \n",
       "116056  116056       1142        1                  3           1.687343e+09   \n",
       "116057  116057       1142        1                  3           1.687343e+09   \n",
       "116058  116058       1142        1                  3           1.687343e+09   \n",
       "116059  116059       1142        1                  3           1.687343e+09   \n",
       "116060  116060       1142        1                  3           1.687343e+09   \n",
       "116061  116061       1142        1                  3           1.687343e+09   \n",
       "116062  116062       1142        1                  3           1.687343e+09   \n",
       "116063  116063       1142        1                  3           1.687343e+09   \n",
       "116064  116064       1142        1                  3           1.687343e+09   \n",
       "116065  116065       1142        1                  3           1.687343e+09   \n",
       "116066  116066       1142        1                  3           1.687343e+09   \n",
       "116067  116067       1142        1                  3           1.687343e+09   \n",
       "116068  116068       1142        1                  3           1.687343e+09   \n",
       "116069  116069       1142        1                  3           1.687343e+09   \n",
       "116070  116070       1142        1                  3           1.687343e+09   \n",
       "116071  116071       1142        1                  3           1.687343e+09   \n",
       "116072  116072       1142        1                  3           1.687343e+09   \n",
       "116073  116073       1142        1                  3           1.687343e+09   \n",
       "116074  116074       1142        1                  3           1.687343e+09   \n",
       "116075  116075       1142        1                  3           1.687343e+09   \n",
       "116076  116076       1142        1                  3           1.687343e+09   \n",
       "116077  116077       1142        1                  3           1.687343e+09   \n",
       "116078  116078       1142        1                  3           1.687343e+09   \n",
       "116079  116079       1142        1                  3           1.687343e+09   \n",
       "116080  116080       1142        1                  3           1.687343e+09   \n",
       "116081  116081       1142        1                  3           1.687343e+09   \n",
       "116082  116082       1142        1                  3           1.687343e+09   \n",
       "116083  116083       1142        1                  3           1.687343e+09   \n",
       "116084  116084       1142        1                  3           1.687343e+09   \n",
       "116085  116085       1142        1                  3           1.687343e+09   \n",
       "116086  116086       1142        1                  3           1.687343e+09   \n",
       "116087  116087       1142        1                  3           1.687343e+09   \n",
       "116088  116088       1142        1                  3           1.687343e+09   \n",
       "116089  116089       1142        1                  3           1.687343e+09   \n",
       "116090  116090       1142        1                  3           1.687343e+09   \n",
       "116091  116091       1142        1                  3           1.687343e+09   \n",
       "116092  116092       1142        1                  3           1.687343e+09   \n",
       "116093  116093       1142        1                  3           1.687343e+09   \n",
       "116094  116094       1142        1                  3           1.687343e+09   \n",
       "\n",
       "        eyeOpennessLeft  eyeOpennessRight  pupilDiameterMillimetersLeft  \\\n",
       "116045         1.000000          1.000000                      4.494644   \n",
       "116046         0.998350          0.937989                      4.502533   \n",
       "116047         1.000000          1.000000                      4.502594   \n",
       "116048         1.000000          1.000000                      4.514389   \n",
       "116049         1.000000          1.000000                      4.512970   \n",
       "116050         1.000000          1.000000                      4.513290   \n",
       "116051         1.000000          1.000000                      4.513290   \n",
       "116052         1.000000          1.000000                      4.508698   \n",
       "116053         1.000000          1.000000                      4.513000   \n",
       "116054         1.000000          1.000000                      4.513901   \n",
       "116055         1.000000          1.000000                      4.513901   \n",
       "116056         0.984499          0.917969                      4.572449   \n",
       "116057         0.985187          0.930408                      4.576370   \n",
       "116058         0.981849          0.947521                      4.576370   \n",
       "116059         0.981849          0.947521                      4.576370   \n",
       "116060         0.986014          0.924138                      4.555618   \n",
       "116061         0.978875          0.939109                      4.541977   \n",
       "116062         0.978875          0.939109                      4.541977   \n",
       "116063         0.989121          0.917508                      4.541809   \n",
       "116064         0.976740          0.930467                      4.541809   \n",
       "116065         0.976740          0.930467                      4.548981   \n",
       "116066         0.983007          0.928337                      4.548401   \n",
       "116067         0.967083          0.927172                      4.565399   \n",
       "116068         0.971514          0.920375                      4.565094   \n",
       "116069         0.976172          0.918494                      4.565247   \n",
       "116070         0.981394          0.914956                      4.577438   \n",
       "116071         0.986663          0.922655                      4.575500   \n",
       "116072         0.979297          0.926039                      4.580185   \n",
       "116073         0.970515          0.916730                      4.583054   \n",
       "116074         0.974423          0.919341                      4.579895   \n",
       "116075         0.974423          0.919341                      4.532043   \n",
       "116076         0.976105          0.921483                      4.616394   \n",
       "116077         0.968105          0.909955                      4.613678   \n",
       "116078         0.972774          0.912351                      4.617905   \n",
       "116079         0.965132          0.911314                      4.618256   \n",
       "116080         0.967055          0.906238                      4.608154   \n",
       "116081         0.960099          0.914309                      4.616455   \n",
       "116082         0.964923          0.915499                      4.616348   \n",
       "116083         0.964923          0.915499                      4.616348   \n",
       "116084         0.973329          0.901817                      4.619949   \n",
       "116085         0.965384          0.903568                      4.621613   \n",
       "116086         0.972666          0.903842                      4.621674   \n",
       "116087         0.963292          0.913379                      4.637604   \n",
       "116088         0.963292          0.913379                      4.637604   \n",
       "116089         0.968137          0.911599                      4.638306   \n",
       "116090         0.957444          0.909189                      4.638153   \n",
       "116091         0.952374          0.899282                      4.641830   \n",
       "116092         0.956177          0.903619                      4.641510   \n",
       "116093         0.958626          0.903279                      4.641342   \n",
       "116094         0.956546          0.900538                      4.669220   \n",
       "\n",
       "        pupilDiameterMillimetersRight  leftGazeValidityBitmask  ...  \\\n",
       "116045                       4.185150                       31  ...   \n",
       "116046                       4.192703                       31  ...   \n",
       "116047                       4.192657                       31  ...   \n",
       "116048                       4.210312                       31  ...   \n",
       "116049                       4.221741                       31  ...   \n",
       "116050                       4.221954                       31  ...   \n",
       "116051                       4.221954                       31  ...   \n",
       "116052                       4.217957                       31  ...   \n",
       "116053                       4.217758                       31  ...   \n",
       "116054                       4.205582                       31  ...   \n",
       "116055                       4.205582                       31  ...   \n",
       "116056                       4.212784                       31  ...   \n",
       "116057                       4.276657                       31  ...   \n",
       "116058                       4.250839                       31  ...   \n",
       "116059                       4.250839                       31  ...   \n",
       "116060                       4.264114                       31  ...   \n",
       "116061                       4.262146                       31  ...   \n",
       "116062                       4.262146                       31  ...   \n",
       "116063                       4.240631                       31  ...   \n",
       "116064                       4.240631                       31  ...   \n",
       "116065                       4.248734                       31  ...   \n",
       "116066                       4.248871                       31  ...   \n",
       "116067                       4.248657                       31  ...   \n",
       "116068                       4.209427                       31  ...   \n",
       "116069                       4.207977                       31  ...   \n",
       "116070                       4.201172                       31  ...   \n",
       "116071                       4.194901                       31  ...   \n",
       "116072                       4.202621                       31  ...   \n",
       "116073                       4.201889                       31  ...   \n",
       "116074                       4.192673                       31  ...   \n",
       "116075                       4.225204                       31  ...   \n",
       "116076                       4.143417                       31  ...   \n",
       "116077                       4.321976                       31  ...   \n",
       "116078                       4.209702                       31  ...   \n",
       "116079                       4.210266                       31  ...   \n",
       "116080                       4.227631                       31  ...   \n",
       "116081                       4.227676                       31  ...   \n",
       "116082                       4.210999                       31  ...   \n",
       "116083                       4.210999                       31  ...   \n",
       "116084                       4.210037                       31  ...   \n",
       "116085                       4.209808                       31  ...   \n",
       "116086                       4.211304                       31  ...   \n",
       "116087                       4.229370                       31  ...   \n",
       "116088                       4.229370                       31  ...   \n",
       "116089                       4.191376                       31  ...   \n",
       "116090                       4.194153                       31  ...   \n",
       "116091                       4.242416                       31  ...   \n",
       "116092                       4.249863                       31  ...   \n",
       "116093                       4.250061                       31  ...   \n",
       "116094                       4.335709                       31  ...   \n",
       "\n",
       "        hitPointOnObject_y  hitPointOnObject_z Eucledian_distance  \\\n",
       "116045            0.733514          100.771011           4.633499   \n",
       "116046            0.735419          100.766327           4.634478   \n",
       "116047            0.735715          100.766235           4.634451   \n",
       "116048            0.735817          100.765305           4.634650   \n",
       "116049            0.737244          100.764633           4.634825   \n",
       "116050            0.738034          100.764633           4.634898   \n",
       "116051            0.738869          100.764633           4.634883   \n",
       "116052            0.739336          100.767494           4.634378   \n",
       "116053            0.740494          100.768806           4.634201   \n",
       "116054            0.740494          100.769936           4.633972   \n",
       "116055            0.740494          100.770554           4.633872   \n",
       "116056            0.712328          100.853363           4.617780   \n",
       "116057            0.712328          100.857758           4.617824   \n",
       "116058            0.712328          100.871384           4.615727   \n",
       "116059            0.713212          100.871635           4.615680   \n",
       "116060            0.713316          100.871864           4.615715   \n",
       "116061            0.713937          100.898300           4.611579   \n",
       "116062            0.714550          100.898537           4.611555   \n",
       "116063            0.714634          100.898537           4.611564   \n",
       "116064            0.714634          100.898537           4.611418   \n",
       "116065            0.714634          100.897881           4.611684   \n",
       "116066            0.712224          100.897018           4.611752   \n",
       "116067            0.710071          100.896828           4.611800   \n",
       "116068            0.710071          100.896095           4.611661   \n",
       "116069            0.710071          100.895210           4.611904   \n",
       "116070            0.712158          100.889244           4.612922   \n",
       "116071            0.712158          100.886436           4.613380   \n",
       "116072            0.712158          100.886436           4.613965   \n",
       "116073            0.710331          100.883308           4.613788   \n",
       "116074            0.710331          100.882721           4.612770   \n",
       "116075            0.708944          100.866257           4.616237   \n",
       "116076            0.703864          100.851547           4.619177   \n",
       "116077            0.701633          100.842506           4.620170   \n",
       "116078            0.702354          100.840897           4.620373   \n",
       "116079            0.702354          100.840897           4.621507   \n",
       "116080            0.702354          100.840897           4.620393   \n",
       "116081            0.703205          100.844704           4.619793   \n",
       "116082            0.703421          100.845291           4.619690   \n",
       "116083            0.703604          100.845367           4.619689   \n",
       "116084            0.703613          100.851967           4.618631   \n",
       "116085            0.703613          100.851967           4.618602   \n",
       "116086            0.703604          100.851967           4.618502   \n",
       "116087            0.699642          100.839943           4.620493   \n",
       "116088            0.699139          100.839767           4.620475   \n",
       "116089            0.698256          100.839767           4.621514   \n",
       "116090            0.698256          100.839943           4.620671   \n",
       "116091            0.698194          100.848679           4.618973   \n",
       "116092            0.697400          100.848679           4.618248   \n",
       "116093            0.697400          100.848679           4.617822   \n",
       "116094            0.697400          100.848679           4.619514   \n",
       "\n",
       "       Collider_Categorical  Face_Hits  Time_Shift  Continuous_Time  \\\n",
       "116045           Background  Not_Agent    0.011407           50.796   \n",
       "116046           Background  Not_Agent    0.021329           50.797   \n",
       "116047           Background  Not_Agent    0.011904           50.797   \n",
       "116048           Background  Not_Agent    0.022321           50.797   \n",
       "116049           Background  Not_Agent    0.021823           50.798   \n",
       "116050           Background  Not_Agent    0.011408           50.798   \n",
       "116051           Background  Not_Agent    0.010911           50.798   \n",
       "116052           Background  Not_Agent    0.010417           50.798   \n",
       "116053           Background  Not_Agent    0.012399           50.798   \n",
       "116054           Background  Not_Agent    0.010912           50.798   \n",
       "116055           Background  Not_Agent    0.011408           50.799   \n",
       "116056           Background  Not_Agent    0.021824           50.799   \n",
       "116057           Background  Not_Agent    0.022321           50.799   \n",
       "116058           Background  Not_Agent    0.021824           50.800   \n",
       "116059           Background  Not_Agent    0.010912           50.800   \n",
       "116060           Background  Not_Agent    0.011408           50.800   \n",
       "116061           Background  Not_Agent    0.021824           50.801   \n",
       "116062           Background  Not_Agent    0.011408           50.801   \n",
       "116063           Background  Not_Agent    0.022320           50.801   \n",
       "116064           Background  Not_Agent    0.010913           50.801   \n",
       "116065           Background  Not_Agent    0.009920           50.801   \n",
       "116066           Background  Not_Agent    0.011904           50.802   \n",
       "116067           Background  Not_Agent    0.011904           50.802   \n",
       "116068           Background  Not_Agent    0.021824           50.802   \n",
       "116069           Background  Not_Agent    0.011409           50.802   \n",
       "116070           Background  Not_Agent    0.021822           50.803   \n",
       "116071           Background  Not_Agent    0.011408           50.803   \n",
       "116072           Background  Not_Agent    0.021825           50.803   \n",
       "116073           Background  Not_Agent    0.011408           50.803   \n",
       "116074           Background  Not_Agent    0.011407           50.804   \n",
       "116075           Background  Not_Agent    0.021328           50.804   \n",
       "116076           Background  Not_Agent    0.011408           50.804   \n",
       "116077           Background  Not_Agent    0.022319           50.805   \n",
       "116078           Background  Not_Agent    0.021824           50.805   \n",
       "116079           Background  Not_Agent    0.012400           50.805   \n",
       "116080           Background  Not_Agent    0.021328           50.806   \n",
       "116081           Background  Not_Agent    0.010912           50.806   \n",
       "116082           Background  Not_Agent    0.011409           50.806   \n",
       "116083           Background  Not_Agent    0.010911           50.806   \n",
       "116084           Background  Not_Agent    0.011905           50.806   \n",
       "116085           Background  Not_Agent    0.011904           50.806   \n",
       "116086           Background  Not_Agent    0.021327           50.807   \n",
       "116087           Background  Not_Agent    0.021825           50.807   \n",
       "116088           Background  Not_Agent    0.010912           50.807   \n",
       "116089           Background  Not_Agent    0.011408           50.808   \n",
       "116090           Background  Not_Agent    0.010912           50.808   \n",
       "116091           Background  Not_Agent    0.011407           50.808   \n",
       "116092           Background  Not_Agent    0.021824           50.808   \n",
       "116093           Background  Not_Agent    0.011905           50.809   \n",
       "116094           Background  Not_Agent    0.021824           50.809   \n",
       "\n",
       "        Bitmask_flag  Interpolated_collider   eyePositionCombinedWorld.x  \n",
       "116045     No_change          Dumpster_v2_2                          NaN  \n",
       "116046     No_change          Dumpster_v2_2                          NaN  \n",
       "116047     No_change          Dumpster_v2_2                          NaN  \n",
       "116048     No_change          Dumpster_v2_2                          NaN  \n",
       "116049     No_change          Dumpster_v2_2                          NaN  \n",
       "116050     No_change          Dumpster_v2_2                          NaN  \n",
       "116051     No_change          Dumpster_v2_2                          NaN  \n",
       "116052     No_change          Dumpster_v2_2                          NaN  \n",
       "116053     No_change          Dumpster_v2_2                          NaN  \n",
       "116054     No_change          Dumpster_v2_2                          NaN  \n",
       "116055     No_change          Dumpster_v2_2                          NaN  \n",
       "116056     No_change          Dumpster_v2_2                          NaN  \n",
       "116057     No_change          Dumpster_v2_2                          NaN  \n",
       "116058     No_change          Dumpster_v2_2                          NaN  \n",
       "116059     No_change          Dumpster_v2_2                          NaN  \n",
       "116060     No_change          Dumpster_v2_2                          NaN  \n",
       "116061     No_change          Dumpster_v2_2                          NaN  \n",
       "116062     No_change          Dumpster_v2_2                          NaN  \n",
       "116063     No_change          Dumpster_v2_2                          NaN  \n",
       "116064     No_change          Dumpster_v2_2                          NaN  \n",
       "116065     No_change          Dumpster_v2_2                          NaN  \n",
       "116066     No_change          Dumpster_v2_2                          NaN  \n",
       "116067     No_change          Dumpster_v2_2                          NaN  \n",
       "116068     No_change          Dumpster_v2_2                          NaN  \n",
       "116069     No_change          Dumpster_v2_2                          NaN  \n",
       "116070     No_change          Dumpster_v2_2                          NaN  \n",
       "116071     No_change          Dumpster_v2_2                          NaN  \n",
       "116072     No_change          Dumpster_v2_2                          NaN  \n",
       "116073     No_change          Dumpster_v2_2                          NaN  \n",
       "116074     No_change          Dumpster_v2_2                          NaN  \n",
       "116075     No_change          Dumpster_v2_2                          NaN  \n",
       "116076     No_change          Dumpster_v2_2                          NaN  \n",
       "116077     No_change          Dumpster_v2_2                          NaN  \n",
       "116078     No_change          Dumpster_v2_2                          NaN  \n",
       "116079     No_change          Dumpster_v2_2                          NaN  \n",
       "116080     No_change          Dumpster_v2_2                          NaN  \n",
       "116081     No_change          Dumpster_v2_2                          NaN  \n",
       "116082     No_change          Dumpster_v2_2                          NaN  \n",
       "116083     No_change          Dumpster_v2_2                          NaN  \n",
       "116084     No_change          Dumpster_v2_2                          NaN  \n",
       "116085     No_change          Dumpster_v2_2                          NaN  \n",
       "116086     No_change          Dumpster_v2_2                          NaN  \n",
       "116087     No_change          Dumpster_v2_2                          NaN  \n",
       "116088     No_change          Dumpster_v2_2                          NaN  \n",
       "116089     No_change          Dumpster_v2_2                          NaN  \n",
       "116090     No_change          Dumpster_v2_2                          NaN  \n",
       "116091     No_change          Dumpster_v2_2                          NaN  \n",
       "116092     No_change          Dumpster_v2_2                          NaN  \n",
       "116093     No_change          Dumpster_v2_2                          NaN  \n",
       "116094     No_change          Dumpster_v2_2                          NaN  \n",
       "\n",
       "[50 rows x 97 columns]"
      ]
     },
     "execution_count": 6,
     "metadata": {},
     "output_type": "execute_result"
    }
   ],
   "source": [
    "data_frame.tail(50)"
   ]
  }
 ],
 "metadata": {
  "kernelspec": {
   "display_name": "Python 3 (ipykernel)",
   "language": "python",
   "name": "python3"
  },
  "language_info": {
   "codemirror_mode": {
    "name": "ipython",
    "version": 3
   },
   "file_extension": ".py",
   "mimetype": "text/x-python",
   "name": "python",
   "nbconvert_exporter": "python",
   "pygments_lexer": "ipython3",
   "version": "3.12.7"
  }
 },
 "nbformat": 4,
 "nbformat_minor": 5
}
