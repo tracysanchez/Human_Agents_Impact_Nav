{
 "cells": [
  {
   "cell_type": "markdown",
   "id": "71bfb75a-c476-434a-8bf4-9d69cd4feada",
   "metadata": {},
   "source": [
    "# Calculate angles and velocities "
   ]
  },
  {
   "cell_type": "markdown",
   "id": "ea4edac8-e22a-4062-86eb-3a4fa091d456",
   "metadata": {},
   "source": [
    "Eucledian_distance.rename(columns={\"Continuous_Time\": \"time\", \n",
    "                                   \"eyePositionCombinedWorld.x\": \"xcoord_orig\", \n",
    "                                   \"eyePositionCombinedWorld.z\": \"zcoord_orig\", \n",
    "                                   \"eyePositionCombinedWorld.y\": \"ycoord_orig\", \n",
    "                                   \"hitPointOnObject_x\": \"xhpoo\", \n",
    "                                   \"hitPointOnObject_y\": \"yhpoo\", \n",
    "                                   \"hitPointOnObject_z\": \"zhpoo\" })"
   ]
  },
  {
   "cell_type": "code",
   "execution_count": 1,
   "id": "b21b5102-f4de-4903-9fdd-cba54e1cc78a",
   "metadata": {},
   "outputs": [],
   "source": [
    "import glob\n",
    "import re\n",
    "import pandas as pd\n",
    "import numpy as np \n",
    "import math \n",
    "from collections import Counter \n",
    "import seaborn as sns\n",
    "import matplotlib.pyplot as plt "
   ]
  },
  {
   "cell_type": "code",
   "execution_count": 2,
   "id": "6a86316a-ac82-44fe-9b0b-25f70a8f829b",
   "metadata": {},
   "outputs": [],
   "source": [
    "# Since the collider names are too detailed, here we create a dictionary with patterns to classify them into our categories of interest\n",
    "\n",
    "patterns = {\n",
    "    r'\\d{2}_Sa': 'Passive_Agent',\n",
    "    r'\\d{2}_Cma': 'Active_Agent',\n",
    "    r'Building_\\d+': 'Building'\n",
    "}\n",
    "\n",
    "patterns.update(dict.fromkeys([\n",
    "    'Castle-TaskBuilding_56', 'Crane_59', 'HighSilo-TaskBuilding_49',\n",
    "    'Windmill-TaskBuilding_10_1', 'Church-TaskBuilding_16'\n",
    "], 'Global_Landmark'))\n",
    "\n",
    "patterns.update(dict.fromkeys([\n",
    "    r'^TaskBuilding_2$', r'^TaskBuilding_3$', r'^TaskBuilding_5$', r'^TaskBuilding_8$', r'^TaskBuilding_9$', \n",
    "    r'^TaskBuilding_11$', r'^TaskBuilding_13$', r'^TaskBuilding_14$', r'^TaskBuilding_20$', r'^TaskBuilding_21$', \n",
    "    r'^TaskBuilding_23$', r'^TaskBuilding_27$', r'^TaskBuilding_29$', r'^TaskBuilding_32$', r'^TaskBuilding_34$',  \n",
    "    r'^TaskBuilding_38$', r'^TaskBuilding_41$', r'^TaskBuilding_42$', r'^TaskBuilding_44$', r'^TaskBuilding_45$', \n",
    "    r'^TaskBuilding_47$', r'^TaskBuilding_50$', r'^TaskBuilding_51$', r'^TaskBuilding_52$', \n",
    "    'BasketballCourt_58', 'Construction_57', \n",
    "    r'^Graffity_02$', r'^Graffity_03$', r'^Graffity_05$', r'^Graffity_08$', r'^Graffity_09$', r'^Graffity_11$', \n",
    "    r'^Graffity_13$', r'^Graffity_14$', r'^Graffity_20$', r'^Graffity_21$', r'^Graffity_23$', r'^Graffity_27$', \n",
    "    r'^Graffity_29$', r'^Graffity_32$', r'^Graffity_34$', r'^Graffity_38$', r'^Graffity_41$', r'^Graffity_42$', \n",
    "    r'^Graffity_44$', r'^Graffity_45$', r'^Graffity_47$', r'^Graffity_50$', r'^Graffity_51$', r'^Graffity_52$'\n",
    "], 'TaskBuilding_Public'))\n",
    "\n",
    "patterns.update(dict.fromkeys([\n",
    "    r'^TaskBuilding_1$', r'^TaskBuilding_4$', r'^TaskBuilding_6$', r'^TaskBuilding_7$', r'^TaskBuilding_12$', \n",
    "    r'^TaskBuilding_15$', r'^TaskBuilding_17$', r'^TaskBuilding_18$', r'^TaskBuilding_19$', r'^TaskBuilding_22$', \n",
    "    r'^TaskBuilding_24$', r'^TaskBuilding_25$', r'^TaskBuilding_26$', r'^TaskBuilding_28$', r'^TaskBuilding_30$',  \n",
    "    r'^TaskBuilding_31$', r'^TaskBuilding_33$', r'^TaskBuilding_35$', r'^TaskBuilding_36$', r'^TaskBuilding_37$', \n",
    "    r'^TaskBuilding_39$', r'^TaskBuilding_40$', r'^TaskBuilding_43$', r'^TaskBuilding_48$', r'^TaskBuilding_54$', \n",
    "    r'^TaskBuilding_55$', r'^Graffity_01$', r'^Graffity_04$', r'^Graffity_06$', r'^Graffity_07$', r'^Graffity_12$', \n",
    "    r'^Graffity_15$', r'^Graffity_17$', r'^Graffity_18$', r'^Graffity_19$', r'^Graffity_22$', r'^Graffity_24$', \n",
    "    r'^Graffity_25$', r'^Graffity_26$', r'^Graffity_28$', r'^Graffity_30$', r'^Graffity_31$', r'^Graffity_33$', \n",
    "    r'^Graffity_35$', r'^Graffity_36$', r'^Graffity_37$', r'^Graffity_39$', r'^Graffity_40$', r'^Graffity_43$', \n",
    "    r'^Graffity_48$', r'^Graffity_54$', r'^Graffity_55$'\n",
    "], 'TaskBuilding_Residential'))\n",
    "\n",
    "default_val = 'Background'"
   ]
  },
  {
   "cell_type": "code",
   "execution_count": 3,
   "id": "8b57a0a6-5fb4-468c-ab0a-5f6e29a5ee55",
   "metadata": {},
   "outputs": [],
   "source": [
    "# Function: calculate MAD saccade\n",
    "def at_mad(angular_vel, th_0=200):\n",
    "    # defines the saccade threshold (code from Ashima)\n",
    "    threshs = []\n",
    "    while True:\n",
    "        # take th_0\n",
    "        threshs.append(th_0)\n",
    "        # get all angles smaller than this\n",
    "        angular_vel = angular_vel[angular_vel < th_0]\n",
    "\n",
    "        # MAD:\n",
    "        # take the median of all angles smaller than th_0\n",
    "        median = np.median(angular_vel)\n",
    "        # substract the median value\n",
    "        diff = np.sqrt((angular_vel - median) ** 2)\n",
    "        # get the median of these values\n",
    "        med_abs_deviation = np.median(diff)\n",
    "\n",
    "        # calcualte the next threshold with the median\n",
    "        # 1.486 used when assuming a normal distribution\n",
    "        th_1 = median + 3 * 1.486 * med_abs_deviation\n",
    "        # if the thresholds are too different, redo the while loop\n",
    "        if abs(th_0 - th_1) > 1:\n",
    "            th_0 = th_1\n",
    "        # else, set the final threshold to the current one, break the while loop and return values\n",
    "        else:\n",
    "            saccade_thresh = th_1\n",
    "            threshs.append(saccade_thresh)\n",
    "            break\n",
    "    return saccade_thresh, threshs"
   ]
  },
  {
   "cell_type": "markdown",
   "id": "5b7e0ead-c2fe-4a73-9f80-2e2f0e8c0824",
   "metadata": {},
   "source": [
    "# Starts Here\n",
    "Continuos colliders method"
   ]
  },
  {
   "cell_type": "code",
   "execution_count": null,
   "id": "5bf604b8-e5bc-433b-be11-810494d17a22",
   "metadata": {
    "tags": []
   },
   "outputs": [
    {
     "name": "stderr",
     "output_type": "stream",
     "text": [
      "/var/folders/wj/11sgsjxd7x75l9tkc6r2l1p80000gn/T/ipykernel_4806/2014460613.py:505: RuntimeWarning: Mean of empty slice\n",
      "  hon_pos = [np.nanmean(hon_pos, axis=0)] * len(dist)\n",
      "/var/folders/wj/11sgsjxd7x75l9tkc6r2l1p80000gn/T/ipykernel_4806/2014460613.py:510: RuntimeWarning: Mean of empty slice\n",
      "  avg_dist = avg_dist + [np.nanmean(dist)] * len(dist)\n",
      "/var/folders/wj/11sgsjxd7x75l9tkc6r2l1p80000gn/T/ipykernel_4806/2014460613.py:537: FutureWarning: Series.fillna with 'method' is deprecated and will raise in a future version. Use obj.ffill() or obj.bfill() instead.\n",
      "  for_eye[\"names\"] =  for_eye.names.fillna(method='ffill').fillna(method='bfill')\n"
     ]
    },
    {
     "name": "stdout",
     "output_type": "stream",
     "text": [
      "1031_1\n"
     ]
    },
    {
     "name": "stderr",
     "output_type": "stream",
     "text": [
      "/var/folders/wj/11sgsjxd7x75l9tkc6r2l1p80000gn/T/ipykernel_4806/2014460613.py:505: RuntimeWarning: Mean of empty slice\n",
      "  hon_pos = [np.nanmean(hon_pos, axis=0)] * len(dist)\n",
      "/var/folders/wj/11sgsjxd7x75l9tkc6r2l1p80000gn/T/ipykernel_4806/2014460613.py:510: RuntimeWarning: Mean of empty slice\n",
      "  avg_dist = avg_dist + [np.nanmean(dist)] * len(dist)\n",
      "/var/folders/wj/11sgsjxd7x75l9tkc6r2l1p80000gn/T/ipykernel_4806/2014460613.py:537: FutureWarning: Series.fillna with 'method' is deprecated and will raise in a future version. Use obj.ffill() or obj.bfill() instead.\n",
      "  for_eye[\"names\"] =  for_eye.names.fillna(method='ffill').fillna(method='bfill')\n"
     ]
    },
    {
     "name": "stdout",
     "output_type": "stream",
     "text": [
      "1031_2\n"
     ]
    },
    {
     "name": "stderr",
     "output_type": "stream",
     "text": [
      "/var/folders/wj/11sgsjxd7x75l9tkc6r2l1p80000gn/T/ipykernel_4806/2014460613.py:505: RuntimeWarning: Mean of empty slice\n",
      "  hon_pos = [np.nanmean(hon_pos, axis=0)] * len(dist)\n",
      "/var/folders/wj/11sgsjxd7x75l9tkc6r2l1p80000gn/T/ipykernel_4806/2014460613.py:510: RuntimeWarning: Mean of empty slice\n",
      "  avg_dist = avg_dist + [np.nanmean(dist)] * len(dist)\n",
      "/var/folders/wj/11sgsjxd7x75l9tkc6r2l1p80000gn/T/ipykernel_4806/2014460613.py:537: FutureWarning: Series.fillna with 'method' is deprecated and will raise in a future version. Use obj.ffill() or obj.bfill() instead.\n",
      "  for_eye[\"names\"] =  for_eye.names.fillna(method='ffill').fillna(method='bfill')\n"
     ]
    },
    {
     "name": "stdout",
     "output_type": "stream",
     "text": [
      "1031_3\n"
     ]
    },
    {
     "name": "stderr",
     "output_type": "stream",
     "text": [
      "/var/folders/wj/11sgsjxd7x75l9tkc6r2l1p80000gn/T/ipykernel_4806/2014460613.py:505: RuntimeWarning: Mean of empty slice\n",
      "  hon_pos = [np.nanmean(hon_pos, axis=0)] * len(dist)\n",
      "/var/folders/wj/11sgsjxd7x75l9tkc6r2l1p80000gn/T/ipykernel_4806/2014460613.py:510: RuntimeWarning: Mean of empty slice\n",
      "  avg_dist = avg_dist + [np.nanmean(dist)] * len(dist)\n",
      "/var/folders/wj/11sgsjxd7x75l9tkc6r2l1p80000gn/T/ipykernel_4806/2014460613.py:537: FutureWarning: Series.fillna with 'method' is deprecated and will raise in a future version. Use obj.ffill() or obj.bfill() instead.\n",
      "  for_eye[\"names\"] =  for_eye.names.fillna(method='ffill').fillna(method='bfill')\n"
     ]
    },
    {
     "name": "stdout",
     "output_type": "stream",
     "text": [
      "1031_4\n"
     ]
    },
    {
     "name": "stderr",
     "output_type": "stream",
     "text": [
      "/opt/anaconda3/lib/python3.12/site-packages/numpy/core/fromnumeric.py:3504: RuntimeWarning: Mean of empty slice.\n",
      "  return _methods._mean(a, axis=axis, dtype=dtype,\n",
      "/opt/anaconda3/lib/python3.12/site-packages/numpy/core/_methods.py:129: RuntimeWarning: invalid value encountered in scalar divide\n",
      "  ret = ret.dtype.type(ret / rcount)\n",
      "/var/folders/wj/11sgsjxd7x75l9tkc6r2l1p80000gn/T/ipykernel_4806/2014460613.py:505: RuntimeWarning: Mean of empty slice\n",
      "  hon_pos = [np.nanmean(hon_pos, axis=0)] * len(dist)\n",
      "/var/folders/wj/11sgsjxd7x75l9tkc6r2l1p80000gn/T/ipykernel_4806/2014460613.py:510: RuntimeWarning: Mean of empty slice\n",
      "  avg_dist = avg_dist + [np.nanmean(dist)] * len(dist)\n",
      "/var/folders/wj/11sgsjxd7x75l9tkc6r2l1p80000gn/T/ipykernel_4806/2014460613.py:537: FutureWarning: Series.fillna with 'method' is deprecated and will raise in a future version. Use obj.ffill() or obj.bfill() instead.\n",
      "  for_eye[\"names\"] =  for_eye.names.fillna(method='ffill').fillna(method='bfill')\n"
     ]
    },
    {
     "name": "stdout",
     "output_type": "stream",
     "text": [
      "1031_5\n"
     ]
    },
    {
     "name": "stderr",
     "output_type": "stream",
     "text": [
      "/var/folders/wj/11sgsjxd7x75l9tkc6r2l1p80000gn/T/ipykernel_4806/2014460613.py:505: RuntimeWarning: Mean of empty slice\n",
      "  hon_pos = [np.nanmean(hon_pos, axis=0)] * len(dist)\n",
      "/var/folders/wj/11sgsjxd7x75l9tkc6r2l1p80000gn/T/ipykernel_4806/2014460613.py:510: RuntimeWarning: Mean of empty slice\n",
      "  avg_dist = avg_dist + [np.nanmean(dist)] * len(dist)\n",
      "/var/folders/wj/11sgsjxd7x75l9tkc6r2l1p80000gn/T/ipykernel_4806/2014460613.py:537: FutureWarning: Series.fillna with 'method' is deprecated and will raise in a future version. Use obj.ffill() or obj.bfill() instead.\n",
      "  for_eye[\"names\"] =  for_eye.names.fillna(method='ffill').fillna(method='bfill')\n"
     ]
    },
    {
     "name": "stdout",
     "output_type": "stream",
     "text": [
      "1268_1\n"
     ]
    },
    {
     "name": "stderr",
     "output_type": "stream",
     "text": [
      "/var/folders/wj/11sgsjxd7x75l9tkc6r2l1p80000gn/T/ipykernel_4806/2014460613.py:505: RuntimeWarning: Mean of empty slice\n",
      "  hon_pos = [np.nanmean(hon_pos, axis=0)] * len(dist)\n",
      "/var/folders/wj/11sgsjxd7x75l9tkc6r2l1p80000gn/T/ipykernel_4806/2014460613.py:510: RuntimeWarning: Mean of empty slice\n",
      "  avg_dist = avg_dist + [np.nanmean(dist)] * len(dist)\n",
      "/var/folders/wj/11sgsjxd7x75l9tkc6r2l1p80000gn/T/ipykernel_4806/2014460613.py:537: FutureWarning: Series.fillna with 'method' is deprecated and will raise in a future version. Use obj.ffill() or obj.bfill() instead.\n",
      "  for_eye[\"names\"] =  for_eye.names.fillna(method='ffill').fillna(method='bfill')\n"
     ]
    },
    {
     "name": "stdout",
     "output_type": "stream",
     "text": [
      "1268_2\n"
     ]
    },
    {
     "name": "stderr",
     "output_type": "stream",
     "text": [
      "/var/folders/wj/11sgsjxd7x75l9tkc6r2l1p80000gn/T/ipykernel_4806/2014460613.py:505: RuntimeWarning: Mean of empty slice\n",
      "  hon_pos = [np.nanmean(hon_pos, axis=0)] * len(dist)\n",
      "/var/folders/wj/11sgsjxd7x75l9tkc6r2l1p80000gn/T/ipykernel_4806/2014460613.py:510: RuntimeWarning: Mean of empty slice\n",
      "  avg_dist = avg_dist + [np.nanmean(dist)] * len(dist)\n",
      "/var/folders/wj/11sgsjxd7x75l9tkc6r2l1p80000gn/T/ipykernel_4806/2014460613.py:537: FutureWarning: Series.fillna with 'method' is deprecated and will raise in a future version. Use obj.ffill() or obj.bfill() instead.\n",
      "  for_eye[\"names\"] =  for_eye.names.fillna(method='ffill').fillna(method='bfill')\n"
     ]
    },
    {
     "name": "stdout",
     "output_type": "stream",
     "text": [
      "1268_3\n"
     ]
    },
    {
     "name": "stderr",
     "output_type": "stream",
     "text": [
      "/var/folders/wj/11sgsjxd7x75l9tkc6r2l1p80000gn/T/ipykernel_4806/2014460613.py:505: RuntimeWarning: Mean of empty slice\n",
      "  hon_pos = [np.nanmean(hon_pos, axis=0)] * len(dist)\n",
      "/var/folders/wj/11sgsjxd7x75l9tkc6r2l1p80000gn/T/ipykernel_4806/2014460613.py:510: RuntimeWarning: Mean of empty slice\n",
      "  avg_dist = avg_dist + [np.nanmean(dist)] * len(dist)\n",
      "/var/folders/wj/11sgsjxd7x75l9tkc6r2l1p80000gn/T/ipykernel_4806/2014460613.py:537: FutureWarning: Series.fillna with 'method' is deprecated and will raise in a future version. Use obj.ffill() or obj.bfill() instead.\n",
      "  for_eye[\"names\"] =  for_eye.names.fillna(method='ffill').fillna(method='bfill')\n"
     ]
    },
    {
     "name": "stdout",
     "output_type": "stream",
     "text": [
      "1268_4\n"
     ]
    },
    {
     "name": "stderr",
     "output_type": "stream",
     "text": [
      "/var/folders/wj/11sgsjxd7x75l9tkc6r2l1p80000gn/T/ipykernel_4806/2014460613.py:505: RuntimeWarning: Mean of empty slice\n",
      "  hon_pos = [np.nanmean(hon_pos, axis=0)] * len(dist)\n",
      "/var/folders/wj/11sgsjxd7x75l9tkc6r2l1p80000gn/T/ipykernel_4806/2014460613.py:510: RuntimeWarning: Mean of empty slice\n",
      "  avg_dist = avg_dist + [np.nanmean(dist)] * len(dist)\n",
      "/var/folders/wj/11sgsjxd7x75l9tkc6r2l1p80000gn/T/ipykernel_4806/2014460613.py:537: FutureWarning: Series.fillna with 'method' is deprecated and will raise in a future version. Use obj.ffill() or obj.bfill() instead.\n",
      "  for_eye[\"names\"] =  for_eye.names.fillna(method='ffill').fillna(method='bfill')\n"
     ]
    },
    {
     "name": "stdout",
     "output_type": "stream",
     "text": [
      "1268_5\n"
     ]
    },
    {
     "name": "stderr",
     "output_type": "stream",
     "text": [
      "/var/folders/wj/11sgsjxd7x75l9tkc6r2l1p80000gn/T/ipykernel_4806/2014460613.py:505: RuntimeWarning: Mean of empty slice\n",
      "  hon_pos = [np.nanmean(hon_pos, axis=0)] * len(dist)\n",
      "/var/folders/wj/11sgsjxd7x75l9tkc6r2l1p80000gn/T/ipykernel_4806/2014460613.py:510: RuntimeWarning: Mean of empty slice\n",
      "  avg_dist = avg_dist + [np.nanmean(dist)] * len(dist)\n",
      "/var/folders/wj/11sgsjxd7x75l9tkc6r2l1p80000gn/T/ipykernel_4806/2014460613.py:537: FutureWarning: Series.fillna with 'method' is deprecated and will raise in a future version. Use obj.ffill() or obj.bfill() instead.\n",
      "  for_eye[\"names\"] =  for_eye.names.fillna(method='ffill').fillna(method='bfill')\n"
     ]
    },
    {
     "name": "stdout",
     "output_type": "stream",
     "text": [
      "1574_1\n"
     ]
    },
    {
     "name": "stderr",
     "output_type": "stream",
     "text": [
      "/var/folders/wj/11sgsjxd7x75l9tkc6r2l1p80000gn/T/ipykernel_4806/2014460613.py:505: RuntimeWarning: Mean of empty slice\n",
      "  hon_pos = [np.nanmean(hon_pos, axis=0)] * len(dist)\n",
      "/var/folders/wj/11sgsjxd7x75l9tkc6r2l1p80000gn/T/ipykernel_4806/2014460613.py:510: RuntimeWarning: Mean of empty slice\n",
      "  avg_dist = avg_dist + [np.nanmean(dist)] * len(dist)\n",
      "/var/folders/wj/11sgsjxd7x75l9tkc6r2l1p80000gn/T/ipykernel_4806/2014460613.py:537: FutureWarning: Series.fillna with 'method' is deprecated and will raise in a future version. Use obj.ffill() or obj.bfill() instead.\n",
      "  for_eye[\"names\"] =  for_eye.names.fillna(method='ffill').fillna(method='bfill')\n"
     ]
    },
    {
     "name": "stdout",
     "output_type": "stream",
     "text": [
      "1574_2\n"
     ]
    },
    {
     "name": "stderr",
     "output_type": "stream",
     "text": [
      "/var/folders/wj/11sgsjxd7x75l9tkc6r2l1p80000gn/T/ipykernel_4806/2014460613.py:505: RuntimeWarning: Mean of empty slice\n",
      "  hon_pos = [np.nanmean(hon_pos, axis=0)] * len(dist)\n",
      "/var/folders/wj/11sgsjxd7x75l9tkc6r2l1p80000gn/T/ipykernel_4806/2014460613.py:510: RuntimeWarning: Mean of empty slice\n",
      "  avg_dist = avg_dist + [np.nanmean(dist)] * len(dist)\n",
      "/var/folders/wj/11sgsjxd7x75l9tkc6r2l1p80000gn/T/ipykernel_4806/2014460613.py:537: FutureWarning: Series.fillna with 'method' is deprecated and will raise in a future version. Use obj.ffill() or obj.bfill() instead.\n",
      "  for_eye[\"names\"] =  for_eye.names.fillna(method='ffill').fillna(method='bfill')\n"
     ]
    },
    {
     "name": "stdout",
     "output_type": "stream",
     "text": [
      "1574_3\n"
     ]
    },
    {
     "name": "stderr",
     "output_type": "stream",
     "text": [
      "/var/folders/wj/11sgsjxd7x75l9tkc6r2l1p80000gn/T/ipykernel_4806/2014460613.py:505: RuntimeWarning: Mean of empty slice\n",
      "  hon_pos = [np.nanmean(hon_pos, axis=0)] * len(dist)\n",
      "/var/folders/wj/11sgsjxd7x75l9tkc6r2l1p80000gn/T/ipykernel_4806/2014460613.py:510: RuntimeWarning: Mean of empty slice\n",
      "  avg_dist = avg_dist + [np.nanmean(dist)] * len(dist)\n",
      "/var/folders/wj/11sgsjxd7x75l9tkc6r2l1p80000gn/T/ipykernel_4806/2014460613.py:537: FutureWarning: Series.fillna with 'method' is deprecated and will raise in a future version. Use obj.ffill() or obj.bfill() instead.\n",
      "  for_eye[\"names\"] =  for_eye.names.fillna(method='ffill').fillna(method='bfill')\n"
     ]
    },
    {
     "name": "stdout",
     "output_type": "stream",
     "text": [
      "1574_4\n"
     ]
    },
    {
     "name": "stderr",
     "output_type": "stream",
     "text": [
      "/var/folders/wj/11sgsjxd7x75l9tkc6r2l1p80000gn/T/ipykernel_4806/2014460613.py:505: RuntimeWarning: Mean of empty slice\n",
      "  hon_pos = [np.nanmean(hon_pos, axis=0)] * len(dist)\n",
      "/var/folders/wj/11sgsjxd7x75l9tkc6r2l1p80000gn/T/ipykernel_4806/2014460613.py:510: RuntimeWarning: Mean of empty slice\n",
      "  avg_dist = avg_dist + [np.nanmean(dist)] * len(dist)\n",
      "/var/folders/wj/11sgsjxd7x75l9tkc6r2l1p80000gn/T/ipykernel_4806/2014460613.py:537: FutureWarning: Series.fillna with 'method' is deprecated and will raise in a future version. Use obj.ffill() or obj.bfill() instead.\n",
      "  for_eye[\"names\"] =  for_eye.names.fillna(method='ffill').fillna(method='bfill')\n"
     ]
    },
    {
     "name": "stdout",
     "output_type": "stream",
     "text": [
      "1574_5\n"
     ]
    },
    {
     "name": "stderr",
     "output_type": "stream",
     "text": [
      "/opt/anaconda3/lib/python3.12/site-packages/numpy/core/fromnumeric.py:3504: RuntimeWarning: Mean of empty slice.\n",
      "  return _methods._mean(a, axis=axis, dtype=dtype,\n",
      "/opt/anaconda3/lib/python3.12/site-packages/numpy/core/_methods.py:129: RuntimeWarning: invalid value encountered in scalar divide\n",
      "  ret = ret.dtype.type(ret / rcount)\n",
      "/var/folders/wj/11sgsjxd7x75l9tkc6r2l1p80000gn/T/ipykernel_4806/2014460613.py:505: RuntimeWarning: Mean of empty slice\n",
      "  hon_pos = [np.nanmean(hon_pos, axis=0)] * len(dist)\n",
      "/var/folders/wj/11sgsjxd7x75l9tkc6r2l1p80000gn/T/ipykernel_4806/2014460613.py:510: RuntimeWarning: Mean of empty slice\n",
      "  avg_dist = avg_dist + [np.nanmean(dist)] * len(dist)\n",
      "/var/folders/wj/11sgsjxd7x75l9tkc6r2l1p80000gn/T/ipykernel_4806/2014460613.py:537: FutureWarning: Series.fillna with 'method' is deprecated and will raise in a future version. Use obj.ffill() or obj.bfill() instead.\n",
      "  for_eye[\"names\"] =  for_eye.names.fillna(method='ffill').fillna(method='bfill')\n"
     ]
    },
    {
     "name": "stdout",
     "output_type": "stream",
     "text": [
      "1843_1\n"
     ]
    },
    {
     "name": "stderr",
     "output_type": "stream",
     "text": [
      "/var/folders/wj/11sgsjxd7x75l9tkc6r2l1p80000gn/T/ipykernel_4806/2014460613.py:505: RuntimeWarning: Mean of empty slice\n",
      "  hon_pos = [np.nanmean(hon_pos, axis=0)] * len(dist)\n",
      "/var/folders/wj/11sgsjxd7x75l9tkc6r2l1p80000gn/T/ipykernel_4806/2014460613.py:510: RuntimeWarning: Mean of empty slice\n",
      "  avg_dist = avg_dist + [np.nanmean(dist)] * len(dist)\n",
      "/var/folders/wj/11sgsjxd7x75l9tkc6r2l1p80000gn/T/ipykernel_4806/2014460613.py:537: FutureWarning: Series.fillna with 'method' is deprecated and will raise in a future version. Use obj.ffill() or obj.bfill() instead.\n",
      "  for_eye[\"names\"] =  for_eye.names.fillna(method='ffill').fillna(method='bfill')\n"
     ]
    },
    {
     "name": "stdout",
     "output_type": "stream",
     "text": [
      "1843_2\n"
     ]
    },
    {
     "name": "stderr",
     "output_type": "stream",
     "text": [
      "/var/folders/wj/11sgsjxd7x75l9tkc6r2l1p80000gn/T/ipykernel_4806/2014460613.py:505: RuntimeWarning: Mean of empty slice\n",
      "  hon_pos = [np.nanmean(hon_pos, axis=0)] * len(dist)\n",
      "/var/folders/wj/11sgsjxd7x75l9tkc6r2l1p80000gn/T/ipykernel_4806/2014460613.py:510: RuntimeWarning: Mean of empty slice\n",
      "  avg_dist = avg_dist + [np.nanmean(dist)] * len(dist)\n",
      "/var/folders/wj/11sgsjxd7x75l9tkc6r2l1p80000gn/T/ipykernel_4806/2014460613.py:537: FutureWarning: Series.fillna with 'method' is deprecated and will raise in a future version. Use obj.ffill() or obj.bfill() instead.\n",
      "  for_eye[\"names\"] =  for_eye.names.fillna(method='ffill').fillna(method='bfill')\n"
     ]
    },
    {
     "name": "stdout",
     "output_type": "stream",
     "text": [
      "1843_3\n"
     ]
    },
    {
     "name": "stderr",
     "output_type": "stream",
     "text": [
      "/var/folders/wj/11sgsjxd7x75l9tkc6r2l1p80000gn/T/ipykernel_4806/2014460613.py:505: RuntimeWarning: Mean of empty slice\n",
      "  hon_pos = [np.nanmean(hon_pos, axis=0)] * len(dist)\n",
      "/var/folders/wj/11sgsjxd7x75l9tkc6r2l1p80000gn/T/ipykernel_4806/2014460613.py:510: RuntimeWarning: Mean of empty slice\n",
      "  avg_dist = avg_dist + [np.nanmean(dist)] * len(dist)\n",
      "/var/folders/wj/11sgsjxd7x75l9tkc6r2l1p80000gn/T/ipykernel_4806/2014460613.py:537: FutureWarning: Series.fillna with 'method' is deprecated and will raise in a future version. Use obj.ffill() or obj.bfill() instead.\n",
      "  for_eye[\"names\"] =  for_eye.names.fillna(method='ffill').fillna(method='bfill')\n"
     ]
    },
    {
     "name": "stdout",
     "output_type": "stream",
     "text": [
      "1843_4\n"
     ]
    },
    {
     "name": "stderr",
     "output_type": "stream",
     "text": [
      "/var/folders/wj/11sgsjxd7x75l9tkc6r2l1p80000gn/T/ipykernel_4806/2014460613.py:505: RuntimeWarning: Mean of empty slice\n",
      "  hon_pos = [np.nanmean(hon_pos, axis=0)] * len(dist)\n",
      "/var/folders/wj/11sgsjxd7x75l9tkc6r2l1p80000gn/T/ipykernel_4806/2014460613.py:510: RuntimeWarning: Mean of empty slice\n",
      "  avg_dist = avg_dist + [np.nanmean(dist)] * len(dist)\n",
      "/var/folders/wj/11sgsjxd7x75l9tkc6r2l1p80000gn/T/ipykernel_4806/2014460613.py:537: FutureWarning: Series.fillna with 'method' is deprecated and will raise in a future version. Use obj.ffill() or obj.bfill() instead.\n",
      "  for_eye[\"names\"] =  for_eye.names.fillna(method='ffill').fillna(method='bfill')\n"
     ]
    },
    {
     "name": "stdout",
     "output_type": "stream",
     "text": [
      "1843_5\n"
     ]
    },
    {
     "name": "stderr",
     "output_type": "stream",
     "text": [
      "/var/folders/wj/11sgsjxd7x75l9tkc6r2l1p80000gn/T/ipykernel_4806/2014460613.py:505: RuntimeWarning: Mean of empty slice\n",
      "  hon_pos = [np.nanmean(hon_pos, axis=0)] * len(dist)\n",
      "/var/folders/wj/11sgsjxd7x75l9tkc6r2l1p80000gn/T/ipykernel_4806/2014460613.py:510: RuntimeWarning: Mean of empty slice\n",
      "  avg_dist = avg_dist + [np.nanmean(dist)] * len(dist)\n",
      "/var/folders/wj/11sgsjxd7x75l9tkc6r2l1p80000gn/T/ipykernel_4806/2014460613.py:537: FutureWarning: Series.fillna with 'method' is deprecated and will raise in a future version. Use obj.ffill() or obj.bfill() instead.\n",
      "  for_eye[\"names\"] =  for_eye.names.fillna(method='ffill').fillna(method='bfill')\n"
     ]
    },
    {
     "name": "stdout",
     "output_type": "stream",
     "text": [
      "2069_1\n"
     ]
    },
    {
     "name": "stderr",
     "output_type": "stream",
     "text": [
      "/var/folders/wj/11sgsjxd7x75l9tkc6r2l1p80000gn/T/ipykernel_4806/2014460613.py:505: RuntimeWarning: Mean of empty slice\n",
      "  hon_pos = [np.nanmean(hon_pos, axis=0)] * len(dist)\n",
      "/var/folders/wj/11sgsjxd7x75l9tkc6r2l1p80000gn/T/ipykernel_4806/2014460613.py:510: RuntimeWarning: Mean of empty slice\n",
      "  avg_dist = avg_dist + [np.nanmean(dist)] * len(dist)\n",
      "/var/folders/wj/11sgsjxd7x75l9tkc6r2l1p80000gn/T/ipykernel_4806/2014460613.py:537: FutureWarning: Series.fillna with 'method' is deprecated and will raise in a future version. Use obj.ffill() or obj.bfill() instead.\n",
      "  for_eye[\"names\"] =  for_eye.names.fillna(method='ffill').fillna(method='bfill')\n"
     ]
    },
    {
     "name": "stdout",
     "output_type": "stream",
     "text": [
      "2069_2\n"
     ]
    },
    {
     "name": "stderr",
     "output_type": "stream",
     "text": [
      "/var/folders/wj/11sgsjxd7x75l9tkc6r2l1p80000gn/T/ipykernel_4806/2014460613.py:505: RuntimeWarning: Mean of empty slice\n",
      "  hon_pos = [np.nanmean(hon_pos, axis=0)] * len(dist)\n",
      "/var/folders/wj/11sgsjxd7x75l9tkc6r2l1p80000gn/T/ipykernel_4806/2014460613.py:510: RuntimeWarning: Mean of empty slice\n",
      "  avg_dist = avg_dist + [np.nanmean(dist)] * len(dist)\n",
      "/var/folders/wj/11sgsjxd7x75l9tkc6r2l1p80000gn/T/ipykernel_4806/2014460613.py:537: FutureWarning: Series.fillna with 'method' is deprecated and will raise in a future version. Use obj.ffill() or obj.bfill() instead.\n",
      "  for_eye[\"names\"] =  for_eye.names.fillna(method='ffill').fillna(method='bfill')\n"
     ]
    },
    {
     "name": "stdout",
     "output_type": "stream",
     "text": [
      "2069_3\n"
     ]
    },
    {
     "name": "stderr",
     "output_type": "stream",
     "text": [
      "/var/folders/wj/11sgsjxd7x75l9tkc6r2l1p80000gn/T/ipykernel_4806/2014460613.py:505: RuntimeWarning: Mean of empty slice\n",
      "  hon_pos = [np.nanmean(hon_pos, axis=0)] * len(dist)\n",
      "/var/folders/wj/11sgsjxd7x75l9tkc6r2l1p80000gn/T/ipykernel_4806/2014460613.py:510: RuntimeWarning: Mean of empty slice\n",
      "  avg_dist = avg_dist + [np.nanmean(dist)] * len(dist)\n",
      "/var/folders/wj/11sgsjxd7x75l9tkc6r2l1p80000gn/T/ipykernel_4806/2014460613.py:537: FutureWarning: Series.fillna with 'method' is deprecated and will raise in a future version. Use obj.ffill() or obj.bfill() instead.\n",
      "  for_eye[\"names\"] =  for_eye.names.fillna(method='ffill').fillna(method='bfill')\n"
     ]
    },
    {
     "name": "stdout",
     "output_type": "stream",
     "text": [
      "2069_4\n"
     ]
    },
    {
     "name": "stderr",
     "output_type": "stream",
     "text": [
      "/var/folders/wj/11sgsjxd7x75l9tkc6r2l1p80000gn/T/ipykernel_4806/2014460613.py:505: RuntimeWarning: Mean of empty slice\n",
      "  hon_pos = [np.nanmean(hon_pos, axis=0)] * len(dist)\n",
      "/var/folders/wj/11sgsjxd7x75l9tkc6r2l1p80000gn/T/ipykernel_4806/2014460613.py:510: RuntimeWarning: Mean of empty slice\n",
      "  avg_dist = avg_dist + [np.nanmean(dist)] * len(dist)\n",
      "/var/folders/wj/11sgsjxd7x75l9tkc6r2l1p80000gn/T/ipykernel_4806/2014460613.py:537: FutureWarning: Series.fillna with 'method' is deprecated and will raise in a future version. Use obj.ffill() or obj.bfill() instead.\n",
      "  for_eye[\"names\"] =  for_eye.names.fillna(method='ffill').fillna(method='bfill')\n"
     ]
    },
    {
     "name": "stdout",
     "output_type": "stream",
     "text": [
      "2069_5\n"
     ]
    },
    {
     "name": "stderr",
     "output_type": "stream",
     "text": [
      "/var/folders/wj/11sgsjxd7x75l9tkc6r2l1p80000gn/T/ipykernel_4806/2014460613.py:505: RuntimeWarning: Mean of empty slice\n",
      "  hon_pos = [np.nanmean(hon_pos, axis=0)] * len(dist)\n",
      "/var/folders/wj/11sgsjxd7x75l9tkc6r2l1p80000gn/T/ipykernel_4806/2014460613.py:510: RuntimeWarning: Mean of empty slice\n",
      "  avg_dist = avg_dist + [np.nanmean(dist)] * len(dist)\n",
      "/var/folders/wj/11sgsjxd7x75l9tkc6r2l1p80000gn/T/ipykernel_4806/2014460613.py:537: FutureWarning: Series.fillna with 'method' is deprecated and will raise in a future version. Use obj.ffill() or obj.bfill() instead.\n",
      "  for_eye[\"names\"] =  for_eye.names.fillna(method='ffill').fillna(method='bfill')\n"
     ]
    },
    {
     "name": "stdout",
     "output_type": "stream",
     "text": [
      "3193_1\n"
     ]
    },
    {
     "name": "stderr",
     "output_type": "stream",
     "text": [
      "/var/folders/wj/11sgsjxd7x75l9tkc6r2l1p80000gn/T/ipykernel_4806/2014460613.py:505: RuntimeWarning: Mean of empty slice\n",
      "  hon_pos = [np.nanmean(hon_pos, axis=0)] * len(dist)\n",
      "/var/folders/wj/11sgsjxd7x75l9tkc6r2l1p80000gn/T/ipykernel_4806/2014460613.py:510: RuntimeWarning: Mean of empty slice\n",
      "  avg_dist = avg_dist + [np.nanmean(dist)] * len(dist)\n",
      "/var/folders/wj/11sgsjxd7x75l9tkc6r2l1p80000gn/T/ipykernel_4806/2014460613.py:537: FutureWarning: Series.fillna with 'method' is deprecated and will raise in a future version. Use obj.ffill() or obj.bfill() instead.\n",
      "  for_eye[\"names\"] =  for_eye.names.fillna(method='ffill').fillna(method='bfill')\n"
     ]
    },
    {
     "name": "stdout",
     "output_type": "stream",
     "text": [
      "3193_2\n"
     ]
    },
    {
     "name": "stderr",
     "output_type": "stream",
     "text": [
      "/var/folders/wj/11sgsjxd7x75l9tkc6r2l1p80000gn/T/ipykernel_4806/2014460613.py:505: RuntimeWarning: Mean of empty slice\n",
      "  hon_pos = [np.nanmean(hon_pos, axis=0)] * len(dist)\n",
      "/var/folders/wj/11sgsjxd7x75l9tkc6r2l1p80000gn/T/ipykernel_4806/2014460613.py:510: RuntimeWarning: Mean of empty slice\n",
      "  avg_dist = avg_dist + [np.nanmean(dist)] * len(dist)\n",
      "/var/folders/wj/11sgsjxd7x75l9tkc6r2l1p80000gn/T/ipykernel_4806/2014460613.py:537: FutureWarning: Series.fillna with 'method' is deprecated and will raise in a future version. Use obj.ffill() or obj.bfill() instead.\n",
      "  for_eye[\"names\"] =  for_eye.names.fillna(method='ffill').fillna(method='bfill')\n"
     ]
    },
    {
     "name": "stdout",
     "output_type": "stream",
     "text": [
      "3193_3\n"
     ]
    },
    {
     "name": "stderr",
     "output_type": "stream",
     "text": [
      "/var/folders/wj/11sgsjxd7x75l9tkc6r2l1p80000gn/T/ipykernel_4806/2014460613.py:505: RuntimeWarning: Mean of empty slice\n",
      "  hon_pos = [np.nanmean(hon_pos, axis=0)] * len(dist)\n",
      "/var/folders/wj/11sgsjxd7x75l9tkc6r2l1p80000gn/T/ipykernel_4806/2014460613.py:510: RuntimeWarning: Mean of empty slice\n",
      "  avg_dist = avg_dist + [np.nanmean(dist)] * len(dist)\n",
      "/var/folders/wj/11sgsjxd7x75l9tkc6r2l1p80000gn/T/ipykernel_4806/2014460613.py:537: FutureWarning: Series.fillna with 'method' is deprecated and will raise in a future version. Use obj.ffill() or obj.bfill() instead.\n",
      "  for_eye[\"names\"] =  for_eye.names.fillna(method='ffill').fillna(method='bfill')\n"
     ]
    },
    {
     "name": "stdout",
     "output_type": "stream",
     "text": [
      "3193_4\n"
     ]
    },
    {
     "name": "stderr",
     "output_type": "stream",
     "text": [
      "/var/folders/wj/11sgsjxd7x75l9tkc6r2l1p80000gn/T/ipykernel_4806/2014460613.py:505: RuntimeWarning: Mean of empty slice\n",
      "  hon_pos = [np.nanmean(hon_pos, axis=0)] * len(dist)\n",
      "/var/folders/wj/11sgsjxd7x75l9tkc6r2l1p80000gn/T/ipykernel_4806/2014460613.py:510: RuntimeWarning: Mean of empty slice\n",
      "  avg_dist = avg_dist + [np.nanmean(dist)] * len(dist)\n",
      "/var/folders/wj/11sgsjxd7x75l9tkc6r2l1p80000gn/T/ipykernel_4806/2014460613.py:537: FutureWarning: Series.fillna with 'method' is deprecated and will raise in a future version. Use obj.ffill() or obj.bfill() instead.\n",
      "  for_eye[\"names\"] =  for_eye.names.fillna(method='ffill').fillna(method='bfill')\n"
     ]
    },
    {
     "name": "stdout",
     "output_type": "stream",
     "text": [
      "3193_5\n"
     ]
    },
    {
     "name": "stderr",
     "output_type": "stream",
     "text": [
      "/var/folders/wj/11sgsjxd7x75l9tkc6r2l1p80000gn/T/ipykernel_4806/2014460613.py:505: RuntimeWarning: Mean of empty slice\n",
      "  hon_pos = [np.nanmean(hon_pos, axis=0)] * len(dist)\n",
      "/var/folders/wj/11sgsjxd7x75l9tkc6r2l1p80000gn/T/ipykernel_4806/2014460613.py:510: RuntimeWarning: Mean of empty slice\n",
      "  avg_dist = avg_dist + [np.nanmean(dist)] * len(dist)\n",
      "/var/folders/wj/11sgsjxd7x75l9tkc6r2l1p80000gn/T/ipykernel_4806/2014460613.py:537: FutureWarning: Series.fillna with 'method' is deprecated and will raise in a future version. Use obj.ffill() or obj.bfill() instead.\n",
      "  for_eye[\"names\"] =  for_eye.names.fillna(method='ffill').fillna(method='bfill')\n"
     ]
    },
    {
     "name": "stdout",
     "output_type": "stream",
     "text": [
      "3540_1\n"
     ]
    },
    {
     "name": "stderr",
     "output_type": "stream",
     "text": [
      "/var/folders/wj/11sgsjxd7x75l9tkc6r2l1p80000gn/T/ipykernel_4806/2014460613.py:505: RuntimeWarning: Mean of empty slice\n",
      "  hon_pos = [np.nanmean(hon_pos, axis=0)] * len(dist)\n",
      "/var/folders/wj/11sgsjxd7x75l9tkc6r2l1p80000gn/T/ipykernel_4806/2014460613.py:510: RuntimeWarning: Mean of empty slice\n",
      "  avg_dist = avg_dist + [np.nanmean(dist)] * len(dist)\n",
      "/var/folders/wj/11sgsjxd7x75l9tkc6r2l1p80000gn/T/ipykernel_4806/2014460613.py:537: FutureWarning: Series.fillna with 'method' is deprecated and will raise in a future version. Use obj.ffill() or obj.bfill() instead.\n",
      "  for_eye[\"names\"] =  for_eye.names.fillna(method='ffill').fillna(method='bfill')\n"
     ]
    },
    {
     "name": "stdout",
     "output_type": "stream",
     "text": [
      "3540_2\n"
     ]
    },
    {
     "name": "stderr",
     "output_type": "stream",
     "text": [
      "/var/folders/wj/11sgsjxd7x75l9tkc6r2l1p80000gn/T/ipykernel_4806/2014460613.py:505: RuntimeWarning: Mean of empty slice\n",
      "  hon_pos = [np.nanmean(hon_pos, axis=0)] * len(dist)\n",
      "/var/folders/wj/11sgsjxd7x75l9tkc6r2l1p80000gn/T/ipykernel_4806/2014460613.py:510: RuntimeWarning: Mean of empty slice\n",
      "  avg_dist = avg_dist + [np.nanmean(dist)] * len(dist)\n",
      "/var/folders/wj/11sgsjxd7x75l9tkc6r2l1p80000gn/T/ipykernel_4806/2014460613.py:537: FutureWarning: Series.fillna with 'method' is deprecated and will raise in a future version. Use obj.ffill() or obj.bfill() instead.\n",
      "  for_eye[\"names\"] =  for_eye.names.fillna(method='ffill').fillna(method='bfill')\n"
     ]
    },
    {
     "name": "stdout",
     "output_type": "stream",
     "text": [
      "3540_3\n"
     ]
    },
    {
     "name": "stderr",
     "output_type": "stream",
     "text": [
      "/var/folders/wj/11sgsjxd7x75l9tkc6r2l1p80000gn/T/ipykernel_4806/2014460613.py:505: RuntimeWarning: Mean of empty slice\n",
      "  hon_pos = [np.nanmean(hon_pos, axis=0)] * len(dist)\n",
      "/var/folders/wj/11sgsjxd7x75l9tkc6r2l1p80000gn/T/ipykernel_4806/2014460613.py:510: RuntimeWarning: Mean of empty slice\n",
      "  avg_dist = avg_dist + [np.nanmean(dist)] * len(dist)\n",
      "/var/folders/wj/11sgsjxd7x75l9tkc6r2l1p80000gn/T/ipykernel_4806/2014460613.py:537: FutureWarning: Series.fillna with 'method' is deprecated and will raise in a future version. Use obj.ffill() or obj.bfill() instead.\n",
      "  for_eye[\"names\"] =  for_eye.names.fillna(method='ffill').fillna(method='bfill')\n"
     ]
    },
    {
     "name": "stdout",
     "output_type": "stream",
     "text": [
      "3540_4\n"
     ]
    },
    {
     "name": "stderr",
     "output_type": "stream",
     "text": [
      "/var/folders/wj/11sgsjxd7x75l9tkc6r2l1p80000gn/T/ipykernel_4806/2014460613.py:505: RuntimeWarning: Mean of empty slice\n",
      "  hon_pos = [np.nanmean(hon_pos, axis=0)] * len(dist)\n",
      "/var/folders/wj/11sgsjxd7x75l9tkc6r2l1p80000gn/T/ipykernel_4806/2014460613.py:510: RuntimeWarning: Mean of empty slice\n",
      "  avg_dist = avg_dist + [np.nanmean(dist)] * len(dist)\n",
      "/var/folders/wj/11sgsjxd7x75l9tkc6r2l1p80000gn/T/ipykernel_4806/2014460613.py:537: FutureWarning: Series.fillna with 'method' is deprecated and will raise in a future version. Use obj.ffill() or obj.bfill() instead.\n",
      "  for_eye[\"names\"] =  for_eye.names.fillna(method='ffill').fillna(method='bfill')\n"
     ]
    },
    {
     "name": "stdout",
     "output_type": "stream",
     "text": [
      "3540_5\n"
     ]
    },
    {
     "name": "stderr",
     "output_type": "stream",
     "text": [
      "/opt/anaconda3/lib/python3.12/site-packages/numpy/core/fromnumeric.py:3504: RuntimeWarning: Mean of empty slice.\n",
      "  return _methods._mean(a, axis=axis, dtype=dtype,\n",
      "/opt/anaconda3/lib/python3.12/site-packages/numpy/core/_methods.py:129: RuntimeWarning: invalid value encountered in scalar divide\n",
      "  ret = ret.dtype.type(ret / rcount)\n",
      "/var/folders/wj/11sgsjxd7x75l9tkc6r2l1p80000gn/T/ipykernel_4806/2014460613.py:505: RuntimeWarning: Mean of empty slice\n",
      "  hon_pos = [np.nanmean(hon_pos, axis=0)] * len(dist)\n",
      "/var/folders/wj/11sgsjxd7x75l9tkc6r2l1p80000gn/T/ipykernel_4806/2014460613.py:510: RuntimeWarning: Mean of empty slice\n",
      "  avg_dist = avg_dist + [np.nanmean(dist)] * len(dist)\n",
      "/var/folders/wj/11sgsjxd7x75l9tkc6r2l1p80000gn/T/ipykernel_4806/2014460613.py:537: FutureWarning: Series.fillna with 'method' is deprecated and will raise in a future version. Use obj.ffill() or obj.bfill() instead.\n",
      "  for_eye[\"names\"] =  for_eye.names.fillna(method='ffill').fillna(method='bfill')\n"
     ]
    },
    {
     "name": "stdout",
     "output_type": "stream",
     "text": [
      "4580_1\n"
     ]
    },
    {
     "name": "stderr",
     "output_type": "stream",
     "text": [
      "/var/folders/wj/11sgsjxd7x75l9tkc6r2l1p80000gn/T/ipykernel_4806/2014460613.py:505: RuntimeWarning: Mean of empty slice\n",
      "  hon_pos = [np.nanmean(hon_pos, axis=0)] * len(dist)\n",
      "/var/folders/wj/11sgsjxd7x75l9tkc6r2l1p80000gn/T/ipykernel_4806/2014460613.py:510: RuntimeWarning: Mean of empty slice\n",
      "  avg_dist = avg_dist + [np.nanmean(dist)] * len(dist)\n",
      "/var/folders/wj/11sgsjxd7x75l9tkc6r2l1p80000gn/T/ipykernel_4806/2014460613.py:537: FutureWarning: Series.fillna with 'method' is deprecated and will raise in a future version. Use obj.ffill() or obj.bfill() instead.\n",
      "  for_eye[\"names\"] =  for_eye.names.fillna(method='ffill').fillna(method='bfill')\n"
     ]
    },
    {
     "name": "stdout",
     "output_type": "stream",
     "text": [
      "4580_2\n"
     ]
    },
    {
     "name": "stderr",
     "output_type": "stream",
     "text": [
      "/opt/anaconda3/lib/python3.12/site-packages/numpy/core/fromnumeric.py:3504: RuntimeWarning: Mean of empty slice.\n",
      "  return _methods._mean(a, axis=axis, dtype=dtype,\n",
      "/opt/anaconda3/lib/python3.12/site-packages/numpy/core/_methods.py:129: RuntimeWarning: invalid value encountered in scalar divide\n",
      "  ret = ret.dtype.type(ret / rcount)\n",
      "/var/folders/wj/11sgsjxd7x75l9tkc6r2l1p80000gn/T/ipykernel_4806/2014460613.py:505: RuntimeWarning: Mean of empty slice\n",
      "  hon_pos = [np.nanmean(hon_pos, axis=0)] * len(dist)\n",
      "/var/folders/wj/11sgsjxd7x75l9tkc6r2l1p80000gn/T/ipykernel_4806/2014460613.py:510: RuntimeWarning: Mean of empty slice\n",
      "  avg_dist = avg_dist + [np.nanmean(dist)] * len(dist)\n",
      "/var/folders/wj/11sgsjxd7x75l9tkc6r2l1p80000gn/T/ipykernel_4806/2014460613.py:537: FutureWarning: Series.fillna with 'method' is deprecated and will raise in a future version. Use obj.ffill() or obj.bfill() instead.\n",
      "  for_eye[\"names\"] =  for_eye.names.fillna(method='ffill').fillna(method='bfill')\n"
     ]
    },
    {
     "name": "stdout",
     "output_type": "stream",
     "text": [
      "4580_3\n"
     ]
    },
    {
     "name": "stderr",
     "output_type": "stream",
     "text": [
      "/opt/anaconda3/lib/python3.12/site-packages/numpy/core/fromnumeric.py:3504: RuntimeWarning: Mean of empty slice.\n",
      "  return _methods._mean(a, axis=axis, dtype=dtype,\n",
      "/opt/anaconda3/lib/python3.12/site-packages/numpy/core/_methods.py:129: RuntimeWarning: invalid value encountered in scalar divide\n",
      "  ret = ret.dtype.type(ret / rcount)\n",
      "/var/folders/wj/11sgsjxd7x75l9tkc6r2l1p80000gn/T/ipykernel_4806/2014460613.py:505: RuntimeWarning: Mean of empty slice\n",
      "  hon_pos = [np.nanmean(hon_pos, axis=0)] * len(dist)\n",
      "/var/folders/wj/11sgsjxd7x75l9tkc6r2l1p80000gn/T/ipykernel_4806/2014460613.py:510: RuntimeWarning: Mean of empty slice\n",
      "  avg_dist = avg_dist + [np.nanmean(dist)] * len(dist)\n",
      "/var/folders/wj/11sgsjxd7x75l9tkc6r2l1p80000gn/T/ipykernel_4806/2014460613.py:537: FutureWarning: Series.fillna with 'method' is deprecated and will raise in a future version. Use obj.ffill() or obj.bfill() instead.\n",
      "  for_eye[\"names\"] =  for_eye.names.fillna(method='ffill').fillna(method='bfill')\n"
     ]
    },
    {
     "name": "stdout",
     "output_type": "stream",
     "text": [
      "4580_4\n"
     ]
    },
    {
     "name": "stderr",
     "output_type": "stream",
     "text": [
      "/var/folders/wj/11sgsjxd7x75l9tkc6r2l1p80000gn/T/ipykernel_4806/2014460613.py:505: RuntimeWarning: Mean of empty slice\n",
      "  hon_pos = [np.nanmean(hon_pos, axis=0)] * len(dist)\n",
      "/var/folders/wj/11sgsjxd7x75l9tkc6r2l1p80000gn/T/ipykernel_4806/2014460613.py:510: RuntimeWarning: Mean of empty slice\n",
      "  avg_dist = avg_dist + [np.nanmean(dist)] * len(dist)\n",
      "/var/folders/wj/11sgsjxd7x75l9tkc6r2l1p80000gn/T/ipykernel_4806/2014460613.py:537: FutureWarning: Series.fillna with 'method' is deprecated and will raise in a future version. Use obj.ffill() or obj.bfill() instead.\n",
      "  for_eye[\"names\"] =  for_eye.names.fillna(method='ffill').fillna(method='bfill')\n"
     ]
    },
    {
     "name": "stdout",
     "output_type": "stream",
     "text": [
      "4580_5\n"
     ]
    },
    {
     "name": "stderr",
     "output_type": "stream",
     "text": [
      "/var/folders/wj/11sgsjxd7x75l9tkc6r2l1p80000gn/T/ipykernel_4806/2014460613.py:505: RuntimeWarning: Mean of empty slice\n",
      "  hon_pos = [np.nanmean(hon_pos, axis=0)] * len(dist)\n",
      "/var/folders/wj/11sgsjxd7x75l9tkc6r2l1p80000gn/T/ipykernel_4806/2014460613.py:510: RuntimeWarning: Mean of empty slice\n",
      "  avg_dist = avg_dist + [np.nanmean(dist)] * len(dist)\n",
      "/var/folders/wj/11sgsjxd7x75l9tkc6r2l1p80000gn/T/ipykernel_4806/2014460613.py:537: FutureWarning: Series.fillna with 'method' is deprecated and will raise in a future version. Use obj.ffill() or obj.bfill() instead.\n",
      "  for_eye[\"names\"] =  for_eye.names.fillna(method='ffill').fillna(method='bfill')\n"
     ]
    },
    {
     "name": "stdout",
     "output_type": "stream",
     "text": [
      "4598_1\n"
     ]
    },
    {
     "name": "stderr",
     "output_type": "stream",
     "text": [
      "/var/folders/wj/11sgsjxd7x75l9tkc6r2l1p80000gn/T/ipykernel_4806/2014460613.py:505: RuntimeWarning: Mean of empty slice\n",
      "  hon_pos = [np.nanmean(hon_pos, axis=0)] * len(dist)\n",
      "/var/folders/wj/11sgsjxd7x75l9tkc6r2l1p80000gn/T/ipykernel_4806/2014460613.py:510: RuntimeWarning: Mean of empty slice\n",
      "  avg_dist = avg_dist + [np.nanmean(dist)] * len(dist)\n",
      "/var/folders/wj/11sgsjxd7x75l9tkc6r2l1p80000gn/T/ipykernel_4806/2014460613.py:537: FutureWarning: Series.fillna with 'method' is deprecated and will raise in a future version. Use obj.ffill() or obj.bfill() instead.\n",
      "  for_eye[\"names\"] =  for_eye.names.fillna(method='ffill').fillna(method='bfill')\n"
     ]
    },
    {
     "name": "stdout",
     "output_type": "stream",
     "text": [
      "4598_2\n"
     ]
    },
    {
     "name": "stderr",
     "output_type": "stream",
     "text": [
      "/var/folders/wj/11sgsjxd7x75l9tkc6r2l1p80000gn/T/ipykernel_4806/2014460613.py:505: RuntimeWarning: Mean of empty slice\n",
      "  hon_pos = [np.nanmean(hon_pos, axis=0)] * len(dist)\n",
      "/var/folders/wj/11sgsjxd7x75l9tkc6r2l1p80000gn/T/ipykernel_4806/2014460613.py:510: RuntimeWarning: Mean of empty slice\n",
      "  avg_dist = avg_dist + [np.nanmean(dist)] * len(dist)\n",
      "/var/folders/wj/11sgsjxd7x75l9tkc6r2l1p80000gn/T/ipykernel_4806/2014460613.py:537: FutureWarning: Series.fillna with 'method' is deprecated and will raise in a future version. Use obj.ffill() or obj.bfill() instead.\n",
      "  for_eye[\"names\"] =  for_eye.names.fillna(method='ffill').fillna(method='bfill')\n"
     ]
    },
    {
     "name": "stdout",
     "output_type": "stream",
     "text": [
      "4598_3\n"
     ]
    },
    {
     "name": "stderr",
     "output_type": "stream",
     "text": [
      "/var/folders/wj/11sgsjxd7x75l9tkc6r2l1p80000gn/T/ipykernel_4806/2014460613.py:505: RuntimeWarning: Mean of empty slice\n",
      "  hon_pos = [np.nanmean(hon_pos, axis=0)] * len(dist)\n",
      "/var/folders/wj/11sgsjxd7x75l9tkc6r2l1p80000gn/T/ipykernel_4806/2014460613.py:510: RuntimeWarning: Mean of empty slice\n",
      "  avg_dist = avg_dist + [np.nanmean(dist)] * len(dist)\n",
      "/var/folders/wj/11sgsjxd7x75l9tkc6r2l1p80000gn/T/ipykernel_4806/2014460613.py:537: FutureWarning: Series.fillna with 'method' is deprecated and will raise in a future version. Use obj.ffill() or obj.bfill() instead.\n",
      "  for_eye[\"names\"] =  for_eye.names.fillna(method='ffill').fillna(method='bfill')\n"
     ]
    },
    {
     "name": "stdout",
     "output_type": "stream",
     "text": [
      "4598_4\n"
     ]
    },
    {
     "name": "stderr",
     "output_type": "stream",
     "text": [
      "/var/folders/wj/11sgsjxd7x75l9tkc6r2l1p80000gn/T/ipykernel_4806/2014460613.py:505: RuntimeWarning: Mean of empty slice\n",
      "  hon_pos = [np.nanmean(hon_pos, axis=0)] * len(dist)\n",
      "/var/folders/wj/11sgsjxd7x75l9tkc6r2l1p80000gn/T/ipykernel_4806/2014460613.py:510: RuntimeWarning: Mean of empty slice\n",
      "  avg_dist = avg_dist + [np.nanmean(dist)] * len(dist)\n",
      "/var/folders/wj/11sgsjxd7x75l9tkc6r2l1p80000gn/T/ipykernel_4806/2014460613.py:537: FutureWarning: Series.fillna with 'method' is deprecated and will raise in a future version. Use obj.ffill() or obj.bfill() instead.\n",
      "  for_eye[\"names\"] =  for_eye.names.fillna(method='ffill').fillna(method='bfill')\n"
     ]
    },
    {
     "name": "stdout",
     "output_type": "stream",
     "text": [
      "4598_5\n"
     ]
    },
    {
     "name": "stderr",
     "output_type": "stream",
     "text": [
      "/var/folders/wj/11sgsjxd7x75l9tkc6r2l1p80000gn/T/ipykernel_4806/2014460613.py:505: RuntimeWarning: Mean of empty slice\n",
      "  hon_pos = [np.nanmean(hon_pos, axis=0)] * len(dist)\n",
      "/var/folders/wj/11sgsjxd7x75l9tkc6r2l1p80000gn/T/ipykernel_4806/2014460613.py:510: RuntimeWarning: Mean of empty slice\n",
      "  avg_dist = avg_dist + [np.nanmean(dist)] * len(dist)\n",
      "/var/folders/wj/11sgsjxd7x75l9tkc6r2l1p80000gn/T/ipykernel_4806/2014460613.py:537: FutureWarning: Series.fillna with 'method' is deprecated and will raise in a future version. Use obj.ffill() or obj.bfill() instead.\n",
      "  for_eye[\"names\"] =  for_eye.names.fillna(method='ffill').fillna(method='bfill')\n"
     ]
    },
    {
     "name": "stdout",
     "output_type": "stream",
     "text": [
      "4847_1\n"
     ]
    },
    {
     "name": "stderr",
     "output_type": "stream",
     "text": [
      "/var/folders/wj/11sgsjxd7x75l9tkc6r2l1p80000gn/T/ipykernel_4806/2014460613.py:505: RuntimeWarning: Mean of empty slice\n",
      "  hon_pos = [np.nanmean(hon_pos, axis=0)] * len(dist)\n",
      "/var/folders/wj/11sgsjxd7x75l9tkc6r2l1p80000gn/T/ipykernel_4806/2014460613.py:510: RuntimeWarning: Mean of empty slice\n",
      "  avg_dist = avg_dist + [np.nanmean(dist)] * len(dist)\n",
      "/var/folders/wj/11sgsjxd7x75l9tkc6r2l1p80000gn/T/ipykernel_4806/2014460613.py:537: FutureWarning: Series.fillna with 'method' is deprecated and will raise in a future version. Use obj.ffill() or obj.bfill() instead.\n",
      "  for_eye[\"names\"] =  for_eye.names.fillna(method='ffill').fillna(method='bfill')\n"
     ]
    },
    {
     "name": "stdout",
     "output_type": "stream",
     "text": [
      "4847_2\n"
     ]
    },
    {
     "name": "stderr",
     "output_type": "stream",
     "text": [
      "/var/folders/wj/11sgsjxd7x75l9tkc6r2l1p80000gn/T/ipykernel_4806/2014460613.py:505: RuntimeWarning: Mean of empty slice\n",
      "  hon_pos = [np.nanmean(hon_pos, axis=0)] * len(dist)\n",
      "/var/folders/wj/11sgsjxd7x75l9tkc6r2l1p80000gn/T/ipykernel_4806/2014460613.py:510: RuntimeWarning: Mean of empty slice\n",
      "  avg_dist = avg_dist + [np.nanmean(dist)] * len(dist)\n",
      "/var/folders/wj/11sgsjxd7x75l9tkc6r2l1p80000gn/T/ipykernel_4806/2014460613.py:537: FutureWarning: Series.fillna with 'method' is deprecated and will raise in a future version. Use obj.ffill() or obj.bfill() instead.\n",
      "  for_eye[\"names\"] =  for_eye.names.fillna(method='ffill').fillna(method='bfill')\n"
     ]
    },
    {
     "name": "stdout",
     "output_type": "stream",
     "text": [
      "4847_3\n"
     ]
    },
    {
     "name": "stderr",
     "output_type": "stream",
     "text": [
      "/var/folders/wj/11sgsjxd7x75l9tkc6r2l1p80000gn/T/ipykernel_4806/2014460613.py:505: RuntimeWarning: Mean of empty slice\n",
      "  hon_pos = [np.nanmean(hon_pos, axis=0)] * len(dist)\n",
      "/var/folders/wj/11sgsjxd7x75l9tkc6r2l1p80000gn/T/ipykernel_4806/2014460613.py:510: RuntimeWarning: Mean of empty slice\n",
      "  avg_dist = avg_dist + [np.nanmean(dist)] * len(dist)\n",
      "/var/folders/wj/11sgsjxd7x75l9tkc6r2l1p80000gn/T/ipykernel_4806/2014460613.py:537: FutureWarning: Series.fillna with 'method' is deprecated and will raise in a future version. Use obj.ffill() or obj.bfill() instead.\n",
      "  for_eye[\"names\"] =  for_eye.names.fillna(method='ffill').fillna(method='bfill')\n"
     ]
    },
    {
     "name": "stdout",
     "output_type": "stream",
     "text": [
      "4847_4\n"
     ]
    },
    {
     "name": "stderr",
     "output_type": "stream",
     "text": [
      "/var/folders/wj/11sgsjxd7x75l9tkc6r2l1p80000gn/T/ipykernel_4806/2014460613.py:505: RuntimeWarning: Mean of empty slice\n",
      "  hon_pos = [np.nanmean(hon_pos, axis=0)] * len(dist)\n",
      "/var/folders/wj/11sgsjxd7x75l9tkc6r2l1p80000gn/T/ipykernel_4806/2014460613.py:510: RuntimeWarning: Mean of empty slice\n",
      "  avg_dist = avg_dist + [np.nanmean(dist)] * len(dist)\n",
      "/var/folders/wj/11sgsjxd7x75l9tkc6r2l1p80000gn/T/ipykernel_4806/2014460613.py:537: FutureWarning: Series.fillna with 'method' is deprecated and will raise in a future version. Use obj.ffill() or obj.bfill() instead.\n",
      "  for_eye[\"names\"] =  for_eye.names.fillna(method='ffill').fillna(method='bfill')\n"
     ]
    },
    {
     "name": "stdout",
     "output_type": "stream",
     "text": [
      "4847_5\n"
     ]
    },
    {
     "name": "stderr",
     "output_type": "stream",
     "text": [
      "/var/folders/wj/11sgsjxd7x75l9tkc6r2l1p80000gn/T/ipykernel_4806/2014460613.py:505: RuntimeWarning: Mean of empty slice\n",
      "  hon_pos = [np.nanmean(hon_pos, axis=0)] * len(dist)\n",
      "/var/folders/wj/11sgsjxd7x75l9tkc6r2l1p80000gn/T/ipykernel_4806/2014460613.py:510: RuntimeWarning: Mean of empty slice\n",
      "  avg_dist = avg_dist + [np.nanmean(dist)] * len(dist)\n",
      "/var/folders/wj/11sgsjxd7x75l9tkc6r2l1p80000gn/T/ipykernel_4806/2014460613.py:537: FutureWarning: Series.fillna with 'method' is deprecated and will raise in a future version. Use obj.ffill() or obj.bfill() instead.\n",
      "  for_eye[\"names\"] =  for_eye.names.fillna(method='ffill').fillna(method='bfill')\n"
     ]
    },
    {
     "name": "stdout",
     "output_type": "stream",
     "text": [
      "4875_1\n"
     ]
    },
    {
     "name": "stderr",
     "output_type": "stream",
     "text": [
      "/var/folders/wj/11sgsjxd7x75l9tkc6r2l1p80000gn/T/ipykernel_4806/2014460613.py:505: RuntimeWarning: Mean of empty slice\n",
      "  hon_pos = [np.nanmean(hon_pos, axis=0)] * len(dist)\n",
      "/var/folders/wj/11sgsjxd7x75l9tkc6r2l1p80000gn/T/ipykernel_4806/2014460613.py:510: RuntimeWarning: Mean of empty slice\n",
      "  avg_dist = avg_dist + [np.nanmean(dist)] * len(dist)\n",
      "/var/folders/wj/11sgsjxd7x75l9tkc6r2l1p80000gn/T/ipykernel_4806/2014460613.py:537: FutureWarning: Series.fillna with 'method' is deprecated and will raise in a future version. Use obj.ffill() or obj.bfill() instead.\n",
      "  for_eye[\"names\"] =  for_eye.names.fillna(method='ffill').fillna(method='bfill')\n"
     ]
    },
    {
     "name": "stdout",
     "output_type": "stream",
     "text": [
      "4875_2\n"
     ]
    },
    {
     "name": "stderr",
     "output_type": "stream",
     "text": [
      "/var/folders/wj/11sgsjxd7x75l9tkc6r2l1p80000gn/T/ipykernel_4806/2014460613.py:505: RuntimeWarning: Mean of empty slice\n",
      "  hon_pos = [np.nanmean(hon_pos, axis=0)] * len(dist)\n",
      "/var/folders/wj/11sgsjxd7x75l9tkc6r2l1p80000gn/T/ipykernel_4806/2014460613.py:510: RuntimeWarning: Mean of empty slice\n",
      "  avg_dist = avg_dist + [np.nanmean(dist)] * len(dist)\n",
      "/var/folders/wj/11sgsjxd7x75l9tkc6r2l1p80000gn/T/ipykernel_4806/2014460613.py:537: FutureWarning: Series.fillna with 'method' is deprecated and will raise in a future version. Use obj.ffill() or obj.bfill() instead.\n",
      "  for_eye[\"names\"] =  for_eye.names.fillna(method='ffill').fillna(method='bfill')\n"
     ]
    },
    {
     "name": "stdout",
     "output_type": "stream",
     "text": [
      "4875_3\n"
     ]
    },
    {
     "name": "stderr",
     "output_type": "stream",
     "text": [
      "/var/folders/wj/11sgsjxd7x75l9tkc6r2l1p80000gn/T/ipykernel_4806/2014460613.py:505: RuntimeWarning: Mean of empty slice\n",
      "  hon_pos = [np.nanmean(hon_pos, axis=0)] * len(dist)\n",
      "/var/folders/wj/11sgsjxd7x75l9tkc6r2l1p80000gn/T/ipykernel_4806/2014460613.py:510: RuntimeWarning: Mean of empty slice\n",
      "  avg_dist = avg_dist + [np.nanmean(dist)] * len(dist)\n",
      "/var/folders/wj/11sgsjxd7x75l9tkc6r2l1p80000gn/T/ipykernel_4806/2014460613.py:537: FutureWarning: Series.fillna with 'method' is deprecated and will raise in a future version. Use obj.ffill() or obj.bfill() instead.\n",
      "  for_eye[\"names\"] =  for_eye.names.fillna(method='ffill').fillna(method='bfill')\n"
     ]
    },
    {
     "name": "stdout",
     "output_type": "stream",
     "text": [
      "4875_4\n"
     ]
    },
    {
     "name": "stderr",
     "output_type": "stream",
     "text": [
      "/var/folders/wj/11sgsjxd7x75l9tkc6r2l1p80000gn/T/ipykernel_4806/2014460613.py:505: RuntimeWarning: Mean of empty slice\n",
      "  hon_pos = [np.nanmean(hon_pos, axis=0)] * len(dist)\n",
      "/var/folders/wj/11sgsjxd7x75l9tkc6r2l1p80000gn/T/ipykernel_4806/2014460613.py:510: RuntimeWarning: Mean of empty slice\n",
      "  avg_dist = avg_dist + [np.nanmean(dist)] * len(dist)\n",
      "/var/folders/wj/11sgsjxd7x75l9tkc6r2l1p80000gn/T/ipykernel_4806/2014460613.py:537: FutureWarning: Series.fillna with 'method' is deprecated and will raise in a future version. Use obj.ffill() or obj.bfill() instead.\n",
      "  for_eye[\"names\"] =  for_eye.names.fillna(method='ffill').fillna(method='bfill')\n"
     ]
    },
    {
     "name": "stdout",
     "output_type": "stream",
     "text": [
      "4875_5\n"
     ]
    },
    {
     "name": "stderr",
     "output_type": "stream",
     "text": [
      "/var/folders/wj/11sgsjxd7x75l9tkc6r2l1p80000gn/T/ipykernel_4806/2014460613.py:505: RuntimeWarning: Mean of empty slice\n",
      "  hon_pos = [np.nanmean(hon_pos, axis=0)] * len(dist)\n",
      "/var/folders/wj/11sgsjxd7x75l9tkc6r2l1p80000gn/T/ipykernel_4806/2014460613.py:510: RuntimeWarning: Mean of empty slice\n",
      "  avg_dist = avg_dist + [np.nanmean(dist)] * len(dist)\n",
      "/var/folders/wj/11sgsjxd7x75l9tkc6r2l1p80000gn/T/ipykernel_4806/2014460613.py:537: FutureWarning: Series.fillna with 'method' is deprecated and will raise in a future version. Use obj.ffill() or obj.bfill() instead.\n",
      "  for_eye[\"names\"] =  for_eye.names.fillna(method='ffill').fillna(method='bfill')\n"
     ]
    },
    {
     "name": "stdout",
     "output_type": "stream",
     "text": [
      "5161_1\n"
     ]
    },
    {
     "name": "stderr",
     "output_type": "stream",
     "text": [
      "/var/folders/wj/11sgsjxd7x75l9tkc6r2l1p80000gn/T/ipykernel_4806/2014460613.py:505: RuntimeWarning: Mean of empty slice\n",
      "  hon_pos = [np.nanmean(hon_pos, axis=0)] * len(dist)\n",
      "/var/folders/wj/11sgsjxd7x75l9tkc6r2l1p80000gn/T/ipykernel_4806/2014460613.py:510: RuntimeWarning: Mean of empty slice\n",
      "  avg_dist = avg_dist + [np.nanmean(dist)] * len(dist)\n",
      "/var/folders/wj/11sgsjxd7x75l9tkc6r2l1p80000gn/T/ipykernel_4806/2014460613.py:537: FutureWarning: Series.fillna with 'method' is deprecated and will raise in a future version. Use obj.ffill() or obj.bfill() instead.\n",
      "  for_eye[\"names\"] =  for_eye.names.fillna(method='ffill').fillna(method='bfill')\n"
     ]
    },
    {
     "name": "stdout",
     "output_type": "stream",
     "text": [
      "5161_2\n"
     ]
    },
    {
     "name": "stderr",
     "output_type": "stream",
     "text": [
      "/var/folders/wj/11sgsjxd7x75l9tkc6r2l1p80000gn/T/ipykernel_4806/2014460613.py:505: RuntimeWarning: Mean of empty slice\n",
      "  hon_pos = [np.nanmean(hon_pos, axis=0)] * len(dist)\n",
      "/var/folders/wj/11sgsjxd7x75l9tkc6r2l1p80000gn/T/ipykernel_4806/2014460613.py:510: RuntimeWarning: Mean of empty slice\n",
      "  avg_dist = avg_dist + [np.nanmean(dist)] * len(dist)\n",
      "/var/folders/wj/11sgsjxd7x75l9tkc6r2l1p80000gn/T/ipykernel_4806/2014460613.py:537: FutureWarning: Series.fillna with 'method' is deprecated and will raise in a future version. Use obj.ffill() or obj.bfill() instead.\n",
      "  for_eye[\"names\"] =  for_eye.names.fillna(method='ffill').fillna(method='bfill')\n"
     ]
    },
    {
     "name": "stdout",
     "output_type": "stream",
     "text": [
      "5161_3\n"
     ]
    },
    {
     "name": "stderr",
     "output_type": "stream",
     "text": [
      "/var/folders/wj/11sgsjxd7x75l9tkc6r2l1p80000gn/T/ipykernel_4806/2014460613.py:505: RuntimeWarning: Mean of empty slice\n",
      "  hon_pos = [np.nanmean(hon_pos, axis=0)] * len(dist)\n",
      "/var/folders/wj/11sgsjxd7x75l9tkc6r2l1p80000gn/T/ipykernel_4806/2014460613.py:510: RuntimeWarning: Mean of empty slice\n",
      "  avg_dist = avg_dist + [np.nanmean(dist)] * len(dist)\n",
      "/var/folders/wj/11sgsjxd7x75l9tkc6r2l1p80000gn/T/ipykernel_4806/2014460613.py:537: FutureWarning: Series.fillna with 'method' is deprecated and will raise in a future version. Use obj.ffill() or obj.bfill() instead.\n",
      "  for_eye[\"names\"] =  for_eye.names.fillna(method='ffill').fillna(method='bfill')\n"
     ]
    },
    {
     "name": "stdout",
     "output_type": "stream",
     "text": [
      "5161_4\n"
     ]
    },
    {
     "name": "stderr",
     "output_type": "stream",
     "text": [
      "/var/folders/wj/11sgsjxd7x75l9tkc6r2l1p80000gn/T/ipykernel_4806/2014460613.py:505: RuntimeWarning: Mean of empty slice\n",
      "  hon_pos = [np.nanmean(hon_pos, axis=0)] * len(dist)\n",
      "/var/folders/wj/11sgsjxd7x75l9tkc6r2l1p80000gn/T/ipykernel_4806/2014460613.py:510: RuntimeWarning: Mean of empty slice\n",
      "  avg_dist = avg_dist + [np.nanmean(dist)] * len(dist)\n",
      "/var/folders/wj/11sgsjxd7x75l9tkc6r2l1p80000gn/T/ipykernel_4806/2014460613.py:537: FutureWarning: Series.fillna with 'method' is deprecated and will raise in a future version. Use obj.ffill() or obj.bfill() instead.\n",
      "  for_eye[\"names\"] =  for_eye.names.fillna(method='ffill').fillna(method='bfill')\n"
     ]
    },
    {
     "name": "stdout",
     "output_type": "stream",
     "text": [
      "5161_5\n"
     ]
    },
    {
     "name": "stderr",
     "output_type": "stream",
     "text": [
      "/var/folders/wj/11sgsjxd7x75l9tkc6r2l1p80000gn/T/ipykernel_4806/2014460613.py:505: RuntimeWarning: Mean of empty slice\n",
      "  hon_pos = [np.nanmean(hon_pos, axis=0)] * len(dist)\n",
      "/var/folders/wj/11sgsjxd7x75l9tkc6r2l1p80000gn/T/ipykernel_4806/2014460613.py:510: RuntimeWarning: Mean of empty slice\n",
      "  avg_dist = avg_dist + [np.nanmean(dist)] * len(dist)\n",
      "/var/folders/wj/11sgsjxd7x75l9tkc6r2l1p80000gn/T/ipykernel_4806/2014460613.py:537: FutureWarning: Series.fillna with 'method' is deprecated and will raise in a future version. Use obj.ffill() or obj.bfill() instead.\n",
      "  for_eye[\"names\"] =  for_eye.names.fillna(method='ffill').fillna(method='bfill')\n"
     ]
    },
    {
     "name": "stdout",
     "output_type": "stream",
     "text": [
      "5189_1\n"
     ]
    },
    {
     "name": "stderr",
     "output_type": "stream",
     "text": [
      "/var/folders/wj/11sgsjxd7x75l9tkc6r2l1p80000gn/T/ipykernel_4806/2014460613.py:505: RuntimeWarning: Mean of empty slice\n",
      "  hon_pos = [np.nanmean(hon_pos, axis=0)] * len(dist)\n",
      "/var/folders/wj/11sgsjxd7x75l9tkc6r2l1p80000gn/T/ipykernel_4806/2014460613.py:510: RuntimeWarning: Mean of empty slice\n",
      "  avg_dist = avg_dist + [np.nanmean(dist)] * len(dist)\n",
      "/var/folders/wj/11sgsjxd7x75l9tkc6r2l1p80000gn/T/ipykernel_4806/2014460613.py:537: FutureWarning: Series.fillna with 'method' is deprecated and will raise in a future version. Use obj.ffill() or obj.bfill() instead.\n",
      "  for_eye[\"names\"] =  for_eye.names.fillna(method='ffill').fillna(method='bfill')\n"
     ]
    },
    {
     "name": "stdout",
     "output_type": "stream",
     "text": [
      "5189_2\n"
     ]
    },
    {
     "name": "stderr",
     "output_type": "stream",
     "text": [
      "/var/folders/wj/11sgsjxd7x75l9tkc6r2l1p80000gn/T/ipykernel_4806/2014460613.py:505: RuntimeWarning: Mean of empty slice\n",
      "  hon_pos = [np.nanmean(hon_pos, axis=0)] * len(dist)\n",
      "/var/folders/wj/11sgsjxd7x75l9tkc6r2l1p80000gn/T/ipykernel_4806/2014460613.py:510: RuntimeWarning: Mean of empty slice\n",
      "  avg_dist = avg_dist + [np.nanmean(dist)] * len(dist)\n",
      "/var/folders/wj/11sgsjxd7x75l9tkc6r2l1p80000gn/T/ipykernel_4806/2014460613.py:537: FutureWarning: Series.fillna with 'method' is deprecated and will raise in a future version. Use obj.ffill() or obj.bfill() instead.\n",
      "  for_eye[\"names\"] =  for_eye.names.fillna(method='ffill').fillna(method='bfill')\n"
     ]
    },
    {
     "name": "stdout",
     "output_type": "stream",
     "text": [
      "5189_3\n"
     ]
    },
    {
     "name": "stderr",
     "output_type": "stream",
     "text": [
      "/var/folders/wj/11sgsjxd7x75l9tkc6r2l1p80000gn/T/ipykernel_4806/2014460613.py:505: RuntimeWarning: Mean of empty slice\n",
      "  hon_pos = [np.nanmean(hon_pos, axis=0)] * len(dist)\n",
      "/var/folders/wj/11sgsjxd7x75l9tkc6r2l1p80000gn/T/ipykernel_4806/2014460613.py:510: RuntimeWarning: Mean of empty slice\n",
      "  avg_dist = avg_dist + [np.nanmean(dist)] * len(dist)\n",
      "/var/folders/wj/11sgsjxd7x75l9tkc6r2l1p80000gn/T/ipykernel_4806/2014460613.py:537: FutureWarning: Series.fillna with 'method' is deprecated and will raise in a future version. Use obj.ffill() or obj.bfill() instead.\n",
      "  for_eye[\"names\"] =  for_eye.names.fillna(method='ffill').fillna(method='bfill')\n"
     ]
    },
    {
     "name": "stdout",
     "output_type": "stream",
     "text": [
      "5189_4\n"
     ]
    },
    {
     "name": "stderr",
     "output_type": "stream",
     "text": [
      "/var/folders/wj/11sgsjxd7x75l9tkc6r2l1p80000gn/T/ipykernel_4806/2014460613.py:505: RuntimeWarning: Mean of empty slice\n",
      "  hon_pos = [np.nanmean(hon_pos, axis=0)] * len(dist)\n",
      "/var/folders/wj/11sgsjxd7x75l9tkc6r2l1p80000gn/T/ipykernel_4806/2014460613.py:510: RuntimeWarning: Mean of empty slice\n",
      "  avg_dist = avg_dist + [np.nanmean(dist)] * len(dist)\n",
      "/var/folders/wj/11sgsjxd7x75l9tkc6r2l1p80000gn/T/ipykernel_4806/2014460613.py:537: FutureWarning: Series.fillna with 'method' is deprecated and will raise in a future version. Use obj.ffill() or obj.bfill() instead.\n",
      "  for_eye[\"names\"] =  for_eye.names.fillna(method='ffill').fillna(method='bfill')\n"
     ]
    },
    {
     "name": "stdout",
     "output_type": "stream",
     "text": [
      "5189_5\n"
     ]
    },
    {
     "name": "stderr",
     "output_type": "stream",
     "text": [
      "/var/folders/wj/11sgsjxd7x75l9tkc6r2l1p80000gn/T/ipykernel_4806/2014460613.py:505: RuntimeWarning: Mean of empty slice\n",
      "  hon_pos = [np.nanmean(hon_pos, axis=0)] * len(dist)\n",
      "/var/folders/wj/11sgsjxd7x75l9tkc6r2l1p80000gn/T/ipykernel_4806/2014460613.py:510: RuntimeWarning: Mean of empty slice\n",
      "  avg_dist = avg_dist + [np.nanmean(dist)] * len(dist)\n",
      "/var/folders/wj/11sgsjxd7x75l9tkc6r2l1p80000gn/T/ipykernel_4806/2014460613.py:537: FutureWarning: Series.fillna with 'method' is deprecated and will raise in a future version. Use obj.ffill() or obj.bfill() instead.\n",
      "  for_eye[\"names\"] =  for_eye.names.fillna(method='ffill').fillna(method='bfill')\n"
     ]
    },
    {
     "name": "stdout",
     "output_type": "stream",
     "text": [
      "5743_1\n"
     ]
    },
    {
     "name": "stderr",
     "output_type": "stream",
     "text": [
      "/var/folders/wj/11sgsjxd7x75l9tkc6r2l1p80000gn/T/ipykernel_4806/2014460613.py:505: RuntimeWarning: Mean of empty slice\n",
      "  hon_pos = [np.nanmean(hon_pos, axis=0)] * len(dist)\n",
      "/var/folders/wj/11sgsjxd7x75l9tkc6r2l1p80000gn/T/ipykernel_4806/2014460613.py:510: RuntimeWarning: Mean of empty slice\n",
      "  avg_dist = avg_dist + [np.nanmean(dist)] * len(dist)\n",
      "/var/folders/wj/11sgsjxd7x75l9tkc6r2l1p80000gn/T/ipykernel_4806/2014460613.py:537: FutureWarning: Series.fillna with 'method' is deprecated and will raise in a future version. Use obj.ffill() or obj.bfill() instead.\n",
      "  for_eye[\"names\"] =  for_eye.names.fillna(method='ffill').fillna(method='bfill')\n"
     ]
    },
    {
     "name": "stdout",
     "output_type": "stream",
     "text": [
      "5743_2\n"
     ]
    },
    {
     "name": "stderr",
     "output_type": "stream",
     "text": [
      "/var/folders/wj/11sgsjxd7x75l9tkc6r2l1p80000gn/T/ipykernel_4806/2014460613.py:505: RuntimeWarning: Mean of empty slice\n",
      "  hon_pos = [np.nanmean(hon_pos, axis=0)] * len(dist)\n",
      "/var/folders/wj/11sgsjxd7x75l9tkc6r2l1p80000gn/T/ipykernel_4806/2014460613.py:510: RuntimeWarning: Mean of empty slice\n",
      "  avg_dist = avg_dist + [np.nanmean(dist)] * len(dist)\n",
      "/var/folders/wj/11sgsjxd7x75l9tkc6r2l1p80000gn/T/ipykernel_4806/2014460613.py:537: FutureWarning: Series.fillna with 'method' is deprecated and will raise in a future version. Use obj.ffill() or obj.bfill() instead.\n",
      "  for_eye[\"names\"] =  for_eye.names.fillna(method='ffill').fillna(method='bfill')\n"
     ]
    },
    {
     "name": "stdout",
     "output_type": "stream",
     "text": [
      "5743_3\n"
     ]
    },
    {
     "name": "stderr",
     "output_type": "stream",
     "text": [
      "/var/folders/wj/11sgsjxd7x75l9tkc6r2l1p80000gn/T/ipykernel_4806/2014460613.py:505: RuntimeWarning: Mean of empty slice\n",
      "  hon_pos = [np.nanmean(hon_pos, axis=0)] * len(dist)\n",
      "/var/folders/wj/11sgsjxd7x75l9tkc6r2l1p80000gn/T/ipykernel_4806/2014460613.py:510: RuntimeWarning: Mean of empty slice\n",
      "  avg_dist = avg_dist + [np.nanmean(dist)] * len(dist)\n",
      "/var/folders/wj/11sgsjxd7x75l9tkc6r2l1p80000gn/T/ipykernel_4806/2014460613.py:537: FutureWarning: Series.fillna with 'method' is deprecated and will raise in a future version. Use obj.ffill() or obj.bfill() instead.\n",
      "  for_eye[\"names\"] =  for_eye.names.fillna(method='ffill').fillna(method='bfill')\n"
     ]
    },
    {
     "name": "stdout",
     "output_type": "stream",
     "text": [
      "5743_4\n"
     ]
    },
    {
     "name": "stderr",
     "output_type": "stream",
     "text": [
      "/var/folders/wj/11sgsjxd7x75l9tkc6r2l1p80000gn/T/ipykernel_4806/2014460613.py:505: RuntimeWarning: Mean of empty slice\n",
      "  hon_pos = [np.nanmean(hon_pos, axis=0)] * len(dist)\n",
      "/var/folders/wj/11sgsjxd7x75l9tkc6r2l1p80000gn/T/ipykernel_4806/2014460613.py:510: RuntimeWarning: Mean of empty slice\n",
      "  avg_dist = avg_dist + [np.nanmean(dist)] * len(dist)\n",
      "/var/folders/wj/11sgsjxd7x75l9tkc6r2l1p80000gn/T/ipykernel_4806/2014460613.py:537: FutureWarning: Series.fillna with 'method' is deprecated and will raise in a future version. Use obj.ffill() or obj.bfill() instead.\n",
      "  for_eye[\"names\"] =  for_eye.names.fillna(method='ffill').fillna(method='bfill')\n"
     ]
    },
    {
     "name": "stdout",
     "output_type": "stream",
     "text": [
      "5743_5\n"
     ]
    },
    {
     "name": "stderr",
     "output_type": "stream",
     "text": [
      "/var/folders/wj/11sgsjxd7x75l9tkc6r2l1p80000gn/T/ipykernel_4806/2014460613.py:505: RuntimeWarning: Mean of empty slice\n",
      "  hon_pos = [np.nanmean(hon_pos, axis=0)] * len(dist)\n",
      "/var/folders/wj/11sgsjxd7x75l9tkc6r2l1p80000gn/T/ipykernel_4806/2014460613.py:510: RuntimeWarning: Mean of empty slice\n",
      "  avg_dist = avg_dist + [np.nanmean(dist)] * len(dist)\n",
      "/var/folders/wj/11sgsjxd7x75l9tkc6r2l1p80000gn/T/ipykernel_4806/2014460613.py:537: FutureWarning: Series.fillna with 'method' is deprecated and will raise in a future version. Use obj.ffill() or obj.bfill() instead.\n",
      "  for_eye[\"names\"] =  for_eye.names.fillna(method='ffill').fillna(method='bfill')\n"
     ]
    },
    {
     "name": "stdout",
     "output_type": "stream",
     "text": [
      "5766_1\n"
     ]
    },
    {
     "name": "stderr",
     "output_type": "stream",
     "text": [
      "/var/folders/wj/11sgsjxd7x75l9tkc6r2l1p80000gn/T/ipykernel_4806/2014460613.py:505: RuntimeWarning: Mean of empty slice\n",
      "  hon_pos = [np.nanmean(hon_pos, axis=0)] * len(dist)\n",
      "/var/folders/wj/11sgsjxd7x75l9tkc6r2l1p80000gn/T/ipykernel_4806/2014460613.py:510: RuntimeWarning: Mean of empty slice\n",
      "  avg_dist = avg_dist + [np.nanmean(dist)] * len(dist)\n",
      "/var/folders/wj/11sgsjxd7x75l9tkc6r2l1p80000gn/T/ipykernel_4806/2014460613.py:537: FutureWarning: Series.fillna with 'method' is deprecated and will raise in a future version. Use obj.ffill() or obj.bfill() instead.\n",
      "  for_eye[\"names\"] =  for_eye.names.fillna(method='ffill').fillna(method='bfill')\n"
     ]
    },
    {
     "name": "stdout",
     "output_type": "stream",
     "text": [
      "5766_2\n"
     ]
    },
    {
     "name": "stderr",
     "output_type": "stream",
     "text": [
      "/var/folders/wj/11sgsjxd7x75l9tkc6r2l1p80000gn/T/ipykernel_4806/2014460613.py:505: RuntimeWarning: Mean of empty slice\n",
      "  hon_pos = [np.nanmean(hon_pos, axis=0)] * len(dist)\n",
      "/var/folders/wj/11sgsjxd7x75l9tkc6r2l1p80000gn/T/ipykernel_4806/2014460613.py:510: RuntimeWarning: Mean of empty slice\n",
      "  avg_dist = avg_dist + [np.nanmean(dist)] * len(dist)\n",
      "/var/folders/wj/11sgsjxd7x75l9tkc6r2l1p80000gn/T/ipykernel_4806/2014460613.py:537: FutureWarning: Series.fillna with 'method' is deprecated and will raise in a future version. Use obj.ffill() or obj.bfill() instead.\n",
      "  for_eye[\"names\"] =  for_eye.names.fillna(method='ffill').fillna(method='bfill')\n"
     ]
    },
    {
     "name": "stdout",
     "output_type": "stream",
     "text": [
      "5766_3\n"
     ]
    },
    {
     "name": "stderr",
     "output_type": "stream",
     "text": [
      "/var/folders/wj/11sgsjxd7x75l9tkc6r2l1p80000gn/T/ipykernel_4806/2014460613.py:505: RuntimeWarning: Mean of empty slice\n",
      "  hon_pos = [np.nanmean(hon_pos, axis=0)] * len(dist)\n",
      "/var/folders/wj/11sgsjxd7x75l9tkc6r2l1p80000gn/T/ipykernel_4806/2014460613.py:510: RuntimeWarning: Mean of empty slice\n",
      "  avg_dist = avg_dist + [np.nanmean(dist)] * len(dist)\n",
      "/var/folders/wj/11sgsjxd7x75l9tkc6r2l1p80000gn/T/ipykernel_4806/2014460613.py:537: FutureWarning: Series.fillna with 'method' is deprecated and will raise in a future version. Use obj.ffill() or obj.bfill() instead.\n",
      "  for_eye[\"names\"] =  for_eye.names.fillna(method='ffill').fillna(method='bfill')\n"
     ]
    },
    {
     "name": "stdout",
     "output_type": "stream",
     "text": [
      "5766_4\n"
     ]
    },
    {
     "name": "stderr",
     "output_type": "stream",
     "text": [
      "/var/folders/wj/11sgsjxd7x75l9tkc6r2l1p80000gn/T/ipykernel_4806/2014460613.py:505: RuntimeWarning: Mean of empty slice\n",
      "  hon_pos = [np.nanmean(hon_pos, axis=0)] * len(dist)\n",
      "/var/folders/wj/11sgsjxd7x75l9tkc6r2l1p80000gn/T/ipykernel_4806/2014460613.py:510: RuntimeWarning: Mean of empty slice\n",
      "  avg_dist = avg_dist + [np.nanmean(dist)] * len(dist)\n",
      "/var/folders/wj/11sgsjxd7x75l9tkc6r2l1p80000gn/T/ipykernel_4806/2014460613.py:537: FutureWarning: Series.fillna with 'method' is deprecated and will raise in a future version. Use obj.ffill() or obj.bfill() instead.\n",
      "  for_eye[\"names\"] =  for_eye.names.fillna(method='ffill').fillna(method='bfill')\n"
     ]
    },
    {
     "name": "stdout",
     "output_type": "stream",
     "text": [
      "5766_5\n"
     ]
    },
    {
     "name": "stderr",
     "output_type": "stream",
     "text": [
      "/var/folders/wj/11sgsjxd7x75l9tkc6r2l1p80000gn/T/ipykernel_4806/2014460613.py:505: RuntimeWarning: Mean of empty slice\n",
      "  hon_pos = [np.nanmean(hon_pos, axis=0)] * len(dist)\n",
      "/var/folders/wj/11sgsjxd7x75l9tkc6r2l1p80000gn/T/ipykernel_4806/2014460613.py:510: RuntimeWarning: Mean of empty slice\n",
      "  avg_dist = avg_dist + [np.nanmean(dist)] * len(dist)\n",
      "/var/folders/wj/11sgsjxd7x75l9tkc6r2l1p80000gn/T/ipykernel_4806/2014460613.py:537: FutureWarning: Series.fillna with 'method' is deprecated and will raise in a future version. Use obj.ffill() or obj.bfill() instead.\n",
      "  for_eye[\"names\"] =  for_eye.names.fillna(method='ffill').fillna(method='bfill')\n"
     ]
    },
    {
     "name": "stdout",
     "output_type": "stream",
     "text": [
      "5851_1\n"
     ]
    },
    {
     "name": "stderr",
     "output_type": "stream",
     "text": [
      "/var/folders/wj/11sgsjxd7x75l9tkc6r2l1p80000gn/T/ipykernel_4806/2014460613.py:505: RuntimeWarning: Mean of empty slice\n",
      "  hon_pos = [np.nanmean(hon_pos, axis=0)] * len(dist)\n",
      "/var/folders/wj/11sgsjxd7x75l9tkc6r2l1p80000gn/T/ipykernel_4806/2014460613.py:510: RuntimeWarning: Mean of empty slice\n",
      "  avg_dist = avg_dist + [np.nanmean(dist)] * len(dist)\n",
      "/var/folders/wj/11sgsjxd7x75l9tkc6r2l1p80000gn/T/ipykernel_4806/2014460613.py:537: FutureWarning: Series.fillna with 'method' is deprecated and will raise in a future version. Use obj.ffill() or obj.bfill() instead.\n",
      "  for_eye[\"names\"] =  for_eye.names.fillna(method='ffill').fillna(method='bfill')\n"
     ]
    },
    {
     "name": "stdout",
     "output_type": "stream",
     "text": [
      "5851_2\n"
     ]
    },
    {
     "name": "stderr",
     "output_type": "stream",
     "text": [
      "/var/folders/wj/11sgsjxd7x75l9tkc6r2l1p80000gn/T/ipykernel_4806/2014460613.py:505: RuntimeWarning: Mean of empty slice\n",
      "  hon_pos = [np.nanmean(hon_pos, axis=0)] * len(dist)\n",
      "/var/folders/wj/11sgsjxd7x75l9tkc6r2l1p80000gn/T/ipykernel_4806/2014460613.py:510: RuntimeWarning: Mean of empty slice\n",
      "  avg_dist = avg_dist + [np.nanmean(dist)] * len(dist)\n",
      "/var/folders/wj/11sgsjxd7x75l9tkc6r2l1p80000gn/T/ipykernel_4806/2014460613.py:537: FutureWarning: Series.fillna with 'method' is deprecated and will raise in a future version. Use obj.ffill() or obj.bfill() instead.\n",
      "  for_eye[\"names\"] =  for_eye.names.fillna(method='ffill').fillna(method='bfill')\n"
     ]
    },
    {
     "name": "stdout",
     "output_type": "stream",
     "text": [
      "5851_3\n"
     ]
    },
    {
     "name": "stderr",
     "output_type": "stream",
     "text": [
      "/var/folders/wj/11sgsjxd7x75l9tkc6r2l1p80000gn/T/ipykernel_4806/2014460613.py:505: RuntimeWarning: Mean of empty slice\n",
      "  hon_pos = [np.nanmean(hon_pos, axis=0)] * len(dist)\n",
      "/var/folders/wj/11sgsjxd7x75l9tkc6r2l1p80000gn/T/ipykernel_4806/2014460613.py:510: RuntimeWarning: Mean of empty slice\n",
      "  avg_dist = avg_dist + [np.nanmean(dist)] * len(dist)\n",
      "/var/folders/wj/11sgsjxd7x75l9tkc6r2l1p80000gn/T/ipykernel_4806/2014460613.py:537: FutureWarning: Series.fillna with 'method' is deprecated and will raise in a future version. Use obj.ffill() or obj.bfill() instead.\n",
      "  for_eye[\"names\"] =  for_eye.names.fillna(method='ffill').fillna(method='bfill')\n"
     ]
    },
    {
     "name": "stdout",
     "output_type": "stream",
     "text": [
      "5851_4\n"
     ]
    },
    {
     "name": "stderr",
     "output_type": "stream",
     "text": [
      "/var/folders/wj/11sgsjxd7x75l9tkc6r2l1p80000gn/T/ipykernel_4806/2014460613.py:505: RuntimeWarning: Mean of empty slice\n",
      "  hon_pos = [np.nanmean(hon_pos, axis=0)] * len(dist)\n",
      "/var/folders/wj/11sgsjxd7x75l9tkc6r2l1p80000gn/T/ipykernel_4806/2014460613.py:510: RuntimeWarning: Mean of empty slice\n",
      "  avg_dist = avg_dist + [np.nanmean(dist)] * len(dist)\n",
      "/var/folders/wj/11sgsjxd7x75l9tkc6r2l1p80000gn/T/ipykernel_4806/2014460613.py:537: FutureWarning: Series.fillna with 'method' is deprecated and will raise in a future version. Use obj.ffill() or obj.bfill() instead.\n",
      "  for_eye[\"names\"] =  for_eye.names.fillna(method='ffill').fillna(method='bfill')\n"
     ]
    },
    {
     "name": "stdout",
     "output_type": "stream",
     "text": [
      "5851_5\n"
     ]
    },
    {
     "name": "stderr",
     "output_type": "stream",
     "text": [
      "/var/folders/wj/11sgsjxd7x75l9tkc6r2l1p80000gn/T/ipykernel_4806/2014460613.py:505: RuntimeWarning: Mean of empty slice\n",
      "  hon_pos = [np.nanmean(hon_pos, axis=0)] * len(dist)\n",
      "/var/folders/wj/11sgsjxd7x75l9tkc6r2l1p80000gn/T/ipykernel_4806/2014460613.py:510: RuntimeWarning: Mean of empty slice\n",
      "  avg_dist = avg_dist + [np.nanmean(dist)] * len(dist)\n",
      "/var/folders/wj/11sgsjxd7x75l9tkc6r2l1p80000gn/T/ipykernel_4806/2014460613.py:537: FutureWarning: Series.fillna with 'method' is deprecated and will raise in a future version. Use obj.ffill() or obj.bfill() instead.\n",
      "  for_eye[\"names\"] =  for_eye.names.fillna(method='ffill').fillna(method='bfill')\n"
     ]
    },
    {
     "name": "stdout",
     "output_type": "stream",
     "text": [
      "5972_1\n"
     ]
    },
    {
     "name": "stderr",
     "output_type": "stream",
     "text": [
      "/var/folders/wj/11sgsjxd7x75l9tkc6r2l1p80000gn/T/ipykernel_4806/2014460613.py:505: RuntimeWarning: Mean of empty slice\n",
      "  hon_pos = [np.nanmean(hon_pos, axis=0)] * len(dist)\n",
      "/var/folders/wj/11sgsjxd7x75l9tkc6r2l1p80000gn/T/ipykernel_4806/2014460613.py:510: RuntimeWarning: Mean of empty slice\n",
      "  avg_dist = avg_dist + [np.nanmean(dist)] * len(dist)\n",
      "/var/folders/wj/11sgsjxd7x75l9tkc6r2l1p80000gn/T/ipykernel_4806/2014460613.py:537: FutureWarning: Series.fillna with 'method' is deprecated and will raise in a future version. Use obj.ffill() or obj.bfill() instead.\n",
      "  for_eye[\"names\"] =  for_eye.names.fillna(method='ffill').fillna(method='bfill')\n"
     ]
    },
    {
     "name": "stdout",
     "output_type": "stream",
     "text": [
      "5972_2\n"
     ]
    },
    {
     "name": "stderr",
     "output_type": "stream",
     "text": [
      "/opt/anaconda3/lib/python3.12/site-packages/numpy/core/fromnumeric.py:3504: RuntimeWarning: Mean of empty slice.\n",
      "  return _methods._mean(a, axis=axis, dtype=dtype,\n",
      "/opt/anaconda3/lib/python3.12/site-packages/numpy/core/_methods.py:129: RuntimeWarning: invalid value encountered in scalar divide\n",
      "  ret = ret.dtype.type(ret / rcount)\n",
      "/var/folders/wj/11sgsjxd7x75l9tkc6r2l1p80000gn/T/ipykernel_4806/2014460613.py:505: RuntimeWarning: Mean of empty slice\n",
      "  hon_pos = [np.nanmean(hon_pos, axis=0)] * len(dist)\n",
      "/var/folders/wj/11sgsjxd7x75l9tkc6r2l1p80000gn/T/ipykernel_4806/2014460613.py:510: RuntimeWarning: Mean of empty slice\n",
      "  avg_dist = avg_dist + [np.nanmean(dist)] * len(dist)\n",
      "/var/folders/wj/11sgsjxd7x75l9tkc6r2l1p80000gn/T/ipykernel_4806/2014460613.py:537: FutureWarning: Series.fillna with 'method' is deprecated and will raise in a future version. Use obj.ffill() or obj.bfill() instead.\n",
      "  for_eye[\"names\"] =  for_eye.names.fillna(method='ffill').fillna(method='bfill')\n"
     ]
    },
    {
     "name": "stdout",
     "output_type": "stream",
     "text": [
      "5972_3\n"
     ]
    },
    {
     "name": "stderr",
     "output_type": "stream",
     "text": [
      "/var/folders/wj/11sgsjxd7x75l9tkc6r2l1p80000gn/T/ipykernel_4806/2014460613.py:505: RuntimeWarning: Mean of empty slice\n",
      "  hon_pos = [np.nanmean(hon_pos, axis=0)] * len(dist)\n",
      "/var/folders/wj/11sgsjxd7x75l9tkc6r2l1p80000gn/T/ipykernel_4806/2014460613.py:510: RuntimeWarning: Mean of empty slice\n",
      "  avg_dist = avg_dist + [np.nanmean(dist)] * len(dist)\n",
      "/var/folders/wj/11sgsjxd7x75l9tkc6r2l1p80000gn/T/ipykernel_4806/2014460613.py:537: FutureWarning: Series.fillna with 'method' is deprecated and will raise in a future version. Use obj.ffill() or obj.bfill() instead.\n",
      "  for_eye[\"names\"] =  for_eye.names.fillna(method='ffill').fillna(method='bfill')\n"
     ]
    },
    {
     "name": "stdout",
     "output_type": "stream",
     "text": [
      "5972_4\n"
     ]
    },
    {
     "name": "stderr",
     "output_type": "stream",
     "text": [
      "/var/folders/wj/11sgsjxd7x75l9tkc6r2l1p80000gn/T/ipykernel_4806/2014460613.py:505: RuntimeWarning: Mean of empty slice\n",
      "  hon_pos = [np.nanmean(hon_pos, axis=0)] * len(dist)\n",
      "/var/folders/wj/11sgsjxd7x75l9tkc6r2l1p80000gn/T/ipykernel_4806/2014460613.py:510: RuntimeWarning: Mean of empty slice\n",
      "  avg_dist = avg_dist + [np.nanmean(dist)] * len(dist)\n",
      "/var/folders/wj/11sgsjxd7x75l9tkc6r2l1p80000gn/T/ipykernel_4806/2014460613.py:537: FutureWarning: Series.fillna with 'method' is deprecated and will raise in a future version. Use obj.ffill() or obj.bfill() instead.\n",
      "  for_eye[\"names\"] =  for_eye.names.fillna(method='ffill').fillna(method='bfill')\n"
     ]
    },
    {
     "name": "stdout",
     "output_type": "stream",
     "text": [
      "5972_5\n"
     ]
    },
    {
     "name": "stderr",
     "output_type": "stream",
     "text": [
      "/var/folders/wj/11sgsjxd7x75l9tkc6r2l1p80000gn/T/ipykernel_4806/2014460613.py:505: RuntimeWarning: Mean of empty slice\n",
      "  hon_pos = [np.nanmean(hon_pos, axis=0)] * len(dist)\n",
      "/var/folders/wj/11sgsjxd7x75l9tkc6r2l1p80000gn/T/ipykernel_4806/2014460613.py:510: RuntimeWarning: Mean of empty slice\n",
      "  avg_dist = avg_dist + [np.nanmean(dist)] * len(dist)\n",
      "/var/folders/wj/11sgsjxd7x75l9tkc6r2l1p80000gn/T/ipykernel_4806/2014460613.py:537: FutureWarning: Series.fillna with 'method' is deprecated and will raise in a future version. Use obj.ffill() or obj.bfill() instead.\n",
      "  for_eye[\"names\"] =  for_eye.names.fillna(method='ffill').fillna(method='bfill')\n"
     ]
    },
    {
     "name": "stdout",
     "output_type": "stream",
     "text": [
      "6406_1\n"
     ]
    },
    {
     "name": "stderr",
     "output_type": "stream",
     "text": [
      "/var/folders/wj/11sgsjxd7x75l9tkc6r2l1p80000gn/T/ipykernel_4806/2014460613.py:505: RuntimeWarning: Mean of empty slice\n",
      "  hon_pos = [np.nanmean(hon_pos, axis=0)] * len(dist)\n",
      "/var/folders/wj/11sgsjxd7x75l9tkc6r2l1p80000gn/T/ipykernel_4806/2014460613.py:510: RuntimeWarning: Mean of empty slice\n",
      "  avg_dist = avg_dist + [np.nanmean(dist)] * len(dist)\n",
      "/var/folders/wj/11sgsjxd7x75l9tkc6r2l1p80000gn/T/ipykernel_4806/2014460613.py:537: FutureWarning: Series.fillna with 'method' is deprecated and will raise in a future version. Use obj.ffill() or obj.bfill() instead.\n",
      "  for_eye[\"names\"] =  for_eye.names.fillna(method='ffill').fillna(method='bfill')\n"
     ]
    },
    {
     "name": "stdout",
     "output_type": "stream",
     "text": [
      "6406_2\n"
     ]
    },
    {
     "name": "stderr",
     "output_type": "stream",
     "text": [
      "/var/folders/wj/11sgsjxd7x75l9tkc6r2l1p80000gn/T/ipykernel_4806/2014460613.py:505: RuntimeWarning: Mean of empty slice\n",
      "  hon_pos = [np.nanmean(hon_pos, axis=0)] * len(dist)\n",
      "/var/folders/wj/11sgsjxd7x75l9tkc6r2l1p80000gn/T/ipykernel_4806/2014460613.py:510: RuntimeWarning: Mean of empty slice\n",
      "  avg_dist = avg_dist + [np.nanmean(dist)] * len(dist)\n",
      "/var/folders/wj/11sgsjxd7x75l9tkc6r2l1p80000gn/T/ipykernel_4806/2014460613.py:537: FutureWarning: Series.fillna with 'method' is deprecated and will raise in a future version. Use obj.ffill() or obj.bfill() instead.\n",
      "  for_eye[\"names\"] =  for_eye.names.fillna(method='ffill').fillna(method='bfill')\n"
     ]
    },
    {
     "name": "stdout",
     "output_type": "stream",
     "text": [
      "6406_3\n"
     ]
    },
    {
     "name": "stderr",
     "output_type": "stream",
     "text": [
      "/var/folders/wj/11sgsjxd7x75l9tkc6r2l1p80000gn/T/ipykernel_4806/2014460613.py:505: RuntimeWarning: Mean of empty slice\n",
      "  hon_pos = [np.nanmean(hon_pos, axis=0)] * len(dist)\n",
      "/var/folders/wj/11sgsjxd7x75l9tkc6r2l1p80000gn/T/ipykernel_4806/2014460613.py:510: RuntimeWarning: Mean of empty slice\n",
      "  avg_dist = avg_dist + [np.nanmean(dist)] * len(dist)\n",
      "/var/folders/wj/11sgsjxd7x75l9tkc6r2l1p80000gn/T/ipykernel_4806/2014460613.py:537: FutureWarning: Series.fillna with 'method' is deprecated and will raise in a future version. Use obj.ffill() or obj.bfill() instead.\n",
      "  for_eye[\"names\"] =  for_eye.names.fillna(method='ffill').fillna(method='bfill')\n"
     ]
    },
    {
     "name": "stdout",
     "output_type": "stream",
     "text": [
      "6406_4\n"
     ]
    },
    {
     "name": "stderr",
     "output_type": "stream",
     "text": [
      "/var/folders/wj/11sgsjxd7x75l9tkc6r2l1p80000gn/T/ipykernel_4806/2014460613.py:505: RuntimeWarning: Mean of empty slice\n",
      "  hon_pos = [np.nanmean(hon_pos, axis=0)] * len(dist)\n",
      "/var/folders/wj/11sgsjxd7x75l9tkc6r2l1p80000gn/T/ipykernel_4806/2014460613.py:510: RuntimeWarning: Mean of empty slice\n",
      "  avg_dist = avg_dist + [np.nanmean(dist)] * len(dist)\n",
      "/var/folders/wj/11sgsjxd7x75l9tkc6r2l1p80000gn/T/ipykernel_4806/2014460613.py:537: FutureWarning: Series.fillna with 'method' is deprecated and will raise in a future version. Use obj.ffill() or obj.bfill() instead.\n",
      "  for_eye[\"names\"] =  for_eye.names.fillna(method='ffill').fillna(method='bfill')\n"
     ]
    },
    {
     "name": "stdout",
     "output_type": "stream",
     "text": [
      "6406_5\n"
     ]
    },
    {
     "name": "stderr",
     "output_type": "stream",
     "text": [
      "/var/folders/wj/11sgsjxd7x75l9tkc6r2l1p80000gn/T/ipykernel_4806/2014460613.py:505: RuntimeWarning: Mean of empty slice\n",
      "  hon_pos = [np.nanmean(hon_pos, axis=0)] * len(dist)\n",
      "/var/folders/wj/11sgsjxd7x75l9tkc6r2l1p80000gn/T/ipykernel_4806/2014460613.py:510: RuntimeWarning: Mean of empty slice\n",
      "  avg_dist = avg_dist + [np.nanmean(dist)] * len(dist)\n",
      "/var/folders/wj/11sgsjxd7x75l9tkc6r2l1p80000gn/T/ipykernel_4806/2014460613.py:537: FutureWarning: Series.fillna with 'method' is deprecated and will raise in a future version. Use obj.ffill() or obj.bfill() instead.\n",
      "  for_eye[\"names\"] =  for_eye.names.fillna(method='ffill').fillna(method='bfill')\n"
     ]
    },
    {
     "name": "stdout",
     "output_type": "stream",
     "text": [
      "7081_1\n"
     ]
    },
    {
     "name": "stderr",
     "output_type": "stream",
     "text": [
      "/var/folders/wj/11sgsjxd7x75l9tkc6r2l1p80000gn/T/ipykernel_4806/2014460613.py:505: RuntimeWarning: Mean of empty slice\n",
      "  hon_pos = [np.nanmean(hon_pos, axis=0)] * len(dist)\n",
      "/var/folders/wj/11sgsjxd7x75l9tkc6r2l1p80000gn/T/ipykernel_4806/2014460613.py:510: RuntimeWarning: Mean of empty slice\n",
      "  avg_dist = avg_dist + [np.nanmean(dist)] * len(dist)\n",
      "/var/folders/wj/11sgsjxd7x75l9tkc6r2l1p80000gn/T/ipykernel_4806/2014460613.py:537: FutureWarning: Series.fillna with 'method' is deprecated and will raise in a future version. Use obj.ffill() or obj.bfill() instead.\n",
      "  for_eye[\"names\"] =  for_eye.names.fillna(method='ffill').fillna(method='bfill')\n"
     ]
    },
    {
     "name": "stdout",
     "output_type": "stream",
     "text": [
      "7081_2\n"
     ]
    },
    {
     "name": "stderr",
     "output_type": "stream",
     "text": [
      "/var/folders/wj/11sgsjxd7x75l9tkc6r2l1p80000gn/T/ipykernel_4806/2014460613.py:505: RuntimeWarning: Mean of empty slice\n",
      "  hon_pos = [np.nanmean(hon_pos, axis=0)] * len(dist)\n",
      "/var/folders/wj/11sgsjxd7x75l9tkc6r2l1p80000gn/T/ipykernel_4806/2014460613.py:510: RuntimeWarning: Mean of empty slice\n",
      "  avg_dist = avg_dist + [np.nanmean(dist)] * len(dist)\n",
      "/var/folders/wj/11sgsjxd7x75l9tkc6r2l1p80000gn/T/ipykernel_4806/2014460613.py:537: FutureWarning: Series.fillna with 'method' is deprecated and will raise in a future version. Use obj.ffill() or obj.bfill() instead.\n",
      "  for_eye[\"names\"] =  for_eye.names.fillna(method='ffill').fillna(method='bfill')\n"
     ]
    },
    {
     "name": "stdout",
     "output_type": "stream",
     "text": [
      "7081_3\n"
     ]
    },
    {
     "name": "stderr",
     "output_type": "stream",
     "text": [
      "/var/folders/wj/11sgsjxd7x75l9tkc6r2l1p80000gn/T/ipykernel_4806/2014460613.py:505: RuntimeWarning: Mean of empty slice\n",
      "  hon_pos = [np.nanmean(hon_pos, axis=0)] * len(dist)\n",
      "/var/folders/wj/11sgsjxd7x75l9tkc6r2l1p80000gn/T/ipykernel_4806/2014460613.py:510: RuntimeWarning: Mean of empty slice\n",
      "  avg_dist = avg_dist + [np.nanmean(dist)] * len(dist)\n",
      "/var/folders/wj/11sgsjxd7x75l9tkc6r2l1p80000gn/T/ipykernel_4806/2014460613.py:537: FutureWarning: Series.fillna with 'method' is deprecated and will raise in a future version. Use obj.ffill() or obj.bfill() instead.\n",
      "  for_eye[\"names\"] =  for_eye.names.fillna(method='ffill').fillna(method='bfill')\n"
     ]
    },
    {
     "name": "stdout",
     "output_type": "stream",
     "text": [
      "7081_4\n"
     ]
    },
    {
     "name": "stderr",
     "output_type": "stream",
     "text": [
      "/var/folders/wj/11sgsjxd7x75l9tkc6r2l1p80000gn/T/ipykernel_4806/2014460613.py:505: RuntimeWarning: Mean of empty slice\n",
      "  hon_pos = [np.nanmean(hon_pos, axis=0)] * len(dist)\n",
      "/var/folders/wj/11sgsjxd7x75l9tkc6r2l1p80000gn/T/ipykernel_4806/2014460613.py:510: RuntimeWarning: Mean of empty slice\n",
      "  avg_dist = avg_dist + [np.nanmean(dist)] * len(dist)\n",
      "/var/folders/wj/11sgsjxd7x75l9tkc6r2l1p80000gn/T/ipykernel_4806/2014460613.py:537: FutureWarning: Series.fillna with 'method' is deprecated and will raise in a future version. Use obj.ffill() or obj.bfill() instead.\n",
      "  for_eye[\"names\"] =  for_eye.names.fillna(method='ffill').fillna(method='bfill')\n"
     ]
    },
    {
     "name": "stdout",
     "output_type": "stream",
     "text": [
      "7081_5\n"
     ]
    },
    {
     "name": "stderr",
     "output_type": "stream",
     "text": [
      "/var/folders/wj/11sgsjxd7x75l9tkc6r2l1p80000gn/T/ipykernel_4806/2014460613.py:505: RuntimeWarning: Mean of empty slice\n",
      "  hon_pos = [np.nanmean(hon_pos, axis=0)] * len(dist)\n",
      "/var/folders/wj/11sgsjxd7x75l9tkc6r2l1p80000gn/T/ipykernel_4806/2014460613.py:510: RuntimeWarning: Mean of empty slice\n",
      "  avg_dist = avg_dist + [np.nanmean(dist)] * len(dist)\n",
      "/var/folders/wj/11sgsjxd7x75l9tkc6r2l1p80000gn/T/ipykernel_4806/2014460613.py:537: FutureWarning: Series.fillna with 'method' is deprecated and will raise in a future version. Use obj.ffill() or obj.bfill() instead.\n",
      "  for_eye[\"names\"] =  for_eye.names.fillna(method='ffill').fillna(method='bfill')\n"
     ]
    },
    {
     "name": "stdout",
     "output_type": "stream",
     "text": [
      "7393_1\n"
     ]
    },
    {
     "name": "stderr",
     "output_type": "stream",
     "text": [
      "/var/folders/wj/11sgsjxd7x75l9tkc6r2l1p80000gn/T/ipykernel_4806/2014460613.py:505: RuntimeWarning: Mean of empty slice\n",
      "  hon_pos = [np.nanmean(hon_pos, axis=0)] * len(dist)\n",
      "/var/folders/wj/11sgsjxd7x75l9tkc6r2l1p80000gn/T/ipykernel_4806/2014460613.py:510: RuntimeWarning: Mean of empty slice\n",
      "  avg_dist = avg_dist + [np.nanmean(dist)] * len(dist)\n",
      "/var/folders/wj/11sgsjxd7x75l9tkc6r2l1p80000gn/T/ipykernel_4806/2014460613.py:537: FutureWarning: Series.fillna with 'method' is deprecated and will raise in a future version. Use obj.ffill() or obj.bfill() instead.\n",
      "  for_eye[\"names\"] =  for_eye.names.fillna(method='ffill').fillna(method='bfill')\n"
     ]
    },
    {
     "name": "stdout",
     "output_type": "stream",
     "text": [
      "7393_2\n"
     ]
    },
    {
     "name": "stderr",
     "output_type": "stream",
     "text": [
      "/var/folders/wj/11sgsjxd7x75l9tkc6r2l1p80000gn/T/ipykernel_4806/2014460613.py:505: RuntimeWarning: Mean of empty slice\n",
      "  hon_pos = [np.nanmean(hon_pos, axis=0)] * len(dist)\n",
      "/var/folders/wj/11sgsjxd7x75l9tkc6r2l1p80000gn/T/ipykernel_4806/2014460613.py:510: RuntimeWarning: Mean of empty slice\n",
      "  avg_dist = avg_dist + [np.nanmean(dist)] * len(dist)\n",
      "/var/folders/wj/11sgsjxd7x75l9tkc6r2l1p80000gn/T/ipykernel_4806/2014460613.py:537: FutureWarning: Series.fillna with 'method' is deprecated and will raise in a future version. Use obj.ffill() or obj.bfill() instead.\n",
      "  for_eye[\"names\"] =  for_eye.names.fillna(method='ffill').fillna(method='bfill')\n"
     ]
    },
    {
     "name": "stdout",
     "output_type": "stream",
     "text": [
      "7393_3\n"
     ]
    },
    {
     "name": "stderr",
     "output_type": "stream",
     "text": [
      "/var/folders/wj/11sgsjxd7x75l9tkc6r2l1p80000gn/T/ipykernel_4806/2014460613.py:505: RuntimeWarning: Mean of empty slice\n",
      "  hon_pos = [np.nanmean(hon_pos, axis=0)] * len(dist)\n",
      "/var/folders/wj/11sgsjxd7x75l9tkc6r2l1p80000gn/T/ipykernel_4806/2014460613.py:510: RuntimeWarning: Mean of empty slice\n",
      "  avg_dist = avg_dist + [np.nanmean(dist)] * len(dist)\n",
      "/var/folders/wj/11sgsjxd7x75l9tkc6r2l1p80000gn/T/ipykernel_4806/2014460613.py:537: FutureWarning: Series.fillna with 'method' is deprecated and will raise in a future version. Use obj.ffill() or obj.bfill() instead.\n",
      "  for_eye[\"names\"] =  for_eye.names.fillna(method='ffill').fillna(method='bfill')\n"
     ]
    },
    {
     "name": "stdout",
     "output_type": "stream",
     "text": [
      "7393_4\n"
     ]
    },
    {
     "name": "stderr",
     "output_type": "stream",
     "text": [
      "/var/folders/wj/11sgsjxd7x75l9tkc6r2l1p80000gn/T/ipykernel_4806/2014460613.py:505: RuntimeWarning: Mean of empty slice\n",
      "  hon_pos = [np.nanmean(hon_pos, axis=0)] * len(dist)\n",
      "/var/folders/wj/11sgsjxd7x75l9tkc6r2l1p80000gn/T/ipykernel_4806/2014460613.py:510: RuntimeWarning: Mean of empty slice\n",
      "  avg_dist = avg_dist + [np.nanmean(dist)] * len(dist)\n",
      "/var/folders/wj/11sgsjxd7x75l9tkc6r2l1p80000gn/T/ipykernel_4806/2014460613.py:537: FutureWarning: Series.fillna with 'method' is deprecated and will raise in a future version. Use obj.ffill() or obj.bfill() instead.\n",
      "  for_eye[\"names\"] =  for_eye.names.fillna(method='ffill').fillna(method='bfill')\n"
     ]
    },
    {
     "name": "stdout",
     "output_type": "stream",
     "text": [
      "7393_5\n"
     ]
    },
    {
     "name": "stderr",
     "output_type": "stream",
     "text": [
      "/var/folders/wj/11sgsjxd7x75l9tkc6r2l1p80000gn/T/ipykernel_4806/2014460613.py:505: RuntimeWarning: Mean of empty slice\n",
      "  hon_pos = [np.nanmean(hon_pos, axis=0)] * len(dist)\n",
      "/var/folders/wj/11sgsjxd7x75l9tkc6r2l1p80000gn/T/ipykernel_4806/2014460613.py:510: RuntimeWarning: Mean of empty slice\n",
      "  avg_dist = avg_dist + [np.nanmean(dist)] * len(dist)\n",
      "/var/folders/wj/11sgsjxd7x75l9tkc6r2l1p80000gn/T/ipykernel_4806/2014460613.py:537: FutureWarning: Series.fillna with 'method' is deprecated and will raise in a future version. Use obj.ffill() or obj.bfill() instead.\n",
      "  for_eye[\"names\"] =  for_eye.names.fillna(method='ffill').fillna(method='bfill')\n"
     ]
    },
    {
     "name": "stdout",
     "output_type": "stream",
     "text": [
      "7823_1\n"
     ]
    },
    {
     "name": "stderr",
     "output_type": "stream",
     "text": [
      "/var/folders/wj/11sgsjxd7x75l9tkc6r2l1p80000gn/T/ipykernel_4806/2014460613.py:505: RuntimeWarning: Mean of empty slice\n",
      "  hon_pos = [np.nanmean(hon_pos, axis=0)] * len(dist)\n",
      "/var/folders/wj/11sgsjxd7x75l9tkc6r2l1p80000gn/T/ipykernel_4806/2014460613.py:510: RuntimeWarning: Mean of empty slice\n",
      "  avg_dist = avg_dist + [np.nanmean(dist)] * len(dist)\n",
      "/var/folders/wj/11sgsjxd7x75l9tkc6r2l1p80000gn/T/ipykernel_4806/2014460613.py:537: FutureWarning: Series.fillna with 'method' is deprecated and will raise in a future version. Use obj.ffill() or obj.bfill() instead.\n",
      "  for_eye[\"names\"] =  for_eye.names.fillna(method='ffill').fillna(method='bfill')\n"
     ]
    },
    {
     "name": "stdout",
     "output_type": "stream",
     "text": [
      "7823_2\n"
     ]
    },
    {
     "name": "stderr",
     "output_type": "stream",
     "text": [
      "/var/folders/wj/11sgsjxd7x75l9tkc6r2l1p80000gn/T/ipykernel_4806/2014460613.py:505: RuntimeWarning: Mean of empty slice\n",
      "  hon_pos = [np.nanmean(hon_pos, axis=0)] * len(dist)\n",
      "/var/folders/wj/11sgsjxd7x75l9tkc6r2l1p80000gn/T/ipykernel_4806/2014460613.py:510: RuntimeWarning: Mean of empty slice\n",
      "  avg_dist = avg_dist + [np.nanmean(dist)] * len(dist)\n",
      "/var/folders/wj/11sgsjxd7x75l9tkc6r2l1p80000gn/T/ipykernel_4806/2014460613.py:537: FutureWarning: Series.fillna with 'method' is deprecated and will raise in a future version. Use obj.ffill() or obj.bfill() instead.\n",
      "  for_eye[\"names\"] =  for_eye.names.fillna(method='ffill').fillna(method='bfill')\n"
     ]
    },
    {
     "name": "stdout",
     "output_type": "stream",
     "text": [
      "7823_3\n"
     ]
    },
    {
     "name": "stderr",
     "output_type": "stream",
     "text": [
      "/var/folders/wj/11sgsjxd7x75l9tkc6r2l1p80000gn/T/ipykernel_4806/2014460613.py:505: RuntimeWarning: Mean of empty slice\n",
      "  hon_pos = [np.nanmean(hon_pos, axis=0)] * len(dist)\n",
      "/var/folders/wj/11sgsjxd7x75l9tkc6r2l1p80000gn/T/ipykernel_4806/2014460613.py:510: RuntimeWarning: Mean of empty slice\n",
      "  avg_dist = avg_dist + [np.nanmean(dist)] * len(dist)\n",
      "/var/folders/wj/11sgsjxd7x75l9tkc6r2l1p80000gn/T/ipykernel_4806/2014460613.py:537: FutureWarning: Series.fillna with 'method' is deprecated and will raise in a future version. Use obj.ffill() or obj.bfill() instead.\n",
      "  for_eye[\"names\"] =  for_eye.names.fillna(method='ffill').fillna(method='bfill')\n"
     ]
    },
    {
     "name": "stdout",
     "output_type": "stream",
     "text": [
      "7823_4\n"
     ]
    },
    {
     "name": "stderr",
     "output_type": "stream",
     "text": [
      "/var/folders/wj/11sgsjxd7x75l9tkc6r2l1p80000gn/T/ipykernel_4806/2014460613.py:505: RuntimeWarning: Mean of empty slice\n",
      "  hon_pos = [np.nanmean(hon_pos, axis=0)] * len(dist)\n",
      "/var/folders/wj/11sgsjxd7x75l9tkc6r2l1p80000gn/T/ipykernel_4806/2014460613.py:510: RuntimeWarning: Mean of empty slice\n",
      "  avg_dist = avg_dist + [np.nanmean(dist)] * len(dist)\n",
      "/var/folders/wj/11sgsjxd7x75l9tkc6r2l1p80000gn/T/ipykernel_4806/2014460613.py:537: FutureWarning: Series.fillna with 'method' is deprecated and will raise in a future version. Use obj.ffill() or obj.bfill() instead.\n",
      "  for_eye[\"names\"] =  for_eye.names.fillna(method='ffill').fillna(method='bfill')\n"
     ]
    },
    {
     "name": "stdout",
     "output_type": "stream",
     "text": [
      "7823_5\n"
     ]
    },
    {
     "name": "stderr",
     "output_type": "stream",
     "text": [
      "/var/folders/wj/11sgsjxd7x75l9tkc6r2l1p80000gn/T/ipykernel_4806/2014460613.py:505: RuntimeWarning: Mean of empty slice\n",
      "  hon_pos = [np.nanmean(hon_pos, axis=0)] * len(dist)\n",
      "/var/folders/wj/11sgsjxd7x75l9tkc6r2l1p80000gn/T/ipykernel_4806/2014460613.py:510: RuntimeWarning: Mean of empty slice\n",
      "  avg_dist = avg_dist + [np.nanmean(dist)] * len(dist)\n",
      "/var/folders/wj/11sgsjxd7x75l9tkc6r2l1p80000gn/T/ipykernel_4806/2014460613.py:537: FutureWarning: Series.fillna with 'method' is deprecated and will raise in a future version. Use obj.ffill() or obj.bfill() instead.\n",
      "  for_eye[\"names\"] =  for_eye.names.fillna(method='ffill').fillna(method='bfill')\n"
     ]
    },
    {
     "name": "stdout",
     "output_type": "stream",
     "text": [
      "7935_1\n"
     ]
    },
    {
     "name": "stderr",
     "output_type": "stream",
     "text": [
      "/opt/anaconda3/lib/python3.12/site-packages/numpy/core/fromnumeric.py:3504: RuntimeWarning: Mean of empty slice.\n",
      "  return _methods._mean(a, axis=axis, dtype=dtype,\n",
      "/opt/anaconda3/lib/python3.12/site-packages/numpy/core/_methods.py:129: RuntimeWarning: invalid value encountered in scalar divide\n",
      "  ret = ret.dtype.type(ret / rcount)\n",
      "/var/folders/wj/11sgsjxd7x75l9tkc6r2l1p80000gn/T/ipykernel_4806/2014460613.py:505: RuntimeWarning: Mean of empty slice\n",
      "  hon_pos = [np.nanmean(hon_pos, axis=0)] * len(dist)\n",
      "/var/folders/wj/11sgsjxd7x75l9tkc6r2l1p80000gn/T/ipykernel_4806/2014460613.py:510: RuntimeWarning: Mean of empty slice\n",
      "  avg_dist = avg_dist + [np.nanmean(dist)] * len(dist)\n",
      "/var/folders/wj/11sgsjxd7x75l9tkc6r2l1p80000gn/T/ipykernel_4806/2014460613.py:537: FutureWarning: Series.fillna with 'method' is deprecated and will raise in a future version. Use obj.ffill() or obj.bfill() instead.\n",
      "  for_eye[\"names\"] =  for_eye.names.fillna(method='ffill').fillna(method='bfill')\n"
     ]
    },
    {
     "name": "stdout",
     "output_type": "stream",
     "text": [
      "7935_2\n"
     ]
    },
    {
     "name": "stderr",
     "output_type": "stream",
     "text": [
      "/opt/anaconda3/lib/python3.12/site-packages/numpy/core/fromnumeric.py:3504: RuntimeWarning: Mean of empty slice.\n",
      "  return _methods._mean(a, axis=axis, dtype=dtype,\n",
      "/opt/anaconda3/lib/python3.12/site-packages/numpy/core/_methods.py:129: RuntimeWarning: invalid value encountered in scalar divide\n",
      "  ret = ret.dtype.type(ret / rcount)\n",
      "/var/folders/wj/11sgsjxd7x75l9tkc6r2l1p80000gn/T/ipykernel_4806/2014460613.py:505: RuntimeWarning: Mean of empty slice\n",
      "  hon_pos = [np.nanmean(hon_pos, axis=0)] * len(dist)\n",
      "/var/folders/wj/11sgsjxd7x75l9tkc6r2l1p80000gn/T/ipykernel_4806/2014460613.py:510: RuntimeWarning: Mean of empty slice\n",
      "  avg_dist = avg_dist + [np.nanmean(dist)] * len(dist)\n",
      "/var/folders/wj/11sgsjxd7x75l9tkc6r2l1p80000gn/T/ipykernel_4806/2014460613.py:537: FutureWarning: Series.fillna with 'method' is deprecated and will raise in a future version. Use obj.ffill() or obj.bfill() instead.\n",
      "  for_eye[\"names\"] =  for_eye.names.fillna(method='ffill').fillna(method='bfill')\n"
     ]
    },
    {
     "name": "stdout",
     "output_type": "stream",
     "text": [
      "7935_3\n"
     ]
    },
    {
     "name": "stderr",
     "output_type": "stream",
     "text": [
      "/opt/anaconda3/lib/python3.12/site-packages/numpy/core/fromnumeric.py:3504: RuntimeWarning: Mean of empty slice.\n",
      "  return _methods._mean(a, axis=axis, dtype=dtype,\n",
      "/opt/anaconda3/lib/python3.12/site-packages/numpy/core/_methods.py:129: RuntimeWarning: invalid value encountered in scalar divide\n",
      "  ret = ret.dtype.type(ret / rcount)\n",
      "/var/folders/wj/11sgsjxd7x75l9tkc6r2l1p80000gn/T/ipykernel_4806/2014460613.py:505: RuntimeWarning: Mean of empty slice\n",
      "  hon_pos = [np.nanmean(hon_pos, axis=0)] * len(dist)\n",
      "/var/folders/wj/11sgsjxd7x75l9tkc6r2l1p80000gn/T/ipykernel_4806/2014460613.py:510: RuntimeWarning: Mean of empty slice\n",
      "  avg_dist = avg_dist + [np.nanmean(dist)] * len(dist)\n",
      "/var/folders/wj/11sgsjxd7x75l9tkc6r2l1p80000gn/T/ipykernel_4806/2014460613.py:537: FutureWarning: Series.fillna with 'method' is deprecated and will raise in a future version. Use obj.ffill() or obj.bfill() instead.\n",
      "  for_eye[\"names\"] =  for_eye.names.fillna(method='ffill').fillna(method='bfill')\n"
     ]
    },
    {
     "name": "stdout",
     "output_type": "stream",
     "text": [
      "7935_4\n"
     ]
    },
    {
     "name": "stderr",
     "output_type": "stream",
     "text": [
      "/opt/anaconda3/lib/python3.12/site-packages/numpy/core/fromnumeric.py:3504: RuntimeWarning: Mean of empty slice.\n",
      "  return _methods._mean(a, axis=axis, dtype=dtype,\n",
      "/opt/anaconda3/lib/python3.12/site-packages/numpy/core/_methods.py:129: RuntimeWarning: invalid value encountered in scalar divide\n",
      "  ret = ret.dtype.type(ret / rcount)\n",
      "/var/folders/wj/11sgsjxd7x75l9tkc6r2l1p80000gn/T/ipykernel_4806/2014460613.py:505: RuntimeWarning: Mean of empty slice\n",
      "  hon_pos = [np.nanmean(hon_pos, axis=0)] * len(dist)\n",
      "/var/folders/wj/11sgsjxd7x75l9tkc6r2l1p80000gn/T/ipykernel_4806/2014460613.py:510: RuntimeWarning: Mean of empty slice\n",
      "  avg_dist = avg_dist + [np.nanmean(dist)] * len(dist)\n",
      "/var/folders/wj/11sgsjxd7x75l9tkc6r2l1p80000gn/T/ipykernel_4806/2014460613.py:537: FutureWarning: Series.fillna with 'method' is deprecated and will raise in a future version. Use obj.ffill() or obj.bfill() instead.\n",
      "  for_eye[\"names\"] =  for_eye.names.fillna(method='ffill').fillna(method='bfill')\n"
     ]
    },
    {
     "name": "stdout",
     "output_type": "stream",
     "text": [
      "7935_5\n"
     ]
    },
    {
     "name": "stderr",
     "output_type": "stream",
     "text": [
      "/var/folders/wj/11sgsjxd7x75l9tkc6r2l1p80000gn/T/ipykernel_4806/2014460613.py:505: RuntimeWarning: Mean of empty slice\n",
      "  hon_pos = [np.nanmean(hon_pos, axis=0)] * len(dist)\n",
      "/var/folders/wj/11sgsjxd7x75l9tkc6r2l1p80000gn/T/ipykernel_4806/2014460613.py:510: RuntimeWarning: Mean of empty slice\n",
      "  avg_dist = avg_dist + [np.nanmean(dist)] * len(dist)\n",
      "/var/folders/wj/11sgsjxd7x75l9tkc6r2l1p80000gn/T/ipykernel_4806/2014460613.py:537: FutureWarning: Series.fillna with 'method' is deprecated and will raise in a future version. Use obj.ffill() or obj.bfill() instead.\n",
      "  for_eye[\"names\"] =  for_eye.names.fillna(method='ffill').fillna(method='bfill')\n"
     ]
    },
    {
     "name": "stdout",
     "output_type": "stream",
     "text": [
      "8629_1\n"
     ]
    },
    {
     "name": "stderr",
     "output_type": "stream",
     "text": [
      "/var/folders/wj/11sgsjxd7x75l9tkc6r2l1p80000gn/T/ipykernel_4806/2014460613.py:505: RuntimeWarning: Mean of empty slice\n",
      "  hon_pos = [np.nanmean(hon_pos, axis=0)] * len(dist)\n",
      "/var/folders/wj/11sgsjxd7x75l9tkc6r2l1p80000gn/T/ipykernel_4806/2014460613.py:510: RuntimeWarning: Mean of empty slice\n",
      "  avg_dist = avg_dist + [np.nanmean(dist)] * len(dist)\n",
      "/var/folders/wj/11sgsjxd7x75l9tkc6r2l1p80000gn/T/ipykernel_4806/2014460613.py:537: FutureWarning: Series.fillna with 'method' is deprecated and will raise in a future version. Use obj.ffill() or obj.bfill() instead.\n",
      "  for_eye[\"names\"] =  for_eye.names.fillna(method='ffill').fillna(method='bfill')\n"
     ]
    },
    {
     "name": "stdout",
     "output_type": "stream",
     "text": [
      "8629_2\n"
     ]
    },
    {
     "name": "stderr",
     "output_type": "stream",
     "text": [
      "/opt/anaconda3/lib/python3.12/site-packages/numpy/core/fromnumeric.py:3504: RuntimeWarning: Mean of empty slice.\n",
      "  return _methods._mean(a, axis=axis, dtype=dtype,\n",
      "/opt/anaconda3/lib/python3.12/site-packages/numpy/core/_methods.py:129: RuntimeWarning: invalid value encountered in scalar divide\n",
      "  ret = ret.dtype.type(ret / rcount)\n",
      "/var/folders/wj/11sgsjxd7x75l9tkc6r2l1p80000gn/T/ipykernel_4806/2014460613.py:505: RuntimeWarning: Mean of empty slice\n",
      "  hon_pos = [np.nanmean(hon_pos, axis=0)] * len(dist)\n",
      "/var/folders/wj/11sgsjxd7x75l9tkc6r2l1p80000gn/T/ipykernel_4806/2014460613.py:510: RuntimeWarning: Mean of empty slice\n",
      "  avg_dist = avg_dist + [np.nanmean(dist)] * len(dist)\n",
      "/var/folders/wj/11sgsjxd7x75l9tkc6r2l1p80000gn/T/ipykernel_4806/2014460613.py:537: FutureWarning: Series.fillna with 'method' is deprecated and will raise in a future version. Use obj.ffill() or obj.bfill() instead.\n",
      "  for_eye[\"names\"] =  for_eye.names.fillna(method='ffill').fillna(method='bfill')\n"
     ]
    },
    {
     "name": "stdout",
     "output_type": "stream",
     "text": [
      "8629_3\n"
     ]
    },
    {
     "name": "stderr",
     "output_type": "stream",
     "text": [
      "/var/folders/wj/11sgsjxd7x75l9tkc6r2l1p80000gn/T/ipykernel_4806/2014460613.py:505: RuntimeWarning: Mean of empty slice\n",
      "  hon_pos = [np.nanmean(hon_pos, axis=0)] * len(dist)\n",
      "/var/folders/wj/11sgsjxd7x75l9tkc6r2l1p80000gn/T/ipykernel_4806/2014460613.py:510: RuntimeWarning: Mean of empty slice\n",
      "  avg_dist = avg_dist + [np.nanmean(dist)] * len(dist)\n",
      "/var/folders/wj/11sgsjxd7x75l9tkc6r2l1p80000gn/T/ipykernel_4806/2014460613.py:537: FutureWarning: Series.fillna with 'method' is deprecated and will raise in a future version. Use obj.ffill() or obj.bfill() instead.\n",
      "  for_eye[\"names\"] =  for_eye.names.fillna(method='ffill').fillna(method='bfill')\n"
     ]
    },
    {
     "name": "stdout",
     "output_type": "stream",
     "text": [
      "8629_4\n"
     ]
    },
    {
     "name": "stderr",
     "output_type": "stream",
     "text": [
      "/var/folders/wj/11sgsjxd7x75l9tkc6r2l1p80000gn/T/ipykernel_4806/2014460613.py:505: RuntimeWarning: Mean of empty slice\n",
      "  hon_pos = [np.nanmean(hon_pos, axis=0)] * len(dist)\n",
      "/var/folders/wj/11sgsjxd7x75l9tkc6r2l1p80000gn/T/ipykernel_4806/2014460613.py:510: RuntimeWarning: Mean of empty slice\n",
      "  avg_dist = avg_dist + [np.nanmean(dist)] * len(dist)\n",
      "/var/folders/wj/11sgsjxd7x75l9tkc6r2l1p80000gn/T/ipykernel_4806/2014460613.py:537: FutureWarning: Series.fillna with 'method' is deprecated and will raise in a future version. Use obj.ffill() or obj.bfill() instead.\n",
      "  for_eye[\"names\"] =  for_eye.names.fillna(method='ffill').fillna(method='bfill')\n"
     ]
    },
    {
     "name": "stdout",
     "output_type": "stream",
     "text": [
      "8629_5\n"
     ]
    },
    {
     "name": "stderr",
     "output_type": "stream",
     "text": [
      "/var/folders/wj/11sgsjxd7x75l9tkc6r2l1p80000gn/T/ipykernel_4806/2014460613.py:505: RuntimeWarning: Mean of empty slice\n",
      "  hon_pos = [np.nanmean(hon_pos, axis=0)] * len(dist)\n",
      "/var/folders/wj/11sgsjxd7x75l9tkc6r2l1p80000gn/T/ipykernel_4806/2014460613.py:510: RuntimeWarning: Mean of empty slice\n",
      "  avg_dist = avg_dist + [np.nanmean(dist)] * len(dist)\n",
      "/var/folders/wj/11sgsjxd7x75l9tkc6r2l1p80000gn/T/ipykernel_4806/2014460613.py:537: FutureWarning: Series.fillna with 'method' is deprecated and will raise in a future version. Use obj.ffill() or obj.bfill() instead.\n",
      "  for_eye[\"names\"] =  for_eye.names.fillna(method='ffill').fillna(method='bfill')\n"
     ]
    },
    {
     "name": "stdout",
     "output_type": "stream",
     "text": [
      "9297_1\n"
     ]
    },
    {
     "name": "stderr",
     "output_type": "stream",
     "text": [
      "/var/folders/wj/11sgsjxd7x75l9tkc6r2l1p80000gn/T/ipykernel_4806/2014460613.py:505: RuntimeWarning: Mean of empty slice\n",
      "  hon_pos = [np.nanmean(hon_pos, axis=0)] * len(dist)\n",
      "/var/folders/wj/11sgsjxd7x75l9tkc6r2l1p80000gn/T/ipykernel_4806/2014460613.py:510: RuntimeWarning: Mean of empty slice\n",
      "  avg_dist = avg_dist + [np.nanmean(dist)] * len(dist)\n",
      "/var/folders/wj/11sgsjxd7x75l9tkc6r2l1p80000gn/T/ipykernel_4806/2014460613.py:537: FutureWarning: Series.fillna with 'method' is deprecated and will raise in a future version. Use obj.ffill() or obj.bfill() instead.\n",
      "  for_eye[\"names\"] =  for_eye.names.fillna(method='ffill').fillna(method='bfill')\n"
     ]
    },
    {
     "name": "stdout",
     "output_type": "stream",
     "text": [
      "9297_2\n"
     ]
    },
    {
     "name": "stderr",
     "output_type": "stream",
     "text": [
      "/var/folders/wj/11sgsjxd7x75l9tkc6r2l1p80000gn/T/ipykernel_4806/2014460613.py:505: RuntimeWarning: Mean of empty slice\n",
      "  hon_pos = [np.nanmean(hon_pos, axis=0)] * len(dist)\n",
      "/var/folders/wj/11sgsjxd7x75l9tkc6r2l1p80000gn/T/ipykernel_4806/2014460613.py:510: RuntimeWarning: Mean of empty slice\n",
      "  avg_dist = avg_dist + [np.nanmean(dist)] * len(dist)\n",
      "/var/folders/wj/11sgsjxd7x75l9tkc6r2l1p80000gn/T/ipykernel_4806/2014460613.py:537: FutureWarning: Series.fillna with 'method' is deprecated and will raise in a future version. Use obj.ffill() or obj.bfill() instead.\n",
      "  for_eye[\"names\"] =  for_eye.names.fillna(method='ffill').fillna(method='bfill')\n"
     ]
    },
    {
     "name": "stdout",
     "output_type": "stream",
     "text": [
      "9297_3\n"
     ]
    },
    {
     "name": "stderr",
     "output_type": "stream",
     "text": [
      "/var/folders/wj/11sgsjxd7x75l9tkc6r2l1p80000gn/T/ipykernel_4806/2014460613.py:505: RuntimeWarning: Mean of empty slice\n",
      "  hon_pos = [np.nanmean(hon_pos, axis=0)] * len(dist)\n",
      "/var/folders/wj/11sgsjxd7x75l9tkc6r2l1p80000gn/T/ipykernel_4806/2014460613.py:510: RuntimeWarning: Mean of empty slice\n",
      "  avg_dist = avg_dist + [np.nanmean(dist)] * len(dist)\n",
      "/var/folders/wj/11sgsjxd7x75l9tkc6r2l1p80000gn/T/ipykernel_4806/2014460613.py:537: FutureWarning: Series.fillna with 'method' is deprecated and will raise in a future version. Use obj.ffill() or obj.bfill() instead.\n",
      "  for_eye[\"names\"] =  for_eye.names.fillna(method='ffill').fillna(method='bfill')\n"
     ]
    },
    {
     "name": "stdout",
     "output_type": "stream",
     "text": [
      "9297_4\n"
     ]
    },
    {
     "name": "stderr",
     "output_type": "stream",
     "text": [
      "/var/folders/wj/11sgsjxd7x75l9tkc6r2l1p80000gn/T/ipykernel_4806/2014460613.py:505: RuntimeWarning: Mean of empty slice\n",
      "  hon_pos = [np.nanmean(hon_pos, axis=0)] * len(dist)\n",
      "/var/folders/wj/11sgsjxd7x75l9tkc6r2l1p80000gn/T/ipykernel_4806/2014460613.py:510: RuntimeWarning: Mean of empty slice\n",
      "  avg_dist = avg_dist + [np.nanmean(dist)] * len(dist)\n",
      "/var/folders/wj/11sgsjxd7x75l9tkc6r2l1p80000gn/T/ipykernel_4806/2014460613.py:537: FutureWarning: Series.fillna with 'method' is deprecated and will raise in a future version. Use obj.ffill() or obj.bfill() instead.\n",
      "  for_eye[\"names\"] =  for_eye.names.fillna(method='ffill').fillna(method='bfill')\n"
     ]
    },
    {
     "name": "stdout",
     "output_type": "stream",
     "text": [
      "9297_5\n"
     ]
    },
    {
     "name": "stderr",
     "output_type": "stream",
     "text": [
      "/var/folders/wj/11sgsjxd7x75l9tkc6r2l1p80000gn/T/ipykernel_4806/2014460613.py:505: RuntimeWarning: Mean of empty slice\n",
      "  hon_pos = [np.nanmean(hon_pos, axis=0)] * len(dist)\n",
      "/var/folders/wj/11sgsjxd7x75l9tkc6r2l1p80000gn/T/ipykernel_4806/2014460613.py:510: RuntimeWarning: Mean of empty slice\n",
      "  avg_dist = avg_dist + [np.nanmean(dist)] * len(dist)\n",
      "/var/folders/wj/11sgsjxd7x75l9tkc6r2l1p80000gn/T/ipykernel_4806/2014460613.py:537: FutureWarning: Series.fillna with 'method' is deprecated and will raise in a future version. Use obj.ffill() or obj.bfill() instead.\n",
      "  for_eye[\"names\"] =  for_eye.names.fillna(method='ffill').fillna(method='bfill')\n"
     ]
    },
    {
     "name": "stdout",
     "output_type": "stream",
     "text": [
      "9627_1\n"
     ]
    },
    {
     "name": "stderr",
     "output_type": "stream",
     "text": [
      "/opt/anaconda3/lib/python3.12/site-packages/numpy/core/fromnumeric.py:3504: RuntimeWarning: Mean of empty slice.\n",
      "  return _methods._mean(a, axis=axis, dtype=dtype,\n",
      "/opt/anaconda3/lib/python3.12/site-packages/numpy/core/_methods.py:129: RuntimeWarning: invalid value encountered in scalar divide\n",
      "  ret = ret.dtype.type(ret / rcount)\n",
      "/var/folders/wj/11sgsjxd7x75l9tkc6r2l1p80000gn/T/ipykernel_4806/2014460613.py:505: RuntimeWarning: Mean of empty slice\n",
      "  hon_pos = [np.nanmean(hon_pos, axis=0)] * len(dist)\n",
      "/var/folders/wj/11sgsjxd7x75l9tkc6r2l1p80000gn/T/ipykernel_4806/2014460613.py:510: RuntimeWarning: Mean of empty slice\n",
      "  avg_dist = avg_dist + [np.nanmean(dist)] * len(dist)\n",
      "/var/folders/wj/11sgsjxd7x75l9tkc6r2l1p80000gn/T/ipykernel_4806/2014460613.py:537: FutureWarning: Series.fillna with 'method' is deprecated and will raise in a future version. Use obj.ffill() or obj.bfill() instead.\n",
      "  for_eye[\"names\"] =  for_eye.names.fillna(method='ffill').fillna(method='bfill')\n"
     ]
    },
    {
     "name": "stdout",
     "output_type": "stream",
     "text": [
      "9627_2\n"
     ]
    },
    {
     "name": "stderr",
     "output_type": "stream",
     "text": [
      "/var/folders/wj/11sgsjxd7x75l9tkc6r2l1p80000gn/T/ipykernel_4806/2014460613.py:505: RuntimeWarning: Mean of empty slice\n",
      "  hon_pos = [np.nanmean(hon_pos, axis=0)] * len(dist)\n",
      "/var/folders/wj/11sgsjxd7x75l9tkc6r2l1p80000gn/T/ipykernel_4806/2014460613.py:510: RuntimeWarning: Mean of empty slice\n",
      "  avg_dist = avg_dist + [np.nanmean(dist)] * len(dist)\n",
      "/var/folders/wj/11sgsjxd7x75l9tkc6r2l1p80000gn/T/ipykernel_4806/2014460613.py:537: FutureWarning: Series.fillna with 'method' is deprecated and will raise in a future version. Use obj.ffill() or obj.bfill() instead.\n",
      "  for_eye[\"names\"] =  for_eye.names.fillna(method='ffill').fillna(method='bfill')\n"
     ]
    },
    {
     "name": "stdout",
     "output_type": "stream",
     "text": [
      "9627_3\n"
     ]
    },
    {
     "name": "stderr",
     "output_type": "stream",
     "text": [
      "/var/folders/wj/11sgsjxd7x75l9tkc6r2l1p80000gn/T/ipykernel_4806/2014460613.py:505: RuntimeWarning: Mean of empty slice\n",
      "  hon_pos = [np.nanmean(hon_pos, axis=0)] * len(dist)\n",
      "/var/folders/wj/11sgsjxd7x75l9tkc6r2l1p80000gn/T/ipykernel_4806/2014460613.py:510: RuntimeWarning: Mean of empty slice\n",
      "  avg_dist = avg_dist + [np.nanmean(dist)] * len(dist)\n",
      "/var/folders/wj/11sgsjxd7x75l9tkc6r2l1p80000gn/T/ipykernel_4806/2014460613.py:537: FutureWarning: Series.fillna with 'method' is deprecated and will raise in a future version. Use obj.ffill() or obj.bfill() instead.\n",
      "  for_eye[\"names\"] =  for_eye.names.fillna(method='ffill').fillna(method='bfill')\n"
     ]
    },
    {
     "name": "stdout",
     "output_type": "stream",
     "text": [
      "9627_4\n"
     ]
    },
    {
     "name": "stderr",
     "output_type": "stream",
     "text": [
      "/var/folders/wj/11sgsjxd7x75l9tkc6r2l1p80000gn/T/ipykernel_4806/2014460613.py:505: RuntimeWarning: Mean of empty slice\n",
      "  hon_pos = [np.nanmean(hon_pos, axis=0)] * len(dist)\n",
      "/var/folders/wj/11sgsjxd7x75l9tkc6r2l1p80000gn/T/ipykernel_4806/2014460613.py:510: RuntimeWarning: Mean of empty slice\n",
      "  avg_dist = avg_dist + [np.nanmean(dist)] * len(dist)\n",
      "/var/folders/wj/11sgsjxd7x75l9tkc6r2l1p80000gn/T/ipykernel_4806/2014460613.py:537: FutureWarning: Series.fillna with 'method' is deprecated and will raise in a future version. Use obj.ffill() or obj.bfill() instead.\n",
      "  for_eye[\"names\"] =  for_eye.names.fillna(method='ffill').fillna(method='bfill')\n"
     ]
    },
    {
     "name": "stdout",
     "output_type": "stream",
     "text": [
      "9627_5\n"
     ]
    },
    {
     "name": "stderr",
     "output_type": "stream",
     "text": [
      "/var/folders/wj/11sgsjxd7x75l9tkc6r2l1p80000gn/T/ipykernel_4806/2014460613.py:505: RuntimeWarning: Mean of empty slice\n",
      "  hon_pos = [np.nanmean(hon_pos, axis=0)] * len(dist)\n",
      "/var/folders/wj/11sgsjxd7x75l9tkc6r2l1p80000gn/T/ipykernel_4806/2014460613.py:510: RuntimeWarning: Mean of empty slice\n",
      "  avg_dist = avg_dist + [np.nanmean(dist)] * len(dist)\n",
      "/var/folders/wj/11sgsjxd7x75l9tkc6r2l1p80000gn/T/ipykernel_4806/2014460613.py:537: FutureWarning: Series.fillna with 'method' is deprecated and will raise in a future version. Use obj.ffill() or obj.bfill() instead.\n",
      "  for_eye[\"names\"] =  for_eye.names.fillna(method='ffill').fillna(method='bfill')\n"
     ]
    },
    {
     "name": "stdout",
     "output_type": "stream",
     "text": [
      "5191_1\n"
     ]
    },
    {
     "name": "stderr",
     "output_type": "stream",
     "text": [
      "/var/folders/wj/11sgsjxd7x75l9tkc6r2l1p80000gn/T/ipykernel_4806/2014460613.py:505: RuntimeWarning: Mean of empty slice\n",
      "  hon_pos = [np.nanmean(hon_pos, axis=0)] * len(dist)\n",
      "/var/folders/wj/11sgsjxd7x75l9tkc6r2l1p80000gn/T/ipykernel_4806/2014460613.py:510: RuntimeWarning: Mean of empty slice\n",
      "  avg_dist = avg_dist + [np.nanmean(dist)] * len(dist)\n",
      "/var/folders/wj/11sgsjxd7x75l9tkc6r2l1p80000gn/T/ipykernel_4806/2014460613.py:537: FutureWarning: Series.fillna with 'method' is deprecated and will raise in a future version. Use obj.ffill() or obj.bfill() instead.\n",
      "  for_eye[\"names\"] =  for_eye.names.fillna(method='ffill').fillna(method='bfill')\n"
     ]
    },
    {
     "name": "stdout",
     "output_type": "stream",
     "text": [
      "5191_2\n"
     ]
    },
    {
     "name": "stderr",
     "output_type": "stream",
     "text": [
      "/opt/anaconda3/lib/python3.12/site-packages/numpy/core/fromnumeric.py:3504: RuntimeWarning: Mean of empty slice.\n",
      "  return _methods._mean(a, axis=axis, dtype=dtype,\n",
      "/opt/anaconda3/lib/python3.12/site-packages/numpy/core/_methods.py:129: RuntimeWarning: invalid value encountered in scalar divide\n",
      "  ret = ret.dtype.type(ret / rcount)\n",
      "/var/folders/wj/11sgsjxd7x75l9tkc6r2l1p80000gn/T/ipykernel_4806/2014460613.py:505: RuntimeWarning: Mean of empty slice\n",
      "  hon_pos = [np.nanmean(hon_pos, axis=0)] * len(dist)\n",
      "/var/folders/wj/11sgsjxd7x75l9tkc6r2l1p80000gn/T/ipykernel_4806/2014460613.py:510: RuntimeWarning: Mean of empty slice\n",
      "  avg_dist = avg_dist + [np.nanmean(dist)] * len(dist)\n",
      "/var/folders/wj/11sgsjxd7x75l9tkc6r2l1p80000gn/T/ipykernel_4806/2014460613.py:537: FutureWarning: Series.fillna with 'method' is deprecated and will raise in a future version. Use obj.ffill() or obj.bfill() instead.\n",
      "  for_eye[\"names\"] =  for_eye.names.fillna(method='ffill').fillna(method='bfill')\n"
     ]
    },
    {
     "name": "stdout",
     "output_type": "stream",
     "text": [
      "5191_3\n"
     ]
    },
    {
     "name": "stderr",
     "output_type": "stream",
     "text": [
      "/var/folders/wj/11sgsjxd7x75l9tkc6r2l1p80000gn/T/ipykernel_4806/2014460613.py:505: RuntimeWarning: Mean of empty slice\n",
      "  hon_pos = [np.nanmean(hon_pos, axis=0)] * len(dist)\n",
      "/var/folders/wj/11sgsjxd7x75l9tkc6r2l1p80000gn/T/ipykernel_4806/2014460613.py:510: RuntimeWarning: Mean of empty slice\n",
      "  avg_dist = avg_dist + [np.nanmean(dist)] * len(dist)\n",
      "/var/folders/wj/11sgsjxd7x75l9tkc6r2l1p80000gn/T/ipykernel_4806/2014460613.py:537: FutureWarning: Series.fillna with 'method' is deprecated and will raise in a future version. Use obj.ffill() or obj.bfill() instead.\n",
      "  for_eye[\"names\"] =  for_eye.names.fillna(method='ffill').fillna(method='bfill')\n"
     ]
    },
    {
     "name": "stdout",
     "output_type": "stream",
     "text": [
      "5191_4\n"
     ]
    },
    {
     "name": "stderr",
     "output_type": "stream",
     "text": [
      "/var/folders/wj/11sgsjxd7x75l9tkc6r2l1p80000gn/T/ipykernel_4806/2014460613.py:505: RuntimeWarning: Mean of empty slice\n",
      "  hon_pos = [np.nanmean(hon_pos, axis=0)] * len(dist)\n",
      "/var/folders/wj/11sgsjxd7x75l9tkc6r2l1p80000gn/T/ipykernel_4806/2014460613.py:510: RuntimeWarning: Mean of empty slice\n",
      "  avg_dist = avg_dist + [np.nanmean(dist)] * len(dist)\n",
      "/var/folders/wj/11sgsjxd7x75l9tkc6r2l1p80000gn/T/ipykernel_4806/2014460613.py:537: FutureWarning: Series.fillna with 'method' is deprecated and will raise in a future version. Use obj.ffill() or obj.bfill() instead.\n",
      "  for_eye[\"names\"] =  for_eye.names.fillna(method='ffill').fillna(method='bfill')\n"
     ]
    },
    {
     "name": "stdout",
     "output_type": "stream",
     "text": [
      "5191_5\n"
     ]
    },
    {
     "name": "stderr",
     "output_type": "stream",
     "text": [
      "/var/folders/wj/11sgsjxd7x75l9tkc6r2l1p80000gn/T/ipykernel_4806/2014460613.py:505: RuntimeWarning: Mean of empty slice\n",
      "  hon_pos = [np.nanmean(hon_pos, axis=0)] * len(dist)\n",
      "/var/folders/wj/11sgsjxd7x75l9tkc6r2l1p80000gn/T/ipykernel_4806/2014460613.py:510: RuntimeWarning: Mean of empty slice\n",
      "  avg_dist = avg_dist + [np.nanmean(dist)] * len(dist)\n",
      "/var/folders/wj/11sgsjxd7x75l9tkc6r2l1p80000gn/T/ipykernel_4806/2014460613.py:537: FutureWarning: Series.fillna with 'method' is deprecated and will raise in a future version. Use obj.ffill() or obj.bfill() instead.\n",
      "  for_eye[\"names\"] =  for_eye.names.fillna(method='ffill').fillna(method='bfill')\n"
     ]
    },
    {
     "name": "stdout",
     "output_type": "stream",
     "text": [
      "6254_1\n"
     ]
    },
    {
     "name": "stderr",
     "output_type": "stream",
     "text": [
      "/var/folders/wj/11sgsjxd7x75l9tkc6r2l1p80000gn/T/ipykernel_4806/2014460613.py:505: RuntimeWarning: Mean of empty slice\n",
      "  hon_pos = [np.nanmean(hon_pos, axis=0)] * len(dist)\n",
      "/var/folders/wj/11sgsjxd7x75l9tkc6r2l1p80000gn/T/ipykernel_4806/2014460613.py:510: RuntimeWarning: Mean of empty slice\n",
      "  avg_dist = avg_dist + [np.nanmean(dist)] * len(dist)\n",
      "/var/folders/wj/11sgsjxd7x75l9tkc6r2l1p80000gn/T/ipykernel_4806/2014460613.py:537: FutureWarning: Series.fillna with 'method' is deprecated and will raise in a future version. Use obj.ffill() or obj.bfill() instead.\n",
      "  for_eye[\"names\"] =  for_eye.names.fillna(method='ffill').fillna(method='bfill')\n"
     ]
    },
    {
     "name": "stdout",
     "output_type": "stream",
     "text": [
      "6254_2\n"
     ]
    },
    {
     "name": "stderr",
     "output_type": "stream",
     "text": [
      "/var/folders/wj/11sgsjxd7x75l9tkc6r2l1p80000gn/T/ipykernel_4806/2014460613.py:505: RuntimeWarning: Mean of empty slice\n",
      "  hon_pos = [np.nanmean(hon_pos, axis=0)] * len(dist)\n",
      "/var/folders/wj/11sgsjxd7x75l9tkc6r2l1p80000gn/T/ipykernel_4806/2014460613.py:510: RuntimeWarning: Mean of empty slice\n",
      "  avg_dist = avg_dist + [np.nanmean(dist)] * len(dist)\n",
      "/var/folders/wj/11sgsjxd7x75l9tkc6r2l1p80000gn/T/ipykernel_4806/2014460613.py:537: FutureWarning: Series.fillna with 'method' is deprecated and will raise in a future version. Use obj.ffill() or obj.bfill() instead.\n",
      "  for_eye[\"names\"] =  for_eye.names.fillna(method='ffill').fillna(method='bfill')\n"
     ]
    },
    {
     "name": "stdout",
     "output_type": "stream",
     "text": [
      "6254_4\n"
     ]
    },
    {
     "name": "stderr",
     "output_type": "stream",
     "text": [
      "/var/folders/wj/11sgsjxd7x75l9tkc6r2l1p80000gn/T/ipykernel_4806/2014460613.py:505: RuntimeWarning: Mean of empty slice\n",
      "  hon_pos = [np.nanmean(hon_pos, axis=0)] * len(dist)\n",
      "/var/folders/wj/11sgsjxd7x75l9tkc6r2l1p80000gn/T/ipykernel_4806/2014460613.py:510: RuntimeWarning: Mean of empty slice\n",
      "  avg_dist = avg_dist + [np.nanmean(dist)] * len(dist)\n",
      "/var/folders/wj/11sgsjxd7x75l9tkc6r2l1p80000gn/T/ipykernel_4806/2014460613.py:537: FutureWarning: Series.fillna with 'method' is deprecated and will raise in a future version. Use obj.ffill() or obj.bfill() instead.\n",
      "  for_eye[\"names\"] =  for_eye.names.fillna(method='ffill').fillna(method='bfill')\n"
     ]
    },
    {
     "name": "stdout",
     "output_type": "stream",
     "text": [
      "6254_5\n"
     ]
    },
    {
     "name": "stderr",
     "output_type": "stream",
     "text": [
      "/var/folders/wj/11sgsjxd7x75l9tkc6r2l1p80000gn/T/ipykernel_4806/2014460613.py:505: RuntimeWarning: Mean of empty slice\n",
      "  hon_pos = [np.nanmean(hon_pos, axis=0)] * len(dist)\n",
      "/var/folders/wj/11sgsjxd7x75l9tkc6r2l1p80000gn/T/ipykernel_4806/2014460613.py:510: RuntimeWarning: Mean of empty slice\n",
      "  avg_dist = avg_dist + [np.nanmean(dist)] * len(dist)\n",
      "/var/folders/wj/11sgsjxd7x75l9tkc6r2l1p80000gn/T/ipykernel_4806/2014460613.py:537: FutureWarning: Series.fillna with 'method' is deprecated and will raise in a future version. Use obj.ffill() or obj.bfill() instead.\n",
      "  for_eye[\"names\"] =  for_eye.names.fillna(method='ffill').fillna(method='bfill')\n"
     ]
    },
    {
     "name": "stdout",
     "output_type": "stream",
     "text": [
      "9535_1\n"
     ]
    },
    {
     "name": "stderr",
     "output_type": "stream",
     "text": [
      "/var/folders/wj/11sgsjxd7x75l9tkc6r2l1p80000gn/T/ipykernel_4806/2014460613.py:505: RuntimeWarning: Mean of empty slice\n",
      "  hon_pos = [np.nanmean(hon_pos, axis=0)] * len(dist)\n",
      "/var/folders/wj/11sgsjxd7x75l9tkc6r2l1p80000gn/T/ipykernel_4806/2014460613.py:510: RuntimeWarning: Mean of empty slice\n",
      "  avg_dist = avg_dist + [np.nanmean(dist)] * len(dist)\n",
      "/var/folders/wj/11sgsjxd7x75l9tkc6r2l1p80000gn/T/ipykernel_4806/2014460613.py:537: FutureWarning: Series.fillna with 'method' is deprecated and will raise in a future version. Use obj.ffill() or obj.bfill() instead.\n",
      "  for_eye[\"names\"] =  for_eye.names.fillna(method='ffill').fillna(method='bfill')\n"
     ]
    },
    {
     "name": "stdout",
     "output_type": "stream",
     "text": [
      "9535_2\n"
     ]
    },
    {
     "name": "stderr",
     "output_type": "stream",
     "text": [
      "/var/folders/wj/11sgsjxd7x75l9tkc6r2l1p80000gn/T/ipykernel_4806/2014460613.py:505: RuntimeWarning: Mean of empty slice\n",
      "  hon_pos = [np.nanmean(hon_pos, axis=0)] * len(dist)\n",
      "/var/folders/wj/11sgsjxd7x75l9tkc6r2l1p80000gn/T/ipykernel_4806/2014460613.py:510: RuntimeWarning: Mean of empty slice\n",
      "  avg_dist = avg_dist + [np.nanmean(dist)] * len(dist)\n",
      "/var/folders/wj/11sgsjxd7x75l9tkc6r2l1p80000gn/T/ipykernel_4806/2014460613.py:537: FutureWarning: Series.fillna with 'method' is deprecated and will raise in a future version. Use obj.ffill() or obj.bfill() instead.\n",
      "  for_eye[\"names\"] =  for_eye.names.fillna(method='ffill').fillna(method='bfill')\n"
     ]
    },
    {
     "name": "stdout",
     "output_type": "stream",
     "text": [
      "9535_3\n"
     ]
    },
    {
     "name": "stderr",
     "output_type": "stream",
     "text": [
      "/var/folders/wj/11sgsjxd7x75l9tkc6r2l1p80000gn/T/ipykernel_4806/2014460613.py:505: RuntimeWarning: Mean of empty slice\n",
      "  hon_pos = [np.nanmean(hon_pos, axis=0)] * len(dist)\n",
      "/var/folders/wj/11sgsjxd7x75l9tkc6r2l1p80000gn/T/ipykernel_4806/2014460613.py:510: RuntimeWarning: Mean of empty slice\n",
      "  avg_dist = avg_dist + [np.nanmean(dist)] * len(dist)\n",
      "/var/folders/wj/11sgsjxd7x75l9tkc6r2l1p80000gn/T/ipykernel_4806/2014460613.py:537: FutureWarning: Series.fillna with 'method' is deprecated and will raise in a future version. Use obj.ffill() or obj.bfill() instead.\n",
      "  for_eye[\"names\"] =  for_eye.names.fillna(method='ffill').fillna(method='bfill')\n"
     ]
    },
    {
     "name": "stdout",
     "output_type": "stream",
     "text": [
      "9535_4\n"
     ]
    },
    {
     "name": "stderr",
     "output_type": "stream",
     "text": [
      "/var/folders/wj/11sgsjxd7x75l9tkc6r2l1p80000gn/T/ipykernel_4806/2014460613.py:505: RuntimeWarning: Mean of empty slice\n",
      "  hon_pos = [np.nanmean(hon_pos, axis=0)] * len(dist)\n",
      "/var/folders/wj/11sgsjxd7x75l9tkc6r2l1p80000gn/T/ipykernel_4806/2014460613.py:510: RuntimeWarning: Mean of empty slice\n",
      "  avg_dist = avg_dist + [np.nanmean(dist)] * len(dist)\n",
      "/var/folders/wj/11sgsjxd7x75l9tkc6r2l1p80000gn/T/ipykernel_4806/2014460613.py:537: FutureWarning: Series.fillna with 'method' is deprecated and will raise in a future version. Use obj.ffill() or obj.bfill() instead.\n",
      "  for_eye[\"names\"] =  for_eye.names.fillna(method='ffill').fillna(method='bfill')\n"
     ]
    },
    {
     "name": "stdout",
     "output_type": "stream",
     "text": [
      "9535_5\n"
     ]
    },
    {
     "name": "stderr",
     "output_type": "stream",
     "text": [
      "/var/folders/wj/11sgsjxd7x75l9tkc6r2l1p80000gn/T/ipykernel_4806/2014460613.py:505: RuntimeWarning: Mean of empty slice\n",
      "  hon_pos = [np.nanmean(hon_pos, axis=0)] * len(dist)\n",
      "/var/folders/wj/11sgsjxd7x75l9tkc6r2l1p80000gn/T/ipykernel_4806/2014460613.py:510: RuntimeWarning: Mean of empty slice\n",
      "  avg_dist = avg_dist + [np.nanmean(dist)] * len(dist)\n",
      "/var/folders/wj/11sgsjxd7x75l9tkc6r2l1p80000gn/T/ipykernel_4806/2014460613.py:537: FutureWarning: Series.fillna with 'method' is deprecated and will raise in a future version. Use obj.ffill() or obj.bfill() instead.\n",
      "  for_eye[\"names\"] =  for_eye.names.fillna(method='ffill').fillna(method='bfill')\n"
     ]
    },
    {
     "name": "stdout",
     "output_type": "stream",
     "text": [
      "1142_4\n"
     ]
    },
    {
     "name": "stderr",
     "output_type": "stream",
     "text": [
      "/var/folders/wj/11sgsjxd7x75l9tkc6r2l1p80000gn/T/ipykernel_4806/2014460613.py:505: RuntimeWarning: Mean of empty slice\n",
      "  hon_pos = [np.nanmean(hon_pos, axis=0)] * len(dist)\n",
      "/var/folders/wj/11sgsjxd7x75l9tkc6r2l1p80000gn/T/ipykernel_4806/2014460613.py:510: RuntimeWarning: Mean of empty slice\n",
      "  avg_dist = avg_dist + [np.nanmean(dist)] * len(dist)\n",
      "/var/folders/wj/11sgsjxd7x75l9tkc6r2l1p80000gn/T/ipykernel_4806/2014460613.py:537: FutureWarning: Series.fillna with 'method' is deprecated and will raise in a future version. Use obj.ffill() or obj.bfill() instead.\n",
      "  for_eye[\"names\"] =  for_eye.names.fillna(method='ffill').fillna(method='bfill')\n"
     ]
    },
    {
     "name": "stdout",
     "output_type": "stream",
     "text": [
      "1142_5\n"
     ]
    },
    {
     "name": "stderr",
     "output_type": "stream",
     "text": [
      "/var/folders/wj/11sgsjxd7x75l9tkc6r2l1p80000gn/T/ipykernel_4806/2014460613.py:505: RuntimeWarning: Mean of empty slice\n",
      "  hon_pos = [np.nanmean(hon_pos, axis=0)] * len(dist)\n",
      "/var/folders/wj/11sgsjxd7x75l9tkc6r2l1p80000gn/T/ipykernel_4806/2014460613.py:510: RuntimeWarning: Mean of empty slice\n",
      "  avg_dist = avg_dist + [np.nanmean(dist)] * len(dist)\n",
      "/var/folders/wj/11sgsjxd7x75l9tkc6r2l1p80000gn/T/ipykernel_4806/2014460613.py:537: FutureWarning: Series.fillna with 'method' is deprecated and will raise in a future version. Use obj.ffill() or obj.bfill() instead.\n",
      "  for_eye[\"names\"] =  for_eye.names.fillna(method='ffill').fillna(method='bfill')\n"
     ]
    },
    {
     "name": "stdout",
     "output_type": "stream",
     "text": [
      "1234_1\n"
     ]
    },
    {
     "name": "stderr",
     "output_type": "stream",
     "text": [
      "/var/folders/wj/11sgsjxd7x75l9tkc6r2l1p80000gn/T/ipykernel_4806/2014460613.py:505: RuntimeWarning: Mean of empty slice\n",
      "  hon_pos = [np.nanmean(hon_pos, axis=0)] * len(dist)\n",
      "/var/folders/wj/11sgsjxd7x75l9tkc6r2l1p80000gn/T/ipykernel_4806/2014460613.py:510: RuntimeWarning: Mean of empty slice\n",
      "  avg_dist = avg_dist + [np.nanmean(dist)] * len(dist)\n",
      "/var/folders/wj/11sgsjxd7x75l9tkc6r2l1p80000gn/T/ipykernel_4806/2014460613.py:537: FutureWarning: Series.fillna with 'method' is deprecated and will raise in a future version. Use obj.ffill() or obj.bfill() instead.\n",
      "  for_eye[\"names\"] =  for_eye.names.fillna(method='ffill').fillna(method='bfill')\n"
     ]
    },
    {
     "name": "stdout",
     "output_type": "stream",
     "text": [
      "1234_2\n"
     ]
    },
    {
     "name": "stderr",
     "output_type": "stream",
     "text": [
      "/var/folders/wj/11sgsjxd7x75l9tkc6r2l1p80000gn/T/ipykernel_4806/2014460613.py:505: RuntimeWarning: Mean of empty slice\n",
      "  hon_pos = [np.nanmean(hon_pos, axis=0)] * len(dist)\n",
      "/var/folders/wj/11sgsjxd7x75l9tkc6r2l1p80000gn/T/ipykernel_4806/2014460613.py:510: RuntimeWarning: Mean of empty slice\n",
      "  avg_dist = avg_dist + [np.nanmean(dist)] * len(dist)\n",
      "/var/folders/wj/11sgsjxd7x75l9tkc6r2l1p80000gn/T/ipykernel_4806/2014460613.py:537: FutureWarning: Series.fillna with 'method' is deprecated and will raise in a future version. Use obj.ffill() or obj.bfill() instead.\n",
      "  for_eye[\"names\"] =  for_eye.names.fillna(method='ffill').fillna(method='bfill')\n"
     ]
    },
    {
     "name": "stdout",
     "output_type": "stream",
     "text": [
      "1234_3\n"
     ]
    },
    {
     "name": "stderr",
     "output_type": "stream",
     "text": [
      "/var/folders/wj/11sgsjxd7x75l9tkc6r2l1p80000gn/T/ipykernel_4806/2014460613.py:505: RuntimeWarning: Mean of empty slice\n",
      "  hon_pos = [np.nanmean(hon_pos, axis=0)] * len(dist)\n",
      "/var/folders/wj/11sgsjxd7x75l9tkc6r2l1p80000gn/T/ipykernel_4806/2014460613.py:510: RuntimeWarning: Mean of empty slice\n",
      "  avg_dist = avg_dist + [np.nanmean(dist)] * len(dist)\n",
      "/var/folders/wj/11sgsjxd7x75l9tkc6r2l1p80000gn/T/ipykernel_4806/2014460613.py:537: FutureWarning: Series.fillna with 'method' is deprecated and will raise in a future version. Use obj.ffill() or obj.bfill() instead.\n",
      "  for_eye[\"names\"] =  for_eye.names.fillna(method='ffill').fillna(method='bfill')\n"
     ]
    },
    {
     "name": "stdout",
     "output_type": "stream",
     "text": [
      "1234_4\n"
     ]
    },
    {
     "name": "stderr",
     "output_type": "stream",
     "text": [
      "/var/folders/wj/11sgsjxd7x75l9tkc6r2l1p80000gn/T/ipykernel_4806/2014460613.py:505: RuntimeWarning: Mean of empty slice\n",
      "  hon_pos = [np.nanmean(hon_pos, axis=0)] * len(dist)\n",
      "/var/folders/wj/11sgsjxd7x75l9tkc6r2l1p80000gn/T/ipykernel_4806/2014460613.py:510: RuntimeWarning: Mean of empty slice\n",
      "  avg_dist = avg_dist + [np.nanmean(dist)] * len(dist)\n",
      "/var/folders/wj/11sgsjxd7x75l9tkc6r2l1p80000gn/T/ipykernel_4806/2014460613.py:537: FutureWarning: Series.fillna with 'method' is deprecated and will raise in a future version. Use obj.ffill() or obj.bfill() instead.\n",
      "  for_eye[\"names\"] =  for_eye.names.fillna(method='ffill').fillna(method='bfill')\n"
     ]
    },
    {
     "name": "stdout",
     "output_type": "stream",
     "text": [
      "1234_5\n"
     ]
    },
    {
     "name": "stderr",
     "output_type": "stream",
     "text": [
      "/var/folders/wj/11sgsjxd7x75l9tkc6r2l1p80000gn/T/ipykernel_4806/2014460613.py:505: RuntimeWarning: Mean of empty slice\n",
      "  hon_pos = [np.nanmean(hon_pos, axis=0)] * len(dist)\n",
      "/var/folders/wj/11sgsjxd7x75l9tkc6r2l1p80000gn/T/ipykernel_4806/2014460613.py:510: RuntimeWarning: Mean of empty slice\n",
      "  avg_dist = avg_dist + [np.nanmean(dist)] * len(dist)\n",
      "/var/folders/wj/11sgsjxd7x75l9tkc6r2l1p80000gn/T/ipykernel_4806/2014460613.py:537: FutureWarning: Series.fillna with 'method' is deprecated and will raise in a future version. Use obj.ffill() or obj.bfill() instead.\n",
      "  for_eye[\"names\"] =  for_eye.names.fillna(method='ffill').fillna(method='bfill')\n"
     ]
    },
    {
     "name": "stdout",
     "output_type": "stream",
     "text": [
      "6266_1\n"
     ]
    },
    {
     "name": "stderr",
     "output_type": "stream",
     "text": [
      "/var/folders/wj/11sgsjxd7x75l9tkc6r2l1p80000gn/T/ipykernel_4806/2014460613.py:505: RuntimeWarning: Mean of empty slice\n",
      "  hon_pos = [np.nanmean(hon_pos, axis=0)] * len(dist)\n",
      "/var/folders/wj/11sgsjxd7x75l9tkc6r2l1p80000gn/T/ipykernel_4806/2014460613.py:510: RuntimeWarning: Mean of empty slice\n",
      "  avg_dist = avg_dist + [np.nanmean(dist)] * len(dist)\n",
      "/var/folders/wj/11sgsjxd7x75l9tkc6r2l1p80000gn/T/ipykernel_4806/2014460613.py:537: FutureWarning: Series.fillna with 'method' is deprecated and will raise in a future version. Use obj.ffill() or obj.bfill() instead.\n",
      "  for_eye[\"names\"] =  for_eye.names.fillna(method='ffill').fillna(method='bfill')\n"
     ]
    },
    {
     "name": "stdout",
     "output_type": "stream",
     "text": [
      "6266_2\n"
     ]
    },
    {
     "name": "stderr",
     "output_type": "stream",
     "text": [
      "/var/folders/wj/11sgsjxd7x75l9tkc6r2l1p80000gn/T/ipykernel_4806/2014460613.py:505: RuntimeWarning: Mean of empty slice\n",
      "  hon_pos = [np.nanmean(hon_pos, axis=0)] * len(dist)\n",
      "/var/folders/wj/11sgsjxd7x75l9tkc6r2l1p80000gn/T/ipykernel_4806/2014460613.py:510: RuntimeWarning: Mean of empty slice\n",
      "  avg_dist = avg_dist + [np.nanmean(dist)] * len(dist)\n",
      "/var/folders/wj/11sgsjxd7x75l9tkc6r2l1p80000gn/T/ipykernel_4806/2014460613.py:537: FutureWarning: Series.fillna with 'method' is deprecated and will raise in a future version. Use obj.ffill() or obj.bfill() instead.\n",
      "  for_eye[\"names\"] =  for_eye.names.fillna(method='ffill').fillna(method='bfill')\n"
     ]
    },
    {
     "name": "stdout",
     "output_type": "stream",
     "text": [
      "6266_3\n"
     ]
    },
    {
     "name": "stderr",
     "output_type": "stream",
     "text": [
      "/var/folders/wj/11sgsjxd7x75l9tkc6r2l1p80000gn/T/ipykernel_4806/2014460613.py:505: RuntimeWarning: Mean of empty slice\n",
      "  hon_pos = [np.nanmean(hon_pos, axis=0)] * len(dist)\n",
      "/var/folders/wj/11sgsjxd7x75l9tkc6r2l1p80000gn/T/ipykernel_4806/2014460613.py:510: RuntimeWarning: Mean of empty slice\n",
      "  avg_dist = avg_dist + [np.nanmean(dist)] * len(dist)\n",
      "/var/folders/wj/11sgsjxd7x75l9tkc6r2l1p80000gn/T/ipykernel_4806/2014460613.py:537: FutureWarning: Series.fillna with 'method' is deprecated and will raise in a future version. Use obj.ffill() or obj.bfill() instead.\n",
      "  for_eye[\"names\"] =  for_eye.names.fillna(method='ffill').fillna(method='bfill')\n"
     ]
    },
    {
     "name": "stdout",
     "output_type": "stream",
     "text": [
      "6266_4\n"
     ]
    },
    {
     "name": "stderr",
     "output_type": "stream",
     "text": [
      "/var/folders/wj/11sgsjxd7x75l9tkc6r2l1p80000gn/T/ipykernel_4806/2014460613.py:505: RuntimeWarning: Mean of empty slice\n",
      "  hon_pos = [np.nanmean(hon_pos, axis=0)] * len(dist)\n",
      "/var/folders/wj/11sgsjxd7x75l9tkc6r2l1p80000gn/T/ipykernel_4806/2014460613.py:510: RuntimeWarning: Mean of empty slice\n",
      "  avg_dist = avg_dist + [np.nanmean(dist)] * len(dist)\n",
      "/var/folders/wj/11sgsjxd7x75l9tkc6r2l1p80000gn/T/ipykernel_4806/2014460613.py:537: FutureWarning: Series.fillna with 'method' is deprecated and will raise in a future version. Use obj.ffill() or obj.bfill() instead.\n",
      "  for_eye[\"names\"] =  for_eye.names.fillna(method='ffill').fillna(method='bfill')\n"
     ]
    },
    {
     "name": "stdout",
     "output_type": "stream",
     "text": [
      "6266_5\n"
     ]
    },
    {
     "name": "stderr",
     "output_type": "stream",
     "text": [
      "/var/folders/wj/11sgsjxd7x75l9tkc6r2l1p80000gn/T/ipykernel_4806/2014460613.py:505: RuntimeWarning: Mean of empty slice\n",
      "  hon_pos = [np.nanmean(hon_pos, axis=0)] * len(dist)\n",
      "/var/folders/wj/11sgsjxd7x75l9tkc6r2l1p80000gn/T/ipykernel_4806/2014460613.py:510: RuntimeWarning: Mean of empty slice\n",
      "  avg_dist = avg_dist + [np.nanmean(dist)] * len(dist)\n",
      "/var/folders/wj/11sgsjxd7x75l9tkc6r2l1p80000gn/T/ipykernel_4806/2014460613.py:537: FutureWarning: Series.fillna with 'method' is deprecated and will raise in a future version. Use obj.ffill() or obj.bfill() instead.\n",
      "  for_eye[\"names\"] =  for_eye.names.fillna(method='ffill').fillna(method='bfill')\n"
     ]
    },
    {
     "name": "stdout",
     "output_type": "stream",
     "text": [
      "1142_1\n"
     ]
    },
    {
     "name": "stderr",
     "output_type": "stream",
     "text": [
      "/var/folders/wj/11sgsjxd7x75l9tkc6r2l1p80000gn/T/ipykernel_4806/2014460613.py:505: RuntimeWarning: Mean of empty slice\n",
      "  hon_pos = [np.nanmean(hon_pos, axis=0)] * len(dist)\n",
      "/var/folders/wj/11sgsjxd7x75l9tkc6r2l1p80000gn/T/ipykernel_4806/2014460613.py:510: RuntimeWarning: Mean of empty slice\n",
      "  avg_dist = avg_dist + [np.nanmean(dist)] * len(dist)\n",
      "/var/folders/wj/11sgsjxd7x75l9tkc6r2l1p80000gn/T/ipykernel_4806/2014460613.py:537: FutureWarning: Series.fillna with 'method' is deprecated and will raise in a future version. Use obj.ffill() or obj.bfill() instead.\n",
      "  for_eye[\"names\"] =  for_eye.names.fillna(method='ffill').fillna(method='bfill')\n"
     ]
    },
    {
     "name": "stdout",
     "output_type": "stream",
     "text": [
      "1142_2\n"
     ]
    }
   ],
   "source": [
    "path = \"/Volumes/TwoTeras/1_Experiment_2/Eye_Tracking/Pre_processed/04_Interpolated\" \n",
    "\n",
    "# csv files in the path\n",
    "files = glob.glob(path + \"/*.csv\")\n",
    "  \n",
    "# defining an empty list to store \n",
    "# content\n",
    "data_frame = pd.DataFrame()\n",
    "content = []\n",
    "  \n",
    "# checking all the csv files in the \n",
    "# specified path\n",
    "for filename in files:\n",
    "    One_participant = pd.read_csv(filename)\n",
    "    # Here we identify the shifts on collider name\n",
    "    One_participant['Collider_shift'] = One_participant['Interpolated_collider'].shift(1) != One_participant['Interpolated_collider']\n",
    "    # Create calculate a cumulative sum of the collider changes\n",
    "    One_participant['counter'] = (One_participant['Collider_shift'] == True).cumsum()\n",
    "    # Shift the counter column by one row to align it with the correct row\n",
    "    One_participant['counter'] = One_participant['counter'].shift(1).fillna(0)\n",
    "    One_participantC = One_participant.copy()\n",
    "    #Create subset that only has the rows with shifts in colliders \n",
    "    One_participant_true = One_participant[One_participant['Collider_shift'] == True].reset_index().copy()\n",
    "    # Since shift converts index into float we change it back into int so that it can be read as index\n",
    "    One_participant_true[\"index_shift\"] = One_participant_true[\"index\"].shift(-1).astype('Int64')\n",
    "    # Calculate the difference in time between each shift\n",
    "    One_participant_true[\"Time_diff\"] = One_participant_true.timeStampDataPointEnd.diff(1).shift(-1)\n",
    "    One_participant_true.dropna(inplace=True)\n",
    "    #### Create the gaze column \n",
    "    One_participant[\"Time_of_Gaze\"] = np.nan\n",
    "    low = One_participant_true[\"index\"].to_list()\n",
    "    up = One_participant_true[\"index_shift\"].to_list()\n",
    "    time =  One_participant_true[\"Time_diff\"].to_list()\n",
    "    ranges = list(zip(low, up))\n",
    "    for i, (lower, upper) in enumerate(ranges):\n",
    "        One_participant.loc[lower:upper,\"Time_of_Gaze\"]  = time[i]\n",
    "    One_participant[\"Gaze\"] = np.where(One_participant[\"Time_of_Gaze\"] > .250, \"Gaze\", \"Movement\")\n",
    "    One_participant_true[\"Gaze\"] = np.where(One_participant_true[\"Time_diff\"] > .250, \"Gaze\", \"Movement\")\n",
    "    low = []\n",
    "    up = []\n",
    "    \n",
    "    ######## Debbies Algorithm ########\n",
    "    \n",
    "    for_eye = One_participant.copy()\n",
    "    time = for_eye[\"timeStampDataPointEnd\"].tolist()\n",
    "    \n",
    "    ## Calculate Angular velocities\n",
    "    # get individual coordinates\n",
    "    subj = list(zip( for_eye[\"eyePositionCombinedWorld.x\"],for_eye[\"eyePositionCombinedWorld.y\"],for_eye[\"eyePositionCombinedWorld.z\"]))\n",
    "    hpoo = list(zip(for_eye[\"hitPointOnObject_x\"], for_eye[\"hitPointOnObject_y\"],for_eye[\"hitPointOnObject_z\"]))\n",
    "    # v_gaze_vec: get difference in hpoo\n",
    "    v_gaze_vec = list(zip(for_eye[\"hitPointOnObject_x\"].diff(), for_eye[\"hitPointOnObject_y\"].diff(),for_eye[\"hitPointOnObject_z\"].diff()))\n",
    "    # get difference in time:\n",
    "    ts = for_eye[\"timeStampDataPointEnd\"].diff().tolist()\n",
    "    # gaze_vec(t) is a unit vector in the direction of the gaze (eye+head) in world coordinates\n",
    "    g_vec = list(np.subtract(hpoo, subj))\n",
    "    gaze_vec = [np.array(v) / np.linalg.norm(np.array(v)) for v in g_vec]\n",
    "    # v_gaze_inplane: is a scalar indicating the velocity in world coordinates at the location that is gazed at orthogonal to the gaze axis.\n",
    "    z1 = [np.dot(v_gaze_vec_i, gaze_vec_i) for v_gaze_vec_i, gaze_vec_i in zip(v_gaze_vec, gaze_vec)]\n",
    "    # z = (<v_gaze_vec(t), gaze_vec(t)> * gaze_vec(t))\n",
    "    z = [z1[element] * np.array(gaze_vec[element]) for element in range(len(z1))]\n",
    "    # ||v_gaze_vec(t) - z||\n",
    "    v_gaze_inplane = np.linalg.norm(np.array(v_gaze_vec) - z, axis=-1)\n",
    "    #Eucledian distance between eye coordinates and hit on object\n",
    "    sub_hpoo = np.linalg.norm(np.array(subj) - np.array(hpoo), axis=-1)\n",
    "    # arctan2(v_gaze_inplane, sub_hpoo)\n",
    "    w_gaze = np.arctan2(v_gaze_inplane, sub_hpoo).tolist()\n",
    "    # Turn angle of radians into degrees over seconds \n",
    "    w_gaze = [(w / ts[idx] * 180 / math.pi) for idx, w in enumerate(w_gaze)]\n",
    "    # save df\n",
    "    for_eye[\"combined_vel\"] = w_gaze\n",
    "   \n",
    "    ### 10 second for threshold calculation starts here\n",
    "    \n",
    "    int_len = 10  # number of seconds of the interval\n",
    "    time = for_eye[\"timeStampDataPointEnd\"].values\n",
    "    start = [time[0]]\n",
    "    end = []\n",
    "    start_idx = [0]\n",
    "    end_idx = []\n",
    "    for t, ti in enumerate(time[1:], start=1):\n",
    "        if ti - start[-1] > int_len:\n",
    "            end.append(time[t - 1])\n",
    "            end_idx.append(t - 1)\n",
    "            start.append(ti)\n",
    "            start_idx.append(t)\n",
    "    # add the last timepoint to end\n",
    "    end.append(time[-1])\n",
    "    end_idx.append(len(time))\n",
    "\n",
    "    # save it as new df\n",
    "    int_data = pd.DataFrame({\n",
    "        \"start\": start,\n",
    "        \"end\": end,\n",
    "        \"start_idx\": start_idx,\n",
    "        \"end_idx\": end_idx\n",
    "    })\n",
    "    \n",
    "    combined_vel = for_eye[\"combined_vel\"]\n",
    "\n",
    "    # to add the final thresholds to for each segement\n",
    "    scct = []\n",
    "    for s, srt in enumerate(int_data[\"start\"].values):\n",
    "        # get the slice of the combined velocity\n",
    "        angular_vel = combined_vel[start_idx[s] : end_idx[s]]\n",
    "        # use the at_mad function to caluclate the threshold\n",
    "        saccade_th, thres = at_mad(angular_vel)\n",
    "        if np.isnan(saccade_th):\n",
    "            scct.append(thres[0])\n",
    "        else:\n",
    "            # add it to scct\n",
    "            scct.append(saccade_th)\n",
    "\n",
    "    # add it to int_data and save\n",
    "    int_data[\"thresh\"] = scct\n",
    "    ranges = list(zip(int_data.start_idx, int_data.end_idx))    \n",
    "    \n",
    "    # go through all time intervals repeat the threshold as often as the time interval is long\n",
    "    for i, (lower, upper) in enumerate(ranges):\n",
    "        for_eye.loc[lower:upper,\"thresh\"]  = int_data[\"thresh\"][i]\n",
    "    \n",
    "    # go through combined velocity and save all that are bigger than the threshold\n",
    "    # Everywhere  where there is Nans that is a saccade meaning this are the cells that are really fast OR ####### we had nan on the combined velocity #######\n",
    "    for_eye[\"isFix\"] = np.where(for_eye['combined_vel'] < for_eye[\"thresh\"], for_eye['combined_vel'], np.nan)\n",
    "    \n",
    "    ### reset the 10 second marks and the data set that contains them ###\n",
    "    # specify the variables you want to delete in a list\n",
    "    to_delete = [int_data, start, end, start_idx, end_idx]\n",
    "    # delete the variables using a loop\n",
    "    for Object in to_delete:\n",
    "        del Object\n",
    "\n",
    "    ####\n",
    "    for_eye.reset_index(inplace=True)\n",
    "    \n",
    "    min_sacc_dur = 0.02  # min sacc duration\n",
    "    min_gaze_dur = 0.04  # min gaze duration (Ashima uses 0.05)\n",
    "    time = for_eye.timeStampDataPointEnd.values\n",
    "    index = for_eye.index.tolist()  # index of df for easier use\n",
    "    start_time = time[0]  # update for each change\n",
    "    start_idx = index[0]  # will be updated each event and used to add to the lists\n",
    "\n",
    "    # to save:\n",
    "    isFix = []\n",
    "    combined_vel = []\n",
    "\n",
    "    # if the first sample does not have any data\n",
    "    if pd.isna(for_eye.loc[0, \"combined_vel\"]) and not pd.isna(for_eye.loc[1, \"combined_vel\"]):\n",
    "        start_time = time[1]   # update for each change\n",
    "        start_idx = index[1]  # will be updated each event and used to add to the lists\n",
    "        isFix = [np.nan]\n",
    "        combined_vel = [np.nan]\n",
    "\n",
    "    # starting with a sacc\n",
    "    if pd.isna(for_eye.loc[start_idx,\"isFix\"]):\n",
    "        event = 0  # == sacc\n",
    "    # starting with a gaze\n",
    "    else:\n",
    "        event = 1  # == gaze\n",
    "\n",
    "    # go through the list:\n",
    "    for idx in index[index.index(start_idx) : -1]:\n",
    "        curr_line = for_eye.loc[idx]\n",
    "        next_line = for_eye.loc[idx+1]\n",
    "\n",
    "        # gaze (--> sacc): now gaze, next one is sacc\n",
    "        if not pd.isna(curr_line.isFix) and pd.isna(next_line.isFix):\n",
    "            # if the event is too small but we are currently in a big gaze, keep isFix change combined_vel\n",
    "            if event == 1 and next_line.timeStampDataPointEnd - start_time < min_gaze_dur:\n",
    "                isFix = (\n",
    "                    isFix + for_eye.loc[start_idx:idx, \"isFix\"].values.tolist()\n",
    "                )  # keep isFix\n",
    "                combined_vel = combined_vel + [np.nan] * (\n",
    "                    idx + 1 - start_idx\n",
    "                )  # change combined_vel\n",
    "            # elif current event to small and we are in big saccade, change isFix, change combined_vel\n",
    "            elif event == 0 and next_line.timeStampDataPointEnd - start_time < min_gaze_dur:\n",
    "                isFix = isFix + [np.nan] * (idx + 1 - start_idx)\n",
    "                combined_vel = combined_vel + [np.nan] * (idx + 1 - start_idx)\n",
    "            # elif current event big enough, keep isFix and keep combined_vel and change event to 1,update length\n",
    "            elif next_line.timeStampDataPointEnd - start_time >= min_gaze_dur:\n",
    "                isFix = (\n",
    "                    isFix + for_eye.loc[start_idx:idx, \"isFix\"].values.tolist()\n",
    "                )  # keep isFix\n",
    "                combined_vel = (\n",
    "                    combined_vel\n",
    "                    + for_eye.loc[\n",
    "                        start_idx:idx, \"combined_vel\"\n",
    "                    ].values.tolist()\n",
    "                )  # keep combined_vel\n",
    "                event = 1  # change events\n",
    "            # update start_time and start_idx\n",
    "            start_idx = idx + 1\n",
    "            start_time = for_eye.loc[idx + 1][\"timeStampDataPointEnd\"]\n",
    "\n",
    "        # sacc (--> gaze): now sacc, next one is gaze\n",
    "        elif pd.isna(curr_line.isFix) and not pd.isna(next_line.isFix):\n",
    "            # if the event is too small and we are currently in a big sacc, keep isFix change combined_vel\n",
    "            if event == 0 and next_line.timeStampDataPointEnd - start_time < min_sacc_dur:\n",
    "                isFix = (\n",
    "                    isFix + for_eye.loc[start_idx:idx, \"isFix\"].values.tolist()\n",
    "                )  # keep isFix\n",
    "                combined_vel = combined_vel + [np.nan] * (\n",
    "                    idx + 1 - start_idx\n",
    "                )  # change combined_vel\n",
    "            # elif current event to small but we are in big gaze, change isFix, change combined_vel\n",
    "            elif event == 1 and next_line.timeStampDataPointEnd - start_time < min_sacc_dur:\n",
    "                isFix = (\n",
    "                    isFix\n",
    "                    + for_eye.loc[\n",
    "                        start_idx:idx, \"combined_vel\"\n",
    "                    ].values.tolist()\n",
    "                )  # change isFix\n",
    "                combined_vel = combined_vel + [np.nan] * (\n",
    "                    idx + 1 - start_idx\n",
    "                )  # change combined_vel\n",
    "            # elif current event big enough, keep isFix and keep combined_vel and change event to 0,update length\n",
    "            elif next_line.timeStampDataPointEnd - start_time >= min_sacc_dur:\n",
    "                isFix = (\n",
    "                    isFix + for_eye.loc[start_idx:idx, \"isFix\"].values.tolist()\n",
    "                )  # keep isFix\n",
    "                combined_vel = (\n",
    "                    combined_vel\n",
    "                    + for_eye.loc[\n",
    "                        start_idx:idx, \"combined_vel\"\n",
    "                    ].values.tolist()\n",
    "                )  # keep combined_vel\n",
    "                event = 0  # change events\n",
    "            # update start_time and start_idx\n",
    "            start_idx = idx + 1\n",
    "            start_time = for_eye.loc[idx + 1][\"timeStampDataPointEnd\"]\n",
    "\n",
    "        # last index:\n",
    "        if idx + 1 == index[-1]:\n",
    "            # gaze:\n",
    "            if not pd.isna(next_line.isFix):\n",
    "                # if the event is too small but we are currently in a big gaze, keep isFix change combined_vel\n",
    "                if (\n",
    "                    event == 1\n",
    "                    and next_line.timeStampDataPointEnd + 0.011 - start_time < min_gaze_dur\n",
    "                ):\n",
    "                    isFix = (\n",
    "                        isFix\n",
    "                        + for_eye.loc[start_idx:, \"isFix\"].values.tolist()\n",
    "                    )  # keep isFix\n",
    "                    combined_vel = combined_vel + [np.nan] * (\n",
    "                        idx + 2 - start_idx\n",
    "                    )  # change combined_vel\n",
    "                # elif current event to small and we are in big saccade, change isFix, change combined_vel\n",
    "                elif (\n",
    "                    event == 0\n",
    "                    and next_line.timeStampDataPointEnd + 0.011 - start_time < min_gaze_dur\n",
    "                ):\n",
    "                    isFix = isFix + [np.nan] * (idx + 2 - start_idx)\n",
    "                    combined_vel = combined_vel + [np.nan] * (\n",
    "                        idx + 2 - start_idx\n",
    "                    )\n",
    "                # elif current event big enough, keep isFix and keep combined_vel and change event to 1,update length\n",
    "                elif next_line.timeStampDataPointEnd + 0.011 - start_time >= min_gaze_dur:\n",
    "                    isFix = (\n",
    "                        isFix\n",
    "                        + for_eye.loc[start_idx:, \"isFix\"].values.tolist()\n",
    "                    )  # keep isFix\n",
    "                    combined_vel = (\n",
    "                        combined_vel\n",
    "                        + for_eye.loc[\n",
    "                            start_idx:, \"combined_vel\"\n",
    "                        ].values.tolist()\n",
    "                    )  # keep combined_vel\n",
    "            # sacc:\n",
    "            elif math.isnan(next_line.isFix):\n",
    "                # if the event is too small and we are currently in a big sacc, keep isFix change combined_vel\n",
    "                if (\n",
    "                    event == 0\n",
    "                    and next_line.timeStampDataPointEnd + 0.011 - start_time < min_sacc_dur\n",
    "                ):\n",
    "                    isFix = (\n",
    "                        isFix\n",
    "                        + for_eye.loc[start_idx:, \"isFix\"].values.tolist()\n",
    "                    )  # keep isFix\n",
    "                    combined_vel = combined_vel + [np.nan] * (\n",
    "                        idx + 2 - start_idx\n",
    "                    )  # change combined_vel\n",
    "                # elif current event to small but we are in big gaze, change isFix, change combined_vel\n",
    "                elif (\n",
    "                    event == 1\n",
    "                    and next_line.timeStampDataPointEnd + 0.011 - start_time < min_sacc_dur\n",
    "                ):\n",
    "                    isFix = (\n",
    "                        isFix\n",
    "                        + for_eye.loc[\n",
    "                            start_idx:, \"combined_vel\"\n",
    "                        ].values.tolist()\n",
    "                    )  # change isFix\n",
    "                    combined_vel = combined_vel + [np.nan] * (\n",
    "                        idx + 2 - start_idx\n",
    "                    )  # change combined_vel\n",
    "                # elif current event big enough, keep isFix and keep combined_vel and change event to 0,update length\n",
    "                elif next_line.timeStampDataPointEnd + 0.011 - start_time >= min_sacc_dur:\n",
    "                    isFix = (\n",
    "                        isFix\n",
    "                        + for_eye.loc[start_idx:, \"isFix\"].values.tolist()\n",
    "                    )  # keep isFix\n",
    "                    combined_vel = (\n",
    "                        combined_vel\n",
    "                        + for_eye.loc[\n",
    "                            start_idx:, \"combined_vel\"\n",
    "                        ].values.tolist()\n",
    "                    )  # keep combined_vel\n",
    "\n",
    "    # save everything:\n",
    "    for_eye[\"isFix\"] = isFix\n",
    "    for_eye[\"corrected_vel\"] = combined_vel\n",
    "    # save data\n",
    "    for_eye = pd.DataFrame(for_eye)\n",
    "    \n",
    "    time = for_eye.timeStampDataPointEnd.tolist()\n",
    "    \n",
    "    ########## EVENTS, LENGTH, AVG DISTANCE, NAME OF OBJECT ##########\n",
    "    index = for_eye.index.tolist()  # index of df for easier use\n",
    "\n",
    "    events = [np.nan] * len(\n",
    "        for_eye\n",
    "    )  # sacc begin == 1, sacc end == -1; gaze begin == 2, gaze end == -2\n",
    "\n",
    "    # if the first sample does not have any data\n",
    "    if math.isnan(for_eye.iloc[0][\"combined_vel\"]) and not math.isnan(\n",
    "        for_eye.iloc[1][\"combined_vel\"]\n",
    "    ):\n",
    "        start_idx = index[\n",
    "            1\n",
    "        ]  # will be updated each event and used to add to the lists\n",
    "        events[1] = 2\n",
    "        length = [np.nan]\n",
    "        dist = [\n",
    "            np.nan\n",
    "        ]  # to save the distance to the hitpoint at each timestamps\n",
    "        avg_dist = [\n",
    "            np.nan\n",
    "        ]  # to save the average distance of collider(s) during event\n",
    "        names = [np.nan]  # to save the name of the current gaze\n",
    "    else:\n",
    "        start_idx = index[\n",
    "            0\n",
    "        ]  # will be updated each event and used to add to the lists\n",
    "        length = []\n",
    "        dist = []  # to save the distance to the hitpoint at each timestamps\n",
    "        avg_dist = (\n",
    "            []\n",
    "        )  # to save the average distance of collider(s) during event\n",
    "        names = []  # to save the name of the current gaze\n",
    "        if math.isnan(for_eye.iloc[index[0]][\"combined_vel\"]):\n",
    "            events[0] = 1\n",
    "        else:\n",
    "            events[0] = 2\n",
    "\n",
    "    start_time = for_eye.loc[start_idx][\"timeStampDataPointEnd\"].tolist()\n",
    "    # go through the list:\n",
    "    for idx in index[index.index(start_idx) : -1]:\n",
    "        curr_line = for_eye.loc[idx]\n",
    "        next_line = for_eye.loc[idx + 1]\n",
    "\n",
    "        # distance:\n",
    "        hpoo = np.array(\n",
    "            [curr_line.hitPointOnObject_x, curr_line.hitPointOnObject_y, curr_line.hitPointOnObject_z]\n",
    "        )  # hitpoints on object\n",
    "        coord_orig = np.array(\n",
    "            [\n",
    "                curr_line[\"eyePositionCombinedWorld.x\"],\n",
    "                curr_line[\"eyePositionCombinedWorld.y\"],\n",
    "                curr_line[\"eyePositionCombinedWorld.z\"],\n",
    "            ]\n",
    "        )  # position of eyes\n",
    "        dist = dist + [\n",
    "            np.linalg.norm(hpoo - coord_orig)\n",
    "        ]  # calculate to distance at this timpoint\n",
    "\n",
    "        # gaze --> sacc: now gaze, next one is sacc\n",
    "        if not math.isnan(curr_line.isFix) and math.isnan(next_line.isFix):\n",
    "            # get name:\n",
    "            res = dict(\n",
    "                Counter(for_eye.loc[start_idx:idx, \"Interpolated_collider\"].values.tolist())\n",
    "            )\n",
    "            names = names + [\n",
    "                max(res.keys(), key=(lambda new_k: res[new_k]))\n",
    "            ] * (idx + 1 - start_idx)\n",
    "            # length, distance, events\n",
    "            length = length + [curr_line.timeStampDataPointEnd - start_time] * (\n",
    "                idx + 1 - start_idx\n",
    "            )  # length of event\n",
    "            avg_dist = avg_dist + [\n",
    "                np.nanmean(dist[index.index(start_idx) :])\n",
    "            ] * (\n",
    "                idx + 1 - start_idx\n",
    "            )  # average distance to collider(s) during event\n",
    "            events[index.index(idx)] = -2  # end of gaze\n",
    "            events[index.index(idx) + 1] = 1  # beginning of sacc\n",
    "            # new idx\n",
    "            start_time = curr_line.timeStampDataPointEnd\n",
    "            start_idx = idx + 1\n",
    "\n",
    "        # sacc --> gaze: now sacc, next one is gaze\n",
    "        elif math.isnan(curr_line.isFix) and not math.isnan(next_line.isFix):\n",
    "            # get name:\n",
    "            res = dict(\n",
    "                Counter(for_eye.loc[start_idx:idx, \"Interpolated_collider\"].values.tolist())\n",
    "            )\n",
    "            names = names + [\n",
    "                max(res.keys(), key=(lambda new_k: res[new_k]))\n",
    "            ] * (idx + 1 - start_idx)\n",
    "            # length, distance, events\n",
    "            length = length + [curr_line.timeStampDataPointEnd - start_time] * (\n",
    "                idx + 1 - start_idx\n",
    "            )  # length of event\n",
    "            avg_dist = avg_dist + [\n",
    "                np.nanmean(dist[index.index(start_idx) :])\n",
    "            ] * (\n",
    "                idx + 1 - start_idx\n",
    "            )  # average distance to collider(s) during event\n",
    "            events[index.index(idx)] = -1  # end of sacc\n",
    "            events[index.index(idx) + 1] = 2  # beginning of gaze\n",
    "            # new idx\n",
    "            start_time = curr_line.timeStampDataPointEnd\n",
    "            start_idx = idx + 1\n",
    "\n",
    "        # last index:\n",
    "        if idx + 1 == index[-1]:\n",
    "            # gaze:\n",
    "            if not math.isnan(next_line.isFix):\n",
    "                events[-1] = -2  # end of gaze\n",
    "            # sacc:\n",
    "            elif math.isnan(next_line.isFix):\n",
    "                events[-1] = -1  # end of sacc\n",
    "            length = length + [next_line.timeStampDataPointEnd - start_time] * (\n",
    "                idx + 2 - start_idx\n",
    "            )  # length of event\n",
    "            # distance\n",
    "            avg_dist = avg_dist + [\n",
    "                np.nanmean(dist[index.index(start_idx) :])\n",
    "            ] * (\n",
    "                idx + 2 - start_idx\n",
    "            )  # average distance to collider(s) during event\n",
    "            hpoo = np.array(\n",
    "                [curr_line.hitPointOnObject_x, curr_line.hitPointOnObject_y, curr_line.hitPointOnObject_z]\n",
    "            )  # hitpoints on object\n",
    "            coord_orig = np.array(\n",
    "                [\n",
    "                    curr_line[\"eyePositionCombinedWorld.x\"],\n",
    "                    curr_line[\"eyePositionCombinedWorld.y\"],\n",
    "                    curr_line[\"eyePositionCombinedWorld.z\"],\n",
    "                ]\n",
    "            )  # position of eyes\n",
    "            dist = dist + [\n",
    "                np.linalg.norm(hpoo - coord_orig)\n",
    "            ]  # calculate to distance at this timpoint\n",
    "            # names\n",
    "            res = dict(\n",
    "                Counter(for_eye.loc[start_idx:, \"Interpolated_collider\"].values.tolist())\n",
    "            )\n",
    "            names = names + [\n",
    "                max(res.keys(), key=(lambda new_k: res[new_k]))\n",
    "            ] * (idx + 2 - start_idx)\n",
    "    # save everything:\n",
    "    for_eye[\"events\"] = events\n",
    "    for_eye[\"length\"] = length\n",
    "    for_eye[\"distance\"] = dist\n",
    "    for_eye[\"avg_dist\"] = avg_dist\n",
    "    for_eye[\"names\"] = names\n",
    "    # display(for_eye[['time','isFix','events','hon_all','names']])\n",
    "    # save data\n",
    "    for_eye = pd.DataFrame(for_eye)\n",
    "    # Change average distance to correct for the potential of other events \n",
    "    # so distance and avg_dist\n",
    "\n",
    "    # total lists:\n",
    "    all_dist = []\n",
    "    avg_dist = []\n",
    "\n",
    "    # updated after each gaze\n",
    "    dist = []\n",
    "    hon_pos = []\n",
    "    dur_gaze = False\n",
    "\n",
    "    # during event:\n",
    "    # go through the list:      \n",
    "    for g,gz in enumerate(for_eye['events']):\n",
    "        curr_line = for_eye.loc[g]\n",
    "        if gz == 2.0 or gz == 1.0:\n",
    "            dur_gaze = True\n",
    "            # get the gazed at object\n",
    "            curr_gaze = curr_line.names\n",
    "        # if you are currently in a gaze:\n",
    "        if dur_gaze:\n",
    "            # if you are currently having the correct element, add the position\n",
    "            if curr_line.Interpolated_collider == curr_gaze:    \n",
    "                hon_pos = hon_pos + [[curr_line.hitPointOnObject_x,\n",
    "                    curr_line.hitPointOnObject_y,\n",
    "                    curr_line.hitPointOnObject_z,]]\n",
    "            dist = dist + [np.array([curr_line[\"eyePositionCombinedWorld.x\"],\n",
    "                curr_line[\"eyePositionCombinedWorld.y\"],\n",
    "                curr_line[\"eyePositionCombinedWorld.z\"],])]\n",
    "\n",
    "        # once the gaze is over, take the avg_dist\n",
    "        if gz == -2.0 or gz == -1.0:\n",
    "            hon_pos = [np.nanmean(hon_pos, axis=0)] * len(dist)\n",
    "            # calculate to distance at this timpoint\n",
    "            dist = [np.linalg.norm(hon_pos[c] - dist[c]) for c in range(len(dist))]\n",
    "            all_dist = all_dist + dist\n",
    "            # average distance during the gaze event\n",
    "            avg_dist = avg_dist + [np.nanmean(dist)] * len(dist)\n",
    "\n",
    "            # reset everything:\n",
    "            dist = []\n",
    "            hon_pos = []\n",
    "            dur_gaze = False\n",
    "\n",
    "        # if there are parts that are neither gaze nor saccade:\n",
    "        if (not dur_gaze) and (gz not in [2.0,1.0]) and (len(all_dist) + len(dist) != g + 1):\n",
    "            all_dist = all_dist + [np.nan]\n",
    "            avg_dist = avg_dist + [np.nan]\n",
    "\n",
    "        if len(all_dist) + len(dist) != g + 1:\n",
    "            display(g)\n",
    "\n",
    "    if dur_gaze:\n",
    "        hon_pos = [np.nanmean(hon_pos, axis=0)] * len(dist)\n",
    "        # calculate to distance at this timpoint\n",
    "        dist = [np.linalg.norm(hon_pos[c] - dist[c]) for c in range(len(dist))]\n",
    "        all_dist = all_dist + dist\n",
    "        # average distance during the gaze event\n",
    "        avg_dist = avg_dist + [np.nanmean(dist)] * len(dist)\n",
    "\n",
    "    # add them to for_eye\n",
    "    for_eye['distance'] = all_dist\n",
    "    for_eye['avg_dist'] = avg_dist\n",
    "    \n",
    "    for_eye[\"names\"] =  for_eye.names.fillna(method='ffill').fillna(method='bfill')\n",
    "    for_eye['Collider_CategoricalN'] = for_eye['names'].apply(lambda x: next((val for key, val in patterns.items() if re.match(key, x)), default_val))\n",
    "    \n",
    "\n",
    "    # save data\n",
    "    for_eye = pd.DataFrame(for_eye)\n",
    "    \n",
    "    # Define the condition and the string to add\n",
    "    Mask_1f = ((for_eye['Collider_CategoricalN'] == \"Active_Agent\") & (for_eye['Face_Hits'] == \"Face\")) | ((for_eye['Collider_CategoricalN'] == \"Passive_Agent\") & (for_eye['Face_Hits'] == \"Face\"))\n",
    "    Mask_2f  = ((for_eye['Collider_Categorical'] == \"Active_Agent\") | (for_eye['Collider_Categorical'] == \"Passive_Agent\")) & (for_eye['Face_Hits'] == \"Face\")    \n",
    "    string_to_add = \"_Face\"\n",
    "    # Use the loc method to index the rows where the condition is met\n",
    "    for_eye.loc[Mask_1f, 'Collider_CategoricalN'] = for_eye.loc[Mask_1f, 'Collider_CategoricalN'] + string_to_add\n",
    "    for_eye.loc[Mask_2f, 'Collider_Categorical'] = for_eye.loc[Mask_2f, 'Collider_Categorical'] + string_to_add\n",
    "    for_eye.to_csv(f\"/Volumes/TwoTeras/1_Experiment_2/Eye_Tracking/Pre_processed/05_Debbies_gaze/{filename[-10:-4]}.csv\", index=True)\n",
    "    print(filename[-10:-4])"
   ]
  },
  {
   "cell_type": "markdown",
   "id": "78c9b047-5700-4f75-b0e2-29e9fb869910",
   "metadata": {},
   "source": [
    "# Debbies plot"
   ]
  },
  {
   "cell_type": "code",
   "execution_count": null,
   "id": "198e93b3-918b-412a-94f9-40440dc22dd9",
   "metadata": {},
   "outputs": [],
   "source": [
    "for_eye = pd.read_csv(\"/Volumes/TwoTeras/1_Experiment_2/Eye_Tracking/Pre_processed/03_Debbies_gaze/One_participant_WDC.csv\", index_col=\"timeStampDataPointEnd\")\n",
    "\n",
    "window_lower = for_eye.index.tolist()[2070]\n",
    "window_upper = for_eye.index.tolist()[2270]\n",
    "\n",
    "titel = \"Hit Points of Gazes\"\n",
    "            \n",
    "\n",
    "# get time:\n",
    "ts = for_eye.index.tolist()  # to make it easier\n",
    "time = ts[\n",
    "    ts.index(\n",
    "        list(filter(lambda i: i > window_lower, ts))[0]\n",
    "    ) : ts.index(list(filter(lambda i: i < window_upper, ts))[-1])\n",
    "    + 1\n",
    "]  # get all timestamps in the important time window\n",
    "\n",
    "# get shorter df:\n",
    "for_eye = for_eye.iloc[ts.index(time[0]) : (ts.index(time[-1]) + 1)]\n",
    "\n",
    "\n",
    "# hon: for showing lines in plot\n",
    "hon = for_eye[\"Interpolated_collider\"].tolist()\n",
    "new_col = [\n",
    "    hon[n] if hon[n] != hon[n - 1] and not pd.isnull(hon[n]) else np.nan\n",
    "    for n in range(len(hon))\n",
    "]\n",
    "\n",
    "hon_ts = [\n",
    "    ti for cnt, ti in enumerate(time) if isinstance(new_col[cnt], str)\n",
    "]  # timestamps\n",
    "\n",
    "# get gazes:\n",
    "gaze = for_eye[~for_eye[\"isFix\"].isnull()]\n",
    "gaze = gaze.rename({'hitPointOnObject_x': 'xgaze', 'hitPointOnObject_y': 'ygaze', 'hitPointOnObject_z': 'zgaze'}, axis=1)\n",
    "\n",
    "sacc = for_eye[~for_eye.index.isin(gaze.index)]\n",
    "sacc = sacc.rename({'hitPointOnObject_x': 'xsacc', 'hitPointOnObject_y': 'ysacc', 'hitPointOnObject_z': 'zsacc'}, axis=1)\n",
    "\n",
    "\n",
    "# plot it:\n",
    "sns.set(rc={\"figure.figsize\": (17, 9)})\n",
    "sns.set_style(\n",
    "    \"white\"\n",
    ")  # styledict, or one of {darkgrid, whitegrid, dark, white, ticks}\n",
    "\n",
    "f, (axis) = plt.subplots(2, 1)\n",
    "\n",
    "\n",
    "for x, xc in enumerate(hon_ts):\n",
    "    if not np.isnan(xc):\n",
    "        axis[0].axvline(\n",
    "            x=xc, color=\"#987284\", alpha=0.2, label=\"_Hidden label\"\n",
    "        )\n",
    "\n",
    "color_gaze = {\n",
    "    \"xgaze\": \"#5FAD56\",\n",
    "    \"ygaze\": \"#27408B\",\n",
    "    \"zgaze\": \"#4C86A8\",\n",
    "}\n",
    "color_sacc = {\n",
    "    \"xsacc\": \"#BA1200\",\n",
    "    \"ysacc\": \"#CD96CD\",\n",
    "    \"zsacc\": \"#F0A202\",\n",
    "}\n",
    "\n",
    "gaze[[\"xgaze\", \"ygaze\", \"zgaze\"]].plot(\n",
    "    color=[\n",
    "        color_gaze.get(x, \"#333333\")\n",
    "        for x in gaze[[\"xgaze\", \"ygaze\", \"zgaze\"]]\n",
    "    ],\n",
    "    ax=axis[0],\n",
    "    marker=\"o\",\n",
    "    ls=\"\",\n",
    ")\n",
    "\n",
    "sacc[[\"xsacc\", \"ysacc\", \"zsacc\"]].plot(\n",
    "    color=[\n",
    "        color_sacc.get(x, \"#333333\")\n",
    "        for x in sacc[[\"xsacc\", \"ysacc\", \"zsacc\"]]\n",
    "    ],\n",
    "    ax=axis[0],\n",
    "    marker=\"o\",\n",
    "    ls=\"\",\n",
    ")\n",
    "\n",
    "axis[0].set_title(\n",
    "    titel,\n",
    "    fontsize=22,\n",
    "    fontweight='bold',\n",
    ")\n",
    "axis[0].legend(loc=\"upper right\", fontsize=18)\n",
    "axis[0].xaxis.label.set_visible(False)\n",
    "axis[0].set_ylabel(\"coordinates\", fontsize=20)\n",
    "axis[0].yaxis.set_tick_params(labelsize = 14) # change tick size\n",
    "axis[0].xaxis.set_tick_params(labelsize = 14) \n",
    "\n",
    "\n",
    "\n",
    "axis[1].plot(time, for_eye[\"combined_vel\"].tolist(), \"g\", label = \"combined_vel\")\n",
    "axis[1].plot(time, for_eye[\"thresh\"].tolist(), \"r\", label = \"threshold\")\n",
    "\n",
    "#axis[3].plot(time, long_events_mad, \"k\")\n",
    "## axis[2].plot(time, blinks, \"b\")  # blinks\n",
    "axis[1].set_ylim(0, 600)\n",
    "axis[1].set_title(\n",
    "        \"Velocities\",\n",
    "        fontsize=22,\n",
    "        fontweight='bold',\n",
    "    )\n",
    "axis[1].legend(loc=\"upper right\", fontsize=18)\n",
    "#plt.xticks(fontsize=14)\n",
    "#ax.set_xticklabels(time,fontsize=20)\n",
    "#plt.suptitle(uid, fontsize=20)\n",
    "plt.tight_layout(rect=[0, 0.03, 1, 0.95])\n",
    "axis[1].set_xlabel(\"time (sec)\", fontsize=20)\n",
    "axis[1].set_ylabel(\"veloctiy\", fontsize=20)\n",
    "axis[1].yaxis.set_tick_params(labelsize = 14) # change tick size\n",
    "axis[1].xaxis.set_tick_params(labelsize = 14) \n",
    "\n",
    "plt.suptitle(titel, fontsize=24)\n"
   ]
  },
  {
   "cell_type": "code",
   "execution_count": null,
   "id": "0378392c-2700-4f37-b716-a04d6c39e9db",
   "metadata": {},
   "outputs": [],
   "source": [
    "for_eye"
   ]
  }
 ],
 "metadata": {
  "kernelspec": {
   "display_name": "Python 3 (ipykernel)",
   "language": "python",
   "name": "python3"
  },
  "language_info": {
   "codemirror_mode": {
    "name": "ipython",
    "version": 3
   },
   "file_extension": ".py",
   "mimetype": "text/x-python",
   "name": "python",
   "nbconvert_exporter": "python",
   "pygments_lexer": "ipython3",
   "version": "3.12.7"
  }
 },
 "nbformat": 4,
 "nbformat_minor": 5
}
