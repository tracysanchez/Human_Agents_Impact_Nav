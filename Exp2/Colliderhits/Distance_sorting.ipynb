{
 "cells": [
  {
   "cell_type": "code",
   "execution_count": 40,
   "id": "9c8baff5-20c7-483f-9cab-b6f93e902005",
   "metadata": {},
   "outputs": [],
   "source": [
    "import re\n",
    "import pandas as pd\n",
    "import numpy as np"
   ]
  },
  {
   "cell_type": "code",
   "execution_count": 41,
   "id": "988ae543-b42c-4647-aedb-506db914e06a",
   "metadata": {},
   "outputs": [],
   "source": [
    "temp_one_part_l = pd.read_csv(\"/Volumes/SSD/00_Data_Processing/Pre_processed/02_Individuals_Colliders/1754.csv\")"
   ]
  },
  {
   "cell_type": "code",
   "execution_count": 3,
   "id": "27cab3ff-e613-421f-9e98-9f1576066271",
   "metadata": {},
   "outputs": [
    {
     "data": {
      "text/plain": "         Unnamed: 0   index  SubjectID  Session  SessionSubsection  \\\n547             553  133844       1754        1                  1   \n1391           1431  134722       1754        1                  1   \n1642           1686  134977       1754        1                  1   \n1650           1696  134987       1754        1                  1   \n1675           1723  135014       1754        1                  1   \n...             ...     ...        ...      ...                ...   \n1962056     1980777  131582       1754        5                  3   \n1962062     1980790  131595       1754        5                  3   \n1962244     1980978  131783       1754        5                  3   \n1963222     1981988  132793       1754        5                  3   \n1963224     1981992  132797       1754        5                  3   \n\n         timeStampDataPointStart  timeStampDataPointEnd  \\\n547                 1.646740e+09           1.646740e+09   \n1391                1.646740e+09           1.646740e+09   \n1642                1.646740e+09           1.646740e+09   \n1650                1.646740e+09           1.646740e+09   \n1675                1.646740e+09           1.646740e+09   \n...                          ...                    ...   \n1962056             1.647345e+09           1.647345e+09   \n1962062             1.647345e+09           1.647345e+09   \n1962244             1.647345e+09           1.647345e+09   \n1963222             1.647345e+09           1.647345e+09   \n1963224             1.647345e+09           1.647345e+09   \n\n         timeStampGetVerboseData  combinedGazeValidityBitmask  \\\n547                 1.646740e+09                            3   \n1391                1.646740e+09                            0   \n1642                1.646740e+09                            3   \n1650                1.646740e+09                            3   \n1675                1.646740e+09                            3   \n...                          ...                          ...   \n1962056             1.647345e+09                            3   \n1962062             1.647345e+09                            3   \n1962244             1.647345e+09                            3   \n1963222             1.647345e+09                            3   \n1963224             1.647345e+09                            3   \n\n                                   rayCastHitsCombinedEyes  ...  \\\n547      [{'hitPointOnObject': {'x': -99.08572387695312...  ...   \n1391     [{'hitPointOnObject': {'x': -59.36338424682617...  ...   \n1642     [{'hitPointOnObject': {'x': -90.65501403808594...  ...   \n1650     [{'hitPointOnObject': {'x': -89.92011260986328...  ...   \n1675     [{'hitPointOnObject': {'x': -85.83135986328125...  ...   \n...                                                    ...  ...   \n1962056  [{'hitPointOnObject': {'x': 226.59303283691406...  ...   \n1962062  [{'hitPointOnObject': {'x': 224.813720703125, ...  ...   \n1962244  [{'hitPointOnObject': {'x': 295.0853576660156,...  ...   \n1963222  [{'hitPointOnObject': {'x': 83.76455688476562,...  ...   \n1963224  [{'hitPointOnObject': {'x': 100.82052612304688...  ...   \n\n         bodyTrackerRotation.y  bodyTrackerRotation.z  \\\n547                 344.072144             359.920959   \n1391                 91.363693               5.718540   \n1642                114.432625               6.266405   \n1650                118.613625               6.692514   \n1675                123.968521               6.519924   \n...                        ...                    ...   \n1962056              11.873497               4.811445   \n1962062              11.535590               4.782461   \n1962244              11.548946               4.774898   \n1963222             306.395264               4.704519   \n1963224             306.608795               4.807205   \n\n                    hitColliderType  \\\n547      UnityEngine.SphereCollider   \n1391       UnityEngine.MeshCollider   \n1642     UnityEngine.SphereCollider   \n1650     UnityEngine.SphereCollider   \n1675        UnityEngine.BoxCollider   \n...                             ...   \n1962056    UnityEngine.MeshCollider   \n1962062    UnityEngine.MeshCollider   \n1962244    UnityEngine.MeshCollider   \n1963222     UnityEngine.BoxCollider   \n1963224    UnityEngine.MeshCollider   \n\n                             hitObjectColliderBoundsCenter  \\\n547      {'x': -98.7122573852539, 'y': 5.82877254486084...   \n1391     {'x': 39.25787353515625, 'y': -4.4083013534545...   \n1642     {'x': -88.05426788330078, 'y': 12.470046997070...   \n1650     {'x': -88.01226043701172, 'y': 6.0187730789184...   \n1675     {'x': -86.88899993896484, 'y': 19.279701232910...   \n...                                                    ...   \n1962056  {'x': 226.93492126464844, 'y': 5.1365947723388...   \n1962062  {'x': 226.93492126464844, 'y': 5.1365947723388...   \n1962244  {'x': 299.42376708984375, 'y': 12.845506668090...   \n1963222  {'x': 83.68951416015625, 'y': 4.23225212097168...   \n1963224  {'x': 96.24544525146484, 'y': 8.32791709899902...   \n\n              hitObjectColliderName  ordinalOfHit  hitPointOnObject_x  \\\n547                CollisionObject1           1.0          -99.085724   \n1391          road_base_network.004           1.0          -59.363384   \n1642               CollisionObject2           1.0          -90.655014   \n1650               CollisionObject1           1.0          -89.920113   \n1675                        crane_1           1.0          -85.831360   \n...                             ...           ...                 ...   \n1962056             TaskBuilding_14           1.0          226.593033   \n1962062             TaskBuilding_14           1.0          224.813721   \n1962244  Windmill-TaskBuilding_10_1           1.0          295.085358   \n1963222            Lamppost_v1 (26)           1.0           83.764557   \n1963224                Building_108           1.0          100.820526   \n\n         hitPointOnObject_y  hitPointOnObject_z  time_indicator  \n547                4.944987          212.253250             7.0  \n1391               0.466697           33.402351            35.0  \n1642              11.352463          -51.465061             5.0  \n1650               8.475922          -49.828369             3.0  \n1675              18.660173          -27.485453             3.0  \n...                     ...                 ...             ...  \n1962056            9.736407          123.059998            11.0  \n1962062            8.808421          117.307022             8.0  \n1962244           18.384865          186.220657             7.0  \n1963222            6.882790           28.000019            33.0  \n1963224            6.139775           11.457962             3.0  \n\n[2266 rows x 47 columns]",
      "text/html": "<div>\n<style scoped>\n    .dataframe tbody tr th:only-of-type {\n        vertical-align: middle;\n    }\n\n    .dataframe tbody tr th {\n        vertical-align: top;\n    }\n\n    .dataframe thead th {\n        text-align: right;\n    }\n</style>\n<table border=\"1\" class=\"dataframe\">\n  <thead>\n    <tr style=\"text-align: right;\">\n      <th></th>\n      <th>Unnamed: 0</th>\n      <th>index</th>\n      <th>SubjectID</th>\n      <th>Session</th>\n      <th>SessionSubsection</th>\n      <th>timeStampDataPointStart</th>\n      <th>timeStampDataPointEnd</th>\n      <th>timeStampGetVerboseData</th>\n      <th>combinedGazeValidityBitmask</th>\n      <th>rayCastHitsCombinedEyes</th>\n      <th>...</th>\n      <th>bodyTrackerRotation.y</th>\n      <th>bodyTrackerRotation.z</th>\n      <th>hitColliderType</th>\n      <th>hitObjectColliderBoundsCenter</th>\n      <th>hitObjectColliderName</th>\n      <th>ordinalOfHit</th>\n      <th>hitPointOnObject_x</th>\n      <th>hitPointOnObject_y</th>\n      <th>hitPointOnObject_z</th>\n      <th>time_indicator</th>\n    </tr>\n  </thead>\n  <tbody>\n    <tr>\n      <th>547</th>\n      <td>553</td>\n      <td>133844</td>\n      <td>1754</td>\n      <td>1</td>\n      <td>1</td>\n      <td>1.646740e+09</td>\n      <td>1.646740e+09</td>\n      <td>1.646740e+09</td>\n      <td>3</td>\n      <td>[{'hitPointOnObject': {'x': -99.08572387695312...</td>\n      <td>...</td>\n      <td>344.072144</td>\n      <td>359.920959</td>\n      <td>UnityEngine.SphereCollider</td>\n      <td>{'x': -98.7122573852539, 'y': 5.82877254486084...</td>\n      <td>CollisionObject1</td>\n      <td>1.0</td>\n      <td>-99.085724</td>\n      <td>4.944987</td>\n      <td>212.253250</td>\n      <td>7.0</td>\n    </tr>\n    <tr>\n      <th>1391</th>\n      <td>1431</td>\n      <td>134722</td>\n      <td>1754</td>\n      <td>1</td>\n      <td>1</td>\n      <td>1.646740e+09</td>\n      <td>1.646740e+09</td>\n      <td>1.646740e+09</td>\n      <td>0</td>\n      <td>[{'hitPointOnObject': {'x': -59.36338424682617...</td>\n      <td>...</td>\n      <td>91.363693</td>\n      <td>5.718540</td>\n      <td>UnityEngine.MeshCollider</td>\n      <td>{'x': 39.25787353515625, 'y': -4.4083013534545...</td>\n      <td>road_base_network.004</td>\n      <td>1.0</td>\n      <td>-59.363384</td>\n      <td>0.466697</td>\n      <td>33.402351</td>\n      <td>35.0</td>\n    </tr>\n    <tr>\n      <th>1642</th>\n      <td>1686</td>\n      <td>134977</td>\n      <td>1754</td>\n      <td>1</td>\n      <td>1</td>\n      <td>1.646740e+09</td>\n      <td>1.646740e+09</td>\n      <td>1.646740e+09</td>\n      <td>3</td>\n      <td>[{'hitPointOnObject': {'x': -90.65501403808594...</td>\n      <td>...</td>\n      <td>114.432625</td>\n      <td>6.266405</td>\n      <td>UnityEngine.SphereCollider</td>\n      <td>{'x': -88.05426788330078, 'y': 12.470046997070...</td>\n      <td>CollisionObject2</td>\n      <td>1.0</td>\n      <td>-90.655014</td>\n      <td>11.352463</td>\n      <td>-51.465061</td>\n      <td>5.0</td>\n    </tr>\n    <tr>\n      <th>1650</th>\n      <td>1696</td>\n      <td>134987</td>\n      <td>1754</td>\n      <td>1</td>\n      <td>1</td>\n      <td>1.646740e+09</td>\n      <td>1.646740e+09</td>\n      <td>1.646740e+09</td>\n      <td>3</td>\n      <td>[{'hitPointOnObject': {'x': -89.92011260986328...</td>\n      <td>...</td>\n      <td>118.613625</td>\n      <td>6.692514</td>\n      <td>UnityEngine.SphereCollider</td>\n      <td>{'x': -88.01226043701172, 'y': 6.0187730789184...</td>\n      <td>CollisionObject1</td>\n      <td>1.0</td>\n      <td>-89.920113</td>\n      <td>8.475922</td>\n      <td>-49.828369</td>\n      <td>3.0</td>\n    </tr>\n    <tr>\n      <th>1675</th>\n      <td>1723</td>\n      <td>135014</td>\n      <td>1754</td>\n      <td>1</td>\n      <td>1</td>\n      <td>1.646740e+09</td>\n      <td>1.646740e+09</td>\n      <td>1.646740e+09</td>\n      <td>3</td>\n      <td>[{'hitPointOnObject': {'x': -85.83135986328125...</td>\n      <td>...</td>\n      <td>123.968521</td>\n      <td>6.519924</td>\n      <td>UnityEngine.BoxCollider</td>\n      <td>{'x': -86.88899993896484, 'y': 19.279701232910...</td>\n      <td>crane_1</td>\n      <td>1.0</td>\n      <td>-85.831360</td>\n      <td>18.660173</td>\n      <td>-27.485453</td>\n      <td>3.0</td>\n    </tr>\n    <tr>\n      <th>...</th>\n      <td>...</td>\n      <td>...</td>\n      <td>...</td>\n      <td>...</td>\n      <td>...</td>\n      <td>...</td>\n      <td>...</td>\n      <td>...</td>\n      <td>...</td>\n      <td>...</td>\n      <td>...</td>\n      <td>...</td>\n      <td>...</td>\n      <td>...</td>\n      <td>...</td>\n      <td>...</td>\n      <td>...</td>\n      <td>...</td>\n      <td>...</td>\n      <td>...</td>\n      <td>...</td>\n    </tr>\n    <tr>\n      <th>1962056</th>\n      <td>1980777</td>\n      <td>131582</td>\n      <td>1754</td>\n      <td>5</td>\n      <td>3</td>\n      <td>1.647345e+09</td>\n      <td>1.647345e+09</td>\n      <td>1.647345e+09</td>\n      <td>3</td>\n      <td>[{'hitPointOnObject': {'x': 226.59303283691406...</td>\n      <td>...</td>\n      <td>11.873497</td>\n      <td>4.811445</td>\n      <td>UnityEngine.MeshCollider</td>\n      <td>{'x': 226.93492126464844, 'y': 5.1365947723388...</td>\n      <td>TaskBuilding_14</td>\n      <td>1.0</td>\n      <td>226.593033</td>\n      <td>9.736407</td>\n      <td>123.059998</td>\n      <td>11.0</td>\n    </tr>\n    <tr>\n      <th>1962062</th>\n      <td>1980790</td>\n      <td>131595</td>\n      <td>1754</td>\n      <td>5</td>\n      <td>3</td>\n      <td>1.647345e+09</td>\n      <td>1.647345e+09</td>\n      <td>1.647345e+09</td>\n      <td>3</td>\n      <td>[{'hitPointOnObject': {'x': 224.813720703125, ...</td>\n      <td>...</td>\n      <td>11.535590</td>\n      <td>4.782461</td>\n      <td>UnityEngine.MeshCollider</td>\n      <td>{'x': 226.93492126464844, 'y': 5.1365947723388...</td>\n      <td>TaskBuilding_14</td>\n      <td>1.0</td>\n      <td>224.813721</td>\n      <td>8.808421</td>\n      <td>117.307022</td>\n      <td>8.0</td>\n    </tr>\n    <tr>\n      <th>1962244</th>\n      <td>1980978</td>\n      <td>131783</td>\n      <td>1754</td>\n      <td>5</td>\n      <td>3</td>\n      <td>1.647345e+09</td>\n      <td>1.647345e+09</td>\n      <td>1.647345e+09</td>\n      <td>3</td>\n      <td>[{'hitPointOnObject': {'x': 295.0853576660156,...</td>\n      <td>...</td>\n      <td>11.548946</td>\n      <td>4.774898</td>\n      <td>UnityEngine.MeshCollider</td>\n      <td>{'x': 299.42376708984375, 'y': 12.845506668090...</td>\n      <td>Windmill-TaskBuilding_10_1</td>\n      <td>1.0</td>\n      <td>295.085358</td>\n      <td>18.384865</td>\n      <td>186.220657</td>\n      <td>7.0</td>\n    </tr>\n    <tr>\n      <th>1963222</th>\n      <td>1981988</td>\n      <td>132793</td>\n      <td>1754</td>\n      <td>5</td>\n      <td>3</td>\n      <td>1.647345e+09</td>\n      <td>1.647345e+09</td>\n      <td>1.647345e+09</td>\n      <td>3</td>\n      <td>[{'hitPointOnObject': {'x': 83.76455688476562,...</td>\n      <td>...</td>\n      <td>306.395264</td>\n      <td>4.704519</td>\n      <td>UnityEngine.BoxCollider</td>\n      <td>{'x': 83.68951416015625, 'y': 4.23225212097168...</td>\n      <td>Lamppost_v1 (26)</td>\n      <td>1.0</td>\n      <td>83.764557</td>\n      <td>6.882790</td>\n      <td>28.000019</td>\n      <td>33.0</td>\n    </tr>\n    <tr>\n      <th>1963224</th>\n      <td>1981992</td>\n      <td>132797</td>\n      <td>1754</td>\n      <td>5</td>\n      <td>3</td>\n      <td>1.647345e+09</td>\n      <td>1.647345e+09</td>\n      <td>1.647345e+09</td>\n      <td>3</td>\n      <td>[{'hitPointOnObject': {'x': 100.82052612304688...</td>\n      <td>...</td>\n      <td>306.608795</td>\n      <td>4.807205</td>\n      <td>UnityEngine.MeshCollider</td>\n      <td>{'x': 96.24544525146484, 'y': 8.32791709899902...</td>\n      <td>Building_108</td>\n      <td>1.0</td>\n      <td>100.820526</td>\n      <td>6.139775</td>\n      <td>11.457962</td>\n      <td>3.0</td>\n    </tr>\n  </tbody>\n</table>\n<p>2266 rows × 47 columns</p>\n</div>"
     },
     "execution_count": 3,
     "metadata": {},
     "output_type": "execute_result"
    }
   ],
   "source": [
    "# Sanity check: We make sure the diferrence between timestamps is not more or less than expected\n",
    "temp_one_part_l['time_indicator'] = temp_one_part_l['index'].diff()\n",
    "temp_one_part_l[(temp_one_part_l['time_indicator'] > 1) | (temp_one_part_l['time_indicator'] < -1)]"
   ]
  },
  {
   "cell_type": "code",
   "execution_count": 5,
   "id": "be1f6285-ee9c-4982-9730-d5a5ff0d5412",
   "metadata": {},
   "outputs": [
    {
     "data": {
      "text/plain": "Index(['Unnamed: 0', 'index', 'SubjectID', 'Session', 'SessionSubsection',\n       'timeStampDataPointStart', 'timeStampDataPointEnd',\n       'timeStampGetVerboseData', 'combinedGazeValidityBitmask',\n       'rayCastHitsCombinedEyes', 'eyePositionCombinedWorld.x',\n       'eyePositionCombinedWorld.y', 'eyePositionCombinedWorld.z',\n       'eyeDirectionCombinedWorld.y', 'eyeDirectionCombinedWorld.z',\n       'eyeDirectionCombinedLocal.x', 'eyeDirectionCombinedLocal.y',\n       'eyeDirectionCombinedLocal.z', 'hmdPosition.x', 'hmdPosition.y',\n       'hmdPosition.z', 'hmdDirectionForward.x', 'hmdDirectionForward.y',\n       'hmdDirectionForward.z', 'hmdRotation.x', 'hmdRotation.y',\n       'hmdRotation.z', 'hmdDirectionUp.x', 'hmdDirectionUp.y',\n       'hmdDirectionUp.z', 'playerBodyPosition.x', 'playerBodyPosition.y',\n       'playerBodyPosition.z', 'bodyTrackerPosition.x',\n       'bodyTrackerPosition.y', 'bodyTrackerPosition.z',\n       'bodyTrackerRotation.x', 'bodyTrackerRotation.y',\n       'bodyTrackerRotation.z', 'hitColliderType',\n       'hitObjectColliderBoundsCenter', 'hitObjectColliderName',\n       'ordinalOfHit', 'hitPointOnObject_x', 'hitPointOnObject_y',\n       'hitPointOnObject_z', 'time_indicator'],\n      dtype='object')"
     },
     "execution_count": 5,
     "metadata": {},
     "output_type": "execute_result"
    }
   ],
   "source": [
    "temp_one_part_l.columns"
   ]
  },
  {
   "cell_type": "code",
   "execution_count": 42,
   "id": "8cb1312a-4f63-4ec2-9c8d-2de2cfacebd9",
   "metadata": {},
   "outputs": [],
   "source": [
    "#Since we have two colliders hits per frame, we calculate the distance between each hit and the participant, this tells us which object was closest to the participant\n",
    "temp_one_part_l['Eucledian_distance'] = np.linalg.norm(temp_one_part_l.loc[:, [\"hitPointOnObject_x\",\"hitPointOnObject_y\",\"hitPointOnObject_z\"]].values - temp_one_part_l.loc[:, [\"playerBodyPosition.x\",\"playerBodyPosition.y\",\"playerBodyPosition.z\"]], axis=1)"
   ]
  },
  {
   "cell_type": "code",
   "execution_count": 31,
   "id": "4a9a9bb0-a0ab-4a59-a97f-726f4524027d",
   "metadata": {},
   "outputs": [],
   "source": [
    "# Since the collider names are too detailed, here we create a dictionary with patterns to classify them into our categories of interest\n",
    "# INCLUDE LANDMARKS\n",
    "patterns = {'\\d{2}_Sa':'Passive_Agent', '\\d{2}_Cma':'Active_Agent', 'Building_\\d+': 'Building', 'Graffity_\\d+': 'Graffity'}\n",
    "patterns.update(dict.fromkeys(['TaskBuilding_2','TaskBuilding_3', 'TaskBuilding_5', 'TaskBuilding_8', 'TaskBuilding_9', 'TaskBuilding_11', 'TaskBuilding_13', 'TaskBuilding_14', 'TaskBuilding_20', 'TaskBuilding_21', 'TaskBuilding_23','TaskBuilding_27', 'TaskBuilding_29', 'TaskBuilding_32', 'TaskBuilding_34',  'TaskBuilding_38', 'TaskBuilding_41', 'TaskBuilding_42', 'TaskBuilding_44', 'TaskBuilding_45', 'TaskBuilding_47', 'TaskBuilding_50', 'TaskBuilding_51', 'TaskBuilding_52'], 'TaskBuilding_Public'))\n",
    "patterns.update(dict.fromkeys(['TaskBuilding_1','TaskBuilding_4', 'TaskBuilding_6', 'TaskBuilding_7', 'TaskBuilding_12', 'TaskBuilding_15', 'TaskBuilding_17', 'TaskBuilding_18', 'TaskBuilding_19', 'TaskBuilding_22', 'TaskBuilding_24','TaskBuilding_25', 'TaskBuilding_26', 'TaskBuilding_28', 'TaskBuilding_30',  'TaskBuilding_31', 'TaskBuilding_33', 'TaskBuilding_35', 'TaskBuilding_36', 'TaskBuilding_37', 'TaskBuilding_39', 'TaskBuilding_40', 'TaskBuilding_43', 'TaskBuilding_48', 'TaskBuilding_54' ], 'TaskBuilding_Residential'))\n",
    "default_val = 'Background'"
   ]
  },
  {
   "cell_type": "code",
   "execution_count": 35,
   "outputs": [],
   "source": [
    "# Here we look for the patterns contained in the dictionary and create the more general/informative variable Collider_Categorical\n",
    "temp_one_part_l['Collider_Categorical'] = temp_one_part_l['hitObjectColliderName'].apply(lambda x: next((val for key, val in patterns.items() if re.match(key, x)), default_val))"
   ],
   "metadata": {
    "collapsed": false,
    "pycharm": {
     "name": "#%%\n"
    }
   }
  },
  {
   "cell_type": "code",
   "execution_count": null,
   "outputs": [],
   "source": [
    "# Since the double hits where unfolded in a long format in case of more than one hit per frame the second hit would be the row directly underneath.\n",
    "# Therefore, if we want to know which hit was closest to the participant per frame we can compare each row with the previous one and see which one has the smallest Euclidean distance.\n",
    "temp_one_part_l['Previous_Euclidean_value'] = temp_one_part_l['Euclidean_distance'].shift(1)\n",
    "#Here we declare the conditions to choose between collider hits:\n",
    "temp_one_part_l['Collider_stays'] =  (temp_one_part_l['Euclidean_distance'] <  temp_one_part_l['Previous_Euclidean_value']) & (temp_one_part_l[\"ordinalOfHit\"] == 2)"
   ],
   "metadata": {
    "collapsed": false,
    "pycharm": {
     "name": "#%%\n"
    }
   }
  },
  {
   "cell_type": "code",
   "execution_count": 21,
   "outputs": [],
   "source": [
    "sample = temp_one_part_l.sample(n=5000)"
   ],
   "metadata": {
    "collapsed": false,
    "pycharm": {
     "name": "#%%\n"
    }
   }
  },
  {
   "cell_type": "code",
   "execution_count": 24,
   "outputs": [
    {
     "data": {
      "text/plain": "         Unnamed: 0    index  SubjectID  Session  SessionSubsection  \\\n22448         22646   155937       1754        1                  1   \n1464916     1480847  1614138       1754        4                  3   \n1175050     1189225  1322516       1754        4                  1   \n1157389     1171346  1304637       1754        3                  3   \n1132612     1146301  1279592       1754        3                  3   \n\n         timeStampDataPointStart  timeStampDataPointEnd  \\\n22448               1.646740e+09           1.646740e+09   \n1464916             1.647258e+09           1.647258e+09   \n1175050             1.647256e+09           1.647256e+09   \n1157389             1.647012e+09           1.647012e+09   \n1132612             1.647012e+09           1.647012e+09   \n\n         timeStampGetVerboseData  combinedGazeValidityBitmask  \\\n22448               1.646740e+09                            3   \n1464916             1.647258e+09                            3   \n1175050             1.647256e+09                            3   \n1157389             1.647012e+09                            3   \n1132612             1.647012e+09                            3   \n\n                                   rayCastHitsCombinedEyes  ...  \\\n22448    [{'hitPointOnObject': {'x': 7.7885918617248535...  ...   \n1464916  [{'hitPointOnObject': {'x': -294.946044921875,...  ...   \n1175050  [{'hitPointOnObject': {'x': -24.51759338378906...  ...   \n1157389  [{'hitPointOnObject': {'x': -114.0694503784179...  ...   \n1132612  [{'hitPointOnObject': {'x': 73.96194458007812,...  ...   \n\n                             hitObjectColliderBoundsCenter  \\\n22448    {'x': 9.010000228881836, 'y': -0.1894607543945...   \n1464916  {'x': -304.0008239746094, 'y': 11.011278152465...   \n1175050  {'x': -21.745500564575195, 'y': 3.280989170074...   \n1157389  {'x': -107.4800033569336, 'y': 5.9338560104370...   \n1132612  {'x': 58.28839111328125, 'y': 1.17256546020507...   \n\n         hitObjectColliderName  ordinalOfHit  hitPointOnObject_x  \\\n22448             Building_124           1.0            7.788592   \n1464916           Building_210           1.0         -294.946045   \n1175050       CollisionObject1           1.0          -24.517593   \n1157389           Building_163           1.0         -114.069450   \n1132612           Building_133           2.0           66.549194   \n\n         hitPointOnObject_y  hitPointOnObject_z  time_indicator  \\\n22448             -2.037132         -154.861877             1.0   \n1464916            4.959328          -75.312897             1.0   \n1175050            2.048740          -29.883991             1.0   \n1157389            3.098175           83.584488             1.0   \n1132612           -3.163616         -164.990067             1.0   \n\n         Eucledian_distance  Previous_value  Collider_stays  \n22448             10.511569       55.783667           False  \n1464916          111.907342      239.221413           False  \n1175050           71.465483      102.448532           False  \n1157389            9.410727       20.316714           False  \n1132612           36.166028       25.986278           False  \n\n[5 rows x 50 columns]",
      "text/html": "<div>\n<style scoped>\n    .dataframe tbody tr th:only-of-type {\n        vertical-align: middle;\n    }\n\n    .dataframe tbody tr th {\n        vertical-align: top;\n    }\n\n    .dataframe thead th {\n        text-align: right;\n    }\n</style>\n<table border=\"1\" class=\"dataframe\">\n  <thead>\n    <tr style=\"text-align: right;\">\n      <th></th>\n      <th>Unnamed: 0</th>\n      <th>index</th>\n      <th>SubjectID</th>\n      <th>Session</th>\n      <th>SessionSubsection</th>\n      <th>timeStampDataPointStart</th>\n      <th>timeStampDataPointEnd</th>\n      <th>timeStampGetVerboseData</th>\n      <th>combinedGazeValidityBitmask</th>\n      <th>rayCastHitsCombinedEyes</th>\n      <th>...</th>\n      <th>hitObjectColliderBoundsCenter</th>\n      <th>hitObjectColliderName</th>\n      <th>ordinalOfHit</th>\n      <th>hitPointOnObject_x</th>\n      <th>hitPointOnObject_y</th>\n      <th>hitPointOnObject_z</th>\n      <th>time_indicator</th>\n      <th>Eucledian_distance</th>\n      <th>Previous_value</th>\n      <th>Collider_stays</th>\n    </tr>\n  </thead>\n  <tbody>\n    <tr>\n      <th>22448</th>\n      <td>22646</td>\n      <td>155937</td>\n      <td>1754</td>\n      <td>1</td>\n      <td>1</td>\n      <td>1.646740e+09</td>\n      <td>1.646740e+09</td>\n      <td>1.646740e+09</td>\n      <td>3</td>\n      <td>[{'hitPointOnObject': {'x': 7.7885918617248535...</td>\n      <td>...</td>\n      <td>{'x': 9.010000228881836, 'y': -0.1894607543945...</td>\n      <td>Building_124</td>\n      <td>1.0</td>\n      <td>7.788592</td>\n      <td>-2.037132</td>\n      <td>-154.861877</td>\n      <td>1.0</td>\n      <td>10.511569</td>\n      <td>55.783667</td>\n      <td>False</td>\n    </tr>\n    <tr>\n      <th>1464916</th>\n      <td>1480847</td>\n      <td>1614138</td>\n      <td>1754</td>\n      <td>4</td>\n      <td>3</td>\n      <td>1.647258e+09</td>\n      <td>1.647258e+09</td>\n      <td>1.647258e+09</td>\n      <td>3</td>\n      <td>[{'hitPointOnObject': {'x': -294.946044921875,...</td>\n      <td>...</td>\n      <td>{'x': -304.0008239746094, 'y': 11.011278152465...</td>\n      <td>Building_210</td>\n      <td>1.0</td>\n      <td>-294.946045</td>\n      <td>4.959328</td>\n      <td>-75.312897</td>\n      <td>1.0</td>\n      <td>111.907342</td>\n      <td>239.221413</td>\n      <td>False</td>\n    </tr>\n    <tr>\n      <th>1175050</th>\n      <td>1189225</td>\n      <td>1322516</td>\n      <td>1754</td>\n      <td>4</td>\n      <td>1</td>\n      <td>1.647256e+09</td>\n      <td>1.647256e+09</td>\n      <td>1.647256e+09</td>\n      <td>3</td>\n      <td>[{'hitPointOnObject': {'x': -24.51759338378906...</td>\n      <td>...</td>\n      <td>{'x': -21.745500564575195, 'y': 3.280989170074...</td>\n      <td>CollisionObject1</td>\n      <td>1.0</td>\n      <td>-24.517593</td>\n      <td>2.048740</td>\n      <td>-29.883991</td>\n      <td>1.0</td>\n      <td>71.465483</td>\n      <td>102.448532</td>\n      <td>False</td>\n    </tr>\n    <tr>\n      <th>1157389</th>\n      <td>1171346</td>\n      <td>1304637</td>\n      <td>1754</td>\n      <td>3</td>\n      <td>3</td>\n      <td>1.647012e+09</td>\n      <td>1.647012e+09</td>\n      <td>1.647012e+09</td>\n      <td>3</td>\n      <td>[{'hitPointOnObject': {'x': -114.0694503784179...</td>\n      <td>...</td>\n      <td>{'x': -107.4800033569336, 'y': 5.9338560104370...</td>\n      <td>Building_163</td>\n      <td>1.0</td>\n      <td>-114.069450</td>\n      <td>3.098175</td>\n      <td>83.584488</td>\n      <td>1.0</td>\n      <td>9.410727</td>\n      <td>20.316714</td>\n      <td>False</td>\n    </tr>\n    <tr>\n      <th>1132612</th>\n      <td>1146301</td>\n      <td>1279592</td>\n      <td>1754</td>\n      <td>3</td>\n      <td>3</td>\n      <td>1.647012e+09</td>\n      <td>1.647012e+09</td>\n      <td>1.647012e+09</td>\n      <td>3</td>\n      <td>[{'hitPointOnObject': {'x': 73.96194458007812,...</td>\n      <td>...</td>\n      <td>{'x': 58.28839111328125, 'y': 1.17256546020507...</td>\n      <td>Building_133</td>\n      <td>2.0</td>\n      <td>66.549194</td>\n      <td>-3.163616</td>\n      <td>-164.990067</td>\n      <td>1.0</td>\n      <td>36.166028</td>\n      <td>25.986278</td>\n      <td>False</td>\n    </tr>\n  </tbody>\n</table>\n<p>5 rows × 50 columns</p>\n</div>"
     },
     "execution_count": 24,
     "metadata": {},
     "output_type": "execute_result"
    }
   ],
   "source": [
    "sample.head()"
   ],
   "metadata": {
    "collapsed": false,
    "pycharm": {
     "name": "#%%\n"
    }
   }
  },
  {
   "cell_type": "code",
   "execution_count": 32,
   "outputs": [],
   "source": [
    "# create the new column using a dictionary comprehension\n",
    "sample['Collider_Categorical'] = sample['hitObjectColliderName'].apply(lambda x: next((val for key, val in patterns.items() if re.match(key, x)), default_val))"
   ],
   "metadata": {
    "collapsed": false,
    "pycharm": {
     "name": "#%%\n"
    }
   }
  },
  {
   "cell_type": "code",
   "execution_count": 36,
   "outputs": [
    {
     "data": {
      "text/plain": "Collider_Categorical\nPassive_Agent                  6786\nActive_Agent                   9415\nTaskBuilding_Residential      51066\nGraffity                      74584\nTaskBuilding_Public          180464\nBuilding                     497496\nBackground                  1143907\nName: ordinalOfHit, dtype: int64"
     },
     "execution_count": 36,
     "metadata": {},
     "output_type": "execute_result"
    }
   ],
   "source": [
    "temp_one_part_l.groupby(\"Collider_Categorical\")[\"ordinalOfHit\"].count().sort_values()"
   ],
   "metadata": {
    "collapsed": false,
    "pycharm": {
     "name": "#%%\n"
    }
   }
  },
  {
   "cell_type": "code",
   "execution_count": 39,
   "outputs": [
    {
     "data": {
      "text/plain": "         Unnamed: 0   index  SubjectID  Session  SessionSubsection  \\\n1963618     1982386  133191       1754        5                  3   \n1963619     1982387  133192       1754        5                  3   \n1963620     1982388  133193       1754        5                  3   \n1963621     1982389  133194       1754        5                  3   \n1963622     1982390  133195       1754        5                  3   \n...             ...     ...        ...      ...                ...   \n1963713     1982481  133286       1754        5                  3   \n1963714     1982482  133287       1754        5                  3   \n1963715     1982483  133288       1754        5                  3   \n1963716     1982484  133289       1754        5                  3   \n1963717     1982485  133290       1754        5                  3   \n\n         timeStampDataPointStart  timeStampDataPointEnd  \\\n1963618             1.647345e+09           1.647345e+09   \n1963619             1.647345e+09           1.647345e+09   \n1963620             1.647345e+09           1.647345e+09   \n1963621             1.647345e+09           1.647345e+09   \n1963622             1.647345e+09           1.647345e+09   \n...                          ...                    ...   \n1963713             1.647345e+09           1.647345e+09   \n1963714             1.647345e+09           1.647345e+09   \n1963715             1.647345e+09           1.647345e+09   \n1963716             1.647345e+09           1.647345e+09   \n1963717             1.647345e+09           1.647345e+09   \n\n         timeStampGetVerboseData  combinedGazeValidityBitmask  \\\n1963618             1.647345e+09                            3   \n1963619             1.647345e+09                            3   \n1963620             1.647345e+09                            3   \n1963621             1.647345e+09                            3   \n1963622             1.647345e+09                            3   \n...                          ...                          ...   \n1963713             1.647345e+09                            3   \n1963714             1.647345e+09                            3   \n1963715             1.647345e+09                            3   \n1963716             1.647345e+09                            3   \n1963717             1.647345e+09                            3   \n\n                                   rayCastHitsCombinedEyes  ...  \\\n1963618  [{'hitPointOnObject': {'x': 99.7020492553711, ...  ...   \n1963619  [{'hitPointOnObject': {'x': 99.7020492553711, ...  ...   \n1963620  [{'hitPointOnObject': {'x': 99.7020492553711, ...  ...   \n1963621  [{'hitPointOnObject': {'x': 99.7020492553711, ...  ...   \n1963622  [{'hitPointOnObject': {'x': 99.6587905883789, ...  ...   \n...                                                    ...  ...   \n1963713  [{'hitPointOnObject': {'x': 54.16472244262695,...  ...   \n1963714  [{'hitPointOnObject': {'x': 39.85393524169922,...  ...   \n1963715  [{'hitPointOnObject': {'x': 39.85393524169922,...  ...   \n1963716  [{'hitPointOnObject': {'x': 39.85393524169922,...  ...   \n1963717  [{'hitPointOnObject': {'x': 39.85393524169922,...  ...   \n\n         hitObjectColliderName  ordinalOfHit  hitPointOnObject_x  \\\n1963618           Building_108           1.0           99.702049   \n1963619          terrain_I.001           2.0           89.438225   \n1963620           Building_108           1.0           99.702049   \n1963621          terrain_I.001           2.0           89.438225   \n1963622           Building_108           1.0           99.658791   \n...                        ...           ...                 ...   \n1963713        TaskBuilding_30           2.0           40.996479   \n1963714        TaskBuilding_30           1.0           39.853935   \n1963715            Building_99           2.0           36.397789   \n1963716        TaskBuilding_30           1.0           39.853935   \n1963717            Building_99           2.0           36.397789   \n\n         hitPointOnObject_y  hitPointOnObject_z  time_indicator  \\\n1963618            0.114462           11.029458             1.0   \n1963619           -1.233989            5.832491             1.0   \n1963620            0.114462           11.029458             1.0   \n1963621           -1.233989            5.832491             1.0   \n1963622            0.111696           11.082476             1.0   \n...                     ...                 ...             ...   \n1963713            4.011209           59.922562             1.0   \n1963714            3.679493           60.072559             1.0   \n1963715            3.831103           62.565891             1.0   \n1963716            3.679493           60.072559             1.0   \n1963717            3.831103           62.565891             1.0   \n\n         Eucledian_distance  Previous_value  Collider_stays  \\\n1963618            5.114291       16.796816           False   \n1963619           16.521456        5.114291           False   \n1963620            5.114291       16.521456           False   \n1963621           16.521456        5.114291           False   \n1963622            5.112534       16.521456           False   \n...                     ...             ...             ...   \n1963713           76.989031       60.656410           False   \n1963714           77.917021       76.989031           False   \n1963715           82.180532       77.917021           False   \n1963716           77.917021       82.180532           False   \n1963717           82.180532       77.917021           False   \n\n         Collider_Categorical  \n1963618              Building  \n1963619            Background  \n1963620              Building  \n1963621            Background  \n1963622              Building  \n...                       ...  \n1963713   TaskBuilding_Public  \n1963714   TaskBuilding_Public  \n1963715              Building  \n1963716   TaskBuilding_Public  \n1963717              Building  \n\n[100 rows x 51 columns]",
      "text/html": "<div>\n<style scoped>\n    .dataframe tbody tr th:only-of-type {\n        vertical-align: middle;\n    }\n\n    .dataframe tbody tr th {\n        vertical-align: top;\n    }\n\n    .dataframe thead th {\n        text-align: right;\n    }\n</style>\n<table border=\"1\" class=\"dataframe\">\n  <thead>\n    <tr style=\"text-align: right;\">\n      <th></th>\n      <th>Unnamed: 0</th>\n      <th>index</th>\n      <th>SubjectID</th>\n      <th>Session</th>\n      <th>SessionSubsection</th>\n      <th>timeStampDataPointStart</th>\n      <th>timeStampDataPointEnd</th>\n      <th>timeStampGetVerboseData</th>\n      <th>combinedGazeValidityBitmask</th>\n      <th>rayCastHitsCombinedEyes</th>\n      <th>...</th>\n      <th>hitObjectColliderName</th>\n      <th>ordinalOfHit</th>\n      <th>hitPointOnObject_x</th>\n      <th>hitPointOnObject_y</th>\n      <th>hitPointOnObject_z</th>\n      <th>time_indicator</th>\n      <th>Eucledian_distance</th>\n      <th>Previous_value</th>\n      <th>Collider_stays</th>\n      <th>Collider_Categorical</th>\n    </tr>\n  </thead>\n  <tbody>\n    <tr>\n      <th>1963618</th>\n      <td>1982386</td>\n      <td>133191</td>\n      <td>1754</td>\n      <td>5</td>\n      <td>3</td>\n      <td>1.647345e+09</td>\n      <td>1.647345e+09</td>\n      <td>1.647345e+09</td>\n      <td>3</td>\n      <td>[{'hitPointOnObject': {'x': 99.7020492553711, ...</td>\n      <td>...</td>\n      <td>Building_108</td>\n      <td>1.0</td>\n      <td>99.702049</td>\n      <td>0.114462</td>\n      <td>11.029458</td>\n      <td>1.0</td>\n      <td>5.114291</td>\n      <td>16.796816</td>\n      <td>False</td>\n      <td>Building</td>\n    </tr>\n    <tr>\n      <th>1963619</th>\n      <td>1982387</td>\n      <td>133192</td>\n      <td>1754</td>\n      <td>5</td>\n      <td>3</td>\n      <td>1.647345e+09</td>\n      <td>1.647345e+09</td>\n      <td>1.647345e+09</td>\n      <td>3</td>\n      <td>[{'hitPointOnObject': {'x': 99.7020492553711, ...</td>\n      <td>...</td>\n      <td>terrain_I.001</td>\n      <td>2.0</td>\n      <td>89.438225</td>\n      <td>-1.233989</td>\n      <td>5.832491</td>\n      <td>1.0</td>\n      <td>16.521456</td>\n      <td>5.114291</td>\n      <td>False</td>\n      <td>Background</td>\n    </tr>\n    <tr>\n      <th>1963620</th>\n      <td>1982388</td>\n      <td>133193</td>\n      <td>1754</td>\n      <td>5</td>\n      <td>3</td>\n      <td>1.647345e+09</td>\n      <td>1.647345e+09</td>\n      <td>1.647345e+09</td>\n      <td>3</td>\n      <td>[{'hitPointOnObject': {'x': 99.7020492553711, ...</td>\n      <td>...</td>\n      <td>Building_108</td>\n      <td>1.0</td>\n      <td>99.702049</td>\n      <td>0.114462</td>\n      <td>11.029458</td>\n      <td>1.0</td>\n      <td>5.114291</td>\n      <td>16.521456</td>\n      <td>False</td>\n      <td>Building</td>\n    </tr>\n    <tr>\n      <th>1963621</th>\n      <td>1982389</td>\n      <td>133194</td>\n      <td>1754</td>\n      <td>5</td>\n      <td>3</td>\n      <td>1.647345e+09</td>\n      <td>1.647345e+09</td>\n      <td>1.647345e+09</td>\n      <td>3</td>\n      <td>[{'hitPointOnObject': {'x': 99.7020492553711, ...</td>\n      <td>...</td>\n      <td>terrain_I.001</td>\n      <td>2.0</td>\n      <td>89.438225</td>\n      <td>-1.233989</td>\n      <td>5.832491</td>\n      <td>1.0</td>\n      <td>16.521456</td>\n      <td>5.114291</td>\n      <td>False</td>\n      <td>Background</td>\n    </tr>\n    <tr>\n      <th>1963622</th>\n      <td>1982390</td>\n      <td>133195</td>\n      <td>1754</td>\n      <td>5</td>\n      <td>3</td>\n      <td>1.647345e+09</td>\n      <td>1.647345e+09</td>\n      <td>1.647345e+09</td>\n      <td>3</td>\n      <td>[{'hitPointOnObject': {'x': 99.6587905883789, ...</td>\n      <td>...</td>\n      <td>Building_108</td>\n      <td>1.0</td>\n      <td>99.658791</td>\n      <td>0.111696</td>\n      <td>11.082476</td>\n      <td>1.0</td>\n      <td>5.112534</td>\n      <td>16.521456</td>\n      <td>False</td>\n      <td>Building</td>\n    </tr>\n    <tr>\n      <th>...</th>\n      <td>...</td>\n      <td>...</td>\n      <td>...</td>\n      <td>...</td>\n      <td>...</td>\n      <td>...</td>\n      <td>...</td>\n      <td>...</td>\n      <td>...</td>\n      <td>...</td>\n      <td>...</td>\n      <td>...</td>\n      <td>...</td>\n      <td>...</td>\n      <td>...</td>\n      <td>...</td>\n      <td>...</td>\n      <td>...</td>\n      <td>...</td>\n      <td>...</td>\n      <td>...</td>\n    </tr>\n    <tr>\n      <th>1963713</th>\n      <td>1982481</td>\n      <td>133286</td>\n      <td>1754</td>\n      <td>5</td>\n      <td>3</td>\n      <td>1.647345e+09</td>\n      <td>1.647345e+09</td>\n      <td>1.647345e+09</td>\n      <td>3</td>\n      <td>[{'hitPointOnObject': {'x': 54.16472244262695,...</td>\n      <td>...</td>\n      <td>TaskBuilding_30</td>\n      <td>2.0</td>\n      <td>40.996479</td>\n      <td>4.011209</td>\n      <td>59.922562</td>\n      <td>1.0</td>\n      <td>76.989031</td>\n      <td>60.656410</td>\n      <td>False</td>\n      <td>TaskBuilding_Public</td>\n    </tr>\n    <tr>\n      <th>1963714</th>\n      <td>1982482</td>\n      <td>133287</td>\n      <td>1754</td>\n      <td>5</td>\n      <td>3</td>\n      <td>1.647345e+09</td>\n      <td>1.647345e+09</td>\n      <td>1.647345e+09</td>\n      <td>3</td>\n      <td>[{'hitPointOnObject': {'x': 39.85393524169922,...</td>\n      <td>...</td>\n      <td>TaskBuilding_30</td>\n      <td>1.0</td>\n      <td>39.853935</td>\n      <td>3.679493</td>\n      <td>60.072559</td>\n      <td>1.0</td>\n      <td>77.917021</td>\n      <td>76.989031</td>\n      <td>False</td>\n      <td>TaskBuilding_Public</td>\n    </tr>\n    <tr>\n      <th>1963715</th>\n      <td>1982483</td>\n      <td>133288</td>\n      <td>1754</td>\n      <td>5</td>\n      <td>3</td>\n      <td>1.647345e+09</td>\n      <td>1.647345e+09</td>\n      <td>1.647345e+09</td>\n      <td>3</td>\n      <td>[{'hitPointOnObject': {'x': 39.85393524169922,...</td>\n      <td>...</td>\n      <td>Building_99</td>\n      <td>2.0</td>\n      <td>36.397789</td>\n      <td>3.831103</td>\n      <td>62.565891</td>\n      <td>1.0</td>\n      <td>82.180532</td>\n      <td>77.917021</td>\n      <td>False</td>\n      <td>Building</td>\n    </tr>\n    <tr>\n      <th>1963716</th>\n      <td>1982484</td>\n      <td>133289</td>\n      <td>1754</td>\n      <td>5</td>\n      <td>3</td>\n      <td>1.647345e+09</td>\n      <td>1.647345e+09</td>\n      <td>1.647345e+09</td>\n      <td>3</td>\n      <td>[{'hitPointOnObject': {'x': 39.85393524169922,...</td>\n      <td>...</td>\n      <td>TaskBuilding_30</td>\n      <td>1.0</td>\n      <td>39.853935</td>\n      <td>3.679493</td>\n      <td>60.072559</td>\n      <td>1.0</td>\n      <td>77.917021</td>\n      <td>82.180532</td>\n      <td>False</td>\n      <td>TaskBuilding_Public</td>\n    </tr>\n    <tr>\n      <th>1963717</th>\n      <td>1982485</td>\n      <td>133290</td>\n      <td>1754</td>\n      <td>5</td>\n      <td>3</td>\n      <td>1.647345e+09</td>\n      <td>1.647345e+09</td>\n      <td>1.647345e+09</td>\n      <td>3</td>\n      <td>[{'hitPointOnObject': {'x': 39.85393524169922,...</td>\n      <td>...</td>\n      <td>Building_99</td>\n      <td>2.0</td>\n      <td>36.397789</td>\n      <td>3.831103</td>\n      <td>62.565891</td>\n      <td>1.0</td>\n      <td>82.180532</td>\n      <td>77.917021</td>\n      <td>False</td>\n      <td>Building</td>\n    </tr>\n  </tbody>\n</table>\n<p>100 rows × 51 columns</p>\n</div>"
     },
     "execution_count": 39,
     "metadata": {},
     "output_type": "execute_result"
    }
   ],
   "source": [
    "temp_one_part_l.tail(100)"
   ],
   "metadata": {
    "collapsed": false,
    "pycharm": {
     "name": "#%%\n"
    }
   }
  },
  {
   "cell_type": "code",
   "execution_count": 33,
   "outputs": [
    {
     "data": {
      "text/plain": "         Unnamed: 0    index  SubjectID  Session  SessionSubsection  \\\n22448         22646   155937       1754        1                  1   \n1464916     1480847  1614138       1754        4                  3   \n1175050     1189225  1322516       1754        4                  1   \n1157389     1171346  1304637       1754        3                  3   \n1132612     1146301  1279592       1754        3                  3   \n...             ...      ...        ...      ...                ...   \n86710         87957   221248       1754        1                  1   \n639537       646928   780219       1754        2                  2   \n903957       915626  1048917       1754        3                  1   \n753570       762697   895988       1754        2                  3   \n1666404     1683975  1817266       1754        5                  1   \n\n         timeStampDataPointStart  timeStampDataPointEnd  \\\n22448               1.646740e+09           1.646740e+09   \n1464916             1.647258e+09           1.647258e+09   \n1175050             1.647256e+09           1.647256e+09   \n1157389             1.647012e+09           1.647012e+09   \n1132612             1.647012e+09           1.647012e+09   \n...                          ...                    ...   \n86710               1.646741e+09           1.646741e+09   \n639537              1.646920e+09           1.646920e+09   \n903957              1.647010e+09           1.647010e+09   \n753570              1.646921e+09           1.646921e+09   \n1666404             1.647343e+09           1.647343e+09   \n\n         timeStampGetVerboseData  combinedGazeValidityBitmask  \\\n22448               1.646740e+09                            3   \n1464916             1.647258e+09                            3   \n1175050             1.647256e+09                            3   \n1157389             1.647012e+09                            3   \n1132612             1.647012e+09                            3   \n...                          ...                          ...   \n86710               1.646741e+09                            3   \n639537              1.646920e+09                            3   \n903957              1.647010e+09                            0   \n753570              1.646921e+09                            3   \n1666404             1.647343e+09                            3   \n\n                                   rayCastHitsCombinedEyes  ...  \\\n22448    [{'hitPointOnObject': {'x': 7.7885918617248535...  ...   \n1464916  [{'hitPointOnObject': {'x': -294.946044921875,...  ...   \n1175050  [{'hitPointOnObject': {'x': -24.51759338378906...  ...   \n1157389  [{'hitPointOnObject': {'x': -114.0694503784179...  ...   \n1132612  [{'hitPointOnObject': {'x': 73.96194458007812,...  ...   \n...                                                    ...  ...   \n86710    [{'hitPointOnObject': {'x': 203.59976196289062...  ...   \n639537   [{'hitPointOnObject': {'x': -339.9358520507812...  ...   \n903957   [{'hitPointOnObject': {'x': 168.2522430419922,...  ...   \n753570   [{'hitPointOnObject': {'x': 244.18141174316406...  ...   \n1666404  [{'hitPointOnObject': {'x': -148.2190551757812...  ...   \n\n         hitObjectColliderName  ordinalOfHit  hitPointOnObject_x  \\\n22448             Building_124           1.0            7.788592   \n1464916           Building_210           1.0         -294.946045   \n1175050       CollisionObject1           1.0          -24.517593   \n1157389           Building_163           1.0         -114.069450   \n1132612           Building_133           2.0           66.549194   \n...                        ...           ...                 ...   \n86710         terrain_U_LP.001           2.0          184.968185   \n639537        CollisionObject1           2.0         -306.875488   \n903957   road_base_network.004           1.0          168.252243   \n753570           terrain_H.001           2.0          227.358109   \n1666404        TaskBuilding_41           1.0         -148.219055   \n\n         hitPointOnObject_y  hitPointOnObject_z  time_indicator  \\\n22448             -2.037132         -154.861877             1.0   \n1464916            4.959328          -75.312897             1.0   \n1175050            2.048740          -29.883991             1.0   \n1157389            3.098175           83.584488             1.0   \n1132612           -3.163616         -164.990067             1.0   \n...                     ...                 ...             ...   \n86710             -1.665959          154.784393             1.0   \n639537             8.193738          119.999870             1.0   \n903957            -6.553910         -242.814865             1.0   \n753570            -1.423856           50.581993             1.0   \n1666404            4.290827           63.416588             1.0   \n\n         Eucledian_distance  Previous_value  Collider_stays  \\\n22448             10.511569       55.783667           False   \n1464916          111.907342      239.221413           False   \n1175050           71.465483      102.448532           False   \n1157389            9.410727       20.316714           False   \n1132612           36.166028       25.986278           False   \n...                     ...             ...             ...   \n86710             23.065174        4.177603           False   \n639537            44.938327       11.430179           False   \n903957             2.679853        2.716267           False   \n753570            31.681535       14.371960           False   \n1666404           85.852735       94.630740           False   \n\n         Collider_Categorical  \n22448                Building  \n1464916              Building  \n1175050            Background  \n1157389              Building  \n1132612              Building  \n...                       ...  \n86710              Background  \n639537             Background  \n903957             Background  \n753570             Background  \n1666404   TaskBuilding_Public  \n\n[300 rows x 51 columns]",
      "text/html": "<div>\n<style scoped>\n    .dataframe tbody tr th:only-of-type {\n        vertical-align: middle;\n    }\n\n    .dataframe tbody tr th {\n        vertical-align: top;\n    }\n\n    .dataframe thead th {\n        text-align: right;\n    }\n</style>\n<table border=\"1\" class=\"dataframe\">\n  <thead>\n    <tr style=\"text-align: right;\">\n      <th></th>\n      <th>Unnamed: 0</th>\n      <th>index</th>\n      <th>SubjectID</th>\n      <th>Session</th>\n      <th>SessionSubsection</th>\n      <th>timeStampDataPointStart</th>\n      <th>timeStampDataPointEnd</th>\n      <th>timeStampGetVerboseData</th>\n      <th>combinedGazeValidityBitmask</th>\n      <th>rayCastHitsCombinedEyes</th>\n      <th>...</th>\n      <th>hitObjectColliderName</th>\n      <th>ordinalOfHit</th>\n      <th>hitPointOnObject_x</th>\n      <th>hitPointOnObject_y</th>\n      <th>hitPointOnObject_z</th>\n      <th>time_indicator</th>\n      <th>Eucledian_distance</th>\n      <th>Previous_value</th>\n      <th>Collider_stays</th>\n      <th>Collider_Categorical</th>\n    </tr>\n  </thead>\n  <tbody>\n    <tr>\n      <th>22448</th>\n      <td>22646</td>\n      <td>155937</td>\n      <td>1754</td>\n      <td>1</td>\n      <td>1</td>\n      <td>1.646740e+09</td>\n      <td>1.646740e+09</td>\n      <td>1.646740e+09</td>\n      <td>3</td>\n      <td>[{'hitPointOnObject': {'x': 7.7885918617248535...</td>\n      <td>...</td>\n      <td>Building_124</td>\n      <td>1.0</td>\n      <td>7.788592</td>\n      <td>-2.037132</td>\n      <td>-154.861877</td>\n      <td>1.0</td>\n      <td>10.511569</td>\n      <td>55.783667</td>\n      <td>False</td>\n      <td>Building</td>\n    </tr>\n    <tr>\n      <th>1464916</th>\n      <td>1480847</td>\n      <td>1614138</td>\n      <td>1754</td>\n      <td>4</td>\n      <td>3</td>\n      <td>1.647258e+09</td>\n      <td>1.647258e+09</td>\n      <td>1.647258e+09</td>\n      <td>3</td>\n      <td>[{'hitPointOnObject': {'x': -294.946044921875,...</td>\n      <td>...</td>\n      <td>Building_210</td>\n      <td>1.0</td>\n      <td>-294.946045</td>\n      <td>4.959328</td>\n      <td>-75.312897</td>\n      <td>1.0</td>\n      <td>111.907342</td>\n      <td>239.221413</td>\n      <td>False</td>\n      <td>Building</td>\n    </tr>\n    <tr>\n      <th>1175050</th>\n      <td>1189225</td>\n      <td>1322516</td>\n      <td>1754</td>\n      <td>4</td>\n      <td>1</td>\n      <td>1.647256e+09</td>\n      <td>1.647256e+09</td>\n      <td>1.647256e+09</td>\n      <td>3</td>\n      <td>[{'hitPointOnObject': {'x': -24.51759338378906...</td>\n      <td>...</td>\n      <td>CollisionObject1</td>\n      <td>1.0</td>\n      <td>-24.517593</td>\n      <td>2.048740</td>\n      <td>-29.883991</td>\n      <td>1.0</td>\n      <td>71.465483</td>\n      <td>102.448532</td>\n      <td>False</td>\n      <td>Background</td>\n    </tr>\n    <tr>\n      <th>1157389</th>\n      <td>1171346</td>\n      <td>1304637</td>\n      <td>1754</td>\n      <td>3</td>\n      <td>3</td>\n      <td>1.647012e+09</td>\n      <td>1.647012e+09</td>\n      <td>1.647012e+09</td>\n      <td>3</td>\n      <td>[{'hitPointOnObject': {'x': -114.0694503784179...</td>\n      <td>...</td>\n      <td>Building_163</td>\n      <td>1.0</td>\n      <td>-114.069450</td>\n      <td>3.098175</td>\n      <td>83.584488</td>\n      <td>1.0</td>\n      <td>9.410727</td>\n      <td>20.316714</td>\n      <td>False</td>\n      <td>Building</td>\n    </tr>\n    <tr>\n      <th>1132612</th>\n      <td>1146301</td>\n      <td>1279592</td>\n      <td>1754</td>\n      <td>3</td>\n      <td>3</td>\n      <td>1.647012e+09</td>\n      <td>1.647012e+09</td>\n      <td>1.647012e+09</td>\n      <td>3</td>\n      <td>[{'hitPointOnObject': {'x': 73.96194458007812,...</td>\n      <td>...</td>\n      <td>Building_133</td>\n      <td>2.0</td>\n      <td>66.549194</td>\n      <td>-3.163616</td>\n      <td>-164.990067</td>\n      <td>1.0</td>\n      <td>36.166028</td>\n      <td>25.986278</td>\n      <td>False</td>\n      <td>Building</td>\n    </tr>\n    <tr>\n      <th>...</th>\n      <td>...</td>\n      <td>...</td>\n      <td>...</td>\n      <td>...</td>\n      <td>...</td>\n      <td>...</td>\n      <td>...</td>\n      <td>...</td>\n      <td>...</td>\n      <td>...</td>\n      <td>...</td>\n      <td>...</td>\n      <td>...</td>\n      <td>...</td>\n      <td>...</td>\n      <td>...</td>\n      <td>...</td>\n      <td>...</td>\n      <td>...</td>\n      <td>...</td>\n      <td>...</td>\n    </tr>\n    <tr>\n      <th>86710</th>\n      <td>87957</td>\n      <td>221248</td>\n      <td>1754</td>\n      <td>1</td>\n      <td>1</td>\n      <td>1.646741e+09</td>\n      <td>1.646741e+09</td>\n      <td>1.646741e+09</td>\n      <td>3</td>\n      <td>[{'hitPointOnObject': {'x': 203.59976196289062...</td>\n      <td>...</td>\n      <td>terrain_U_LP.001</td>\n      <td>2.0</td>\n      <td>184.968185</td>\n      <td>-1.665959</td>\n      <td>154.784393</td>\n      <td>1.0</td>\n      <td>23.065174</td>\n      <td>4.177603</td>\n      <td>False</td>\n      <td>Background</td>\n    </tr>\n    <tr>\n      <th>639537</th>\n      <td>646928</td>\n      <td>780219</td>\n      <td>1754</td>\n      <td>2</td>\n      <td>2</td>\n      <td>1.646920e+09</td>\n      <td>1.646920e+09</td>\n      <td>1.646920e+09</td>\n      <td>3</td>\n      <td>[{'hitPointOnObject': {'x': -339.9358520507812...</td>\n      <td>...</td>\n      <td>CollisionObject1</td>\n      <td>2.0</td>\n      <td>-306.875488</td>\n      <td>8.193738</td>\n      <td>119.999870</td>\n      <td>1.0</td>\n      <td>44.938327</td>\n      <td>11.430179</td>\n      <td>False</td>\n      <td>Background</td>\n    </tr>\n    <tr>\n      <th>903957</th>\n      <td>915626</td>\n      <td>1048917</td>\n      <td>1754</td>\n      <td>3</td>\n      <td>1</td>\n      <td>1.647010e+09</td>\n      <td>1.647010e+09</td>\n      <td>1.647010e+09</td>\n      <td>0</td>\n      <td>[{'hitPointOnObject': {'x': 168.2522430419922,...</td>\n      <td>...</td>\n      <td>road_base_network.004</td>\n      <td>1.0</td>\n      <td>168.252243</td>\n      <td>-6.553910</td>\n      <td>-242.814865</td>\n      <td>1.0</td>\n      <td>2.679853</td>\n      <td>2.716267</td>\n      <td>False</td>\n      <td>Background</td>\n    </tr>\n    <tr>\n      <th>753570</th>\n      <td>762697</td>\n      <td>895988</td>\n      <td>1754</td>\n      <td>2</td>\n      <td>3</td>\n      <td>1.646921e+09</td>\n      <td>1.646921e+09</td>\n      <td>1.646921e+09</td>\n      <td>3</td>\n      <td>[{'hitPointOnObject': {'x': 244.18141174316406...</td>\n      <td>...</td>\n      <td>terrain_H.001</td>\n      <td>2.0</td>\n      <td>227.358109</td>\n      <td>-1.423856</td>\n      <td>50.581993</td>\n      <td>1.0</td>\n      <td>31.681535</td>\n      <td>14.371960</td>\n      <td>False</td>\n      <td>Background</td>\n    </tr>\n    <tr>\n      <th>1666404</th>\n      <td>1683975</td>\n      <td>1817266</td>\n      <td>1754</td>\n      <td>5</td>\n      <td>1</td>\n      <td>1.647343e+09</td>\n      <td>1.647343e+09</td>\n      <td>1.647343e+09</td>\n      <td>3</td>\n      <td>[{'hitPointOnObject': {'x': -148.2190551757812...</td>\n      <td>...</td>\n      <td>TaskBuilding_41</td>\n      <td>1.0</td>\n      <td>-148.219055</td>\n      <td>4.290827</td>\n      <td>63.416588</td>\n      <td>1.0</td>\n      <td>85.852735</td>\n      <td>94.630740</td>\n      <td>False</td>\n      <td>TaskBuilding_Public</td>\n    </tr>\n  </tbody>\n</table>\n<p>300 rows × 51 columns</p>\n</div>"
     },
     "execution_count": 33,
     "metadata": {},
     "output_type": "execute_result"
    }
   ],
   "source": [
    "sample.head(300)"
   ],
   "metadata": {
    "collapsed": false,
    "pycharm": {
     "name": "#%%\n"
    }
   }
  },
  {
   "cell_type": "code",
   "execution_count": 34,
   "outputs": [
    {
     "data": {
      "text/plain": "Collider_Categorical\nPassive_Agent                 17\nActive_Agent                  24\nTaskBuilding_Residential     122\nGraffity                     193\nTaskBuilding_Public          450\nBuilding                    1282\nBackground                  2912\nName: ordinalOfHit, dtype: int64"
     },
     "execution_count": 34,
     "metadata": {},
     "output_type": "execute_result"
    }
   ],
   "source": [
    "sample.groupby(\"Collider_Categorical\")[\"ordinalOfHit\"].count().sort_values()"
   ],
   "metadata": {
    "collapsed": false,
    "pycharm": {
     "name": "#%%\n"
    }
   }
  },
  {
   "cell_type": "code",
   "execution_count": 20,
   "outputs": [
    {
     "data": {
      "text/plain": "{'\\\\d{2}_Sa': 'Passive_Agent',\n '\\\\d{2}_Cma': 'Active_Agent',\n 'TaskBuilding_2': 'TaskBuilding_Public',\n 'TaskBuilding_3': 'TaskBuilding_Public',\n 'TaskBuilding_5': 'TaskBuilding_Public',\n 'TaskBuilding_8': 'TaskBuilding_Public',\n 'TaskBuilding_9': 'TaskBuilding_Public',\n 'TaskBuilding_11': 'TaskBuilding_Public',\n 'TaskBuilding_13': 'TaskBuilding_Public',\n 'TaskBuilding_14': 'TaskBuilding_Public',\n 'TaskBuilding_20': 'TaskBuilding_Public',\n 'TaskBuilding_21': 'TaskBuilding_Public',\n 'TaskBuilding_23': 'TaskBuilding_Public',\n 'TaskBuilding_27': 'TaskBuilding_Public',\n 'TaskBuilding_29': 'TaskBuilding_Public',\n 'TaskBuilding_32': 'TaskBuilding_Public',\n 'TaskBuilding_34': 'TaskBuilding_Public',\n 'TaskBuilding_38': 'TaskBuilding_Public',\n 'TaskBuilding_41': 'TaskBuilding_Public',\n 'TaskBuilding_42': 'TaskBuilding_Public',\n 'TaskBuilding_44': 'TaskBuilding_Public',\n 'TaskBuilding_45': 'TaskBuilding_Public',\n 'TaskBuilding_47': 'TaskBuilding_Public',\n 'TaskBuilding_50': 'TaskBuilding_Public',\n 'TaskBuilding_51': 'TaskBuilding_Public',\n 'TaskBuilding_52': 'TaskBuilding_Public',\n 'TaskBuilding_1': 'TaskBuilding_Residential',\n 'TaskBuilding_4': 'TaskBuilding_Residential',\n 'TaskBuilding_6': 'TaskBuilding_Residential',\n 'TaskBuilding_7': 'TaskBuilding_Residential',\n 'TaskBuilding_12': 'TaskBuilding_Residential',\n 'TaskBuilding_15': 'TaskBuilding_Residential',\n 'TaskBuilding_17': 'TaskBuilding_Residential',\n 'TaskBuilding_18': 'TaskBuilding_Residential',\n 'TaskBuilding_19': 'TaskBuilding_Residential',\n 'TaskBuilding_22': 'TaskBuilding_Residential',\n 'TaskBuilding_24': 'TaskBuilding_Residential',\n 'TaskBuilding_25': 'TaskBuilding_Residential',\n 'TaskBuilding_26': 'TaskBuilding_Residential',\n 'TaskBuilding_28': 'TaskBuilding_Residential',\n 'TaskBuilding_30': 'TaskBuilding_Residential',\n 'TaskBuilding_31': 'TaskBuilding_Residential',\n 'TaskBuilding_33': 'TaskBuilding_Residential',\n 'TaskBuilding_35': 'TaskBuilding_Residential',\n 'TaskBuilding_36': 'TaskBuilding_Residential',\n 'TaskBuilding_37': 'TaskBuilding_Residential',\n 'TaskBuilding_39': 'TaskBuilding_Residential',\n 'TaskBuilding_40': 'TaskBuilding_Residential',\n 'TaskBuilding_43': 'TaskBuilding_Residential',\n 'TaskBuilding_48': 'TaskBuilding_Residential',\n 'TaskBuilding_54': 'TaskBuilding_Residential'}"
     },
     "execution_count": 20,
     "metadata": {},
     "output_type": "execute_result"
    }
   ],
   "source": [
    "patterns"
   ],
   "metadata": {
    "collapsed": false,
    "pycharm": {
     "name": "#%%\n"
    }
   }
  },
  {
   "cell_type": "code",
   "execution_count": 14,
   "id": "b10bd845-3b01-4d78-828b-40fdb0047d09",
   "metadata": {},
   "outputs": [],
   "source": [
    "the_rejected = temp_one_part_l[(temp_one_part_l.Collider_stays == False) & (temp_one_part_l[\"ordinalOfHit\"] == 2)]"
   ]
  },
  {
   "cell_type": "code",
   "execution_count": 16,
   "id": "5c20fc2b-cc4e-4be7-ab04-91a8603d5e0a",
   "metadata": {},
   "outputs": [
    {
     "data": {
      "text/plain": "hitObjectColliderName\n01_Cma                          4\n02_Cma                         39\n03_Cma                          1\n04_Cma                         33\n05_Cma                        197\n                             ... \nterrain_V.001                6360\nterrain_W.001                3700\nterrain_X.001                5288\nterrain_Y.001                1834\ntraffic_light_single_tall       2\nName: ordinalOfHit, Length: 1085, dtype: int64"
     },
     "execution_count": 16,
     "metadata": {},
     "output_type": "execute_result"
    }
   ],
   "source": [
    "the_rejected.groupby(\"hitObjectColliderName\")[\"ordinalOfHit\"].count()"
   ]
  },
  {
   "cell_type": "code",
   "execution_count": null,
   "id": "3c0deaa6-98d5-4ebd-84d9-6298241f8704",
   "metadata": {},
   "outputs": [],
   "source": [
    "temp_one_part_l['newcol1'] = [temp_one_part_l['Eucledian_distance'].diff() if temp_one_part_l[\"ordinalOfHit\"] == 2]\n"
   ]
  },
  {
   "cell_type": "code",
   "execution_count": null,
   "id": "9c4e8458-67f8-4fd0-ae99-27f0eaee4f7e",
   "metadata": {},
   "outputs": [],
   "source": [
    "temp_one_part_l.head(50)"
   ]
  },
  {
   "cell_type": "code",
   "execution_count": null,
   "id": "eb57afe4-f657-4c21-9e3d-b4fcd0b50400",
   "metadata": {},
   "outputs": [],
   "source": []
  }
 ],
 "metadata": {
  "kernelspec": {
   "display_name": "Python 3",
   "language": "python",
   "name": "python3"
  },
  "language_info": {
   "codemirror_mode": {
    "name": "ipython",
    "version": 3
   },
   "file_extension": ".py",
   "mimetype": "text/x-python",
   "name": "python",
   "nbconvert_exporter": "python",
   "pygments_lexer": "ipython3",
   "version": "3.8.8"
  }
 },
 "nbformat": 4,
 "nbformat_minor": 5
}