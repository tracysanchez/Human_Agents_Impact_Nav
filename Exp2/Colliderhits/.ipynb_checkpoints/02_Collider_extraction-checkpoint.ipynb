{
 "cells": [
  {
   "cell_type": "code",
   "execution_count": 1,
   "id": "b6d06a85-751a-4e42-a434-a5c025194b02",
   "metadata": {},
   "outputs": [],
   "source": [
    "import re\n",
    "import numpy as np\n",
    "import pandas as pd\n",
    "import glob"
   ]
  },
  {
   "cell_type": "code",
   "execution_count": 58,
   "id": "8d1fc42a",
   "metadata": {
    "collapsed": false,
    "jupyter": {
     "outputs_hidden": false
    },
    "pycharm": {
     "name": "#%%\n"
    }
   },
   "outputs": [
    {
     "name": "stdout",
     "output_type": "stream",
     "text": [
      "/Volumes/SSD/00_Data_Processing/Pre_processed/02_Individuals_Colliders/8469.csv\n",
      "/Volumes/SSD/00_Data_Processing/Pre_processed/02_Individuals_Colliders/8673.csv\n",
      "/Volumes/SSD/00_Data_Processing/Pre_processed/02_Individuals_Colliders/8695.csv\n",
      "/Volumes/SSD/00_Data_Processing/Pre_processed/02_Individuals_Colliders/9472.csv\n",
      "/Volumes/SSD/00_Data_Processing/Pre_processed/02_Individuals_Colliders/9502.csv\n",
      "/Volumes/SSD/00_Data_Processing/Pre_processed/02_Individuals_Colliders/9601.csv\n"
     ]
    }
   ],
   "source": [
    "path = \"/Volumes/SSD/00_Data_Processing/Pre_processed/02_Individuals_Colliders/\" \n",
    "\n",
    "  \n",
    "# csv files in the path\n",
    "files = glob.glob(path + \"/*.csv\")\n",
    "  \n",
    "# defining an empty list to store \n",
    "# content\n",
    "data_frame = pd.DataFrame()\n",
    "content = []\n",
    "  \n",
    "# checking all the csv files in the \n",
    "# specified path\n",
    "for filename in files:\n",
    "    \n",
    "    # reading content of csv file\n",
    "    # content.append(filename)\n",
    "    df = pd.read_csv(filename)\n",
    "    content.append(df)\n",
    "    print(filename)\n",
    "  \n",
    "# converting content to data frame\n",
    "data_frame = pd.concat(content)\n"
   ]
  },
  {
   "cell_type": "code",
   "execution_count": 59,
   "id": "8651389f-2037-4fee-ba0f-15ca95a0da34",
   "metadata": {},
   "outputs": [
    {
     "data": {
      "text/plain": [
       "Index(['Unnamed: 0', 'index', 'SubjectID', 'Session', 'SessionSubsection',\n",
       "       'timeStampDataPointStart', 'timeStampDataPointEnd',\n",
       "       'timeStampGetVerboseData', 'combinedGazeValidityBitmask',\n",
       "       'rayCastHitsCombinedEyes', 'eyePositionCombinedWorld.x',\n",
       "       'eyePositionCombinedWorld.y', 'eyePositionCombinedWorld.z',\n",
       "       'eyeDirectionCombinedWorld.y', 'eyeDirectionCombinedWorld.z',\n",
       "       'eyeDirectionCombinedLocal.x', 'eyeDirectionCombinedLocal.y',\n",
       "       'eyeDirectionCombinedLocal.z', 'hmdPosition.x', 'hmdPosition.y',\n",
       "       'hmdPosition.z', 'hmdDirectionForward.x', 'hmdDirectionForward.y',\n",
       "       'hmdDirectionForward.z', 'hmdRotation.x', 'hmdRotation.y',\n",
       "       'hmdRotation.z', 'hmdDirectionUp.x', 'hmdDirectionUp.y',\n",
       "       'hmdDirectionUp.z', 'playerBodyPosition.x', 'playerBodyPosition.y',\n",
       "       'playerBodyPosition.z', 'bodyTrackerPosition.x',\n",
       "       'bodyTrackerPosition.y', 'bodyTrackerPosition.z',\n",
       "       'bodyTrackerRotation.x', 'bodyTrackerRotation.y',\n",
       "       'bodyTrackerRotation.z', 'hitColliderType',\n",
       "       'hitObjectColliderBoundsCenter', 'hitObjectColliderName',\n",
       "       'ordinalOfHit', 'hitPointOnObject_x', 'hitPointOnObject_y',\n",
       "       'hitPointOnObject_z'],\n",
       "      dtype='object')"
      ]
     },
     "execution_count": 59,
     "metadata": {},
     "output_type": "execute_result"
    }
   ],
   "source": [
    "data_frame.columns"
   ]
  },
  {
   "cell_type": "code",
   "execution_count": 60,
   "id": "919f8586-3420-4024-ac08-bdd286d8565d",
   "metadata": {},
   "outputs": [],
   "source": [
    "data_frame.drop(['Unnamed: 0', 'rayCastHitsCombinedEyes', 'timeStampGetVerboseData', 'hitObjectColliderBoundsCenter'],axis=1, inplace=True)"
   ]
  },
  {
   "cell_type": "code",
   "execution_count": 61,
   "id": "a5badb2b",
   "metadata": {
    "collapsed": false,
    "jupyter": {
     "outputs_hidden": false
    },
    "pycharm": {
     "name": "#%%\n"
    }
   },
   "outputs": [],
   "source": [
    "#Since we have two colliders hits per frame, we calculate the distance between each hit and the participant\n",
    "data_frame['Eucledian_distance'] = np.linalg.norm(data_frame.loc[:, [\"hitPointOnObject_x\",\"hitPointOnObject_y\",\"hitPointOnObject_z\"]].values - data_frame.loc[:, [\"playerBodyPosition.x\",\"playerBodyPosition.y\",\"playerBodyPosition.z\"]], axis=1)"
   ]
  },
  {
   "cell_type": "code",
   "execution_count": 62,
   "id": "7c44fefd-25ae-4b51-91ad-c37a739356bf",
   "metadata": {},
   "outputs": [],
   "source": [
    "# Since the collider names are too detailed, here we create a dictionary with patterns to classify them into our categories of interest\n",
    "# INCLUDE CHURCH\n",
    "patterns = {'\\d{2}_Sa':'Passive_Agent', '\\d{2}_Cma':'Active_Agent', 'Building_\\d+': 'Building'}\n",
    "patterns.update(dict.fromkeys(['Castle-TaskBuilding_56','HighSilo-TaskBuilding_49', 'Windmill-TaskBuilding_10_1', 'Church_TaskBuilding_16'], 'Global_Landmark'))\n",
    "patterns.update(dict.fromkeys(['TaskBuilding_2','TaskBuilding_3', 'TaskBuilding_5', 'TaskBuilding_8', 'TaskBuilding_9', 'TaskBuilding_11', 'TaskBuilding_13', 'TaskBuilding_14', 'TaskBuilding_20', 'TaskBuilding_21', 'TaskBuilding_23','TaskBuilding_27', 'TaskBuilding_29', 'TaskBuilding_32', 'TaskBuilding_34',  'TaskBuilding_38', 'TaskBuilding_41', 'TaskBuilding_42', 'TaskBuilding_44', 'TaskBuilding_45', 'TaskBuilding_47', 'TaskBuilding_50', 'TaskBuilding_51', 'TaskBuilding_52', 'BasketballCourt_58', 'Construction_57', 'Graffity_02', 'Graffity_03', 'Graffity_05', 'Graffity_08', 'Graffity_09', 'Graffity_11', 'Graffity_13', 'Graffity_14', 'Graffity_20', 'Graffity_21', 'Graffity_23', 'Graffity_27', 'Graffity_29', 'Graffity_32', 'Graffity_34', 'Graffity_38', 'Graffity_41', 'Graffity_42', 'Graffity_44', 'Graffity_45', 'Graffity_47',  'Graffity_50', 'Graffity_51', 'Graffity_52'], 'TaskBuilding_Public'))\n",
    "patterns.update(dict.fromkeys(['TaskBuilding_1','TaskBuilding_4', 'TaskBuilding_6', 'TaskBuilding_7', 'TaskBuilding_12', 'TaskBuilding_15', 'TaskBuilding_17', 'TaskBuilding_18', 'TaskBuilding_19', 'TaskBuilding_22', 'TaskBuilding_24','TaskBuilding_25', 'TaskBuilding_26', 'TaskBuilding_28', 'TaskBuilding_30',  'TaskBuilding_31', 'TaskBuilding_33', 'TaskBuilding_35', 'TaskBuilding_36', 'TaskBuilding_37', 'TaskBuilding_39', 'TaskBuilding_40', 'TaskBuilding_43', 'TaskBuilding_48', 'TaskBuilding_54','TaskBuilding_55','Graffity_1','Graffity_4', 'Graffity_6', 'Graffity_7', 'Graffity_12', 'Graffity_15', 'Graffity_17', 'Graffity_18', 'Graffity_19', 'Graffity_22', 'Graffity_24','Graffity_25', 'Graffity_26', 'Graffity_28', 'Graffity_30',  'Graffity_31', 'Graffity_33', 'Graffity_35', 'Graffity_36', 'Graffity_37', 'Graffity_39', 'Graffity_40', 'Graffity_43', 'Graffity_48', 'Graffity_54', 'Graffity_55' ], 'TaskBuilding_Residential'))\n",
    "default_val = 'Background'"
   ]
  },
  {
   "cell_type": "code",
   "execution_count": 63,
   "id": "68ff7d20-1cc3-462c-9980-07674e2cfb4a",
   "metadata": {},
   "outputs": [],
   "source": [
    "# Here we look for the patterns contained in the dictionary and create the more general/informative variable Collider_Categorical\n",
    "data_frame['Collider_Categorical'] = data_frame['hitObjectColliderName'].apply(lambda x: next((val for key, val in patterns.items() if re.match(key, x)), default_val))"
   ]
  },
  {
   "cell_type": "code",
   "execution_count": 64,
   "id": "011961bb-7900-457e-bf61-a2d1ea5ff7f3",
   "metadata": {},
   "outputs": [],
   "source": [
    "# Since the double hits where unfolded in a long format in case of more than one hit per frame the second hit would be the row directly underneath.\n",
    "# Therefore, if we want to know which hit was closest to the participant per frame we can compare each row with the previous one and see which one has the smallest Euclidean distance.\n",
    "data_frame['Previous_Euclidean_value'] = data_frame['Eucledian_distance'].shift(1)\n",
    "#Here we declare the conditions to choose between collider hits:\n",
    "data_frame['Collider_stays'] = (data_frame[\"ordinalOfHit\"] == 2) & (data_frame['Collider_Categorical'] != 'Background') & (data_frame['Eucledian_distance'] <  data_frame['Previous_Euclidean_value']) "
   ]
  },
  {
   "cell_type": "code",
   "execution_count": 65,
   "id": "fc2d0f66-35d1-436d-9da4-530206b494a7",
   "metadata": {},
   "outputs": [],
   "source": [
    "original_shape = data_frame.shape"
   ]
  },
  {
   "cell_type": "code",
   "execution_count": 66,
   "id": "ccada2d8-a6f3-4928-97ed-fe743579223d",
   "metadata": {},
   "outputs": [],
   "source": [
    "data_frame.reset_index(inplace=True)\n",
    "#Drop all the second hit colliders that do not comply with the criteria\n",
    "indexCollider = data_frame[(data_frame[\"ordinalOfHit\"] == 2) & (data_frame['Collider_stays'] == False)].index"
   ]
  },
  {
   "cell_type": "code",
   "execution_count": 67,
   "id": "76276405",
   "metadata": {
    "collapsed": false,
    "jupyter": {
     "outputs_hidden": false
    },
    "pycharm": {
     "name": "#%%\n"
    }
   },
   "outputs": [],
   "source": [
    "depleted_data = data_frame.drop(index=indexCollider)"
   ]
  },
  {
   "cell_type": "code",
   "execution_count": 68,
   "id": "6b8d8a7b-b01b-4736-af8b-e3406a28b644",
   "metadata": {},
   "outputs": [],
   "source": [
    "depleted_data.reset_index(inplace=True, drop=True)\n",
    "#Take the index of all second colliders that will stay\n",
    "indexColliderStays = depleted_data[depleted_data['Collider_stays'] == True].index\n",
    "#We subtract one from that list of indexes because now is the first collider that has to go (so row directly on top)\n",
    "indexColliderDelete = indexColliderStays - 1\n",
    "depleted_data_1 = depleted_data.drop(indexColliderDelete)"
   ]
  },
  {
   "cell_type": "code",
   "execution_count": null,
   "id": "ae15e0be",
   "metadata": {
    "collapsed": false,
    "jupyter": {
     "outputs_hidden": false
    },
    "pycharm": {
     "name": "#%%\n"
    }
   },
   "outputs": [],
   "source": [
    "#Create variable that differenciates body from face hits on agents\n",
    "depleted_data_1[\"Face_Hits\"] = \"Not_Agent\"\n",
    "mask_Face = ((depleted_data_1[\"Collider_Categorical\"].str.contains(pat=\"_Agent\")) & (depleted_data_1[\"hitColliderType\"] == \"UnityEngine.SphereCollider\"))\n",
    "mask_Body = ((depleted_data_1[\"Collider_Categorical\"].str.contains(pat=\"_Agent\")) & (depleted_data_1[\"hitColliderType\"] == \"UnityEngine.BoxCollider\"))\n",
    "depleted_data_1.loc[mask_Face, 'Face_Hits'] = \"Face\"\n",
    "depleted_data_1.loc[mask_Body, 'Face_Hits'] = \"Body\"\n",
    "depleted_data_1[\"Face_Hits\"].value_counts()"
   ]
  },
  {
   "cell_type": "code",
   "execution_count": 69,
   "id": "bac4b7d6",
   "metadata": {
    "collapsed": false,
    "jupyter": {
     "outputs_hidden": false
    },
    "pycharm": {
     "name": "#%%\n"
    }
   },
   "outputs": [],
   "source": [
    "depleted_data_1.to_csv(\"/Volumes/SSD/00_Data_Processing/Pre_processed/clean_seven_participants_3.csv\")"
   ]
  },
  {
   "cell_type": "code",
   "execution_count": null,
   "id": "56ba8026",
   "metadata": {
    "collapsed": false,
    "jupyter": {
     "outputs_hidden": false
    },
    "pycharm": {
     "name": "#%%\n"
    }
   },
   "outputs": [],
   "source": [
    "Make_Error"
   ]
  },
  {
   "cell_type": "markdown",
   "id": "40a0c2ad",
   "metadata": {
    "pycharm": {
     "name": "#%% md\n"
    }
   },
   "source": [
    "## Concat the clean data sets"
   ]
  },
  {
   "cell_type": "code",
   "execution_count": 2,
   "id": "b3c92144",
   "metadata": {
    "collapsed": false,
    "jupyter": {
     "outputs_hidden": false
    },
    "pycharm": {
     "name": "#%%\n"
    }
   },
   "outputs": [],
   "source": [
    "clean_data = pd.read_csv(\"/Volumes/SSD/00_Data_Processing/Pre_processed/clean_seven_participants.csv\")\n",
    "clean_data_1 = pd.read_csv(\"/Volumes/SSD/00_Data_Processing/Pre_processed/clean_seven_participants_1.csv\")\n",
    "clean_data_2 = pd.read_csv(\"/Volumes/SSD/00_Data_Processing/Pre_processed/clean_seven_participants_2.csv\")\n",
    "clean_data_3 = pd.read_csv(\"/Volumes/SSD/00_Data_Processing/Pre_processed/clean_seven_participants_3.csv\")"
   ]
  },
  {
   "cell_type": "code",
   "execution_count": 3,
   "id": "aa1fd1a6",
   "metadata": {
    "collapsed": false,
    "jupyter": {
     "outputs_hidden": false
    },
    "pycharm": {
     "name": "#%%\n"
    }
   },
   "outputs": [],
   "source": [
    "dataframes = [clean_data, clean_data_1,  clean_data_2, clean_data_3]\n",
    "for df in dataframes:\n",
    "    df.drop([\"Unnamed: 0\", \"level_0\", 'Previous_Euclidean_value'], axis=1, inplace=True)"
   ]
  },
  {
   "cell_type": "code",
   "execution_count": 4,
   "id": "4fc036f8",
   "metadata": {
    "collapsed": false,
    "jupyter": {
     "outputs_hidden": false
    },
    "pycharm": {
     "name": "#%%\n"
    }
   },
   "outputs": [],
   "source": [
    "result = pd.concat(dataframes)"
   ]
  },
  {
   "cell_type": "code",
   "execution_count": 5,
   "id": "e1d97339",
   "metadata": {
    "collapsed": false,
    "jupyter": {
     "outputs_hidden": false
    },
    "pycharm": {
     "name": "#%%\n"
    }
   },
   "outputs": [
    {
     "data": {
      "text/html": [
       "<div>\n",
       "<style scoped>\n",
       "    .dataframe tbody tr th:only-of-type {\n",
       "        vertical-align: middle;\n",
       "    }\n",
       "\n",
       "    .dataframe tbody tr th {\n",
       "        vertical-align: top;\n",
       "    }\n",
       "\n",
       "    .dataframe thead th {\n",
       "        text-align: right;\n",
       "    }\n",
       "</style>\n",
       "<table border=\"1\" class=\"dataframe\">\n",
       "  <thead>\n",
       "    <tr style=\"text-align: right;\">\n",
       "      <th></th>\n",
       "      <th>index</th>\n",
       "      <th>SubjectID</th>\n",
       "      <th>Session</th>\n",
       "      <th>SessionSubsection</th>\n",
       "      <th>timeStampDataPointStart</th>\n",
       "      <th>timeStampDataPointEnd</th>\n",
       "      <th>combinedGazeValidityBitmask</th>\n",
       "      <th>eyePositionCombinedWorld.x</th>\n",
       "      <th>eyePositionCombinedWorld.y</th>\n",
       "      <th>eyePositionCombinedWorld.z</th>\n",
       "      <th>...</th>\n",
       "      <th>bodyTrackerRotation.z</th>\n",
       "      <th>hitColliderType</th>\n",
       "      <th>hitObjectColliderName</th>\n",
       "      <th>ordinalOfHit</th>\n",
       "      <th>hitPointOnObject_x</th>\n",
       "      <th>hitPointOnObject_y</th>\n",
       "      <th>hitPointOnObject_z</th>\n",
       "      <th>Eucledian_distance</th>\n",
       "      <th>Collider_Categorical</th>\n",
       "      <th>Collider_stays</th>\n",
       "    </tr>\n",
       "  </thead>\n",
       "  <tbody>\n",
       "    <tr>\n",
       "      <th>0</th>\n",
       "      <td>121419</td>\n",
       "      <td>479</td>\n",
       "      <td>1</td>\n",
       "      <td>1</td>\n",
       "      <td>1.652967e+09</td>\n",
       "      <td>1.652967e+09</td>\n",
       "      <td>3</td>\n",
       "      <td>-59.122986</td>\n",
       "      <td>2.413162</td>\n",
       "      <td>34.732815</td>\n",
       "      <td>...</td>\n",
       "      <td>55.068886</td>\n",
       "      <td>UnityEngine.MeshCollider</td>\n",
       "      <td>TaskBuilding_35</td>\n",
       "      <td>1.0</td>\n",
       "      <td>-63.126041</td>\n",
       "      <td>2.384691</td>\n",
       "      <td>44.754692</td>\n",
       "      <td>10.849845</td>\n",
       "      <td>TaskBuilding_Public</td>\n",
       "      <td>False</td>\n",
       "    </tr>\n",
       "    <tr>\n",
       "      <th>1</th>\n",
       "      <td>121421</td>\n",
       "      <td>479</td>\n",
       "      <td>1</td>\n",
       "      <td>1</td>\n",
       "      <td>1.652967e+09</td>\n",
       "      <td>1.652967e+09</td>\n",
       "      <td>3</td>\n",
       "      <td>-59.122986</td>\n",
       "      <td>2.413162</td>\n",
       "      <td>34.732815</td>\n",
       "      <td>...</td>\n",
       "      <td>55.068886</td>\n",
       "      <td>UnityEngine.MeshCollider</td>\n",
       "      <td>TaskBuilding_35</td>\n",
       "      <td>1.0</td>\n",
       "      <td>-63.126041</td>\n",
       "      <td>2.384691</td>\n",
       "      <td>44.754692</td>\n",
       "      <td>10.849845</td>\n",
       "      <td>TaskBuilding_Public</td>\n",
       "      <td>False</td>\n",
       "    </tr>\n",
       "    <tr>\n",
       "      <th>2</th>\n",
       "      <td>121423</td>\n",
       "      <td>479</td>\n",
       "      <td>1</td>\n",
       "      <td>1</td>\n",
       "      <td>1.652967e+09</td>\n",
       "      <td>1.652967e+09</td>\n",
       "      <td>3</td>\n",
       "      <td>-59.119831</td>\n",
       "      <td>2.413259</td>\n",
       "      <td>34.732769</td>\n",
       "      <td>...</td>\n",
       "      <td>55.068878</td>\n",
       "      <td>UnityEngine.MeshCollider</td>\n",
       "      <td>TaskBuilding_35</td>\n",
       "      <td>1.0</td>\n",
       "      <td>-63.102364</td>\n",
       "      <td>2.409164</td>\n",
       "      <td>44.764919</td>\n",
       "      <td>10.853945</td>\n",
       "      <td>TaskBuilding_Public</td>\n",
       "      <td>False</td>\n",
       "    </tr>\n",
       "    <tr>\n",
       "      <th>3</th>\n",
       "      <td>121425</td>\n",
       "      <td>479</td>\n",
       "      <td>1</td>\n",
       "      <td>1</td>\n",
       "      <td>1.652967e+09</td>\n",
       "      <td>1.652967e+09</td>\n",
       "      <td>3</td>\n",
       "      <td>-59.135059</td>\n",
       "      <td>2.412430</td>\n",
       "      <td>34.733551</td>\n",
       "      <td>...</td>\n",
       "      <td>55.070137</td>\n",
       "      <td>UnityEngine.MeshCollider</td>\n",
       "      <td>TaskBuilding_35</td>\n",
       "      <td>1.0</td>\n",
       "      <td>-63.168682</td>\n",
       "      <td>2.391426</td>\n",
       "      <td>44.736275</td>\n",
       "      <td>10.849811</td>\n",
       "      <td>TaskBuilding_Public</td>\n",
       "      <td>False</td>\n",
       "    </tr>\n",
       "    <tr>\n",
       "      <th>4</th>\n",
       "      <td>121427</td>\n",
       "      <td>479</td>\n",
       "      <td>1</td>\n",
       "      <td>1</td>\n",
       "      <td>1.652967e+09</td>\n",
       "      <td>1.652967e+09</td>\n",
       "      <td>3</td>\n",
       "      <td>-59.135059</td>\n",
       "      <td>2.412407</td>\n",
       "      <td>34.733528</td>\n",
       "      <td>...</td>\n",
       "      <td>55.071308</td>\n",
       "      <td>UnityEngine.MeshCollider</td>\n",
       "      <td>TaskBuilding_35</td>\n",
       "      <td>1.0</td>\n",
       "      <td>-63.168106</td>\n",
       "      <td>2.389861</td>\n",
       "      <td>44.736523</td>\n",
       "      <td>10.849602</td>\n",
       "      <td>TaskBuilding_Public</td>\n",
       "      <td>False</td>\n",
       "    </tr>\n",
       "  </tbody>\n",
       "</table>\n",
       "<p>5 rows × 45 columns</p>\n",
       "</div>"
      ],
      "text/plain": [
       "    index  SubjectID  Session  SessionSubsection  timeStampDataPointStart  \\\n",
       "0  121419        479        1                  1             1.652967e+09   \n",
       "1  121421        479        1                  1             1.652967e+09   \n",
       "2  121423        479        1                  1             1.652967e+09   \n",
       "3  121425        479        1                  1             1.652967e+09   \n",
       "4  121427        479        1                  1             1.652967e+09   \n",
       "\n",
       "   timeStampDataPointEnd  combinedGazeValidityBitmask  \\\n",
       "0           1.652967e+09                            3   \n",
       "1           1.652967e+09                            3   \n",
       "2           1.652967e+09                            3   \n",
       "3           1.652967e+09                            3   \n",
       "4           1.652967e+09                            3   \n",
       "\n",
       "   eyePositionCombinedWorld.x  eyePositionCombinedWorld.y  \\\n",
       "0                  -59.122986                    2.413162   \n",
       "1                  -59.122986                    2.413162   \n",
       "2                  -59.119831                    2.413259   \n",
       "3                  -59.135059                    2.412430   \n",
       "4                  -59.135059                    2.412407   \n",
       "\n",
       "   eyePositionCombinedWorld.z  ...  bodyTrackerRotation.z  \\\n",
       "0                   34.732815  ...              55.068886   \n",
       "1                   34.732815  ...              55.068886   \n",
       "2                   34.732769  ...              55.068878   \n",
       "3                   34.733551  ...              55.070137   \n",
       "4                   34.733528  ...              55.071308   \n",
       "\n",
       "            hitColliderType  hitObjectColliderName  ordinalOfHit  \\\n",
       "0  UnityEngine.MeshCollider        TaskBuilding_35           1.0   \n",
       "1  UnityEngine.MeshCollider        TaskBuilding_35           1.0   \n",
       "2  UnityEngine.MeshCollider        TaskBuilding_35           1.0   \n",
       "3  UnityEngine.MeshCollider        TaskBuilding_35           1.0   \n",
       "4  UnityEngine.MeshCollider        TaskBuilding_35           1.0   \n",
       "\n",
       "   hitPointOnObject_x  hitPointOnObject_y  hitPointOnObject_z  \\\n",
       "0          -63.126041            2.384691           44.754692   \n",
       "1          -63.126041            2.384691           44.754692   \n",
       "2          -63.102364            2.409164           44.764919   \n",
       "3          -63.168682            2.391426           44.736275   \n",
       "4          -63.168106            2.389861           44.736523   \n",
       "\n",
       "   Eucledian_distance  Collider_Categorical  Collider_stays  \n",
       "0           10.849845   TaskBuilding_Public           False  \n",
       "1           10.849845   TaskBuilding_Public           False  \n",
       "2           10.853945   TaskBuilding_Public           False  \n",
       "3           10.849811   TaskBuilding_Public           False  \n",
       "4           10.849602   TaskBuilding_Public           False  \n",
       "\n",
       "[5 rows x 45 columns]"
      ]
     },
     "execution_count": 5,
     "metadata": {},
     "output_type": "execute_result"
    }
   ],
   "source": [
    "result.head()"
   ]
  },
  {
   "cell_type": "markdown",
   "id": "428ae80e",
   "metadata": {
    "pycharm": {
     "name": "#%% md\n"
    }
   },
   "source": [
    "# Separate face and body hits"
   ]
  },
  {
   "cell_type": "code",
   "execution_count": 6,
   "id": "5936bed5",
   "metadata": {
    "collapsed": false,
    "jupyter": {
     "outputs_hidden": false
    },
    "pycharm": {
     "name": "#%%\n"
    }
   },
   "outputs": [],
   "source": [
    "result[\"Face_Hits\"] = \"Not_Agent\"\n",
    "#Our face collider can be identified because they have a collider type Sphere while the body was captured by a boxcollider\n",
    "mask_Face = ((result[\"Collider_Categorical\"].str.contains(pat =\"_Agent\")) & (result[\"hitColliderType\"] == \"UnityEngine.SphereCollider\"))\n",
    "mask_Body = ((result[\"Collider_Categorical\"].str.contains(pat =\"_Agent\")) & (result[\"hitColliderType\"] == \"UnityEngine.BoxCollider\"))\n",
    "result.loc[mask_Face, 'Face_Hits'] = \"Face\"\n",
    "result.loc[mask_Body, 'Face_Hits'] = \"Body\""
   ]
  },
  {
   "cell_type": "code",
   "execution_count": 7,
   "id": "3b681583",
   "metadata": {
    "collapsed": false,
    "jupyter": {
     "outputs_hidden": false
    },
    "pycharm": {
     "name": "#%%\n"
    }
   },
   "outputs": [
    {
     "data": {
      "text/plain": [
       "Not_Agent    25641663\n",
       "Body           570296\n",
       "Face           140425\n",
       "Name: Face_Hits, dtype: int64"
      ]
     },
     "execution_count": 7,
     "metadata": {},
     "output_type": "execute_result"
    }
   ],
   "source": [
    "result[\"Face_Hits\"].value_counts()"
   ]
  },
  {
   "cell_type": "markdown",
   "id": "85b97509",
   "metadata": {
    "pycharm": {
     "name": "#%% md\n"
    }
   },
   "source": [
    "## Create continuous time"
   ]
  },
  {
   "cell_type": "code",
   "execution_count": 8,
   "id": "a74f4792",
   "metadata": {
    "collapsed": false,
    "jupyter": {
     "outputs_hidden": false
    },
    "pycharm": {
     "name": "#%%\n"
    }
   },
   "outputs": [],
   "source": [
    "# Group by Subject and Session because the continuous time only makes sence on a session scale\n",
    "all_participants_sessions = pd.DataFrame(result.groupby([\"SubjectID\", \"Session\"])[\"hitColliderType\"].count())\n",
    "all_participants_sessions.reset_index(inplace=True)\n",
    "# Create tuples to later subset data to subject-session scale. We create this because subjects can have a different number of sessions, in this way we only subset for the existing pairs S-S.\n",
    "L_all_participants_sessions = list(zip(all_participants_sessions.SubjectID, all_participants_sessions.Session))"
   ]
  },
  {
   "cell_type": "code",
   "execution_count": 9,
   "id": "aabf6faa",
   "metadata": {
    "collapsed": false,
    "jupyter": {
     "outputs_hidden": false
    },
    "pycharm": {
     "name": "#%%\n"
    }
   },
   "outputs": [
    {
     "data": {
      "text/plain": [
       "127"
      ]
     },
     "execution_count": 9,
     "metadata": {},
     "output_type": "execute_result"
    }
   ],
   "source": [
    "len(L_all_participants_sessions)"
   ]
  },
  {
   "cell_type": "code",
   "execution_count": null,
   "id": "51461cba",
   "metadata": {
    "collapsed": false,
    "jupyter": {
     "outputs_hidden": false
    },
    "pycharm": {
     "name": "#%%\n"
    }
   },
   "outputs": [],
   "source": [
    "temporals = []\n",
    "for tuple in L_all_participants_sessions:\n",
    "    subject, session = tuple\n",
    "    temporal = result[(result['SubjectID'] == subject) & (result['Session'] == session)]\n",
    "    temporal_c = temporal.copy(deep=True)\n",
    "    temporal_c[\"Continuous_Time\"] = np.round((temporal_c.iloc[:, 5] - temporal_c.iloc[0,5])/60, 3)\n",
    "    temporals.append(temporal_c)\n",
    "    print(tuple)"
   ]
  },
  {
   "cell_type": "code",
   "execution_count": 11,
   "id": "cf8cf5c7-f11f-42ea-8815-105d7b8c3f5a",
   "metadata": {},
   "outputs": [],
   "source": [
    "data_frames_list = pd.concat(temporals, axis=0)"
   ]
  },
  {
   "cell_type": "code",
   "execution_count": 12,
   "id": "3915c53a",
   "metadata": {
    "collapsed": false,
    "jupyter": {
     "outputs_hidden": false
    },
    "pycharm": {
     "is_executing": true,
     "name": "#%%\n"
    }
   },
   "outputs": [
    {
     "data": {
      "text/html": [
       "<div>\n",
       "<style scoped>\n",
       "    .dataframe tbody tr th:only-of-type {\n",
       "        vertical-align: middle;\n",
       "    }\n",
       "\n",
       "    .dataframe tbody tr th {\n",
       "        vertical-align: top;\n",
       "    }\n",
       "\n",
       "    .dataframe thead th {\n",
       "        text-align: right;\n",
       "    }\n",
       "</style>\n",
       "<table border=\"1\" class=\"dataframe\">\n",
       "  <thead>\n",
       "    <tr style=\"text-align: right;\">\n",
       "      <th></th>\n",
       "      <th>index</th>\n",
       "      <th>SubjectID</th>\n",
       "      <th>Session</th>\n",
       "      <th>SessionSubsection</th>\n",
       "      <th>timeStampDataPointStart</th>\n",
       "      <th>timeStampDataPointEnd</th>\n",
       "      <th>combinedGazeValidityBitmask</th>\n",
       "      <th>eyePositionCombinedWorld.x</th>\n",
       "      <th>eyePositionCombinedWorld.y</th>\n",
       "      <th>eyePositionCombinedWorld.z</th>\n",
       "      <th>...</th>\n",
       "      <th>hitObjectColliderName</th>\n",
       "      <th>ordinalOfHit</th>\n",
       "      <th>hitPointOnObject_x</th>\n",
       "      <th>hitPointOnObject_y</th>\n",
       "      <th>hitPointOnObject_z</th>\n",
       "      <th>Eucledian_distance</th>\n",
       "      <th>Collider_Categorical</th>\n",
       "      <th>Collider_stays</th>\n",
       "      <th>Face_Hits</th>\n",
       "      <th>Continuous_Time</th>\n",
       "    </tr>\n",
       "  </thead>\n",
       "  <tbody>\n",
       "    <tr>\n",
       "      <th>6001272</th>\n",
       "      <td>1897591</td>\n",
       "      <td>9601</td>\n",
       "      <td>5</td>\n",
       "      <td>3</td>\n",
       "      <td>1.652798e+09</td>\n",
       "      <td>1.652798e+09</td>\n",
       "      <td>3</td>\n",
       "      <td>-110.984283</td>\n",
       "      <td>4.037135</td>\n",
       "      <td>103.240768</td>\n",
       "      <td>...</td>\n",
       "      <td>Building_210</td>\n",
       "      <td>1.0</td>\n",
       "      <td>-295.833679</td>\n",
       "      <td>4.772648</td>\n",
       "      <td>-74.126945</td>\n",
       "      <td>256.299333</td>\n",
       "      <td>Building</td>\n",
       "      <td>False</td>\n",
       "      <td>Not_Agent</td>\n",
       "      <td>30.912</td>\n",
       "    </tr>\n",
       "    <tr>\n",
       "      <th>6001273</th>\n",
       "      <td>1897593</td>\n",
       "      <td>9601</td>\n",
       "      <td>5</td>\n",
       "      <td>3</td>\n",
       "      <td>1.652798e+09</td>\n",
       "      <td>1.652798e+09</td>\n",
       "      <td>3</td>\n",
       "      <td>-111.037956</td>\n",
       "      <td>4.038515</td>\n",
       "      <td>103.227974</td>\n",
       "      <td>...</td>\n",
       "      <td>Building_210</td>\n",
       "      <td>1.0</td>\n",
       "      <td>-295.258362</td>\n",
       "      <td>5.042946</td>\n",
       "      <td>-74.824463</td>\n",
       "      <td>256.321150</td>\n",
       "      <td>Building</td>\n",
       "      <td>False</td>\n",
       "      <td>Not_Agent</td>\n",
       "      <td>30.912</td>\n",
       "    </tr>\n",
       "    <tr>\n",
       "      <th>6001274</th>\n",
       "      <td>1897595</td>\n",
       "      <td>9601</td>\n",
       "      <td>5</td>\n",
       "      <td>3</td>\n",
       "      <td>1.652798e+09</td>\n",
       "      <td>1.652798e+09</td>\n",
       "      <td>3</td>\n",
       "      <td>-111.037956</td>\n",
       "      <td>4.038515</td>\n",
       "      <td>103.227974</td>\n",
       "      <td>...</td>\n",
       "      <td>Building_210</td>\n",
       "      <td>1.0</td>\n",
       "      <td>-295.258362</td>\n",
       "      <td>5.042946</td>\n",
       "      <td>-74.824463</td>\n",
       "      <td>256.321150</td>\n",
       "      <td>Building</td>\n",
       "      <td>False</td>\n",
       "      <td>Not_Agent</td>\n",
       "      <td>30.912</td>\n",
       "    </tr>\n",
       "    <tr>\n",
       "      <th>6001275</th>\n",
       "      <td>1897597</td>\n",
       "      <td>9601</td>\n",
       "      <td>5</td>\n",
       "      <td>3</td>\n",
       "      <td>1.652798e+09</td>\n",
       "      <td>1.652798e+09</td>\n",
       "      <td>3</td>\n",
       "      <td>-111.081200</td>\n",
       "      <td>4.038269</td>\n",
       "      <td>103.201927</td>\n",
       "      <td>...</td>\n",
       "      <td>Building_213</td>\n",
       "      <td>1.0</td>\n",
       "      <td>-276.617615</td>\n",
       "      <td>5.832996</td>\n",
       "      <td>-48.707134</td>\n",
       "      <td>224.754887</td>\n",
       "      <td>Building</td>\n",
       "      <td>False</td>\n",
       "      <td>Not_Agent</td>\n",
       "      <td>30.912</td>\n",
       "    </tr>\n",
       "    <tr>\n",
       "      <th>6001276</th>\n",
       "      <td>1897599</td>\n",
       "      <td>9601</td>\n",
       "      <td>5</td>\n",
       "      <td>3</td>\n",
       "      <td>1.652798e+09</td>\n",
       "      <td>1.652798e+09</td>\n",
       "      <td>3</td>\n",
       "      <td>-111.081200</td>\n",
       "      <td>4.038269</td>\n",
       "      <td>103.201927</td>\n",
       "      <td>...</td>\n",
       "      <td>Building_213</td>\n",
       "      <td>1.0</td>\n",
       "      <td>-276.617615</td>\n",
       "      <td>5.832996</td>\n",
       "      <td>-48.707134</td>\n",
       "      <td>224.754887</td>\n",
       "      <td>Building</td>\n",
       "      <td>False</td>\n",
       "      <td>Not_Agent</td>\n",
       "      <td>30.912</td>\n",
       "    </tr>\n",
       "  </tbody>\n",
       "</table>\n",
       "<p>5 rows × 47 columns</p>\n",
       "</div>"
      ],
      "text/plain": [
       "           index  SubjectID  Session  SessionSubsection  \\\n",
       "6001272  1897591       9601        5                  3   \n",
       "6001273  1897593       9601        5                  3   \n",
       "6001274  1897595       9601        5                  3   \n",
       "6001275  1897597       9601        5                  3   \n",
       "6001276  1897599       9601        5                  3   \n",
       "\n",
       "         timeStampDataPointStart  timeStampDataPointEnd  \\\n",
       "6001272             1.652798e+09           1.652798e+09   \n",
       "6001273             1.652798e+09           1.652798e+09   \n",
       "6001274             1.652798e+09           1.652798e+09   \n",
       "6001275             1.652798e+09           1.652798e+09   \n",
       "6001276             1.652798e+09           1.652798e+09   \n",
       "\n",
       "         combinedGazeValidityBitmask  eyePositionCombinedWorld.x  \\\n",
       "6001272                            3                 -110.984283   \n",
       "6001273                            3                 -111.037956   \n",
       "6001274                            3                 -111.037956   \n",
       "6001275                            3                 -111.081200   \n",
       "6001276                            3                 -111.081200   \n",
       "\n",
       "         eyePositionCombinedWorld.y  eyePositionCombinedWorld.z  ...  \\\n",
       "6001272                    4.037135                  103.240768  ...   \n",
       "6001273                    4.038515                  103.227974  ...   \n",
       "6001274                    4.038515                  103.227974  ...   \n",
       "6001275                    4.038269                  103.201927  ...   \n",
       "6001276                    4.038269                  103.201927  ...   \n",
       "\n",
       "         hitObjectColliderName  ordinalOfHit  hitPointOnObject_x  \\\n",
       "6001272           Building_210           1.0         -295.833679   \n",
       "6001273           Building_210           1.0         -295.258362   \n",
       "6001274           Building_210           1.0         -295.258362   \n",
       "6001275           Building_213           1.0         -276.617615   \n",
       "6001276           Building_213           1.0         -276.617615   \n",
       "\n",
       "         hitPointOnObject_y  hitPointOnObject_z  Eucledian_distance  \\\n",
       "6001272            4.772648          -74.126945          256.299333   \n",
       "6001273            5.042946          -74.824463          256.321150   \n",
       "6001274            5.042946          -74.824463          256.321150   \n",
       "6001275            5.832996          -48.707134          224.754887   \n",
       "6001276            5.832996          -48.707134          224.754887   \n",
       "\n",
       "         Collider_Categorical  Collider_stays  Face_Hits  Continuous_Time  \n",
       "6001272              Building           False  Not_Agent           30.912  \n",
       "6001273              Building           False  Not_Agent           30.912  \n",
       "6001274              Building           False  Not_Agent           30.912  \n",
       "6001275              Building           False  Not_Agent           30.912  \n",
       "6001276              Building           False  Not_Agent           30.912  \n",
       "\n",
       "[5 rows x 47 columns]"
      ]
     },
     "execution_count": 12,
     "metadata": {},
     "output_type": "execute_result"
    }
   ],
   "source": [
    "data_frames_list.tail()"
   ]
  },
  {
   "cell_type": "code",
   "execution_count": 13,
   "id": "b274d623-6d37-464d-a3c8-1e63b8f75374",
   "metadata": {},
   "outputs": [],
   "source": [
    "data_frames_list.to_csv(\"/Volumes/SSD/00_Data_Processing/Pre_processed/Data_Complete.csv\")"
   ]
  },
  {
   "cell_type": "markdown",
   "id": "0a4eea6b-36d6-48f1-a920-af57b2751ec3",
   "metadata": {},
   "source": [
    "# If we want to keep only the perfect cases run this "
   ]
  },
  {
   "cell_type": "code",
   "execution_count": null,
   "id": "ef1abca1",
   "metadata": {
    "collapsed": false,
    "jupyter": {
     "outputs_hidden": false
    },
    "pycharm": {
     "name": "#%%\n"
    }
   },
   "outputs": [],
   "source": [
    "clean_data = pd.read_csv(\"/Volumes/SSD/00_Data_Processing/Pre_processed/clean_seven_participants.csv\")\n",
    "The_perfect_Set = clean_data[(clean_data['SubjectID'] == 1754) | (clean_data['SubjectID'] == 2258) | (clean_data['SubjectID'] == 2693)]"
   ]
  },
  {
   "cell_type": "code",
   "execution_count": null,
   "id": "c81dcf7c",
   "metadata": {
    "collapsed": false,
    "jupyter": {
     "outputs_hidden": false
    },
    "pycharm": {
     "name": "#%%\n"
    }
   },
   "outputs": [],
   "source": [
    "clean_data_1 = pd.read_csv(\"/Volumes/SSD/00_Data_Processing/Pre_processed/clean_seven_participants_1.csv\")\n",
    "The_perfect_Set_1 = clean_data_1[(depleted_data['SubjectID'] == 4176) | (clean_data_1['SubjectID'] == 4796) | (clean_data_1['SubjectID'] == 4917) | (clean_data_1['SubjectID'] == 5238)]"
   ]
  },
  {
   "cell_type": "code",
   "execution_count": null,
   "id": "52dca694",
   "metadata": {
    "collapsed": false,
    "jupyter": {
     "outputs_hidden": false
    },
    "pycharm": {
     "name": "#%%\n"
    }
   },
   "outputs": [],
   "source": [
    "clean_data_2 = pd.read_csv(\"/Volumes/SSD/00_Data_Processing/Pre_processed/clean_seven_participants_2.csv\")\n",
    "The_perfect_Set_2 = clean_data_2[(clean_data_1['SubjectID'] == 6642) | (clean_data_2['SubjectID'] == 7412) | (clean_data_2['SubjectID'] == 7842)| (clean_data_2['SubjectID'] == 8007)]"
   ]
  },
  {
   "cell_type": "code",
   "execution_count": null,
   "id": "d6a6ed70",
   "metadata": {
    "collapsed": false,
    "jupyter": {
     "outputs_hidden": false
    },
    "pycharm": {
     "name": "#%%\n"
    }
   },
   "outputs": [],
   "source": [
    "clean_data_3 = pd.read_csv(\"/Volumes/SSD/00_Data_Processing/Pre_processed/clean_seven_participants_3.csv\")\n",
    "The_perfect_Set_3 = clean_data_3[(clean_data_3['SubjectID'] == 8469) | (clean_data_3['SubjectID'] == 8673) | (clean_data_3['SubjectID'] == 9472)| (clean_data_3['SubjectID'] == 9601)]"
   ]
  }
 ],
 "metadata": {
  "kernelspec": {
   "display_name": "Python 3",
   "language": "python",
   "name": "python3"
  },
  "language_info": {
   "codemirror_mode": {
    "name": "ipython",
    "version": 3
   },
   "file_extension": ".py",
   "mimetype": "text/x-python",
   "name": "python",
   "nbconvert_exporter": "python",
   "pygments_lexer": "ipython3",
   "version": "3.8.8"
  }
 },
 "nbformat": 4,
 "nbformat_minor": 5
}
