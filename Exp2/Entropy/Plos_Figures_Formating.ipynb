{
 "cells": [
  {
   "cell_type": "code",
   "execution_count": 1,
   "id": "5e33513a-7019-47c4-b606-1a83aa0eb114",
   "metadata": {},
   "outputs": [],
   "source": [
    "from PIL import Image\n",
    "import os"
   ]
  },
  {
   "cell_type": "code",
   "execution_count": null,
   "id": "633073d8-f7e2-4926-936f-c810a34e5f44",
   "metadata": {},
   "outputs": [],
   "source": [
    "# Directory containing the uploaded images\n",
    "input_dir = \"/Volumes/TwoTeras/Entropy_Paper/Raw_Entropy_Figures/\"\n",
    "output_dir = \"/Volumes/TwoTeras/Entropy_Paper/Tif_Entropy/\"\n",
    "os.makedirs(output_dir, exist_ok=True)\n",
    "\n",
    "# List of uploaded image files\n",
    "image_files = [\n",
    "    \"Fig_1.png\",\n",
    "    \"Fig_2.png\",\n",
    "    \"Fig_3.png\",\n",
    "    \"Fig_4.png\",\n",
    "    \"Fig_5.png\",\n",
    "    \"Fig_6.png\",\n",
    "    \"Fig_7.png\"\n",
    "]\n",
    "\n",
    "# Convert each PNG image to TIFF with PLOS specs: 300 dpi, LZW compression, flattened\n",
    "converted_files = []\n",
    "for file_name in image_files:\n",
    "    input_path = os.path.join(input_dir, file_name)\n",
    "    output_path = os.path.join(output_dir, file_name.replace(\".png\", \".tif\"))\n",
    "\n",
    "    # Open the image and convert to RGB if necessary\n",
    "    with Image.open(input_path) as img:\n",
    "        if img.mode != \"RGB\":\n",
    "            img = img.convert(\"RGB\")\n",
    "        img.save(output_path, dpi=(300, 300), compression=\"tiff_lzw\")\n",
    "\n",
    "    converted_files.append(output_path)\n",
    "\n",
    "converted_files"
   ]
  },
  {
   "cell_type": "code",
   "execution_count": null,
   "id": "2971714c-b7d4-4059-93a4-01276443cf58",
   "metadata": {},
   "outputs": [],
   "source": [
    "# The fina lada\n",
    "# https://ngplosjournals.pagemajik.ai/artanalysis?p_p_id=ArtAnalysis_WAR_ArtAnalysis&p_p_lifecycle=0&p_p_state=normal&p_p_mode=view&p_p_col_id=column-1&p_p_col_count=1&_ArtAnalysis_WAR_ArtAnalysis_jspPage=%2Fview.jsp \n"
   ]
  }
 ],
 "metadata": {
  "kernelspec": {
   "display_name": "Python [conda env:base] *",
   "language": "python",
   "name": "conda-base-py"
  },
  "language_info": {
   "codemirror_mode": {
    "name": "ipython",
    "version": 3
   },
   "file_extension": ".py",
   "mimetype": "text/x-python",
   "name": "python",
   "nbconvert_exporter": "python",
   "pygments_lexer": "ipython3",
   "version": "3.12.2"
  }
 },
 "nbformat": 4,
 "nbformat_minor": 5
}
