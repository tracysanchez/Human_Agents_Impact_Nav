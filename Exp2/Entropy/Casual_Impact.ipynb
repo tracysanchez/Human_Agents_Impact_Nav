{
 "cells": [
  {
   "cell_type": "code",
   "execution_count": 1,
   "id": "f5dbea09",
   "metadata": {},
   "outputs": [],
   "source": [
    "import os\n",
    "import glob\n",
    "import pandas as pd\n",
    "import numpy as np\n",
    "\n"
   ]
  },
  {
   "cell_type": "code",
   "execution_count": 2,
   "id": "07b43725",
   "metadata": {},
   "outputs": [],
   "source": [
    "# Define the directory containing the results\n",
    "results_dir = \"/Volumes/TwoTeras/1_Experiment_2/Entropy_Results/Window/entropy_results/CausalImpact/\"\n",
    "\n",
    "# Load all participant files\n",
    "file_paths = glob.glob(os.path.join(results_dir, \"*.csv\"))\n",
    "\n",
    "# Read and concatenate all data\n",
    "df_list = [pd.read_csv(file) for file in file_paths]\n",
    "df = pd.concat(df_list, ignore_index=True)\n",
    "\n",
    "# Convert time column to datetime\n",
    "df['Gaze_Time'] = pd.to_datetime(df['Gaze_Time'])\n",
    "\n",
    "# Sort by time\n",
    "df = df.sort_values(by=['Participant_ID', 'Gaze_Time']).reset_index(drop=True)\n"
   ]
  },
  {
   "cell_type": "code",
   "execution_count": 3,
   "id": "2717d54d",
   "metadata": {},
   "outputs": [],
   "source": [
    "from causalimpact import CausalImpact\n",
    "\n",
    "\n",
    "# Define pre- and post-event windows\n",
    "df['Time_Index'] = range(1, len(df) + 1)  # Assigns a numerical index to the time series\n",
    "\n",
    "# Set up time series with entropy values\n",
    "time_series = df[['Post_Entropy']].copy()  # Use post-event entropy for impact analysis\n",
    "time_series.index = df['Time_Index']  # Use numerical time index\n",
    "\n",
    "# Define pre-event (control) and post-event (treatment) periods\n",
    "event_point = len(time_series) // 2  # Example: halfway through the dataset\n",
    "pre_period = [1, event_point]  # Before event\n",
    "post_period = [event_point + 1, len(time_series)]  # After event\n"
   ]
  },
  {
   "cell_type": "code",
   "execution_count": 4,
   "id": "d07d58f0",
   "metadata": {},
   "outputs": [
    {
     "name": "stdout",
     "output_type": "stream",
     "text": [
      "            Post_Entropy\n",
      "Time_Index              \n",
      "1               0.653000\n",
      "2               0.932515\n",
      "3               0.770499\n",
      "4               0.427068\n",
      "5               0.459757\n",
      "Post_Entropy    0\n",
      "dtype: int64\n",
      "Pre-Period: [1, 2806]\n",
      "Post-Period: [2807, 5613]\n",
      "Min Time Index: 1\n",
      "Max Time Index: 5613\n"
     ]
    }
   ],
   "source": [
    "print(time_series.head())\n",
    "print(time_series.isna().sum())  # Check for NaNs\n",
    "print(\"Pre-Period:\", pre_period)\n",
    "print(\"Post-Period:\", post_period)\n",
    "print(\"Min Time Index:\", time_series.index.min())\n",
    "print(\"Max Time Index:\", time_series.index.max())\n"
   ]
  },
  {
   "cell_type": "code",
   "execution_count": 5,
   "id": "9246b9fe",
   "metadata": {},
   "outputs": [
    {
     "name": "stdout",
     "output_type": "stream",
     "text": [
      "(5613, 1)\n"
     ]
    },
    {
     "data": {
      "text/html": [
       "<div>\n",
       "<style scoped>\n",
       "    .dataframe tbody tr th:only-of-type {\n",
       "        vertical-align: middle;\n",
       "    }\n",
       "\n",
       "    .dataframe tbody tr th {\n",
       "        vertical-align: top;\n",
       "    }\n",
       "\n",
       "    .dataframe thead th {\n",
       "        text-align: right;\n",
       "    }\n",
       "</style>\n",
       "<table border=\"1\" class=\"dataframe\">\n",
       "  <thead>\n",
       "    <tr style=\"text-align: right;\">\n",
       "      <th></th>\n",
       "      <th>Post_Entropy</th>\n",
       "    </tr>\n",
       "    <tr>\n",
       "      <th>Time_Index</th>\n",
       "      <th></th>\n",
       "    </tr>\n",
       "  </thead>\n",
       "  <tbody>\n",
       "    <tr>\n",
       "      <th>1</th>\n",
       "      <td>0.653000</td>\n",
       "    </tr>\n",
       "    <tr>\n",
       "      <th>2</th>\n",
       "      <td>0.932515</td>\n",
       "    </tr>\n",
       "    <tr>\n",
       "      <th>3</th>\n",
       "      <td>0.770499</td>\n",
       "    </tr>\n",
       "    <tr>\n",
       "      <th>4</th>\n",
       "      <td>0.427068</td>\n",
       "    </tr>\n",
       "    <tr>\n",
       "      <th>5</th>\n",
       "      <td>0.459757</td>\n",
       "    </tr>\n",
       "  </tbody>\n",
       "</table>\n",
       "</div>"
      ],
      "text/plain": [
       "            Post_Entropy\n",
       "Time_Index              \n",
       "1               0.653000\n",
       "2               0.932515\n",
       "3               0.770499\n",
       "4               0.427068\n",
       "5               0.459757"
      ]
     },
     "execution_count": 5,
     "metadata": {},
     "output_type": "execute_result"
    }
   ],
   "source": [
    "print(time_series.shape)\n",
    "time_series.head()"
   ]
  },
  {
   "cell_type": "code",
   "execution_count": 6,
   "id": "38dc0853",
   "metadata": {},
   "outputs": [
    {
     "name": "stdout",
     "output_type": "stream",
     "text": [
      "            Post_Entropy\n",
      "Time_Index              \n",
      "1               0.653000\n",
      "2               0.932515\n",
      "3               0.770499\n",
      "4               0.427068\n",
      "5               0.459757\n",
      "            Post_Entropy\n",
      "Time_Index              \n",
      "2807            0.452935\n",
      "2808            0.456639\n",
      "2809            0.674997\n",
      "2810            0.755798\n",
      "2811            0.805846\n"
     ]
    }
   ],
   "source": [
    "print(time_series.loc[pre_period[0]:pre_period[1]].head())  # Pre-event period\n",
    "print(time_series.loc[post_period[0]:post_period[1]].head())  # Post-event period\n"
   ]
  },
  {
   "cell_type": "code",
   "execution_count": 9,
   "id": "4d0c3466",
   "metadata": {},
   "outputs": [
    {
     "name": "stdout",
     "output_type": "stream",
     "text": [
      "NaN values: Post_Entropy    0\n",
      "dtype: int64\n",
      "Inf values: Post_Entropy    0\n",
      "dtype: int64\n"
     ]
    }
   ],
   "source": [
    "print(\"NaN values:\", time_series.isna().sum())\n",
    "print(\"Inf values:\", (time_series == np.inf).sum() + (time_series == -np.inf).sum())\n"
   ]
  },
  {
   "cell_type": "code",
   "execution_count": 15,
   "id": "418f1b93",
   "metadata": {},
   "outputs": [
    {
     "name": "stdout",
     "output_type": "stream",
     "text": [
      "Statsmodels imported successfully!\n"
     ]
    }
   ],
   "source": [
    "import statsmodels.api as sm\n",
    "print(\"Statsmodels imported successfully!\")"
   ]
  },
  {
   "cell_type": "code",
   "execution_count": 16,
   "id": "0106a119",
   "metadata": {},
   "outputs": [
    {
     "ename": "AttributeError",
     "evalue": "'NoneType' object has no attribute 'loc'",
     "output_type": "error",
     "traceback": [
      "\u001b[0;31m---------------------------------------------------------------------------\u001b[0m",
      "\u001b[0;31mAttributeError\u001b[0m                            Traceback (most recent call last)",
      "Cell \u001b[0;32mIn[16], line 5\u001b[0m\n\u001b[1;32m      2\u001b[0m time_series \u001b[38;5;241m=\u001b[39m time_series\u001b[38;5;241m.\u001b[39mreplace([np\u001b[38;5;241m.\u001b[39minf, \u001b[38;5;241m-\u001b[39mnp\u001b[38;5;241m.\u001b[39minf], np\u001b[38;5;241m.\u001b[39mnan)\u001b[38;5;241m.\u001b[39mdropna()\n\u001b[1;32m      4\u001b[0m ci \u001b[38;5;241m=\u001b[39m CausalImpact(time_series, pre_period, post_period, model_args\u001b[38;5;241m=\u001b[39m{\u001b[38;5;124m'\u001b[39m\u001b[38;5;124mniter\u001b[39m\u001b[38;5;124m'\u001b[39m: \u001b[38;5;241m1000\u001b[39m, \u001b[38;5;124m'\u001b[39m\u001b[38;5;124mprior_level_sd\u001b[39m\u001b[38;5;124m'\u001b[39m: \u001b[38;5;241m0.1\u001b[39m, \u001b[38;5;124m'\u001b[39m\u001b[38;5;124mpymc\u001b[39m\u001b[38;5;124m'\u001b[39m: \u001b[38;5;28;01mFalse\u001b[39;00m})\n\u001b[0;32m----> 5\u001b[0m \u001b[38;5;28mprint\u001b[39m(ci\u001b[38;5;241m.\u001b[39msummary())\n\u001b[1;32m      6\u001b[0m ci\u001b[38;5;241m.\u001b[39mplot()\n",
      "File \u001b[0;32m~/anaconda3/lib/python3.11/site-packages/causalimpact/analysis.py:729\u001b[0m, in \u001b[0;36mCausalImpact.summary\u001b[0;34m(self, output, width, path)\u001b[0m\n\u001b[1;32m    727\u001b[0m confidence \u001b[38;5;241m=\u001b[39m \u001b[38;5;124m\"\u001b[39m\u001b[38;5;132;01m{}\u001b[39;00m\u001b[38;5;124m%\u001b[39m\u001b[38;5;124m\"\u001b[39m\u001b[38;5;241m.\u001b[39mformat(\u001b[38;5;28mint\u001b[39m((\u001b[38;5;241m1\u001b[39m \u001b[38;5;241m-\u001b[39m alpha) \u001b[38;5;241m*\u001b[39m \u001b[38;5;241m100\u001b[39m))\n\u001b[1;32m    728\u001b[0m post_period \u001b[38;5;241m=\u001b[39m \u001b[38;5;28mself\u001b[39m\u001b[38;5;241m.\u001b[39mparams[\u001b[38;5;124m\"\u001b[39m\u001b[38;5;124mpost_period\u001b[39m\u001b[38;5;124m\"\u001b[39m]\n\u001b[0;32m--> 729\u001b[0m post_inf \u001b[38;5;241m=\u001b[39m \u001b[38;5;28mself\u001b[39m\u001b[38;5;241m.\u001b[39minferences\u001b[38;5;241m.\u001b[39mloc[post_period[\u001b[38;5;241m0\u001b[39m] : post_period[\u001b[38;5;241m1\u001b[39m], :]\n\u001b[1;32m    730\u001b[0m post_point_resp \u001b[38;5;241m=\u001b[39m post_inf\u001b[38;5;241m.\u001b[39mloc[:, \u001b[38;5;124m\"\u001b[39m\u001b[38;5;124mresponse\u001b[39m\u001b[38;5;124m\"\u001b[39m]\n\u001b[1;32m    731\u001b[0m post_point_pred \u001b[38;5;241m=\u001b[39m post_inf\u001b[38;5;241m.\u001b[39mloc[:, \u001b[38;5;124m\"\u001b[39m\u001b[38;5;124mpoint_pred\u001b[39m\u001b[38;5;124m\"\u001b[39m]\n",
      "\u001b[0;31mAttributeError\u001b[0m: 'NoneType' object has no attribute 'loc'"
     ]
    }
   ],
   "source": [
    "time_series = time_series.dropna()\n",
    "time_series = time_series.replace([np.inf, -np.inf], np.nan).dropna()\n",
    "\n",
    "ci = CausalImpact(time_series, pre_period, post_period, model_args={'niter': 1000, 'prior_level_sd': 0.1, 'pymc': False})\n",
    "print(ci.summary())\n",
    "ci.plot()\n",
    "\n"
   ]
  },
  {
   "cell_type": "code",
   "execution_count": 17,
   "id": "d8804d84",
   "metadata": {},
   "outputs": [
    {
     "name": "stdout",
     "output_type": "stream",
     "text": [
      "Params:\n",
      " {'data':             Post_Entropy\n",
      "Time_Index              \n",
      "1               0.653000\n",
      "2               0.932515\n",
      "3               0.770499\n",
      "4               0.427068\n",
      "5               0.459757\n",
      "...                  ...\n",
      "5609            0.842905\n",
      "5610            0.773489\n",
      "5611            0.475900\n",
      "5612            0.577328\n",
      "5613            0.681094\n",
      "\n",
      "[5613 rows x 1 columns], 'pre_period': [1, 49], 'post_period': [50, 100], 'model_args': {'niter': 1000, 'prior_level_sd': 0.1, 'pymc': False}, 'ucm_model': None, 'post_period_response': None, 'alpha': 0.05, 'estimation': 'MLE'}\n",
      "Results:\n",
      " No results generated\n",
      "Inferences:\n",
      " No inferences generated\n"
     ]
    }
   ],
   "source": [
    "print(\"Params:\\n\", ci.params)\n",
    "print(\"Results:\\n\", ci.results if ci.results is not None else \"No results generated\")\n",
    "print(\"Inferences:\\n\", ci.inferences if ci.inferences is not None else \"No inferences generated\")\n"
   ]
  },
  {
   "cell_type": "code",
   "execution_count": 18,
   "id": "1974cfc1",
   "metadata": {},
   "outputs": [
    {
     "ename": "AttributeError",
     "evalue": "'NoneType' object has no attribute 'loc'",
     "output_type": "error",
     "traceback": [
      "\u001b[0;31m---------------------------------------------------------------------------\u001b[0m",
      "\u001b[0;31mAttributeError\u001b[0m                            Traceback (most recent call last)",
      "Cell \u001b[0;32mIn[18], line 2\u001b[0m\n\u001b[1;32m      1\u001b[0m ci \u001b[38;5;241m=\u001b[39m CausalImpact(data, pre_period, post_period, model_args\u001b[38;5;241m=\u001b[39m{\u001b[38;5;124m'\u001b[39m\u001b[38;5;124mpymc\u001b[39m\u001b[38;5;124m'\u001b[39m: \u001b[38;5;28;01mFalse\u001b[39;00m, \u001b[38;5;124m'\u001b[39m\u001b[38;5;124mprior_level_sd\u001b[39m\u001b[38;5;124m'\u001b[39m: \u001b[38;5;241m0.01\u001b[39m})\n\u001b[0;32m----> 2\u001b[0m \u001b[38;5;28mprint\u001b[39m(ci\u001b[38;5;241m.\u001b[39msummary())\n\u001b[1;32m      3\u001b[0m ci\u001b[38;5;241m.\u001b[39mplot()\n",
      "File \u001b[0;32m~/anaconda3/lib/python3.11/site-packages/causalimpact/analysis.py:729\u001b[0m, in \u001b[0;36mCausalImpact.summary\u001b[0;34m(self, output, width, path)\u001b[0m\n\u001b[1;32m    727\u001b[0m confidence \u001b[38;5;241m=\u001b[39m \u001b[38;5;124m\"\u001b[39m\u001b[38;5;132;01m{}\u001b[39;00m\u001b[38;5;124m%\u001b[39m\u001b[38;5;124m\"\u001b[39m\u001b[38;5;241m.\u001b[39mformat(\u001b[38;5;28mint\u001b[39m((\u001b[38;5;241m1\u001b[39m \u001b[38;5;241m-\u001b[39m alpha) \u001b[38;5;241m*\u001b[39m \u001b[38;5;241m100\u001b[39m))\n\u001b[1;32m    728\u001b[0m post_period \u001b[38;5;241m=\u001b[39m \u001b[38;5;28mself\u001b[39m\u001b[38;5;241m.\u001b[39mparams[\u001b[38;5;124m\"\u001b[39m\u001b[38;5;124mpost_period\u001b[39m\u001b[38;5;124m\"\u001b[39m]\n\u001b[0;32m--> 729\u001b[0m post_inf \u001b[38;5;241m=\u001b[39m \u001b[38;5;28mself\u001b[39m\u001b[38;5;241m.\u001b[39minferences\u001b[38;5;241m.\u001b[39mloc[post_period[\u001b[38;5;241m0\u001b[39m] : post_period[\u001b[38;5;241m1\u001b[39m], :]\n\u001b[1;32m    730\u001b[0m post_point_resp \u001b[38;5;241m=\u001b[39m post_inf\u001b[38;5;241m.\u001b[39mloc[:, \u001b[38;5;124m\"\u001b[39m\u001b[38;5;124mresponse\u001b[39m\u001b[38;5;124m\"\u001b[39m]\n\u001b[1;32m    731\u001b[0m post_point_pred \u001b[38;5;241m=\u001b[39m post_inf\u001b[38;5;241m.\u001b[39mloc[:, \u001b[38;5;124m\"\u001b[39m\u001b[38;5;124mpoint_pred\u001b[39m\u001b[38;5;124m\"\u001b[39m]\n",
      "\u001b[0;31mAttributeError\u001b[0m: 'NoneType' object has no attribute 'loc'"
     ]
    }
   ],
   "source": [
    "ci = CausalImpact(data, pre_period, post_period, model_args={'pymc': False, 'prior_level_sd': 0.01})\n",
    "print(ci.summary())\n",
    "ci.plot()\n"
   ]
  },
  {
   "cell_type": "code",
   "execution_count": 19,
   "id": "aa7629b0",
   "metadata": {},
   "outputs": [
    {
     "name": "stdout",
     "output_type": "stream",
     "text": [
      "Model coefficients: const   -0.035398\n",
      "x1      -0.007365\n",
      "dtype: float64\n"
     ]
    },
    {
     "ename": "AttributeError",
     "evalue": "'numpy.ndarray' object has no attribute 'head'",
     "output_type": "error",
     "traceback": [
      "\u001b[0;31m---------------------------------------------------------------------------\u001b[0m",
      "\u001b[0;31mAttributeError\u001b[0m                            Traceback (most recent call last)",
      "Cell \u001b[0;32mIn[19], line 17\u001b[0m\n\u001b[1;32m     14\u001b[0m predictions \u001b[38;5;241m=\u001b[39m model\u001b[38;5;241m.\u001b[39mpredict(X_post)\n\u001b[1;32m     16\u001b[0m \u001b[38;5;28mprint\u001b[39m(\u001b[38;5;124m\"\u001b[39m\u001b[38;5;124mModel coefficients:\u001b[39m\u001b[38;5;124m\"\u001b[39m, model\u001b[38;5;241m.\u001b[39mparams)\n\u001b[0;32m---> 17\u001b[0m \u001b[38;5;28mprint\u001b[39m(\u001b[38;5;124m\"\u001b[39m\u001b[38;5;124mPredictions:\u001b[39m\u001b[38;5;130;01m\\n\u001b[39;00m\u001b[38;5;124m\"\u001b[39m, predictions\u001b[38;5;241m.\u001b[39mhead())\n\u001b[1;32m     19\u001b[0m \u001b[38;5;66;03m# Plot results\u001b[39;00m\n\u001b[1;32m     20\u001b[0m \u001b[38;5;28;01mimport\u001b[39;00m \u001b[38;5;21;01mmatplotlib\u001b[39;00m\u001b[38;5;21;01m.\u001b[39;00m\u001b[38;5;21;01mpyplot\u001b[39;00m \u001b[38;5;28;01mas\u001b[39;00m \u001b[38;5;21;01mplt\u001b[39;00m\n",
      "\u001b[0;31mAttributeError\u001b[0m: 'numpy.ndarray' object has no attribute 'head'"
     ]
    }
   ],
   "source": [
    "import statsmodels.api as sm\n",
    "\n",
    "# Extract pre-period data\n",
    "pre_data = data.iloc[pre_period[0]:pre_period[1]]\n",
    "\n",
    "# Fit a simple linear model\n",
    "X = sm.add_constant(range(len(pre_data)))\n",
    "y = pre_data[\"y\"]\n",
    "model = sm.OLS(y, X).fit()\n",
    "\n",
    "# Predict post-period\n",
    "post_data = data.iloc[post_period[0]:post_period[1]]\n",
    "X_post = sm.add_constant(range(len(post_data)))\n",
    "predictions = model.predict(X_post)\n",
    "\n",
    "print(\"Model coefficients:\", model.params)\n",
    "print(\"Predictions:\\n\", predictions.head())\n",
    "\n",
    "# Plot results\n",
    "import matplotlib.pyplot as plt\n",
    "plt.figure(figsize=(10,5))\n",
    "plt.plot(pre_data.index, pre_data[\"y\"], label=\"Pre-event Data\")\n",
    "plt.plot(post_data.index, post_data[\"y\"], label=\"Post-event Data\")\n",
    "plt.plot(post_data.index, predictions, label=\"Predicted Data\", linestyle=\"dashed\")\n",
    "plt.legend()\n",
    "plt.show()\n"
   ]
  },
  {
   "cell_type": "code",
   "execution_count": 20,
   "id": "f9fad3b4",
   "metadata": {},
   "outputs": [
    {
     "name": "stdout",
     "output_type": "stream",
     "text": [
      "Predictions:\n",
      "           0\n",
      "0 -0.035398\n",
      "1 -0.042764\n",
      "2 -0.050129\n",
      "3 -0.057495\n",
      "4 -0.064860\n"
     ]
    }
   ],
   "source": [
    "print(\"Predictions:\\n\", pd.DataFrame(predictions).head())\n"
   ]
  },
  {
   "cell_type": "code",
   "execution_count": 21,
   "id": "9826c2b2",
   "metadata": {},
   "outputs": [
    {
     "name": "stdout",
     "output_type": "stream",
     "text": [
      "CausalImpact Model Parameters: {'data':            y\n",
      "0   0.496714\n",
      "1  -0.138264\n",
      "2   0.647689\n",
      "3   1.523030\n",
      "4  -0.234153\n",
      "..       ...\n",
      "95  1.536485\n",
      "96  3.296120\n",
      "97  3.261055\n",
      "98  3.005113\n",
      "99  2.765413\n",
      "\n",
      "[100 rows x 1 columns], 'pre_period': [1, 49], 'post_period': [50, 100], 'model_args': {'pymc': False}, 'ucm_model': None, 'post_period_response': None, 'alpha': 0.05, 'estimation': 'MLE'}\n",
      "CausalImpact Results: No results generated\n",
      "CausalImpact Inferences: No inferences generated\n",
      "CausalImpact error: 'NoneType' object has no attribute 'loc'\n"
     ]
    }
   ],
   "source": [
    "import logging\n",
    "\n",
    "logging.basicConfig(level=logging.DEBUG)  # Enable debug logging\n",
    "logger = logging.getLogger()\n",
    "logger.setLevel(logging.DEBUG)\n",
    "\n",
    "try:\n",
    "    ci = CausalImpact(data, pre_period, post_period, model_args={'pymc': False})\n",
    "    print(\"CausalImpact Model Parameters:\", ci.params)\n",
    "    print(\"CausalImpact Results:\", ci.results if ci.results is not None else \"No results generated\")\n",
    "    print(\"CausalImpact Inferences:\", ci.inferences if ci.inferences is not None else \"No inferences generated\")\n",
    "    print(ci.summary())\n",
    "    ci.plot()\n",
    "except Exception as e:\n",
    "    print(\"CausalImpact error:\", e)\n"
   ]
  },
  {
   "cell_type": "code",
   "execution_count": 22,
   "id": "0345c8cf",
   "metadata": {},
   "outputs": [
    {
     "ename": "AttributeError",
     "evalue": "'NoneType' object has no attribute 'loc'",
     "output_type": "error",
     "traceback": [
      "\u001b[0;31m---------------------------------------------------------------------------\u001b[0m",
      "\u001b[0;31mAttributeError\u001b[0m                            Traceback (most recent call last)",
      "Cell \u001b[0;32mIn[22], line 2\u001b[0m\n\u001b[1;32m      1\u001b[0m ci \u001b[38;5;241m=\u001b[39m CausalImpact(data, pre_period, post_period, model_args\u001b[38;5;241m=\u001b[39m{\u001b[38;5;124m'\u001b[39m\u001b[38;5;124mprior_level_sd\u001b[39m\u001b[38;5;124m'\u001b[39m: \u001b[38;5;241m0.01\u001b[39m, \u001b[38;5;124m'\u001b[39m\u001b[38;5;124mpymc\u001b[39m\u001b[38;5;124m'\u001b[39m: \u001b[38;5;28;01mFalse\u001b[39;00m})\n\u001b[0;32m----> 2\u001b[0m \u001b[38;5;28mprint\u001b[39m(ci\u001b[38;5;241m.\u001b[39msummary())\n\u001b[1;32m      3\u001b[0m ci\u001b[38;5;241m.\u001b[39mplot()\n",
      "File \u001b[0;32m~/anaconda3/lib/python3.11/site-packages/causalimpact/analysis.py:729\u001b[0m, in \u001b[0;36mCausalImpact.summary\u001b[0;34m(self, output, width, path)\u001b[0m\n\u001b[1;32m    727\u001b[0m confidence \u001b[38;5;241m=\u001b[39m \u001b[38;5;124m\"\u001b[39m\u001b[38;5;132;01m{}\u001b[39;00m\u001b[38;5;124m%\u001b[39m\u001b[38;5;124m\"\u001b[39m\u001b[38;5;241m.\u001b[39mformat(\u001b[38;5;28mint\u001b[39m((\u001b[38;5;241m1\u001b[39m \u001b[38;5;241m-\u001b[39m alpha) \u001b[38;5;241m*\u001b[39m \u001b[38;5;241m100\u001b[39m))\n\u001b[1;32m    728\u001b[0m post_period \u001b[38;5;241m=\u001b[39m \u001b[38;5;28mself\u001b[39m\u001b[38;5;241m.\u001b[39mparams[\u001b[38;5;124m\"\u001b[39m\u001b[38;5;124mpost_period\u001b[39m\u001b[38;5;124m\"\u001b[39m]\n\u001b[0;32m--> 729\u001b[0m post_inf \u001b[38;5;241m=\u001b[39m \u001b[38;5;28mself\u001b[39m\u001b[38;5;241m.\u001b[39minferences\u001b[38;5;241m.\u001b[39mloc[post_period[\u001b[38;5;241m0\u001b[39m] : post_period[\u001b[38;5;241m1\u001b[39m], :]\n\u001b[1;32m    730\u001b[0m post_point_resp \u001b[38;5;241m=\u001b[39m post_inf\u001b[38;5;241m.\u001b[39mloc[:, \u001b[38;5;124m\"\u001b[39m\u001b[38;5;124mresponse\u001b[39m\u001b[38;5;124m\"\u001b[39m]\n\u001b[1;32m    731\u001b[0m post_point_pred \u001b[38;5;241m=\u001b[39m post_inf\u001b[38;5;241m.\u001b[39mloc[:, \u001b[38;5;124m\"\u001b[39m\u001b[38;5;124mpoint_pred\u001b[39m\u001b[38;5;124m\"\u001b[39m]\n",
      "\u001b[0;31mAttributeError\u001b[0m: 'NoneType' object has no attribute 'loc'"
     ]
    }
   ],
   "source": [
    "ci = CausalImpact(data, pre_period, post_period, model_args={'prior_level_sd': 0.01, 'pymc': False})\n",
    "print(ci.summary())\n",
    "ci.plot()\n"
   ]
  },
  {
   "cell_type": "code",
   "execution_count": 23,
   "id": "be70cac5",
   "metadata": {},
   "outputs": [
    {
     "ename": "AttributeError",
     "evalue": "'NoneType' object has no attribute 'loc'",
     "output_type": "error",
     "traceback": [
      "\u001b[0;31m---------------------------------------------------------------------------\u001b[0m",
      "\u001b[0;31mAttributeError\u001b[0m                            Traceback (most recent call last)",
      "Cell \u001b[0;32mIn[23], line 16\u001b[0m\n\u001b[1;32m     14\u001b[0m \u001b[38;5;66;03m# Run CausalImpact\u001b[39;00m\n\u001b[1;32m     15\u001b[0m ci_test \u001b[38;5;241m=\u001b[39m CausalImpact(data, pre_period, post_period, model_args\u001b[38;5;241m=\u001b[39m{\u001b[38;5;124m'\u001b[39m\u001b[38;5;124mpymc\u001b[39m\u001b[38;5;124m'\u001b[39m: \u001b[38;5;28;01mFalse\u001b[39;00m})\n\u001b[0;32m---> 16\u001b[0m \u001b[38;5;28mprint\u001b[39m(ci_test\u001b[38;5;241m.\u001b[39msummary())\n\u001b[1;32m     17\u001b[0m ci_test\u001b[38;5;241m.\u001b[39mplot()\n",
      "File \u001b[0;32m~/anaconda3/lib/python3.11/site-packages/causalimpact/analysis.py:729\u001b[0m, in \u001b[0;36mCausalImpact.summary\u001b[0;34m(self, output, width, path)\u001b[0m\n\u001b[1;32m    727\u001b[0m confidence \u001b[38;5;241m=\u001b[39m \u001b[38;5;124m\"\u001b[39m\u001b[38;5;132;01m{}\u001b[39;00m\u001b[38;5;124m%\u001b[39m\u001b[38;5;124m\"\u001b[39m\u001b[38;5;241m.\u001b[39mformat(\u001b[38;5;28mint\u001b[39m((\u001b[38;5;241m1\u001b[39m \u001b[38;5;241m-\u001b[39m alpha) \u001b[38;5;241m*\u001b[39m \u001b[38;5;241m100\u001b[39m))\n\u001b[1;32m    728\u001b[0m post_period \u001b[38;5;241m=\u001b[39m \u001b[38;5;28mself\u001b[39m\u001b[38;5;241m.\u001b[39mparams[\u001b[38;5;124m\"\u001b[39m\u001b[38;5;124mpost_period\u001b[39m\u001b[38;5;124m\"\u001b[39m]\n\u001b[0;32m--> 729\u001b[0m post_inf \u001b[38;5;241m=\u001b[39m \u001b[38;5;28mself\u001b[39m\u001b[38;5;241m.\u001b[39minferences\u001b[38;5;241m.\u001b[39mloc[post_period[\u001b[38;5;241m0\u001b[39m] : post_period[\u001b[38;5;241m1\u001b[39m], :]\n\u001b[1;32m    730\u001b[0m post_point_resp \u001b[38;5;241m=\u001b[39m post_inf\u001b[38;5;241m.\u001b[39mloc[:, \u001b[38;5;124m\"\u001b[39m\u001b[38;5;124mresponse\u001b[39m\u001b[38;5;124m\"\u001b[39m]\n\u001b[1;32m    731\u001b[0m post_point_pred \u001b[38;5;241m=\u001b[39m post_inf\u001b[38;5;241m.\u001b[39mloc[:, \u001b[38;5;124m\"\u001b[39m\u001b[38;5;124mpoint_pred\u001b[39m\u001b[38;5;124m\"\u001b[39m]\n",
      "\u001b[0;31mAttributeError\u001b[0m: 'NoneType' object has no attribute 'loc'"
     ]
    }
   ],
   "source": [
    "import numpy as np\n",
    "import pandas as pd\n",
    "from causalimpact import CausalImpact\n",
    "\n",
    "# Generate Fake Data\n",
    "np.random.seed(42)\n",
    "data = pd.DataFrame(np.random.randn(100, 1), columns=[\"y\"])\n",
    "data.iloc[50:, 0] += 3  # Introduce an effect\n",
    "\n",
    "# Define Pre/Post Periods\n",
    "pre_period = [1, 49]\n",
    "post_period = [50, 100]\n",
    "\n",
    "# Run CausalImpact\n",
    "ci_test = CausalImpact(data, pre_period, post_period, model_args={'pymc': False})\n",
    "print(ci_test.summary())\n",
    "ci_test.plot()\n"
   ]
  },
  {
   "cell_type": "code",
   "execution_count": 11,
   "id": "87cf8b19",
   "metadata": {},
   "outputs": [
    {
     "ename": "AttributeError",
     "evalue": "'NoneType' object has no attribute 'iloc'",
     "output_type": "error",
     "traceback": [
      "\u001b[0;31m---------------------------------------------------------------------------\u001b[0m",
      "\u001b[0;31mAttributeError\u001b[0m                            Traceback (most recent call last)",
      "Cell \u001b[0;32mIn[11], line 16\u001b[0m\n\u001b[1;32m     14\u001b[0m \u001b[38;5;66;03m# Run CausalImpact\u001b[39;00m\n\u001b[1;32m     15\u001b[0m ci \u001b[38;5;241m=\u001b[39m CausalImpact(data, pre_period, post_period)\n\u001b[0;32m---> 16\u001b[0m ci\u001b[38;5;241m.\u001b[39mplot()\n\u001b[1;32m     17\u001b[0m \u001b[38;5;28mprint\u001b[39m(ci\u001b[38;5;241m.\u001b[39msummary())\n",
      "File \u001b[0;32m~/anaconda3/lib/python3.11/site-packages/causalimpact/analysis.py:876\u001b[0m, in \u001b[0;36mCausalImpact.plot\u001b[0;34m(self, panels, figsize, fname)\u001b[0m\n\u001b[1;32m    873\u001b[0m \u001b[38;5;28;01mif\u001b[39;00m \u001b[38;5;28misinstance\u001b[39m(data_inter, pd\u001b[38;5;241m.\u001b[39mDatetimeIndex):\n\u001b[1;32m    874\u001b[0m     data_inter \u001b[38;5;241m=\u001b[39m pd\u001b[38;5;241m.\u001b[39mTimestamp(data_inter)\n\u001b[0;32m--> 876\u001b[0m inferences \u001b[38;5;241m=\u001b[39m \u001b[38;5;28mself\u001b[39m\u001b[38;5;241m.\u001b[39minferences\u001b[38;5;241m.\u001b[39miloc[\u001b[38;5;241m1\u001b[39m:, :]\n\u001b[1;32m    878\u001b[0m \u001b[38;5;66;03m# Observation and regression components\u001b[39;00m\n\u001b[1;32m    879\u001b[0m \u001b[38;5;28;01mif\u001b[39;00m \u001b[38;5;124m\"\u001b[39m\u001b[38;5;124moriginal\u001b[39m\u001b[38;5;124m\"\u001b[39m \u001b[38;5;129;01min\u001b[39;00m panels:\n",
      "\u001b[0;31mAttributeError\u001b[0m: 'NoneType' object has no attribute 'iloc'"
     ]
    },
    {
     "data": {
      "text/plain": [
       "<Figure size 1500x1200 with 0 Axes>"
      ]
     },
     "metadata": {},
     "output_type": "display_data"
    }
   ],
   "source": [
    "import numpy as np\n",
    "import pandas as pd\n",
    "from causalimpact import CausalImpact\n",
    "\n",
    "# Generate fake data\n",
    "np.random.seed(42)\n",
    "data = pd.DataFrame(np.random.randn(100, 1), columns=[\"y\"])\n",
    "data.iloc[50:, 0] += 3  # Introduce an effect\n",
    "\n",
    "# Define pre/post periods\n",
    "pre_period = [1, 49]\n",
    "post_period = [50, 100]\n",
    "\n",
    "# Run CausalImpact\n",
    "ci = CausalImpact(data, pre_period, post_period)\n",
    "ci.plot()\n",
    "print(ci.summary())\n"
   ]
  },
  {
   "cell_type": "code",
   "execution_count": 13,
   "id": "c6bb4fc3",
   "metadata": {},
   "outputs": [
    {
     "ename": "AttributeError",
     "evalue": "'NoneType' object has no attribute 'loc'",
     "output_type": "error",
     "traceback": [
      "\u001b[0;31m---------------------------------------------------------------------------\u001b[0m",
      "\u001b[0;31mAttributeError\u001b[0m                            Traceback (most recent call last)",
      "Cell \u001b[0;32mIn[13], line 2\u001b[0m\n\u001b[1;32m      1\u001b[0m ci \u001b[38;5;241m=\u001b[39m CausalImpact(data, pre_period, post_period, model_args\u001b[38;5;241m=\u001b[39m{\u001b[38;5;124m'\u001b[39m\u001b[38;5;124mpymc\u001b[39m\u001b[38;5;124m'\u001b[39m: \u001b[38;5;28;01mFalse\u001b[39;00m})\n\u001b[0;32m----> 2\u001b[0m \u001b[38;5;28mprint\u001b[39m(ci\u001b[38;5;241m.\u001b[39msummary())\n\u001b[1;32m      3\u001b[0m ci\u001b[38;5;241m.\u001b[39mplot()\n",
      "File \u001b[0;32m~/anaconda3/lib/python3.11/site-packages/causalimpact/analysis.py:729\u001b[0m, in \u001b[0;36mCausalImpact.summary\u001b[0;34m(self, output, width, path)\u001b[0m\n\u001b[1;32m    727\u001b[0m confidence \u001b[38;5;241m=\u001b[39m \u001b[38;5;124m\"\u001b[39m\u001b[38;5;132;01m{}\u001b[39;00m\u001b[38;5;124m%\u001b[39m\u001b[38;5;124m\"\u001b[39m\u001b[38;5;241m.\u001b[39mformat(\u001b[38;5;28mint\u001b[39m((\u001b[38;5;241m1\u001b[39m \u001b[38;5;241m-\u001b[39m alpha) \u001b[38;5;241m*\u001b[39m \u001b[38;5;241m100\u001b[39m))\n\u001b[1;32m    728\u001b[0m post_period \u001b[38;5;241m=\u001b[39m \u001b[38;5;28mself\u001b[39m\u001b[38;5;241m.\u001b[39mparams[\u001b[38;5;124m\"\u001b[39m\u001b[38;5;124mpost_period\u001b[39m\u001b[38;5;124m\"\u001b[39m]\n\u001b[0;32m--> 729\u001b[0m post_inf \u001b[38;5;241m=\u001b[39m \u001b[38;5;28mself\u001b[39m\u001b[38;5;241m.\u001b[39minferences\u001b[38;5;241m.\u001b[39mloc[post_period[\u001b[38;5;241m0\u001b[39m] : post_period[\u001b[38;5;241m1\u001b[39m], :]\n\u001b[1;32m    730\u001b[0m post_point_resp \u001b[38;5;241m=\u001b[39m post_inf\u001b[38;5;241m.\u001b[39mloc[:, \u001b[38;5;124m\"\u001b[39m\u001b[38;5;124mresponse\u001b[39m\u001b[38;5;124m\"\u001b[39m]\n\u001b[1;32m    731\u001b[0m post_point_pred \u001b[38;5;241m=\u001b[39m post_inf\u001b[38;5;241m.\u001b[39mloc[:, \u001b[38;5;124m\"\u001b[39m\u001b[38;5;124mpoint_pred\u001b[39m\u001b[38;5;124m\"\u001b[39m]\n",
      "\u001b[0;31mAttributeError\u001b[0m: 'NoneType' object has no attribute 'loc'"
     ]
    }
   ],
   "source": [
    "ci = CausalImpact(data, pre_period, post_period, model_args={'pymc': False})\n",
    "print(ci.summary())\n",
    "ci.plot()\n"
   ]
  },
  {
   "cell_type": "code",
   "execution_count": 14,
   "id": "23319555",
   "metadata": {},
   "outputs": [
    {
     "name": "stdout",
     "output_type": "stream",
     "text": [
      "PyMC imported successfully!\n"
     ]
    }
   ],
   "source": [
    "import pymc as pm\n",
    "print(\"PyMC imported successfully!\")\n"
   ]
  },
  {
   "cell_type": "code",
   "execution_count": 12,
   "id": "9bd3c408",
   "metadata": {},
   "outputs": [
    {
     "name": "stdout",
     "output_type": "stream",
     "text": [
      "CausalImpact ran successfully.\n",
      "CausalImpact error: 'NoneType' object has no attribute 'loc'\n"
     ]
    }
   ],
   "source": [
    "try:\n",
    "    ci = CausalImpact(data, pre_period, post_period)\n",
    "    print(\"CausalImpact ran successfully.\")\n",
    "    print(ci.summary())\n",
    "except Exception as e:\n",
    "    print(\"CausalImpact error:\", e)\n"
   ]
  },
  {
   "cell_type": "code",
   "execution_count": 10,
   "id": "77d41400",
   "metadata": {},
   "outputs": [
    {
     "name": "stdout",
     "output_type": "stream",
     "text": [
      "CausalImpact imported successfully!\n"
     ]
    }
   ],
   "source": [
    "from causalimpact import CausalImpact\n",
    "print(\"CausalImpact imported successfully!\")"
   ]
  },
  {
   "cell_type": "code",
   "execution_count": null,
   "id": "6b527bf9",
   "metadata": {},
   "outputs": [],
   "source": []
  },
  {
   "cell_type": "code",
   "execution_count": 7,
   "id": "ef7e816d",
   "metadata": {},
   "outputs": [
    {
     "ename": "NameError",
     "evalue": "name 'ci' is not defined",
     "output_type": "error",
     "traceback": [
      "\u001b[0;31m---------------------------------------------------------------------------\u001b[0m",
      "\u001b[0;31mNameError\u001b[0m                                 Traceback (most recent call last)",
      "Cell \u001b[0;32mIn[7], line 1\u001b[0m\n\u001b[0;32m----> 1\u001b[0m \u001b[38;5;28mprint\u001b[39m(\u001b[38;5;124m\"\u001b[39m\u001b[38;5;124mSeries Data:\u001b[39m\u001b[38;5;130;01m\\n\u001b[39;00m\u001b[38;5;124m\"\u001b[39m, ci\u001b[38;5;241m.\u001b[39mseries\u001b[38;5;241m.\u001b[39mhead())\n\u001b[1;32m      2\u001b[0m \u001b[38;5;28mprint\u001b[39m(\u001b[38;5;124m\"\u001b[39m\u001b[38;5;124mParams:\u001b[39m\u001b[38;5;130;01m\\n\u001b[39;00m\u001b[38;5;124m\"\u001b[39m, ci\u001b[38;5;241m.\u001b[39mparams)\n\u001b[1;32m      3\u001b[0m \u001b[38;5;28mprint\u001b[39m(\u001b[38;5;124m\"\u001b[39m\u001b[38;5;124mResults:\u001b[39m\u001b[38;5;130;01m\\n\u001b[39;00m\u001b[38;5;124m\"\u001b[39m, ci\u001b[38;5;241m.\u001b[39mresults \u001b[38;5;28;01mif\u001b[39;00m ci\u001b[38;5;241m.\u001b[39mresults \u001b[38;5;129;01mis\u001b[39;00m \u001b[38;5;129;01mnot\u001b[39;00m \u001b[38;5;28;01mNone\u001b[39;00m \u001b[38;5;28;01melse\u001b[39;00m \u001b[38;5;124m\"\u001b[39m\u001b[38;5;124mNo results generated\u001b[39m\u001b[38;5;124m\"\u001b[39m)\n",
      "\u001b[0;31mNameError\u001b[0m: name 'ci' is not defined"
     ]
    }
   ],
   "source": [
    "print(\"Series Data:\\n\", ci.series.head())\n",
    "print(\"Params:\\n\", ci.params)\n",
    "print(\"Results:\\n\", ci.results if ci.results is not None else \"No results generated\")\n",
    "print(\"Inferences:\\n\", ci.inferences if ci.inferences is not None else \"No inferences generated\")\n"
   ]
  },
  {
   "cell_type": "code",
   "execution_count": null,
   "id": "016ce059",
   "metadata": {},
   "outputs": [],
   "source": [
    "from statsmodels.tsa.api import ExponentialSmoothing\n",
    "\n",
    "# Fit a time series model to check if trend estimation works\n",
    "pre_data = time_series.iloc[:2806]\n",
    "post_data = time_series.iloc[2807:]\n",
    "\n",
    "model = ExponentialSmoothing(pre_data, trend='add', seasonal=None, damped_trend=True)\n",
    "fit = model.fit()\n",
    "\n",
    "# Predict on post-period\n",
    "forecast = fit.forecast(steps=len(post_data))\n",
    "\n",
    "print(\"Model successfully fit. Forecast results:\")\n",
    "print(forecast.head())\n",
    "\n",
    "# Plot results\n",
    "import matplotlib.pyplot as plt\n",
    "plt.figure(figsize=(10,5))\n",
    "plt.plot(pre_data, label=\"Pre-event Data\")\n",
    "plt.plot(post_data, label=\"Post-event Data\")\n",
    "plt.plot(forecast, label=\"Forecasted Data\", linestyle=\"dashed\")\n",
    "plt.legend()\n",
    "plt.show()\n"
   ]
  },
  {
   "cell_type": "code",
   "execution_count": null,
   "id": "ac9c9c23",
   "metadata": {},
   "outputs": [],
   "source": [
    "import logging\n",
    "\n",
    "logging.basicConfig(level=logging.DEBUG)  # Enable debug logging\n",
    "logger = logging.getLogger()\n",
    "logger.setLevel(logging.DEBUG)\n",
    "\n",
    "try:\n",
    "    ci = CausalImpact(time_series, pre_period, post_period, model_args={'pymc': False})\n",
    "    print(ci.summary())\n",
    "    ci.plot()\n",
    "except Exception as e:\n",
    "    print(\"CausalImpact Error:\", e)\n"
   ]
  },
  {
   "cell_type": "code",
   "execution_count": null,
   "id": "067c1739",
   "metadata": {},
   "outputs": [],
   "source": [
    "from statsmodels.tsa.arima.model import ARIMA\n",
    "\n",
    "pre_data = time_series.iloc[:2806]\n",
    "post_data = time_series.iloc[2807:]\n",
    "\n",
    "# Fit an ARIMA model\n",
    "model = ARIMA(pre_data, order=(1,1,1))\n",
    "fit = model.fit()\n",
    "\n",
    "# Forecast the post-event period\n",
    "forecast = fit.forecast(steps=len(post_data))\n",
    "\n",
    "# Plot results\n",
    "import matplotlib.pyplot as plt\n",
    "plt.figure(figsize=(10,5))\n",
    "plt.plot(pre_data, label=\"Pre-event Data\")\n",
    "plt.plot(post_data, label=\"Post-event Data\")\n",
    "plt.plot(forecast, label=\"ARIMA Forecast\", linestyle=\"dashed\")\n",
    "plt.legend()\n",
    "plt.show()\n"
   ]
  },
  {
   "cell_type": "code",
   "execution_count": null,
   "id": "35efe114",
   "metadata": {},
   "outputs": [],
   "source": [
    "ci = CausalImpact(time_series, pre_period, post_period, model_args={'niter': 1000, 'prior_level_sd': 0.01, 'pymc': False})\n",
    "print(ci.summary())\n",
    "ci.plot()\n"
   ]
  },
  {
   "cell_type": "code",
   "execution_count": null,
   "id": "75f4face",
   "metadata": {},
   "outputs": [],
   "source": [
    "print(\"Series Data:\\n\", ci.series.head())\n",
    "print(\"Params:\\n\", ci.params)\n",
    "print(\"Results:\\n\", ci.results if ci.results is not None else \"No results generated\")\n",
    "print(\"Inferences:\\n\", ci.inferences if ci.inferences is not None else \"No inferences generated\")\n"
   ]
  },
  {
   "cell_type": "code",
   "execution_count": null,
   "id": "07f51ce8",
   "metadata": {},
   "outputs": [],
   "source": [
    "print(\"Pre-period shape:\", time_series.loc[pre_period[0]:pre_period[1]].shape)\n",
    "print(\"Post-period shape:\", time_series.loc[post_period[0]:post_period[1]].shape)\n"
   ]
  },
  {
   "cell_type": "code",
   "execution_count": null,
   "id": "2b0097d2",
   "metadata": {},
   "outputs": [],
   "source": [
    "print(\"NaN values:\", time_series.isna().sum())\n",
    "print(\"Inf values:\", (time_series == np.inf).sum() + (time_series == -np.inf).sum())\n"
   ]
  },
  {
   "cell_type": "code",
   "execution_count": null,
   "id": "39e022d4",
   "metadata": {},
   "outputs": [],
   "source": [
    "print(\"Series Data:\\n\", ci.series.head())\n",
    "print(\"Params:\\n\", ci.params)\n",
    "print(\"Results:\\n\", ci.results if ci.results is not None else \"No results generated\")\n",
    "print(\"Inferences:\\n\", ci.inferences if ci.inferences is not None else \"No inferences generated\")\n"
   ]
  },
  {
   "cell_type": "code",
   "execution_count": null,
   "id": "0b2b5bc8",
   "metadata": {},
   "outputs": [],
   "source": [
    "try:\n",
    "    print(ci_test.summary())\n",
    "except Exception as e:\n",
    "    print(\"Error generating summary:\", e)\n"
   ]
  },
  {
   "cell_type": "code",
   "execution_count": null,
   "id": "718bfcf1",
   "metadata": {},
   "outputs": [],
   "source": [
    "ci_test = CausalImpact(test_series, test_pre_period, test_post_period, model_args={'pymc': False})\n",
    "print(ci_test.summary())\n",
    "ci_test.plot()\n"
   ]
  },
  {
   "cell_type": "code",
   "execution_count": null,
   "id": "50164c3d",
   "metadata": {},
   "outputs": [],
   "source": [
    "try:\n",
    "    ci = CausalImpact(time_series, pre_period, post_period)\n",
    "    print(ci.summary())\n",
    "    ci.plot()\n",
    "except Exception as e:\n",
    "    print(\"Error running CausalImpact:\", e)\n"
   ]
  },
  {
   "cell_type": "code",
   "execution_count": null,
   "id": "aa9f3b9c",
   "metadata": {},
   "outputs": [],
   "source": []
  }
 ],
 "metadata": {
  "kernelspec": {
   "display_name": "Python 3 (ipykernel)",
   "language": "python",
   "name": "python3"
  },
  "language_info": {
   "codemirror_mode": {
    "name": "ipython",
    "version": 3
   },
   "file_extension": ".py",
   "mimetype": "text/x-python",
   "name": "python",
   "nbconvert_exporter": "python",
   "pygments_lexer": "ipython3",
   "version": "3.11.5"
  }
 },
 "nbformat": 4,
 "nbformat_minor": 5
}
