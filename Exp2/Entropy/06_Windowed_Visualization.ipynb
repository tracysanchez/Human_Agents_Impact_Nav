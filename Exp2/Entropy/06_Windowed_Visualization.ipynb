{
 "cells": [
  {
   "cell_type": "code",
   "execution_count": null,
   "id": "4bd52ed5",
   "metadata": {},
   "outputs": [],
   "source": [
    "import pandas as pd \n",
    "import seaborn as sns\n",
    "import matplotlib.pyplot as plt\n",
    "import glob\n",
    "import os"
   ]
  },
  {
   "cell_type": "code",
   "execution_count": null,
   "id": "d654eea0",
   "metadata": {},
   "outputs": [],
   "source": [
    "data_1 = pd.read_csv(\"/Volumes/TwoTeras/0_Experiment_1/Entropy_Results/entropy_log_Window_Building_reduced.csv\")\n",
    "data_2 = pd.read_csv(\"/Volumes/TwoTeras/1_Experiment_2/Entropy_Results/entropy_log_Window_Building_reduced.csv\")"
   ]
  },
  {
   "cell_type": "code",
   "execution_count": null,
   "id": "920cb0a2",
   "metadata": {},
   "outputs": [],
   "source": [
    "# Sort the data\n",
    "stacked_df_ordered = stacked_df.sort_values(by=[\"Participant_ID\", \"Session\", \"Occurrence_Order\"])\n",
    "\n",
    "# Create Encounter_Order\n",
    "stacked_df_ordered[\"Encounter_Order\"] = (\n",
    "    stacked_df_ordered.groupby([\"Participant_ID\", \"Session\", \"Agent_ID\"])\n",
    "    .cumcount() + 1\n",
    ")\n"
   ]
  },
  {
   "cell_type": "code",
   "execution_count": null,
   "id": "bad04440",
   "metadata": {},
   "outputs": [],
   "source": [
    "#stacked_df_ordered = stacked_df_ordered[stacked_df.Overall_Transition_Entropy > 0.01]\n",
    "sns.catplot(x='Encounter_Order', y='Transition_Entropy_Agent_Face', hue='Experiment', data=stacked_df_ordered)"
   ]
  },
  {
   "cell_type": "code",
   "execution_count": null,
   "id": "5072a9ad",
   "metadata": {},
   "outputs": [],
   "source": [
    "# Filter out values less than 0.001\n",
    "filtered_df = stacked_df_ordered[stacked_df_ordered['Transition_Entropy_Agent_Face'] >= 0.001]\n",
    "\n",
    "# Group by Agent_ID, Participant_ID, and Session\n",
    "grouped_by_session = filtered_df.groupby(\n",
    "    ['Agent_ID', 'Agent_Type', 'Participant_ID', 'Session', 'Experiment']\n",
    ")['Transition_Entropy_Agent_Face'].agg(['min', 'max', 'median', 'mean']).reset_index()\n",
    "\n",
    "# Group by Agent_ID and Participant_ID (not separated by Session)\n",
    "grouped_without_session = filtered_df.groupby(\n",
    "    ['Agent_ID', 'Agent_Type', 'Participant_ID', 'Experiment']\n",
    ")['Transition_Entropy_Agent_Face'].agg(['min', 'max', 'median', 'mean']).reset_index()\n",
    "\n",
    "grouped_for_LMM = filtered_df.groupby(\n",
    "    ['Agent_ID', 'Agent_Type', 'Participant_ID', 'Experiment']\n",
    ")['Transition_Entropy_Agent_Face'].agg(['min', 'max', 'median', 'mean']).reset_index()\n"
   ]
  },
  {
   "cell_type": "code",
   "execution_count": null,
   "id": "3f2f7b5a",
   "metadata": {},
   "outputs": [],
   "source": [
    "grouped_for_LMM.head()\n",
    "grouped_for_LMM.to_csv(\"/Volumes/TwoTeras/1_Experiment_2/Entropy_Results/grouped_for_LMM.csv\")"
   ]
  },
  {
   "cell_type": "code",
   "execution_count": null,
   "id": "58d2d16e",
   "metadata": {},
   "outputs": [],
   "source": [
    "# Generate a palette with two colors, one for each experiment\n",
    "experiment_palette = sns.color_palette(\"YlGnBu\", 2)\n",
    "sns.boxplot(data=grouped_by_session, x='Agent_ID', y='mean', hue='Experiment', palette=experiment_palette)"
   ]
  },
  {
   "cell_type": "code",
   "execution_count": null,
   "id": "97939fc0",
   "metadata": {},
   "outputs": [],
   "source": [
    "\n",
    "\n",
    "# Generate a palette with two colors, one for each experiment\n",
    "experiment_palette = sns.color_palette(\"YlGnBu\", 2)\n",
    "grouped_by_session_Active = grouped_by_session[grouped_by_session.Agent_Type == \"Active\"]\n",
    "# Add a new column for Experiment_Type\n",
    "grouped_by_session_Active[\"Experiment_Type\"] = grouped_by_session_Active[\"Experiment\"].apply(lambda x: \"Congruent\" if x == 1 else \"Incongruent\")\n",
    "\n",
    "\n",
    "# Calculate the overall mean of Transition_Entropy_Active_Agent\n",
    "overall_mean = grouped_by_session_Active['mean'].mean()\n",
    "\n",
    "# Plotting combined boxplot\n",
    "plt.figure(figsize=(10, 6))\n",
    "sns.boxplot(data=grouped_by_session, x='Session', y='mean', hue='Experiment', palette=experiment_palette)\n",
    "\n",
    "# Add a red horizontal line for the overall mean\n",
    "plt.axhline(overall_mean, color='red', linestyle='--', linewidth=1.5, label=f'Overall Mean: {overall_mean:.2f}')\n",
    "\n",
    "# Set labels and title\n",
    "plt.title(\"Boxplot of Overall Transitional Entropy for active agents\")\n",
    "plt.xlabel(\"Session\")\n",
    "plt.ylabel(\"Transitional Entropy\")\n",
    "plt.legend(title=\"Experiment\", loc='upper left', bbox_to_anchor=(1.05, 1))\n",
    "plt.tight_layout()\n",
    "plt.show()"
   ]
  },
  {
   "cell_type": "code",
   "execution_count": null,
   "id": "8aa51243",
   "metadata": {},
   "outputs": [],
   "source": [
    "grouped_by_session_active = grouped_by_session[grouped_by_session.Agent_Type == \"Active\"]\n",
    "\n",
    "# Generate a palette with two colors, one for each experiment\n",
    "experiment_palette = sns.color_palette(\"YlGnBu\", 2)\n",
    "\n",
    "# Calculate the overall mean of Transition_Entropy_Active_Agent\n",
    "overall_mean = grouped_by_session_active['mean'].mean()\n",
    "\n",
    "# Plotting combined boxplot\n",
    "plt.figure(figsize=(10, 6))\n",
    "sns.boxplot(data=grouped_by_session_active, x='Session', y='mean', hue='Experiment', palette=experiment_palette)\n",
    "\n",
    "# Add a red horizontal line for the overall mean\n",
    "plt.axhline(overall_mean, color='red', linestyle='--', linewidth=1.5, label=f'Overall Mean: {overall_mean:.2f}')\n",
    "\n",
    "# Set labels and title\n",
    "plt.title(\"Boxplot of Transition Entropy for Agent gazes by Session\")\n",
    "plt.xlabel(\"Session\")\n",
    "plt.ylabel(\"Transitional Entropy\")\n",
    "plt.legend(title=\"Condition\")\n",
    "plt.tight_layout()\n",
    "plt.show()"
   ]
  }
 ],
 "metadata": {
  "kernelspec": {
   "display_name": "Python 3 (ipykernel)",
   "language": "python",
   "name": "python3"
  },
  "language_info": {
   "codemirror_mode": {
    "name": "ipython",
    "version": 3
   },
   "file_extension": ".py",
   "mimetype": "text/x-python",
   "name": "python",
   "nbconvert_exporter": "python",
   "pygments_lexer": "ipython3",
   "version": "3.11.5"
  }
 },
 "nbformat": 4,
 "nbformat_minor": 5
}
