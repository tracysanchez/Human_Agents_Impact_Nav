{
 "cells": [
  {
   "cell_type": "code",
   "execution_count": 1,
   "id": "d228d02f",
   "metadata": {},
   "outputs": [],
   "source": [
    "import pandas as pd \n",
    "import seaborn as sns\n",
    "import matplotlib.pyplot as plt\n",
    "import glob\n",
    "import os"
   ]
  },
  {
   "cell_type": "code",
   "execution_count": 2,
   "id": "18bd06fe",
   "metadata": {},
   "outputs": [
    {
     "name": "stdout",
     "output_type": "stream",
     "text": [
      "<class 'pandas.core.frame.DataFrame'>\n",
      "RangeIndex: 10313 entries, 0 to 10312\n",
      "Data columns (total 22 columns):\n",
      " #   Column                              Non-Null Count  Dtype  \n",
      "---  ------                              --------------  -----  \n",
      " 0   Trial_ID                            10313 non-null  object \n",
      " 1   Collider_Name                       10313 non-null  object \n",
      " 2   Occurrence_Order                    10313 non-null  int64  \n",
      " 3   Gaze_Sequence_Length                10313 non-null  int64  \n",
      " 4   Overall_Transition_Entropy          10313 non-null  float64\n",
      " 5   Transition_Entropy_Background       10313 non-null  float64\n",
      " 6   Stationary_Entropy_Background       10313 non-null  float64\n",
      " 7   Transition_Entropy_Task_Building    10234 non-null  float64\n",
      " 8   Stationary_Entropy_Task_Building    10234 non-null  float64\n",
      " 9   Transition_Entropy_Agent_Body       10230 non-null  float64\n",
      " 10  Stationary_Entropy_Agent_Body       10230 non-null  float64\n",
      " 11  Transition_Entropy_Agent_Face       4364 non-null   float64\n",
      " 12  Stationary_Entropy_Agent_Face       4364 non-null   float64\n",
      " 13  Transition_Entropy_Building         10286 non-null  float64\n",
      " 14  Stationary_Entropy_Building         10286 non-null  float64\n",
      " 15  Transition_Entropy_Global_Landmark  4516 non-null   float64\n",
      " 16  Stationary_Entropy_Global_Landmark  4516 non-null   float64\n",
      " 17  Participant_ID                      10313 non-null  int64  \n",
      " 18  Session                             10313 non-null  int64  \n",
      " 19  Agent_ID                            10313 non-null  int64  \n",
      " 20  Agent_Type                          10313 non-null  object \n",
      " 21  Experiment                          10313 non-null  int64  \n",
      "dtypes: float64(13), int64(6), object(3)\n",
      "memory usage: 1.7+ MB\n"
     ]
    }
   ],
   "source": [
    "# Load the datasets\n",
    "data_1 = pd.read_csv(\"/Volumes/TwoTeras/0_Experiment_1/Entropy_Results/entropy_log_Window_reduced.csv\")\n",
    "data_2 = pd.read_csv(\"/Volumes/TwoTeras/1_Experiment_2/Entropy_Results/entropy_log_Window_reduced.csv\")\n",
    "#data_1 = pd.read_csv(\"/Volumes/TwoTeras/0_Experiment_1/Entropy_Results/entropy_log_Window_Building_reduced.csv\")\n",
    "#data_2 = pd.read_csv(\"/Volumes/TwoTeras/1_Experiment_2/Entropy_Results/entropy_log_Window_Building_reduced.csv\")\n",
    "\n",
    "# Stack the two datasets on top of each other (concatenate rows)\n",
    "stacked_df = pd.concat([data_1, data_2], ignore_index=True)\n",
    "stacked_df.info()"
   ]
  },
  {
   "cell_type": "code",
   "execution_count": 3,
   "id": "468164f8",
   "metadata": {},
   "outputs": [
    {
     "data": {
      "text/plain": [
       "count    10313.000000\n",
       "mean       187.499176\n",
       "std         34.920724\n",
       "min         12.000000\n",
       "25%        176.000000\n",
       "50%        193.000000\n",
       "75%        209.000000\n",
       "max        265.000000\n",
       "Name: Gaze_Sequence_Length, dtype: float64"
      ]
     },
     "execution_count": 3,
     "metadata": {},
     "output_type": "execute_result"
    }
   ],
   "source": [
    "stacked_df.Gaze_Sequence_Length.describe()"
   ]
  },
  {
   "cell_type": "code",
   "execution_count": 4,
   "id": "cb997c30",
   "metadata": {},
   "outputs": [],
   "source": [
    "# Sort the data\n",
    "stacked_df_ordered = stacked_df.sort_values(by=[\"Participant_ID\", \"Session\", \"Occurrence_Order\"])\n",
    "\n",
    "# Create Encounter_Order\n",
    "stacked_df_ordered[\"Encounter_Order\"] = (\n",
    "    stacked_df_ordered.groupby([\"Participant_ID\", \"Session\", \"Agent_ID\"])\n",
    "    .cumcount() + 1\n",
    ")\n"
   ]
  },
  {
   "cell_type": "code",
   "execution_count": 5,
   "id": "6020fd0d",
   "metadata": {},
   "outputs": [
    {
     "name": "stdout",
     "output_type": "stream",
     "text": [
      "<class 'pandas.core.frame.DataFrame'>\n",
      "Index: 10313 entries, 4383 to 9574\n",
      "Data columns (total 23 columns):\n",
      " #   Column                              Non-Null Count  Dtype  \n",
      "---  ------                              --------------  -----  \n",
      " 0   Trial_ID                            10313 non-null  object \n",
      " 1   Collider_Name                       10313 non-null  object \n",
      " 2   Occurrence_Order                    10313 non-null  int64  \n",
      " 3   Gaze_Sequence_Length                10313 non-null  int64  \n",
      " 4   Overall_Transition_Entropy          10313 non-null  float64\n",
      " 5   Transition_Entropy_Background       10313 non-null  float64\n",
      " 6   Stationary_Entropy_Background       10313 non-null  float64\n",
      " 7   Transition_Entropy_Task_Building    10234 non-null  float64\n",
      " 8   Stationary_Entropy_Task_Building    10234 non-null  float64\n",
      " 9   Transition_Entropy_Agent_Body       10230 non-null  float64\n",
      " 10  Stationary_Entropy_Agent_Body       10230 non-null  float64\n",
      " 11  Transition_Entropy_Agent_Face       4364 non-null   float64\n",
      " 12  Stationary_Entropy_Agent_Face       4364 non-null   float64\n",
      " 13  Transition_Entropy_Building         10286 non-null  float64\n",
      " 14  Stationary_Entropy_Building         10286 non-null  float64\n",
      " 15  Transition_Entropy_Global_Landmark  4516 non-null   float64\n",
      " 16  Stationary_Entropy_Global_Landmark  4516 non-null   float64\n",
      " 17  Participant_ID                      10313 non-null  int64  \n",
      " 18  Session                             10313 non-null  int64  \n",
      " 19  Agent_ID                            10313 non-null  int64  \n",
      " 20  Agent_Type                          10313 non-null  object \n",
      " 21  Experiment                          10313 non-null  int64  \n",
      " 22  Encounter_Order                     10313 non-null  int64  \n",
      "dtypes: float64(13), int64(7), object(3)\n",
      "memory usage: 1.9+ MB\n"
     ]
    }
   ],
   "source": [
    "stacked_df_ordered.info()"
   ]
  },
  {
   "cell_type": "code",
   "execution_count": 6,
   "id": "97a63171",
   "metadata": {},
   "outputs": [],
   "source": [
    "#stacked_df_ordered = stacked_df_ordered[stacked_df.Overall_Transition_Entropy > 0.01]"
   ]
  },
  {
   "cell_type": "code",
   "execution_count": 8,
   "id": "2a72fa2f",
   "metadata": {},
   "outputs": [
    {
     "name": "stderr",
     "output_type": "stream",
     "text": [
      "/Users/tracysanchezpacheco/anaconda3/lib/python3.11/site-packages/seaborn/axisgrid.py:118: UserWarning: The figure layout has changed to tight\n",
      "  self._figure.tight_layout(*args, **kwargs)\n"
     ]
    },
    {
     "data": {
      "text/plain": [
       "<seaborn.axisgrid.FacetGrid at 0x135a32690>"
      ]
     },
     "execution_count": 8,
     "metadata": {},
     "output_type": "execute_result"
    },
    {
     "data": {
      "image/png": "[encoded data removed]",
      "text/plain": [
       "<Figure size 591.361x500 with 1 Axes>"
      ]
     },
     "metadata": {},
     "output_type": "display_data"
    }
   ],
   "source": [
    "sns.catplot(x='Encounter_Order', y='Transition_Entropy_Agent_Face', hue='Experiment', data=stacked_df_ordered)"
   ]
  },
  {
   "cell_type": "code",
   "execution_count": 9,
   "id": "c8b66e69",
   "metadata": {},
   "outputs": [],
   "source": [
    "# Filter out values less than 0.001\n",
    "filtered_df = stacked_df_ordered[stacked_df_ordered['Transition_Entropy_Agent_Face'] >= 0.001]\n",
    "\n",
    "# Group by Agent_ID, Participant_ID, and Session\n",
    "grouped_by_session = filtered_df.groupby(\n",
    "    ['Agent_ID', 'Agent_Type', 'Participant_ID', 'Session', 'Experiment']\n",
    ")['Transition_Entropy_Agent_Face'].agg(['min', 'max', 'median', 'mean']).reset_index()\n",
    "\n",
    "# Group by Agent_ID and Participant_ID (not separated by Session)\n",
    "grouped_without_session = filtered_df.groupby(\n",
    "    ['Agent_ID', 'Agent_Type', 'Participant_ID', 'Experiment']\n",
    ")['Transition_Entropy_Agent_Face'].agg(['min', 'max', 'median', 'mean']).reset_index()\n",
    "\n",
    "grouped_for_LMM = filtered_df.groupby(\n",
    "    ['Agent_ID', 'Agent_Type', 'Participant_ID', 'Experiment']\n",
    ")['Transition_Entropy_Agent_Face'].agg(['min', 'max', 'median', 'mean']).reset_index()\n"
   ]
  },
  {
   "cell_type": "code",
   "execution_count": null,
   "id": "a700370d",
   "metadata": {},
   "outputs": [],
   "source": [
    "grouped_for_LMM.head()\n",
    "grouped_for_LMM.to_csv(\"/Volumes/TwoTeras/1_Experiment_2/Entropy_Results/grouped_for_LMM.csv\")"
   ]
  },
  {
   "cell_type": "code",
   "execution_count": null,
   "id": "2f9b656c",
   "metadata": {},
   "outputs": [],
   "source": [
    "# Generate a palette with two colors, one for each experiment\n",
    "experiment_palette = sns.color_palette(\"YlGnBu\", 2)\n",
    "sns.boxplot(data=grouped_by_session, x='Agent_ID', y='mean', hue='Experiment', palette=experiment_palette)"
   ]
  },
  {
   "cell_type": "code",
   "execution_count": null,
   "id": "f6b8d446",
   "metadata": {},
   "outputs": [],
   "source": [
    "Coverage =  pd.read_csv('/Volumes/TwoTeras/Graph_Stuff/CSVs/Unique_NodeVisit_Ratios.csv')\n",
    "# Force 'ParticipantID' to have 4 digits as a string\n",
    "Coverage['ParticipantID'] = Coverage['ParticipantID'].apply(lambda x: f\"{int(x):04d}\")\n",
    "display(Coverage.info())\n",
    "\n",
    "Navigation = pd.read_csv(\"/Volumes/TwoTeras/Resources/Conservative_Explorative.csv\", sep =\",\")\n",
    "Navigation.head()"
   ]
  },
  {
   "cell_type": "code",
   "execution_count": null,
   "id": "aaaec1c5",
   "metadata": {},
   "outputs": [],
   "source": [
    "grouped_by_session.head()"
   ]
  },
  {
   "cell_type": "code",
   "execution_count": 15,
   "id": "750dbe29",
   "metadata": {},
   "outputs": [
    {
     "name": "stderr",
     "output_type": "stream",
     "text": [
      "/var/folders/3p/lxg47mnx0ks_st66vkzkx1640000gn/T/ipykernel_24522/4235266660.py:5: SettingWithCopyWarning: \n",
      "A value is trying to be set on a copy of a slice from a DataFrame.\n",
      "Try using .loc[row_indexer,col_indexer] = value instead\n",
      "\n",
      "See the caveats in the documentation: https://pandas.pydata.org/pandas-docs/stable/user_guide/indexing.html#returning-a-view-versus-a-copy\n",
      "  grouped_by_session_Active[\"Experiment_Type\"] = grouped_by_session_Active[\"Experiment\"].apply(lambda x: \"Congruent\" if x == 1 else \"Incongruent\")\n"
     ]
    },
    {
     "data": {
      "image/png": "[encoded data removed]",
      "text/plain": [
       "<Figure size 1000x600 with 1 Axes>"
      ]
     },
     "metadata": {},
     "output_type": "display_data"
    }
   ],
   "source": [
    "\n",
    "\n",
    "# Generate a palette with two colors, one for each experiment\n",
    "experiment_palette = sns.color_palette(\"YlGnBu\", 2)\n",
    "grouped_by_session_Active = grouped_by_session[grouped_by_session.Agent_Type == \"Active\"]\n",
    "# Add a new column for Experiment_Type\n",
    "grouped_by_session_Active[\"Experiment_Type\"] = grouped_by_session_Active[\"Experiment\"].apply(lambda x: \"Congruent\" if x == 1 else \"Incongruent\")\n",
    "\n",
    "\n",
    "# Calculate the overall mean of Transition_Entropy_Active_Agent\n",
    "overall_mean = grouped_by_session_Active['mean'].mean()\n",
    "\n",
    "# Plotting combined boxplot\n",
    "plt.figure(figsize=(10, 6))\n",
    "sns.boxplot(data=grouped_by_session, x='Session', y='mean', hue='Experiment', palette=experiment_palette)\n",
    "\n",
    "# Add a red horizontal line for the overall mean\n",
    "plt.axhline(overall_mean, color='red', linestyle='--', linewidth=1.5, label=f'Overall Mean: {overall_mean:.2f}')\n",
    "\n",
    "# Set labels and title\n",
    "plt.title(\"Boxplot of Overall Transitional Entropy for active agents\")\n",
    "plt.xlabel(\"Session\")\n",
    "plt.ylabel(\"Transitional Entropy\")\n",
    "plt.legend(title=\"Experiment\", loc='upper left', bbox_to_anchor=(1.05, 1))\n",
    "plt.tight_layout()\n",
    "plt.show()"
   ]
  },
  {
   "cell_type": "code",
   "execution_count": null,
   "id": "feaea758",
   "metadata": {},
   "outputs": [],
   "source": [
    "# Generate color lists from YlGnBu palette based on the number of unique sessions\n",
    "num_sessions_1 = data_1['SessionNr'].nunique()\n",
    "num_sessions_2 = data_2['SessionNr'].nunique()\n",
    "palette = sns.color_palette(\"YlGnBu\", max(num_sessions_1, num_sessions_2))\n",
    "\n",
    "# Create subplots for side-by-side boxplots\n",
    "fig, axes = plt.subplots(1, 2, figsize=(20, 16), sharey=True)\n",
    "\n",
    "# Boxplot for Experiment 1\n",
    "sns.boxplot(data=data_1, x='SessionNr', y='Overall_Transition_Entropy', ax=axes[0], palette=palette[:num_sessions_1])\n",
    "axes[0].set_title(\"Boxplot Transition Entropy for Agent gazes by Session (Experiment 1)\")\n",
    "axes[0].set_xlabel(\"Session\")\n",
    "axes[0].set_ylabel(\"Stationary Entropy\")\n",
    "\n",
    "# Boxplot for Experiment 2\n",
    "sns.boxplot(data=data_2, x='SessionNr', y='Overall_Transition_Entropy', ax=axes[1], palette=palette[:num_sessions_2])\n",
    "axes[1].set_title(\"Boxplot of Transition Entropy for Agent gazes by Session (Experiment 2)\")\n",
    "axes[1].set_xlabel(\"Session\")\n",
    "\n",
    "plt.tight_layout()\n",
    "plt.show()\n"
   ]
  },
  {
   "cell_type": "code",
   "execution_count": null,
   "id": "72422a70",
   "metadata": {},
   "outputs": [],
   "source": [
    "grouped_by_session_active = grouped_by_session[grouped_by_session.Agent_Type == \"Active\"]\n",
    "\n",
    "# Generate a palette with two colors, one for each experiment\n",
    "experiment_palette = sns.color_palette(\"YlGnBu\", 2)\n",
    "\n",
    "# Calculate the overall mean of Transition_Entropy_Active_Agent\n",
    "overall_mean = grouped_by_session_active['mean'].mean()\n",
    "\n",
    "# Plotting combined boxplot\n",
    "plt.figure(figsize=(10, 6))\n",
    "sns.boxplot(data=grouped_by_session_active, x='Session', y='mean', hue='Experiment', palette=experiment_palette)\n",
    "\n",
    "# Add a red horizontal line for the overall mean\n",
    "plt.axhline(overall_mean, color='red', linestyle='--', linewidth=1.5, label=f'Overall Mean: {overall_mean:.2f}')\n",
    "\n",
    "# Set labels and title\n",
    "plt.title(\"Boxplot of Transition Entropy for Agent gazes by Session\")\n",
    "plt.xlabel(\"Session\")\n",
    "plt.ylabel(\"Transitional Entropy\")\n",
    "plt.legend(title=\"Condition\")\n",
    "plt.tight_layout()\n",
    "plt.show()"
   ]
  },
  {
   "cell_type": "code",
   "execution_count": 11,
   "id": "3f843798",
   "metadata": {},
   "outputs": [
    {
     "ename": "KeyError",
     "evalue": "'SessionNr'",
     "output_type": "error",
     "traceback": [
      "\u001b[0;31m---------------------------------------------------------------------------\u001b[0m",
      "\u001b[0;31mKeyError\u001b[0m                                  Traceback (most recent call last)",
      "File \u001b[0;32m~/anaconda3/lib/python3.11/site-packages/pandas/core/indexes/base.py:3653\u001b[0m, in \u001b[0;36mIndex.get_loc\u001b[0;34m(self, key)\u001b[0m\n\u001b[1;32m   3652\u001b[0m \u001b[38;5;28;01mtry\u001b[39;00m:\n\u001b[0;32m-> 3653\u001b[0m     \u001b[38;5;28;01mreturn\u001b[39;00m \u001b[38;5;28mself\u001b[39m\u001b[38;5;241m.\u001b[39m_engine\u001b[38;5;241m.\u001b[39mget_loc(casted_key)\n\u001b[1;32m   3654\u001b[0m \u001b[38;5;28;01mexcept\u001b[39;00m \u001b[38;5;167;01mKeyError\u001b[39;00m \u001b[38;5;28;01mas\u001b[39;00m err:\n",
      "File \u001b[0;32m~/anaconda3/lib/python3.11/site-packages/pandas/_libs/index.pyx:147\u001b[0m, in \u001b[0;36mpandas._libs.index.IndexEngine.get_loc\u001b[0;34m()\u001b[0m\n",
      "File \u001b[0;32m~/anaconda3/lib/python3.11/site-packages/pandas/_libs/index.pyx:176\u001b[0m, in \u001b[0;36mpandas._libs.index.IndexEngine.get_loc\u001b[0;34m()\u001b[0m\n",
      "File \u001b[0;32mpandas/_libs/hashtable_class_helper.pxi:7080\u001b[0m, in \u001b[0;36mpandas._libs.hashtable.PyObjectHashTable.get_item\u001b[0;34m()\u001b[0m\n",
      "File \u001b[0;32mpandas/_libs/hashtable_class_helper.pxi:7088\u001b[0m, in \u001b[0;36mpandas._libs.hashtable.PyObjectHashTable.get_item\u001b[0;34m()\u001b[0m\n",
      "\u001b[0;31mKeyError\u001b[0m: 'SessionNr'",
      "\nThe above exception was the direct cause of the following exception:\n",
      "\u001b[0;31mKeyError\u001b[0m                                  Traceback (most recent call last)",
      "Cell \u001b[0;32mIn[11], line 10\u001b[0m\n\u001b[1;32m      7\u001b[0m combined_data \u001b[38;5;241m=\u001b[39m pd\u001b[38;5;241m.\u001b[39mconcat([data_1, data_2])\n\u001b[1;32m      9\u001b[0m \u001b[38;5;66;03m# Number of unique sessions in both experiments\u001b[39;00m\n\u001b[0;32m---> 10\u001b[0m num_sessions_1 \u001b[38;5;241m=\u001b[39m data_1[\u001b[38;5;124m'\u001b[39m\u001b[38;5;124mSessionNr\u001b[39m\u001b[38;5;124m'\u001b[39m]\u001b[38;5;241m.\u001b[39mnunique()\n\u001b[1;32m     11\u001b[0m num_sessions_2 \u001b[38;5;241m=\u001b[39m data_2[\u001b[38;5;124m'\u001b[39m\u001b[38;5;124mSessionNr\u001b[39m\u001b[38;5;124m'\u001b[39m]\u001b[38;5;241m.\u001b[39mnunique()\n\u001b[1;32m     13\u001b[0m \u001b[38;5;66;03m# Generate a palette with two colors, one for each experiment\u001b[39;00m\n",
      "File \u001b[0;32m~/anaconda3/lib/python3.11/site-packages/pandas/core/frame.py:3761\u001b[0m, in \u001b[0;36mDataFrame.__getitem__\u001b[0;34m(self, key)\u001b[0m\n\u001b[1;32m   3759\u001b[0m \u001b[38;5;28;01mif\u001b[39;00m \u001b[38;5;28mself\u001b[39m\u001b[38;5;241m.\u001b[39mcolumns\u001b[38;5;241m.\u001b[39mnlevels \u001b[38;5;241m>\u001b[39m \u001b[38;5;241m1\u001b[39m:\n\u001b[1;32m   3760\u001b[0m     \u001b[38;5;28;01mreturn\u001b[39;00m \u001b[38;5;28mself\u001b[39m\u001b[38;5;241m.\u001b[39m_getitem_multilevel(key)\n\u001b[0;32m-> 3761\u001b[0m indexer \u001b[38;5;241m=\u001b[39m \u001b[38;5;28mself\u001b[39m\u001b[38;5;241m.\u001b[39mcolumns\u001b[38;5;241m.\u001b[39mget_loc(key)\n\u001b[1;32m   3762\u001b[0m \u001b[38;5;28;01mif\u001b[39;00m is_integer(indexer):\n\u001b[1;32m   3763\u001b[0m     indexer \u001b[38;5;241m=\u001b[39m [indexer]\n",
      "File \u001b[0;32m~/anaconda3/lib/python3.11/site-packages/pandas/core/indexes/base.py:3655\u001b[0m, in \u001b[0;36mIndex.get_loc\u001b[0;34m(self, key)\u001b[0m\n\u001b[1;32m   3653\u001b[0m     \u001b[38;5;28;01mreturn\u001b[39;00m \u001b[38;5;28mself\u001b[39m\u001b[38;5;241m.\u001b[39m_engine\u001b[38;5;241m.\u001b[39mget_loc(casted_key)\n\u001b[1;32m   3654\u001b[0m \u001b[38;5;28;01mexcept\u001b[39;00m \u001b[38;5;167;01mKeyError\u001b[39;00m \u001b[38;5;28;01mas\u001b[39;00m err:\n\u001b[0;32m-> 3655\u001b[0m     \u001b[38;5;28;01mraise\u001b[39;00m \u001b[38;5;167;01mKeyError\u001b[39;00m(key) \u001b[38;5;28;01mfrom\u001b[39;00m \u001b[38;5;21;01merr\u001b[39;00m\n\u001b[1;32m   3656\u001b[0m \u001b[38;5;28;01mexcept\u001b[39;00m \u001b[38;5;167;01mTypeError\u001b[39;00m:\n\u001b[1;32m   3657\u001b[0m     \u001b[38;5;66;03m# If we have a listlike key, _check_indexing_error will raise\u001b[39;00m\n\u001b[1;32m   3658\u001b[0m     \u001b[38;5;66;03m#  InvalidIndexError. Otherwise we fall through and re-raise\u001b[39;00m\n\u001b[1;32m   3659\u001b[0m     \u001b[38;5;66;03m#  the TypeError.\u001b[39;00m\n\u001b[1;32m   3660\u001b[0m     \u001b[38;5;28mself\u001b[39m\u001b[38;5;241m.\u001b[39m_check_indexing_error(key)\n",
      "\u001b[0;31mKeyError\u001b[0m: 'SessionNr'"
     ]
    }
   ],
   "source": [
    "# Assuming data_1 and data_2 are already defined DataFrames for Experiment 1 and 2\n",
    "# Add a column to each DataFrame to identify the experiment\n",
    "data_1['Experiment'] = 'Experiment_1'\n",
    "data_2['Experiment'] = 'Experiment_2'\n",
    "\n",
    "# Concatenate the two DataFrames\n",
    "combined_data = pd.concat([data_1, data_2])\n",
    "\n",
    "# Number of unique sessions in both experiments\n",
    "num_sessions_1 = data_1['SessionNr'].nunique()\n",
    "num_sessions_2 = data_2['SessionNr'].nunique()\n",
    "\n",
    "# Generate a palette with two colors, one for each experiment\n",
    "experiment_palette = sns.color_palette(\"YlGnBu\", 2)\n",
    "\n",
    "# Calculate the overall mean of Transition_Entropy_Active_Agent\n",
    "overall_mean = combined_data['Transition_Entropy_Active_Agent'].mean()\n",
    "\n",
    "# Plotting combined boxplot\n",
    "plt.figure(figsize=(10, 6))\n",
    "sns.boxplot(data=combined_data, x='SessionNr', y='Transition_Entropy_Active_Agent', hue='Experiment', palette=experiment_palette)\n",
    "\n",
    "# Add a red horizontal line for the overall mean\n",
    "plt.axhline(overall_mean, color='red', linestyle='--', linewidth=1.5, label=f'Overall Mean: {overall_mean:.2f}')\n",
    "\n",
    "# Set labels and title\n",
    "plt.title(\"Boxplot of Transition Entropy for Agent gazes by Session\")\n",
    "plt.xlabel(\"Session\")\n",
    "plt.ylabel(\"Transitional Entropy\")\n",
    "plt.legend(title=\"Condition\")\n",
    "plt.tight_layout()\n",
    "plt.show()"
   ]
  },
  {
   "cell_type": "code",
   "execution_count": null,
   "id": "f2655d84",
   "metadata": {},
   "outputs": [],
   "source": [
    "# Assuming data_1 and data_2 are already defined DataFrames for Experiment 1 and 2\n",
    "# Add a column to each DataFrame to identify the experiment\n",
    "data_1['Condition'] = 'Congruent'\n",
    "data_2['Condition'] = 'Incongruent'\n",
    "\n",
    "# Concatenate the two DataFrames\n",
    "combined_data = pd.concat([data_1, data_2])\n",
    "\n",
    "# Number of unique sessions in both experiments\n",
    "num_sessions_1 = data_1['SessionNr'].nunique()\n",
    "num_sessions_2 = data_2['SessionNr'].nunique()\n",
    "\n",
    "# Generate a palette with two colors, one for each experiment\n",
    "experiment_palette = sns.color_palette(\"YlGnBu\", 2)\n",
    "\n",
    "# Calculate the overall mean of Transition_Entropy_Active_Agent\n",
    "overall_mean = combined_data['Transition_Entropy_TaskBuilding_Public'].mean()\n",
    "\n",
    "# Plotting combined boxplot\n",
    "plt.figure(figsize=(10, 6))\n",
    "sns.boxplot(data=combined_data, x='SessionNr', y='Transition_Entropy_TaskBuilding_Public', hue='Condition', palette=experiment_palette)\n",
    "\n",
    "# Add a red horizontal line for the overall mean\n",
    "plt.axhline(overall_mean, color='red', linestyle='--', linewidth=1.5, label=f'Overall Mean: {overall_mean:.2f}')\n",
    "\n",
    "# Set labels and title\n",
    "plt.title(\"Boxplot of Transition Entropy for Building_Public by Session\")\n",
    "plt.xlabel(\"Session\")\n",
    "plt.ylabel(\"Transitional Entropy\")\n",
    "plt.legend(title=\"Condition\")\n",
    "plt.tight_layout()\n",
    "plt.show()"
   ]
  },
  {
   "cell_type": "code",
   "execution_count": null,
   "id": "55a3f1de",
   "metadata": {},
   "outputs": [],
   "source": [
    "# Assuming data_1 and data_2 are already defined DataFrames for Experiment 1 and 2\n",
    "# Add a column to each DataFrame to identify the experiment\n",
    "data_1['Condition'] = 'Congruent'\n",
    "data_2['Condition'] = 'Incongruent'\n",
    "\n",
    "# Concatenate the two DataFrames\n",
    "combined_data = pd.concat([data_1, data_2])\n",
    "\n",
    "# Number of unique sessions in both experiments\n",
    "num_sessions_1 = data_1['SessionNr'].nunique()\n",
    "num_sessions_2 = data_2['SessionNr'].nunique()\n",
    "\n",
    "# Generate a palette with two colors, one for each experiment\n",
    "experiment_palette = sns.color_palette(\"YlGnBu\", 2)\n",
    "\n",
    "# Calculate the overall mean of Transition_Entropy_Active_Agent\n",
    "overall_mean = combined_data['Transition_Entropy_Background'].mean()\n",
    "\n",
    "# Plotting combined boxplot\n",
    "plt.figure(figsize=(10, 6))\n",
    "sns.boxplot(data=combined_data, x='SessionNr', y='Transition_Entropy_Background', hue='Condition', palette=experiment_palette)\n",
    "\n",
    "# Add a red horizontal line for the overall mean\n",
    "plt.axhline(overall_mean, color='red', linestyle='--', linewidth=1.5, label=f'Overall Mean: {overall_mean:.2f}')\n",
    "\n",
    "# Set labels and title\n",
    "plt.title(\"Boxplot of Transition Entropy for Background gazes by Session\")\n",
    "plt.xlabel(\"Session\")\n",
    "plt.ylabel(\"Transitional Entropy\")\n",
    "plt.legend(title=\"Condition\")\n",
    "plt.tight_layout()\n",
    "plt.show()"
   ]
  },
  {
   "cell_type": "code",
   "execution_count": null,
   "id": "70066a08",
   "metadata": {},
   "outputs": [],
   "source": [
    "Navigation = pd.read_csv(\"/Volumes/TwoTeras/Resources/Conservative_Explorative.csv\", sep =\",\")\n",
    "Navigation_Explor = Navigation[Navigation.Strategy == \"Explorative\"]\n",
    "Navigation_Explor_Agent = Navigation[(Navigation.Strategy == \"Explorative\") & (Navigation.Decision == \"AgentAtChosen\")]\n",
    "Exploration = pd.DataFrame(Navigation_Explor.groupby([\"ParticipantId\", \"Session\"])[\"StrategyPerc\"].mean())\n",
    "Exploration.reset_index(inplace=True)\n",
    "Exploration_Agent = pd.DataFrame(Navigation_Explor_Agent.groupby([\"ParticipantId\", \"Session\"])[\"StrategyPerc\"].mean())\n",
    "Exploration_Agent.reset_index(inplace=True)\n",
    "Exploration_Complete = pd.merge(Exploration, Exploration_Agent, on=['ParticipantId', 'Session'])\n",
    "Exploration_Complete.rename({\"ParticipantId\": 'ParticipantID', \"Session\": \"SessionNr\", \"StrategyPerc_x\": \"Exploration_General\", \"StrategyPerc_y\": \"Exploration_Agent\", }, axis=1, inplace=True)\n",
    "Exploration_Complete['ParticipantID'] = Exploration_Complete['ParticipantID'].apply(lambda x: f\"{int(x):04d}\")\n",
    "Exploration_Complete.head()"
   ]
  },
  {
   "cell_type": "code",
   "execution_count": null,
   "id": "145c86d3",
   "metadata": {},
   "outputs": [],
   "source": [
    "# Generate color lists from YlGnBu palette based on the number of unique sessions\n",
    "num_sessions_1 = data_1['SessionNr'].nunique()\n",
    "num_sessions_2 = data_2['SessionNr'].nunique()\n",
    "palette = sns.color_palette(\"YlGnBu\", max(num_sessions_1, num_sessions_2))\n",
    "\n",
    "# Create subplots for side-by-side KDE plots\n",
    "fig, axes = plt.subplots(1, 2, figsize=(16, 6), sharey=True)\n",
    "\n",
    "# KDE for Experiment 1\n",
    "sns.kdeplot(data=data_1, x='Overall_Transition_Entropy', hue='SessionNr', fill=True, ax=axes[0],\n",
    "            palette=palette[:num_sessions_1])\n",
    "axes[0].set_title(\"KDE Plot of Stationary Entropy by Session (Experiment 1)\")\n",
    "axes[0].set_xlabel(\"Transition Entropy\")\n",
    "axes[0].set_ylabel(\"Density\")\n",
    "\n",
    "# KDE for Experiment 2\n",
    "sns.kdeplot(data=data_2, x='Overall_Transition_Entropy', hue='SessionNr', fill=True, ax=axes[1],\n",
    "            palette=palette[:num_sessions_2])\n",
    "axes[1].set_title(\"KDE Plot of Stationary Entropy by Session (Experiment 2)\")\n",
    "axes[1].set_xlabel(\"Transition Entropy\")\n",
    "\n",
    "plt.tight_layout()\n",
    "plt.show()\n"
   ]
  },
  {
   "cell_type": "code",
   "execution_count": null,
   "id": "3d70c3ba",
   "metadata": {},
   "outputs": [],
   "source": [
    "# Merging the dataframes on 'SubjectID' and 'SessionNr'\n",
    "merged_df = pd.merge(stacked_df, Coverage, on=['ParticipantID', 'SessionNr'])\n",
    "Exploration_Entropy = pd.merge(merged_df, Exploration_Complete, on=['ParticipantID', 'SessionNr']) \n",
    "Exploration_Entropy.head()"
   ]
  },
  {
   "cell_type": "code",
   "execution_count": null,
   "id": "04b0b4b6",
   "metadata": {},
   "outputs": [],
   "source": [
    "Corr = Exploration_Entropy[[\"Exploration_General\", \"Exploration_Agent\", \"Stationary_Entropy_Passive_Agent\",  \"Stationary_Entropy_Active_Agent\"]].corr()\n",
    "# Plot the heatmap\n",
    "plt.figure(figsize=(8, 6))\n",
    "sns.heatmap(Corr, annot=True, cmap=\"coolwarm\", square=True, cbar_kws={'shrink': .8}, fmt=\".2f\")\n",
    "plt.title(\"Correlation Matrix Heatmap\")\n",
    "plt.show()"
   ]
  },
  {
   "cell_type": "code",
   "execution_count": null,
   "id": "62a35421",
   "metadata": {},
   "outputs": [],
   "source": [
    "plt.figure(figsize=(25,15))\n",
    "sns.set(font_scale = 1.3)\n",
    "sns.regplot(x='Stationary_Entropy_Active_Agent', y='Exploration_General',\n",
    "                data=Exploration_Entropy)\n",
    "sns.regplot(x='Stationary_Entropy_Active_Agent', y='Exploration_Agent',\n",
    "                data=Exploration_Entropy)"
   ]
  }
 ],
 "metadata": {
  "kernelspec": {
   "display_name": "Python 3 (ipykernel)",
   "language": "python",
   "name": "python3"
  },
  "language_info": {
   "codemirror_mode": {
    "name": "ipython",
    "version": 3
   },
   "file_extension": ".py",
   "mimetype": "text/x-python",
   "name": "python",
   "nbconvert_exporter": "python",
   "pygments_lexer": "ipython3",
   "version": "3.11.5"
  }
 },
 "nbformat": 4,
 "nbformat_minor": 5
}
